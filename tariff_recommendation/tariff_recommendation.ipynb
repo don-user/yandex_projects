{
 "cells": [
  {
   "cell_type": "markdown",
   "metadata": {},
   "source": [
    "# Рекомендация тарифов"
   ]
  },
  {
   "cell_type": "markdown",
   "metadata": {},
   "source": [
    "В нашем распоряжении данные о поведении клиентов, которые уже перешли на эти тарифы (из проекта курса «Статистический анализ данных»). Нужно построить модель для задачи классификации, которая выберет подходящий тариф. Предобработка данных не понадобится — вы её уже сделали.\n",
    "\n",
    "Необходимо построить модель с максимально большим значением *accuracy* и довести долю правильных ответов по крайней мере до 0.75. "
   ]
  },
  {
   "cell_type": "markdown",
   "metadata": {},
   "source": [
    "## Откроем и изучим файл"
   ]
  },
  {
   "cell_type": "markdown",
   "metadata": {},
   "source": [
    "Импортируем необходимые библиотеки"
   ]
  },
  {
   "cell_type": "code",
   "execution_count": 1,
   "metadata": {},
   "outputs": [],
   "source": [
    "import pandas as pd\n",
    "import seaborn as sns\n",
    "import matplotlib.pyplot as plt\n",
    "#для разделения выборки\n",
    "from sklearn.model_selection import train_test_split\n",
    "#для работы с деревом решений\n",
    "from sklearn.tree import DecisionTreeClassifier\n",
    "#для расчета доли правильных ответов\n",
    "from sklearn.metrics import accuracy_score\n",
    "#для работы с Логистической регресией\n",
    "from sklearn.linear_model import LogisticRegression\n",
    "#для работы со случайным лесом\n",
    "from sklearn.ensemble import RandomForestClassifier\n",
    "#построения модели для проверки на адекватность\n",
    "from sklearn.dummy import DummyClassifier\n",
    "#для работы с параметрами классификаторов\n",
    "from sklearn.model_selection import GridSearchCV\n",
    "#для корректного отображения через display\n",
    "from IPython.display import display\n",
    "\n",
    "#уменьшить запись чисел с после плавающей точки в таблицах\n",
    "pd.set_option('display.float_format', lambda x: '%.3f' % x)"
   ]
  },
  {
   "cell_type": "markdown",
   "metadata": {},
   "source": [
    "Создадим словарь с основными названиями графиков"
   ]
  },
  {
   "cell_type": "code",
   "execution_count": 23,
   "metadata": {},
   "outputs": [],
   "source": [
    "dict_name = {\n",
    "    'distribution_main_features' : 'Распределение данных с учетом целевого признака',\n",
    "    'accuracy_depth_tree' : 'Качество модели в зависимости от глубины дерева решений',\n",
    "    'accuracy_n_estimators' : 'Качество модели в зависимости от числа деревьев решений',\n",
    "    'accuracy_solver' : 'Качество модели в зависимости от гиперпараметра solver'\n",
    "}"
   ]
  },
  {
   "cell_type": "markdown",
   "metadata": {},
   "source": [
    "Загрузим данные датасета и посмотрим первичную информацию"
   ]
  },
  {
   "cell_type": "code",
   "execution_count": 3,
   "metadata": {},
   "outputs": [
    {
     "data": {
      "text/html": [
       "<div>\n",
       "<style scoped>\n",
       "    .dataframe tbody tr th:only-of-type {\n",
       "        vertical-align: middle;\n",
       "    }\n",
       "\n",
       "    .dataframe tbody tr th {\n",
       "        vertical-align: top;\n",
       "    }\n",
       "\n",
       "    .dataframe thead th {\n",
       "        text-align: right;\n",
       "    }\n",
       "</style>\n",
       "<table border=\"1\" class=\"dataframe\">\n",
       "  <thead>\n",
       "    <tr style=\"text-align: right;\">\n",
       "      <th></th>\n",
       "      <th>calls</th>\n",
       "      <th>minutes</th>\n",
       "      <th>messages</th>\n",
       "      <th>mb_used</th>\n",
       "      <th>is_ultra</th>\n",
       "    </tr>\n",
       "  </thead>\n",
       "  <tbody>\n",
       "    <tr>\n",
       "      <th>0</th>\n",
       "      <td>40.000</td>\n",
       "      <td>311.900</td>\n",
       "      <td>83.000</td>\n",
       "      <td>19915.420</td>\n",
       "      <td>0</td>\n",
       "    </tr>\n",
       "    <tr>\n",
       "      <th>1</th>\n",
       "      <td>85.000</td>\n",
       "      <td>516.750</td>\n",
       "      <td>56.000</td>\n",
       "      <td>22696.960</td>\n",
       "      <td>0</td>\n",
       "    </tr>\n",
       "    <tr>\n",
       "      <th>2</th>\n",
       "      <td>77.000</td>\n",
       "      <td>467.660</td>\n",
       "      <td>86.000</td>\n",
       "      <td>21060.450</td>\n",
       "      <td>0</td>\n",
       "    </tr>\n",
       "    <tr>\n",
       "      <th>3</th>\n",
       "      <td>106.000</td>\n",
       "      <td>745.530</td>\n",
       "      <td>81.000</td>\n",
       "      <td>8437.390</td>\n",
       "      <td>1</td>\n",
       "    </tr>\n",
       "    <tr>\n",
       "      <th>4</th>\n",
       "      <td>66.000</td>\n",
       "      <td>418.740</td>\n",
       "      <td>1.000</td>\n",
       "      <td>14502.750</td>\n",
       "      <td>0</td>\n",
       "    </tr>\n",
       "  </tbody>\n",
       "</table>\n",
       "</div>"
      ],
      "text/plain": [
       "    calls  minutes  messages   mb_used  is_ultra\n",
       "0  40.000  311.900    83.000 19915.420         0\n",
       "1  85.000  516.750    56.000 22696.960         0\n",
       "2  77.000  467.660    86.000 21060.450         0\n",
       "3 106.000  745.530    81.000  8437.390         1\n",
       "4  66.000  418.740     1.000 14502.750         0"
      ]
     },
     "metadata": {},
     "output_type": "display_data"
    }
   ],
   "source": [
    "df = pd.read_csv('/datasets/users_behavior.csv')\n",
    "display(df.head())"
   ]
  },
  {
   "cell_type": "code",
   "execution_count": 4,
   "metadata": {
    "scrolled": false
   },
   "outputs": [
    {
     "name": "stdout",
     "output_type": "stream",
     "text": [
      "<class 'pandas.core.frame.DataFrame'>\n",
      "RangeIndex: 3214 entries, 0 to 3213\n",
      "Data columns (total 5 columns):\n",
      " #   Column    Non-Null Count  Dtype  \n",
      "---  ------    --------------  -----  \n",
      " 0   calls     3214 non-null   float64\n",
      " 1   minutes   3214 non-null   float64\n",
      " 2   messages  3214 non-null   float64\n",
      " 3   mb_used   3214 non-null   float64\n",
      " 4   is_ultra  3214 non-null   int64  \n",
      "dtypes: float64(4), int64(1)\n",
      "memory usage: 125.7 KB\n"
     ]
    },
    {
     "data": {
      "text/plain": [
       "None"
      ]
     },
     "metadata": {},
     "output_type": "display_data"
    }
   ],
   "source": [
    "display(df.info())"
   ]
  },
  {
   "cell_type": "markdown",
   "metadata": {},
   "source": [
    "Датасет содержит 3214 значений, пять колонок:  \n",
    "- сalls — количество звонков,\n",
    "- minutes — суммарная длительность звонков в минутах,\n",
    "- messages — количество sms-сообщений,\n",
    "- mb_used — израсходованный интернет-трафик в Мб,\n",
    "- is_ultra — каким тарифом пользовался в течение месяца («Ультра» — 1, «Смарт» — 0).  \n",
    "\n",
    "Пустых значений нет, наименование столбцов соотвествуют стандартам snake_case, типы данных соотвествуют значениями.\n",
    "\n",
    "Рассмотрим распределение данных в датасете с учетом целевого признака."
   ]
  },
  {
   "cell_type": "code",
   "execution_count": 24,
   "metadata": {
    "scrolled": false
   },
   "outputs": [
    {
     "data": {
      "image/png": "[encoded data removed]",
      "text/plain": [
       "<Figure size 764.5x720 with 20 Axes>"
      ]
     },
     "metadata": {
      "needs_background": "light"
     },
     "output_type": "display_data"
    }
   ],
   "source": [
    "#выводим графики \n",
    "sns.pairplot(df, hue='is_ultra')\n",
    "plt.suptitle(dict_name.get('distribution_main_features'), y=1.05) \n",
    "plt.show()"
   ]
  },
  {
   "cell_type": "markdown",
   "metadata": {},
   "source": [
    "Рассмотрим основные статистические данные в основных признаках:"
   ]
  },
  {
   "cell_type": "code",
   "execution_count": 6,
   "metadata": {
    "scrolled": true
   },
   "outputs": [
    {
     "data": {
      "text/html": [
       "<div>\n",
       "<style scoped>\n",
       "    .dataframe tbody tr th:only-of-type {\n",
       "        vertical-align: middle;\n",
       "    }\n",
       "\n",
       "    .dataframe tbody tr th {\n",
       "        vertical-align: top;\n",
       "    }\n",
       "\n",
       "    .dataframe thead th {\n",
       "        text-align: right;\n",
       "    }\n",
       "</style>\n",
       "<table border=\"1\" class=\"dataframe\">\n",
       "  <thead>\n",
       "    <tr style=\"text-align: right;\">\n",
       "      <th></th>\n",
       "      <th>calls</th>\n",
       "      <th>minutes</th>\n",
       "      <th>messages</th>\n",
       "      <th>mb_used</th>\n",
       "    </tr>\n",
       "  </thead>\n",
       "  <tbody>\n",
       "    <tr>\n",
       "      <th>count</th>\n",
       "      <td>3214.000</td>\n",
       "      <td>3214.000</td>\n",
       "      <td>3214.000</td>\n",
       "      <td>3214.000</td>\n",
       "    </tr>\n",
       "    <tr>\n",
       "      <th>mean</th>\n",
       "      <td>63.039</td>\n",
       "      <td>438.209</td>\n",
       "      <td>38.281</td>\n",
       "      <td>17207.674</td>\n",
       "    </tr>\n",
       "    <tr>\n",
       "      <th>std</th>\n",
       "      <td>33.236</td>\n",
       "      <td>234.570</td>\n",
       "      <td>36.148</td>\n",
       "      <td>7570.968</td>\n",
       "    </tr>\n",
       "    <tr>\n",
       "      <th>min</th>\n",
       "      <td>0.000</td>\n",
       "      <td>0.000</td>\n",
       "      <td>0.000</td>\n",
       "      <td>0.000</td>\n",
       "    </tr>\n",
       "    <tr>\n",
       "      <th>25%</th>\n",
       "      <td>40.000</td>\n",
       "      <td>274.575</td>\n",
       "      <td>9.000</td>\n",
       "      <td>12491.903</td>\n",
       "    </tr>\n",
       "    <tr>\n",
       "      <th>50%</th>\n",
       "      <td>62.000</td>\n",
       "      <td>430.600</td>\n",
       "      <td>30.000</td>\n",
       "      <td>16943.235</td>\n",
       "    </tr>\n",
       "    <tr>\n",
       "      <th>75%</th>\n",
       "      <td>82.000</td>\n",
       "      <td>571.927</td>\n",
       "      <td>57.000</td>\n",
       "      <td>21424.700</td>\n",
       "    </tr>\n",
       "    <tr>\n",
       "      <th>max</th>\n",
       "      <td>244.000</td>\n",
       "      <td>1632.060</td>\n",
       "      <td>224.000</td>\n",
       "      <td>49745.730</td>\n",
       "    </tr>\n",
       "  </tbody>\n",
       "</table>\n",
       "</div>"
      ],
      "text/plain": [
       "         calls  minutes  messages   mb_used\n",
       "count 3214.000 3214.000  3214.000  3214.000\n",
       "mean    63.039  438.209    38.281 17207.674\n",
       "std     33.236  234.570    36.148  7570.968\n",
       "min      0.000    0.000     0.000     0.000\n",
       "25%     40.000  274.575     9.000 12491.903\n",
       "50%     62.000  430.600    30.000 16943.235\n",
       "75%     82.000  571.927    57.000 21424.700\n",
       "max    244.000 1632.060   224.000 49745.730"
      ]
     },
     "metadata": {},
     "output_type": "display_data"
    }
   ],
   "source": [
    "display(df.filter(df.columns[:-1]).describe())"
   ]
  },
  {
   "cell_type": "markdown",
   "metadata": {},
   "source": [
    "Проверим количество значений по 2 тарифам целевого признака:"
   ]
  },
  {
   "cell_type": "code",
   "execution_count": 7,
   "metadata": {
    "scrolled": true
   },
   "outputs": [
    {
     "name": "stdout",
     "output_type": "stream",
     "text": [
      "Количество пользователей тарифа Ультра - 985\n",
      "Количество пользователей тарифа Смарт - 2229\n"
     ]
    }
   ],
   "source": [
    "print('Количество пользователей тарифа Ультра -', df.query('is_ultra == 1').shape[0])\n",
    "print('Количество пользователей тарифа Смарт -', df.query('is_ultra == 0').shape[0])"
   ]
  },
  {
   "cell_type": "markdown",
   "metadata": {},
   "source": [
    "Доля пользователей Смарт - 69,35%,  \n",
    "Доля пользователей Ультра - 30,64%,  \n",
    "В последний месяц пользователи больше переходили на тариф Смарт.  "
   ]
  },
  {
   "cell_type": "markdown",
   "metadata": {},
   "source": [
    "## Разделение данных на выборки"
   ]
  },
  {
   "cell_type": "markdown",
   "metadata": {},
   "source": [
    "Для начала поделим выборку на целевой и прочие признаки"
   ]
  },
  {
   "cell_type": "code",
   "execution_count": 8,
   "metadata": {},
   "outputs": [],
   "source": [
    "features = df.filter(df.columns[:-1])\n",
    "target = df.is_ultra"
   ]
  },
  {
   "cell_type": "markdown",
   "metadata": {},
   "source": [
    "Разделим выборку на 3 части `обучающую - 60%, валидационную - 20% и тестовую 20%`  "
   ]
  },
  {
   "cell_type": "code",
   "execution_count": 9,
   "metadata": {},
   "outputs": [],
   "source": [
    "#делим выборку на обучающую и тестовую\n",
    "features_train_all, features_test, target_train_all, target_test = train_test_split(\n",
    "    features, target, test_size=0.20, random_state=12345\n",
    ")\n",
    "#делим обучающую выборку на обучающую и валидационную\n",
    "features_train, features_valid, target_train, target_valid = train_test_split(\n",
    "    features_train_all, target_train_all, test_size=0.25, random_state=12345\n",
    ")"
   ]
  },
  {
   "cell_type": "markdown",
   "metadata": {},
   "source": [
    "Посмотрим как распределились данные между выборками"
   ]
  },
  {
   "cell_type": "code",
   "execution_count": 10,
   "metadata": {},
   "outputs": [
    {
     "data": {
      "text/html": [
       "<div>\n",
       "<style scoped>\n",
       "    .dataframe tbody tr th:only-of-type {\n",
       "        vertical-align: middle;\n",
       "    }\n",
       "\n",
       "    .dataframe tbody tr th {\n",
       "        vertical-align: top;\n",
       "    }\n",
       "\n",
       "    .dataframe thead th {\n",
       "        text-align: right;\n",
       "    }\n",
       "</style>\n",
       "<table border=\"1\" class=\"dataframe\">\n",
       "  <thead>\n",
       "    <tr style=\"text-align: right;\">\n",
       "      <th></th>\n",
       "      <th>sample_type</th>\n",
       "      <th>smart</th>\n",
       "      <th>ultra</th>\n",
       "      <th>total</th>\n",
       "    </tr>\n",
       "  </thead>\n",
       "  <tbody>\n",
       "    <tr>\n",
       "      <th>0</th>\n",
       "      <td>test_sample</td>\n",
       "      <td>447</td>\n",
       "      <td>196</td>\n",
       "      <td>643</td>\n",
       "    </tr>\n",
       "    <tr>\n",
       "      <th>1</th>\n",
       "      <td>train_sample</td>\n",
       "      <td>1339</td>\n",
       "      <td>589</td>\n",
       "      <td>1928</td>\n",
       "    </tr>\n",
       "    <tr>\n",
       "      <th>2</th>\n",
       "      <td>validation_sample</td>\n",
       "      <td>443</td>\n",
       "      <td>200</td>\n",
       "      <td>643</td>\n",
       "    </tr>\n",
       "  </tbody>\n",
       "</table>\n",
       "</div>"
      ],
      "text/plain": [
       "         sample_type  smart  ultra  total\n",
       "0        test_sample    447    196    643\n",
       "1       train_sample   1339    589   1928\n",
       "2  validation_sample    443    200    643"
      ]
     },
     "metadata": {},
     "output_type": "display_data"
    }
   ],
   "source": [
    "display(pd.DataFrame(\n",
    "    {'sample_type':['test_sample', 'train_sample', 'validation_sample'],\n",
    "     'smart':[target_test[target_test == 0].shape[0], \n",
    "              target_train[target_train == 0].shape[0], \n",
    "              target_valid[target_valid == 0].shape[0]],\n",
    "     'ultra':[target_test[target_test == 1].shape[0], \n",
    "              target_train[target_train == 1].shape[0], \n",
    "              target_valid[target_valid == 1].shape[0]],\n",
    "     'total': [features_test.shape[0],\n",
    "               features_train.shape[0],\n",
    "               features_valid.shape[0]]\n",
    "    }))"
   ]
  },
  {
   "cell_type": "markdown",
   "metadata": {},
   "source": [
    "Распределение произошло равномерно в соотвествии с задаными требованиями"
   ]
  },
  {
   "cell_type": "markdown",
   "metadata": {},
   "source": [
    "## Исследование модели"
   ]
  },
  {
   "cell_type": "markdown",
   "metadata": {},
   "source": [
    "В целях исследования моделей будем использовать алгоритмы классификации `Дерево решений, Случайный лес и Логистическую регрессию`.\n",
    "\n",
    "Для начала обучим модель по самому простому алгоритму классификации `Дерева решений`, с разной глубиной дерева решений."
   ]
  },
  {
   "cell_type": "code",
   "execution_count": 11,
   "metadata": {},
   "outputs": [],
   "source": [
    "#функция для построения lineplot\n",
    "def lineplot_helper(x:pd.Series, y:pd.Series, name_title: str)->None:\n",
    "    plt.figure(figsize=(8, 5))\n",
    "    sns.lineplot(x=x, y=y)\n",
    "    plt.title(name_title)\n",
    "    plt.grid(visible=True)\n",
    "    plt.show()"
   ]
  },
  {
   "cell_type": "code",
   "execution_count": 12,
   "metadata": {
    "scrolled": true
   },
   "outputs": [
    {
     "name": "stdout",
     "output_type": "stream",
     "text": [
      "CPU times: user 76.8 ms, sys: 3.64 ms, total: 80.4 ms\n",
      "Wall time: 79.4 ms\n"
     ]
    }
   ],
   "source": [
    "%%time\n",
    "data = []\n",
    "best_model = None\n",
    "best_result = 0\n",
    "#цикл для проверки доли правильных ответов при разной губине дерева решений  \n",
    "for depth in range(1, 11):\n",
    "    model_t = DecisionTreeClassifier(random_state=12345, max_depth=depth)\n",
    "    model_t.fit(features_train, target_train)\n",
    "    predictions = model_t.predict(features_valid)\n",
    "    res = accuracy_score(target_valid, predictions)\n",
    "    data.append([depth, res])\n",
    "    if res > best_result:\n",
    "        best_model = model_t\n",
    "        best_result = res"
   ]
  },
  {
   "cell_type": "code",
   "execution_count": 13,
   "metadata": {
    "scrolled": false
   },
   "outputs": [
    {
     "data": {
      "image/png": "[encoded data removed]",
      "text/plain": [
       "<Figure size 576x360 with 1 Axes>"
      ]
     },
     "metadata": {
      "needs_background": "light"
     },
     "output_type": "display_data"
    },
    {
     "name": "stdout",
     "output_type": "stream",
     "text": [
      "Лучший показатель дерева решений: 0.774, при глубине дерева - 7\n",
      "Показатель дерева решений на обучающих данных 0.891\n"
     ]
    }
   ],
   "source": [
    "df_tree = pd.DataFrame(data, columns=['depth', 'accuracy'])\n",
    "#строим график\n",
    "lineplot_helper(x=df_tree['depth'], y=df_tree['accuracy'], name_title=dict_name.get('accuracy_depth_tree'))\n",
    "print(f'Лучший показатель дерева решений: {round(best_result, 3)}, при глубине дерева -',\n",
    "      int(df_tree.query(\"accuracy == accuracy.max()\")[\"depth\"])\n",
    "     )\n",
    "train_predictions = model_t.predict(features_train)\n",
    "print(f'Показатель дерева решений на обучающих данных {round( accuracy_score(target_train, train_predictions), 3)}')"
   ]
  },
  {
   "cell_type": "markdown",
   "metadata": {},
   "source": [
    "С увеличением глубины дерева решений увеличивается доля правильных ответов модели на валидационной выборке с небольшими спадами при глубине `4 и 5`, до максимального значения при глубине. **0,774** доли правильных ответов, на первый взгляд хороший показатель для модели, так же стоит обратить внимание что показатели на обучающей выборке `0.891` выше, чем на валидационной, что говорит нам о переобучении данной модели.\n",
    "\n",
    "Обучим модель по алгоритму классификации `Логистической регресии`, она быстрее по скорости и с более низкой вероятностью переобучить модель и хорошо подходит для бинарной классификации. Проверим улучшение модели изменениями гиперпараметра `solver`"
   ]
  },
  {
   "cell_type": "code",
   "execution_count": 14,
   "metadata": {
    "scrolled": true
   },
   "outputs": [
    {
     "name": "stdout",
     "output_type": "stream",
     "text": [
      "CPU times: user 537 ms, sys: 0 ns, total: 537 ms\n",
      "Wall time: 544 ms\n"
     ]
    },
    {
     "name": "stderr",
     "output_type": "stream",
     "text": [
      "/opt/conda/lib/python3.9/site-packages/sklearn/linear_model/_sag.py:328: ConvergenceWarning: The max_iter was reached which means the coef_ did not converge\n",
      "  warnings.warn(\"The max_iter was reached which means \"\n",
      "/opt/conda/lib/python3.9/site-packages/sklearn/linear_model/_sag.py:328: ConvergenceWarning: The max_iter was reached which means the coef_ did not converge\n",
      "  warnings.warn(\"The max_iter was reached which means \"\n"
     ]
    }
   ],
   "source": [
    "%%time\n",
    "list_solver = ['newton-cg', 'lbfgs', 'liblinear', 'sag', 'saga']\n",
    "data_lr = []\n",
    "best_model_lr = None\n",
    "best_result_lr = 0\n",
    "#цикл для доли правильных ответов алгоритма линейной регрессии\n",
    "for solver in list_solver:\n",
    "    model_lr = LogisticRegression(random_state=12345, solver=solver, max_iter=1000)\n",
    "    model_lr.fit(features_train, target_train)\n",
    "    model_lr.predict(features_valid)\n",
    "    result = model_lr.score(features_valid, target_valid)\n",
    "    data_lr.append([solver, result])\n",
    "    if result > best_result_lr:\n",
    "        best_model_lr = model_lr\n",
    "        best_result_lr = result     "
   ]
  },
  {
   "cell_type": "code",
   "execution_count": 15,
   "metadata": {
    "scrolled": false
   },
   "outputs": [
    {
     "data": {
      "image/png": "[encoded data removed]",
      "text/plain": [
       "<Figure size 576x360 with 1 Axes>"
      ]
     },
     "metadata": {
      "needs_background": "light"
     },
     "output_type": "display_data"
    },
    {
     "name": "stdout",
     "output_type": "stream",
     "text": [
      "Лучший показатель Линейной регрессии: 0.726, при solver: lbfgs\n"
     ]
    }
   ],
   "source": [
    "df_lr = pd.DataFrame(data_lr, columns=['solver', 'accuracy'])\n",
    "lineplot_helper(x=df_lr['solver'], \n",
    "                y=df_lr['accuracy'], \n",
    "                name_title=dict_name.get('accuracy_solver'))\n",
    "print(f'Лучший показатель Линейной регрессии: {round(best_result_lr, 3)},', \n",
    "      f'при solver: {(df_lr.query(\"accuracy == accuracy.max()\")[\"solver\"][1])}')"
   ]
  },
  {
   "cell_type": "markdown",
   "metadata": {},
   "source": [
    "Лучший показатель `Линейной регрессии 0.726` хуже показателя `Дерева решений 0.774`, но при переобученности модели Дерева решений. Решатели `newton-cg` и `lbfgs` показали однинаковые результаты доли правильных ответов, на много лучшие, чем остальные решатели.\n",
    "\n",
    "Обучим модель по алгоритму классификации `Случайный лес`"
   ]
  },
  {
   "cell_type": "code",
   "execution_count": 16,
   "metadata": {
    "scrolled": false
   },
   "outputs": [
    {
     "name": "stdout",
     "output_type": "stream",
     "text": [
      "CPU times: user 4.76 s, sys: 26.5 ms, total: 4.79 s\n",
      "Wall time: 4.8 s\n"
     ]
    }
   ],
   "source": [
    "%%time\n",
    "data_f = []\n",
    "best_model_f = None\n",
    "best_result_f = 0\n",
    "#Проверяем работу модели на алгоритме Случайный лес от 1 до 30 деревьев\n",
    "for est in range(1, 46):\n",
    "    f_model = RandomForestClassifier(random_state=12345, n_estimators=est)\n",
    "    f_model.fit(features_train, target_train)\n",
    "    res = f_model.score(features_valid, target_valid)\n",
    "    data_f.append([est, res])\n",
    "    if res > best_result_f:\n",
    "        best_model_f = f_model\n",
    "        best_result_f = res"
   ]
  },
  {
   "cell_type": "code",
   "execution_count": 17,
   "metadata": {
    "scrolled": false
   },
   "outputs": [
    {
     "data": {
      "image/png": "[encoded data removed]",
      "text/plain": [
       "<Figure size 576x360 with 1 Axes>"
      ]
     },
     "metadata": {
      "needs_background": "light"
     },
     "output_type": "display_data"
    },
    {
     "name": "stdout",
     "output_type": "stream",
     "text": [
      "Лучший показатель алгоритма Случайный лес: 0.795, при 44 деревьев решений\n"
     ]
    }
   ],
   "source": [
    "df_random_forest = pd.DataFrame(data_f, columns = ['n_estimators', 'accuracy'])\n",
    "\n",
    "lineplot_helper(x=df_random_forest['n_estimators'], \n",
    "                y=df_random_forest['accuracy'], \n",
    "                name_title=dict_name.get('accuracy_n_estimators'))\n",
    "\n",
    "print(f'Лучший показатель алгоритма Случайный лес: {round(best_result_f, 3)},', \n",
    "      f'при {int(df_random_forest.query(\"accuracy == accuracy.max()\")[\"n_estimators\"])} деревьев решений')"
   ]
  },
  {
   "cell_type": "markdown",
   "metadata": {},
   "source": [
    "При количестве деревьев более `9 модели` показывают хорошие результаты по доле правильных ответов, более `0.77`. Лучший результат модели в алгоритме `Случайный лес  0.795`, показал самый хороший результат, но и затратил самое большое количество времени на обратку данных."
   ]
  },
  {
   "cell_type": "code",
   "execution_count": 18,
   "metadata": {
    "scrolled": true
   },
   "outputs": [
    {
     "name": "stdout",
     "output_type": "stream",
     "text": [
      "Лучшая модель и ее параметры RandomForestClassifier(max_depth=9, n_estimators=36, random_state=12345)\n",
      "Лучший результат полученный от лучшей модели на обучающей выборке- 0.818\n",
      "Лучший результат полученный от лучшей модели на валидационной выборке- 0.788\n"
     ]
    }
   ],
   "source": [
    "clf = RandomForestClassifier(random_state=12345)\n",
    "param = {\n",
    "    'n_estimators' : range(1, 51, 5),\n",
    "    'max_depth' : range(1, 13, 2),\n",
    "}\n",
    "grid = GridSearchCV(clf, param, cv=5)\n",
    "grid.fit(features_train, target_train)\n",
    "\n",
    "print('Лучшая модель и ее параметры', grid.best_estimator_) \n",
    "print('Лучший результат полученный от лучшей модели на обучающей выборке-', grid.best_score_.round(3))\n",
    "print('Лучший результат полученный от лучшей модели на валидационной выборке-', \n",
    "      round(grid.best_estimator_.score(features_valid, target_valid), 3))"
   ]
  },
  {
   "cell_type": "markdown",
   "metadata": {},
   "source": [
    "## Проверка модели на тестовой выборке"
   ]
  },
  {
   "cell_type": "markdown",
   "metadata": {},
   "source": [
    "Проверим обученные модели на тестовой выборке и посмотрим на их результаты"
   ]
  },
  {
   "cell_type": "code",
   "execution_count": 19,
   "metadata": {
    "scrolled": true
   },
   "outputs": [
    {
     "name": "stdout",
     "output_type": "stream",
     "text": [
      "Доля правильных ответов всех обученных моделей, с лучшими результатми, на тестовой выборке:\n"
     ]
    },
    {
     "data": {
      "text/html": [
       "<div>\n",
       "<style scoped>\n",
       "    .dataframe tbody tr th:only-of-type {\n",
       "        vertical-align: middle;\n",
       "    }\n",
       "\n",
       "    .dataframe tbody tr th {\n",
       "        vertical-align: top;\n",
       "    }\n",
       "\n",
       "    .dataframe thead th {\n",
       "        text-align: right;\n",
       "    }\n",
       "</style>\n",
       "<table border=\"1\" class=\"dataframe\">\n",
       "  <thead>\n",
       "    <tr style=\"text-align: right;\">\n",
       "      <th></th>\n",
       "      <th>model_name</th>\n",
       "      <th>accuracy</th>\n",
       "    </tr>\n",
       "  </thead>\n",
       "  <tbody>\n",
       "    <tr>\n",
       "      <th>0</th>\n",
       "      <td>DecisionTree</td>\n",
       "      <td>0.771</td>\n",
       "    </tr>\n",
       "    <tr>\n",
       "      <th>1</th>\n",
       "      <td>LogisticRegression</td>\n",
       "      <td>0.698</td>\n",
       "    </tr>\n",
       "    <tr>\n",
       "      <th>2</th>\n",
       "      <td>RandomForestClassifier</td>\n",
       "      <td>0.788</td>\n",
       "    </tr>\n",
       "  </tbody>\n",
       "</table>\n",
       "</div>"
      ],
      "text/plain": [
       "               model_name  accuracy\n",
       "0            DecisionTree     0.771\n",
       "1      LogisticRegression     0.698\n",
       "2  RandomForestClassifier     0.788"
      ]
     },
     "metadata": {},
     "output_type": "display_data"
    }
   ],
   "source": [
    "test_predictions = model_t.predict(features_test)\n",
    "print('Доля правильных ответов всех обученных моделей, с лучшими результатми, на тестовой выборке:')\n",
    "display(pd.DataFrame({'model_name' : ['DecisionTree', 'LogisticRegression', 'RandomForestClassifier' ],\n",
    "                      'accuracy': [accuracy_score(target_test, test_predictions),\n",
    "                                   model_lr.score(features_test, target_test), \n",
    "                                   f_model.score(features_test, target_test)]}))"
   ]
  },
  {
   "cell_type": "code",
   "execution_count": 20,
   "metadata": {},
   "outputs": [
    {
     "name": "stdout",
     "output_type": "stream",
     "text": [
      "Результаты модели Случайный лес (GridSearchCV) на тестовой выборке 0.795\n"
     ]
    }
   ],
   "source": [
    "print('Результаты модели Случайный лес (GridSearchCV) на тестовой выборке', \n",
    "      round(grid.best_estimator_.score(features_test, target_test), 3))"
   ]
  },
  {
   "cell_type": "markdown",
   "metadata": {},
   "source": [
    "**На тестовой выборки модели показали:**\n",
    "- `Дерево решений` - *0.771* при *0.774* на валидационной выборке\n",
    "- `Логистическая регрессия` - *0.695* при *0.726* на валидационной выборке\n",
    "- `Случайный лес` - *0.788* при *0.795* на валидационной выборке\n",
    "\n",
    "`Дерево решений` показало самый не знчительные по сравнению с данными на валидационной выборке различия, `Случайный лес` подтвердил самый лучший показатель доли правильных ответов."
   ]
  },
  {
   "cell_type": "markdown",
   "metadata": {},
   "source": [
    "## Проверка модели на адекватность"
   ]
  },
  {
   "cell_type": "markdown",
   "metadata": {},
   "source": [
    "Для проверки моделей на адекватность сравним ее долю правильных ответов с долей правильных ответов случайного выбора тарифа, где вероятность бинарного выбора 50% и использованием простого классификатора DummyClassifier."
   ]
  },
  {
   "cell_type": "code",
   "execution_count": 21,
   "metadata": {
    "scrolled": false
   },
   "outputs": [
    {
     "name": "stdout",
     "output_type": "stream",
     "text": [
      "Доля правильных ответов при случайном ответе: 0.5\n"
     ]
    }
   ],
   "source": [
    "print(\"Доля правильных ответов при случайном ответе:\",\n",
    "      round((target_valid[target_valid == 1].shape[0] * 0.5 +\n",
    "             target_valid[target_valid == 0].shape[0] * 0.5) / target_valid.shape[0], 3))"
   ]
  },
  {
   "cell_type": "code",
   "execution_count": 22,
   "metadata": {},
   "outputs": [
    {
     "name": "stdout",
     "output_type": "stream",
     "text": [
      "Доля правильных ответов при обучении модели на DummyClassifier 0.592\n"
     ]
    }
   ],
   "source": [
    "dummy_model = DummyClassifier(strategy='stratified', random_state=12345)\n",
    "dummy_model.fit(features_train, target_train)\n",
    "dummy_model.predict(features_train)\n",
    "print('Доля правильных ответов при обучении модели на DummyClassifier', \n",
    "      dummy_model.score(features_train, target_train).round(3))"
   ]
  },
  {
   "cell_type": "markdown",
   "metadata": {},
   "source": [
    "Сравнивая показатели моделей с долей правильных ответов при случайном выборе (равный `0,5`) и при использовании простой модели DummyClassifier (равный `0.598`), можно сделать выводы, что модель `Логистической регрессии`, показала самый неадекватный результат на тестовой выборки - `0.695`. Модели `Дерева решений  0.771` и `Случайного леса 0.788` выглядят вполне адекватно превышая более чем на четверть показали случайного выбора."
   ]
  },
  {
   "cell_type": "markdown",
   "metadata": {},
   "source": [
    "## Общий вывод"
   ]
  },
  {
   "cell_type": "markdown",
   "metadata": {},
   "source": [
    "Данное исследование было реализовано, с целью построения модели для задачи классификации, которая выберет подходящий тариф пользователя, который находится на архивном тарифе.  \n",
    "\n",
    "Входные данные - выборка состоящая из `3214 строк`, с основными признаками определяющие поведении клиентов, которые уже перешли на тарифы `Смарт и Ультра`, за последний месяц. Даные прошли предобработку, дополнительной обработки не требуют.\n",
    "\n",
    "**Цель проекта**  \n",
    "- Построить модель с максимально большим значением `accuracy`(доля правильных ответов) не менее 0.75 на валидационной и тестовой выборках. \n",
    "- Проверка успешных моделей на адекватность, при помощи сравнения со случайным выбором\n",
    "\n",
    "В выборке отчетливо видно, что количество пользователей на тарифе `Смарт` значительно больше, чем пользователей на тарифе `Ультра`. "
   ]
  },
  {
   "cell_type": "markdown",
   "metadata": {},
   "source": [
    "*В ходе работы выборка была поделена на 3 части:*\n",
    "- обучающую - 60%, \n",
    "- валидационную - 20% \n",
    "- тестовую 20%\n",
    "\n",
    "*Было проведенно исследование с использование 3 основных алгоритмов классификации:*\n",
    "- Дерево решений\n",
    "- Логистическая регрессия\n",
    "- Случайный лес"
   ]
  },
  {
   "cell_type": "markdown",
   "metadata": {},
   "source": [
    "В результате в каждом алгоритме были проведены исследования с изменениями гиперпараметров для получения максимально эффективной модели, в ходе которого было выяснено:\n",
    "1. `Дерево решений` - c увеличением глубины (`depth`) увеличивается доля правильных ответов модели на валидационной выборке с небольшими спадами при глубине 4 и 5, до максимального значения при глубине 7 - **0,774**, эта модель подтвердила свой результат на тестовой выборке, тем самым показала свою боеспособность, в т.ч. учитывая относительно не большие затраты по времени при обработке данных и адекватность по сравнению с данными получеными при расчете случайного выбора равному 0.5.\n",
    "2. `Логистическая регрессия` - несмотря на то, что модель показала **0.726** при лучшем результате на валидационной выборке, на тестовой выборке показатели модели были хуже **0.695** (самый худший результат отрицательной разницы между валидационными и тестовыми показателями), модель сложно считать адекватной учитывая, то, что всего лишь на 0.195 лучше предсказывает результат по сравнению со случайным выбором.\n",
    "3. `Случайные лес` - затратил самое большое время на обработку данных, но показал самый хороший результат верного предсказания на валидационной выборке  **0.795**, но чуть хуже на тестовой выборке **0.788**, тем не менее модель показала, самые лучшие результаты в доли правильных предсказаний, и соотвественно выглядит самой адекватной по сравнению с результатами случайного выбора.    "
   ]
  },
  {
   "cell_type": "code",
   "execution_count": null,
   "metadata": {},
   "outputs": [],
   "source": []
  }
 ],
 "metadata": {
  "ExecuteTimeLog": [
   {
    "duration": 438,
    "start_time": "2022-09-07T13:54:39.194Z"
   },
   {
    "duration": 66,
    "start_time": "2022-09-07T13:56:41.843Z"
   },
   {
    "duration": 96,
    "start_time": "2022-09-07T13:56:46.353Z"
   },
   {
    "duration": 44,
    "start_time": "2022-09-07T13:56:49.839Z"
   },
   {
    "duration": 35,
    "start_time": "2022-09-07T13:57:03.489Z"
   },
   {
    "duration": 11,
    "start_time": "2022-09-07T13:58:22.459Z"
   },
   {
    "duration": 22,
    "start_time": "2022-09-07T14:15:28.256Z"
   },
   {
    "duration": 28,
    "start_time": "2022-09-07T14:17:06.737Z"
   },
   {
    "duration": 21,
    "start_time": "2022-09-07T14:22:46.103Z"
   },
   {
    "duration": 13,
    "start_time": "2022-09-07T14:23:19.102Z"
   },
   {
    "duration": 8,
    "start_time": "2022-09-07T14:23:26.268Z"
   },
   {
    "duration": 8,
    "start_time": "2022-09-07T14:23:41.667Z"
   },
   {
    "duration": 5,
    "start_time": "2022-09-07T14:47:39.687Z"
   },
   {
    "duration": 16,
    "start_time": "2022-09-07T14:47:44.058Z"
   },
   {
    "duration": 1289,
    "start_time": "2022-09-07T14:48:03.863Z"
   },
   {
    "duration": 3,
    "start_time": "2022-09-07T14:48:21.439Z"
   },
   {
    "duration": 5,
    "start_time": "2022-09-07T14:48:26.424Z"
   },
   {
    "duration": 8,
    "start_time": "2022-09-07T14:48:48.287Z"
   },
   {
    "duration": 6,
    "start_time": "2022-09-07T14:48:59.368Z"
   },
   {
    "duration": 4,
    "start_time": "2022-09-07T14:50:52.417Z"
   },
   {
    "duration": 725,
    "start_time": "2022-09-07T14:54:11.751Z"
   },
   {
    "duration": 37,
    "start_time": "2022-09-07T14:56:18.896Z"
   },
   {
    "duration": 14,
    "start_time": "2022-09-07T14:56:36.443Z"
   },
   {
    "duration": 16,
    "start_time": "2022-09-07T14:56:46.026Z"
   },
   {
    "duration": 8,
    "start_time": "2022-09-07T15:00:53.833Z"
   },
   {
    "duration": 6,
    "start_time": "2022-09-07T15:01:01.014Z"
   },
   {
    "duration": 11,
    "start_time": "2022-09-07T15:01:04.938Z"
   },
   {
    "duration": 16,
    "start_time": "2022-09-07T15:01:39.668Z"
   },
   {
    "duration": 14,
    "start_time": "2022-09-07T15:02:13.626Z"
   },
   {
    "duration": 11,
    "start_time": "2022-09-07T15:02:25.726Z"
   },
   {
    "duration": 9,
    "start_time": "2022-09-07T15:05:11.083Z"
   },
   {
    "duration": 1563,
    "start_time": "2022-09-07T18:44:35.367Z"
   },
   {
    "duration": 146,
    "start_time": "2022-09-07T18:44:36.932Z"
   },
   {
    "duration": 11,
    "start_time": "2022-09-07T18:44:37.079Z"
   },
   {
    "duration": 23,
    "start_time": "2022-09-07T18:44:37.091Z"
   },
   {
    "duration": 8,
    "start_time": "2022-09-07T18:44:37.115Z"
   },
   {
    "duration": 10,
    "start_time": "2022-09-07T18:44:37.124Z"
   },
   {
    "duration": 23,
    "start_time": "2022-09-07T18:44:37.135Z"
   },
   {
    "duration": 12,
    "start_time": "2022-09-07T18:44:37.160Z"
   },
   {
    "duration": 14,
    "start_time": "2022-09-07T18:45:15.176Z"
   },
   {
    "duration": 11,
    "start_time": "2022-09-07T18:45:26.484Z"
   },
   {
    "duration": 34,
    "start_time": "2022-09-07T18:48:10.735Z"
   },
   {
    "duration": 14,
    "start_time": "2022-09-07T18:48:18.972Z"
   },
   {
    "duration": 18,
    "start_time": "2022-09-07T18:48:28.631Z"
   },
   {
    "duration": 19,
    "start_time": "2022-09-07T18:55:58.232Z"
   },
   {
    "duration": 11,
    "start_time": "2022-09-07T18:55:58.956Z"
   },
   {
    "duration": 40,
    "start_time": "2022-09-07T18:56:48.581Z"
   },
   {
    "duration": 8,
    "start_time": "2022-09-07T18:56:55.132Z"
   },
   {
    "duration": 7,
    "start_time": "2022-09-07T19:02:37.099Z"
   },
   {
    "duration": 3,
    "start_time": "2022-09-07T19:03:01.570Z"
   },
   {
    "duration": 99,
    "start_time": "2022-09-07T19:10:58.871Z"
   },
   {
    "duration": 52,
    "start_time": "2022-09-07T19:11:05.070Z"
   },
   {
    "duration": 107,
    "start_time": "2022-09-07T19:11:14.343Z"
   },
   {
    "duration": 25,
    "start_time": "2022-09-07T19:12:33.004Z"
   },
   {
    "duration": 3,
    "start_time": "2022-09-07T19:12:37.423Z"
   },
   {
    "duration": 42,
    "start_time": "2022-09-07T19:12:37.428Z"
   },
   {
    "duration": 9,
    "start_time": "2022-09-07T19:12:37.472Z"
   },
   {
    "duration": 20,
    "start_time": "2022-09-07T19:12:37.483Z"
   },
   {
    "duration": 6,
    "start_time": "2022-09-07T19:12:37.505Z"
   },
   {
    "duration": 5,
    "start_time": "2022-09-07T19:12:37.513Z"
   },
   {
    "duration": 9,
    "start_time": "2022-09-07T19:12:37.519Z"
   },
   {
    "duration": 28,
    "start_time": "2022-09-07T19:12:37.529Z"
   },
   {
    "duration": 0,
    "start_time": "2022-09-07T19:12:37.558Z"
   },
   {
    "duration": 28,
    "start_time": "2022-09-07T19:12:43.699Z"
   },
   {
    "duration": 5,
    "start_time": "2022-09-07T19:13:28.513Z"
   },
   {
    "duration": 13,
    "start_time": "2022-09-07T19:13:46.724Z"
   },
   {
    "duration": 7,
    "start_time": "2022-09-07T19:16:36.075Z"
   },
   {
    "duration": 5,
    "start_time": "2022-09-07T19:16:46.682Z"
   },
   {
    "duration": 5,
    "start_time": "2022-09-07T19:17:10.604Z"
   },
   {
    "duration": 7,
    "start_time": "2022-09-07T19:18:22.787Z"
   },
   {
    "duration": 10,
    "start_time": "2022-09-07T19:20:25.701Z"
   },
   {
    "duration": 10,
    "start_time": "2022-09-07T19:21:00.086Z"
   },
   {
    "duration": 10,
    "start_time": "2022-09-07T19:21:15.776Z"
   },
   {
    "duration": 9,
    "start_time": "2022-09-07T19:22:02.303Z"
   },
   {
    "duration": 8,
    "start_time": "2022-09-07T19:22:58.711Z"
   },
   {
    "duration": 10,
    "start_time": "2022-09-07T19:24:01.202Z"
   },
   {
    "duration": 9,
    "start_time": "2022-09-07T19:24:38.009Z"
   },
   {
    "duration": 21,
    "start_time": "2022-09-07T19:40:04.457Z"
   },
   {
    "duration": 5,
    "start_time": "2022-09-07T19:53:14.788Z"
   },
   {
    "duration": 5,
    "start_time": "2022-09-07T19:53:35.765Z"
   },
   {
    "duration": 39,
    "start_time": "2022-09-07T20:09:20.169Z"
   },
   {
    "duration": 37,
    "start_time": "2022-09-07T20:10:08.495Z"
   },
   {
    "duration": 38,
    "start_time": "2022-09-07T20:10:13.212Z"
   },
   {
    "duration": 37,
    "start_time": "2022-09-07T20:10:20.984Z"
   },
   {
    "duration": 4,
    "start_time": "2022-09-07T20:13:22.474Z"
   },
   {
    "duration": 7,
    "start_time": "2022-09-07T20:14:01.124Z"
   },
   {
    "duration": 41,
    "start_time": "2022-09-07T20:14:38.523Z"
   },
   {
    "duration": 36,
    "start_time": "2022-09-07T20:14:48.379Z"
   },
   {
    "duration": 25,
    "start_time": "2022-09-07T20:19:28.031Z"
   },
   {
    "duration": 14,
    "start_time": "2022-09-07T20:31:13.614Z"
   },
   {
    "duration": 211,
    "start_time": "2022-09-07T20:31:25.510Z"
   },
   {
    "duration": 253,
    "start_time": "2022-09-07T20:31:35.914Z"
   },
   {
    "duration": 240,
    "start_time": "2022-09-07T20:40:49.774Z"
   },
   {
    "duration": 11,
    "start_time": "2022-09-07T20:42:37.679Z"
   },
   {
    "duration": 44,
    "start_time": "2022-09-08T06:03:54.689Z"
   },
   {
    "duration": 987,
    "start_time": "2022-09-08T06:03:57.399Z"
   },
   {
    "duration": 78,
    "start_time": "2022-09-08T06:03:58.387Z"
   },
   {
    "duration": 10,
    "start_time": "2022-09-08T06:03:58.467Z"
   },
   {
    "duration": 17,
    "start_time": "2022-09-08T06:03:58.478Z"
   },
   {
    "duration": 7,
    "start_time": "2022-09-08T06:03:58.496Z"
   },
   {
    "duration": 5,
    "start_time": "2022-09-08T06:03:58.504Z"
   },
   {
    "duration": 8,
    "start_time": "2022-09-08T06:03:58.510Z"
   },
   {
    "duration": 7,
    "start_time": "2022-09-08T06:03:58.519Z"
   },
   {
    "duration": 56,
    "start_time": "2022-09-08T06:03:58.527Z"
   },
   {
    "duration": 6,
    "start_time": "2022-09-08T06:03:58.585Z"
   },
   {
    "duration": 829,
    "start_time": "2022-09-08T06:03:58.592Z"
   },
   {
    "duration": 9,
    "start_time": "2022-09-08T06:03:59.423Z"
   },
   {
    "duration": 4695,
    "start_time": "2022-09-08T06:04:19.073Z"
   },
   {
    "duration": 4,
    "start_time": "2022-09-08T06:32:08.406Z"
   },
   {
    "duration": 3,
    "start_time": "2022-09-08T06:32:33.665Z"
   },
   {
    "duration": 35,
    "start_time": "2022-09-08T06:32:36.142Z"
   },
   {
    "duration": 19,
    "start_time": "2022-09-08T06:32:40.963Z"
   },
   {
    "duration": 17,
    "start_time": "2022-09-08T06:47:29.393Z"
   },
   {
    "duration": 8,
    "start_time": "2022-09-08T07:46:55.345Z"
   },
   {
    "duration": 10,
    "start_time": "2022-09-08T07:47:07.381Z"
   },
   {
    "duration": 8,
    "start_time": "2022-09-08T07:47:25.092Z"
   },
   {
    "duration": 7,
    "start_time": "2022-09-08T07:49:08.115Z"
   },
   {
    "duration": 5,
    "start_time": "2022-09-08T07:49:15.236Z"
   },
   {
    "duration": 4,
    "start_time": "2022-09-08T08:24:14.246Z"
   },
   {
    "duration": 5,
    "start_time": "2022-09-08T08:24:29.427Z"
   },
   {
    "duration": 5,
    "start_time": "2022-09-08T08:25:14.675Z"
   },
   {
    "duration": 4494,
    "start_time": "2022-09-08T08:25:29.097Z"
   },
   {
    "duration": 6,
    "start_time": "2022-09-08T08:34:41.498Z"
   },
   {
    "duration": 377,
    "start_time": "2022-09-08T08:35:12.744Z"
   },
   {
    "duration": 6,
    "start_time": "2022-09-08T08:35:23.334Z"
   },
   {
    "duration": 8,
    "start_time": "2022-09-08T08:35:31.050Z"
   },
   {
    "duration": 5,
    "start_time": "2022-09-08T08:35:53.028Z"
   },
   {
    "duration": 62,
    "start_time": "2022-09-08T08:36:18.677Z"
   },
   {
    "duration": 5,
    "start_time": "2022-09-08T08:36:39.015Z"
   },
   {
    "duration": 4,
    "start_time": "2022-09-08T08:37:04.114Z"
   },
   {
    "duration": 5,
    "start_time": "2022-09-08T08:37:10.436Z"
   },
   {
    "duration": 5,
    "start_time": "2022-09-08T08:37:14.479Z"
   },
   {
    "duration": 5,
    "start_time": "2022-09-08T08:37:19.923Z"
   },
   {
    "duration": 6,
    "start_time": "2022-09-08T08:37:26.734Z"
   },
   {
    "duration": 5,
    "start_time": "2022-09-08T08:37:31.279Z"
   },
   {
    "duration": 6,
    "start_time": "2022-09-08T08:39:12.981Z"
   },
   {
    "duration": 96,
    "start_time": "2022-09-08T08:59:12.476Z"
   },
   {
    "duration": 17,
    "start_time": "2022-09-08T08:59:21.668Z"
   },
   {
    "duration": 17,
    "start_time": "2022-09-08T09:09:49.639Z"
   },
   {
    "duration": 13,
    "start_time": "2022-09-08T09:10:27.320Z"
   },
   {
    "duration": 11,
    "start_time": "2022-09-08T09:10:51.153Z"
   },
   {
    "duration": 10,
    "start_time": "2022-09-08T09:12:24.304Z"
   },
   {
    "duration": 4706,
    "start_time": "2022-09-08T09:28:47.028Z"
   },
   {
    "duration": 24,
    "start_time": "2022-09-08T10:18:02.381Z"
   },
   {
    "duration": 4930,
    "start_time": "2022-09-08T10:20:12.880Z"
   },
   {
    "duration": 4697,
    "start_time": "2022-09-08T10:21:51.538Z"
   },
   {
    "duration": 4846,
    "start_time": "2022-09-08T10:22:33.971Z"
   },
   {
    "duration": 4728,
    "start_time": "2022-09-08T10:23:09.384Z"
   },
   {
    "duration": 4765,
    "start_time": "2022-09-08T10:23:43.371Z"
   },
   {
    "duration": 20,
    "start_time": "2022-09-08T10:24:30.047Z"
   },
   {
    "duration": 20,
    "start_time": "2022-09-08T10:24:41.850Z"
   },
   {
    "duration": 4,
    "start_time": "2022-09-08T10:28:39.200Z"
   },
   {
    "duration": 5,
    "start_time": "2022-09-08T10:28:48.379Z"
   },
   {
    "duration": 4,
    "start_time": "2022-09-08T10:28:53.333Z"
   },
   {
    "duration": 15,
    "start_time": "2022-09-08T10:28:57.555Z"
   },
   {
    "duration": 3,
    "start_time": "2022-09-08T10:29:08.839Z"
   },
   {
    "duration": 5,
    "start_time": "2022-09-08T10:29:12.014Z"
   },
   {
    "duration": 4,
    "start_time": "2022-09-08T10:29:50.542Z"
   },
   {
    "duration": 4,
    "start_time": "2022-09-08T10:30:15.145Z"
   },
   {
    "duration": 8,
    "start_time": "2022-09-08T10:30:35.851Z"
   },
   {
    "duration": 4694,
    "start_time": "2022-09-08T10:30:48.146Z"
   },
   {
    "duration": 4,
    "start_time": "2022-09-08T10:31:47.068Z"
   },
   {
    "duration": 4,
    "start_time": "2022-09-08T10:32:12.914Z"
   },
   {
    "duration": 6,
    "start_time": "2022-09-08T10:32:20.162Z"
   },
   {
    "duration": 4735,
    "start_time": "2022-09-08T10:32:37.182Z"
   },
   {
    "duration": 5,
    "start_time": "2022-09-08T10:32:49.122Z"
   },
   {
    "duration": 5,
    "start_time": "2022-09-08T10:32:55.766Z"
   },
   {
    "duration": 4743,
    "start_time": "2022-09-08T10:33:10.451Z"
   },
   {
    "duration": 3,
    "start_time": "2022-09-08T10:39:43.116Z"
   },
   {
    "duration": 5,
    "start_time": "2022-09-08T10:39:50.569Z"
   },
   {
    "duration": 6,
    "start_time": "2022-09-08T10:39:55.227Z"
   },
   {
    "duration": 3,
    "start_time": "2022-09-08T10:40:09.245Z"
   },
   {
    "duration": 4808,
    "start_time": "2022-09-08T10:40:29.923Z"
   },
   {
    "duration": 4862,
    "start_time": "2022-09-08T10:40:48.640Z"
   },
   {
    "duration": 871,
    "start_time": "2022-09-08T10:41:24.478Z"
   },
   {
    "duration": 4,
    "start_time": "2022-09-08T10:41:37.199Z"
   },
   {
    "duration": 18,
    "start_time": "2022-09-08T10:41:41.782Z"
   },
   {
    "duration": 4,
    "start_time": "2022-09-08T10:41:56.500Z"
   },
   {
    "duration": 46,
    "start_time": "2022-09-08T10:41:59.055Z"
   },
   {
    "duration": 17,
    "start_time": "2022-09-08T10:42:04.325Z"
   },
   {
    "duration": 853,
    "start_time": "2022-09-08T10:42:10.158Z"
   },
   {
    "duration": 4765,
    "start_time": "2022-09-08T10:42:33.683Z"
   },
   {
    "duration": 1837,
    "start_time": "2022-09-08T10:43:09.967Z"
   },
   {
    "duration": 1762,
    "start_time": "2022-09-08T11:08:56.414Z"
   },
   {
    "duration": 1682,
    "start_time": "2022-09-08T11:09:11.582Z"
   },
   {
    "duration": 388,
    "start_time": "2022-09-08T12:02:14.012Z"
   },
   {
    "duration": 1721,
    "start_time": "2022-09-08T12:02:38.672Z"
   },
   {
    "duration": 8,
    "start_time": "2022-09-08T12:02:52.666Z"
   },
   {
    "duration": 331,
    "start_time": "2022-09-08T12:31:27.745Z"
   },
   {
    "duration": 20,
    "start_time": "2022-09-08T12:35:11.589Z"
   },
   {
    "duration": 287,
    "start_time": "2022-09-08T12:35:36.804Z"
   },
   {
    "duration": 269,
    "start_time": "2022-09-08T12:35:46.984Z"
   },
   {
    "duration": 275,
    "start_time": "2022-09-08T12:35:52.829Z"
   },
   {
    "duration": 190,
    "start_time": "2022-09-08T12:36:39.324Z"
   },
   {
    "duration": 13,
    "start_time": "2022-09-08T12:38:08.964Z"
   },
   {
    "duration": 10,
    "start_time": "2022-09-08T12:38:19.964Z"
   },
   {
    "duration": 10,
    "start_time": "2022-09-08T12:38:47.630Z"
   },
   {
    "duration": 216,
    "start_time": "2022-09-08T12:39:10.307Z"
   },
   {
    "duration": 128,
    "start_time": "2022-09-08T12:39:47.880Z"
   },
   {
    "duration": 154,
    "start_time": "2022-09-08T12:39:56.724Z"
   },
   {
    "duration": 125,
    "start_time": "2022-09-08T12:40:01.149Z"
   },
   {
    "duration": 129,
    "start_time": "2022-09-08T12:47:51.965Z"
   },
   {
    "duration": 36,
    "start_time": "2022-09-08T12:49:13.673Z"
   },
   {
    "duration": 36,
    "start_time": "2022-09-08T12:49:19.449Z"
   },
   {
    "duration": 35,
    "start_time": "2022-09-08T12:49:28.714Z"
   },
   {
    "duration": 37,
    "start_time": "2022-09-08T12:49:41.542Z"
   },
   {
    "duration": 36,
    "start_time": "2022-09-08T12:49:44.146Z"
   },
   {
    "duration": 16,
    "start_time": "2022-09-08T12:49:48.174Z"
   },
   {
    "duration": 17,
    "start_time": "2022-09-08T12:49:57.730Z"
   },
   {
    "duration": 19,
    "start_time": "2022-09-08T12:50:07.348Z"
   },
   {
    "duration": 18,
    "start_time": "2022-09-08T12:50:11.601Z"
   },
   {
    "duration": 25,
    "start_time": "2022-09-08T12:50:15.037Z"
   },
   {
    "duration": 35,
    "start_time": "2022-09-08T12:50:22.934Z"
   },
   {
    "duration": 34,
    "start_time": "2022-09-08T12:50:28.389Z"
   },
   {
    "duration": 47,
    "start_time": "2022-09-08T12:50:37.423Z"
   },
   {
    "duration": 70,
    "start_time": "2022-09-08T13:05:43.326Z"
   },
   {
    "duration": 107,
    "start_time": "2022-09-08T13:06:09.273Z"
   },
   {
    "duration": 140,
    "start_time": "2022-09-08T13:06:32.264Z"
   },
   {
    "duration": 139,
    "start_time": "2022-09-08T13:06:49.857Z"
   },
   {
    "duration": 147,
    "start_time": "2022-09-08T13:07:21.564Z"
   },
   {
    "duration": 126,
    "start_time": "2022-09-08T13:07:36.912Z"
   },
   {
    "duration": 142,
    "start_time": "2022-09-08T13:07:43.545Z"
   },
   {
    "duration": 145,
    "start_time": "2022-09-08T13:09:24.717Z"
   },
   {
    "duration": 132,
    "start_time": "2022-09-08T13:09:52.617Z"
   },
   {
    "duration": 136,
    "start_time": "2022-09-08T13:10:43.588Z"
   },
   {
    "duration": 136,
    "start_time": "2022-09-08T13:11:52.568Z"
   },
   {
    "duration": 134,
    "start_time": "2022-09-08T13:12:41.628Z"
   },
   {
    "duration": 220,
    "start_time": "2022-09-08T13:13:59.420Z"
   },
   {
    "duration": 138,
    "start_time": "2022-09-08T13:14:50.685Z"
   },
   {
    "duration": 1583,
    "start_time": "2022-09-08T13:15:23.279Z"
   },
   {
    "duration": 4,
    "start_time": "2022-09-08T13:15:56.222Z"
   },
   {
    "duration": 132,
    "start_time": "2022-09-08T13:16:05.397Z"
   },
   {
    "duration": 129,
    "start_time": "2022-09-08T13:16:43.440Z"
   },
   {
    "duration": 7,
    "start_time": "2022-09-08T13:17:16.488Z"
   },
   {
    "duration": 8,
    "start_time": "2022-09-08T13:17:30.281Z"
   },
   {
    "duration": 6,
    "start_time": "2022-09-08T13:17:41.348Z"
   },
   {
    "duration": 7,
    "start_time": "2022-09-08T13:17:57.551Z"
   },
   {
    "duration": 5,
    "start_time": "2022-09-08T13:18:10.459Z"
   },
   {
    "duration": 122,
    "start_time": "2022-09-08T13:18:45.602Z"
   },
   {
    "duration": 26,
    "start_time": "2022-09-08T13:20:51.880Z"
   },
   {
    "duration": 25,
    "start_time": "2022-09-08T13:21:07.344Z"
   },
   {
    "duration": 8,
    "start_time": "2022-09-08T13:21:22.126Z"
   },
   {
    "duration": 6,
    "start_time": "2022-09-08T13:21:33.715Z"
   },
   {
    "duration": 1411,
    "start_time": "2022-09-08T13:21:45.762Z"
   },
   {
    "duration": 6,
    "start_time": "2022-09-08T13:22:00.588Z"
   },
   {
    "duration": 11,
    "start_time": "2022-09-08T13:22:03.849Z"
   },
   {
    "duration": 7,
    "start_time": "2022-09-08T13:23:05.048Z"
   },
   {
    "duration": 5,
    "start_time": "2022-09-08T13:23:23.122Z"
   },
   {
    "duration": 8,
    "start_time": "2022-09-08T13:23:45.660Z"
   },
   {
    "duration": 130,
    "start_time": "2022-09-08T13:24:06.854Z"
   },
   {
    "duration": 131,
    "start_time": "2022-09-08T13:24:19.861Z"
   },
   {
    "duration": 123,
    "start_time": "2022-09-08T13:24:38.464Z"
   },
   {
    "duration": 72,
    "start_time": "2022-09-08T13:25:47.156Z"
   },
   {
    "duration": 130,
    "start_time": "2022-09-08T13:25:55.660Z"
   },
   {
    "duration": 1793,
    "start_time": "2022-09-08T13:27:21.057Z"
   },
   {
    "duration": 9,
    "start_time": "2022-09-08T13:27:28.459Z"
   },
   {
    "duration": 1693,
    "start_time": "2022-09-08T13:27:39.081Z"
   },
   {
    "duration": 131,
    "start_time": "2022-09-08T13:27:40.776Z"
   },
   {
    "duration": 9,
    "start_time": "2022-09-08T13:27:44.491Z"
   },
   {
    "duration": 1729,
    "start_time": "2022-09-08T13:28:36.876Z"
   },
   {
    "duration": 4,
    "start_time": "2022-09-08T13:28:38.607Z"
   },
   {
    "duration": 7,
    "start_time": "2022-09-08T13:28:39.264Z"
   },
   {
    "duration": 11,
    "start_time": "2022-09-08T13:28:48.484Z"
   },
   {
    "duration": 131,
    "start_time": "2022-09-08T13:29:08.861Z"
   },
   {
    "duration": 4487,
    "start_time": "2022-09-08T13:29:29.980Z"
   },
   {
    "duration": 4554,
    "start_time": "2022-09-08T13:29:35.321Z"
   },
   {
    "duration": 140,
    "start_time": "2022-09-08T13:29:39.877Z"
   },
   {
    "duration": 11,
    "start_time": "2022-09-08T13:30:07.984Z"
   },
   {
    "duration": 3,
    "start_time": "2022-09-08T13:30:15.663Z"
   },
   {
    "duration": 7,
    "start_time": "2022-09-08T13:30:18.164Z"
   },
   {
    "duration": 8,
    "start_time": "2022-09-08T13:30:25.086Z"
   },
   {
    "duration": 3698,
    "start_time": "2022-09-08T13:30:44.217Z"
   },
   {
    "duration": 127,
    "start_time": "2022-09-08T13:30:47.917Z"
   },
   {
    "duration": 8,
    "start_time": "2022-09-08T13:30:49.577Z"
   },
   {
    "duration": 16,
    "start_time": "2022-09-08T13:30:53.988Z"
   },
   {
    "duration": 18,
    "start_time": "2022-09-08T13:31:59.499Z"
   },
   {
    "duration": 19,
    "start_time": "2022-09-08T13:32:31.365Z"
   },
   {
    "duration": 106,
    "start_time": "2022-09-08T13:36:16.261Z"
   },
   {
    "duration": 3815,
    "start_time": "2022-09-08T13:37:36.299Z"
   },
   {
    "duration": 123,
    "start_time": "2022-09-08T13:37:40.116Z"
   },
   {
    "duration": 17,
    "start_time": "2022-09-08T13:37:40.240Z"
   },
   {
    "duration": 3739,
    "start_time": "2022-09-08T13:38:14.225Z"
   },
   {
    "duration": 38,
    "start_time": "2022-09-08T13:39:51.445Z"
   },
   {
    "duration": 3,
    "start_time": "2022-09-08T13:41:58.965Z"
   },
   {
    "duration": 11,
    "start_time": "2022-09-08T13:48:59.355Z"
   },
   {
    "duration": 11,
    "start_time": "2022-09-08T13:49:25.912Z"
   },
   {
    "duration": 12,
    "start_time": "2022-09-08T13:49:45.510Z"
   },
   {
    "duration": 14,
    "start_time": "2022-09-08T13:49:58.915Z"
   },
   {
    "duration": 4,
    "start_time": "2022-09-08T13:50:44.739Z"
   },
   {
    "duration": 3,
    "start_time": "2022-09-08T13:51:06.253Z"
   },
   {
    "duration": 26,
    "start_time": "2022-09-08T13:51:11.922Z"
   },
   {
    "duration": 3,
    "start_time": "2022-09-08T13:51:16.215Z"
   },
   {
    "duration": 6,
    "start_time": "2022-09-08T13:53:31.292Z"
   },
   {
    "duration": 127,
    "start_time": "2022-09-08T13:53:42.349Z"
   },
   {
    "duration": 25,
    "start_time": "2022-09-08T13:53:49.848Z"
   },
   {
    "duration": 7,
    "start_time": "2022-09-08T13:54:01.619Z"
   },
   {
    "duration": 29,
    "start_time": "2022-09-08T13:54:59.976Z"
   },
   {
    "duration": 7,
    "start_time": "2022-09-08T13:55:00.651Z"
   },
   {
    "duration": 51,
    "start_time": "2022-09-08T13:55:10.959Z"
   },
   {
    "duration": 7,
    "start_time": "2022-09-08T13:55:11.523Z"
   },
   {
    "duration": 57,
    "start_time": "2022-09-08T13:55:29.854Z"
   },
   {
    "duration": 132,
    "start_time": "2022-09-08T13:55:41.984Z"
   },
   {
    "duration": 8,
    "start_time": "2022-09-08T13:55:43.540Z"
   },
   {
    "duration": 60,
    "start_time": "2022-09-08T13:56:07.884Z"
   },
   {
    "duration": 60,
    "start_time": "2022-09-08T13:58:23.028Z"
   },
   {
    "duration": 7,
    "start_time": "2022-09-08T13:58:23.278Z"
   },
   {
    "duration": 133,
    "start_time": "2022-09-08T13:59:30.393Z"
   },
   {
    "duration": 123,
    "start_time": "2022-09-08T14:00:37.992Z"
   },
   {
    "duration": 126,
    "start_time": "2022-09-08T14:01:17.258Z"
   },
   {
    "duration": 133,
    "start_time": "2022-09-08T14:02:56.889Z"
   },
   {
    "duration": 1353,
    "start_time": "2022-09-08T14:04:20.348Z"
   },
   {
    "duration": 9,
    "start_time": "2022-09-08T14:05:06.670Z"
   },
   {
    "duration": 151,
    "start_time": "2022-09-08T14:05:26.666Z"
   },
   {
    "duration": 136,
    "start_time": "2022-09-08T14:23:51.658Z"
   },
   {
    "duration": 127,
    "start_time": "2022-09-08T14:23:59.788Z"
   },
   {
    "duration": 167,
    "start_time": "2022-09-08T14:24:12.288Z"
   },
   {
    "duration": 4,
    "start_time": "2022-09-08T14:26:09.124Z"
   },
   {
    "duration": 3,
    "start_time": "2022-09-08T14:32:46.205Z"
   },
   {
    "duration": 152,
    "start_time": "2022-09-08T14:32:53.705Z"
   },
   {
    "duration": 2,
    "start_time": "2022-09-08T14:34:39.427Z"
   },
   {
    "duration": 128,
    "start_time": "2022-09-08T14:35:04.811Z"
   },
   {
    "duration": 364,
    "start_time": "2022-09-08T14:37:19.992Z"
   },
   {
    "duration": 147,
    "start_time": "2022-09-08T14:42:14.967Z"
   },
   {
    "duration": 145,
    "start_time": "2022-09-08T14:43:07.020Z"
   },
   {
    "duration": 263,
    "start_time": "2022-09-08T14:43:14.867Z"
   },
   {
    "duration": 124,
    "start_time": "2022-09-08T14:44:15.374Z"
   },
   {
    "duration": 3,
    "start_time": "2022-09-08T14:46:09.173Z"
   },
   {
    "duration": 3,
    "start_time": "2022-09-08T14:52:52.090Z"
   },
   {
    "duration": 63,
    "start_time": "2022-09-08T14:52:52.979Z"
   },
   {
    "duration": 65,
    "start_time": "2022-09-08T14:56:53.185Z"
   },
   {
    "duration": 139,
    "start_time": "2022-09-08T14:57:09.193Z"
   },
   {
    "duration": 33,
    "start_time": "2022-09-08T15:10:48.401Z"
   },
   {
    "duration": 42,
    "start_time": "2022-09-08T15:10:53.874Z"
   },
   {
    "duration": 43,
    "start_time": "2022-09-08T15:10:58.552Z"
   },
   {
    "duration": 3224,
    "start_time": "2022-09-08T17:45:06.702Z"
   },
   {
    "duration": 5,
    "start_time": "2022-09-08T17:45:20.944Z"
   },
   {
    "duration": 8,
    "start_time": "2022-09-08T17:45:20.951Z"
   },
   {
    "duration": 132,
    "start_time": "2022-09-08T17:45:20.960Z"
   },
   {
    "duration": 16,
    "start_time": "2022-09-08T17:45:21.094Z"
   },
   {
    "duration": 22,
    "start_time": "2022-09-08T17:45:21.112Z"
   },
   {
    "duration": 10,
    "start_time": "2022-09-08T17:45:21.136Z"
   },
   {
    "duration": 4,
    "start_time": "2022-09-08T17:45:21.147Z"
   },
   {
    "duration": 9,
    "start_time": "2022-09-08T17:45:21.170Z"
   },
   {
    "duration": 36,
    "start_time": "2022-09-08T17:45:21.182Z"
   },
   {
    "duration": 4,
    "start_time": "2022-09-08T17:45:21.220Z"
   },
   {
    "duration": 80,
    "start_time": "2022-09-08T17:45:21.225Z"
   },
   {
    "duration": 192,
    "start_time": "2022-09-08T17:45:21.307Z"
   },
   {
    "duration": 58,
    "start_time": "2022-09-08T17:45:21.501Z"
   },
   {
    "duration": 4888,
    "start_time": "2022-09-08T17:45:21.568Z"
   },
   {
    "duration": 229,
    "start_time": "2022-09-08T17:45:26.458Z"
   },
   {
    "duration": 19,
    "start_time": "2022-09-08T17:45:26.688Z"
   },
   {
    "duration": 45,
    "start_time": "2022-09-08T17:45:26.710Z"
   },
   {
    "duration": 59,
    "start_time": "2022-09-08T17:45:26.756Z"
   },
   {
    "duration": 179,
    "start_time": "2022-09-08T17:46:00.948Z"
   },
   {
    "duration": 224,
    "start_time": "2022-09-08T17:46:36.804Z"
   },
   {
    "duration": 150,
    "start_time": "2022-09-08T17:47:38.796Z"
   },
   {
    "duration": 393,
    "start_time": "2022-09-08T17:49:14.853Z"
   },
   {
    "duration": 325,
    "start_time": "2022-09-08T17:57:15.714Z"
   },
   {
    "duration": 597,
    "start_time": "2022-09-08T17:57:38.619Z"
   },
   {
    "duration": 307,
    "start_time": "2022-09-08T17:57:53.171Z"
   },
   {
    "duration": 195,
    "start_time": "2022-09-08T17:57:57.947Z"
   },
   {
    "duration": 1435,
    "start_time": "2022-09-08T17:58:02.604Z"
   },
   {
    "duration": 1083,
    "start_time": "2022-09-08T17:58:10.508Z"
   },
   {
    "duration": 1492,
    "start_time": "2022-09-08T17:58:16.486Z"
   },
   {
    "duration": 1504,
    "start_time": "2022-09-08T17:58:22.516Z"
   },
   {
    "duration": 1480,
    "start_time": "2022-09-08T17:58:30.764Z"
   },
   {
    "duration": 1519,
    "start_time": "2022-09-08T17:58:40.094Z"
   },
   {
    "duration": 1425,
    "start_time": "2022-09-08T18:02:31.793Z"
   },
   {
    "duration": 1413,
    "start_time": "2022-09-08T18:03:39.831Z"
   },
   {
    "duration": 8,
    "start_time": "2022-09-08T18:04:42.528Z"
   },
   {
    "duration": 1388,
    "start_time": "2022-09-08T18:04:53.506Z"
   },
   {
    "duration": 8,
    "start_time": "2022-09-08T18:04:55.840Z"
   },
   {
    "duration": 1401,
    "start_time": "2022-09-08T18:05:20.994Z"
   },
   {
    "duration": 8,
    "start_time": "2022-09-08T18:05:22.397Z"
   },
   {
    "duration": 146,
    "start_time": "2022-09-08T18:06:08.514Z"
   },
   {
    "duration": 2377,
    "start_time": "2022-09-08T18:11:07.733Z"
   },
   {
    "duration": 174,
    "start_time": "2022-09-08T18:11:51.725Z"
   },
   {
    "duration": 149,
    "start_time": "2022-09-08T18:12:07.806Z"
   },
   {
    "duration": 169,
    "start_time": "2022-09-08T18:12:33.638Z"
   },
   {
    "duration": 150,
    "start_time": "2022-09-08T18:12:55.014Z"
   },
   {
    "duration": 194,
    "start_time": "2022-09-08T18:13:04.749Z"
   },
   {
    "duration": 162,
    "start_time": "2022-09-08T18:13:11.501Z"
   },
   {
    "duration": 160,
    "start_time": "2022-09-08T18:13:25.135Z"
   },
   {
    "duration": 7,
    "start_time": "2022-09-08T18:13:44.607Z"
   },
   {
    "duration": 150,
    "start_time": "2022-09-08T18:14:33.624Z"
   },
   {
    "duration": 155,
    "start_time": "2022-09-08T18:15:17.121Z"
   },
   {
    "duration": 196,
    "start_time": "2022-09-08T18:15:32.057Z"
   },
   {
    "duration": 137,
    "start_time": "2022-09-08T18:15:38.894Z"
   },
   {
    "duration": 150,
    "start_time": "2022-09-08T18:16:05.494Z"
   },
   {
    "duration": 1198,
    "start_time": "2022-09-08T18:59:30.591Z"
   },
   {
    "duration": 245,
    "start_time": "2022-09-08T18:59:31.791Z"
   },
   {
    "duration": 4,
    "start_time": "2022-09-08T19:14:30.416Z"
   },
   {
    "duration": 131,
    "start_time": "2022-09-08T19:14:34.678Z"
   },
   {
    "duration": 4,
    "start_time": "2022-09-08T19:15:34.451Z"
   },
   {
    "duration": 209,
    "start_time": "2022-09-08T19:15:37.051Z"
   },
   {
    "duration": 3,
    "start_time": "2022-09-08T19:16:25.617Z"
   },
   {
    "duration": 214,
    "start_time": "2022-09-08T19:16:27.486Z"
   },
   {
    "duration": 1212,
    "start_time": "2022-09-08T19:17:30.783Z"
   },
   {
    "duration": 137,
    "start_time": "2022-09-08T19:17:31.997Z"
   },
   {
    "duration": 4,
    "start_time": "2022-09-08T19:17:45.042Z"
   },
   {
    "duration": 83,
    "start_time": "2022-09-08T19:17:46.593Z"
   },
   {
    "duration": 152,
    "start_time": "2022-09-08T19:17:47.637Z"
   },
   {
    "duration": 1216,
    "start_time": "2022-09-08T19:17:57.097Z"
   },
   {
    "duration": 171,
    "start_time": "2022-09-08T19:17:58.315Z"
   },
   {
    "duration": 1201,
    "start_time": "2022-09-08T19:18:06.078Z"
   },
   {
    "duration": 152,
    "start_time": "2022-09-08T19:18:07.281Z"
   },
   {
    "duration": 1206,
    "start_time": "2022-09-08T19:18:25.540Z"
   },
   {
    "duration": 152,
    "start_time": "2022-09-08T19:18:26.748Z"
   },
   {
    "duration": 4,
    "start_time": "2022-09-08T19:18:33.437Z"
   },
   {
    "duration": 67,
    "start_time": "2022-09-08T19:18:34.747Z"
   },
   {
    "duration": 165,
    "start_time": "2022-09-08T19:18:36.085Z"
   },
   {
    "duration": 1227,
    "start_time": "2022-09-08T19:18:50.783Z"
   },
   {
    "duration": 157,
    "start_time": "2022-09-08T19:18:52.013Z"
   },
   {
    "duration": 4334,
    "start_time": "2022-09-08T19:18:59.611Z"
   },
   {
    "duration": 164,
    "start_time": "2022-09-08T19:19:03.947Z"
   },
   {
    "duration": 6,
    "start_time": "2022-09-08T19:23:58.634Z"
   },
   {
    "duration": 168,
    "start_time": "2022-09-08T19:25:20.295Z"
   },
   {
    "duration": 180,
    "start_time": "2022-09-08T19:25:20.983Z"
   },
   {
    "duration": 6,
    "start_time": "2022-09-08T19:25:40.903Z"
   },
   {
    "duration": 115,
    "start_time": "2022-09-08T19:26:06.344Z"
   },
   {
    "duration": 273,
    "start_time": "2022-09-08T19:26:10.944Z"
   },
   {
    "duration": 63,
    "start_time": "2022-09-08T19:26:39.953Z"
   },
   {
    "duration": 153,
    "start_time": "2022-09-08T19:26:40.490Z"
   },
   {
    "duration": 12,
    "start_time": "2022-09-08T19:32:42.060Z"
   },
   {
    "duration": 7,
    "start_time": "2022-09-08T19:32:59.757Z"
   },
   {
    "duration": 164,
    "start_time": "2022-09-08T19:35:38.007Z"
   },
   {
    "duration": 182,
    "start_time": "2022-09-08T19:39:27.522Z"
   },
   {
    "duration": 169,
    "start_time": "2022-09-08T19:40:23.062Z"
   },
   {
    "duration": 204,
    "start_time": "2022-09-08T19:42:16.633Z"
   },
   {
    "duration": 1308,
    "start_time": "2022-09-08T19:47:07.196Z"
   },
   {
    "duration": 169,
    "start_time": "2022-09-08T19:47:10.447Z"
   },
   {
    "duration": 44,
    "start_time": "2022-09-08T19:56:49.491Z"
   },
   {
    "duration": 33,
    "start_time": "2022-09-08T19:57:19.912Z"
   },
   {
    "duration": 40,
    "start_time": "2022-09-08T20:00:24.794Z"
   },
   {
    "duration": 31,
    "start_time": "2022-09-08T20:00:47.501Z"
   },
   {
    "duration": 35,
    "start_time": "2022-09-08T20:02:51.906Z"
   },
   {
    "duration": 26,
    "start_time": "2022-09-08T20:03:29.640Z"
   },
   {
    "duration": 33,
    "start_time": "2022-09-08T20:03:56.504Z"
   },
   {
    "duration": 1435,
    "start_time": "2022-09-08T20:05:17.192Z"
   },
   {
    "duration": 8,
    "start_time": "2022-09-08T20:05:18.629Z"
   },
   {
    "duration": 40,
    "start_time": "2022-09-08T20:05:18.639Z"
   },
   {
    "duration": 14,
    "start_time": "2022-09-08T20:05:18.681Z"
   },
   {
    "duration": 30,
    "start_time": "2022-09-08T20:05:18.697Z"
   },
   {
    "duration": 9,
    "start_time": "2022-09-08T20:05:18.729Z"
   },
   {
    "duration": 29,
    "start_time": "2022-09-08T20:05:18.740Z"
   },
   {
    "duration": 9,
    "start_time": "2022-09-08T20:05:18.771Z"
   },
   {
    "duration": 15,
    "start_time": "2022-09-08T20:05:18.782Z"
   },
   {
    "duration": 4,
    "start_time": "2022-09-08T20:05:18.799Z"
   },
   {
    "duration": 102,
    "start_time": "2022-09-08T20:05:18.806Z"
   },
   {
    "duration": 199,
    "start_time": "2022-09-08T20:05:18.910Z"
   },
   {
    "duration": 1327,
    "start_time": "2022-09-08T20:05:19.111Z"
   },
   {
    "duration": 160,
    "start_time": "2022-09-08T20:05:20.440Z"
   },
   {
    "duration": 4364,
    "start_time": "2022-09-08T20:05:20.602Z"
   },
   {
    "duration": 166,
    "start_time": "2022-09-08T20:05:24.968Z"
   },
   {
    "duration": 35,
    "start_time": "2022-09-08T20:05:25.136Z"
   },
   {
    "duration": 4,
    "start_time": "2022-09-08T20:05:25.173Z"
   },
   {
    "duration": 7,
    "start_time": "2022-09-08T20:05:25.179Z"
   },
   {
    "duration": 3,
    "start_time": "2022-09-08T20:07:07.645Z"
   },
   {
    "duration": 167,
    "start_time": "2022-09-08T20:07:14.089Z"
   },
   {
    "duration": 2104,
    "start_time": "2022-09-08T20:07:24.797Z"
   },
   {
    "duration": 2,
    "start_time": "2022-09-08T20:07:26.903Z"
   },
   {
    "duration": 43,
    "start_time": "2022-09-08T20:07:26.907Z"
   },
   {
    "duration": 14,
    "start_time": "2022-09-08T20:07:26.952Z"
   },
   {
    "duration": 32,
    "start_time": "2022-09-08T20:07:26.968Z"
   },
   {
    "duration": 12,
    "start_time": "2022-09-08T20:07:27.002Z"
   },
   {
    "duration": 4,
    "start_time": "2022-09-08T20:07:27.017Z"
   },
   {
    "duration": 11,
    "start_time": "2022-09-08T20:07:27.023Z"
   },
   {
    "duration": 40,
    "start_time": "2022-09-08T20:07:27.036Z"
   },
   {
    "duration": 3,
    "start_time": "2022-09-08T20:07:27.078Z"
   },
   {
    "duration": 68,
    "start_time": "2022-09-08T20:07:27.083Z"
   },
   {
    "duration": 201,
    "start_time": "2022-09-08T20:07:27.153Z"
   },
   {
    "duration": 1221,
    "start_time": "2022-09-08T20:07:27.356Z"
   },
   {
    "duration": 152,
    "start_time": "2022-09-08T20:07:28.578Z"
   },
   {
    "duration": 4422,
    "start_time": "2022-09-08T20:07:28.731Z"
   },
   {
    "duration": 167,
    "start_time": "2022-09-08T20:07:33.155Z"
   },
   {
    "duration": 25,
    "start_time": "2022-09-08T20:07:33.324Z"
   },
   {
    "duration": 19,
    "start_time": "2022-09-08T20:07:33.350Z"
   },
   {
    "duration": 8,
    "start_time": "2022-09-08T20:07:33.371Z"
   },
   {
    "duration": 154,
    "start_time": "2022-09-08T20:17:06.000Z"
   },
   {
    "duration": 138,
    "start_time": "2022-09-08T20:17:42.002Z"
   },
   {
    "duration": 223,
    "start_time": "2022-09-08T20:17:58.217Z"
   },
   {
    "duration": 63,
    "start_time": "2022-09-08T20:18:38.588Z"
   },
   {
    "duration": 1198,
    "start_time": "2022-09-08T20:18:53.314Z"
   },
   {
    "duration": 4111,
    "start_time": "2022-09-08T20:19:09.888Z"
   },
   {
    "duration": 63,
    "start_time": "2022-09-08T20:19:27.192Z"
   },
   {
    "duration": 145,
    "start_time": "2022-09-08T20:19:27.788Z"
   },
   {
    "duration": 1159,
    "start_time": "2022-09-08T20:19:34.002Z"
   },
   {
    "duration": 141,
    "start_time": "2022-09-08T20:19:36.008Z"
   },
   {
    "duration": 26,
    "start_time": "2022-09-08T20:19:49.941Z"
   },
   {
    "duration": 552,
    "start_time": "2022-09-08T21:56:06.653Z"
   },
   {
    "duration": 166,
    "start_time": "2022-09-08T21:56:22.812Z"
   },
   {
    "duration": 4448,
    "start_time": "2022-09-08T21:57:52.182Z"
   },
   {
    "duration": 25,
    "start_time": "2022-09-08T21:58:09.558Z"
   },
   {
    "duration": 51,
    "start_time": "2022-09-09T06:16:04.034Z"
   },
   {
    "duration": 1668,
    "start_time": "2022-09-09T06:16:16.541Z"
   },
   {
    "duration": 3,
    "start_time": "2022-09-09T06:16:18.211Z"
   },
   {
    "duration": 83,
    "start_time": "2022-09-09T06:16:18.216Z"
   },
   {
    "duration": 13,
    "start_time": "2022-09-09T06:16:18.301Z"
   },
   {
    "duration": 3927,
    "start_time": "2022-09-09T06:16:18.316Z"
   },
   {
    "duration": 20,
    "start_time": "2022-09-09T06:16:22.245Z"
   },
   {
    "duration": 9,
    "start_time": "2022-09-09T06:16:22.266Z"
   },
   {
    "duration": 40,
    "start_time": "2022-09-09T06:16:22.276Z"
   },
   {
    "duration": 31,
    "start_time": "2022-09-09T06:16:22.318Z"
   },
   {
    "duration": 31,
    "start_time": "2022-09-09T06:16:22.351Z"
   },
   {
    "duration": 14,
    "start_time": "2022-09-09T06:16:22.383Z"
   },
   {
    "duration": 89,
    "start_time": "2022-09-09T06:16:22.399Z"
   },
   {
    "duration": 170,
    "start_time": "2022-09-09T06:16:22.490Z"
   },
   {
    "duration": 547,
    "start_time": "2022-09-09T06:16:22.662Z"
   },
   {
    "duration": 162,
    "start_time": "2022-09-09T06:16:23.210Z"
   },
   {
    "duration": 4334,
    "start_time": "2022-09-09T06:16:23.374Z"
   },
   {
    "duration": 162,
    "start_time": "2022-09-09T06:16:27.709Z"
   },
   {
    "duration": 34,
    "start_time": "2022-09-09T06:16:27.872Z"
   },
   {
    "duration": 5,
    "start_time": "2022-09-09T06:16:27.908Z"
   },
   {
    "duration": 4965,
    "start_time": "2022-09-09T06:18:11.681Z"
   },
   {
    "duration": 4989,
    "start_time": "2022-09-09T06:18:45.274Z"
   },
   {
    "duration": 5042,
    "start_time": "2022-09-09T06:20:07.253Z"
   },
   {
    "duration": 4985,
    "start_time": "2022-09-09T06:23:13.754Z"
   },
   {
    "duration": 5061,
    "start_time": "2022-09-09T06:23:37.802Z"
   },
   {
    "duration": 5096,
    "start_time": "2022-09-09T06:23:53.279Z"
   },
   {
    "duration": 5130,
    "start_time": "2022-09-09T06:24:03.846Z"
   },
   {
    "duration": 5068,
    "start_time": "2022-09-09T06:24:20.924Z"
   },
   {
    "duration": 5083,
    "start_time": "2022-09-09T06:24:56.100Z"
   },
   {
    "duration": 4994,
    "start_time": "2022-09-09T06:25:08.583Z"
   },
   {
    "duration": 5378,
    "start_time": "2022-09-09T06:32:41.109Z"
   },
   {
    "duration": 5273,
    "start_time": "2022-09-09T06:33:06.796Z"
   },
   {
    "duration": 133,
    "start_time": "2022-09-09T06:33:53.163Z"
   },
   {
    "duration": 146,
    "start_time": "2022-09-09T06:59:49.317Z"
   },
   {
    "duration": 17,
    "start_time": "2022-09-09T07:01:55.371Z"
   },
   {
    "duration": 9,
    "start_time": "2022-09-09T07:02:58.716Z"
   },
   {
    "duration": 12,
    "start_time": "2022-09-09T07:03:04.558Z"
   },
   {
    "duration": 6,
    "start_time": "2022-09-09T07:47:20.664Z"
   },
   {
    "duration": 7,
    "start_time": "2022-09-09T07:56:45.575Z"
   },
   {
    "duration": 8,
    "start_time": "2022-09-09T07:57:21.750Z"
   },
   {
    "duration": 9,
    "start_time": "2022-09-09T08:00:57.665Z"
   },
   {
    "duration": 7,
    "start_time": "2022-09-09T08:05:40.712Z"
   },
   {
    "duration": 4,
    "start_time": "2022-09-09T08:25:31.572Z"
   },
   {
    "duration": 10,
    "start_time": "2022-09-09T08:37:00.971Z"
   },
   {
    "duration": 18479,
    "start_time": "2022-09-09T08:37:04.657Z"
   },
   {
    "duration": 18139,
    "start_time": "2022-09-09T09:15:59.689Z"
   },
   {
    "duration": 4,
    "start_time": "2022-09-09T09:16:17.830Z"
   },
   {
    "duration": 13,
    "start_time": "2022-09-09T09:18:44.337Z"
   },
   {
    "duration": 10,
    "start_time": "2022-09-09T09:18:53.141Z"
   },
   {
    "duration": 18036,
    "start_time": "2022-09-09T09:19:39.182Z"
   },
   {
    "duration": 4,
    "start_time": "2022-09-09T09:19:57.220Z"
   },
   {
    "duration": 8,
    "start_time": "2022-09-09T09:19:57.225Z"
   },
   {
    "duration": 9,
    "start_time": "2022-09-09T09:21:17.641Z"
   },
   {
    "duration": 4,
    "start_time": "2022-09-09T09:21:28.009Z"
   },
   {
    "duration": 24,
    "start_time": "2022-09-09T09:21:56.336Z"
   },
   {
    "duration": 71,
    "start_time": "2022-09-09T09:23:54.726Z"
   },
   {
    "duration": 238,
    "start_time": "2022-09-09T09:24:29.996Z"
   },
   {
    "duration": 18055,
    "start_time": "2022-09-09T09:24:42.210Z"
   },
   {
    "duration": 4,
    "start_time": "2022-09-09T09:25:37.586Z"
   },
   {
    "duration": 5,
    "start_time": "2022-09-09T09:27:30.302Z"
   },
   {
    "duration": 144,
    "start_time": "2022-09-09T09:27:44.179Z"
   },
   {
    "duration": 152,
    "start_time": "2022-09-09T09:28:18.741Z"
   },
   {
    "duration": 16,
    "start_time": "2022-09-09T09:29:05.398Z"
   },
   {
    "duration": 12,
    "start_time": "2022-09-09T09:29:16.852Z"
   },
   {
    "duration": 6,
    "start_time": "2022-09-09T09:29:24.857Z"
   },
   {
    "duration": 155,
    "start_time": "2022-09-09T09:30:08.402Z"
   },
   {
    "duration": 5,
    "start_time": "2022-09-09T09:31:02.971Z"
   },
   {
    "duration": 4,
    "start_time": "2022-09-09T09:31:27.825Z"
   },
   {
    "duration": 18524,
    "start_time": "2022-09-09T09:32:43.757Z"
   },
   {
    "duration": 18,
    "start_time": "2022-09-09T09:33:13.765Z"
   },
   {
    "duration": 18,
    "start_time": "2022-09-09T09:33:24.113Z"
   },
   {
    "duration": 20,
    "start_time": "2022-09-09T09:35:04.467Z"
   },
   {
    "duration": 17,
    "start_time": "2022-09-09T09:35:37.479Z"
   },
   {
    "duration": 18134,
    "start_time": "2022-09-09T09:41:32.308Z"
   },
   {
    "duration": 18134,
    "start_time": "2022-09-09T09:42:31.310Z"
   },
   {
    "duration": 2660,
    "start_time": "2022-09-09T09:47:51.941Z"
   },
   {
    "duration": 4,
    "start_time": "2022-09-09T09:47:54.604Z"
   },
   {
    "duration": 89,
    "start_time": "2022-09-09T09:47:54.611Z"
   },
   {
    "duration": 14,
    "start_time": "2022-09-09T09:47:54.702Z"
   },
   {
    "duration": 5228,
    "start_time": "2022-09-09T09:47:54.719Z"
   },
   {
    "duration": 25,
    "start_time": "2022-09-09T09:47:59.950Z"
   },
   {
    "duration": 9,
    "start_time": "2022-09-09T09:47:59.977Z"
   },
   {
    "duration": 20,
    "start_time": "2022-09-09T09:47:59.988Z"
   },
   {
    "duration": 53,
    "start_time": "2022-09-09T09:48:00.010Z"
   },
   {
    "duration": 17,
    "start_time": "2022-09-09T09:48:00.066Z"
   },
   {
    "duration": 8,
    "start_time": "2022-09-09T09:48:00.085Z"
   },
   {
    "duration": 111,
    "start_time": "2022-09-09T09:48:00.096Z"
   },
   {
    "duration": 187,
    "start_time": "2022-09-09T09:48:00.208Z"
   },
   {
    "duration": 549,
    "start_time": "2022-09-09T09:48:00.397Z"
   },
   {
    "duration": 181,
    "start_time": "2022-09-09T09:48:00.948Z"
   },
   {
    "duration": 4809,
    "start_time": "2022-09-09T09:48:01.132Z"
   },
   {
    "duration": 178,
    "start_time": "2022-09-09T09:48:05.943Z"
   },
   {
    "duration": 18492,
    "start_time": "2022-09-09T09:48:06.123Z"
   },
   {
    "duration": 28,
    "start_time": "2022-09-09T09:48:24.617Z"
   },
   {
    "duration": 15,
    "start_time": "2022-09-09T09:48:24.647Z"
   },
   {
    "duration": 32,
    "start_time": "2022-09-09T09:48:24.663Z"
   },
   {
    "duration": 11,
    "start_time": "2022-09-09T09:48:24.697Z"
   },
   {
    "duration": 4,
    "start_time": "2022-09-09T09:49:34.165Z"
   },
   {
    "duration": 5328,
    "start_time": "2022-09-09T09:49:57.379Z"
   }
  ],
  "kernelspec": {
   "display_name": "Python 3 (ipykernel)",
   "language": "python",
   "name": "python3"
  },
  "language_info": {
   "codemirror_mode": {
    "name": "ipython",
    "version": 3
   },
   "file_extension": ".py",
   "mimetype": "text/x-python",
   "name": "python",
   "nbconvert_exporter": "python",
   "pygments_lexer": "ipython3",
   "version": "3.8.10"
  },
  "toc": {
   "base_numbering": 1,
   "nav_menu": {},
   "number_sections": true,
   "sideBar": true,
   "skip_h1_title": true,
   "title_cell": "Table of Contents",
   "title_sidebar": "Contents",
   "toc_cell": false,
   "toc_position": {},
   "toc_section_display": true,
   "toc_window_display": false
  }
 },
 "nbformat": 4,
 "nbformat_minor": 2
}
