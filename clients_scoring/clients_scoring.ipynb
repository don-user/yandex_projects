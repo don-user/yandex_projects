{
 "cells": [
  {
   "cell_type": "markdown",
   "id": "744d7639",
   "metadata": {
    "deletable": false,
    "id": "744d7639"
   },
   "source": [
    "# Исследование надежности заемщиков\n"
   ]
  },
  {
   "cell_type": "markdown",
   "id": "e7a14c31",
   "metadata": {
    "deletable": false,
    "id": "e7a14c31"
   },
   "source": [
    "Импортируем библиотеку pandas. Считаем данные из csv-файла в датафрейм и сохраним в переменную `data`. "
   ]
  },
  {
   "cell_type": "code",
   "execution_count": null,
   "id": "b91f10ba",
   "metadata": {},
   "outputs": [],
   "source": [
    "import pandas as pd\n",
    "import seaborn as sns\n",
    "import matplotlib.pyplot as plt\n",
    "import warnings\n",
    "warnings.filterwarnings(\"ignore\")"
   ]
  },
  {
   "cell_type": "code",
   "execution_count": 2,
   "id": "7bcf75c9",
   "metadata": {
    "deletable": false,
    "id": "7bcf75c9"
   },
   "outputs": [],
   "source": [
    "try:\n",
    "    data = pd.read_csv('/datasets/data.csv')\n",
    "except:\n",
    "    data = pd.read_csv('https://code.s3.yandex.net/datasets/data.csv')"
   ]
  },
  {
   "cell_type": "markdown",
   "id": "b8038fe3",
   "metadata": {
    "deletable": false,
    "id": "b8038fe3"
   },
   "source": [
    "Выведим первые 20 строчек датафрейма `data` на экран."
   ]
  },
  {
   "cell_type": "code",
   "execution_count": 3,
   "id": "2a7cab99",
   "metadata": {
    "deletable": false,
    "id": "2a7cab99",
    "outputId": "1a8f3ef2-d323-4ec2-ddf7-89670b5944c4"
   },
   "outputs": [
    {
     "data": {
      "text/html": [
       "<div>\n",
       "<style scoped>\n",
       "    .dataframe tbody tr th:only-of-type {\n",
       "        vertical-align: middle;\n",
       "    }\n",
       "\n",
       "    .dataframe tbody tr th {\n",
       "        vertical-align: top;\n",
       "    }\n",
       "\n",
       "    .dataframe thead th {\n",
       "        text-align: right;\n",
       "    }\n",
       "</style>\n",
       "<table border=\"1\" class=\"dataframe\">\n",
       "  <thead>\n",
       "    <tr style=\"text-align: right;\">\n",
       "      <th></th>\n",
       "      <th>children</th>\n",
       "      <th>days_employed</th>\n",
       "      <th>dob_years</th>\n",
       "      <th>education</th>\n",
       "      <th>education_id</th>\n",
       "      <th>family_status</th>\n",
       "      <th>family_status_id</th>\n",
       "      <th>gender</th>\n",
       "      <th>income_type</th>\n",
       "      <th>debt</th>\n",
       "      <th>total_income</th>\n",
       "      <th>purpose</th>\n",
       "    </tr>\n",
       "  </thead>\n",
       "  <tbody>\n",
       "    <tr>\n",
       "      <th>0</th>\n",
       "      <td>1</td>\n",
       "      <td>-8437.673028</td>\n",
       "      <td>42</td>\n",
       "      <td>высшее</td>\n",
       "      <td>0</td>\n",
       "      <td>женат / замужем</td>\n",
       "      <td>0</td>\n",
       "      <td>F</td>\n",
       "      <td>сотрудник</td>\n",
       "      <td>0</td>\n",
       "      <td>253875.639453</td>\n",
       "      <td>покупка жилья</td>\n",
       "    </tr>\n",
       "    <tr>\n",
       "      <th>1</th>\n",
       "      <td>1</td>\n",
       "      <td>-4024.803754</td>\n",
       "      <td>36</td>\n",
       "      <td>среднее</td>\n",
       "      <td>1</td>\n",
       "      <td>женат / замужем</td>\n",
       "      <td>0</td>\n",
       "      <td>F</td>\n",
       "      <td>сотрудник</td>\n",
       "      <td>0</td>\n",
       "      <td>112080.014102</td>\n",
       "      <td>приобретение автомобиля</td>\n",
       "    </tr>\n",
       "    <tr>\n",
       "      <th>2</th>\n",
       "      <td>0</td>\n",
       "      <td>-5623.422610</td>\n",
       "      <td>33</td>\n",
       "      <td>Среднее</td>\n",
       "      <td>1</td>\n",
       "      <td>женат / замужем</td>\n",
       "      <td>0</td>\n",
       "      <td>M</td>\n",
       "      <td>сотрудник</td>\n",
       "      <td>0</td>\n",
       "      <td>145885.952297</td>\n",
       "      <td>покупка жилья</td>\n",
       "    </tr>\n",
       "    <tr>\n",
       "      <th>3</th>\n",
       "      <td>3</td>\n",
       "      <td>-4124.747207</td>\n",
       "      <td>32</td>\n",
       "      <td>среднее</td>\n",
       "      <td>1</td>\n",
       "      <td>женат / замужем</td>\n",
       "      <td>0</td>\n",
       "      <td>M</td>\n",
       "      <td>сотрудник</td>\n",
       "      <td>0</td>\n",
       "      <td>267628.550329</td>\n",
       "      <td>дополнительное образование</td>\n",
       "    </tr>\n",
       "    <tr>\n",
       "      <th>4</th>\n",
       "      <td>0</td>\n",
       "      <td>340266.072047</td>\n",
       "      <td>53</td>\n",
       "      <td>среднее</td>\n",
       "      <td>1</td>\n",
       "      <td>гражданский брак</td>\n",
       "      <td>1</td>\n",
       "      <td>F</td>\n",
       "      <td>пенсионер</td>\n",
       "      <td>0</td>\n",
       "      <td>158616.077870</td>\n",
       "      <td>сыграть свадьбу</td>\n",
       "    </tr>\n",
       "    <tr>\n",
       "      <th>5</th>\n",
       "      <td>0</td>\n",
       "      <td>-926.185831</td>\n",
       "      <td>27</td>\n",
       "      <td>высшее</td>\n",
       "      <td>0</td>\n",
       "      <td>гражданский брак</td>\n",
       "      <td>1</td>\n",
       "      <td>M</td>\n",
       "      <td>компаньон</td>\n",
       "      <td>0</td>\n",
       "      <td>255763.565419</td>\n",
       "      <td>покупка жилья</td>\n",
       "    </tr>\n",
       "    <tr>\n",
       "      <th>6</th>\n",
       "      <td>0</td>\n",
       "      <td>-2879.202052</td>\n",
       "      <td>43</td>\n",
       "      <td>высшее</td>\n",
       "      <td>0</td>\n",
       "      <td>женат / замужем</td>\n",
       "      <td>0</td>\n",
       "      <td>F</td>\n",
       "      <td>компаньон</td>\n",
       "      <td>0</td>\n",
       "      <td>240525.971920</td>\n",
       "      <td>операции с жильем</td>\n",
       "    </tr>\n",
       "    <tr>\n",
       "      <th>7</th>\n",
       "      <td>0</td>\n",
       "      <td>-152.779569</td>\n",
       "      <td>50</td>\n",
       "      <td>СРЕДНЕЕ</td>\n",
       "      <td>1</td>\n",
       "      <td>женат / замужем</td>\n",
       "      <td>0</td>\n",
       "      <td>M</td>\n",
       "      <td>сотрудник</td>\n",
       "      <td>0</td>\n",
       "      <td>135823.934197</td>\n",
       "      <td>образование</td>\n",
       "    </tr>\n",
       "    <tr>\n",
       "      <th>8</th>\n",
       "      <td>2</td>\n",
       "      <td>-6929.865299</td>\n",
       "      <td>35</td>\n",
       "      <td>ВЫСШЕЕ</td>\n",
       "      <td>0</td>\n",
       "      <td>гражданский брак</td>\n",
       "      <td>1</td>\n",
       "      <td>F</td>\n",
       "      <td>сотрудник</td>\n",
       "      <td>0</td>\n",
       "      <td>95856.832424</td>\n",
       "      <td>на проведение свадьбы</td>\n",
       "    </tr>\n",
       "    <tr>\n",
       "      <th>9</th>\n",
       "      <td>0</td>\n",
       "      <td>-2188.756445</td>\n",
       "      <td>41</td>\n",
       "      <td>среднее</td>\n",
       "      <td>1</td>\n",
       "      <td>женат / замужем</td>\n",
       "      <td>0</td>\n",
       "      <td>M</td>\n",
       "      <td>сотрудник</td>\n",
       "      <td>0</td>\n",
       "      <td>144425.938277</td>\n",
       "      <td>покупка жилья для семьи</td>\n",
       "    </tr>\n",
       "    <tr>\n",
       "      <th>10</th>\n",
       "      <td>2</td>\n",
       "      <td>-4171.483647</td>\n",
       "      <td>36</td>\n",
       "      <td>высшее</td>\n",
       "      <td>0</td>\n",
       "      <td>женат / замужем</td>\n",
       "      <td>0</td>\n",
       "      <td>M</td>\n",
       "      <td>компаньон</td>\n",
       "      <td>0</td>\n",
       "      <td>113943.491460</td>\n",
       "      <td>покупка недвижимости</td>\n",
       "    </tr>\n",
       "    <tr>\n",
       "      <th>11</th>\n",
       "      <td>0</td>\n",
       "      <td>-792.701887</td>\n",
       "      <td>40</td>\n",
       "      <td>среднее</td>\n",
       "      <td>1</td>\n",
       "      <td>женат / замужем</td>\n",
       "      <td>0</td>\n",
       "      <td>F</td>\n",
       "      <td>сотрудник</td>\n",
       "      <td>0</td>\n",
       "      <td>77069.234271</td>\n",
       "      <td>покупка коммерческой недвижимости</td>\n",
       "    </tr>\n",
       "    <tr>\n",
       "      <th>12</th>\n",
       "      <td>0</td>\n",
       "      <td>NaN</td>\n",
       "      <td>65</td>\n",
       "      <td>среднее</td>\n",
       "      <td>1</td>\n",
       "      <td>гражданский брак</td>\n",
       "      <td>1</td>\n",
       "      <td>M</td>\n",
       "      <td>пенсионер</td>\n",
       "      <td>0</td>\n",
       "      <td>NaN</td>\n",
       "      <td>сыграть свадьбу</td>\n",
       "    </tr>\n",
       "    <tr>\n",
       "      <th>13</th>\n",
       "      <td>0</td>\n",
       "      <td>-1846.641941</td>\n",
       "      <td>54</td>\n",
       "      <td>неоконченное высшее</td>\n",
       "      <td>2</td>\n",
       "      <td>женат / замужем</td>\n",
       "      <td>0</td>\n",
       "      <td>F</td>\n",
       "      <td>сотрудник</td>\n",
       "      <td>0</td>\n",
       "      <td>130458.228857</td>\n",
       "      <td>приобретение автомобиля</td>\n",
       "    </tr>\n",
       "    <tr>\n",
       "      <th>14</th>\n",
       "      <td>0</td>\n",
       "      <td>-1844.956182</td>\n",
       "      <td>56</td>\n",
       "      <td>высшее</td>\n",
       "      <td>0</td>\n",
       "      <td>гражданский брак</td>\n",
       "      <td>1</td>\n",
       "      <td>F</td>\n",
       "      <td>компаньон</td>\n",
       "      <td>1</td>\n",
       "      <td>165127.911772</td>\n",
       "      <td>покупка жилой недвижимости</td>\n",
       "    </tr>\n",
       "    <tr>\n",
       "      <th>15</th>\n",
       "      <td>1</td>\n",
       "      <td>-972.364419</td>\n",
       "      <td>26</td>\n",
       "      <td>среднее</td>\n",
       "      <td>1</td>\n",
       "      <td>женат / замужем</td>\n",
       "      <td>0</td>\n",
       "      <td>F</td>\n",
       "      <td>сотрудник</td>\n",
       "      <td>0</td>\n",
       "      <td>116820.904450</td>\n",
       "      <td>строительство собственной недвижимости</td>\n",
       "    </tr>\n",
       "    <tr>\n",
       "      <th>16</th>\n",
       "      <td>0</td>\n",
       "      <td>-1719.934226</td>\n",
       "      <td>35</td>\n",
       "      <td>среднее</td>\n",
       "      <td>1</td>\n",
       "      <td>женат / замужем</td>\n",
       "      <td>0</td>\n",
       "      <td>F</td>\n",
       "      <td>сотрудник</td>\n",
       "      <td>0</td>\n",
       "      <td>289202.704229</td>\n",
       "      <td>недвижимость</td>\n",
       "    </tr>\n",
       "    <tr>\n",
       "      <th>17</th>\n",
       "      <td>0</td>\n",
       "      <td>-2369.999720</td>\n",
       "      <td>33</td>\n",
       "      <td>высшее</td>\n",
       "      <td>0</td>\n",
       "      <td>гражданский брак</td>\n",
       "      <td>1</td>\n",
       "      <td>M</td>\n",
       "      <td>сотрудник</td>\n",
       "      <td>0</td>\n",
       "      <td>90410.586745</td>\n",
       "      <td>строительство недвижимости</td>\n",
       "    </tr>\n",
       "    <tr>\n",
       "      <th>18</th>\n",
       "      <td>0</td>\n",
       "      <td>400281.136913</td>\n",
       "      <td>53</td>\n",
       "      <td>среднее</td>\n",
       "      <td>1</td>\n",
       "      <td>вдовец / вдова</td>\n",
       "      <td>2</td>\n",
       "      <td>F</td>\n",
       "      <td>пенсионер</td>\n",
       "      <td>0</td>\n",
       "      <td>56823.777243</td>\n",
       "      <td>на покупку подержанного автомобиля</td>\n",
       "    </tr>\n",
       "    <tr>\n",
       "      <th>19</th>\n",
       "      <td>0</td>\n",
       "      <td>-10038.818549</td>\n",
       "      <td>48</td>\n",
       "      <td>СРЕДНЕЕ</td>\n",
       "      <td>1</td>\n",
       "      <td>в разводе</td>\n",
       "      <td>3</td>\n",
       "      <td>F</td>\n",
       "      <td>сотрудник</td>\n",
       "      <td>0</td>\n",
       "      <td>242831.107982</td>\n",
       "      <td>на покупку своего автомобиля</td>\n",
       "    </tr>\n",
       "  </tbody>\n",
       "</table>\n",
       "</div>"
      ],
      "text/plain": [
       "    children  days_employed  dob_years            education  education_id  \\\n",
       "0          1   -8437.673028         42               высшее             0   \n",
       "1          1   -4024.803754         36              среднее             1   \n",
       "2          0   -5623.422610         33              Среднее             1   \n",
       "3          3   -4124.747207         32              среднее             1   \n",
       "4          0  340266.072047         53              среднее             1   \n",
       "5          0    -926.185831         27               высшее             0   \n",
       "6          0   -2879.202052         43               высшее             0   \n",
       "7          0    -152.779569         50              СРЕДНЕЕ             1   \n",
       "8          2   -6929.865299         35               ВЫСШЕЕ             0   \n",
       "9          0   -2188.756445         41              среднее             1   \n",
       "10         2   -4171.483647         36               высшее             0   \n",
       "11         0    -792.701887         40              среднее             1   \n",
       "12         0            NaN         65              среднее             1   \n",
       "13         0   -1846.641941         54  неоконченное высшее             2   \n",
       "14         0   -1844.956182         56               высшее             0   \n",
       "15         1    -972.364419         26              среднее             1   \n",
       "16         0   -1719.934226         35              среднее             1   \n",
       "17         0   -2369.999720         33               высшее             0   \n",
       "18         0  400281.136913         53              среднее             1   \n",
       "19         0  -10038.818549         48              СРЕДНЕЕ             1   \n",
       "\n",
       "       family_status  family_status_id gender income_type  debt  \\\n",
       "0    женат / замужем                 0      F   сотрудник     0   \n",
       "1    женат / замужем                 0      F   сотрудник     0   \n",
       "2    женат / замужем                 0      M   сотрудник     0   \n",
       "3    женат / замужем                 0      M   сотрудник     0   \n",
       "4   гражданский брак                 1      F   пенсионер     0   \n",
       "5   гражданский брак                 1      M   компаньон     0   \n",
       "6    женат / замужем                 0      F   компаньон     0   \n",
       "7    женат / замужем                 0      M   сотрудник     0   \n",
       "8   гражданский брак                 1      F   сотрудник     0   \n",
       "9    женат / замужем                 0      M   сотрудник     0   \n",
       "10   женат / замужем                 0      M   компаньон     0   \n",
       "11   женат / замужем                 0      F   сотрудник     0   \n",
       "12  гражданский брак                 1      M   пенсионер     0   \n",
       "13   женат / замужем                 0      F   сотрудник     0   \n",
       "14  гражданский брак                 1      F   компаньон     1   \n",
       "15   женат / замужем                 0      F   сотрудник     0   \n",
       "16   женат / замужем                 0      F   сотрудник     0   \n",
       "17  гражданский брак                 1      M   сотрудник     0   \n",
       "18    вдовец / вдова                 2      F   пенсионер     0   \n",
       "19         в разводе                 3      F   сотрудник     0   \n",
       "\n",
       "     total_income                                 purpose  \n",
       "0   253875.639453                           покупка жилья  \n",
       "1   112080.014102                 приобретение автомобиля  \n",
       "2   145885.952297                           покупка жилья  \n",
       "3   267628.550329              дополнительное образование  \n",
       "4   158616.077870                         сыграть свадьбу  \n",
       "5   255763.565419                           покупка жилья  \n",
       "6   240525.971920                       операции с жильем  \n",
       "7   135823.934197                             образование  \n",
       "8    95856.832424                   на проведение свадьбы  \n",
       "9   144425.938277                 покупка жилья для семьи  \n",
       "10  113943.491460                    покупка недвижимости  \n",
       "11   77069.234271       покупка коммерческой недвижимости  \n",
       "12            NaN                         сыграть свадьбу  \n",
       "13  130458.228857                 приобретение автомобиля  \n",
       "14  165127.911772              покупка жилой недвижимости  \n",
       "15  116820.904450  строительство собственной недвижимости  \n",
       "16  289202.704229                            недвижимость  \n",
       "17   90410.586745              строительство недвижимости  \n",
       "18   56823.777243      на покупку подержанного автомобиля  \n",
       "19  242831.107982            на покупку своего автомобиля  "
      ]
     },
     "execution_count": 3,
     "metadata": {},
     "output_type": "execute_result"
    }
   ],
   "source": [
    "data.head(20)"
   ]
  },
  {
   "cell_type": "markdown",
   "id": "1c12e233",
   "metadata": {
    "deletable": false,
    "id": "1c12e233"
   },
   "source": [
    "Выведим основную информацию о датафрейме с помощью метода `info()`."
   ]
  },
  {
   "cell_type": "code",
   "execution_count": 4,
   "id": "2b757bca",
   "metadata": {
    "deletable": false,
    "id": "2b757bca",
    "outputId": "15376089-8dad-46c9-b520-c05248d43158"
   },
   "outputs": [
    {
     "name": "stdout",
     "output_type": "stream",
     "text": [
      "<class 'pandas.core.frame.DataFrame'>\n",
      "RangeIndex: 21525 entries, 0 to 21524\n",
      "Data columns (total 12 columns):\n",
      " #   Column            Non-Null Count  Dtype  \n",
      "---  ------            --------------  -----  \n",
      " 0   children          21525 non-null  int64  \n",
      " 1   days_employed     19351 non-null  float64\n",
      " 2   dob_years         21525 non-null  int64  \n",
      " 3   education         21525 non-null  object \n",
      " 4   education_id      21525 non-null  int64  \n",
      " 5   family_status     21525 non-null  object \n",
      " 6   family_status_id  21525 non-null  int64  \n",
      " 7   gender            21525 non-null  object \n",
      " 8   income_type       21525 non-null  object \n",
      " 9   debt              21525 non-null  int64  \n",
      " 10  total_income      19351 non-null  float64\n",
      " 11  purpose           21525 non-null  object \n",
      "dtypes: float64(2), int64(5), object(5)\n",
      "memory usage: 2.0+ MB\n"
     ]
    }
   ],
   "source": [
    "data.info()"
   ]
  },
  {
   "cell_type": "markdown",
   "id": "333ec665",
   "metadata": {
    "deletable": false,
    "id": "333ec665"
   },
   "source": [
    "## Предобработка данных"
   ]
  },
  {
   "cell_type": "markdown",
   "id": "02d92d53",
   "metadata": {
    "deletable": false,
    "id": "02d92d53"
   },
   "source": [
    "### Удаление пропусков"
   ]
  },
  {
   "cell_type": "markdown",
   "id": "cd84967c",
   "metadata": {
    "deletable": false,
    "id": "cd84967c"
   },
   "source": [
    "Выведим количество пропущенных значений для каждого столбца"
   ]
  },
  {
   "cell_type": "code",
   "execution_count": 5,
   "id": "7f9b2309",
   "metadata": {
    "deletable": false,
    "id": "7f9b2309",
    "outputId": "81f4d817-781c-465c-ed15-91ce4446810d"
   },
   "outputs": [
    {
     "data": {
      "text/plain": [
       "children               0\n",
       "days_employed       2174\n",
       "dob_years              0\n",
       "education              0\n",
       "education_id           0\n",
       "family_status          0\n",
       "family_status_id       0\n",
       "gender                 0\n",
       "income_type            0\n",
       "debt                   0\n",
       "total_income        2174\n",
       "purpose                0\n",
       "dtype: int64"
      ]
     },
     "execution_count": 5,
     "metadata": {},
     "output_type": "execute_result"
    }
   ],
   "source": [
    "data.isna().sum()"
   ]
  },
  {
   "cell_type": "markdown",
   "id": "db86e27b",
   "metadata": {
    "deletable": false,
    "id": "db86e27b"
   },
   "source": [
    "В двух столбцах есть пропущенные значения. Один из них — `days_employed`. Пропуски в этом столбце обработаем на следующем этапе. Другой столбец с пропущенными значениями — `total_income` — хранит данные о доходах. На сумму дохода сильнее всего влияет тип занятости, поэтому заполнить пропуски в этом столбце нужно медианным значением по каждому типу из столбца `income_type`. Например, у человека с типом занятости `сотрудник` пропуск в столбце `total_income` должен быть заполнен медианным доходом среди всех записей с тем же типом."
   ]
  },
  {
   "cell_type": "code",
   "execution_count": 6,
   "id": "42006a93",
   "metadata": {
    "deletable": false,
    "id": "42006a93"
   },
   "outputs": [],
   "source": [
    "for t in data['income_type'].unique():\n",
    "    data.loc[(data['income_type'] == t) & (data['total_income'].isna()), 'total_income'] = \\\n",
    "    data.loc[(data['income_type'] == t), 'total_income'].median()"
   ]
  },
  {
   "cell_type": "markdown",
   "id": "89da5ece",
   "metadata": {
    "deletable": false,
    "id": "89da5ece"
   },
   "source": [
    "### Обработка аномальных значений"
   ]
  },
  {
   "cell_type": "markdown",
   "id": "57964554",
   "metadata": {
    "deletable": false,
    "id": "57964554"
   },
   "source": [
    "В данных могут встречаться артефакты (аномалии) — значения, которые не отражают действительность и появились по какой-то ошибке. Отрицательное количество дней трудового стажа в столбце `days_employed` - артефакт. Обработаем значения в этом столбце: заменим все отрицательные значения положительными с помощью метода `abs()`."
   ]
  },
  {
   "cell_type": "code",
   "execution_count": 7,
   "id": "f6f055bf",
   "metadata": {
    "deletable": false,
    "id": "f6f055bf"
   },
   "outputs": [],
   "source": [
    "data['days_employed'] = data['days_employed'].abs()"
   ]
  },
  {
   "cell_type": "markdown",
   "id": "6107dd2f",
   "metadata": {
    "deletable": false,
    "id": "6107dd2f"
   },
   "source": [
    "Для каждого типа занятости выведим медианное значение трудового стажа `days_employed` в днях."
   ]
  },
  {
   "cell_type": "code",
   "execution_count": 8,
   "id": "85a5faf6",
   "metadata": {
    "deletable": false,
    "id": "85a5faf6",
    "outputId": "801ef80e-522b-4668-f34e-565af7432bcf"
   },
   "outputs": [
    {
     "data": {
      "text/plain": [
       "income_type\n",
       "безработный        366413.652744\n",
       "в декрете            3296.759962\n",
       "госслужащий          2689.368353\n",
       "компаньон            1547.382223\n",
       "пенсионер          365213.306266\n",
       "предприниматель       520.848083\n",
       "сотрудник            1574.202821\n",
       "студент               578.751554\n",
       "Name: days_employed, dtype: float64"
      ]
     },
     "execution_count": 8,
     "metadata": {},
     "output_type": "execute_result"
    }
   ],
   "source": [
    "data.groupby('income_type')['days_employed'].agg('median')"
   ]
  },
  {
   "cell_type": "markdown",
   "id": "38d1a030",
   "metadata": {
    "deletable": false,
    "id": "38d1a030"
   },
   "source": [
    "У двух типов (безработные и пенсионеры) получатся аномально большие значения. Исправить такие значения сложно, поэтому оставьте их как есть. Тем более этот столбец не понадобится вам для исследования."
   ]
  },
  {
   "cell_type": "markdown",
   "id": "d8a9f147",
   "metadata": {
    "deletable": false,
    "id": "d8a9f147"
   },
   "source": [
    "Выведим перечень уникальных значений столбца `children`."
   ]
  },
  {
   "cell_type": "code",
   "execution_count": 9,
   "id": "ef5056eb",
   "metadata": {
    "deletable": false,
    "id": "ef5056eb",
    "outputId": "6975b15c-7f95-4697-d16d-a0c79b657b03"
   },
   "outputs": [
    {
     "data": {
      "text/plain": [
       "array([ 1,  0,  3,  2, -1,  4, 20,  5])"
      ]
     },
     "execution_count": 9,
     "metadata": {},
     "output_type": "execute_result"
    }
   ],
   "source": [
    "data['children'].unique()"
   ]
  },
  {
   "cell_type": "markdown",
   "id": "40b9ebf2",
   "metadata": {
    "deletable": false,
    "id": "40b9ebf2"
   },
   "source": [
    "В столбце `children` есть два аномальных значения. Удалим строки, в которых встречаются такие аномальные значения из датафрейма `data`."
   ]
  },
  {
   "cell_type": "code",
   "execution_count": 10,
   "id": "3ff9801d",
   "metadata": {
    "deletable": false,
    "id": "3ff9801d"
   },
   "outputs": [],
   "source": [
    "data = data[(data['children'] != -1) & (data['children'] != 20)]"
   ]
  },
  {
   "cell_type": "markdown",
   "id": "bbc4d0ce",
   "metadata": {
    "deletable": false,
    "id": "bbc4d0ce"
   },
   "source": [
    "Выведим перечень уникальных значений столбца `children`, чтобы убедиться, что артефакты удалены."
   ]
  },
  {
   "cell_type": "code",
   "execution_count": 11,
   "id": "ad4fa8b7",
   "metadata": {
    "deletable": false,
    "id": "ad4fa8b7",
    "outputId": "b2097101-d49d-44d9-901b-32a65c9463d1"
   },
   "outputs": [
    {
     "data": {
      "text/plain": [
       "array([1, 0, 3, 2, 4, 5])"
      ]
     },
     "execution_count": 11,
     "metadata": {},
     "output_type": "execute_result"
    }
   ],
   "source": [
    "data['children'].unique()"
   ]
  },
  {
   "cell_type": "markdown",
   "id": "75440b63",
   "metadata": {
    "deletable": false,
    "id": "75440b63"
   },
   "source": [
    "### Удаление пропусков"
   ]
  },
  {
   "cell_type": "markdown",
   "id": "f4ea573f",
   "metadata": {
    "deletable": false,
    "id": "f4ea573f"
   },
   "source": [
    "Заполним пропуски в столбце `days_employed` медианными значениями по каждого типа занятости `income_type`."
   ]
  },
  {
   "cell_type": "code",
   "execution_count": 44,
   "id": "af6b1a7e",
   "metadata": {
    "deletable": false,
    "id": "af6b1a7e"
   },
   "outputs": [],
   "source": [
    "for t in data['income_type'].unique():\n",
    "    data.loc[(data['income_type'] == t) & (data['days_employed'].isna()), 'days_employed'] = \\\n",
    "    data.loc[(data['income_type'] == t), 'days_employed'].median()"
   ]
  },
  {
   "cell_type": "markdown",
   "id": "2753f40d",
   "metadata": {
    "deletable": false,
    "id": "2753f40d"
   },
   "source": [
    "Убедимся, что все пропуски заполнены"
   ]
  },
  {
   "cell_type": "code",
   "execution_count": 13,
   "id": "55f78bc2",
   "metadata": {
    "deletable": false,
    "id": "55f78bc2",
    "outputId": "8da1e4e1-358e-4e87-98c9-f261bce0a7b2"
   },
   "outputs": [
    {
     "data": {
      "text/plain": [
       "children            0\n",
       "days_employed       0\n",
       "dob_years           0\n",
       "education           0\n",
       "education_id        0\n",
       "family_status       0\n",
       "family_status_id    0\n",
       "gender              0\n",
       "income_type         0\n",
       "debt                0\n",
       "total_income        0\n",
       "purpose             0\n",
       "dtype: int64"
      ]
     },
     "execution_count": 13,
     "metadata": {},
     "output_type": "execute_result"
    }
   ],
   "source": [
    "data.isna().sum()"
   ]
  },
  {
   "cell_type": "markdown",
   "id": "ddc81e43",
   "metadata": {
    "deletable": false,
    "id": "ddc81e43"
   },
   "source": [
    "### Изменение типов данных"
   ]
  },
  {
   "cell_type": "markdown",
   "id": "42d19d24",
   "metadata": {
    "deletable": false,
    "id": "42d19d24"
   },
   "source": [
    "Заменим вещественный тип данных в столбце `total_income` на целочисленный с помощью метода `astype()`."
   ]
  },
  {
   "cell_type": "code",
   "execution_count": 14,
   "id": "920b65ad",
   "metadata": {
    "deletable": false,
    "id": "920b65ad"
   },
   "outputs": [],
   "source": [
    "data['total_income'] = data['total_income'].astype(int)"
   ]
  },
  {
   "cell_type": "markdown",
   "id": "80c420ba",
   "metadata": {
    "deletable": false,
    "id": "80c420ba"
   },
   "source": [
    "### Обработка дубликатов"
   ]
  },
  {
   "cell_type": "markdown",
   "id": "dc587695",
   "metadata": {
    "deletable": false,
    "id": "dc587695"
   },
   "source": [
    "Выведим на экран количество строк-дубликатов в данных. Если такие строки присутствуют, удалим их"
   ]
  },
  {
   "cell_type": "code",
   "execution_count": 15,
   "id": "3ee445e4",
   "metadata": {
    "deletable": false,
    "id": "3ee445e4",
    "outputId": "9684deba-1934-42d1-99e1-cda61740f822"
   },
   "outputs": [
    {
     "data": {
      "text/plain": [
       "54"
      ]
     },
     "execution_count": 15,
     "metadata": {},
     "output_type": "execute_result"
    }
   ],
   "source": [
    "data.duplicated().sum()"
   ]
  },
  {
   "cell_type": "code",
   "execution_count": 16,
   "id": "8575fe05",
   "metadata": {
    "deletable": false,
    "id": "8575fe05"
   },
   "outputs": [],
   "source": [
    "data = data.drop_duplicates()"
   ]
  },
  {
   "cell_type": "markdown",
   "id": "9771a76c",
   "metadata": {
    "deletable": false,
    "id": "9771a76c"
   },
   "source": [
    "Обработаем неявные дубликаты в столбце `education`. Приведим их к нижнему регистру."
   ]
  },
  {
   "cell_type": "code",
   "execution_count": 17,
   "id": "a9f8e2bf",
   "metadata": {
    "deletable": false,
    "id": "a9f8e2bf"
   },
   "outputs": [
    {
     "name": "stderr",
     "output_type": "stream",
     "text": [
      "/tmp/ipykernel_48/3990672150.py:1: SettingWithCopyWarning: \n",
      "A value is trying to be set on a copy of a slice from a DataFrame.\n",
      "Try using .loc[row_indexer,col_indexer] = value instead\n",
      "\n",
      "See the caveats in the documentation: https://pandas.pydata.org/pandas-docs/stable/user_guide/indexing.html#returning-a-view-versus-a-copy\n",
      "  data['education'] = data['education'].str.lower()\n"
     ]
    }
   ],
   "source": [
    "data['education'] = data['education'].str.lower()"
   ]
  },
  {
   "cell_type": "markdown",
   "id": "9904cf55",
   "metadata": {
    "deletable": false,
    "id": "9904cf55"
   },
   "source": [
    "### Категоризация данных"
   ]
  },
  {
   "cell_type": "markdown",
   "id": "72fcc8a2",
   "metadata": {
    "deletable": false,
    "id": "72fcc8a2"
   },
   "source": [
    "На основании диапазонов, указанных ниже, создадим в датафрейме `data` столбец `total_income_category` с категориями:\n",
    "\n",
    "- 0–30000 — `'E'`;\n",
    "- 30001–50000 — `'D'`;\n",
    "- 50001–200000 — `'C'`;\n",
    "- 200001–1000000 — `'B'`;\n",
    "- 1000001 и выше — `'A'`.\n",
    "\n",
    "\n",
    "Например, кредитополучателю с доходом 25000 нужно назначить категорию `'E'`, а клиенту, получающему 235000, — `'B'`. Используйте собственную функцию с именем `categorize_income()` и метод `apply()`."
   ]
  },
  {
   "cell_type": "code",
   "execution_count": 18,
   "id": "e1771346",
   "metadata": {
    "deletable": false,
    "id": "e1771346"
   },
   "outputs": [],
   "source": [
    "def categorize_income(income):\n",
    "    try:\n",
    "        if 0 <= income <= 30000:\n",
    "            return 'E'\n",
    "        elif 30001 <= income <= 50000:\n",
    "            return 'D'\n",
    "        elif 50001 <= income <= 200000:\n",
    "            return 'C'\n",
    "        elif 200001 <= income <= 1000000:\n",
    "            return 'B'\n",
    "        elif income >= 1000001:\n",
    "            return 'A'\n",
    "    except:\n",
    "        pass"
   ]
  },
  {
   "cell_type": "code",
   "execution_count": 19,
   "id": "d5f3586d",
   "metadata": {
    "deletable": false,
    "id": "d5f3586d"
   },
   "outputs": [
    {
     "name": "stderr",
     "output_type": "stream",
     "text": [
      "/tmp/ipykernel_48/4017745142.py:1: SettingWithCopyWarning: \n",
      "A value is trying to be set on a copy of a slice from a DataFrame.\n",
      "Try using .loc[row_indexer,col_indexer] = value instead\n",
      "\n",
      "See the caveats in the documentation: https://pandas.pydata.org/pandas-docs/stable/user_guide/indexing.html#returning-a-view-versus-a-copy\n",
      "  data['total_income_category'] = data['total_income'].apply(categorize_income)\n"
     ]
    }
   ],
   "source": [
    "data['total_income_category'] = data['total_income'].apply(categorize_income)"
   ]
  },
  {
   "cell_type": "markdown",
   "id": "dde49b5c",
   "metadata": {
    "deletable": false,
    "id": "dde49b5c"
   },
   "source": [
    "Выведим на экран перечень уникальных целей взятия кредита из столбца `purpose`."
   ]
  },
  {
   "cell_type": "code",
   "execution_count": 20,
   "id": "f67ce9b3",
   "metadata": {
    "deletable": false,
    "id": "f67ce9b3",
    "outputId": "673c12d9-7d7e-4ae0-9812-c622c89dd244"
   },
   "outputs": [
    {
     "data": {
      "text/plain": [
       "array(['покупка жилья', 'приобретение автомобиля',\n",
       "       'дополнительное образование', 'сыграть свадьбу',\n",
       "       'операции с жильем', 'образование', 'на проведение свадьбы',\n",
       "       'покупка жилья для семьи', 'покупка недвижимости',\n",
       "       'покупка коммерческой недвижимости', 'покупка жилой недвижимости',\n",
       "       'строительство собственной недвижимости', 'недвижимость',\n",
       "       'строительство недвижимости', 'на покупку подержанного автомобиля',\n",
       "       'на покупку своего автомобиля',\n",
       "       'операции с коммерческой недвижимостью',\n",
       "       'строительство жилой недвижимости', 'жилье',\n",
       "       'операции со своей недвижимостью', 'автомобили',\n",
       "       'заняться образованием', 'сделка с подержанным автомобилем',\n",
       "       'получение образования', 'автомобиль', 'свадьба',\n",
       "       'получение дополнительного образования', 'покупка своего жилья',\n",
       "       'операции с недвижимостью', 'получение высшего образования',\n",
       "       'свой автомобиль', 'сделка с автомобилем',\n",
       "       'профильное образование', 'высшее образование',\n",
       "       'покупка жилья для сдачи', 'на покупку автомобиля', 'ремонт жилью',\n",
       "       'заняться высшим образованием'], dtype=object)"
      ]
     },
     "execution_count": 20,
     "metadata": {},
     "output_type": "execute_result"
    }
   ],
   "source": [
    "data['purpose'].unique()"
   ]
  },
  {
   "cell_type": "markdown",
   "id": "85d0aef0",
   "metadata": {
    "deletable": false,
    "id": "85d0aef0"
   },
   "source": [
    "Создим функцию, которая на основании данных из столбца `purpose` сформирует новый столбец `purpose_category`, в который войдут следующие категории:\n",
    "\n",
    "- `'операции с автомобилем'`,\n",
    "- `'операции с недвижимостью'`,\n",
    "- `'проведение свадьбы'`,\n",
    "- `'получение образования'`.\n",
    "\n",
    "Например, если в столбце `purpose` находится подстрока `'на покупку автомобиля'`, то в столбце `purpose_category` должна появиться строка `'операции с автомобилем'`.\n",
    "\n",
    "Используем функцию с именем `categorize_purpose()` и метод `apply()`. Изучим данные в столбце `purpose` и определитм какие подстроки помогут вам правильно определить категорию."
   ]
  },
  {
   "cell_type": "code",
   "execution_count": 1,
   "id": "e149fab4",
   "metadata": {
    "deletable": false,
    "id": "e149fab4"
   },
   "outputs": [],
   "source": [
    "def categorize_purpose(row):\n",
    "    try:\n",
    "        if 'автом' in row:\n",
    "            return 'операции с автомобилем'\n",
    "        elif 'жил' in row or 'недвиж' in row:\n",
    "            return 'операции с недвижимостью'\n",
    "        elif 'свад' in row:\n",
    "            return 'проведение свадьбы'\n",
    "        elif 'образов' in row:\n",
    "            return 'получение образования'\n",
    "    except:\n",
    "        return 'нет категории'"
   ]
  },
  {
   "cell_type": "code",
   "execution_count": 22,
   "id": "bf36e69b",
   "metadata": {
    "deletable": false,
    "id": "bf36e69b",
    "scrolled": true
   },
   "outputs": [
    {
     "name": "stderr",
     "output_type": "stream",
     "text": [
      "/tmp/ipykernel_48/1505626498.py:1: SettingWithCopyWarning: \n",
      "A value is trying to be set on a copy of a slice from a DataFrame.\n",
      "Try using .loc[row_indexer,col_indexer] = value instead\n",
      "\n",
      "See the caveats in the documentation: https://pandas.pydata.org/pandas-docs/stable/user_guide/indexing.html#returning-a-view-versus-a-copy\n",
      "  data['purpose_category'] = data['purpose'].apply(categorize_purpose)\n"
     ]
    }
   ],
   "source": [
    "data['purpose_category'] = data['purpose'].apply(categorize_purpose)"
   ]
  },
  {
   "cell_type": "markdown",
   "id": "09b242bf",
   "metadata": {
    "id": "09b242bf"
   },
   "source": [
    "## Исследуем данные"
   ]
  },
  {
   "cell_type": "markdown",
   "id": "c5d66278",
   "metadata": {
    "id": "c5d66278"
   },
   "source": [
    "Проверим есть ли зависимость между количеством детей и возвратом кредита в срок"
   ]
  },
  {
   "cell_type": "code",
   "execution_count": 23,
   "id": "2cacfc4a",
   "metadata": {
    "id": "2cacfc4a"
   },
   "outputs": [],
   "source": [
    "#функция - создает новый df с необходимыми для анализа данными из общего df\n",
    "def get_pivot_table(df, index, columns, values):\n",
    "    #создаем таблицу с количеством просроченных кредитов в разрезе категорий \n",
    "    new_df = df.pivot_table(index=index, columns=columns, values=values, aggfunc='count')\n",
    "    #удаляем мультииндекс в таблице\n",
    "    new_df = new_df.reset_index()\n",
    "    #переименновыеваем столбцы 0 - 'debt_false', 1 - 'debt_true'\n",
    "    new_df.rename(columns={0 : 'debt_false', 1 : 'debt_true'}, inplace=True)\n",
    "    return new_df"
   ]
  },
  {
   "cell_type": "code",
   "execution_count": 24,
   "id": "f4d9b688",
   "metadata": {},
   "outputs": [
    {
     "name": "stdout",
     "output_type": "stream",
     "text": [
      "Список уникальных значение столбца 'children' - [1 0 3 2 4 5]\n",
      "Список уникальных значение столбца 'debt' - [0 1]\n"
     ]
    }
   ],
   "source": [
    "#уникальные значение столбца с количеством детей\n",
    "print(\"Список уникальных значение столбца 'children' -\", data['children'].unique())\n",
    "#уникальные значение столца наличие просроченной задолженности по кредитам\n",
    "print(\"Список уникальных значение столбца 'debt' -\", data['debt'].unique())"
   ]
  },
  {
   "cell_type": "code",
   "execution_count": 25,
   "id": "1b2e5dc2",
   "metadata": {},
   "outputs": [
    {
     "data": {
      "text/html": [
       "<div>\n",
       "<style scoped>\n",
       "    .dataframe tbody tr th:only-of-type {\n",
       "        vertical-align: middle;\n",
       "    }\n",
       "\n",
       "    .dataframe tbody tr th {\n",
       "        vertical-align: top;\n",
       "    }\n",
       "\n",
       "    .dataframe thead th {\n",
       "        text-align: right;\n",
       "    }\n",
       "</style>\n",
       "<table border=\"1\" class=\"dataframe\">\n",
       "  <thead>\n",
       "    <tr style=\"text-align: right;\">\n",
       "      <th>debt</th>\n",
       "      <th>children</th>\n",
       "      <th>debt_false</th>\n",
       "      <th>debt_true</th>\n",
       "    </tr>\n",
       "  </thead>\n",
       "  <tbody>\n",
       "    <tr>\n",
       "      <th>0</th>\n",
       "      <td>0</td>\n",
       "      <td>13044.0</td>\n",
       "      <td>1063.0</td>\n",
       "    </tr>\n",
       "    <tr>\n",
       "      <th>1</th>\n",
       "      <td>1</td>\n",
       "      <td>4365.0</td>\n",
       "      <td>444.0</td>\n",
       "    </tr>\n",
       "    <tr>\n",
       "      <th>2</th>\n",
       "      <td>2</td>\n",
       "      <td>1858.0</td>\n",
       "      <td>194.0</td>\n",
       "    </tr>\n",
       "    <tr>\n",
       "      <th>3</th>\n",
       "      <td>3</td>\n",
       "      <td>303.0</td>\n",
       "      <td>27.0</td>\n",
       "    </tr>\n",
       "    <tr>\n",
       "      <th>4</th>\n",
       "      <td>4</td>\n",
       "      <td>37.0</td>\n",
       "      <td>4.0</td>\n",
       "    </tr>\n",
       "    <tr>\n",
       "      <th>5</th>\n",
       "      <td>5</td>\n",
       "      <td>9.0</td>\n",
       "      <td>NaN</td>\n",
       "    </tr>\n",
       "  </tbody>\n",
       "</table>\n",
       "</div>"
      ],
      "text/plain": [
       "debt  children  debt_false  debt_true\n",
       "0            0     13044.0     1063.0\n",
       "1            1      4365.0      444.0\n",
       "2            2      1858.0      194.0\n",
       "3            3       303.0       27.0\n",
       "4            4        37.0        4.0\n",
       "5            5         9.0        NaN"
      ]
     },
     "execution_count": 25,
     "metadata": {},
     "output_type": "execute_result"
    }
   ],
   "source": [
    "#таблица с количеством кредитов с просрочкой и без просрочки в разрезе количества детей\n",
    "#6 категорий в зависимости от количества детей\n",
    "data_pivot = get_pivot_table(data, 'children', 'debt', 'purpose')\n",
    "data_pivot"
   ]
  },
  {
   "cell_type": "code",
   "execution_count": 26,
   "id": "24644500",
   "metadata": {},
   "outputs": [
    {
     "name": "stdout",
     "output_type": "stream",
     "text": [
      "Количество кредитов в категории 5 детей - 9 кредитов\n"
     ]
    }
   ],
   "source": [
    "#в таблице есть пустые данные NaN, проверим это 0 кредитов с просрочкой или другая причина\n",
    "print(\"Количество кредитов в категории 5 детей -\", len(data.loc[(data['children'] == 5), 'debt']), 'кредитов')"
   ]
  },
  {
   "cell_type": "code",
   "execution_count": 27,
   "id": "c6c092c5",
   "metadata": {},
   "outputs": [
    {
     "data": {
      "text/html": [
       "<div>\n",
       "<style scoped>\n",
       "    .dataframe tbody tr th:only-of-type {\n",
       "        vertical-align: middle;\n",
       "    }\n",
       "\n",
       "    .dataframe tbody tr th {\n",
       "        vertical-align: top;\n",
       "    }\n",
       "\n",
       "    .dataframe thead th {\n",
       "        text-align: right;\n",
       "    }\n",
       "</style>\n",
       "<table border=\"1\" class=\"dataframe\">\n",
       "  <thead>\n",
       "    <tr style=\"text-align: right;\">\n",
       "      <th>debt</th>\n",
       "      <th>children</th>\n",
       "      <th>debt_false</th>\n",
       "      <th>debt_true</th>\n",
       "    </tr>\n",
       "  </thead>\n",
       "  <tbody>\n",
       "    <tr>\n",
       "      <th>0</th>\n",
       "      <td>0</td>\n",
       "      <td>13044.0</td>\n",
       "      <td>1063.0</td>\n",
       "    </tr>\n",
       "    <tr>\n",
       "      <th>1</th>\n",
       "      <td>1</td>\n",
       "      <td>4365.0</td>\n",
       "      <td>444.0</td>\n",
       "    </tr>\n",
       "    <tr>\n",
       "      <th>2</th>\n",
       "      <td>2</td>\n",
       "      <td>1858.0</td>\n",
       "      <td>194.0</td>\n",
       "    </tr>\n",
       "    <tr>\n",
       "      <th>3</th>\n",
       "      <td>3</td>\n",
       "      <td>303.0</td>\n",
       "      <td>27.0</td>\n",
       "    </tr>\n",
       "    <tr>\n",
       "      <th>4</th>\n",
       "      <td>4</td>\n",
       "      <td>37.0</td>\n",
       "      <td>4.0</td>\n",
       "    </tr>\n",
       "    <tr>\n",
       "      <th>5</th>\n",
       "      <td>5</td>\n",
       "      <td>9.0</td>\n",
       "      <td>0.0</td>\n",
       "    </tr>\n",
       "  </tbody>\n",
       "</table>\n",
       "</div>"
      ],
      "text/plain": [
       "debt  children  debt_false  debt_true\n",
       "0            0     13044.0     1063.0\n",
       "1            1      4365.0      444.0\n",
       "2            2      1858.0      194.0\n",
       "3            3       303.0       27.0\n",
       "4            4        37.0        4.0\n",
       "5            5         9.0        0.0"
      ]
     },
     "execution_count": 27,
     "metadata": {},
     "output_type": "execute_result"
    }
   ],
   "source": [
    "#общее количество кредитов с 5 детьми 9, меняем NaN на 0, т.к. в той категории нет просрочек\n",
    "data_pivot = data_pivot.fillna(0.0)\n",
    "data_pivot"
   ]
  },
  {
   "cell_type": "code",
   "execution_count": 28,
   "id": "b2bcc4d5",
   "metadata": {},
   "outputs": [],
   "source": [
    "#функция - добавляет в df с необходимые для анализа столбцы\n",
    "def add_columns_to_table(df):\n",
    "    #добавляем необходимые для анализа столбцы\n",
    "    #общее количество кредитов в разрезе категорий\n",
    "    df['total_loans'] = df['debt_false'] + df['debt_true'] \n",
    "    #доля кредитов в разрезе категорий\n",
    "    df['share_loans'] = df['total_loans'] / df['total_loans'].sum()\n",
    "    #процент просрочки от общего количества кредитов по категориям\n",
    "    df['debt_percent'] = round(df['debt_true'] / df['total_loans'] * 100, 2)"
   ]
  },
  {
   "cell_type": "code",
   "execution_count": 29,
   "id": "fabe7649",
   "metadata": {},
   "outputs": [
    {
     "data": {
      "text/html": [
       "<div>\n",
       "<style scoped>\n",
       "    .dataframe tbody tr th:only-of-type {\n",
       "        vertical-align: middle;\n",
       "    }\n",
       "\n",
       "    .dataframe tbody tr th {\n",
       "        vertical-align: top;\n",
       "    }\n",
       "\n",
       "    .dataframe thead th {\n",
       "        text-align: right;\n",
       "    }\n",
       "</style>\n",
       "<table border=\"1\" class=\"dataframe\">\n",
       "  <thead>\n",
       "    <tr style=\"text-align: right;\">\n",
       "      <th>debt</th>\n",
       "      <th>children</th>\n",
       "      <th>debt_false</th>\n",
       "      <th>debt_true</th>\n",
       "      <th>total_loans</th>\n",
       "      <th>share_loans</th>\n",
       "      <th>debt_percent</th>\n",
       "    </tr>\n",
       "  </thead>\n",
       "  <tbody>\n",
       "    <tr>\n",
       "      <th>0</th>\n",
       "      <td>0</td>\n",
       "      <td>13044.0</td>\n",
       "      <td>1063.0</td>\n",
       "      <td>14107.0</td>\n",
       "      <td>0.660811</td>\n",
       "      <td>7.54</td>\n",
       "    </tr>\n",
       "    <tr>\n",
       "      <th>1</th>\n",
       "      <td>1</td>\n",
       "      <td>4365.0</td>\n",
       "      <td>444.0</td>\n",
       "      <td>4809.0</td>\n",
       "      <td>0.225267</td>\n",
       "      <td>9.23</td>\n",
       "    </tr>\n",
       "    <tr>\n",
       "      <th>2</th>\n",
       "      <td>2</td>\n",
       "      <td>1858.0</td>\n",
       "      <td>194.0</td>\n",
       "      <td>2052.0</td>\n",
       "      <td>0.096121</td>\n",
       "      <td>9.45</td>\n",
       "    </tr>\n",
       "    <tr>\n",
       "      <th>3</th>\n",
       "      <td>3</td>\n",
       "      <td>303.0</td>\n",
       "      <td>27.0</td>\n",
       "      <td>330.0</td>\n",
       "      <td>0.015458</td>\n",
       "      <td>8.18</td>\n",
       "    </tr>\n",
       "    <tr>\n",
       "      <th>4</th>\n",
       "      <td>4</td>\n",
       "      <td>37.0</td>\n",
       "      <td>4.0</td>\n",
       "      <td>41.0</td>\n",
       "      <td>0.001921</td>\n",
       "      <td>9.76</td>\n",
       "    </tr>\n",
       "    <tr>\n",
       "      <th>5</th>\n",
       "      <td>5</td>\n",
       "      <td>9.0</td>\n",
       "      <td>0.0</td>\n",
       "      <td>9.0</td>\n",
       "      <td>0.000422</td>\n",
       "      <td>0.00</td>\n",
       "    </tr>\n",
       "  </tbody>\n",
       "</table>\n",
       "</div>"
      ],
      "text/plain": [
       "debt  children  debt_false  debt_true  total_loans  share_loans  debt_percent\n",
       "0            0     13044.0     1063.0      14107.0     0.660811          7.54\n",
       "1            1      4365.0      444.0       4809.0     0.225267          9.23\n",
       "2            2      1858.0      194.0       2052.0     0.096121          9.45\n",
       "3            3       303.0       27.0        330.0     0.015458          8.18\n",
       "4            4        37.0        4.0         41.0     0.001921          9.76\n",
       "5            5         9.0        0.0          9.0     0.000422          0.00"
      ]
     },
     "execution_count": 29,
     "metadata": {},
     "output_type": "execute_result"
    }
   ],
   "source": [
    "#добавим столбец с общим количеством кредитов в разрезе количества детей\n",
    "add_columns_to_table(data_pivot)\n",
    "data_pivot"
   ]
  },
  {
   "cell_type": "code",
   "execution_count": 30,
   "id": "541f30d4",
   "metadata": {},
   "outputs": [
    {
     "data": {
      "image/png": "[encoded data removed]",
      "text/plain": [
       "<Figure size 432x288 with 1 Axes>"
      ]
     },
     "metadata": {
      "needs_background": "light"
     },
     "output_type": "display_data"
    }
   ],
   "source": [
    "#визуализируем данные процента от общей задолженности по категориям\n",
    "#по оси Х - количество детей, по оси Y -  доля в общем объеме\n",
    "sns.barplot(x=list(data_pivot['children']), y=list(data_pivot['debt_percent']));"
   ]
  },
  {
   "cell_type": "code",
   "execution_count": 31,
   "id": "eec5e61f",
   "metadata": {},
   "outputs": [
    {
     "name": "stdout",
     "output_type": "stream",
     "text": [
      "Просроченная задолженность по всем кредитам - 8.11 процентов.\n"
     ]
    }
   ],
   "source": [
    "#общий процент просроченных кредитов от общего количества кредитов\n",
    "print(\n",
    "    'Просроченная задолженность по всем кредитам -', \n",
    "    round(data_pivot['debt_true'].sum() / data_pivot['total_loans'].sum() * 100, 2), 'процентов.'\n",
    ")"
   ]
  },
  {
   "cell_type": "markdown",
   "id": "3a6b99ec",
   "metadata": {
    "deletable": false,
    "id": "3a6b99ec"
   },
   "source": [
    "**Вывод:** \n",
    "\n",
    "В выборке распределение количества кредитов очень не равномерное, с наибольшим удельным весом в категории без детей - **66%** и с **0,004%** в категории с 5 детьми. В связи с очень низкой долей кредитов в категории с 5 детьми можно неучитывать 0-ой уровень просрочки. \n",
    "\n",
    "В остальных категориях разброс уровня просроченной задолженности не большой **0,5 - 2%** и не связан с количеством детей, только лишь категория без детей показывает долю просроченной задолженности ниже средней.\n",
    "\n",
    "Согласно данным выборки прямой зависимости от количество детей и возрата кредитов в срок **нет**."
   ]
  },
  {
   "cell_type": "markdown",
   "id": "97be82ca",
   "metadata": {
    "id": "97be82ca"
   },
   "source": [
    "Проверим есть ли зависимость между семейным положением и возвратом кредита в срок"
   ]
  },
  {
   "cell_type": "code",
   "execution_count": 32,
   "id": "dc3f7ee8",
   "metadata": {
    "id": "dc3f7ee8"
   },
   "outputs": [
    {
     "name": "stdout",
     "output_type": "stream",
     "text": [
      "Уникальные значения столбца 'family_status' - ['женат / замужем' 'гражданский брак' 'вдовец / вдова' 'в разводе'\n",
      " 'Не женат / не замужем']\n",
      "Уникальные значения столбца 'family_status_id' - [0 1 2 3 4]\n"
     ]
    }
   ],
   "source": [
    "# Ваш код будет здесь. Вы можете создавать новые ячейки.\n",
    "print(\"Уникальные значения столбца 'family_status' -\", data['family_status'].unique())\n",
    "print(\"Уникальные значения столбца 'family_status_id' -\", data['family_status_id'].unique())"
   ]
  },
  {
   "cell_type": "code",
   "execution_count": 33,
   "id": "a01c5a4c",
   "metadata": {},
   "outputs": [
    {
     "data": {
      "text/html": [
       "<div>\n",
       "<style scoped>\n",
       "    .dataframe tbody tr th:only-of-type {\n",
       "        vertical-align: middle;\n",
       "    }\n",
       "\n",
       "    .dataframe tbody tr th {\n",
       "        vertical-align: top;\n",
       "    }\n",
       "\n",
       "    .dataframe thead th {\n",
       "        text-align: right;\n",
       "    }\n",
       "</style>\n",
       "<table border=\"1\" class=\"dataframe\">\n",
       "  <thead>\n",
       "    <tr style=\"text-align: right;\">\n",
       "      <th>debt</th>\n",
       "      <th>family_status</th>\n",
       "      <th>debt_false</th>\n",
       "      <th>debt_true</th>\n",
       "    </tr>\n",
       "  </thead>\n",
       "  <tbody>\n",
       "    <tr>\n",
       "      <th>0</th>\n",
       "      <td>Не женат / не замужем</td>\n",
       "      <td>2523</td>\n",
       "      <td>273</td>\n",
       "    </tr>\n",
       "    <tr>\n",
       "      <th>1</th>\n",
       "      <td>в разводе</td>\n",
       "      <td>1105</td>\n",
       "      <td>84</td>\n",
       "    </tr>\n",
       "    <tr>\n",
       "      <th>2</th>\n",
       "      <td>вдовец / вдова</td>\n",
       "      <td>888</td>\n",
       "      <td>63</td>\n",
       "    </tr>\n",
       "    <tr>\n",
       "      <th>3</th>\n",
       "      <td>гражданский брак</td>\n",
       "      <td>3761</td>\n",
       "      <td>385</td>\n",
       "    </tr>\n",
       "    <tr>\n",
       "      <th>4</th>\n",
       "      <td>женат / замужем</td>\n",
       "      <td>11339</td>\n",
       "      <td>927</td>\n",
       "    </tr>\n",
       "  </tbody>\n",
       "</table>\n",
       "</div>"
      ],
      "text/plain": [
       "debt          family_status  debt_false  debt_true\n",
       "0     Не женат / не замужем        2523        273\n",
       "1                 в разводе        1105         84\n",
       "2            вдовец / вдова         888         63\n",
       "3          гражданский брак        3761        385\n",
       "4           женат / замужем       11339        927"
      ]
     },
     "execution_count": 33,
     "metadata": {},
     "output_type": "execute_result"
    }
   ],
   "source": [
    "#создаем таблицу с количеством просроченных кредитов в разрезе категорий статуса семейного положения\n",
    "data_family_status = get_pivot_table(data, 'family_status', 'debt', 'family_status_id')\n",
    "data_family_status"
   ]
  },
  {
   "cell_type": "code",
   "execution_count": 34,
   "id": "2280c4ef",
   "metadata": {},
   "outputs": [
    {
     "data": {
      "text/html": [
       "<div>\n",
       "<style scoped>\n",
       "    .dataframe tbody tr th:only-of-type {\n",
       "        vertical-align: middle;\n",
       "    }\n",
       "\n",
       "    .dataframe tbody tr th {\n",
       "        vertical-align: top;\n",
       "    }\n",
       "\n",
       "    .dataframe thead th {\n",
       "        text-align: right;\n",
       "    }\n",
       "</style>\n",
       "<table border=\"1\" class=\"dataframe\">\n",
       "  <thead>\n",
       "    <tr style=\"text-align: right;\">\n",
       "      <th>debt</th>\n",
       "      <th>family_status</th>\n",
       "      <th>debt_false</th>\n",
       "      <th>debt_true</th>\n",
       "      <th>total_loans</th>\n",
       "      <th>share_loans</th>\n",
       "      <th>debt_percent</th>\n",
       "    </tr>\n",
       "  </thead>\n",
       "  <tbody>\n",
       "    <tr>\n",
       "      <th>0</th>\n",
       "      <td>Не женат / не замужем</td>\n",
       "      <td>2523</td>\n",
       "      <td>273</td>\n",
       "      <td>2796</td>\n",
       "      <td>0.130972</td>\n",
       "      <td>9.76</td>\n",
       "    </tr>\n",
       "    <tr>\n",
       "      <th>1</th>\n",
       "      <td>в разводе</td>\n",
       "      <td>1105</td>\n",
       "      <td>84</td>\n",
       "      <td>1189</td>\n",
       "      <td>0.055696</td>\n",
       "      <td>7.06</td>\n",
       "    </tr>\n",
       "    <tr>\n",
       "      <th>2</th>\n",
       "      <td>вдовец / вдова</td>\n",
       "      <td>888</td>\n",
       "      <td>63</td>\n",
       "      <td>951</td>\n",
       "      <td>0.044547</td>\n",
       "      <td>6.62</td>\n",
       "    </tr>\n",
       "    <tr>\n",
       "      <th>3</th>\n",
       "      <td>гражданский брак</td>\n",
       "      <td>3761</td>\n",
       "      <td>385</td>\n",
       "      <td>4146</td>\n",
       "      <td>0.194210</td>\n",
       "      <td>9.29</td>\n",
       "    </tr>\n",
       "    <tr>\n",
       "      <th>4</th>\n",
       "      <td>женат / замужем</td>\n",
       "      <td>11339</td>\n",
       "      <td>927</td>\n",
       "      <td>12266</td>\n",
       "      <td>0.574574</td>\n",
       "      <td>7.56</td>\n",
       "    </tr>\n",
       "  </tbody>\n",
       "</table>\n",
       "</div>"
      ],
      "text/plain": [
       "debt          family_status  debt_false  debt_true  total_loans  share_loans  \\\n",
       "0     Не женат / не замужем        2523        273         2796     0.130972   \n",
       "1                 в разводе        1105         84         1189     0.055696   \n",
       "2            вдовец / вдова         888         63          951     0.044547   \n",
       "3          гражданский брак        3761        385         4146     0.194210   \n",
       "4           женат / замужем       11339        927        12266     0.574574   \n",
       "\n",
       "debt  debt_percent  \n",
       "0             9.76  \n",
       "1             7.06  \n",
       "2             6.62  \n",
       "3             9.29  \n",
       "4             7.56  "
      ]
     },
     "execution_count": 34,
     "metadata": {},
     "output_type": "execute_result"
    }
   ],
   "source": [
    "#добовляем столбцы необходимые для анализа\n",
    "add_columns_to_table(data_family_status)\n",
    "data_family_status"
   ]
  },
  {
   "cell_type": "code",
   "execution_count": 35,
   "id": "9120aaba",
   "metadata": {},
   "outputs": [
    {
     "data": {
      "image/png": "[encoded data removed]",
      "text/plain": [
       "<Figure size 432x288 with 1 Axes>"
      ]
     },
     "metadata": {},
     "output_type": "display_data"
    }
   ],
   "source": [
    "#визуализация доли количества кредитов в разрезе категорий\n",
    "plt.pie(x=list(data_family_status['share_loans']), labels=list(data_family_status['family_status']))\n",
    "plt.show();"
   ]
  },
  {
   "cell_type": "code",
   "execution_count": 36,
   "id": "de43bf63",
   "metadata": {},
   "outputs": [
    {
     "data": {
      "image/png": "[encoded data removed]",
      "text/plain": [
       "<Figure size 432x288 with 1 Axes>"
      ]
     },
     "metadata": {
      "needs_background": "light"
     },
     "output_type": "display_data"
    }
   ],
   "source": [
    "#визуализация процента просроченных кредитов в разрезе категорий \n",
    "#по оси Х - категория, по оси Y -  доля в общем объеме\n",
    "sns.barplot(x=list(data_family_status['family_status']), y=list(data_family_status['debt_percent']))\n",
    "plt.xticks(rotation=45);"
   ]
  },
  {
   "cell_type": "markdown",
   "id": "1cef7837",
   "metadata": {
    "deletable": false,
    "id": "1cef7837"
   },
   "source": [
    "**Вывод:** \n",
    "\n",
    "В выборке преобладает более половины всех кредитов в категории **\"женат / замужем\"** - **57%** и 2 категории **\"вдовец / вдова\"** и **\"разведен\"** составляют около **1%**.\n",
    "Все **3 категории показывают, хорошую**, ниже общего уровня просрочки **8,11%**, динамику возрата кредита.\n",
    "Категории **\"гражданский брак\" и \"Не женат / не замужем\"** показывают динамику по возрату кредитов хуже вышеперечисленных, превышаа среднюю более чем на **1%**.\n",
    "\n",
    "Согласно данным выборки возврат кредита в срок **зависит от семейного положения**. Клиенты которые в были в браке либо находятся в браке на **1,5% - 2%** лучше возвращают кредит в срок, чем клиенты в гражанском браке либо холостые."
   ]
  },
  {
   "cell_type": "markdown",
   "id": "1e8b2fca",
   "metadata": {
    "id": "1e8b2fca"
   },
   "source": [
    "Проверим есть ли зависимость между уровнем дохода и возвратом кредита в срок"
   ]
  },
  {
   "cell_type": "code",
   "execution_count": 37,
   "id": "cd7e3720",
   "metadata": {
    "id": "cd7e3720"
   },
   "outputs": [
    {
     "data": {
      "text/html": [
       "<div>\n",
       "<style scoped>\n",
       "    .dataframe tbody tr th:only-of-type {\n",
       "        vertical-align: middle;\n",
       "    }\n",
       "\n",
       "    .dataframe tbody tr th {\n",
       "        vertical-align: top;\n",
       "    }\n",
       "\n",
       "    .dataframe thead th {\n",
       "        text-align: right;\n",
       "    }\n",
       "</style>\n",
       "<table border=\"1\" class=\"dataframe\">\n",
       "  <thead>\n",
       "    <tr style=\"text-align: right;\">\n",
       "      <th>debt</th>\n",
       "      <th>total_income_category</th>\n",
       "      <th>debt_false</th>\n",
       "      <th>debt_true</th>\n",
       "    </tr>\n",
       "  </thead>\n",
       "  <tbody>\n",
       "    <tr>\n",
       "      <th>0</th>\n",
       "      <td>A</td>\n",
       "      <td>23</td>\n",
       "      <td>2</td>\n",
       "    </tr>\n",
       "    <tr>\n",
       "      <th>1</th>\n",
       "      <td>B</td>\n",
       "      <td>4660</td>\n",
       "      <td>354</td>\n",
       "    </tr>\n",
       "    <tr>\n",
       "      <th>2</th>\n",
       "      <td>C</td>\n",
       "      <td>14585</td>\n",
       "      <td>1353</td>\n",
       "    </tr>\n",
       "    <tr>\n",
       "      <th>3</th>\n",
       "      <td>D</td>\n",
       "      <td>328</td>\n",
       "      <td>21</td>\n",
       "    </tr>\n",
       "    <tr>\n",
       "      <th>4</th>\n",
       "      <td>E</td>\n",
       "      <td>20</td>\n",
       "      <td>2</td>\n",
       "    </tr>\n",
       "  </tbody>\n",
       "</table>\n",
       "</div>"
      ],
      "text/plain": [
       "debt total_income_category  debt_false  debt_true\n",
       "0                        A          23          2\n",
       "1                        B        4660        354\n",
       "2                        C       14585       1353\n",
       "3                        D         328         21\n",
       "4                        E          20          2"
      ]
     },
     "execution_count": 37,
     "metadata": {},
     "output_type": "execute_result"
    }
   ],
   "source": [
    "\"\"\"\n",
    "Категории доходов клиентов:\n",
    "0–30000 — 'E';\n",
    "30001–50000 — 'D';\n",
    "50001–200000 — 'C';\n",
    "200001–1000000 — 'B';\n",
    "1000001 и выше — 'A'.\n",
    "\"\"\"\n",
    "#Создаем таблицу с количеством просроченных кредитов в зависимости от категории дохода\n",
    "data_total_income = get_pivot_table(data, 'total_income_category', 'debt', 'total_income')\n",
    "data_total_income"
   ]
  },
  {
   "cell_type": "code",
   "execution_count": 38,
   "id": "351a47d4",
   "metadata": {},
   "outputs": [
    {
     "data": {
      "text/html": [
       "<div>\n",
       "<style scoped>\n",
       "    .dataframe tbody tr th:only-of-type {\n",
       "        vertical-align: middle;\n",
       "    }\n",
       "\n",
       "    .dataframe tbody tr th {\n",
       "        vertical-align: top;\n",
       "    }\n",
       "\n",
       "    .dataframe thead th {\n",
       "        text-align: right;\n",
       "    }\n",
       "</style>\n",
       "<table border=\"1\" class=\"dataframe\">\n",
       "  <thead>\n",
       "    <tr style=\"text-align: right;\">\n",
       "      <th>debt</th>\n",
       "      <th>total_income_category</th>\n",
       "      <th>debt_false</th>\n",
       "      <th>debt_true</th>\n",
       "      <th>total_loans</th>\n",
       "      <th>share_loans</th>\n",
       "      <th>debt_percent</th>\n",
       "    </tr>\n",
       "  </thead>\n",
       "  <tbody>\n",
       "    <tr>\n",
       "      <th>0</th>\n",
       "      <td>A</td>\n",
       "      <td>23</td>\n",
       "      <td>2</td>\n",
       "      <td>25</td>\n",
       "      <td>0.001171</td>\n",
       "      <td>8.00</td>\n",
       "    </tr>\n",
       "    <tr>\n",
       "      <th>1</th>\n",
       "      <td>B</td>\n",
       "      <td>4660</td>\n",
       "      <td>354</td>\n",
       "      <td>5014</td>\n",
       "      <td>0.234870</td>\n",
       "      <td>7.06</td>\n",
       "    </tr>\n",
       "    <tr>\n",
       "      <th>2</th>\n",
       "      <td>C</td>\n",
       "      <td>14585</td>\n",
       "      <td>1353</td>\n",
       "      <td>15938</td>\n",
       "      <td>0.746580</td>\n",
       "      <td>8.49</td>\n",
       "    </tr>\n",
       "    <tr>\n",
       "      <th>3</th>\n",
       "      <td>D</td>\n",
       "      <td>328</td>\n",
       "      <td>21</td>\n",
       "      <td>349</td>\n",
       "      <td>0.016348</td>\n",
       "      <td>6.02</td>\n",
       "    </tr>\n",
       "    <tr>\n",
       "      <th>4</th>\n",
       "      <td>E</td>\n",
       "      <td>20</td>\n",
       "      <td>2</td>\n",
       "      <td>22</td>\n",
       "      <td>0.001031</td>\n",
       "      <td>9.09</td>\n",
       "    </tr>\n",
       "  </tbody>\n",
       "</table>\n",
       "</div>"
      ],
      "text/plain": [
       "debt total_income_category  debt_false  debt_true  total_loans  share_loans  \\\n",
       "0                        A          23          2           25     0.001171   \n",
       "1                        B        4660        354         5014     0.234870   \n",
       "2                        C       14585       1353        15938     0.746580   \n",
       "3                        D         328         21          349     0.016348   \n",
       "4                        E          20          2           22     0.001031   \n",
       "\n",
       "debt  debt_percent  \n",
       "0             8.00  \n",
       "1             7.06  \n",
       "2             8.49  \n",
       "3             6.02  \n",
       "4             9.09  "
      ]
     },
     "execution_count": 38,
     "metadata": {},
     "output_type": "execute_result"
    }
   ],
   "source": [
    "#добовляем столбцы необходимые для анализа\n",
    "add_columns_to_table(data_total_income)\n",
    "data_total_income"
   ]
  },
  {
   "cell_type": "code",
   "execution_count": 39,
   "id": "787929ad",
   "metadata": {},
   "outputs": [
    {
     "data": {
      "image/png": "[encoded data removed]",
      "text/plain": [
       "<Figure size 432x288 with 1 Axes>"
      ]
     },
     "metadata": {
      "needs_background": "light"
     },
     "output_type": "display_data"
    }
   ],
   "source": [
    "#визуализация процента просроченных кредитов в разрезе категорий \n",
    "#по оси Х - категория, по оси Y -  доля в общем объеме\n",
    "sns.barplot(x=list(data_total_income['total_income_category']), y=list(data_total_income['debt_percent']));"
   ]
  },
  {
   "cell_type": "markdown",
   "id": "e8593def",
   "metadata": {
    "deletable": false,
    "id": "e8593def"
   },
   "source": [
    "**Вывод:**\n",
    "\n",
    "Согласно данным выборки основное количество клиентов составляют средним-медианным доходом от **50001–200000** руб. - **74%**, у этой категории близкиц к среднему показатель просрочки, клиенты с самым высоким - **более 1000000 руб.**, и низкин доходом **до 30000 руб.**, составляют **менее 1%**, и у них разный процент уровня просрочки по кредитам **9,09%** у клиентов с самым низким доходом и **8%** у клиентов с высоким доходом. \n",
    "\n",
    "Волонтильность процента просроченной задолженности относительно **среднего уровня просрочки 8,11%**, говорит о **зависимости** между возвратом кредита в срок и уровнем дохода клиента. Где наиболее благонадежные клиенты, с доходом **от 30000 до 50000 руб**. с просрочкой **6,02%**, и наименее надежные клиенты с самым **низким доходом**.   "
   ]
  },
  {
   "cell_type": "markdown",
   "id": "99ecbd1f",
   "metadata": {
    "id": "99ecbd1f"
   },
   "source": [
    "Проверим как разные цели кредита влияют на его возврат в срок"
   ]
  },
  {
   "cell_type": "code",
   "execution_count": 40,
   "id": "2b687290",
   "metadata": {
    "id": "2b687290"
   },
   "outputs": [
    {
     "data": {
      "text/html": [
       "<div>\n",
       "<style scoped>\n",
       "    .dataframe tbody tr th:only-of-type {\n",
       "        vertical-align: middle;\n",
       "    }\n",
       "\n",
       "    .dataframe tbody tr th {\n",
       "        vertical-align: top;\n",
       "    }\n",
       "\n",
       "    .dataframe thead th {\n",
       "        text-align: right;\n",
       "    }\n",
       "</style>\n",
       "<table border=\"1\" class=\"dataframe\">\n",
       "  <thead>\n",
       "    <tr style=\"text-align: right;\">\n",
       "      <th>debt</th>\n",
       "      <th>purpose_category</th>\n",
       "      <th>debt_false</th>\n",
       "      <th>debt_true</th>\n",
       "    </tr>\n",
       "  </thead>\n",
       "  <tbody>\n",
       "    <tr>\n",
       "      <th>0</th>\n",
       "      <td>операции с автомобилем</td>\n",
       "      <td>3881</td>\n",
       "      <td>400</td>\n",
       "    </tr>\n",
       "    <tr>\n",
       "      <th>1</th>\n",
       "      <td>операции с недвижимостью</td>\n",
       "      <td>9974</td>\n",
       "      <td>780</td>\n",
       "    </tr>\n",
       "    <tr>\n",
       "      <th>2</th>\n",
       "      <td>получение образования</td>\n",
       "      <td>3620</td>\n",
       "      <td>369</td>\n",
       "    </tr>\n",
       "    <tr>\n",
       "      <th>3</th>\n",
       "      <td>проведение свадьбы</td>\n",
       "      <td>2141</td>\n",
       "      <td>183</td>\n",
       "    </tr>\n",
       "  </tbody>\n",
       "</table>\n",
       "</div>"
      ],
      "text/plain": [
       "debt          purpose_category  debt_false  debt_true\n",
       "0       операции с автомобилем        3881        400\n",
       "1     операции с недвижимостью        9974        780\n",
       "2        получение образования        3620        369\n",
       "3           проведение свадьбы        2141        183"
      ]
     },
     "execution_count": 40,
     "metadata": {},
     "output_type": "execute_result"
    }
   ],
   "source": [
    "#Создаем таблицу с количеством просроченных кредитов в разрезе целей кредита\n",
    "data_purpose_category = get_pivot_table(data, 'purpose_category', 'debt', 'purpose') \n",
    "data_purpose_category"
   ]
  },
  {
   "cell_type": "code",
   "execution_count": 41,
   "id": "db96ac54",
   "metadata": {},
   "outputs": [
    {
     "data": {
      "text/html": [
       "<div>\n",
       "<style scoped>\n",
       "    .dataframe tbody tr th:only-of-type {\n",
       "        vertical-align: middle;\n",
       "    }\n",
       "\n",
       "    .dataframe tbody tr th {\n",
       "        vertical-align: top;\n",
       "    }\n",
       "\n",
       "    .dataframe thead th {\n",
       "        text-align: right;\n",
       "    }\n",
       "</style>\n",
       "<table border=\"1\" class=\"dataframe\">\n",
       "  <thead>\n",
       "    <tr style=\"text-align: right;\">\n",
       "      <th>debt</th>\n",
       "      <th>purpose_category</th>\n",
       "      <th>debt_false</th>\n",
       "      <th>debt_true</th>\n",
       "      <th>total_loans</th>\n",
       "      <th>share_loans</th>\n",
       "      <th>debt_percent</th>\n",
       "    </tr>\n",
       "  </thead>\n",
       "  <tbody>\n",
       "    <tr>\n",
       "      <th>0</th>\n",
       "      <td>операции с автомобилем</td>\n",
       "      <td>3881</td>\n",
       "      <td>400</td>\n",
       "      <td>4281</td>\n",
       "      <td>0.200534</td>\n",
       "      <td>9.34</td>\n",
       "    </tr>\n",
       "    <tr>\n",
       "      <th>1</th>\n",
       "      <td>операции с недвижимостью</td>\n",
       "      <td>9974</td>\n",
       "      <td>780</td>\n",
       "      <td>10754</td>\n",
       "      <td>0.503747</td>\n",
       "      <td>7.25</td>\n",
       "    </tr>\n",
       "    <tr>\n",
       "      <th>2</th>\n",
       "      <td>получение образования</td>\n",
       "      <td>3620</td>\n",
       "      <td>369</td>\n",
       "      <td>3989</td>\n",
       "      <td>0.186856</td>\n",
       "      <td>9.25</td>\n",
       "    </tr>\n",
       "    <tr>\n",
       "      <th>3</th>\n",
       "      <td>проведение свадьбы</td>\n",
       "      <td>2141</td>\n",
       "      <td>183</td>\n",
       "      <td>2324</td>\n",
       "      <td>0.108863</td>\n",
       "      <td>7.87</td>\n",
       "    </tr>\n",
       "  </tbody>\n",
       "</table>\n",
       "</div>"
      ],
      "text/plain": [
       "debt          purpose_category  debt_false  debt_true  total_loans  \\\n",
       "0       операции с автомобилем        3881        400         4281   \n",
       "1     операции с недвижимостью        9974        780        10754   \n",
       "2        получение образования        3620        369         3989   \n",
       "3           проведение свадьбы        2141        183         2324   \n",
       "\n",
       "debt  share_loans  debt_percent  \n",
       "0        0.200534          9.34  \n",
       "1        0.503747          7.25  \n",
       "2        0.186856          9.25  \n",
       "3        0.108863          7.87  "
      ]
     },
     "execution_count": 41,
     "metadata": {},
     "output_type": "execute_result"
    }
   ],
   "source": [
    "#Добавляем дополнительные столбцы в таблицу, необходимые для анализа\n",
    "add_columns_to_table(data_purpose_category)\n",
    "data_purpose_category"
   ]
  },
  {
   "cell_type": "code",
   "execution_count": 42,
   "id": "265f55df",
   "metadata": {
    "scrolled": true
   },
   "outputs": [
    {
     "data": {
      "image/png": "[encoded data removed]",
      "text/plain": [
       "<Figure size 432x288 with 1 Axes>"
      ]
     },
     "metadata": {},
     "output_type": "display_data"
    }
   ],
   "source": [
    "#визуализация доли количества кредитов в разрезе категорий\n",
    "plt.pie(list(data_purpose_category['share_loans']), labels=list(data_purpose_category['purpose_category']))\n",
    "plt.show();"
   ]
  },
  {
   "cell_type": "code",
   "execution_count": 43,
   "id": "67ef5dc2",
   "metadata": {},
   "outputs": [
    {
     "data": {
      "image/png": "[encoded data removed]",
      "text/plain": [
       "<Figure size 432x288 with 1 Axes>"
      ]
     },
     "metadata": {
      "needs_background": "light"
     },
     "output_type": "display_data"
    }
   ],
   "source": [
    "#визуализация процента просроченных кредитов в разрезе категорий \n",
    "#по оси Х - категория, по оси Y -  доля в общем объеме\n",
    "sns.barplot(x=list(data_purpose_category['purpose_category']), y=list(data_purpose_category['debt_percent']))\n",
    "plt.xticks(rotation=45);"
   ]
  },
  {
   "cell_type": "markdown",
   "id": "b4bb2ce6",
   "metadata": {
    "deletable": false,
    "id": "b4bb2ce6"
   },
   "source": [
    "**Вывод:** \n",
    "\n",
    "Согласно данным выборки категория **операции с недвижимостью** занимают нибольший удельный вес - **50%**, от всех кредитом и имеет самый низкий уровень просрочки, категория **проведение свадьбы** имеет наименьший удельный вес, но имеет так же уровень просрочки ниже **среднего 8,11%**. **Операции с автомобилями** и **получение образования** имеют примерно одинаковую долю в структуре выборки и примерно одинаковый процент просрочки выше среднего более 1%. "
   ]
  },
  {
   "cell_type": "markdown",
   "id": "9da2ceda",
   "metadata": {
    "deletable": false,
    "id": "9da2ceda"
   },
   "source": [
    "В выборки остутвуют одинаковое количество данных в столбцах **days_employed** и **total_income**, возможные причины:\n",
    "* Клиенты не захотели раскрывать информацию о своих доходах и стаже\n",
    "* Возможно данный вопрос включили позже в анкету\n",
    "* Возможна техническая ошибка\n",
    "* Возможно пропуски случайные"
   ]
  },
  {
   "cell_type": "markdown",
   "id": "6db5255a",
   "metadata": {
    "deletable": false,
    "editable": false,
    "id": "6db5255a"
   },
   "source": [
    "## Общий вывод."
   ]
  },
  {
   "cell_type": "markdown",
   "id": "bad65432",
   "metadata": {
    "id": "bad65432"
   },
   "source": [
    "\n",
    "Данное исследование направленно на выявления факторов оказывающие влияние на погашение кредитов в срок, с целью предоставления информации для разработки моделей кредитного скоринга (модель позволяющая определить кредитоспособность клиентов, с целью обеспечения возратов кредитов в установленный срок)\n",
    "\n",
    "Входные данные - выборка из 21525 клиентов в разрезе основных параметров, для проведения оценки их кредитоспособности, в т.ч. данные по наличию /отсутвия просроченной задолженности.\n",
    "\n",
    "**Первоначальные гипотезы текущего исследования:**\n",
    "* Гипотеза 1. Количество детей влияет на возврат кредита в срок;\n",
    "* Гипотеза 2. Семейное положение влияет на возврат кредита в срок;\n",
    "* Гипотеза 3. Уровень дохода влияет на возврат кредита в срок;\n",
    "* Гипотеза 4. Цель кредитования оказывает влияние на возврат кредита в срок.\n",
    "\n",
    "Согласно проведнному анализу предоставленной выборки, отдельные факторы влияют на возвращаемость кредитов в срок:\n",
    "\n",
    "**Для сравнения уровня возвратов кредита в срок, необходимо ориентироваться на уровень невозвратов в срок по всей выборке - 8,11%**\n",
    "\n",
    "*Гипотеза 1*\n",
    "\n",
    "Не подтвердилась\n",
    "\n",
    "Количество детей невлияет на возврат кредита в срок,т.к. разница уровня просроченной задолженности у клиентов с детьми отличается не значительно:\n",
    "* 1 ребенок - 9,23%\n",
    "* 2 ребенка - 9,45%\n",
    "* 3 ребенка - 8,18%\n",
    "* 4 ребенка - 9,76%\n",
    "5 детей можно не рассматривать т.к. доля таких кредитов всего 0,04%.\n",
    "\n",
    "Однако необходимо обратить внимание на то, что у клиентов без детей показатель лучше, чем у клиентов с детьми и составляет 7,54%, что ниже среднего значения по выборке, в отличие от показателей у клиентов с детьми.\n",
    "\n",
    "Возможно изменение результатов при исследовании более полной выборки.\n",
    "\n",
    "*Гипотеза 2*\n",
    "\n",
    "Подтвердилась \n",
    "\n",
    "Семейное положение клиента влияет на его платежеспособность, клиенты которые в официальном браке и/или клиенты которые были в официальном браке имеют показатель возврата кредита в срок ниже среднего по выборке:\n",
    "- женат/замужем 7,56%\n",
    "- в разводе     7,06%\n",
    "- вдовец/вдова  6,62%\n",
    "\n",
    "В отличии от клиентов проживающие в гражданском браке, либо холостые, у них показатель выше среднего по выборке:\n",
    "- гражданский брак    9,29%\n",
    "- не женат/не замужем 9,76%\n",
    "\n",
    "Клиенты которые в состоят или состояли в браке - наиболее дисциплинированная категория заемщиков.\n",
    "\n",
    "*Гипотеза 3*\n",
    "\n",
    "Подтвердилась частично\n",
    "\n",
    "Уровень дохода влияет на возрат кредита в срок, клиенты с доходом \n",
    "\n",
    "Клиенты с доходм до 30000 р., имеют самый высокий уровень невозратов кредитов при низкой доли в структуре:\n",
    "- 9.09% при доле 0,1% в структуре\n",
    "\n",
    "Клиенты с доходом от 200000 до 1000000 р., и клиенты от 30000 до 500000 р. имеют показатель просрочки ниже среднего:\n",
    "- от 30000 до 500000 р.   6.02%\n",
    "- от 200000 до 1000000 р. 7,06%\n",
    "\n",
    "Однако выборка в разрезе доходов не достаточная, чтоб делать однозначные выводы, т.к. при измененияя количества клиентов в категориях с низкой долей уровень невозратов может как повысится, так и уменшится\n",
    "\n",
    "Для более точного анализа необходима полная выборка\n",
    "\n",
    "*Гипотеза 4*\n",
    "\n",
    "Подтвердилась\n",
    "\n",
    "Анализ показателей по целям кредита явно показал 2 категории с ниже среднего уровнем невозврата кредитов:\n",
    "* операции с недвижимостью - 7,25%\n",
    "* проведение свадьбы - 7,78%\n",
    "\n",
    "И 2 категории с худшим относительно среднего показателя по выборке результатом:\n",
    "* операции с автомобилем - 9,34%\n",
    "* получение образования - 9,25%\n",
    "\n",
    "Данные результаты при относительно равномерной доле кредитов с 1 выбросом 50% по операциям с недвижимостью\n",
    "Клиенты использующие кредит на покупку недвижимости или проведения свадьбы более благонадежные, чем клиенты покупающие автомобиль или получающие образование за счет кредита.\n",
    "\n",
    "**Общие реккомендации:**\n",
    "\n",
    "1. При принятии решения возможно использования данных по 2 и 4 подтвержденным Гипотезам, семейное положение и цели кредитования оказывают влияние на возрат кредитов в срокю\n",
    "2. Количество клиентов в одном сегменте, но разными категориями сильно варьируются в общей доле, поэтому для получение более точной информации по 3 гипотезе необходимо дополнительная выборка.\n"
   ]
  }
 ],
 "metadata": {
  "ExecuteTimeLog": [
   {
    "duration": 47,
    "start_time": "2022-07-23T19:00:01.342Z"
   },
   {
    "duration": 6,
    "start_time": "2022-07-23T19:14:31.611Z"
   },
   {
    "duration": 743,
    "start_time": "2022-07-23T19:14:37.701Z"
   },
   {
    "duration": 22,
    "start_time": "2022-07-23T19:14:38.445Z"
   },
   {
    "duration": 14,
    "start_time": "2022-07-23T19:14:38.469Z"
   },
   {
    "duration": 10,
    "start_time": "2022-07-23T19:14:38.485Z"
   },
   {
    "duration": 47,
    "start_time": "2022-07-23T19:14:38.497Z"
   },
   {
    "duration": 4,
    "start_time": "2022-07-23T19:14:38.546Z"
   },
   {
    "duration": 12,
    "start_time": "2022-07-23T19:14:38.551Z"
   },
   {
    "duration": 8,
    "start_time": "2022-07-23T19:14:38.564Z"
   },
   {
    "duration": 13,
    "start_time": "2022-07-23T19:14:38.574Z"
   },
   {
    "duration": 4,
    "start_time": "2022-07-23T19:14:38.590Z"
   },
   {
    "duration": 56,
    "start_time": "2022-07-23T19:14:38.595Z"
   },
   {
    "duration": 9,
    "start_time": "2022-07-23T19:14:38.653Z"
   },
   {
    "duration": 4,
    "start_time": "2022-07-23T19:14:38.664Z"
   },
   {
    "duration": 22,
    "start_time": "2022-07-23T19:14:38.671Z"
   },
   {
    "duration": 43,
    "start_time": "2022-07-23T19:14:38.695Z"
   },
   {
    "duration": 12,
    "start_time": "2022-07-23T19:14:38.740Z"
   },
   {
    "duration": 7,
    "start_time": "2022-07-23T19:14:38.754Z"
   },
   {
    "duration": 14,
    "start_time": "2022-07-23T19:14:38.763Z"
   },
   {
    "duration": 12,
    "start_time": "2022-07-23T19:14:38.779Z"
   },
   {
    "duration": 5,
    "start_time": "2022-07-23T19:14:38.793Z"
   },
   {
    "duration": 36,
    "start_time": "2022-07-23T19:14:38.799Z"
   },
   {
    "duration": 20,
    "start_time": "2022-07-23T19:14:38.837Z"
   },
   {
    "duration": 10,
    "start_time": "2022-07-23T19:14:38.859Z"
   },
   {
    "duration": 9,
    "start_time": "2022-07-23T19:14:38.871Z"
   },
   {
    "duration": 9,
    "start_time": "2022-07-23T19:14:38.882Z"
   },
   {
    "duration": 12,
    "start_time": "2022-07-23T19:34:40.398Z"
   },
   {
    "duration": 738,
    "start_time": "2022-07-24T11:26:02.711Z"
   },
   {
    "duration": 39,
    "start_time": "2022-07-24T11:26:03.451Z"
   },
   {
    "duration": 20,
    "start_time": "2022-07-24T11:26:03.492Z"
   },
   {
    "duration": 36,
    "start_time": "2022-07-24T11:26:03.516Z"
   },
   {
    "duration": 48,
    "start_time": "2022-07-24T11:26:03.554Z"
   },
   {
    "duration": 5,
    "start_time": "2022-07-24T11:26:03.603Z"
   },
   {
    "duration": 25,
    "start_time": "2022-07-24T11:26:03.610Z"
   },
   {
    "duration": 40,
    "start_time": "2022-07-24T11:26:03.637Z"
   },
   {
    "duration": 40,
    "start_time": "2022-07-24T11:26:03.679Z"
   },
   {
    "duration": 22,
    "start_time": "2022-07-24T11:26:03.723Z"
   },
   {
    "duration": 53,
    "start_time": "2022-07-24T11:26:03.747Z"
   },
   {
    "duration": 43,
    "start_time": "2022-07-24T11:26:03.802Z"
   },
   {
    "duration": 10,
    "start_time": "2022-07-24T11:26:03.847Z"
   },
   {
    "duration": 30,
    "start_time": "2022-07-24T11:26:03.859Z"
   },
   {
    "duration": 18,
    "start_time": "2022-07-24T11:26:03.891Z"
   },
   {
    "duration": 12,
    "start_time": "2022-07-24T11:26:03.910Z"
   },
   {
    "duration": 9,
    "start_time": "2022-07-24T11:26:03.923Z"
   },
   {
    "duration": 28,
    "start_time": "2022-07-24T11:26:03.935Z"
   },
   {
    "duration": 5,
    "start_time": "2022-07-24T11:26:03.966Z"
   },
   {
    "duration": 6,
    "start_time": "2022-07-24T11:26:03.973Z"
   },
   {
    "duration": 33,
    "start_time": "2022-07-24T11:26:03.981Z"
   },
   {
    "duration": 16,
    "start_time": "2022-07-24T11:26:04.017Z"
   },
   {
    "duration": 20,
    "start_time": "2022-07-24T11:26:04.035Z"
   },
   {
    "duration": 11,
    "start_time": "2022-07-24T11:26:04.057Z"
   },
   {
    "duration": 10,
    "start_time": "2022-07-24T11:26:04.070Z"
   },
   {
    "duration": 4,
    "start_time": "2022-07-24T11:26:51.519Z"
   },
   {
    "duration": 5,
    "start_time": "2022-07-24T11:27:59.253Z"
   },
   {
    "duration": 43,
    "start_time": "2022-07-24T11:29:36.597Z"
   },
   {
    "duration": 88,
    "start_time": "2022-07-24T11:29:49.001Z"
   },
   {
    "duration": 6,
    "start_time": "2022-07-24T11:30:22.713Z"
   },
   {
    "duration": 4,
    "start_time": "2022-07-24T11:33:14.528Z"
   },
   {
    "duration": 5,
    "start_time": "2022-07-24T11:33:19.272Z"
   },
   {
    "duration": 29,
    "start_time": "2022-07-24T11:33:30.841Z"
   },
   {
    "duration": 53,
    "start_time": "2022-07-24T11:37:24.972Z"
   },
   {
    "duration": 5,
    "start_time": "2022-07-24T11:37:40.846Z"
   },
   {
    "duration": 73,
    "start_time": "2022-07-24T11:42:01.401Z"
   },
   {
    "duration": 9,
    "start_time": "2022-07-24T11:42:32.259Z"
   },
   {
    "duration": 12,
    "start_time": "2022-07-24T11:48:48.309Z"
   },
   {
    "duration": 14,
    "start_time": "2022-07-24T11:58:44.303Z"
   },
   {
    "duration": 13,
    "start_time": "2022-07-24T11:59:05.463Z"
   },
   {
    "duration": 14,
    "start_time": "2022-07-24T11:59:20.557Z"
   },
   {
    "duration": 19,
    "start_time": "2022-07-24T11:59:27.405Z"
   },
   {
    "duration": 14,
    "start_time": "2022-07-24T11:59:48.492Z"
   },
   {
    "duration": 479,
    "start_time": "2022-07-24T12:00:11.183Z"
   },
   {
    "duration": 23,
    "start_time": "2022-07-24T12:00:11.665Z"
   },
   {
    "duration": 15,
    "start_time": "2022-07-24T12:00:11.691Z"
   },
   {
    "duration": 10,
    "start_time": "2022-07-24T12:00:11.707Z"
   },
   {
    "duration": 79,
    "start_time": "2022-07-24T12:00:11.719Z"
   },
   {
    "duration": 4,
    "start_time": "2022-07-24T12:00:11.800Z"
   },
   {
    "duration": 16,
    "start_time": "2022-07-24T12:00:11.806Z"
   },
   {
    "duration": 6,
    "start_time": "2022-07-24T12:00:11.824Z"
   },
   {
    "duration": 10,
    "start_time": "2022-07-24T12:00:11.831Z"
   },
   {
    "duration": 20,
    "start_time": "2022-07-24T12:00:11.843Z"
   },
   {
    "duration": 35,
    "start_time": "2022-07-24T12:00:11.865Z"
   },
   {
    "duration": 13,
    "start_time": "2022-07-24T12:00:11.902Z"
   },
   {
    "duration": 5,
    "start_time": "2022-07-24T12:00:11.917Z"
   },
   {
    "duration": 47,
    "start_time": "2022-07-24T12:00:11.925Z"
   },
   {
    "duration": 17,
    "start_time": "2022-07-24T12:00:11.974Z"
   },
   {
    "duration": 12,
    "start_time": "2022-07-24T12:00:11.993Z"
   },
   {
    "duration": 14,
    "start_time": "2022-07-24T12:00:12.007Z"
   },
   {
    "duration": 13,
    "start_time": "2022-07-24T12:00:12.022Z"
   },
   {
    "duration": 9,
    "start_time": "2022-07-24T12:00:12.037Z"
   },
   {
    "duration": 5,
    "start_time": "2022-07-24T12:00:12.064Z"
   },
   {
    "duration": 14,
    "start_time": "2022-07-24T12:00:12.073Z"
   },
   {
    "duration": 9,
    "start_time": "2022-07-24T12:00:12.089Z"
   },
   {
    "duration": 27,
    "start_time": "2022-07-24T12:00:12.099Z"
   },
   {
    "duration": 5,
    "start_time": "2022-07-24T12:00:12.127Z"
   },
   {
    "duration": 33,
    "start_time": "2022-07-24T12:00:12.133Z"
   },
   {
    "duration": 31,
    "start_time": "2022-07-24T12:00:12.169Z"
   },
   {
    "duration": 25,
    "start_time": "2022-07-24T12:00:12.201Z"
   },
   {
    "duration": 13,
    "start_time": "2022-07-24T12:00:12.228Z"
   },
   {
    "duration": 8,
    "start_time": "2022-07-24T12:00:12.243Z"
   },
   {
    "duration": 27,
    "start_time": "2022-07-24T12:00:12.253Z"
   },
   {
    "duration": 1869,
    "start_time": "2022-07-24T12:08:08.390Z"
   },
   {
    "duration": 16,
    "start_time": "2022-07-24T12:08:53.280Z"
   },
   {
    "duration": 139,
    "start_time": "2022-07-24T12:08:56.769Z"
   },
   {
    "duration": 106,
    "start_time": "2022-07-24T12:09:06.582Z"
   },
   {
    "duration": 118,
    "start_time": "2022-07-24T12:09:19.778Z"
   },
   {
    "duration": 140,
    "start_time": "2022-07-24T12:10:33.652Z"
   },
   {
    "duration": 5,
    "start_time": "2022-07-24T12:14:15.211Z"
   },
   {
    "duration": 133,
    "start_time": "2022-07-24T12:15:02.124Z"
   },
   {
    "duration": 4,
    "start_time": "2022-07-24T12:15:13.139Z"
   },
   {
    "duration": 5,
    "start_time": "2022-07-24T12:15:39.708Z"
   },
   {
    "duration": 5,
    "start_time": "2022-07-24T12:15:52.751Z"
   },
   {
    "duration": 4,
    "start_time": "2022-07-24T12:18:05.539Z"
   },
   {
    "duration": 4,
    "start_time": "2022-07-24T12:19:17.090Z"
   },
   {
    "duration": 4,
    "start_time": "2022-07-24T12:19:54.144Z"
   },
   {
    "duration": 4,
    "start_time": "2022-07-24T12:26:09.163Z"
   },
   {
    "duration": 4,
    "start_time": "2022-07-24T12:26:42.202Z"
   },
   {
    "duration": 1237,
    "start_time": "2022-07-24T12:55:13.152Z"
   },
   {
    "duration": 9,
    "start_time": "2022-07-24T12:55:26.072Z"
   },
   {
    "duration": 7,
    "start_time": "2022-07-24T12:56:03.114Z"
   },
   {
    "duration": 13,
    "start_time": "2022-07-24T13:01:09.248Z"
   },
   {
    "duration": 10,
    "start_time": "2022-07-24T13:01:42.406Z"
   },
   {
    "duration": 4,
    "start_time": "2022-07-24T13:01:51.200Z"
   },
   {
    "duration": 5,
    "start_time": "2022-07-24T13:02:06.302Z"
   },
   {
    "duration": 5,
    "start_time": "2022-07-24T13:02:21.138Z"
   },
   {
    "duration": 6,
    "start_time": "2022-07-24T13:02:55.038Z"
   },
   {
    "duration": 6,
    "start_time": "2022-07-24T13:03:08.938Z"
   },
   {
    "duration": 5,
    "start_time": "2022-07-24T13:03:33.511Z"
   },
   {
    "duration": 8,
    "start_time": "2022-07-24T13:04:10.665Z"
   },
   {
    "duration": 24,
    "start_time": "2022-07-24T13:08:25.169Z"
   },
   {
    "duration": 18,
    "start_time": "2022-07-24T13:09:21.774Z"
   },
   {
    "duration": 18,
    "start_time": "2022-07-24T13:09:29.098Z"
   },
   {
    "duration": 118,
    "start_time": "2022-07-24T13:10:31.373Z"
   },
   {
    "duration": 23,
    "start_time": "2022-07-24T13:10:38.481Z"
   },
   {
    "duration": 20,
    "start_time": "2022-07-24T13:14:01.902Z"
   },
   {
    "duration": 10,
    "start_time": "2022-07-24T13:20:10.757Z"
   },
   {
    "duration": 9,
    "start_time": "2022-07-24T13:20:22.820Z"
   },
   {
    "duration": 11,
    "start_time": "2022-07-24T13:20:31.920Z"
   },
   {
    "duration": 14,
    "start_time": "2022-07-24T13:21:13.563Z"
   },
   {
    "duration": 13,
    "start_time": "2022-07-24T13:21:47.056Z"
   },
   {
    "duration": 9,
    "start_time": "2022-07-24T13:23:09.557Z"
   },
   {
    "duration": 10,
    "start_time": "2022-07-24T13:24:32.940Z"
   },
   {
    "duration": 10,
    "start_time": "2022-07-24T13:25:10.244Z"
   },
   {
    "duration": 12,
    "start_time": "2022-07-24T13:28:36.334Z"
   },
   {
    "duration": 10,
    "start_time": "2022-07-24T13:33:07.586Z"
   },
   {
    "duration": 102,
    "start_time": "2022-07-24T13:33:23.429Z"
   },
   {
    "duration": 102,
    "start_time": "2022-07-24T13:33:36.802Z"
   },
   {
    "duration": 4,
    "start_time": "2022-07-24T13:49:03.125Z"
   },
   {
    "duration": 3,
    "start_time": "2022-07-24T13:49:18.180Z"
   },
   {
    "duration": 46,
    "start_time": "2022-07-24T13:49:54.426Z"
   },
   {
    "duration": 5,
    "start_time": "2022-07-24T13:49:59.563Z"
   },
   {
    "duration": 113,
    "start_time": "2022-07-24T13:50:36.009Z"
   },
   {
    "duration": 4,
    "start_time": "2022-07-24T13:51:19.389Z"
   },
   {
    "duration": 93,
    "start_time": "2022-07-24T13:52:02.860Z"
   },
   {
    "duration": 100,
    "start_time": "2022-07-24T13:52:15.760Z"
   },
   {
    "duration": 154,
    "start_time": "2022-07-24T13:52:26.705Z"
   },
   {
    "duration": 13,
    "start_time": "2022-07-24T13:53:26.690Z"
   },
   {
    "duration": 101,
    "start_time": "2022-07-24T13:53:29.738Z"
   },
   {
    "duration": 742,
    "start_time": "2022-07-24T13:56:19.834Z"
   },
   {
    "duration": 45,
    "start_time": "2022-07-24T13:57:28.238Z"
   },
   {
    "duration": 739,
    "start_time": "2022-07-24T13:57:38.474Z"
   },
   {
    "duration": 45,
    "start_time": "2022-07-24T13:58:07.094Z"
   },
   {
    "duration": 712,
    "start_time": "2022-07-24T13:58:20.872Z"
   },
   {
    "duration": 899,
    "start_time": "2022-07-24T13:58:49.945Z"
   },
   {
    "duration": 86,
    "start_time": "2022-07-24T13:59:17.145Z"
   },
   {
    "duration": 96,
    "start_time": "2022-07-24T13:59:26.759Z"
   },
   {
    "duration": 87,
    "start_time": "2022-07-24T13:59:44.442Z"
   },
   {
    "duration": 114,
    "start_time": "2022-07-24T13:59:50.204Z"
   },
   {
    "duration": 112,
    "start_time": "2022-07-24T13:59:55.171Z"
   },
   {
    "duration": 136,
    "start_time": "2022-07-24T14:02:21.319Z"
   },
   {
    "duration": 155,
    "start_time": "2022-07-24T14:02:42.481Z"
   },
   {
    "duration": 142,
    "start_time": "2022-07-24T14:03:43.251Z"
   },
   {
    "duration": 116,
    "start_time": "2022-07-24T14:06:10.277Z"
   },
   {
    "duration": 4,
    "start_time": "2022-07-24T14:07:42.800Z"
   },
   {
    "duration": 8,
    "start_time": "2022-07-24T14:28:34.728Z"
   },
   {
    "duration": 12,
    "start_time": "2022-07-24T14:28:41.268Z"
   },
   {
    "duration": 25,
    "start_time": "2022-07-24T14:42:10.361Z"
   },
   {
    "duration": 23,
    "start_time": "2022-07-24T14:42:29.559Z"
   },
   {
    "duration": 5,
    "start_time": "2022-07-24T14:58:39.464Z"
   },
   {
    "duration": 22,
    "start_time": "2022-07-24T15:00:08.912Z"
   },
   {
    "duration": 6,
    "start_time": "2022-07-24T15:02:40.200Z"
   },
   {
    "duration": 17,
    "start_time": "2022-07-24T15:04:43.719Z"
   },
   {
    "duration": 12,
    "start_time": "2022-07-24T15:05:09.623Z"
   },
   {
    "duration": 9,
    "start_time": "2022-07-24T15:13:17.342Z"
   },
   {
    "duration": 4,
    "start_time": "2022-07-24T15:13:28.197Z"
   },
   {
    "duration": 12,
    "start_time": "2022-07-24T15:13:30.692Z"
   },
   {
    "duration": 11,
    "start_time": "2022-07-24T15:15:28.305Z"
   },
   {
    "duration": 87,
    "start_time": "2022-07-24T15:15:30.491Z"
   },
   {
    "duration": 130,
    "start_time": "2022-07-24T15:15:33.058Z"
   },
   {
    "duration": 7,
    "start_time": "2022-07-24T15:18:06.949Z"
   },
   {
    "duration": 17,
    "start_time": "2022-07-24T15:18:15.666Z"
   },
   {
    "duration": 12,
    "start_time": "2022-07-24T15:19:49.300Z"
   },
   {
    "duration": 6,
    "start_time": "2022-07-24T15:22:50.087Z"
   },
   {
    "duration": 20,
    "start_time": "2022-07-24T15:22:52.471Z"
   },
   {
    "duration": 4,
    "start_time": "2022-07-24T15:22:57.080Z"
   },
   {
    "duration": 10,
    "start_time": "2022-07-24T15:22:59.751Z"
   },
   {
    "duration": 3,
    "start_time": "2022-07-24T15:23:03.036Z"
   },
   {
    "duration": 16,
    "start_time": "2022-07-24T15:23:16.085Z"
   },
   {
    "duration": 13,
    "start_time": "2022-07-24T15:23:43.639Z"
   },
   {
    "duration": 5,
    "start_time": "2022-07-24T15:24:48.493Z"
   },
   {
    "duration": 17,
    "start_time": "2022-07-24T15:27:10.145Z"
   },
   {
    "duration": 11,
    "start_time": "2022-07-24T15:27:20.604Z"
   },
   {
    "duration": 186,
    "start_time": "2022-07-24T15:27:24.680Z"
   },
   {
    "duration": 127,
    "start_time": "2022-07-24T15:27:27.642Z"
   },
   {
    "duration": 19,
    "start_time": "2022-07-24T15:28:15.106Z"
   },
   {
    "duration": 4,
    "start_time": "2022-07-24T15:30:54.809Z"
   },
   {
    "duration": 5,
    "start_time": "2022-07-24T15:30:56.621Z"
   },
   {
    "duration": 23,
    "start_time": "2022-07-24T15:31:03.123Z"
   },
   {
    "duration": 5,
    "start_time": "2022-07-24T15:31:06.602Z"
   },
   {
    "duration": 9,
    "start_time": "2022-07-24T15:31:08.727Z"
   },
   {
    "duration": 4,
    "start_time": "2022-07-24T15:31:12.171Z"
   },
   {
    "duration": 16,
    "start_time": "2022-07-24T15:31:15.543Z"
   },
   {
    "duration": 120,
    "start_time": "2022-07-24T15:31:17.798Z"
   },
   {
    "duration": 8,
    "start_time": "2022-07-24T15:31:20.274Z"
   },
   {
    "duration": 92,
    "start_time": "2022-07-24T15:31:49.081Z"
   },
   {
    "duration": 119,
    "start_time": "2022-07-24T15:31:52.067Z"
   },
   {
    "duration": 11,
    "start_time": "2022-07-24T15:34:11.015Z"
   },
   {
    "duration": 79,
    "start_time": "2022-07-24T15:35:35.448Z"
   },
   {
    "duration": 97,
    "start_time": "2022-07-24T15:36:20.492Z"
   },
   {
    "duration": 111,
    "start_time": "2022-07-24T15:36:27.826Z"
   },
   {
    "duration": 17,
    "start_time": "2022-07-24T15:39:14.620Z"
   },
   {
    "duration": 24,
    "start_time": "2022-07-24T15:40:35.164Z"
   },
   {
    "duration": 13,
    "start_time": "2022-07-24T15:41:27.223Z"
   },
   {
    "duration": 86,
    "start_time": "2022-07-24T15:43:31.883Z"
   },
   {
    "duration": 85,
    "start_time": "2022-07-24T15:44:32.853Z"
   },
   {
    "duration": 78,
    "start_time": "2022-07-24T15:44:57.579Z"
   },
   {
    "duration": 82,
    "start_time": "2022-07-24T15:45:09.777Z"
   },
   {
    "duration": 87,
    "start_time": "2022-07-24T15:46:05.432Z"
   },
   {
    "duration": 184,
    "start_time": "2022-07-24T15:47:43.491Z"
   },
   {
    "duration": 124,
    "start_time": "2022-07-24T15:47:54.415Z"
   },
   {
    "duration": 115,
    "start_time": "2022-07-24T15:49:22.120Z"
   },
   {
    "duration": 452,
    "start_time": "2022-07-24T15:51:58.287Z"
   },
   {
    "duration": 31,
    "start_time": "2022-07-24T15:51:58.741Z"
   },
   {
    "duration": 17,
    "start_time": "2022-07-24T15:51:58.777Z"
   },
   {
    "duration": 10,
    "start_time": "2022-07-24T15:51:58.796Z"
   },
   {
    "duration": 33,
    "start_time": "2022-07-24T15:51:58.807Z"
   },
   {
    "duration": 4,
    "start_time": "2022-07-24T15:51:58.842Z"
   },
   {
    "duration": 29,
    "start_time": "2022-07-24T15:51:58.847Z"
   },
   {
    "duration": 5,
    "start_time": "2022-07-24T15:51:58.879Z"
   },
   {
    "duration": 9,
    "start_time": "2022-07-24T15:51:58.886Z"
   },
   {
    "duration": 5,
    "start_time": "2022-07-24T15:51:58.898Z"
   },
   {
    "duration": 35,
    "start_time": "2022-07-24T15:51:58.904Z"
   },
   {
    "duration": 33,
    "start_time": "2022-07-24T15:51:58.940Z"
   },
   {
    "duration": 5,
    "start_time": "2022-07-24T15:51:58.976Z"
   },
   {
    "duration": 20,
    "start_time": "2022-07-24T15:51:58.983Z"
   },
   {
    "duration": 17,
    "start_time": "2022-07-24T15:51:59.005Z"
   },
   {
    "duration": 11,
    "start_time": "2022-07-24T15:51:59.024Z"
   },
   {
    "duration": 6,
    "start_time": "2022-07-24T15:51:59.036Z"
   },
   {
    "duration": 22,
    "start_time": "2022-07-24T15:51:59.070Z"
   },
   {
    "duration": 10,
    "start_time": "2022-07-24T15:51:59.094Z"
   },
   {
    "duration": 3,
    "start_time": "2022-07-24T15:51:59.105Z"
   },
   {
    "duration": 12,
    "start_time": "2022-07-24T15:51:59.110Z"
   },
   {
    "duration": 3,
    "start_time": "2022-07-24T15:51:59.123Z"
   },
   {
    "duration": 8,
    "start_time": "2022-07-24T15:51:59.128Z"
   },
   {
    "duration": 31,
    "start_time": "2022-07-24T15:51:59.138Z"
   },
   {
    "duration": 4,
    "start_time": "2022-07-24T15:51:59.170Z"
   },
   {
    "duration": 13,
    "start_time": "2022-07-24T15:51:59.179Z"
   },
   {
    "duration": 10,
    "start_time": "2022-07-24T15:51:59.193Z"
   },
   {
    "duration": 13,
    "start_time": "2022-07-24T15:51:59.206Z"
   },
   {
    "duration": 901,
    "start_time": "2022-07-24T15:51:59.221Z"
   },
   {
    "duration": 4,
    "start_time": "2022-07-24T15:52:00.124Z"
   },
   {
    "duration": 16,
    "start_time": "2022-07-24T15:52:00.130Z"
   },
   {
    "duration": 40,
    "start_time": "2022-07-24T15:52:00.148Z"
   },
   {
    "duration": 11,
    "start_time": "2022-07-24T15:52:00.190Z"
   },
   {
    "duration": 98,
    "start_time": "2022-07-24T15:52:00.203Z"
   },
   {
    "duration": 155,
    "start_time": "2022-07-24T15:52:00.302Z"
   },
   {
    "duration": 32,
    "start_time": "2022-07-24T15:52:00.458Z"
   },
   {
    "duration": 29,
    "start_time": "2022-07-24T15:52:00.492Z"
   },
   {
    "duration": 114,
    "start_time": "2022-07-24T15:52:00.523Z"
   },
   {
    "duration": 26,
    "start_time": "2022-07-24T15:52:00.639Z"
   },
   {
    "duration": 14,
    "start_time": "2022-07-24T15:52:00.671Z"
   },
   {
    "duration": 114,
    "start_time": "2022-07-24T15:52:00.687Z"
   },
   {
    "duration": 127,
    "start_time": "2022-07-24T15:52:00.803Z"
   },
   {
    "duration": 94,
    "start_time": "2022-07-24T16:55:56.815Z"
   },
   {
    "duration": 92,
    "start_time": "2022-07-24T16:56:02.738Z"
   },
   {
    "duration": 470,
    "start_time": "2022-07-24T17:47:50.181Z"
   },
   {
    "duration": 22,
    "start_time": "2022-07-24T17:47:50.653Z"
   },
   {
    "duration": 15,
    "start_time": "2022-07-24T17:47:50.677Z"
   },
   {
    "duration": 11,
    "start_time": "2022-07-24T17:47:50.694Z"
   },
   {
    "duration": 36,
    "start_time": "2022-07-24T17:47:50.706Z"
   },
   {
    "duration": 21,
    "start_time": "2022-07-24T17:47:50.744Z"
   },
   {
    "duration": 11,
    "start_time": "2022-07-24T17:47:50.766Z"
   },
   {
    "duration": 5,
    "start_time": "2022-07-24T17:47:50.778Z"
   },
   {
    "duration": 10,
    "start_time": "2022-07-24T17:47:50.784Z"
   },
   {
    "duration": 4,
    "start_time": "2022-07-24T17:47:50.796Z"
   },
   {
    "duration": 37,
    "start_time": "2022-07-24T17:47:50.801Z"
   },
   {
    "duration": 10,
    "start_time": "2022-07-24T17:47:50.863Z"
   },
   {
    "duration": 3,
    "start_time": "2022-07-24T17:47:50.874Z"
   },
   {
    "duration": 21,
    "start_time": "2022-07-24T17:47:50.878Z"
   },
   {
    "duration": 14,
    "start_time": "2022-07-24T17:47:50.901Z"
   },
   {
    "duration": 11,
    "start_time": "2022-07-24T17:47:50.916Z"
   },
   {
    "duration": 16,
    "start_time": "2022-07-24T17:47:50.928Z"
   },
   {
    "duration": 24,
    "start_time": "2022-07-24T17:47:50.945Z"
   },
   {
    "duration": 5,
    "start_time": "2022-07-24T17:47:50.971Z"
   },
   {
    "duration": 6,
    "start_time": "2022-07-24T17:47:50.977Z"
   },
   {
    "duration": 15,
    "start_time": "2022-07-24T17:47:50.984Z"
   },
   {
    "duration": 10,
    "start_time": "2022-07-24T17:47:51.001Z"
   },
   {
    "duration": 7,
    "start_time": "2022-07-24T17:47:51.013Z"
   },
   {
    "duration": 24,
    "start_time": "2022-07-24T17:47:51.022Z"
   },
   {
    "duration": 18,
    "start_time": "2022-07-24T17:47:51.047Z"
   },
   {
    "duration": 12,
    "start_time": "2022-07-24T17:47:51.067Z"
   },
   {
    "duration": 5,
    "start_time": "2022-07-24T17:47:51.080Z"
   },
   {
    "duration": 13,
    "start_time": "2022-07-24T17:47:51.088Z"
   },
   {
    "duration": 826,
    "start_time": "2022-07-24T17:47:51.102Z"
   },
   {
    "duration": 4,
    "start_time": "2022-07-24T17:47:51.929Z"
   },
   {
    "duration": 8,
    "start_time": "2022-07-24T17:47:51.935Z"
   },
   {
    "duration": 30,
    "start_time": "2022-07-24T17:47:51.945Z"
   },
   {
    "duration": 11,
    "start_time": "2022-07-24T17:47:51.976Z"
   },
   {
    "duration": 98,
    "start_time": "2022-07-24T17:47:51.988Z"
   },
   {
    "duration": 123,
    "start_time": "2022-07-24T17:47:52.087Z"
   },
   {
    "duration": 18,
    "start_time": "2022-07-24T17:47:52.212Z"
   },
   {
    "duration": 11,
    "start_time": "2022-07-24T17:47:52.232Z"
   },
   {
    "duration": 117,
    "start_time": "2022-07-24T17:47:52.244Z"
   },
   {
    "duration": 20,
    "start_time": "2022-07-24T17:47:52.363Z"
   },
   {
    "duration": 12,
    "start_time": "2022-07-24T17:47:52.385Z"
   },
   {
    "duration": 99,
    "start_time": "2022-07-24T17:47:52.398Z"
   },
   {
    "duration": 140,
    "start_time": "2022-07-24T17:47:52.499Z"
   },
   {
    "duration": 453,
    "start_time": "2022-07-24T17:52:33.368Z"
   },
   {
    "duration": 21,
    "start_time": "2022-07-24T17:52:33.823Z"
   },
   {
    "duration": 24,
    "start_time": "2022-07-24T17:52:33.845Z"
   },
   {
    "duration": 11,
    "start_time": "2022-07-24T17:52:33.870Z"
   },
   {
    "duration": 29,
    "start_time": "2022-07-24T17:52:33.883Z"
   },
   {
    "duration": 3,
    "start_time": "2022-07-24T17:52:33.914Z"
   },
   {
    "duration": 10,
    "start_time": "2022-07-24T17:52:33.918Z"
   },
   {
    "duration": 8,
    "start_time": "2022-07-24T17:52:33.929Z"
   },
   {
    "duration": 28,
    "start_time": "2022-07-24T17:52:33.938Z"
   },
   {
    "duration": 8,
    "start_time": "2022-07-24T17:52:33.967Z"
   },
   {
    "duration": 29,
    "start_time": "2022-07-24T17:52:33.976Z"
   },
   {
    "duration": 8,
    "start_time": "2022-07-24T17:52:34.007Z"
   },
   {
    "duration": 3,
    "start_time": "2022-07-24T17:52:34.017Z"
   },
   {
    "duration": 44,
    "start_time": "2022-07-24T17:52:34.022Z"
   },
   {
    "duration": 15,
    "start_time": "2022-07-24T17:52:34.068Z"
   },
   {
    "duration": 9,
    "start_time": "2022-07-24T17:52:34.085Z"
   },
   {
    "duration": 8,
    "start_time": "2022-07-24T17:52:34.095Z"
   },
   {
    "duration": 14,
    "start_time": "2022-07-24T17:52:34.105Z"
   },
   {
    "duration": 10,
    "start_time": "2022-07-24T17:52:34.120Z"
   },
   {
    "duration": 6,
    "start_time": "2022-07-24T17:52:34.132Z"
   },
   {
    "duration": 10,
    "start_time": "2022-07-24T17:52:34.139Z"
   },
   {
    "duration": 20,
    "start_time": "2022-07-24T17:52:34.150Z"
   },
   {
    "duration": 6,
    "start_time": "2022-07-24T17:52:34.172Z"
   },
   {
    "duration": 26,
    "start_time": "2022-07-24T17:52:34.179Z"
   },
   {
    "duration": 3,
    "start_time": "2022-07-24T17:52:34.206Z"
   },
   {
    "duration": 12,
    "start_time": "2022-07-24T17:52:34.210Z"
   },
   {
    "duration": 7,
    "start_time": "2022-07-24T17:52:34.223Z"
   },
   {
    "duration": 36,
    "start_time": "2022-07-24T17:52:34.232Z"
   },
   {
    "duration": 851,
    "start_time": "2022-07-24T17:52:34.270Z"
   },
   {
    "duration": 4,
    "start_time": "2022-07-24T17:52:35.123Z"
   },
   {
    "duration": 9,
    "start_time": "2022-07-24T17:52:35.128Z"
   },
   {
    "duration": 29,
    "start_time": "2022-07-24T17:52:35.139Z"
   },
   {
    "duration": 10,
    "start_time": "2022-07-24T17:52:35.170Z"
   },
   {
    "duration": 91,
    "start_time": "2022-07-24T17:52:35.181Z"
   },
   {
    "duration": 123,
    "start_time": "2022-07-24T17:52:35.273Z"
   },
   {
    "duration": 18,
    "start_time": "2022-07-24T17:52:35.398Z"
   },
   {
    "duration": 10,
    "start_time": "2022-07-24T17:52:35.417Z"
   },
   {
    "duration": 107,
    "start_time": "2022-07-24T17:52:35.428Z"
   },
   {
    "duration": 28,
    "start_time": "2022-07-24T17:52:35.537Z"
   },
   {
    "duration": 10,
    "start_time": "2022-07-24T17:52:35.568Z"
   },
   {
    "duration": 89,
    "start_time": "2022-07-24T17:52:35.582Z"
   },
   {
    "duration": 108,
    "start_time": "2022-07-24T17:52:35.672Z"
   },
   {
    "duration": 59,
    "start_time": "2022-07-24T20:07:59.150Z"
   },
   {
    "duration": 64,
    "start_time": "2022-07-24T21:22:39.435Z"
   },
   {
    "duration": 46,
    "start_time": "2022-08-02T20:36:04.528Z"
   },
   {
    "duration": 725,
    "start_time": "2022-08-02T20:36:08.725Z"
   },
   {
    "duration": 22,
    "start_time": "2022-08-02T20:36:09.452Z"
   },
   {
    "duration": 15,
    "start_time": "2022-08-02T20:36:09.476Z"
   },
   {
    "duration": 17,
    "start_time": "2022-08-02T20:36:09.492Z"
   },
   {
    "duration": 46,
    "start_time": "2022-08-02T20:36:09.512Z"
   },
   {
    "duration": 3,
    "start_time": "2022-08-02T20:36:09.560Z"
   },
   {
    "duration": 29,
    "start_time": "2022-08-02T20:36:09.565Z"
   },
   {
    "duration": 5,
    "start_time": "2022-08-02T20:36:09.595Z"
   },
   {
    "duration": 10,
    "start_time": "2022-08-02T20:36:09.601Z"
   },
   {
    "duration": 10,
    "start_time": "2022-08-02T20:36:09.612Z"
   },
   {
    "duration": 35,
    "start_time": "2022-08-02T20:36:09.624Z"
   },
   {
    "duration": 29,
    "start_time": "2022-08-02T20:36:09.661Z"
   },
   {
    "duration": 4,
    "start_time": "2022-08-02T20:36:09.691Z"
   },
   {
    "duration": 19,
    "start_time": "2022-08-02T20:36:09.699Z"
   },
   {
    "duration": 17,
    "start_time": "2022-08-02T20:36:09.719Z"
   },
   {
    "duration": 12,
    "start_time": "2022-08-02T20:36:09.738Z"
   },
   {
    "duration": 36,
    "start_time": "2022-08-02T20:36:09.751Z"
   },
   {
    "duration": 9,
    "start_time": "2022-08-02T20:36:09.789Z"
   },
   {
    "duration": 12,
    "start_time": "2022-08-02T20:36:09.800Z"
   },
   {
    "duration": 7,
    "start_time": "2022-08-02T20:36:09.814Z"
   },
   {
    "duration": 11,
    "start_time": "2022-08-02T20:36:09.822Z"
   },
   {
    "duration": 5,
    "start_time": "2022-08-02T20:36:09.834Z"
   },
   {
    "duration": 10,
    "start_time": "2022-08-02T20:36:09.841Z"
   },
   {
    "duration": 46,
    "start_time": "2022-08-02T20:36:09.853Z"
   },
   {
    "duration": 4,
    "start_time": "2022-08-02T20:36:09.901Z"
   },
   {
    "duration": 11,
    "start_time": "2022-08-02T20:36:09.907Z"
   },
   {
    "duration": 8,
    "start_time": "2022-08-02T20:36:09.919Z"
   },
   {
    "duration": 25,
    "start_time": "2022-08-02T20:36:09.929Z"
   },
   {
    "duration": 889,
    "start_time": "2022-08-02T20:36:09.956Z"
   },
   {
    "duration": 4,
    "start_time": "2022-08-02T20:36:10.846Z"
   },
   {
    "duration": 10,
    "start_time": "2022-08-02T20:36:10.852Z"
   },
   {
    "duration": 41,
    "start_time": "2022-08-02T20:36:10.863Z"
   },
   {
    "duration": 15,
    "start_time": "2022-08-02T20:36:10.906Z"
   },
   {
    "duration": 110,
    "start_time": "2022-08-02T20:36:10.924Z"
   },
   {
    "duration": 132,
    "start_time": "2022-08-02T20:36:11.037Z"
   },
   {
    "duration": 27,
    "start_time": "2022-08-02T20:36:11.171Z"
   },
   {
    "duration": 11,
    "start_time": "2022-08-02T20:36:11.199Z"
   },
   {
    "duration": 134,
    "start_time": "2022-08-02T20:36:11.212Z"
   },
   {
    "duration": 20,
    "start_time": "2022-08-02T20:36:11.347Z"
   },
   {
    "duration": 27,
    "start_time": "2022-08-02T20:36:11.369Z"
   },
   {
    "duration": 101,
    "start_time": "2022-08-02T20:36:11.401Z"
   },
   {
    "duration": 129,
    "start_time": "2022-08-02T20:36:11.504Z"
   },
   {
    "duration": 58,
    "start_time": "2022-08-03T11:00:14.415Z"
   },
   {
    "duration": 528,
    "start_time": "2022-08-03T11:00:24.266Z"
   },
   {
    "duration": 28,
    "start_time": "2022-08-03T11:00:24.796Z"
   },
   {
    "duration": 17,
    "start_time": "2022-08-03T11:00:24.826Z"
   },
   {
    "duration": 9,
    "start_time": "2022-08-03T11:00:24.844Z"
   },
   {
    "duration": 33,
    "start_time": "2022-08-03T11:00:24.854Z"
   },
   {
    "duration": 4,
    "start_time": "2022-08-03T11:00:24.888Z"
   },
   {
    "duration": 20,
    "start_time": "2022-08-03T11:00:24.893Z"
   },
   {
    "duration": 13,
    "start_time": "2022-08-03T11:00:24.916Z"
   },
   {
    "duration": 7,
    "start_time": "2022-08-03T11:00:24.930Z"
   },
   {
    "duration": 5,
    "start_time": "2022-08-03T11:00:24.940Z"
   },
   {
    "duration": 46,
    "start_time": "2022-08-03T11:00:24.946Z"
   },
   {
    "duration": 33,
    "start_time": "2022-08-03T11:00:24.993Z"
   },
   {
    "duration": 5,
    "start_time": "2022-08-03T11:00:25.028Z"
   },
   {
    "duration": 18,
    "start_time": "2022-08-03T11:00:25.034Z"
   },
   {
    "duration": 23,
    "start_time": "2022-08-03T11:00:25.054Z"
   },
   {
    "duration": 30,
    "start_time": "2022-08-03T11:00:25.079Z"
   },
   {
    "duration": 17,
    "start_time": "2022-08-03T11:00:25.110Z"
   },
   {
    "duration": 11,
    "start_time": "2022-08-03T11:00:25.128Z"
   },
   {
    "duration": 7,
    "start_time": "2022-08-03T11:00:25.140Z"
   },
   {
    "duration": 3,
    "start_time": "2022-08-03T11:00:25.148Z"
   },
   {
    "duration": 12,
    "start_time": "2022-08-03T11:00:25.153Z"
   },
   {
    "duration": 3,
    "start_time": "2022-08-03T11:00:25.167Z"
   },
   {
    "duration": 10,
    "start_time": "2022-08-03T11:00:25.172Z"
   },
   {
    "duration": 45,
    "start_time": "2022-08-03T11:00:25.183Z"
   },
   {
    "duration": 5,
    "start_time": "2022-08-03T11:00:25.230Z"
   },
   {
    "duration": 12,
    "start_time": "2022-08-03T11:00:25.236Z"
   },
   {
    "duration": 8,
    "start_time": "2022-08-03T11:00:25.249Z"
   },
   {
    "duration": 16,
    "start_time": "2022-08-03T11:00:25.261Z"
   },
   {
    "duration": 856,
    "start_time": "2022-08-03T11:00:25.278Z"
   },
   {
    "duration": 5,
    "start_time": "2022-08-03T11:00:26.136Z"
   },
   {
    "duration": 22,
    "start_time": "2022-08-03T11:00:26.144Z"
   },
   {
    "duration": 32,
    "start_time": "2022-08-03T11:00:26.168Z"
   },
   {
    "duration": 21,
    "start_time": "2022-08-03T11:00:26.202Z"
   },
   {
    "duration": 110,
    "start_time": "2022-08-03T11:00:26.225Z"
   },
   {
    "duration": 117,
    "start_time": "2022-08-03T11:00:26.336Z"
   },
   {
    "duration": 18,
    "start_time": "2022-08-03T11:00:26.455Z"
   },
   {
    "duration": 14,
    "start_time": "2022-08-03T11:00:26.474Z"
   },
   {
    "duration": 107,
    "start_time": "2022-08-03T11:00:26.507Z"
   },
   {
    "duration": 20,
    "start_time": "2022-08-03T11:00:26.617Z"
   },
   {
    "duration": 9,
    "start_time": "2022-08-03T11:00:26.639Z"
   },
   {
    "duration": 90,
    "start_time": "2022-08-03T11:00:26.649Z"
   },
   {
    "duration": 110,
    "start_time": "2022-08-03T11:00:26.740Z"
   },
   {
    "duration": 49,
    "start_time": "2022-08-03T11:02:11.294Z"
   }
  ],
  "celltoolbar": "Отсутствует",
  "colab": {
   "name": "dpp_template_part2.ipynb",
   "provenance": []
  },
  "kernelspec": {
   "display_name": "Python 3 (ipykernel)",
   "language": "python",
   "name": "python3"
  },
  "language_info": {
   "codemirror_mode": {
    "name": "ipython",
    "version": 3
   },
   "file_extension": ".py",
   "mimetype": "text/x-python",
   "name": "python",
   "nbconvert_exporter": "python",
   "pygments_lexer": "ipython3",
   "version": "3.8.10"
  },
  "toc": {
   "base_numbering": 1,
   "nav_menu": {},
   "number_sections": true,
   "sideBar": true,
   "skip_h1_title": true,
   "title_cell": "Table of Contents",
   "title_sidebar": "Contents",
   "toc_cell": false,
   "toc_position": {},
   "toc_section_display": true,
   "toc_window_display": true
  }
 },
 "nbformat": 4,
 "nbformat_minor": 5
}
