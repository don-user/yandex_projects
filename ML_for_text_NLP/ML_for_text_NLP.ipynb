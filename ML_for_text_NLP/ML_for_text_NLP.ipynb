{
 "cells": [
  {
   "cell_type": "markdown",
   "metadata": {
    "id": "Frv_QN1Foz1J",
    "toc": true
   },
   "source": [
    "<h1>Содержание<span class=\"tocSkip\"></span></h1>\n",
    "<div class=\"toc\"><ul class=\"toc-item\"><li><span><a href=\"#Подготовка\" data-toc-modified-id=\"Подготовка-1\"><span class=\"toc-item-num\">1&nbsp;&nbsp;</span>Подготовка</a></span><ul class=\"toc-item\"><li><span><a href=\"#Импорты,-настройки,-константы\" data-toc-modified-id=\"Импорты,-настройки,-константы-1.1\"><span class=\"toc-item-num\">1.1&nbsp;&nbsp;</span>Импорты, настройки, константы</a></span></li><li><span><a href=\"#Загрузка-данных\" data-toc-modified-id=\"Загрузка-данных-1.2\"><span class=\"toc-item-num\">1.2&nbsp;&nbsp;</span>Загрузка данных</a></span></li><li><span><a href=\"#Анализ-данных\" data-toc-modified-id=\"Анализ-данных-1.3\"><span class=\"toc-item-num\">1.3&nbsp;&nbsp;</span>Анализ данных</a></span></li><li><span><a href=\"#Подготовка-данных\" data-toc-modified-id=\"Подготовка-данных-1.4\"><span class=\"toc-item-num\">1.4&nbsp;&nbsp;</span>Подготовка данных</a></span><ul class=\"toc-item\"><li><span><a href=\"#Подготовка-даных-для-обработки-с-помощью-TF-IDF\" data-toc-modified-id=\"Подготовка-даных-для-обработки-с-помощью-TF-IDF-1.4.1\"><span class=\"toc-item-num\">1.4.1&nbsp;&nbsp;</span>Подготовка даных для обработки с помощью <strong>TF-IDF</strong></a></span></li><li><span><a href=\"#Подготовка-данных-для-BERT\" data-toc-modified-id=\"Подготовка-данных-для-BERT-1.4.2\"><span class=\"toc-item-num\">1.4.2&nbsp;&nbsp;</span>Подготовка данных для BERT</a></span></li></ul></li></ul></li><li><span><a href=\"#Обучение\" data-toc-modified-id=\"Обучение-2\"><span class=\"toc-item-num\">2&nbsp;&nbsp;</span>Обучение</a></span><ul class=\"toc-item\"><li><span><a href=\"#Обучение-моделей-с-помощью-обработанных-данных-методом-TF-IDF\" data-toc-modified-id=\"Обучение-моделей-с-помощью-обработанных-данных-методом-TF-IDF-2.1\"><span class=\"toc-item-num\">2.1&nbsp;&nbsp;</span>Обучение моделей с помощью обработанных данных методом <code>TF-IDF</code></a></span></li><li><span><a href=\"#Обучение-модели-Логистической-регрессии-на-выборке-обработанной-с-помощью-предобученной-нейронной-сетки-BERT.\" data-toc-modified-id=\"Обучение-модели-Логистической-регрессии-на-выборке-обработанной-с-помощью-предобученной-нейронной-сетки-BERT.-2.2\"><span class=\"toc-item-num\">2.2&nbsp;&nbsp;</span>Обучение модели Логистической регрессии на выборке обработанной с помощью предобученной нейронной сетки <code>BERT</code>.</a></span></li></ul></li><li><span><a href=\"#Тестирование\" data-toc-modified-id=\"Тестирование-3\"><span class=\"toc-item-num\">3&nbsp;&nbsp;</span>Тестирование</a></span></li><li><span><a href=\"#Выводы\" data-toc-modified-id=\"Выводы-4\"><span class=\"toc-item-num\">4&nbsp;&nbsp;</span>Выводы</a></span></li><li><span><a href=\"#Чек-лист-проверки\" data-toc-modified-id=\"Чек-лист-проверки-5\"><span class=\"toc-item-num\">5&nbsp;&nbsp;</span>Чек-лист проверки</a></span></li></ul></div>"
   ]
  },
  {
   "cell_type": "markdown",
   "metadata": {
    "id": "fGs22pMIoz1J"
   },
   "source": [
    "# Проект для «Викишоп» с BERT"
   ]
  },
  {
   "cell_type": "markdown",
   "metadata": {
    "id": "6Z9e-RJkoz1K"
   },
   "source": [
    "Интернет-магазин «Викишоп» запускает новый сервис. Теперь пользователи могут редактировать и дополнять описания товаров, как в вики-сообществах. То есть клиенты предлагают свои правки и комментируют изменения других. Магазину нужен инструмент, который будет искать токсичные комментарии и отправлять их на модерацию. \n",
    "\n",
    "Обучите модель классифицировать комментарии на позитивные и негативные. В вашем распоряжении набор данных с разметкой о токсичности правок.\n",
    "\n",
    "Постройте модель со значением метрики качества *F1* не меньше 0.75. \n",
    "\n",
    "**Инструкция по выполнению проекта**\n",
    "\n",
    "1. Загрузите и подготовьте данные.\n",
    "2. Обучите разные модели. \n",
    "3. Сделайте выводы.\n",
    "\n",
    "Для выполнения проекта применять *BERT* необязательно, но вы можете попробовать.\n",
    "\n",
    "**Описание данных**\n",
    "\n",
    "Данные находятся в файле `toxic_comments.csv`. Столбец *text* в нём содержит текст комментария, а *toxic* — целевой признак."
   ]
  },
  {
   "cell_type": "markdown",
   "metadata": {
    "id": "eNzIdTuWoz1K"
   },
   "source": [
    "**Цель проекта:**  \n",
    "\n",
    "Выбрать и обучить модель, которая будет выявлять токсичные комментарии, с лучшей метрикой `f1`.\n",
    "\n",
    "От заказчика поступила выборка с размеченными на нормальный и токсичный комментарий отзывы.\n",
    "\n",
    "\n",
    "**Для выполнения проекта необходимо:**\n",
    "\n",
    "1. Изучить данные:\n",
    "     - общая информация о выборке.\n",
    "\n",
    "2. Провести анализ данных:\n",
    "    - Сбалансированнойсти целевого признака\n",
    "    - Анали содержания текста\n",
    "    - Анализ длины отзывов\n",
    "    \n",
    "3. Провести подготовку данных \n",
    "    - Подготовить данные для метода TF-IDF\n",
    "    - Подготовить данные для метода Bert\n",
    "     \n",
    "4. Построить и обучить модели.\n",
    "     - Подобрать гипперпараметры и настроить модели\n",
    "     - Обучить модели и оценить их качество c помощью оценки f1\n",
    "     \n",
    "5. Протестировать модель на тестовых данных.\n",
    "    - Метрика f1 модели не должна превышать 0.75."
   ]
  },
  {
   "cell_type": "markdown",
   "metadata": {
    "id": "b0-4VsMloz1K"
   },
   "source": [
    "## Подготовка"
   ]
  },
  {
   "cell_type": "markdown",
   "metadata": {
    "id": "2VsRuXDDoz1L"
   },
   "source": [
    "### Импорты, настройки, константы"
   ]
  },
  {
   "cell_type": "code",
   "execution_count": 1,
   "metadata": {
    "colab": {
     "base_uri": "https://localhost:8080/"
    },
    "id": "8K7Ms7R9oz1M",
    "outputId": "01037822-6fdf-422d-bc7a-3871faeaa553"
   },
   "outputs": [
    {
     "name": "stdout",
     "output_type": "stream",
     "text": [
      "Looking in indexes: https://pypi.org/simple, https://us-python.pkg.dev/colab-wheels/public/simple/\n",
      "Collecting transformers\n",
      "  Downloading transformers-4.25.1-py3-none-any.whl (5.8 MB)\n",
      "\u001b[K     |████████████████████████████████| 5.8 MB 29.3 MB/s \n",
      "\u001b[?25hRequirement already satisfied: requests in /usr/local/lib/python3.8/dist-packages (from transformers) (2.23.0)\n",
      "Requirement already satisfied: numpy>=1.17 in /usr/local/lib/python3.8/dist-packages (from transformers) (1.21.6)\n",
      "Requirement already satisfied: packaging>=20.0 in /usr/local/lib/python3.8/dist-packages (from transformers) (21.3)\n",
      "Requirement already satisfied: filelock in /usr/local/lib/python3.8/dist-packages (from transformers) (3.8.0)\n",
      "Requirement already satisfied: pyyaml>=5.1 in /usr/local/lib/python3.8/dist-packages (from transformers) (6.0)\n",
      "Collecting tokenizers!=0.11.3,<0.14,>=0.11.1\n",
      "  Downloading tokenizers-0.13.2-cp38-cp38-manylinux_2_17_x86_64.manylinux2014_x86_64.whl (7.6 MB)\n",
      "\u001b[K     |████████████████████████████████| 7.6 MB 63.1 MB/s \n",
      "\u001b[?25hRequirement already satisfied: regex!=2019.12.17 in /usr/local/lib/python3.8/dist-packages (from transformers) (2022.6.2)\n",
      "Collecting huggingface-hub<1.0,>=0.10.0\n",
      "  Downloading huggingface_hub-0.11.1-py3-none-any.whl (182 kB)\n",
      "\u001b[K     |████████████████████████████████| 182 kB 79.6 MB/s \n",
      "\u001b[?25hRequirement already satisfied: tqdm>=4.27 in /usr/local/lib/python3.8/dist-packages (from transformers) (4.64.1)\n",
      "Requirement already satisfied: typing-extensions>=3.7.4.3 in /usr/local/lib/python3.8/dist-packages (from huggingface-hub<1.0,>=0.10.0->transformers) (4.4.0)\n",
      "Requirement already satisfied: pyparsing!=3.0.5,>=2.0.2 in /usr/local/lib/python3.8/dist-packages (from packaging>=20.0->transformers) (3.0.9)\n",
      "Requirement already satisfied: chardet<4,>=3.0.2 in /usr/local/lib/python3.8/dist-packages (from requests->transformers) (3.0.4)\n",
      "Requirement already satisfied: certifi>=2017.4.17 in /usr/local/lib/python3.8/dist-packages (from requests->transformers) (2022.9.24)\n",
      "Requirement already satisfied: urllib3!=1.25.0,!=1.25.1,<1.26,>=1.21.1 in /usr/local/lib/python3.8/dist-packages (from requests->transformers) (1.24.3)\n",
      "Requirement already satisfied: idna<3,>=2.5 in /usr/local/lib/python3.8/dist-packages (from requests->transformers) (2.10)\n",
      "Installing collected packages: tokenizers, huggingface-hub, transformers\n",
      "Successfully installed huggingface-hub-0.11.1 tokenizers-0.13.2 transformers-4.25.1\n",
      "Looking in indexes: https://pypi.org/simple, https://us-python.pkg.dev/colab-wheels/public/simple/\n",
      "Collecting catboost\n",
      "  Downloading catboost-1.1.1-cp38-none-manylinux1_x86_64.whl (76.6 MB)\n",
      "\u001b[K     |████████████████████████████████| 76.6 MB 30 kB/s \n",
      "\u001b[?25hRequirement already satisfied: scipy in /usr/local/lib/python3.8/dist-packages (from catboost) (1.7.3)\n",
      "Requirement already satisfied: matplotlib in /usr/local/lib/python3.8/dist-packages (from catboost) (3.2.2)\n",
      "Requirement already satisfied: pandas>=0.24.0 in /usr/local/lib/python3.8/dist-packages (from catboost) (1.3.5)\n",
      "Requirement already satisfied: plotly in /usr/local/lib/python3.8/dist-packages (from catboost) (5.5.0)\n",
      "Requirement already satisfied: graphviz in /usr/local/lib/python3.8/dist-packages (from catboost) (0.10.1)\n",
      "Requirement already satisfied: numpy>=1.16.0 in /usr/local/lib/python3.8/dist-packages (from catboost) (1.21.6)\n",
      "Requirement already satisfied: six in /usr/local/lib/python3.8/dist-packages (from catboost) (1.15.0)\n",
      "Requirement already satisfied: pytz>=2017.3 in /usr/local/lib/python3.8/dist-packages (from pandas>=0.24.0->catboost) (2022.6)\n",
      "Requirement already satisfied: python-dateutil>=2.7.3 in /usr/local/lib/python3.8/dist-packages (from pandas>=0.24.0->catboost) (2.8.2)\n",
      "Requirement already satisfied: cycler>=0.10 in /usr/local/lib/python3.8/dist-packages (from matplotlib->catboost) (0.11.0)\n",
      "Requirement already satisfied: pyparsing!=2.0.4,!=2.1.2,!=2.1.6,>=2.0.1 in /usr/local/lib/python3.8/dist-packages (from matplotlib->catboost) (3.0.9)\n",
      "Requirement already satisfied: kiwisolver>=1.0.1 in /usr/local/lib/python3.8/dist-packages (from matplotlib->catboost) (1.4.4)\n",
      "Requirement already satisfied: tenacity>=6.2.0 in /usr/local/lib/python3.8/dist-packages (from plotly->catboost) (8.1.0)\n",
      "Installing collected packages: catboost\n",
      "Successfully installed catboost-1.1.1\n"
     ]
    }
   ],
   "source": [
    "#!pip install transformers\n",
    "#!pip install catboost"
   ]
  },
  {
   "cell_type": "code",
   "execution_count": 1,
   "metadata": {
    "id": "GBMVaQFEoz1N"
   },
   "outputs": [],
   "source": [
    "import pandas as pd\n",
    "import numpy as np\n",
    "import nltk\n",
    "import re\n",
    "import os\n",
    "import torch\n",
    "import transformers\n",
    "import seaborn as sns\n",
    "import matplotlib.pyplot as plt\n",
    "\n",
    "from tqdm.notebook import tqdm\n",
    "from nltk.corpus import stopwords, wordnet\n",
    "from nltk.tokenize import word_tokenize\n",
    "from nltk.stem import WordNetLemmatizer \n",
    "from sklearn.model_selection import train_test_split\n",
    "from sklearn.metrics import f1_score\n",
    "from sklearn.model_selection import GridSearchCV\n",
    "from sklearn.utils import shuffle\n",
    "from sklearn.feature_extraction.text import TfidfVectorizer\n",
    "\n",
    "from sklearn.tree import DecisionTreeClassifier\n",
    "from sklearn.linear_model import LogisticRegression\n",
    "from catboost import CatBoostClassifier\n",
    "from sklearn.dummy import DummyClassifier\n",
    "\n",
    "\n",
    "#import warnings\n",
    "#warnings.simplefilter(\"ignore\", FutureWarning)"
   ]
  },
  {
   "cell_type": "code",
   "execution_count": 2,
   "metadata": {
    "colab": {
     "base_uri": "https://localhost:8080/"
    },
    "id": "Oy1TAoRloz1O",
    "outputId": "58124acf-1c60-40b7-f5d0-d788716d3f3c",
    "scrolled": true
   },
   "outputs": [
    {
     "name": "stderr",
     "output_type": "stream",
     "text": [
      "[nltk_data] Downloading package stopwords to /home/jovyan/nltk_data...\n",
      "[nltk_data]   Package stopwords is already up-to-date!\n",
      "[nltk_data] Downloading package wordnet to /home/jovyan/nltk_data...\n",
      "[nltk_data]   Package wordnet is already up-to-date!\n",
      "[nltk_data] Downloading package punkt to /home/jovyan/nltk_data...\n",
      "[nltk_data]   Package punkt is already up-to-date!\n",
      "[nltk_data] Downloading package omw-1.4 to /home/jovyan/nltk_data...\n",
      "[nltk_data] Downloading package averaged_perceptron_tagger to\n",
      "[nltk_data]     /home/jovyan/nltk_data...\n",
      "[nltk_data]   Unzipping taggers/averaged_perceptron_tagger.zip.\n"
     ]
    },
    {
     "data": {
      "text/plain": [
       "True"
      ]
     },
     "execution_count": 2,
     "metadata": {},
     "output_type": "execute_result"
    }
   ],
   "source": [
    "#настройка отображения\n",
    "pd.set_option('display.max_rows', 30)\n",
    "pd.set_option('display.max_columns', 50)\n",
    "pd.set_option('display.max_colwidth', 1000)\n",
    "pd.set_option('display.precision', 3)\n",
    "np.set_printoptions(precision=3, suppress=True)\n",
    "\n",
    "#загрузка словарей\n",
    "nltk.download('stopwords')\n",
    "nltk.download('wordnet')\n",
    "nltk.download('punkt')\n",
    "nltk.download('omw-1.4')\n",
    "nltk.download('averaged_perceptron_tagger')\n"
   ]
  },
  {
   "cell_type": "code",
   "execution_count": 3,
   "metadata": {
    "colab": {
     "base_uri": "https://localhost:8080/"
    },
    "id": "s741aIXwoz1O",
    "outputId": "6efded69-a543-4a18-ab4c-69f12e3072a1"
   },
   "outputs": [
    {
     "name": "stdout",
     "output_type": "stream",
     "text": [
      "0\n"
     ]
    }
   ],
   "source": [
    "print(torch.cuda.device_count())"
   ]
  },
  {
   "cell_type": "code",
   "execution_count": 4,
   "metadata": {
    "id": "ekNfr-ewoz1P"
   },
   "outputs": [],
   "source": [
    "RANDOM_STATE = 13\n",
    "STOP_WORDS = stopwords.words('english')"
   ]
  },
  {
   "cell_type": "markdown",
   "metadata": {
    "id": "jJZt7MwCoz1P"
   },
   "source": [
    "### Загрузка данных"
   ]
  },
  {
   "cell_type": "code",
   "execution_count": 5,
   "metadata": {
    "id": "ytuaI2_toz1P"
   },
   "outputs": [],
   "source": [
    "#делит на клоссы целевой признак ресует круговую диаграмму\n",
    "def unique_class(*df_unique, name_1='', name_2=''):\n",
    "    #курговая диаграмма\n",
    "    def pie_helper(df_unique, title):\n",
    "        df_unique.plot(\n",
    "            kind='pie', \n",
    "            wedgeprops={'linewidth': 3.0, 'edgecolor': 'white'},\n",
    "            autopct=\"%1.0f%%\",\n",
    "            labels = ['normal', 'toxic'],\n",
    "            textprops={'size': 'large'},\n",
    "        ).set(ylabel='')\n",
    "        \n",
    "        plt.title(f'{title} share toxic comments', y=1, fontsize=12, fontweight='bold')  \n",
    "    \n",
    "    if len(df_unique) > 1:\n",
    "        fig, ax = plt.subplots(figsize=(13,13))\n",
    "        plt.subplot(1, 2, 1)\n",
    "        pie_helper(df_unique[0], name_1)\n",
    "        plt.subplot(1, 2, 2)\n",
    "        pie_helper(df_unique[1], name_2)\n",
    "        plt.show()\n",
    "        display(pd.DataFrame({f'{name_1} comments' : [df_unique[0][0], df_unique[0][1]]}, \n",
    "                             index=['normal', 'toxic']).T)\n",
    "        display(pd.DataFrame({f'{name_2} comments' : [df_unique[1][0], df_unique[1][1]]}, \n",
    "                             index=['normal', 'toxic']).T)\n",
    "    else:\n",
    "        plt.subplots(figsize=(6,6))\n",
    "        pie_helper(*df_unique, name_1)\n",
    "        plt.show()\n",
    "        display(pd.DataFrame({f'{name_1} comments': [df_unique[0][0], df_unique[0][1]]}, \n",
    "                             index=['normal', 'toxic']).T)"
   ]
  },
  {
   "cell_type": "code",
   "execution_count": 7,
   "metadata": {
    "colab": {
     "base_uri": "https://localhost:8080/",
     "height": 366
    },
    "id": "Bq2taNAJoz1Q",
    "outputId": "291b22b6-989f-414e-bf13-2c6d50fd6e45",
    "scrolled": true
   },
   "outputs": [
    {
     "data": {
      "text/html": [
       "<div>\n",
       "<style scoped>\n",
       "    .dataframe tbody tr th:only-of-type {\n",
       "        vertical-align: middle;\n",
       "    }\n",
       "\n",
       "    .dataframe tbody tr th {\n",
       "        vertical-align: top;\n",
       "    }\n",
       "\n",
       "    .dataframe thead th {\n",
       "        text-align: right;\n",
       "    }\n",
       "</style>\n",
       "<table border=\"1\" class=\"dataframe\">\n",
       "  <thead>\n",
       "    <tr style=\"text-align: right;\">\n",
       "      <th></th>\n",
       "      <th>text</th>\n",
       "      <th>toxic</th>\n",
       "    </tr>\n",
       "  </thead>\n",
       "  <tbody>\n",
       "    <tr>\n",
       "      <th>0</th>\n",
       "      <td>Explanation\\nWhy the edits made under my username Hardcore Metallica Fan were reverted? They weren't vandalisms, just closure on some GAs after I voted at New York Dolls FAC. And please don't remove the template from the talk page since I'm retired now.89.205.38.27</td>\n",
       "      <td>0</td>\n",
       "    </tr>\n",
       "    <tr>\n",
       "      <th>1</th>\n",
       "      <td>D'aww! He matches this background colour I'm seemingly stuck with. Thanks.  (talk) 21:51, January 11, 2016 (UTC)</td>\n",
       "      <td>0</td>\n",
       "    </tr>\n",
       "    <tr>\n",
       "      <th>2</th>\n",
       "      <td>Hey man, I'm really not trying to edit war. It's just that this guy is constantly removing relevant information and talking to me through edits instead of my talk page. He seems to care more about the formatting than the actual info.</td>\n",
       "      <td>0</td>\n",
       "    </tr>\n",
       "  </tbody>\n",
       "</table>\n",
       "</div>"
      ],
      "text/plain": [
       "                                                                                                                                                                                                                                                                        text  \\\n",
       "0  Explanation\\nWhy the edits made under my username Hardcore Metallica Fan were reverted? They weren't vandalisms, just closure on some GAs after I voted at New York Dolls FAC. And please don't remove the template from the talk page since I'm retired now.89.205.38.27   \n",
       "1                                                                                                                                                           D'aww! He matches this background colour I'm seemingly stuck with. Thanks.  (talk) 21:51, January 11, 2016 (UTC)   \n",
       "2                                  Hey man, I'm really not trying to edit war. It's just that this guy is constantly removing relevant information and talking to me through edits instead of my talk page. He seems to care more about the formatting than the actual info.   \n",
       "\n",
       "   toxic  \n",
       "0      0  \n",
       "1      0  \n",
       "2      0  "
      ]
     },
     "metadata": {},
     "output_type": "display_data"
    },
    {
     "data": {
      "text/html": [
       "<div>\n",
       "<style scoped>\n",
       "    .dataframe tbody tr th:only-of-type {\n",
       "        vertical-align: middle;\n",
       "    }\n",
       "\n",
       "    .dataframe tbody tr th {\n",
       "        vertical-align: top;\n",
       "    }\n",
       "\n",
       "    .dataframe thead th {\n",
       "        text-align: right;\n",
       "    }\n",
       "</style>\n",
       "<table border=\"1\" class=\"dataframe\">\n",
       "  <thead>\n",
       "    <tr style=\"text-align: right;\">\n",
       "      <th></th>\n",
       "      <th>text</th>\n",
       "      <th>toxic</th>\n",
       "    </tr>\n",
       "  </thead>\n",
       "  <tbody>\n",
       "    <tr>\n",
       "      <th>6</th>\n",
       "      <td>COCKSUCKER BEFORE YOU PISS AROUND ON MY WORK</td>\n",
       "      <td>1</td>\n",
       "    </tr>\n",
       "    <tr>\n",
       "      <th>12</th>\n",
       "      <td>Hey... what is it..\\n@ | talk .\\nWhat is it... an exclusive group of some WP TALIBANS...who are good at destroying, self-appointed purist who GANG UP any one who asks them questions abt their ANTI-SOCIAL and DESTRUCTIVE (non)-contribution at WP?\\n\\nAsk Sityush to clean up his behavior than issue me nonsensical warnings...</td>\n",
       "      <td>1</td>\n",
       "    </tr>\n",
       "    <tr>\n",
       "      <th>16</th>\n",
       "      <td>Bye! \\n\\nDon't look, come or think of comming back! Tosser.</td>\n",
       "      <td>1</td>\n",
       "    </tr>\n",
       "  </tbody>\n",
       "</table>\n",
       "</div>"
      ],
      "text/plain": [
       "                                                                                                                                                                                                                                                                                                                                   text  \\\n",
       "6                                                                                                                                                                                                                                                                                          COCKSUCKER BEFORE YOU PISS AROUND ON MY WORK   \n",
       "12  Hey... what is it..\\n@ | talk .\\nWhat is it... an exclusive group of some WP TALIBANS...who are good at destroying, self-appointed purist who GANG UP any one who asks them questions abt their ANTI-SOCIAL and DESTRUCTIVE (non)-contribution at WP?\\n\\nAsk Sityush to clean up his behavior than issue me nonsensical warnings...   \n",
       "16                                                                                                                                                                                                                                                                          Bye! \\n\\nDon't look, come or think of comming back! Tosser.   \n",
       "\n",
       "    toxic  \n",
       "6       1  \n",
       "12      1  \n",
       "16      1  "
      ]
     },
     "metadata": {},
     "output_type": "display_data"
    }
   ],
   "source": [
    "path_colab = '/content/sample_data/toxic_comments.csv'\n",
    "path_local = '/datasets/toxic_comments.csv'\n",
    "\n",
    "if os.path.exists(path_local):\n",
    "    data = pd.read_csv(path_local, index_col='Unnamed: 0')\n",
    "elif os.path.exists(path_colab):\n",
    "    data = pd.read_csv(path_colab, index_col='Unnamed: 0')\n",
    "else:\n",
    "    print('uncorrect path')\n",
    "\n",
    "for i in range(0, 2):\n",
    "    display(data.query('toxic==@i').head(3))"
   ]
  },
  {
   "cell_type": "code",
   "execution_count": 8,
   "metadata": {
    "colab": {
     "base_uri": "https://localhost:8080/"
    },
    "id": "k94YBd9Eoz1Q",
    "outputId": "51af8c49-e6f7-4ecf-83d8-656f1ab4cb68",
    "scrolled": false
   },
   "outputs": [
    {
     "name": "stdout",
     "output_type": "stream",
     "text": [
      "<class 'pandas.core.frame.DataFrame'>\n",
      "Int64Index: 159292 entries, 0 to 159450\n",
      "Data columns (total 2 columns):\n",
      " #   Column  Non-Null Count   Dtype \n",
      "---  ------  --------------   ----- \n",
      " 0   text    159292 non-null  object\n",
      " 1   toxic   159292 non-null  int64 \n",
      "dtypes: int64(1), object(1)\n",
      "memory usage: 3.6+ MB\n"
     ]
    }
   ],
   "source": [
    "data.info()"
   ]
  },
  {
   "cell_type": "markdown",
   "metadata": {
    "id": "y9uALwh6oz1Q"
   },
   "source": [
    "Выборка содержит 159292 объектов, 2 признаков\n",
    " - в `text` содержитя текст с комментария, \n",
    " - `toxic` — целевой бинарный признак"
   ]
  },
  {
   "cell_type": "markdown",
   "metadata": {
    "id": "MXohR3PQoz1Q"
   },
   "source": [
    "### Анализ данных"
   ]
  },
  {
   "cell_type": "code",
   "execution_count": 9,
   "metadata": {
    "colab": {
     "base_uri": "https://localhost:8080/",
     "height": 473
    },
    "id": "h17BXlV_oz1Q",
    "outputId": "15d92879-1dec-4e14-a2dd-ec04d6547a4c",
    "scrolled": false
   },
   "outputs": [
    {
     "data": {
      "image/png": "[encoded data removed]",
      "text/plain": [
       "<Figure size 432x432 with 1 Axes>"
      ]
     },
     "metadata": {},
     "output_type": "display_data"
    },
    {
     "data": {
      "text/html": [
       "<div>\n",
       "<style scoped>\n",
       "    .dataframe tbody tr th:only-of-type {\n",
       "        vertical-align: middle;\n",
       "    }\n",
       "\n",
       "    .dataframe tbody tr th {\n",
       "        vertical-align: top;\n",
       "    }\n",
       "\n",
       "    .dataframe thead th {\n",
       "        text-align: right;\n",
       "    }\n",
       "</style>\n",
       "<table border=\"1\" class=\"dataframe\">\n",
       "  <thead>\n",
       "    <tr style=\"text-align: right;\">\n",
       "      <th></th>\n",
       "      <th>normal</th>\n",
       "      <th>toxic</th>\n",
       "    </tr>\n",
       "  </thead>\n",
       "  <tbody>\n",
       "    <tr>\n",
       "      <th>original sample comments</th>\n",
       "      <td>143106</td>\n",
       "      <td>16186</td>\n",
       "    </tr>\n",
       "  </tbody>\n",
       "</table>\n",
       "</div>"
      ],
      "text/plain": [
       "                          normal  toxic\n",
       "original sample comments  143106  16186"
      ]
     },
     "metadata": {},
     "output_type": "display_data"
    },
    {
     "name": "stdout",
     "output_type": "stream",
     "text": [
      "Количество дубликатов - 0\n",
      "Пустых значений - 0\n"
     ]
    }
   ],
   "source": [
    "unique_class(data.toxic.value_counts(), name_1='original sample')\n",
    "print('Количество дубликатов -', data.duplicated().sum())\n",
    "print('Пустых значений -', sum(data.isna().sum()))"
   ]
  },
  {
   "cell_type": "markdown",
   "metadata": {
    "id": "1NyWK1mYoz1R"
   },
   "source": [
    "Дубликатов нет, пустыхзначений тоже нет.  \n",
    "Целевой признак разбалансированный"
   ]
  },
  {
   "cell_type": "code",
   "execution_count": 10,
   "metadata": {
    "colab": {
     "base_uri": "https://localhost:8080/",
     "height": 222
    },
    "id": "K5qpX8DFoz1R",
    "outputId": "9c54761e-221e-4721-f0f8-ead087d763fc",
    "scrolled": false
   },
   "outputs": [
    {
     "data": {
      "text/html": [
       "<div>\n",
       "<style scoped>\n",
       "    .dataframe tbody tr th:only-of-type {\n",
       "        vertical-align: middle;\n",
       "    }\n",
       "\n",
       "    .dataframe tbody tr th {\n",
       "        vertical-align: top;\n",
       "    }\n",
       "\n",
       "    .dataframe thead th {\n",
       "        text-align: right;\n",
       "    }\n",
       "</style>\n",
       "<table border=\"1\" class=\"dataframe\">\n",
       "  <thead>\n",
       "    <tr style=\"text-align: right;\">\n",
       "      <th></th>\n",
       "      <th>text</th>\n",
       "      <th>toxic</th>\n",
       "      <th>len_text</th>\n",
       "    </tr>\n",
       "  </thead>\n",
       "  <tbody>\n",
       "    <tr>\n",
       "      <th>0</th>\n",
       "      <td>Explanation\\nWhy the edits made under my username Hardcore Metallica Fan were reverted? They weren't vandalisms, just closure on some GAs after I voted at New York Dolls FAC. And please don't remove the template from the talk page since I'm retired now.89.205.38.27</td>\n",
       "      <td>0</td>\n",
       "      <td>264</td>\n",
       "    </tr>\n",
       "    <tr>\n",
       "      <th>1</th>\n",
       "      <td>D'aww! He matches this background colour I'm seemingly stuck with. Thanks.  (talk) 21:51, January 11, 2016 (UTC)</td>\n",
       "      <td>0</td>\n",
       "      <td>112</td>\n",
       "    </tr>\n",
       "    <tr>\n",
       "      <th>2</th>\n",
       "      <td>Hey man, I'm really not trying to edit war. It's just that this guy is constantly removing relevant information and talking to me through edits instead of my talk page. He seems to care more about the formatting than the actual info.</td>\n",
       "      <td>0</td>\n",
       "      <td>233</td>\n",
       "    </tr>\n",
       "  </tbody>\n",
       "</table>\n",
       "</div>"
      ],
      "text/plain": [
       "                                                                                                                                                                                                                                                                        text  \\\n",
       "0  Explanation\\nWhy the edits made under my username Hardcore Metallica Fan were reverted? They weren't vandalisms, just closure on some GAs after I voted at New York Dolls FAC. And please don't remove the template from the talk page since I'm retired now.89.205.38.27   \n",
       "1                                                                                                                                                           D'aww! He matches this background colour I'm seemingly stuck with. Thanks.  (talk) 21:51, January 11, 2016 (UTC)   \n",
       "2                                  Hey man, I'm really not trying to edit war. It's just that this guy is constantly removing relevant information and talking to me through edits instead of my talk page. He seems to care more about the formatting than the actual info.   \n",
       "\n",
       "   toxic  len_text  \n",
       "0      0       264  \n",
       "1      0       112  \n",
       "2      0       233  "
      ]
     },
     "metadata": {},
     "output_type": "display_data"
    }
   ],
   "source": [
    "data['len_text'] = data.text.apply(len)\n",
    "display(data.head(3))"
   ]
  },
  {
   "cell_type": "code",
   "execution_count": 11,
   "metadata": {
    "colab": {
     "base_uri": "https://localhost:8080/",
     "height": 415
    },
    "id": "-KwGDNhmoz1R",
    "outputId": "789ebb2d-c2ab-481c-e600-fa1a02b88c1e",
    "scrolled": false
   },
   "outputs": [
    {
     "data": {
      "image/png": "[encoded data removed]",
      "text/plain": [
       "<Figure size 576x360 with 1 Axes>"
      ]
     },
     "metadata": {
      "needs_background": "light"
     },
     "output_type": "display_data"
    },
    {
     "data": {
      "text/html": [
       "<div>\n",
       "<style scoped>\n",
       "    .dataframe tbody tr th:only-of-type {\n",
       "        vertical-align: middle;\n",
       "    }\n",
       "\n",
       "    .dataframe tbody tr th {\n",
       "        vertical-align: top;\n",
       "    }\n",
       "\n",
       "    .dataframe thead th {\n",
       "        text-align: right;\n",
       "    }\n",
       "</style>\n",
       "<table border=\"1\" class=\"dataframe\">\n",
       "  <thead>\n",
       "    <tr style=\"text-align: right;\">\n",
       "      <th></th>\n",
       "      <th>count</th>\n",
       "      <th>mean</th>\n",
       "      <th>std</th>\n",
       "      <th>min</th>\n",
       "      <th>25%</th>\n",
       "      <th>50%</th>\n",
       "      <th>75%</th>\n",
       "      <th>max</th>\n",
       "    </tr>\n",
       "  </thead>\n",
       "  <tbody>\n",
       "    <tr>\n",
       "      <th>len_text</th>\n",
       "      <td>159292.0</td>\n",
       "      <td>393.691</td>\n",
       "      <td>590.112</td>\n",
       "      <td>5.0</td>\n",
       "      <td>95.0</td>\n",
       "      <td>205.0</td>\n",
       "      <td>435.0</td>\n",
       "      <td>5000.0</td>\n",
       "    </tr>\n",
       "  </tbody>\n",
       "</table>\n",
       "</div>"
      ],
      "text/plain": [
       "             count     mean      std  min   25%    50%    75%     max\n",
       "len_text  159292.0  393.691  590.112  5.0  95.0  205.0  435.0  5000.0"
      ]
     },
     "metadata": {},
     "output_type": "display_data"
    }
   ],
   "source": [
    "plt.subplots(figsize=(8, 5))\n",
    "sns.kdeplot(data[data.toxic == 0].len_text, label='normal', legend=True)\n",
    "sns.kdeplot(data[data.toxic == 1].len_text, label='toxic')\n",
    "plt.title('Распределение данных по количеству слов', fontweight='bold')\n",
    "#plt.legend=(['normal', 'toxic'])\n",
    "plt.show()\n",
    "display(data.len_text.describe().to_frame().T)"
   ]
  },
  {
   "cell_type": "markdown",
   "metadata": {
    "id": "eFM9sXcOoz1R"
   },
   "source": [
    "Распределение количества слов примерно одинаковое, поэтому вряд ли от этого будет зависить токсичность отзывов. Так же отметим, что отзывы в основном в длину от 95 до 435 слов. Но встречаются и крайне длинные отзывы, проверим количество длинных отзывов проверим самые длинные по формуле `Q3 + 3*IQR`, где будут данные менее 3 квартиля + 3-х интерквартильных размахов."
   ]
  },
  {
   "cell_type": "code",
   "execution_count": 12,
   "metadata": {
    "colab": {
     "base_uri": "https://localhost:8080/"
    },
    "id": "KmMlFShUoz1R",
    "outputId": "426caa62-b554-42f0-fc25-e008b5fd57fe",
    "scrolled": true
   },
   "outputs": [
    {
     "name": "stdout",
     "output_type": "stream",
     "text": [
      "Доля отзывов более 1455 слов - 4.4%\n"
     ]
    }
   ],
   "source": [
    "q3_iqr = data.len_text.quantile(0.75) + 3 * (data.len_text.quantile(0.75) - data.len_text.quantile(0.25))\n",
    "print('Доля отзывов более {0} слов - {1:.1%}'.format(int(q3_iqr),\n",
    "    data.query('len_text > @q3_iqr').shape[0] / data.shape[0]))"
   ]
  },
  {
   "cell_type": "code",
   "execution_count": 13,
   "metadata": {
    "colab": {
     "base_uri": "https://localhost:8080/"
    },
    "id": "BS8I1Afuoz1R",
    "outputId": "6890d6c7-cc39-4232-f6f6-f34604d32ac3",
    "scrolled": true
   },
   "outputs": [
    {
     "name": "stdout",
     "output_type": "stream",
     "text": [
      "Негативных отзывов - 505\n"
     ]
    }
   ],
   "source": [
    "print('Негативных отзывов -', data.loc[(data.len_text > q3_iqr) & data.toxic==1].shape[0])"
   ]
  },
  {
   "cell_type": "code",
   "execution_count": 14,
   "metadata": {
    "colab": {
     "base_uri": "https://localhost:8080/",
     "height": 35
    },
    "id": "X948iaBcoz1S",
    "outputId": "8d116e40-ba33-430c-df97-59f27960a358"
   },
   "outputs": [
    {
     "data": {
      "text/plain": [
       "(159292, 2)"
      ]
     },
     "metadata": {},
     "output_type": "display_data"
    }
   ],
   "source": [
    "#df = data[['text', 'toxic']].loc[(data.len_text <= q3_iqr)]\n",
    "data = data.drop('len_text', axis=1)\n",
    "df = data.copy()\n",
    "display(df.shape)"
   ]
  },
  {
   "cell_type": "markdown",
   "metadata": {
    "id": "diOADDhIoz1S"
   },
   "source": [
    "Удалил длинные комментарии из нормальных, т.к. их доля не значительная, а это сократит нам время обработки. Ну и в реальности очень часто есть ограничения по количеству символов, и нам важно все таки оценить мнение большинства, а не выбросы ввиде длинных тескстов. Токсичные комментарии оставил, т.к. в выборке и так дисбаланс."
   ]
  },
  {
   "cell_type": "markdown",
   "metadata": {
    "id": "kIzml4Thoz1S"
   },
   "source": [
    "### Подготовка данных"
   ]
  },
  {
   "cell_type": "code",
   "execution_count": 15,
   "metadata": {
    "id": "zqeyPLzZoz1S"
   },
   "outputs": [],
   "source": [
    "#очищает и лематизирует текст с учетом словаря тегов\n",
    "def prepear_text(df):\n",
    "    #добавляет tag для индентификации слова\n",
    "    def get_tag(word): \n",
    "        tag = nltk.pos_tag([word])[0][1][0].upper() \n",
    "        tag_dict = {'J' : wordnet.ADJ, \n",
    "                    'N' : wordnet.NOUN, \n",
    "                    'V' : wordnet.VERB, \n",
    "                    'R' : wordnet.ADV} \n",
    "        return tag_dict.get(tag, wordnet.NOUN) \n",
    "    \n",
    "    #лематизируем текст и меняем слова состоящие из 1 буквы\n",
    "    def lemmatizer_text(text):\n",
    "        lemma_tag = lambda x: lemmatizer.lemmatize(x, get_tag(x)) if len(x) > 1 else ''\n",
    "        token_list =  nltk.word_tokenize(text)\n",
    "        text_out =  ' '.join(list(filter(None, [lemma_tag(w) for w in token_list])))\n",
    "        return text_out\n",
    "        \n",
    "    lemmatizer = WordNetLemmatizer() \n",
    "    text = df.text.apply(lambda x: ' '.join(re.sub(r'[^a-zA-Z ]', ' ', x.lower()).split()))   \n",
    "    lemm_text = text.apply(lemmatizer_text) \n",
    "    return lemm_text"
   ]
  },
  {
   "cell_type": "code",
   "execution_count": 16,
   "metadata": {
    "id": "kSA-RnuVoz1T"
   },
   "outputs": [],
   "source": [
    "#делит выборку и при необходимости баланисрует (downsampling)\n",
    "def df_split(features, target):\n",
    "    X_train_all, X_test, y_train_all, y_test = train_test_split(features, target,\n",
    "                                                                test_size=0.10, random_state=RANDOM_STATE)\n",
    "    X_train, X_valid, y_train, y_valid = train_test_split(X_train_all, y_train_all, \n",
    "                                                          test_size=0.111, random_state=RANDOM_STATE)\n",
    "    \n",
    "    df_train = pd.concat([X_train, y_train], axis=1)\n",
    "    df_train = shuffle(pd.concat([df_train[df_train.toxic ==1], \n",
    "                                  df_train[df_train.toxic == 0].sample(sum(df_train.toxic == 1), \n",
    "                                                                       random_state = RANDOM_STATE)]))\n",
    "        \n",
    "    X_train_balance = df_train.drop('toxic', axis=1).squeeze()\n",
    "    y_train_balance = df_train.toxic\n",
    "        \n",
    "    display(pd.DataFrame(\n",
    "    {'sample_type':['test_sample', 'train_sample', 'validation_sample'],\n",
    "     'target': [y_test.shape[0], \n",
    "                y_train.shape[0], \n",
    "                y_valid.shape[0]],\n",
    "     'features': [X_test.shape[0],\n",
    "                  X_train.shape[0],\n",
    "                  X_valid.shape[0]],\n",
    "     'share': [y_test.shape[0] / features.shape[0], \n",
    "               y_train.shape[0] / features.shape[0],\n",
    "               y_valid.shape[0] / features.shape[0]]\n",
    "    }))   \n",
    "    \n",
    "    return dict(X_train_all = X_train_all, X_train = X_train,\n",
    "                X_valid = X_valid, X_test = X_test,\n",
    "                y_train_all = y_train_all, y_train = y_train, \n",
    "                y_valid = y_valid, y_test = y_test, \n",
    "                X_train_balance = X_train_balance, y_train_balance = y_train_balance)"
   ]
  },
  {
   "cell_type": "code",
   "execution_count": 17,
   "metadata": {
    "id": "S0_nWunsoz1T"
   },
   "outputs": [],
   "source": [
    "# преобразуем тест методом TF-IDF\n",
    "def custom_fit_transform(transformator, sample_dict=dict()):\n",
    "    tf_idf = transformator.fit(sample_dict['X_train'])\n",
    "    train = tf_idf.transform(sample_dict['X_train'])\n",
    "    valid = tf_idf.transform(sample_dict['X_valid'])\n",
    "    test = tf_idf.transform(sample_dict['X_test'])\n",
    "    train_balance = tf_idf.transform(sample_dict['X_train_balance'])\n",
    "        \n",
    "    print('train -', train.shape, 'valid -', valid.shape, 'test -', \n",
    "          test.shape , 'train_balance -', train_balance.shape)\n",
    "    \n",
    "    return dict(X_train=train, X_valid=valid, X_test=test, \n",
    "                y_train=sample_dict['y_train'], y_valid=sample_dict['y_valid'], y_test=sample_dict['y_test'], \n",
    "                X_train_balance=train_balance, y_train_balance=sample_dict['y_train_balance'])"
   ]
  },
  {
   "cell_type": "code",
   "execution_count": 18,
   "metadata": {
    "id": "y-m_Y-9ooz1U"
   },
   "outputs": [],
   "source": [
    "#обучение и предсказие и получение время и оценки\n",
    "def get_result(model, sample_dict, fit=False, test = 'valid', bert_name='', balance=False):\n",
    "    \n",
    "    if fit:\n",
    "        if balance:\n",
    "            model.fit(sample_dict['X_train_balance'], sample_dict['y_train_balance'])\n",
    "        else:\n",
    "            model.fit(sample_dict['X_train'], sample_dict['y_train'])\n",
    "    \n",
    "    if test == 'valid':\n",
    "        predicts = model.predict(sample_dict['X_valid'])\n",
    "        f1 = round(f1_score(sample_dict['y_valid'], predicts), 2)\n",
    "    elif test == 'test':\n",
    "        predicts = model.predict(sample_dict['X_test'])\n",
    "        f1 = round(f1_score(sample_dict['y_test'], predicts), 2)\n",
    "        \n",
    "    return [f'{bert_name} {model.__class__.__name__}', f1]"
   ]
  },
  {
   "cell_type": "markdown",
   "metadata": {
    "id": "7fgiCUf4oz1V"
   },
   "source": [
    "Поделю выборку на 2 вида:\n",
    "- Сбалансированную путем уменьшения выборки (downsampling), где количество объектов с токсичными отзывами будет равна фактическому количеству, а количество объектов с нормальными отзывами будет случайно выбрана из отзывов дисбалансированной выборки (для того, чтоб в оценки результатов попадали более менее одинаковые отзывы) с помощью `sample()`.\n",
    "- Дисбалансированную выборку уменьшим до размера 50000 (в целях экономии времени на лемматизациюи обработку) с помощью случайного выборка из основной выборки с помощью `sample()`."
   ]
  },
  {
   "cell_type": "code",
   "execution_count": 19,
   "metadata": {
    "id": "WzidZhCioz1V"
   },
   "outputs": [],
   "source": [
    "#стаднарный дата сет df - если есть терпение, если нет уменьшаем до 50 000\n",
    "#Уменьшеный датасет до размера сдаланисированного для сравнения\n",
    "df = df.copy().sample(50_000, random_state = RANDOM_STATE)\n",
    "#df для BERT disbalance\n",
    "# можно уменьшать выборку для дебага\n",
    "df_bert = df.copy().sample(30000, random_state = RANDOM_STATE)"
   ]
  },
  {
   "cell_type": "markdown",
   "metadata": {
    "id": "UfkGCDxXoz1V"
   },
   "source": [
    "#### Подготовка даных для обработки с помощью **TF-IDF**"
   ]
  },
  {
   "cell_type": "code",
   "execution_count": 20,
   "metadata": {
    "colab": {
     "base_uri": "https://localhost:8080/",
     "height": 293
    },
    "id": "L2AZWskPoz1V",
    "outputId": "e3438ae6-c45e-4742-81c6-c5c56c7e9ac6"
   },
   "outputs": [
    {
     "data": {
      "text/html": [
       "\n",
       "  <div id=\"df-4a8b1118-ec69-467a-aad9-de018dc71188\">\n",
       "    <div class=\"colab-df-container\">\n",
       "      <div>\n",
       "<style scoped>\n",
       "    .dataframe tbody tr th:only-of-type {\n",
       "        vertical-align: middle;\n",
       "    }\n",
       "\n",
       "    .dataframe tbody tr th {\n",
       "        vertical-align: top;\n",
       "    }\n",
       "\n",
       "    .dataframe thead th {\n",
       "        text-align: right;\n",
       "    }\n",
       "</style>\n",
       "<table border=\"1\" class=\"dataframe\">\n",
       "  <thead>\n",
       "    <tr style=\"text-align: right;\">\n",
       "      <th></th>\n",
       "      <th>text</th>\n",
       "      <th>toxic</th>\n",
       "    </tr>\n",
       "  </thead>\n",
       "  <tbody>\n",
       "    <tr>\n",
       "      <th>19048</th>\n",
       "      <td>spent some time explore the constitution number at opalocka in the late the aircraft be to have be convert to fly restaurant or some such it be not torched by vandal but in an insurance scheme the damage be actually slight the aircraft be not scrap at opalocka but some mile away where it have be move also have chance to discus the airplane with tony levier at the ipms convention in miami during the aircraft be underpowered accord to him realize this personal knowledge be classify a original research and indeed do explore the airplane so have not bother to post this on the page this information be give for those who might wish to know</td>\n",
       "      <td>0</td>\n",
       "    </tr>\n",
       "    <tr>\n",
       "      <th>60239</th>\n",
       "      <td>samur gunj the wp blpprod procedure be for unreferenced article about living people this article have reference and by several century be not about living person please refrain from tag any more article for deletion until you have familiarise yourself with our policy and guideline</td>\n",
       "      <td>0</td>\n",
       "    </tr>\n",
       "    <tr>\n",
       "      <th>66569</th>\n",
       "      <td>rr be unfamiliar with wiki revert rule your blatant disregard for it be astonish and might warrant report</td>\n",
       "      <td>0</td>\n",
       "    </tr>\n",
       "  </tbody>\n",
       "</table>\n",
       "</div>\n",
       "      <button class=\"colab-df-convert\" onclick=\"convertToInteractive('df-4a8b1118-ec69-467a-aad9-de018dc71188')\"\n",
       "              title=\"Convert this dataframe to an interactive table.\"\n",
       "              style=\"display:none;\">\n",
       "        \n",
       "  <svg xmlns=\"http://www.w3.org/2000/svg\" height=\"24px\"viewBox=\"0 0 24 24\"\n",
       "       width=\"24px\">\n",
       "    <path d=\"M0 0h24v24H0V0z\" fill=\"none\"/>\n",
       "    <path d=\"M18.56 5.44l.94 2.06.94-2.06 2.06-.94-2.06-.94-.94-2.06-.94 2.06-2.06.94zm-11 1L8.5 8.5l.94-2.06 2.06-.94-2.06-.94L8.5 2.5l-.94 2.06-2.06.94zm10 10l.94 2.06.94-2.06 2.06-.94-2.06-.94-.94-2.06-.94 2.06-2.06.94z\"/><path d=\"M17.41 7.96l-1.37-1.37c-.4-.4-.92-.59-1.43-.59-.52 0-1.04.2-1.43.59L10.3 9.45l-7.72 7.72c-.78.78-.78 2.05 0 2.83L4 21.41c.39.39.9.59 1.41.59.51 0 1.02-.2 1.41-.59l7.78-7.78 2.81-2.81c.8-.78.8-2.07 0-2.86zM5.41 20L4 18.59l7.72-7.72 1.47 1.35L5.41 20z\"/>\n",
       "  </svg>\n",
       "      </button>\n",
       "      \n",
       "  <style>\n",
       "    .colab-df-container {\n",
       "      display:flex;\n",
       "      flex-wrap:wrap;\n",
       "      gap: 12px;\n",
       "    }\n",
       "\n",
       "    .colab-df-convert {\n",
       "      background-color: #E8F0FE;\n",
       "      border: none;\n",
       "      border-radius: 50%;\n",
       "      cursor: pointer;\n",
       "      display: none;\n",
       "      fill: #1967D2;\n",
       "      height: 32px;\n",
       "      padding: 0 0 0 0;\n",
       "      width: 32px;\n",
       "    }\n",
       "\n",
       "    .colab-df-convert:hover {\n",
       "      background-color: #E2EBFA;\n",
       "      box-shadow: 0px 1px 2px rgba(60, 64, 67, 0.3), 0px 1px 3px 1px rgba(60, 64, 67, 0.15);\n",
       "      fill: #174EA6;\n",
       "    }\n",
       "\n",
       "    [theme=dark] .colab-df-convert {\n",
       "      background-color: #3B4455;\n",
       "      fill: #D2E3FC;\n",
       "    }\n",
       "\n",
       "    [theme=dark] .colab-df-convert:hover {\n",
       "      background-color: #434B5C;\n",
       "      box-shadow: 0px 1px 3px 1px rgba(0, 0, 0, 0.15);\n",
       "      filter: drop-shadow(0px 1px 2px rgba(0, 0, 0, 0.3));\n",
       "      fill: #FFFFFF;\n",
       "    }\n",
       "  </style>\n",
       "\n",
       "      <script>\n",
       "        const buttonEl =\n",
       "          document.querySelector('#df-4a8b1118-ec69-467a-aad9-de018dc71188 button.colab-df-convert');\n",
       "        buttonEl.style.display =\n",
       "          google.colab.kernel.accessAllowed ? 'block' : 'none';\n",
       "\n",
       "        async function convertToInteractive(key) {\n",
       "          const element = document.querySelector('#df-4a8b1118-ec69-467a-aad9-de018dc71188');\n",
       "          const dataTable =\n",
       "            await google.colab.kernel.invokeFunction('convertToInteractive',\n",
       "                                                     [key], {});\n",
       "          if (!dataTable) return;\n",
       "\n",
       "          const docLinkHtml = 'Like what you see? Visit the ' +\n",
       "            '<a target=\"_blank\" href=https://colab.research.google.com/notebooks/data_table.ipynb>data table notebook</a>'\n",
       "            + ' to learn more about interactive tables.';\n",
       "          element.innerHTML = '';\n",
       "          dataTable['output_type'] = 'display_data';\n",
       "          await google.colab.output.renderOutput(dataTable, element);\n",
       "          const docLink = document.createElement('div');\n",
       "          docLink.innerHTML = docLinkHtml;\n",
       "          element.appendChild(docLink);\n",
       "        }\n",
       "      </script>\n",
       "    </div>\n",
       "  </div>\n",
       "  "
      ],
      "text/plain": [
       "                                                                                                                                                                                                                                                                                                                                                                                                                                                                                                                                                                                                                                                                    text  \\\n",
       "19048  spent some time explore the constitution number at opalocka in the late the aircraft be to have be convert to fly restaurant or some such it be not torched by vandal but in an insurance scheme the damage be actually slight the aircraft be not scrap at opalocka but some mile away where it have be move also have chance to discus the airplane with tony levier at the ipms convention in miami during the aircraft be underpowered accord to him realize this personal knowledge be classify a original research and indeed do explore the airplane so have not bother to post this on the page this information be give for those who might wish to know   \n",
       "60239                                                                                                                                                                                                                                                                                                                                                                          samur gunj the wp blpprod procedure be for unreferenced article about living people this article have reference and by several century be not about living person please refrain from tag any more article for deletion until you have familiarise yourself with our policy and guideline   \n",
       "66569                                                                                                                                                                                                                                                                                                                                                                                                                                                                                                                                                          rr be unfamiliar with wiki revert rule your blatant disregard for it be astonish and might warrant report   \n",
       "\n",
       "       toxic  \n",
       "19048      0  \n",
       "60239      0  \n",
       "66569      0  "
      ]
     },
     "metadata": {},
     "output_type": "display_data"
    },
    {
     "name": "stdout",
     "output_type": "stream",
     "text": [
      "CPU times: user 3min 46s, sys: 15 s, total: 4min 1s\n",
      "Wall time: 4min 1s\n"
     ]
    }
   ],
   "source": [
    "%%time \n",
    "# подготавливаем текст - долго\n",
    "df.text = prepear_text(df) \n",
    "\n",
    "#сохраняем обработанный df чтоб в след раз не деление выборки ждать, а просто загрузить\n",
    "#df.to_csv('prepare_df_tag.csv') \n",
    "\n",
    "#если не хочется ждать обработки загружаем файл\n",
    "#df = pd.read_csv('prepare_df_tag.csv', index_col='Unnamed: 0') \n",
    "\n",
    "display(df.head(3))\n"
   ]
  },
  {
   "cell_type": "markdown",
   "metadata": {
    "id": "OXN6llJVoz1V"
   },
   "source": [
    "Проверим предложения которые пустые или состоят из 1 слова."
   ]
  },
  {
   "cell_type": "code",
   "execution_count": 21,
   "metadata": {
    "colab": {
     "base_uri": "https://localhost:8080/",
     "height": 112
    },
    "id": "0RGJ3iPioz1V",
    "outputId": "1ba050da-a7a9-4e6e-d1e8-9b9db57158e1",
    "scrolled": false
   },
   "outputs": [
    {
     "data": {
      "text/html": [
       "\n",
       "  <div id=\"df-18cbd537-1a50-46a4-a0c4-10e525f50751\">\n",
       "    <div class=\"colab-df-container\">\n",
       "      <div>\n",
       "<style scoped>\n",
       "    .dataframe tbody tr th:only-of-type {\n",
       "        vertical-align: middle;\n",
       "    }\n",
       "\n",
       "    .dataframe tbody tr th {\n",
       "        vertical-align: top;\n",
       "    }\n",
       "\n",
       "    .dataframe thead th {\n",
       "        text-align: right;\n",
       "    }\n",
       "</style>\n",
       "<table border=\"1\" class=\"dataframe\">\n",
       "  <thead>\n",
       "    <tr style=\"text-align: right;\">\n",
       "      <th></th>\n",
       "      <th>text</th>\n",
       "      <th>toxic</th>\n",
       "      <th>words_cnt</th>\n",
       "    </tr>\n",
       "  </thead>\n",
       "  <tbody>\n",
       "    <tr>\n",
       "      <th>16106</th>\n",
       "      <td>suckkkkkkkkkkkkkkk</td>\n",
       "      <td>1</td>\n",
       "      <td>1</td>\n",
       "    </tr>\n",
       "    <tr>\n",
       "      <th>119123</th>\n",
       "      <td></td>\n",
       "      <td>1</td>\n",
       "      <td>1</td>\n",
       "    </tr>\n",
       "  </tbody>\n",
       "</table>\n",
       "</div>\n",
       "      <button class=\"colab-df-convert\" onclick=\"convertToInteractive('df-18cbd537-1a50-46a4-a0c4-10e525f50751')\"\n",
       "              title=\"Convert this dataframe to an interactive table.\"\n",
       "              style=\"display:none;\">\n",
       "        \n",
       "  <svg xmlns=\"http://www.w3.org/2000/svg\" height=\"24px\"viewBox=\"0 0 24 24\"\n",
       "       width=\"24px\">\n",
       "    <path d=\"M0 0h24v24H0V0z\" fill=\"none\"/>\n",
       "    <path d=\"M18.56 5.44l.94 2.06.94-2.06 2.06-.94-2.06-.94-.94-2.06-.94 2.06-2.06.94zm-11 1L8.5 8.5l.94-2.06 2.06-.94-2.06-.94L8.5 2.5l-.94 2.06-2.06.94zm10 10l.94 2.06.94-2.06 2.06-.94-2.06-.94-.94-2.06-.94 2.06-2.06.94z\"/><path d=\"M17.41 7.96l-1.37-1.37c-.4-.4-.92-.59-1.43-.59-.52 0-1.04.2-1.43.59L10.3 9.45l-7.72 7.72c-.78.78-.78 2.05 0 2.83L4 21.41c.39.39.9.59 1.41.59.51 0 1.02-.2 1.41-.59l7.78-7.78 2.81-2.81c.8-.78.8-2.07 0-2.86zM5.41 20L4 18.59l7.72-7.72 1.47 1.35L5.41 20z\"/>\n",
       "  </svg>\n",
       "      </button>\n",
       "      \n",
       "  <style>\n",
       "    .colab-df-container {\n",
       "      display:flex;\n",
       "      flex-wrap:wrap;\n",
       "      gap: 12px;\n",
       "    }\n",
       "\n",
       "    .colab-df-convert {\n",
       "      background-color: #E8F0FE;\n",
       "      border: none;\n",
       "      border-radius: 50%;\n",
       "      cursor: pointer;\n",
       "      display: none;\n",
       "      fill: #1967D2;\n",
       "      height: 32px;\n",
       "      padding: 0 0 0 0;\n",
       "      width: 32px;\n",
       "    }\n",
       "\n",
       "    .colab-df-convert:hover {\n",
       "      background-color: #E2EBFA;\n",
       "      box-shadow: 0px 1px 2px rgba(60, 64, 67, 0.3), 0px 1px 3px 1px rgba(60, 64, 67, 0.15);\n",
       "      fill: #174EA6;\n",
       "    }\n",
       "\n",
       "    [theme=dark] .colab-df-convert {\n",
       "      background-color: #3B4455;\n",
       "      fill: #D2E3FC;\n",
       "    }\n",
       "\n",
       "    [theme=dark] .colab-df-convert:hover {\n",
       "      background-color: #434B5C;\n",
       "      box-shadow: 0px 1px 3px 1px rgba(0, 0, 0, 0.15);\n",
       "      filter: drop-shadow(0px 1px 2px rgba(0, 0, 0, 0.3));\n",
       "      fill: #FFFFFF;\n",
       "    }\n",
       "  </style>\n",
       "\n",
       "      <script>\n",
       "        const buttonEl =\n",
       "          document.querySelector('#df-18cbd537-1a50-46a4-a0c4-10e525f50751 button.colab-df-convert');\n",
       "        buttonEl.style.display =\n",
       "          google.colab.kernel.accessAllowed ? 'block' : 'none';\n",
       "\n",
       "        async function convertToInteractive(key) {\n",
       "          const element = document.querySelector('#df-18cbd537-1a50-46a4-a0c4-10e525f50751');\n",
       "          const dataTable =\n",
       "            await google.colab.kernel.invokeFunction('convertToInteractive',\n",
       "                                                     [key], {});\n",
       "          if (!dataTable) return;\n",
       "\n",
       "          const docLinkHtml = 'Like what you see? Visit the ' +\n",
       "            '<a target=\"_blank\" href=https://colab.research.google.com/notebooks/data_table.ipynb>data table notebook</a>'\n",
       "            + ' to learn more about interactive tables.';\n",
       "          element.innerHTML = '';\n",
       "          dataTable['output_type'] = 'display_data';\n",
       "          await google.colab.output.renderOutput(dataTable, element);\n",
       "          const docLink = document.createElement('div');\n",
       "          docLink.innerHTML = docLinkHtml;\n",
       "          element.appendChild(docLink);\n",
       "        }\n",
       "      </script>\n",
       "    </div>\n",
       "  </div>\n",
       "  "
      ],
      "text/plain": [
       "                      text  toxic  words_cnt\n",
       "16106   suckkkkkkkkkkkkkkk      1          1\n",
       "119123                          1          1"
      ]
     },
     "metadata": {},
     "output_type": "display_data"
    }
   ],
   "source": [
    "df['words_cnt'] = df.text.str.count(r'[ ]') + 1\n",
    "display(df.loc[(df.words_cnt == 1) &(df.toxic == 1)].head(3))"
   ]
  },
  {
   "cell_type": "markdown",
   "metadata": {
    "id": "k3tIMavroz1V"
   },
   "source": [
    "Т.к. негативных откликов мало, удалим из негативных только пустые, а из нормальных удалим и пустые и состоящие из 1 слова"
   ]
  },
  {
   "cell_type": "code",
   "execution_count": 22,
   "metadata": {
    "colab": {
     "base_uri": "https://localhost:8080/",
     "height": 35
    },
    "id": "xIKn-aygoz1W",
    "outputId": "84e210a9-a974-4cd4-eb46-6187876dc9f9"
   },
   "outputs": [
    {
     "data": {
      "text/plain": [
       "(49952, 2)"
      ]
     },
     "metadata": {},
     "output_type": "display_data"
    }
   ],
   "source": [
    "df.loc[(df.words_cnt == 1) & (df.text != '') & (df.toxic == 1), 'words_cnt'] = df.words_cnt.max()\n",
    "df = df.query('words_cnt > 1').drop('words_cnt', axis=1)\n",
    "display(df.shape)"
   ]
  },
  {
   "cell_type": "markdown",
   "metadata": {
    "id": "lC91-wy1oz1W"
   },
   "source": [
    "Разделим выборку перед векторизациией данных для обработки `TF-IDF`"
   ]
  },
  {
   "cell_type": "code",
   "execution_count": 23,
   "metadata": {
    "colab": {
     "base_uri": "https://localhost:8080/",
     "height": 143
    },
    "id": "dcoqQXyzoz1W",
    "outputId": "3ce9c8c3-8203-497e-fa4e-f43fa8dd4dc5",
    "scrolled": true
   },
   "outputs": [
    {
     "data": {
      "text/html": [
       "\n",
       "  <div id=\"df-43e4375c-f55b-4878-a66f-3d1e3914d0ca\">\n",
       "    <div class=\"colab-df-container\">\n",
       "      <div>\n",
       "<style scoped>\n",
       "    .dataframe tbody tr th:only-of-type {\n",
       "        vertical-align: middle;\n",
       "    }\n",
       "\n",
       "    .dataframe tbody tr th {\n",
       "        vertical-align: top;\n",
       "    }\n",
       "\n",
       "    .dataframe thead th {\n",
       "        text-align: right;\n",
       "    }\n",
       "</style>\n",
       "<table border=\"1\" class=\"dataframe\">\n",
       "  <thead>\n",
       "    <tr style=\"text-align: right;\">\n",
       "      <th></th>\n",
       "      <th>sample_type</th>\n",
       "      <th>target</th>\n",
       "      <th>features</th>\n",
       "      <th>share</th>\n",
       "    </tr>\n",
       "  </thead>\n",
       "  <tbody>\n",
       "    <tr>\n",
       "      <th>0</th>\n",
       "      <td>test_sample</td>\n",
       "      <td>4996</td>\n",
       "      <td>4996</td>\n",
       "      <td>0.1</td>\n",
       "    </tr>\n",
       "    <tr>\n",
       "      <th>1</th>\n",
       "      <td>train_sample</td>\n",
       "      <td>39965</td>\n",
       "      <td>39965</td>\n",
       "      <td>0.8</td>\n",
       "    </tr>\n",
       "    <tr>\n",
       "      <th>2</th>\n",
       "      <td>validation_sample</td>\n",
       "      <td>4991</td>\n",
       "      <td>4991</td>\n",
       "      <td>0.1</td>\n",
       "    </tr>\n",
       "  </tbody>\n",
       "</table>\n",
       "</div>\n",
       "      <button class=\"colab-df-convert\" onclick=\"convertToInteractive('df-43e4375c-f55b-4878-a66f-3d1e3914d0ca')\"\n",
       "              title=\"Convert this dataframe to an interactive table.\"\n",
       "              style=\"display:none;\">\n",
       "        \n",
       "  <svg xmlns=\"http://www.w3.org/2000/svg\" height=\"24px\"viewBox=\"0 0 24 24\"\n",
       "       width=\"24px\">\n",
       "    <path d=\"M0 0h24v24H0V0z\" fill=\"none\"/>\n",
       "    <path d=\"M18.56 5.44l.94 2.06.94-2.06 2.06-.94-2.06-.94-.94-2.06-.94 2.06-2.06.94zm-11 1L8.5 8.5l.94-2.06 2.06-.94-2.06-.94L8.5 2.5l-.94 2.06-2.06.94zm10 10l.94 2.06.94-2.06 2.06-.94-2.06-.94-.94-2.06-.94 2.06-2.06.94z\"/><path d=\"M17.41 7.96l-1.37-1.37c-.4-.4-.92-.59-1.43-.59-.52 0-1.04.2-1.43.59L10.3 9.45l-7.72 7.72c-.78.78-.78 2.05 0 2.83L4 21.41c.39.39.9.59 1.41.59.51 0 1.02-.2 1.41-.59l7.78-7.78 2.81-2.81c.8-.78.8-2.07 0-2.86zM5.41 20L4 18.59l7.72-7.72 1.47 1.35L5.41 20z\"/>\n",
       "  </svg>\n",
       "      </button>\n",
       "      \n",
       "  <style>\n",
       "    .colab-df-container {\n",
       "      display:flex;\n",
       "      flex-wrap:wrap;\n",
       "      gap: 12px;\n",
       "    }\n",
       "\n",
       "    .colab-df-convert {\n",
       "      background-color: #E8F0FE;\n",
       "      border: none;\n",
       "      border-radius: 50%;\n",
       "      cursor: pointer;\n",
       "      display: none;\n",
       "      fill: #1967D2;\n",
       "      height: 32px;\n",
       "      padding: 0 0 0 0;\n",
       "      width: 32px;\n",
       "    }\n",
       "\n",
       "    .colab-df-convert:hover {\n",
       "      background-color: #E2EBFA;\n",
       "      box-shadow: 0px 1px 2px rgba(60, 64, 67, 0.3), 0px 1px 3px 1px rgba(60, 64, 67, 0.15);\n",
       "      fill: #174EA6;\n",
       "    }\n",
       "\n",
       "    [theme=dark] .colab-df-convert {\n",
       "      background-color: #3B4455;\n",
       "      fill: #D2E3FC;\n",
       "    }\n",
       "\n",
       "    [theme=dark] .colab-df-convert:hover {\n",
       "      background-color: #434B5C;\n",
       "      box-shadow: 0px 1px 3px 1px rgba(0, 0, 0, 0.15);\n",
       "      filter: drop-shadow(0px 1px 2px rgba(0, 0, 0, 0.3));\n",
       "      fill: #FFFFFF;\n",
       "    }\n",
       "  </style>\n",
       "\n",
       "      <script>\n",
       "        const buttonEl =\n",
       "          document.querySelector('#df-43e4375c-f55b-4878-a66f-3d1e3914d0ca button.colab-df-convert');\n",
       "        buttonEl.style.display =\n",
       "          google.colab.kernel.accessAllowed ? 'block' : 'none';\n",
       "\n",
       "        async function convertToInteractive(key) {\n",
       "          const element = document.querySelector('#df-43e4375c-f55b-4878-a66f-3d1e3914d0ca');\n",
       "          const dataTable =\n",
       "            await google.colab.kernel.invokeFunction('convertToInteractive',\n",
       "                                                     [key], {});\n",
       "          if (!dataTable) return;\n",
       "\n",
       "          const docLinkHtml = 'Like what you see? Visit the ' +\n",
       "            '<a target=\"_blank\" href=https://colab.research.google.com/notebooks/data_table.ipynb>data table notebook</a>'\n",
       "            + ' to learn more about interactive tables.';\n",
       "          element.innerHTML = '';\n",
       "          dataTable['output_type'] = 'display_data';\n",
       "          await google.colab.output.renderOutput(dataTable, element);\n",
       "          const docLink = document.createElement('div');\n",
       "          docLink.innerHTML = docLinkHtml;\n",
       "          element.appendChild(docLink);\n",
       "        }\n",
       "      </script>\n",
       "    </div>\n",
       "  </div>\n",
       "  "
      ],
      "text/plain": [
       "         sample_type  target  features  share\n",
       "0        test_sample    4996      4996    0.1\n",
       "1       train_sample   39965     39965    0.8\n",
       "2  validation_sample    4991      4991    0.1"
      ]
     },
     "metadata": {},
     "output_type": "display_data"
    }
   ],
   "source": [
    "#disbalance\n",
    "x_y_tf_idf = df_split(df.text, df.toxic)"
   ]
  },
  {
   "cell_type": "code",
   "execution_count": 24,
   "metadata": {
    "colab": {
     "base_uri": "https://localhost:8080/",
     "height": 504
    },
    "id": "NZZipDJkoz1W",
    "outputId": "3931f189-4986-408b-d496-8a99c18255ca"
   },
   "outputs": [
    {
     "data": {
      "image/png": "[encoded data removed]",
      "text/plain": [
       "<Figure size 936x936 with 2 Axes>"
      ]
     },
     "metadata": {},
     "output_type": "display_data"
    },
    {
     "data": {
      "text/html": [
       "\n",
       "  <div id=\"df-1a13925e-bcfd-465b-84e9-75459f253602\">\n",
       "    <div class=\"colab-df-container\">\n",
       "      <div>\n",
       "<style scoped>\n",
       "    .dataframe tbody tr th:only-of-type {\n",
       "        vertical-align: middle;\n",
       "    }\n",
       "\n",
       "    .dataframe tbody tr th {\n",
       "        vertical-align: top;\n",
       "    }\n",
       "\n",
       "    .dataframe thead th {\n",
       "        text-align: right;\n",
       "    }\n",
       "</style>\n",
       "<table border=\"1\" class=\"dataframe\">\n",
       "  <thead>\n",
       "    <tr style=\"text-align: right;\">\n",
       "      <th></th>\n",
       "      <th>normal</th>\n",
       "      <th>toxic</th>\n",
       "    </tr>\n",
       "  </thead>\n",
       "  <tbody>\n",
       "    <tr>\n",
       "      <th>disbalance train comments</th>\n",
       "      <td>35844</td>\n",
       "      <td>4121</td>\n",
       "    </tr>\n",
       "  </tbody>\n",
       "</table>\n",
       "</div>\n",
       "      <button class=\"colab-df-convert\" onclick=\"convertToInteractive('df-1a13925e-bcfd-465b-84e9-75459f253602')\"\n",
       "              title=\"Convert this dataframe to an interactive table.\"\n",
       "              style=\"display:none;\">\n",
       "        \n",
       "  <svg xmlns=\"http://www.w3.org/2000/svg\" height=\"24px\"viewBox=\"0 0 24 24\"\n",
       "       width=\"24px\">\n",
       "    <path d=\"M0 0h24v24H0V0z\" fill=\"none\"/>\n",
       "    <path d=\"M18.56 5.44l.94 2.06.94-2.06 2.06-.94-2.06-.94-.94-2.06-.94 2.06-2.06.94zm-11 1L8.5 8.5l.94-2.06 2.06-.94-2.06-.94L8.5 2.5l-.94 2.06-2.06.94zm10 10l.94 2.06.94-2.06 2.06-.94-2.06-.94-.94-2.06-.94 2.06-2.06.94z\"/><path d=\"M17.41 7.96l-1.37-1.37c-.4-.4-.92-.59-1.43-.59-.52 0-1.04.2-1.43.59L10.3 9.45l-7.72 7.72c-.78.78-.78 2.05 0 2.83L4 21.41c.39.39.9.59 1.41.59.51 0 1.02-.2 1.41-.59l7.78-7.78 2.81-2.81c.8-.78.8-2.07 0-2.86zM5.41 20L4 18.59l7.72-7.72 1.47 1.35L5.41 20z\"/>\n",
       "  </svg>\n",
       "      </button>\n",
       "      \n",
       "  <style>\n",
       "    .colab-df-container {\n",
       "      display:flex;\n",
       "      flex-wrap:wrap;\n",
       "      gap: 12px;\n",
       "    }\n",
       "\n",
       "    .colab-df-convert {\n",
       "      background-color: #E8F0FE;\n",
       "      border: none;\n",
       "      border-radius: 50%;\n",
       "      cursor: pointer;\n",
       "      display: none;\n",
       "      fill: #1967D2;\n",
       "      height: 32px;\n",
       "      padding: 0 0 0 0;\n",
       "      width: 32px;\n",
       "    }\n",
       "\n",
       "    .colab-df-convert:hover {\n",
       "      background-color: #E2EBFA;\n",
       "      box-shadow: 0px 1px 2px rgba(60, 64, 67, 0.3), 0px 1px 3px 1px rgba(60, 64, 67, 0.15);\n",
       "      fill: #174EA6;\n",
       "    }\n",
       "\n",
       "    [theme=dark] .colab-df-convert {\n",
       "      background-color: #3B4455;\n",
       "      fill: #D2E3FC;\n",
       "    }\n",
       "\n",
       "    [theme=dark] .colab-df-convert:hover {\n",
       "      background-color: #434B5C;\n",
       "      box-shadow: 0px 1px 3px 1px rgba(0, 0, 0, 0.15);\n",
       "      filter: drop-shadow(0px 1px 2px rgba(0, 0, 0, 0.3));\n",
       "      fill: #FFFFFF;\n",
       "    }\n",
       "  </style>\n",
       "\n",
       "      <script>\n",
       "        const buttonEl =\n",
       "          document.querySelector('#df-1a13925e-bcfd-465b-84e9-75459f253602 button.colab-df-convert');\n",
       "        buttonEl.style.display =\n",
       "          google.colab.kernel.accessAllowed ? 'block' : 'none';\n",
       "\n",
       "        async function convertToInteractive(key) {\n",
       "          const element = document.querySelector('#df-1a13925e-bcfd-465b-84e9-75459f253602');\n",
       "          const dataTable =\n",
       "            await google.colab.kernel.invokeFunction('convertToInteractive',\n",
       "                                                     [key], {});\n",
       "          if (!dataTable) return;\n",
       "\n",
       "          const docLinkHtml = 'Like what you see? Visit the ' +\n",
       "            '<a target=\"_blank\" href=https://colab.research.google.com/notebooks/data_table.ipynb>data table notebook</a>'\n",
       "            + ' to learn more about interactive tables.';\n",
       "          element.innerHTML = '';\n",
       "          dataTable['output_type'] = 'display_data';\n",
       "          await google.colab.output.renderOutput(dataTable, element);\n",
       "          const docLink = document.createElement('div');\n",
       "          docLink.innerHTML = docLinkHtml;\n",
       "          element.appendChild(docLink);\n",
       "        }\n",
       "      </script>\n",
       "    </div>\n",
       "  </div>\n",
       "  "
      ],
      "text/plain": [
       "                           normal  toxic\n",
       "disbalance train comments   35844   4121"
      ]
     },
     "metadata": {},
     "output_type": "display_data"
    },
    {
     "data": {
      "text/html": [
       "\n",
       "  <div id=\"df-47265267-bb73-429c-afcb-638f9325a732\">\n",
       "    <div class=\"colab-df-container\">\n",
       "      <div>\n",
       "<style scoped>\n",
       "    .dataframe tbody tr th:only-of-type {\n",
       "        vertical-align: middle;\n",
       "    }\n",
       "\n",
       "    .dataframe tbody tr th {\n",
       "        vertical-align: top;\n",
       "    }\n",
       "\n",
       "    .dataframe thead th {\n",
       "        text-align: right;\n",
       "    }\n",
       "</style>\n",
       "<table border=\"1\" class=\"dataframe\">\n",
       "  <thead>\n",
       "    <tr style=\"text-align: right;\">\n",
       "      <th></th>\n",
       "      <th>normal</th>\n",
       "      <th>toxic</th>\n",
       "    </tr>\n",
       "  </thead>\n",
       "  <tbody>\n",
       "    <tr>\n",
       "      <th>balance train comments</th>\n",
       "      <td>4121</td>\n",
       "      <td>4121</td>\n",
       "    </tr>\n",
       "  </tbody>\n",
       "</table>\n",
       "</div>\n",
       "      <button class=\"colab-df-convert\" onclick=\"convertToInteractive('df-47265267-bb73-429c-afcb-638f9325a732')\"\n",
       "              title=\"Convert this dataframe to an interactive table.\"\n",
       "              style=\"display:none;\">\n",
       "        \n",
       "  <svg xmlns=\"http://www.w3.org/2000/svg\" height=\"24px\"viewBox=\"0 0 24 24\"\n",
       "       width=\"24px\">\n",
       "    <path d=\"M0 0h24v24H0V0z\" fill=\"none\"/>\n",
       "    <path d=\"M18.56 5.44l.94 2.06.94-2.06 2.06-.94-2.06-.94-.94-2.06-.94 2.06-2.06.94zm-11 1L8.5 8.5l.94-2.06 2.06-.94-2.06-.94L8.5 2.5l-.94 2.06-2.06.94zm10 10l.94 2.06.94-2.06 2.06-.94-2.06-.94-.94-2.06-.94 2.06-2.06.94z\"/><path d=\"M17.41 7.96l-1.37-1.37c-.4-.4-.92-.59-1.43-.59-.52 0-1.04.2-1.43.59L10.3 9.45l-7.72 7.72c-.78.78-.78 2.05 0 2.83L4 21.41c.39.39.9.59 1.41.59.51 0 1.02-.2 1.41-.59l7.78-7.78 2.81-2.81c.8-.78.8-2.07 0-2.86zM5.41 20L4 18.59l7.72-7.72 1.47 1.35L5.41 20z\"/>\n",
       "  </svg>\n",
       "      </button>\n",
       "      \n",
       "  <style>\n",
       "    .colab-df-container {\n",
       "      display:flex;\n",
       "      flex-wrap:wrap;\n",
       "      gap: 12px;\n",
       "    }\n",
       "\n",
       "    .colab-df-convert {\n",
       "      background-color: #E8F0FE;\n",
       "      border: none;\n",
       "      border-radius: 50%;\n",
       "      cursor: pointer;\n",
       "      display: none;\n",
       "      fill: #1967D2;\n",
       "      height: 32px;\n",
       "      padding: 0 0 0 0;\n",
       "      width: 32px;\n",
       "    }\n",
       "\n",
       "    .colab-df-convert:hover {\n",
       "      background-color: #E2EBFA;\n",
       "      box-shadow: 0px 1px 2px rgba(60, 64, 67, 0.3), 0px 1px 3px 1px rgba(60, 64, 67, 0.15);\n",
       "      fill: #174EA6;\n",
       "    }\n",
       "\n",
       "    [theme=dark] .colab-df-convert {\n",
       "      background-color: #3B4455;\n",
       "      fill: #D2E3FC;\n",
       "    }\n",
       "\n",
       "    [theme=dark] .colab-df-convert:hover {\n",
       "      background-color: #434B5C;\n",
       "      box-shadow: 0px 1px 3px 1px rgba(0, 0, 0, 0.15);\n",
       "      filter: drop-shadow(0px 1px 2px rgba(0, 0, 0, 0.3));\n",
       "      fill: #FFFFFF;\n",
       "    }\n",
       "  </style>\n",
       "\n",
       "      <script>\n",
       "        const buttonEl =\n",
       "          document.querySelector('#df-47265267-bb73-429c-afcb-638f9325a732 button.colab-df-convert');\n",
       "        buttonEl.style.display =\n",
       "          google.colab.kernel.accessAllowed ? 'block' : 'none';\n",
       "\n",
       "        async function convertToInteractive(key) {\n",
       "          const element = document.querySelector('#df-47265267-bb73-429c-afcb-638f9325a732');\n",
       "          const dataTable =\n",
       "            await google.colab.kernel.invokeFunction('convertToInteractive',\n",
       "                                                     [key], {});\n",
       "          if (!dataTable) return;\n",
       "\n",
       "          const docLinkHtml = 'Like what you see? Visit the ' +\n",
       "            '<a target=\"_blank\" href=https://colab.research.google.com/notebooks/data_table.ipynb>data table notebook</a>'\n",
       "            + ' to learn more about interactive tables.';\n",
       "          element.innerHTML = '';\n",
       "          dataTable['output_type'] = 'display_data';\n",
       "          await google.colab.output.renderOutput(dataTable, element);\n",
       "          const docLink = document.createElement('div');\n",
       "          docLink.innerHTML = docLinkHtml;\n",
       "          element.appendChild(docLink);\n",
       "        }\n",
       "      </script>\n",
       "    </div>\n",
       "  </div>\n",
       "  "
      ],
      "text/plain": [
       "                        normal  toxic\n",
       "balance train comments    4121   4121"
      ]
     },
     "metadata": {},
     "output_type": "display_data"
    }
   ],
   "source": [
    "#проверим ка поделилась тренировочная выборка при балансировании\n",
    "unique_class(x_y_tf_idf['y_train'].value_counts(),\n",
    "            x_y_tf_idf['y_train_balance'].value_counts(),\n",
    "            name_1='disbalance train',\n",
    "            name_2='balance train')"
   ]
  },
  {
   "cell_type": "code",
   "execution_count": 25,
   "metadata": {
    "colab": {
     "base_uri": "https://localhost:8080/"
    },
    "id": "tia1VCJPoz1W",
    "outputId": "59d506a9-d031-45ce-badb-f049964f5c8f",
    "scrolled": false
   },
   "outputs": [
    {
     "name": "stdout",
     "output_type": "stream",
     "text": [
      "train - (39965, 55394) valid - (4991, 55394) test - (4996, 55394) train_balance - (8242, 55394)\n"
     ]
    }
   ],
   "source": [
    "#проведем векторизацию с помощью tf-idf\n",
    "tf_idf_dict = custom_fit_transform(TfidfVectorizer(stop_words=STOP_WORDS), x_y_tf_idf)"
   ]
  },
  {
   "cell_type": "markdown",
   "metadata": {
    "id": "wkuoDp8_oz1W"
   },
   "source": [
    "Проверим результаты f1 на линейной модели, на сбаланированной и дисбалансированной выборках."
   ]
  },
  {
   "cell_type": "code",
   "execution_count": 26,
   "metadata": {
    "colab": {
     "base_uri": "https://localhost:8080/"
    },
    "id": "5QGd_8hcoz1W",
    "outputId": "0ea02d8e-c68e-4e62-c966-5e54ab6cc070"
   },
   "outputs": [
    {
     "name": "stdout",
     "output_type": "stream",
     "text": [
      "Не сбалансированная -  LogisticRegression 0.64\n",
      "Сбалансированная -  LogisticRegression 0.66\n"
     ]
    }
   ],
   "source": [
    "print('Не сбалансированная -', *get_result(LogisticRegression(), tf_idf_dict, fit=True))\n",
    "print('Сбалансированная -', *get_result(LogisticRegression(), tf_idf_dict, fit=True, balance=True))"
   ]
  },
  {
   "cell_type": "markdown",
   "metadata": {
    "id": "ji5ZwG5toz1W"
   },
   "source": [
    "Сбалансированная выборка показала лучший результат на ненастроенной модели Логистической регресии. в обучении будем использовать сбаланированную и дисбаланисрованные выборки для всех моделей с использованием `TF-IDF`, и определим лучшую"
   ]
  },
  {
   "cell_type": "markdown",
   "metadata": {
    "id": "C_mv298goz1X"
   },
   "source": [
    "#### Подготовка данных для BERT"
   ]
  },
  {
   "cell_type": "markdown",
   "metadata": {
    "id": "638SQAX4oz1X"
   },
   "source": [
    "Для `BERT` оставим данные которые состоят из только из англисйикх букв и символа - `'`. Удалим остальные цифры и символы"
   ]
  },
  {
   "cell_type": "code",
   "execution_count": 27,
   "metadata": {
    "colab": {
     "base_uri": "https://localhost:8080/",
     "height": 49
    },
    "id": "IeYDq-yXoz1X",
    "outputId": "f5c56d9b-48f3-4317-9b81-f1199c2c4f28",
    "scrolled": false
   },
   "outputs": [
    {
     "data": {
      "text/html": [
       "\n",
       "  <div id=\"df-26ff0631-c501-4812-8ee5-85d7ecbbf81b\">\n",
       "    <div class=\"colab-df-container\">\n",
       "      <div>\n",
       "<style scoped>\n",
       "    .dataframe tbody tr th:only-of-type {\n",
       "        vertical-align: middle;\n",
       "    }\n",
       "\n",
       "    .dataframe tbody tr th {\n",
       "        vertical-align: top;\n",
       "    }\n",
       "\n",
       "    .dataframe thead th {\n",
       "        text-align: right;\n",
       "    }\n",
       "</style>\n",
       "<table border=\"1\" class=\"dataframe\">\n",
       "  <thead>\n",
       "    <tr style=\"text-align: right;\">\n",
       "      <th></th>\n",
       "      <th>text</th>\n",
       "      <th>toxic</th>\n",
       "    </tr>\n",
       "  </thead>\n",
       "  <tbody>\n",
       "  </tbody>\n",
       "</table>\n",
       "</div>\n",
       "      <button class=\"colab-df-convert\" onclick=\"convertToInteractive('df-26ff0631-c501-4812-8ee5-85d7ecbbf81b')\"\n",
       "              title=\"Convert this dataframe to an interactive table.\"\n",
       "              style=\"display:none;\">\n",
       "        \n",
       "  <svg xmlns=\"http://www.w3.org/2000/svg\" height=\"24px\"viewBox=\"0 0 24 24\"\n",
       "       width=\"24px\">\n",
       "    <path d=\"M0 0h24v24H0V0z\" fill=\"none\"/>\n",
       "    <path d=\"M18.56 5.44l.94 2.06.94-2.06 2.06-.94-2.06-.94-.94-2.06-.94 2.06-2.06.94zm-11 1L8.5 8.5l.94-2.06 2.06-.94-2.06-.94L8.5 2.5l-.94 2.06-2.06.94zm10 10l.94 2.06.94-2.06 2.06-.94-2.06-.94-.94-2.06-.94 2.06-2.06.94z\"/><path d=\"M17.41 7.96l-1.37-1.37c-.4-.4-.92-.59-1.43-.59-.52 0-1.04.2-1.43.59L10.3 9.45l-7.72 7.72c-.78.78-.78 2.05 0 2.83L4 21.41c.39.39.9.59 1.41.59.51 0 1.02-.2 1.41-.59l7.78-7.78 2.81-2.81c.8-.78.8-2.07 0-2.86zM5.41 20L4 18.59l7.72-7.72 1.47 1.35L5.41 20z\"/>\n",
       "  </svg>\n",
       "      </button>\n",
       "      \n",
       "  <style>\n",
       "    .colab-df-container {\n",
       "      display:flex;\n",
       "      flex-wrap:wrap;\n",
       "      gap: 12px;\n",
       "    }\n",
       "\n",
       "    .colab-df-convert {\n",
       "      background-color: #E8F0FE;\n",
       "      border: none;\n",
       "      border-radius: 50%;\n",
       "      cursor: pointer;\n",
       "      display: none;\n",
       "      fill: #1967D2;\n",
       "      height: 32px;\n",
       "      padding: 0 0 0 0;\n",
       "      width: 32px;\n",
       "    }\n",
       "\n",
       "    .colab-df-convert:hover {\n",
       "      background-color: #E2EBFA;\n",
       "      box-shadow: 0px 1px 2px rgba(60, 64, 67, 0.3), 0px 1px 3px 1px rgba(60, 64, 67, 0.15);\n",
       "      fill: #174EA6;\n",
       "    }\n",
       "\n",
       "    [theme=dark] .colab-df-convert {\n",
       "      background-color: #3B4455;\n",
       "      fill: #D2E3FC;\n",
       "    }\n",
       "\n",
       "    [theme=dark] .colab-df-convert:hover {\n",
       "      background-color: #434B5C;\n",
       "      box-shadow: 0px 1px 3px 1px rgba(0, 0, 0, 0.15);\n",
       "      filter: drop-shadow(0px 1px 2px rgba(0, 0, 0, 0.3));\n",
       "      fill: #FFFFFF;\n",
       "    }\n",
       "  </style>\n",
       "\n",
       "      <script>\n",
       "        const buttonEl =\n",
       "          document.querySelector('#df-26ff0631-c501-4812-8ee5-85d7ecbbf81b button.colab-df-convert');\n",
       "        buttonEl.style.display =\n",
       "          google.colab.kernel.accessAllowed ? 'block' : 'none';\n",
       "\n",
       "        async function convertToInteractive(key) {\n",
       "          const element = document.querySelector('#df-26ff0631-c501-4812-8ee5-85d7ecbbf81b');\n",
       "          const dataTable =\n",
       "            await google.colab.kernel.invokeFunction('convertToInteractive',\n",
       "                                                     [key], {});\n",
       "          if (!dataTable) return;\n",
       "\n",
       "          const docLinkHtml = 'Like what you see? Visit the ' +\n",
       "            '<a target=\"_blank\" href=https://colab.research.google.com/notebooks/data_table.ipynb>data table notebook</a>'\n",
       "            + ' to learn more about interactive tables.';\n",
       "          element.innerHTML = '';\n",
       "          dataTable['output_type'] = 'display_data';\n",
       "          await google.colab.output.renderOutput(dataTable, element);\n",
       "          const docLink = document.createElement('div');\n",
       "          docLink.innerHTML = docLinkHtml;\n",
       "          element.appendChild(docLink);\n",
       "        }\n",
       "      </script>\n",
       "    </div>\n",
       "  </div>\n",
       "  "
      ],
      "text/plain": [
       "Empty DataFrame\n",
       "Columns: [text, toxic]\n",
       "Index: []"
      ]
     },
     "metadata": {},
     "output_type": "display_data"
    }
   ],
   "source": [
    "df_bert.text = df_bert.text.apply(lambda x: ' '.join(re.sub(r'[^a-zA-Z\\']', ' ', x).split()))\n",
    "#проверим наличие пустых строк\n",
    "display(df_bert.loc[df_bert.text == ''])"
   ]
  },
  {
   "cell_type": "code",
   "execution_count": 28,
   "metadata": {
    "colab": {
     "base_uri": "https://localhost:8080/",
     "height": 49
    },
    "id": "WFSK2ULKoz1X",
    "outputId": "2afda76e-5274-45f6-f4ad-872e64cc2ad3",
    "scrolled": true
   },
   "outputs": [
    {
     "data": {
      "text/html": [
       "\n",
       "  <div id=\"df-5f1c7cb4-c677-4393-b711-9c2239a9b2b4\">\n",
       "    <div class=\"colab-df-container\">\n",
       "      <div>\n",
       "<style scoped>\n",
       "    .dataframe tbody tr th:only-of-type {\n",
       "        vertical-align: middle;\n",
       "    }\n",
       "\n",
       "    .dataframe tbody tr th {\n",
       "        vertical-align: top;\n",
       "    }\n",
       "\n",
       "    .dataframe thead th {\n",
       "        text-align: right;\n",
       "    }\n",
       "</style>\n",
       "<table border=\"1\" class=\"dataframe\">\n",
       "  <thead>\n",
       "    <tr style=\"text-align: right;\">\n",
       "      <th></th>\n",
       "      <th>text</th>\n",
       "      <th>toxic</th>\n",
       "    </tr>\n",
       "  </thead>\n",
       "  <tbody>\n",
       "  </tbody>\n",
       "</table>\n",
       "</div>\n",
       "      <button class=\"colab-df-convert\" onclick=\"convertToInteractive('df-5f1c7cb4-c677-4393-b711-9c2239a9b2b4')\"\n",
       "              title=\"Convert this dataframe to an interactive table.\"\n",
       "              style=\"display:none;\">\n",
       "        \n",
       "  <svg xmlns=\"http://www.w3.org/2000/svg\" height=\"24px\"viewBox=\"0 0 24 24\"\n",
       "       width=\"24px\">\n",
       "    <path d=\"M0 0h24v24H0V0z\" fill=\"none\"/>\n",
       "    <path d=\"M18.56 5.44l.94 2.06.94-2.06 2.06-.94-2.06-.94-.94-2.06-.94 2.06-2.06.94zm-11 1L8.5 8.5l.94-2.06 2.06-.94-2.06-.94L8.5 2.5l-.94 2.06-2.06.94zm10 10l.94 2.06.94-2.06 2.06-.94-2.06-.94-.94-2.06-.94 2.06-2.06.94z\"/><path d=\"M17.41 7.96l-1.37-1.37c-.4-.4-.92-.59-1.43-.59-.52 0-1.04.2-1.43.59L10.3 9.45l-7.72 7.72c-.78.78-.78 2.05 0 2.83L4 21.41c.39.39.9.59 1.41.59.51 0 1.02-.2 1.41-.59l7.78-7.78 2.81-2.81c.8-.78.8-2.07 0-2.86zM5.41 20L4 18.59l7.72-7.72 1.47 1.35L5.41 20z\"/>\n",
       "  </svg>\n",
       "      </button>\n",
       "      \n",
       "  <style>\n",
       "    .colab-df-container {\n",
       "      display:flex;\n",
       "      flex-wrap:wrap;\n",
       "      gap: 12px;\n",
       "    }\n",
       "\n",
       "    .colab-df-convert {\n",
       "      background-color: #E8F0FE;\n",
       "      border: none;\n",
       "      border-radius: 50%;\n",
       "      cursor: pointer;\n",
       "      display: none;\n",
       "      fill: #1967D2;\n",
       "      height: 32px;\n",
       "      padding: 0 0 0 0;\n",
       "      width: 32px;\n",
       "    }\n",
       "\n",
       "    .colab-df-convert:hover {\n",
       "      background-color: #E2EBFA;\n",
       "      box-shadow: 0px 1px 2px rgba(60, 64, 67, 0.3), 0px 1px 3px 1px rgba(60, 64, 67, 0.15);\n",
       "      fill: #174EA6;\n",
       "    }\n",
       "\n",
       "    [theme=dark] .colab-df-convert {\n",
       "      background-color: #3B4455;\n",
       "      fill: #D2E3FC;\n",
       "    }\n",
       "\n",
       "    [theme=dark] .colab-df-convert:hover {\n",
       "      background-color: #434B5C;\n",
       "      box-shadow: 0px 1px 3px 1px rgba(0, 0, 0, 0.15);\n",
       "      filter: drop-shadow(0px 1px 2px rgba(0, 0, 0, 0.3));\n",
       "      fill: #FFFFFF;\n",
       "    }\n",
       "  </style>\n",
       "\n",
       "      <script>\n",
       "        const buttonEl =\n",
       "          document.querySelector('#df-5f1c7cb4-c677-4393-b711-9c2239a9b2b4 button.colab-df-convert');\n",
       "        buttonEl.style.display =\n",
       "          google.colab.kernel.accessAllowed ? 'block' : 'none';\n",
       "\n",
       "        async function convertToInteractive(key) {\n",
       "          const element = document.querySelector('#df-5f1c7cb4-c677-4393-b711-9c2239a9b2b4');\n",
       "          const dataTable =\n",
       "            await google.colab.kernel.invokeFunction('convertToInteractive',\n",
       "                                                     [key], {});\n",
       "          if (!dataTable) return;\n",
       "\n",
       "          const docLinkHtml = 'Like what you see? Visit the ' +\n",
       "            '<a target=\"_blank\" href=https://colab.research.google.com/notebooks/data_table.ipynb>data table notebook</a>'\n",
       "            + ' to learn more about interactive tables.';\n",
       "          element.innerHTML = '';\n",
       "          dataTable['output_type'] = 'display_data';\n",
       "          await google.colab.output.renderOutput(dataTable, element);\n",
       "          const docLink = document.createElement('div');\n",
       "          docLink.innerHTML = docLinkHtml;\n",
       "          element.appendChild(docLink);\n",
       "        }\n",
       "      </script>\n",
       "    </div>\n",
       "  </div>\n",
       "  "
      ],
      "text/plain": [
       "Empty DataFrame\n",
       "Columns: [text, toxic]\n",
       "Index: []"
      ]
     },
     "metadata": {},
     "output_type": "display_data"
    }
   ],
   "source": [
    "#удалим пустые строки\n",
    "df_bert = df_bert.loc[df_bert.text != '']\n",
    "display(df_bert.loc[df_bert.text == ''])"
   ]
  },
  {
   "cell_type": "markdown",
   "metadata": {
    "id": "-izMsMaFoz1X"
   },
   "source": [
    "Для подготовки данных загрузим предобученную модель `BertModel`, `BertTokenizer`, и весса `'unitary/toxic-bert'` для нашего `BERT`"
   ]
  },
  {
   "cell_type": "code",
   "execution_count": 29,
   "metadata": {
    "colab": {
     "base_uri": "https://localhost:8080/",
     "height": 252,
     "referenced_widgets": [
      "17918f381d984f71b7d0bd8f714ba263",
      "060e661212f74901b10b9ce9800c39b4",
      "9a41044b65d549f68fba439e29499848",
      "6eed3c9332e94ccab942849c33ea95be",
      "20875ac8d257432eb3998d8443b725f9",
      "491b91377e324d4b9793f41f95063b30",
      "c200ba35be3e489c8aab46e1c118d5e5",
      "6a273f1027a74d639f9ddaad449fcc63",
      "554e3d0b474846dd9bf4ba6c14d73d6b",
      "c73d0f633b2941fa92195205e088ff45",
      "425c4dfe06d04ba2adfaad35df6d96c3",
      "4848d16a64c14810a9caa060aee023bd",
      "4cbb365665ff41988c6d2105ae0b7853",
      "48f627b9b339496ea3f7fe3bc44e4673",
      "d7556a76e73b4cf9a0fc7b4d711c99f8",
      "73f4a7dbc1f646738917c7bda4f94116",
      "c1a948fff0854ce29b70a33d9ed41727",
      "0342fde45ae848449d57b22c197e6684",
      "4982da2013e441c79c2a0e6b0c44b959",
      "638f1c510595421bae8907a98a320568",
      "e7c6870461c448429bf0ff5664037aff",
      "e994944813ce4be7a695c78d474d1e8b",
      "5d950f8f71b74308bcf33e00f56e7387",
      "f8db03d5d3b14adf89d288e02457d2fc",
      "fc8e45a987c2460ba2b0379bae373fef",
      "6910cc2792f14f968921a19663866203",
      "4e57018c77fc4e60851b932ab567b68b",
      "9d40c62690f64938bca563639f4447f7",
      "9c62ca26b7b44b9796df630d7e33d9a9",
      "c1171d91c9434081aa5a2da23e2d79fd",
      "6e792fec58814b619c6a035b69e7588c",
      "c65125ff54ec496e8365fa6bbb18c73b",
      "934f2c52b26842d498ff06580e0ddab2",
      "1ffa3aed92fc486981be9935cba1febf",
      "287cd412b1dc45bba03e04f293273318",
      "0febab6da0864252b706471c55cbcfe8",
      "7118f95ffeaf4a0cb9433461e909548c",
      "9d72d51c8d3a4a18b1584980713a6e90",
      "b5b15b18fd0f489c8adf5f9e11887bec",
      "0dbbee01569d409aac42097f9caeb995",
      "7390ae3ab1094e0e8d6f08d2baae774d",
      "6d1309ca9d704c208040aa3daa6b5479",
      "afccd53c4f1f4d28ae01b286edbae053",
      "c470f02145e04633baf1c30a3ee2e522",
      "0438025ebdce4f4f987c88f1a90faa0b",
      "b84f2d50f8f74706928505737f0339b7",
      "1a18874de0514619ab2a05ac84adca01",
      "afd1ce6a1800488c96190269bec381fe",
      "b3a83a794191482982bb2316ee024c0d",
      "fe45f825413e4700ad1c7c18f5891352",
      "7ae497ba88f84326b0000562555e4ebb",
      "950a001c8ee342beb10fb2726af5a0f2",
      "7eb54566d9a241dca80d00289877c44e",
      "814649247fa2447fb1d74ecfbe43bd83",
      "644debb6a40141438c7867f94dabfbde"
     ]
    },
    "id": "sqog_CwToz1X",
    "outputId": "ff372136-3c05-46a5-f5d2-9ba4cf9f5d15",
    "scrolled": true
   },
   "outputs": [
    {
     "data": {
      "application/vnd.jupyter.widget-view+json": {
       "model_id": "17918f381d984f71b7d0bd8f714ba263",
       "version_major": 2,
       "version_minor": 0
      },
      "text/plain": [
       "Downloading:   0%|          | 0.00/232k [00:00<?, ?B/s]"
      ]
     },
     "metadata": {},
     "output_type": "display_data"
    },
    {
     "data": {
      "application/vnd.jupyter.widget-view+json": {
       "model_id": "4848d16a64c14810a9caa060aee023bd",
       "version_major": 2,
       "version_minor": 0
      },
      "text/plain": [
       "Downloading:   0%|          | 0.00/112 [00:00<?, ?B/s]"
      ]
     },
     "metadata": {},
     "output_type": "display_data"
    },
    {
     "data": {
      "application/vnd.jupyter.widget-view+json": {
       "model_id": "5d950f8f71b74308bcf33e00f56e7387",
       "version_major": 2,
       "version_minor": 0
      },
      "text/plain": [
       "Downloading:   0%|          | 0.00/174 [00:00<?, ?B/s]"
      ]
     },
     "metadata": {},
     "output_type": "display_data"
    },
    {
     "data": {
      "application/vnd.jupyter.widget-view+json": {
       "model_id": "1ffa3aed92fc486981be9935cba1febf",
       "version_major": 2,
       "version_minor": 0
      },
      "text/plain": [
       "Downloading:   0%|          | 0.00/811 [00:00<?, ?B/s]"
      ]
     },
     "metadata": {},
     "output_type": "display_data"
    },
    {
     "data": {
      "application/vnd.jupyter.widget-view+json": {
       "model_id": "0438025ebdce4f4f987c88f1a90faa0b",
       "version_major": 2,
       "version_minor": 0
      },
      "text/plain": [
       "Downloading:   0%|          | 0.00/438M [00:00<?, ?B/s]"
      ]
     },
     "metadata": {},
     "output_type": "display_data"
    },
    {
     "name": "stderr",
     "output_type": "stream",
     "text": [
      "Some weights of the model checkpoint at unitary/toxic-bert were not used when initializing BertModel: ['classifier.bias', 'classifier.weight']\n",
      "- This IS expected if you are initializing BertModel from the checkpoint of a model trained on another task or with another architecture (e.g. initializing a BertForSequenceClassification model from a BertForPreTraining model).\n",
      "- This IS NOT expected if you are initializing BertModel from the checkpoint of a model that you expect to be exactly identical (initializing a BertForSequenceClassification model from a BertForSequenceClassification model).\n"
     ]
    }
   ],
   "source": [
    "model_class, tokenizer_class, pretrained_weights = (transformers.BertModel, \n",
    "                                                    transformers.BertTokenizer, \n",
    "                                                    'unitary/toxic-bert')\n",
    "tokenizer = tokenizer_class.from_pretrained(pretrained_weights)\n",
    "model = model_class.from_pretrained(pretrained_weights)"
   ]
  },
  {
   "cell_type": "code",
   "execution_count": 30,
   "metadata": {
    "colab": {
     "base_uri": "https://localhost:8080/"
    },
    "id": "qLXgZ4QQoz1X",
    "outputId": "b707ce93-605b-477c-c090-a8b11de6716c",
    "scrolled": true
   },
   "outputs": [
    {
     "name": "stdout",
     "output_type": "stream",
     "text": [
      "CPU times: user 31.8 s, sys: 149 ms, total: 32 s\n",
      "Wall time: 32 s\n"
     ]
    }
   ],
   "source": [
    "%%time\n",
    "#токинизация предложений\n",
    "tokenized = df_bert.text.apply(\n",
    "    (lambda x: tokenizer.encode(x, add_special_tokens=True, max_length=512, truncation=True)))"
   ]
  },
  {
   "cell_type": "code",
   "execution_count": 31,
   "metadata": {
    "colab": {
     "base_uri": "https://localhost:8080/"
    },
    "id": "3Y5zeDxGoz1Y",
    "outputId": "9a611143-9ea7-4ffe-9b52-3c2fadc950a9"
   },
   "outputs": [
    {
     "name": "stdout",
     "output_type": "stream",
     "text": [
      "disbalance (30000, 437)\n"
     ]
    }
   ],
   "source": [
    "#выровняем длину строк до максимальной\n",
    "n = max(len(x) for x in tokenized)\n",
    "padded = np.array([i + [0]*(n-len(i)) for i in tokenized.values])\n",
    "print('disbalance', padded.shape) "
   ]
  },
  {
   "cell_type": "code",
   "execution_count": 32,
   "metadata": {
    "id": "AY4Q4N9moz1Y"
   },
   "outputs": [],
   "source": [
    "#округлим количество объектов, для обработки BERT\n",
    "padded = padded[:padded.shape[0] // 100 * 100]"
   ]
  },
  {
   "cell_type": "code",
   "execution_count": 33,
   "metadata": {
    "id": "N91rCgMroz1Y"
   },
   "outputs": [],
   "source": [
    "#создадим маску\n",
    "attention_mask = np.where(padded != 0, 1, 0)"
   ]
  },
  {
   "cell_type": "markdown",
   "metadata": {
    "id": "Xzs4mFVKoz1Y"
   },
   "source": [
    "Данные для обработки BERT подготовленны, обучим и проверим результаты на дисбалансированной и балансированный выборке и выберем лучший результат."
   ]
  },
  {
   "cell_type": "markdown",
   "metadata": {
    "id": "uP7TXoLloz1Y"
   },
   "source": [
    "## Обучение"
   ]
  },
  {
   "cell_type": "markdown",
   "metadata": {
    "id": "yxq2fa1Foz1Y"
   },
   "source": [
    "### Обучение моделей с помощью обработанных данных методом `TF-IDF`"
   ]
  },
  {
   "cell_type": "code",
   "execution_count": 34,
   "metadata": {
    "id": "iGy-7cMboz1Y"
   },
   "outputs": [],
   "source": [
    "#функция для получения модели\n",
    "def find_model(regressor, samples_list, param={}):\n",
    "    clf = GridSearchCV(\n",
    "        estimator= regressor, \n",
    "        param_grid = param, \n",
    "        cv = [(slice(None), slice(None))], \n",
    "        n_jobs=-1,\n",
    "        scoring= 'f1')    \n",
    "    \n",
    "    clf.fit(samples_list['X_train'], samples_list['y_train'])\n",
    "  \n",
    "    print(f'Test {regressor.__class__.__name__} best score f1 -', clf.best_score_)\n",
    "    print(f'{regressor.__class__.__name__} best param -', clf.best_params_)\n",
    "    print('-------------------------------------------------------------------------------------------------')\n",
    "    \n",
    "    return clf.best_params_"
   ]
  },
  {
   "cell_type": "code",
   "execution_count": 35,
   "metadata": {
    "colab": {
     "base_uri": "https://localhost:8080/",
     "height": 49
    },
    "id": "VJ_21IoFoz1Z",
    "outputId": "1b0c006a-8ac6-4d08-d272-f40178f63583"
   },
   "outputs": [
    {
     "data": {
      "text/html": [
       "\n",
       "  <div id=\"df-ccac5583-390c-4a84-849a-cb23a430880b\">\n",
       "    <div class=\"colab-df-container\">\n",
       "      <div>\n",
       "<style scoped>\n",
       "    .dataframe tbody tr th:only-of-type {\n",
       "        vertical-align: middle;\n",
       "    }\n",
       "\n",
       "    .dataframe tbody tr th {\n",
       "        vertical-align: top;\n",
       "    }\n",
       "\n",
       "    .dataframe thead th {\n",
       "        text-align: right;\n",
       "    }\n",
       "</style>\n",
       "<table border=\"1\" class=\"dataframe\">\n",
       "  <thead>\n",
       "    <tr style=\"text-align: right;\">\n",
       "      <th></th>\n",
       "      <th>model</th>\n",
       "      <th>f1</th>\n",
       "    </tr>\n",
       "  </thead>\n",
       "  <tbody>\n",
       "  </tbody>\n",
       "</table>\n",
       "</div>\n",
       "      <button class=\"colab-df-convert\" onclick=\"convertToInteractive('df-ccac5583-390c-4a84-849a-cb23a430880b')\"\n",
       "              title=\"Convert this dataframe to an interactive table.\"\n",
       "              style=\"display:none;\">\n",
       "        \n",
       "  <svg xmlns=\"http://www.w3.org/2000/svg\" height=\"24px\"viewBox=\"0 0 24 24\"\n",
       "       width=\"24px\">\n",
       "    <path d=\"M0 0h24v24H0V0z\" fill=\"none\"/>\n",
       "    <path d=\"M18.56 5.44l.94 2.06.94-2.06 2.06-.94-2.06-.94-.94-2.06-.94 2.06-2.06.94zm-11 1L8.5 8.5l.94-2.06 2.06-.94-2.06-.94L8.5 2.5l-.94 2.06-2.06.94zm10 10l.94 2.06.94-2.06 2.06-.94-2.06-.94-.94-2.06-.94 2.06-2.06.94z\"/><path d=\"M17.41 7.96l-1.37-1.37c-.4-.4-.92-.59-1.43-.59-.52 0-1.04.2-1.43.59L10.3 9.45l-7.72 7.72c-.78.78-.78 2.05 0 2.83L4 21.41c.39.39.9.59 1.41.59.51 0 1.02-.2 1.41-.59l7.78-7.78 2.81-2.81c.8-.78.8-2.07 0-2.86zM5.41 20L4 18.59l7.72-7.72 1.47 1.35L5.41 20z\"/>\n",
       "  </svg>\n",
       "      </button>\n",
       "      \n",
       "  <style>\n",
       "    .colab-df-container {\n",
       "      display:flex;\n",
       "      flex-wrap:wrap;\n",
       "      gap: 12px;\n",
       "    }\n",
       "\n",
       "    .colab-df-convert {\n",
       "      background-color: #E8F0FE;\n",
       "      border: none;\n",
       "      border-radius: 50%;\n",
       "      cursor: pointer;\n",
       "      display: none;\n",
       "      fill: #1967D2;\n",
       "      height: 32px;\n",
       "      padding: 0 0 0 0;\n",
       "      width: 32px;\n",
       "    }\n",
       "\n",
       "    .colab-df-convert:hover {\n",
       "      background-color: #E2EBFA;\n",
       "      box-shadow: 0px 1px 2px rgba(60, 64, 67, 0.3), 0px 1px 3px 1px rgba(60, 64, 67, 0.15);\n",
       "      fill: #174EA6;\n",
       "    }\n",
       "\n",
       "    [theme=dark] .colab-df-convert {\n",
       "      background-color: #3B4455;\n",
       "      fill: #D2E3FC;\n",
       "    }\n",
       "\n",
       "    [theme=dark] .colab-df-convert:hover {\n",
       "      background-color: #434B5C;\n",
       "      box-shadow: 0px 1px 3px 1px rgba(0, 0, 0, 0.15);\n",
       "      filter: drop-shadow(0px 1px 2px rgba(0, 0, 0, 0.3));\n",
       "      fill: #FFFFFF;\n",
       "    }\n",
       "  </style>\n",
       "\n",
       "      <script>\n",
       "        const buttonEl =\n",
       "          document.querySelector('#df-ccac5583-390c-4a84-849a-cb23a430880b button.colab-df-convert');\n",
       "        buttonEl.style.display =\n",
       "          google.colab.kernel.accessAllowed ? 'block' : 'none';\n",
       "\n",
       "        async function convertToInteractive(key) {\n",
       "          const element = document.querySelector('#df-ccac5583-390c-4a84-849a-cb23a430880b');\n",
       "          const dataTable =\n",
       "            await google.colab.kernel.invokeFunction('convertToInteractive',\n",
       "                                                     [key], {});\n",
       "          if (!dataTable) return;\n",
       "\n",
       "          const docLinkHtml = 'Like what you see? Visit the ' +\n",
       "            '<a target=\"_blank\" href=https://colab.research.google.com/notebooks/data_table.ipynb>data table notebook</a>'\n",
       "            + ' to learn more about interactive tables.';\n",
       "          element.innerHTML = '';\n",
       "          dataTable['output_type'] = 'display_data';\n",
       "          await google.colab.output.renderOutput(dataTable, element);\n",
       "          const docLink = document.createElement('div');\n",
       "          docLink.innerHTML = docLinkHtml;\n",
       "          element.appendChild(docLink);\n",
       "        }\n",
       "      </script>\n",
       "    </div>\n",
       "  </div>\n",
       "  "
      ],
      "text/plain": [
       "Empty DataFrame\n",
       "Columns: [model, f1]\n",
       "Index: []"
      ]
     },
     "metadata": {},
     "output_type": "display_data"
    }
   ],
   "source": [
    "df_res = pd.DataFrame(columns=['model', 'f1'])\n",
    "display(df_res)"
   ]
  },
  {
   "cell_type": "code",
   "execution_count": 36,
   "metadata": {
    "colab": {
     "base_uri": "https://localhost:8080/"
    },
    "id": "o_y69Zv9oz1Z",
    "outputId": "ab8872aa-6fde-4023-aca2-98bed36cd5fa",
    "scrolled": false
   },
   "outputs": [
    {
     "name": "stdout",
     "output_type": "stream",
     "text": [
      "Test LogisticRegression best score f1 - 0.987542745481192\n",
      "LogisticRegression best param - {'C': 12, 'penalty': 'l1', 'solver': 'liblinear'}\n",
      "-------------------------------------------------------------------------------------------------\n",
      "CPU times: user 516 ms, sys: 138 ms, total: 654 ms\n",
      "Wall time: 4.74 s\n"
     ]
    }
   ],
   "source": [
    "%%time\n",
    "param_lr = {\n",
    "    'solver' : ['liblinear'],\n",
    "    'penalty' : ['l1', 'l2'], \n",
    "    'C' : [1, 5, 10, 12] \n",
    "}\n",
    "\n",
    "param_lr = find_model(LogisticRegression(), tf_idf_dict, param_lr)"
   ]
  },
  {
   "cell_type": "code",
   "execution_count": 37,
   "metadata": {
    "colab": {
     "base_uri": "https://localhost:8080/",
     "height": 112
    },
    "id": "QjLgBf4Joz1Z",
    "outputId": "0471345b-1276-492b-94a2-729903c4931a",
    "scrolled": true
   },
   "outputs": [
    {
     "data": {
      "text/html": [
       "\n",
       "  <div id=\"df-e3967a9f-ab05-4a53-b4e0-97a57f465231\">\n",
       "    <div class=\"colab-df-container\">\n",
       "      <div>\n",
       "<style scoped>\n",
       "    .dataframe tbody tr th:only-of-type {\n",
       "        vertical-align: middle;\n",
       "    }\n",
       "\n",
       "    .dataframe tbody tr th {\n",
       "        vertical-align: top;\n",
       "    }\n",
       "\n",
       "    .dataframe thead th {\n",
       "        text-align: right;\n",
       "    }\n",
       "</style>\n",
       "<table border=\"1\" class=\"dataframe\">\n",
       "  <thead>\n",
       "    <tr style=\"text-align: right;\">\n",
       "      <th></th>\n",
       "      <th>model</th>\n",
       "      <th>f1</th>\n",
       "    </tr>\n",
       "  </thead>\n",
       "  <tbody>\n",
       "    <tr>\n",
       "      <th>0</th>\n",
       "      <td>disbalance LogisticRegression</td>\n",
       "      <td>0.74</td>\n",
       "    </tr>\n",
       "    <tr>\n",
       "      <th>1</th>\n",
       "      <td>balance LogisticRegression</td>\n",
       "      <td>0.66</td>\n",
       "    </tr>\n",
       "  </tbody>\n",
       "</table>\n",
       "</div>\n",
       "      <button class=\"colab-df-convert\" onclick=\"convertToInteractive('df-e3967a9f-ab05-4a53-b4e0-97a57f465231')\"\n",
       "              title=\"Convert this dataframe to an interactive table.\"\n",
       "              style=\"display:none;\">\n",
       "        \n",
       "  <svg xmlns=\"http://www.w3.org/2000/svg\" height=\"24px\"viewBox=\"0 0 24 24\"\n",
       "       width=\"24px\">\n",
       "    <path d=\"M0 0h24v24H0V0z\" fill=\"none\"/>\n",
       "    <path d=\"M18.56 5.44l.94 2.06.94-2.06 2.06-.94-2.06-.94-.94-2.06-.94 2.06-2.06.94zm-11 1L8.5 8.5l.94-2.06 2.06-.94-2.06-.94L8.5 2.5l-.94 2.06-2.06.94zm10 10l.94 2.06.94-2.06 2.06-.94-2.06-.94-.94-2.06-.94 2.06-2.06.94z\"/><path d=\"M17.41 7.96l-1.37-1.37c-.4-.4-.92-.59-1.43-.59-.52 0-1.04.2-1.43.59L10.3 9.45l-7.72 7.72c-.78.78-.78 2.05 0 2.83L4 21.41c.39.39.9.59 1.41.59.51 0 1.02-.2 1.41-.59l7.78-7.78 2.81-2.81c.8-.78.8-2.07 0-2.86zM5.41 20L4 18.59l7.72-7.72 1.47 1.35L5.41 20z\"/>\n",
       "  </svg>\n",
       "      </button>\n",
       "      \n",
       "  <style>\n",
       "    .colab-df-container {\n",
       "      display:flex;\n",
       "      flex-wrap:wrap;\n",
       "      gap: 12px;\n",
       "    }\n",
       "\n",
       "    .colab-df-convert {\n",
       "      background-color: #E8F0FE;\n",
       "      border: none;\n",
       "      border-radius: 50%;\n",
       "      cursor: pointer;\n",
       "      display: none;\n",
       "      fill: #1967D2;\n",
       "      height: 32px;\n",
       "      padding: 0 0 0 0;\n",
       "      width: 32px;\n",
       "    }\n",
       "\n",
       "    .colab-df-convert:hover {\n",
       "      background-color: #E2EBFA;\n",
       "      box-shadow: 0px 1px 2px rgba(60, 64, 67, 0.3), 0px 1px 3px 1px rgba(60, 64, 67, 0.15);\n",
       "      fill: #174EA6;\n",
       "    }\n",
       "\n",
       "    [theme=dark] .colab-df-convert {\n",
       "      background-color: #3B4455;\n",
       "      fill: #D2E3FC;\n",
       "    }\n",
       "\n",
       "    [theme=dark] .colab-df-convert:hover {\n",
       "      background-color: #434B5C;\n",
       "      box-shadow: 0px 1px 3px 1px rgba(0, 0, 0, 0.15);\n",
       "      filter: drop-shadow(0px 1px 2px rgba(0, 0, 0, 0.3));\n",
       "      fill: #FFFFFF;\n",
       "    }\n",
       "  </style>\n",
       "\n",
       "      <script>\n",
       "        const buttonEl =\n",
       "          document.querySelector('#df-e3967a9f-ab05-4a53-b4e0-97a57f465231 button.colab-df-convert');\n",
       "        buttonEl.style.display =\n",
       "          google.colab.kernel.accessAllowed ? 'block' : 'none';\n",
       "\n",
       "        async function convertToInteractive(key) {\n",
       "          const element = document.querySelector('#df-e3967a9f-ab05-4a53-b4e0-97a57f465231');\n",
       "          const dataTable =\n",
       "            await google.colab.kernel.invokeFunction('convertToInteractive',\n",
       "                                                     [key], {});\n",
       "          if (!dataTable) return;\n",
       "\n",
       "          const docLinkHtml = 'Like what you see? Visit the ' +\n",
       "            '<a target=\"_blank\" href=https://colab.research.google.com/notebooks/data_table.ipynb>data table notebook</a>'\n",
       "            + ' to learn more about interactive tables.';\n",
       "          element.innerHTML = '';\n",
       "          dataTable['output_type'] = 'display_data';\n",
       "          await google.colab.output.renderOutput(dataTable, element);\n",
       "          const docLink = document.createElement('div');\n",
       "          docLink.innerHTML = docLinkHtml;\n",
       "          element.appendChild(docLink);\n",
       "        }\n",
       "      </script>\n",
       "    </div>\n",
       "  </div>\n",
       "  "
      ],
      "text/plain": [
       "                           model    f1\n",
       "0  disbalance LogisticRegression  0.74\n",
       "1     balance LogisticRegression  0.66"
      ]
     },
     "metadata": {},
     "output_type": "display_data"
    }
   ],
   "source": [
    "#дисбаланс\n",
    "df_res.loc[df_res.shape[0]] = get_result(LogisticRegression(**param_lr), \n",
    "                                         tf_idf_dict, fit=True, bert_name='disbalance')\n",
    "#баланс\n",
    "df_res.loc[df_res.shape[0]] = get_result(LogisticRegression(**param_lr), \n",
    "                                         tf_idf_dict, fit=True, bert_name='balance', balance=True)\n",
    "\n",
    "display(df_res)"
   ]
  },
  {
   "cell_type": "code",
   "execution_count": 38,
   "metadata": {
    "colab": {
     "base_uri": "https://localhost:8080/"
    },
    "id": "BkbOFpp5oz1a",
    "outputId": "9b205414-8650-4a5d-8ff0-74628959e31b"
   },
   "outputs": [
    {
     "name": "stdout",
     "output_type": "stream",
     "text": [
      "Test CatBoostClassifier best score f1 - 0.90462503266266\n",
      "CatBoostClassifier best param - {'iterations': 300, 'learning_rate': 0.5, 'max_depth': 8}\n",
      "-------------------------------------------------------------------------------------------------\n",
      "CPU times: user 15min 59s, sys: 3.7 s, total: 16min 3s\n",
      "Wall time: 16min 47s\n"
     ]
    }
   ],
   "source": [
    "%%time\n",
    "catboost_params = {\n",
    "    'learning_rate': [0.5],\n",
    "    'iterations': [300, 330],\n",
    "    'max_depth': [8, 10]\n",
    "}\n",
    "\n",
    "param_cbc = find_model(CatBoostClassifier(verbose=0), tf_idf_dict, catboost_params)"
   ]
  },
  {
   "cell_type": "code",
   "execution_count": 39,
   "metadata": {
    "colab": {
     "base_uri": "https://localhost:8080/",
     "height": 175
    },
    "id": "PJIgAz8Foz1a",
    "outputId": "fcbe8ea0-7f42-48df-a75f-e88f0a62ce03"
   },
   "outputs": [
    {
     "data": {
      "text/html": [
       "\n",
       "  <div id=\"df-5df2ac1d-dda7-48f7-8d0a-0fd7fe2d65bb\">\n",
       "    <div class=\"colab-df-container\">\n",
       "      <div>\n",
       "<style scoped>\n",
       "    .dataframe tbody tr th:only-of-type {\n",
       "        vertical-align: middle;\n",
       "    }\n",
       "\n",
       "    .dataframe tbody tr th {\n",
       "        vertical-align: top;\n",
       "    }\n",
       "\n",
       "    .dataframe thead th {\n",
       "        text-align: right;\n",
       "    }\n",
       "</style>\n",
       "<table border=\"1\" class=\"dataframe\">\n",
       "  <thead>\n",
       "    <tr style=\"text-align: right;\">\n",
       "      <th></th>\n",
       "      <th>model</th>\n",
       "      <th>f1</th>\n",
       "    </tr>\n",
       "  </thead>\n",
       "  <tbody>\n",
       "    <tr>\n",
       "      <th>0</th>\n",
       "      <td>disbalance LogisticRegression</td>\n",
       "      <td>0.74</td>\n",
       "    </tr>\n",
       "    <tr>\n",
       "      <th>1</th>\n",
       "      <td>balance LogisticRegression</td>\n",
       "      <td>0.66</td>\n",
       "    </tr>\n",
       "    <tr>\n",
       "      <th>2</th>\n",
       "      <td>disbalance CatBoostClassifier</td>\n",
       "      <td>0.73</td>\n",
       "    </tr>\n",
       "    <tr>\n",
       "      <th>3</th>\n",
       "      <td>balance CatBoostClassifier</td>\n",
       "      <td>0.67</td>\n",
       "    </tr>\n",
       "  </tbody>\n",
       "</table>\n",
       "</div>\n",
       "      <button class=\"colab-df-convert\" onclick=\"convertToInteractive('df-5df2ac1d-dda7-48f7-8d0a-0fd7fe2d65bb')\"\n",
       "              title=\"Convert this dataframe to an interactive table.\"\n",
       "              style=\"display:none;\">\n",
       "        \n",
       "  <svg xmlns=\"http://www.w3.org/2000/svg\" height=\"24px\"viewBox=\"0 0 24 24\"\n",
       "       width=\"24px\">\n",
       "    <path d=\"M0 0h24v24H0V0z\" fill=\"none\"/>\n",
       "    <path d=\"M18.56 5.44l.94 2.06.94-2.06 2.06-.94-2.06-.94-.94-2.06-.94 2.06-2.06.94zm-11 1L8.5 8.5l.94-2.06 2.06-.94-2.06-.94L8.5 2.5l-.94 2.06-2.06.94zm10 10l.94 2.06.94-2.06 2.06-.94-2.06-.94-.94-2.06-.94 2.06-2.06.94z\"/><path d=\"M17.41 7.96l-1.37-1.37c-.4-.4-.92-.59-1.43-.59-.52 0-1.04.2-1.43.59L10.3 9.45l-7.72 7.72c-.78.78-.78 2.05 0 2.83L4 21.41c.39.39.9.59 1.41.59.51 0 1.02-.2 1.41-.59l7.78-7.78 2.81-2.81c.8-.78.8-2.07 0-2.86zM5.41 20L4 18.59l7.72-7.72 1.47 1.35L5.41 20z\"/>\n",
       "  </svg>\n",
       "      </button>\n",
       "      \n",
       "  <style>\n",
       "    .colab-df-container {\n",
       "      display:flex;\n",
       "      flex-wrap:wrap;\n",
       "      gap: 12px;\n",
       "    }\n",
       "\n",
       "    .colab-df-convert {\n",
       "      background-color: #E8F0FE;\n",
       "      border: none;\n",
       "      border-radius: 50%;\n",
       "      cursor: pointer;\n",
       "      display: none;\n",
       "      fill: #1967D2;\n",
       "      height: 32px;\n",
       "      padding: 0 0 0 0;\n",
       "      width: 32px;\n",
       "    }\n",
       "\n",
       "    .colab-df-convert:hover {\n",
       "      background-color: #E2EBFA;\n",
       "      box-shadow: 0px 1px 2px rgba(60, 64, 67, 0.3), 0px 1px 3px 1px rgba(60, 64, 67, 0.15);\n",
       "      fill: #174EA6;\n",
       "    }\n",
       "\n",
       "    [theme=dark] .colab-df-convert {\n",
       "      background-color: #3B4455;\n",
       "      fill: #D2E3FC;\n",
       "    }\n",
       "\n",
       "    [theme=dark] .colab-df-convert:hover {\n",
       "      background-color: #434B5C;\n",
       "      box-shadow: 0px 1px 3px 1px rgba(0, 0, 0, 0.15);\n",
       "      filter: drop-shadow(0px 1px 2px rgba(0, 0, 0, 0.3));\n",
       "      fill: #FFFFFF;\n",
       "    }\n",
       "  </style>\n",
       "\n",
       "      <script>\n",
       "        const buttonEl =\n",
       "          document.querySelector('#df-5df2ac1d-dda7-48f7-8d0a-0fd7fe2d65bb button.colab-df-convert');\n",
       "        buttonEl.style.display =\n",
       "          google.colab.kernel.accessAllowed ? 'block' : 'none';\n",
       "\n",
       "        async function convertToInteractive(key) {\n",
       "          const element = document.querySelector('#df-5df2ac1d-dda7-48f7-8d0a-0fd7fe2d65bb');\n",
       "          const dataTable =\n",
       "            await google.colab.kernel.invokeFunction('convertToInteractive',\n",
       "                                                     [key], {});\n",
       "          if (!dataTable) return;\n",
       "\n",
       "          const docLinkHtml = 'Like what you see? Visit the ' +\n",
       "            '<a target=\"_blank\" href=https://colab.research.google.com/notebooks/data_table.ipynb>data table notebook</a>'\n",
       "            + ' to learn more about interactive tables.';\n",
       "          element.innerHTML = '';\n",
       "          dataTable['output_type'] = 'display_data';\n",
       "          await google.colab.output.renderOutput(dataTable, element);\n",
       "          const docLink = document.createElement('div');\n",
       "          docLink.innerHTML = docLinkHtml;\n",
       "          element.appendChild(docLink);\n",
       "        }\n",
       "      </script>\n",
       "    </div>\n",
       "  </div>\n",
       "  "
      ],
      "text/plain": [
       "                           model    f1\n",
       "0  disbalance LogisticRegression  0.74\n",
       "1     balance LogisticRegression  0.66\n",
       "2  disbalance CatBoostClassifier  0.73\n",
       "3     balance CatBoostClassifier  0.67"
      ]
     },
     "metadata": {},
     "output_type": "display_data"
    }
   ],
   "source": [
    "#param_cbc = {'iterations': 300, 'learning_rate': 0.5, 'max_depth': 8}\n",
    "#дисбаланс\n",
    "df_res.loc[df_res.shape[0]] = get_result(CatBoostClassifier(**param_cbc, verbose=0), \n",
    "                                         tf_idf_dict, fit=True, bert_name='disbalance')\n",
    "\n",
    "#баланс\n",
    "df_res.loc[df_res.shape[0]] = get_result(CatBoostClassifier(**param_cbc, verbose=0), \n",
    "                                         tf_idf_dict, fit=True, bert_name='balance', balance=True)\n",
    "display(df_res)"
   ]
  },
  {
   "cell_type": "code",
   "execution_count": 40,
   "metadata": {
    "colab": {
     "base_uri": "https://localhost:8080/"
    },
    "id": "h_YBShvIoz1a",
    "outputId": "7e6f8def-ce8d-4f17-ffdc-0d98cab2b77e"
   },
   "outputs": [
    {
     "name": "stdout",
     "output_type": "stream",
     "text": [
      "Test DecisionTreeClassifier best score f1 - 0.6924516531503431\n",
      "DecisionTreeClassifier best param - {'max_depth': 17, 'min_samples_leaf': 3, 'min_samples_split': 2}\n",
      "-------------------------------------------------------------------------------------------------\n",
      "CPU times: user 1.79 s, sys: 83.9 ms, total: 1.88 s\n",
      "Wall time: 12.6 s\n"
     ]
    }
   ],
   "source": [
    "%%time\n",
    "tree_params = {\n",
    "    'max_depth': [15, 17],\n",
    "    'min_samples_leaf': [3, 4],\n",
    "    'min_samples_split': [2, 3]\n",
    "}\n",
    "\n",
    "param_dtс = find_model(DecisionTreeClassifier(random_state=RANDOM_STATE), tf_idf_dict, tree_params)\n"
   ]
  },
  {
   "cell_type": "code",
   "execution_count": 41,
   "metadata": {
    "colab": {
     "base_uri": "https://localhost:8080/",
     "height": 237
    },
    "id": "76klbjEfoz1a",
    "outputId": "bd7ac852-7666-4ac7-b8a0-3bf4c436e5e7"
   },
   "outputs": [
    {
     "data": {
      "text/html": [
       "\n",
       "  <div id=\"df-f6b219b9-192c-4e95-9988-b08ea3ffc06f\">\n",
       "    <div class=\"colab-df-container\">\n",
       "      <div>\n",
       "<style scoped>\n",
       "    .dataframe tbody tr th:only-of-type {\n",
       "        vertical-align: middle;\n",
       "    }\n",
       "\n",
       "    .dataframe tbody tr th {\n",
       "        vertical-align: top;\n",
       "    }\n",
       "\n",
       "    .dataframe thead th {\n",
       "        text-align: right;\n",
       "    }\n",
       "</style>\n",
       "<table border=\"1\" class=\"dataframe\">\n",
       "  <thead>\n",
       "    <tr style=\"text-align: right;\">\n",
       "      <th></th>\n",
       "      <th>model</th>\n",
       "      <th>f1</th>\n",
       "    </tr>\n",
       "  </thead>\n",
       "  <tbody>\n",
       "    <tr>\n",
       "      <th>0</th>\n",
       "      <td>disbalance LogisticRegression</td>\n",
       "      <td>0.74</td>\n",
       "    </tr>\n",
       "    <tr>\n",
       "      <th>1</th>\n",
       "      <td>balance LogisticRegression</td>\n",
       "      <td>0.66</td>\n",
       "    </tr>\n",
       "    <tr>\n",
       "      <th>2</th>\n",
       "      <td>disbalance CatBoostClassifier</td>\n",
       "      <td>0.73</td>\n",
       "    </tr>\n",
       "    <tr>\n",
       "      <th>3</th>\n",
       "      <td>balance CatBoostClassifier</td>\n",
       "      <td>0.67</td>\n",
       "    </tr>\n",
       "    <tr>\n",
       "      <th>4</th>\n",
       "      <td>disbalance DecisionTreeClassifier</td>\n",
       "      <td>0.62</td>\n",
       "    </tr>\n",
       "    <tr>\n",
       "      <th>5</th>\n",
       "      <td>balance DecisionTreeClassifier</td>\n",
       "      <td>0.57</td>\n",
       "    </tr>\n",
       "  </tbody>\n",
       "</table>\n",
       "</div>\n",
       "      <button class=\"colab-df-convert\" onclick=\"convertToInteractive('df-f6b219b9-192c-4e95-9988-b08ea3ffc06f')\"\n",
       "              title=\"Convert this dataframe to an interactive table.\"\n",
       "              style=\"display:none;\">\n",
       "        \n",
       "  <svg xmlns=\"http://www.w3.org/2000/svg\" height=\"24px\"viewBox=\"0 0 24 24\"\n",
       "       width=\"24px\">\n",
       "    <path d=\"M0 0h24v24H0V0z\" fill=\"none\"/>\n",
       "    <path d=\"M18.56 5.44l.94 2.06.94-2.06 2.06-.94-2.06-.94-.94-2.06-.94 2.06-2.06.94zm-11 1L8.5 8.5l.94-2.06 2.06-.94-2.06-.94L8.5 2.5l-.94 2.06-2.06.94zm10 10l.94 2.06.94-2.06 2.06-.94-2.06-.94-.94-2.06-.94 2.06-2.06.94z\"/><path d=\"M17.41 7.96l-1.37-1.37c-.4-.4-.92-.59-1.43-.59-.52 0-1.04.2-1.43.59L10.3 9.45l-7.72 7.72c-.78.78-.78 2.05 0 2.83L4 21.41c.39.39.9.59 1.41.59.51 0 1.02-.2 1.41-.59l7.78-7.78 2.81-2.81c.8-.78.8-2.07 0-2.86zM5.41 20L4 18.59l7.72-7.72 1.47 1.35L5.41 20z\"/>\n",
       "  </svg>\n",
       "      </button>\n",
       "      \n",
       "  <style>\n",
       "    .colab-df-container {\n",
       "      display:flex;\n",
       "      flex-wrap:wrap;\n",
       "      gap: 12px;\n",
       "    }\n",
       "\n",
       "    .colab-df-convert {\n",
       "      background-color: #E8F0FE;\n",
       "      border: none;\n",
       "      border-radius: 50%;\n",
       "      cursor: pointer;\n",
       "      display: none;\n",
       "      fill: #1967D2;\n",
       "      height: 32px;\n",
       "      padding: 0 0 0 0;\n",
       "      width: 32px;\n",
       "    }\n",
       "\n",
       "    .colab-df-convert:hover {\n",
       "      background-color: #E2EBFA;\n",
       "      box-shadow: 0px 1px 2px rgba(60, 64, 67, 0.3), 0px 1px 3px 1px rgba(60, 64, 67, 0.15);\n",
       "      fill: #174EA6;\n",
       "    }\n",
       "\n",
       "    [theme=dark] .colab-df-convert {\n",
       "      background-color: #3B4455;\n",
       "      fill: #D2E3FC;\n",
       "    }\n",
       "\n",
       "    [theme=dark] .colab-df-convert:hover {\n",
       "      background-color: #434B5C;\n",
       "      box-shadow: 0px 1px 3px 1px rgba(0, 0, 0, 0.15);\n",
       "      filter: drop-shadow(0px 1px 2px rgba(0, 0, 0, 0.3));\n",
       "      fill: #FFFFFF;\n",
       "    }\n",
       "  </style>\n",
       "\n",
       "      <script>\n",
       "        const buttonEl =\n",
       "          document.querySelector('#df-f6b219b9-192c-4e95-9988-b08ea3ffc06f button.colab-df-convert');\n",
       "        buttonEl.style.display =\n",
       "          google.colab.kernel.accessAllowed ? 'block' : 'none';\n",
       "\n",
       "        async function convertToInteractive(key) {\n",
       "          const element = document.querySelector('#df-f6b219b9-192c-4e95-9988-b08ea3ffc06f');\n",
       "          const dataTable =\n",
       "            await google.colab.kernel.invokeFunction('convertToInteractive',\n",
       "                                                     [key], {});\n",
       "          if (!dataTable) return;\n",
       "\n",
       "          const docLinkHtml = 'Like what you see? Visit the ' +\n",
       "            '<a target=\"_blank\" href=https://colab.research.google.com/notebooks/data_table.ipynb>data table notebook</a>'\n",
       "            + ' to learn more about interactive tables.';\n",
       "          element.innerHTML = '';\n",
       "          dataTable['output_type'] = 'display_data';\n",
       "          await google.colab.output.renderOutput(dataTable, element);\n",
       "          const docLink = document.createElement('div');\n",
       "          docLink.innerHTML = docLinkHtml;\n",
       "          element.appendChild(docLink);\n",
       "        }\n",
       "      </script>\n",
       "    </div>\n",
       "  </div>\n",
       "  "
      ],
      "text/plain": [
       "                               model    f1\n",
       "0      disbalance LogisticRegression  0.74\n",
       "1         balance LogisticRegression  0.66\n",
       "2      disbalance CatBoostClassifier  0.73\n",
       "3         balance CatBoostClassifier  0.67\n",
       "4  disbalance DecisionTreeClassifier  0.62\n",
       "5     balance DecisionTreeClassifier  0.57"
      ]
     },
     "metadata": {},
     "output_type": "display_data"
    }
   ],
   "source": [
    "#дисбаланс\n",
    "df_res.loc[df_res.shape[0]] = get_result(DecisionTreeClassifier(**param_dtс, random_state=RANDOM_STATE), \n",
    "                                         tf_idf_dict, fit=True, bert_name='disbalance')\n",
    "#баланс\n",
    "df_res.loc[df_res.shape[0]] = get_result(DecisionTreeClassifier(**param_dtс, random_state=RANDOM_STATE), \n",
    "                                         tf_idf_dict, fit=True, bert_name='balance', balance=True)\n",
    "display(df_res)"
   ]
  },
  {
   "cell_type": "markdown",
   "metadata": {
    "id": "CkPS9AThoz1a"
   },
   "source": [
    "### Обучение модели Логистической регрессии на выборке обработанной с помощью предобученной нейронной сетки `BERT`."
   ]
  },
  {
   "cell_type": "markdown",
   "metadata": {
    "id": "bKr47Cj1oz1a"
   },
   "source": [
    " Обучение проведу на сбалансированной и дисбалансированной выборке. Чтоб выбрать лучший вариант метрики f1."
   ]
  },
  {
   "cell_type": "code",
   "execution_count": 42,
   "metadata": {
    "colab": {
     "base_uri": "https://localhost:8080/"
    },
    "id": "ZlqBekD_oz1a",
    "outputId": "45bcc603-d9b8-407a-a249-000bc450dd09"
   },
   "outputs": [
    {
     "name": "stdout",
     "output_type": "stream",
     "text": [
      "Используется device - cuda\n"
     ]
    }
   ],
   "source": [
    "#настройка gpu или cpu\n",
    "device = 'cuda' if torch.cuda.is_available() else 'cpu'\n",
    "model.to(device)\n",
    "print(f'Используется device - {device}')"
   ]
  },
  {
   "cell_type": "code",
   "execution_count": 43,
   "metadata": {
    "id": "k-JJXEf9oz1b"
   },
   "outputs": [],
   "source": [
    "batch_size = 100\n",
    "def get_vectors_768(model, input_id, mask, batch_size):\n",
    "    \n",
    "    embeddings = []\n",
    "    for i in tqdm(range(input_id.shape[0] // batch_size)):\n",
    "        batch = torch.tensor(input_id[batch_size*i:batch_size*(i+1)], device=device) \n",
    "        attention_mask_batch = torch.tensor(mask[batch_size*i:batch_size*(i+1)], device=device)\n",
    "        \n",
    "        with torch.no_grad():\n",
    "            batch_embeddings = model(batch, attention_mask=attention_mask_batch)\n",
    "        embeddings.append(batch_embeddings[0][:,0,:].detach().cpu().numpy())\n",
    "    return embeddings"
   ]
  },
  {
   "cell_type": "code",
   "execution_count": 44,
   "metadata": {
    "colab": {
     "base_uri": "https://localhost:8080/",
     "height": 85,
     "referenced_widgets": [
      "fd989039e9ef4f178b8562f2a8e39b9c",
      "e0daaa4d194d4a5e866a0f147afb7655",
      "b332e70f6b2d41e0af798a8d09b2dc65",
      "1547df5637c54066b6bc91bbbb2f98af",
      "98d41d0be53f486285a83effb1c79447",
      "b9ff5b2ea9254dbd9126b17e3cc9fbf0",
      "0da6530fbbcf484b81b4103bebf1ddcf",
      "44d354610ab04d33a7d6ccb8113ada64",
      "7483bb884b444a7191205d8cd5f7b454",
      "4beac280629c45f2935e739a99a5665d",
      "f2da6026a5934705b39ec21cc8000c98"
     ]
    },
    "id": "Vw8j5ml8oz1b",
    "outputId": "e6f40ba3-8951-4940-ff5b-ea1c529ee5bb",
    "scrolled": false
   },
   "outputs": [
    {
     "data": {
      "application/vnd.jupyter.widget-view+json": {
       "model_id": "fd989039e9ef4f178b8562f2a8e39b9c",
       "version_major": 2,
       "version_minor": 0
      },
      "text/plain": [
       "  0%|          | 0/300 [00:00<?, ?it/s]"
      ]
     },
     "metadata": {},
     "output_type": "display_data"
    },
    {
     "name": "stdout",
     "output_type": "stream",
     "text": [
      "CPU times: user 13min 43s, sys: 1.25 s, total: 13min 45s\n",
      "Wall time: 13min 52s\n"
     ]
    }
   ],
   "source": [
    "%%time\n",
    "#получим данные от Bert\n",
    "features_768 = get_vectors_768(model, padded, attention_mask, batch_size)"
   ]
  },
  {
   "cell_type": "code",
   "execution_count": 45,
   "metadata": {
    "colab": {
     "base_uri": "https://localhost:8080/",
     "height": 143
    },
    "id": "2E3MTc6Joz1b",
    "outputId": "34003bfd-e4cf-49d4-95fd-c7bf44e7d296",
    "scrolled": false
   },
   "outputs": [
    {
     "data": {
      "text/html": [
       "\n",
       "  <div id=\"df-856dbc17-0d4f-49c7-982a-e95ceb775636\">\n",
       "    <div class=\"colab-df-container\">\n",
       "      <div>\n",
       "<style scoped>\n",
       "    .dataframe tbody tr th:only-of-type {\n",
       "        vertical-align: middle;\n",
       "    }\n",
       "\n",
       "    .dataframe tbody tr th {\n",
       "        vertical-align: top;\n",
       "    }\n",
       "\n",
       "    .dataframe thead th {\n",
       "        text-align: right;\n",
       "    }\n",
       "</style>\n",
       "<table border=\"1\" class=\"dataframe\">\n",
       "  <thead>\n",
       "    <tr style=\"text-align: right;\">\n",
       "      <th></th>\n",
       "      <th>sample_type</th>\n",
       "      <th>target</th>\n",
       "      <th>features</th>\n",
       "      <th>share</th>\n",
       "    </tr>\n",
       "  </thead>\n",
       "  <tbody>\n",
       "    <tr>\n",
       "      <th>0</th>\n",
       "      <td>test_sample</td>\n",
       "      <td>3000</td>\n",
       "      <td>3000</td>\n",
       "      <td>0.1</td>\n",
       "    </tr>\n",
       "    <tr>\n",
       "      <th>1</th>\n",
       "      <td>train_sample</td>\n",
       "      <td>24003</td>\n",
       "      <td>24003</td>\n",
       "      <td>0.8</td>\n",
       "    </tr>\n",
       "    <tr>\n",
       "      <th>2</th>\n",
       "      <td>validation_sample</td>\n",
       "      <td>2997</td>\n",
       "      <td>2997</td>\n",
       "      <td>0.1</td>\n",
       "    </tr>\n",
       "  </tbody>\n",
       "</table>\n",
       "</div>\n",
       "      <button class=\"colab-df-convert\" onclick=\"convertToInteractive('df-856dbc17-0d4f-49c7-982a-e95ceb775636')\"\n",
       "              title=\"Convert this dataframe to an interactive table.\"\n",
       "              style=\"display:none;\">\n",
       "        \n",
       "  <svg xmlns=\"http://www.w3.org/2000/svg\" height=\"24px\"viewBox=\"0 0 24 24\"\n",
       "       width=\"24px\">\n",
       "    <path d=\"M0 0h24v24H0V0z\" fill=\"none\"/>\n",
       "    <path d=\"M18.56 5.44l.94 2.06.94-2.06 2.06-.94-2.06-.94-.94-2.06-.94 2.06-2.06.94zm-11 1L8.5 8.5l.94-2.06 2.06-.94-2.06-.94L8.5 2.5l-.94 2.06-2.06.94zm10 10l.94 2.06.94-2.06 2.06-.94-2.06-.94-.94-2.06-.94 2.06-2.06.94z\"/><path d=\"M17.41 7.96l-1.37-1.37c-.4-.4-.92-.59-1.43-.59-.52 0-1.04.2-1.43.59L10.3 9.45l-7.72 7.72c-.78.78-.78 2.05 0 2.83L4 21.41c.39.39.9.59 1.41.59.51 0 1.02-.2 1.41-.59l7.78-7.78 2.81-2.81c.8-.78.8-2.07 0-2.86zM5.41 20L4 18.59l7.72-7.72 1.47 1.35L5.41 20z\"/>\n",
       "  </svg>\n",
       "      </button>\n",
       "      \n",
       "  <style>\n",
       "    .colab-df-container {\n",
       "      display:flex;\n",
       "      flex-wrap:wrap;\n",
       "      gap: 12px;\n",
       "    }\n",
       "\n",
       "    .colab-df-convert {\n",
       "      background-color: #E8F0FE;\n",
       "      border: none;\n",
       "      border-radius: 50%;\n",
       "      cursor: pointer;\n",
       "      display: none;\n",
       "      fill: #1967D2;\n",
       "      height: 32px;\n",
       "      padding: 0 0 0 0;\n",
       "      width: 32px;\n",
       "    }\n",
       "\n",
       "    .colab-df-convert:hover {\n",
       "      background-color: #E2EBFA;\n",
       "      box-shadow: 0px 1px 2px rgba(60, 64, 67, 0.3), 0px 1px 3px 1px rgba(60, 64, 67, 0.15);\n",
       "      fill: #174EA6;\n",
       "    }\n",
       "\n",
       "    [theme=dark] .colab-df-convert {\n",
       "      background-color: #3B4455;\n",
       "      fill: #D2E3FC;\n",
       "    }\n",
       "\n",
       "    [theme=dark] .colab-df-convert:hover {\n",
       "      background-color: #434B5C;\n",
       "      box-shadow: 0px 1px 3px 1px rgba(0, 0, 0, 0.15);\n",
       "      filter: drop-shadow(0px 1px 2px rgba(0, 0, 0, 0.3));\n",
       "      fill: #FFFFFF;\n",
       "    }\n",
       "  </style>\n",
       "\n",
       "      <script>\n",
       "        const buttonEl =\n",
       "          document.querySelector('#df-856dbc17-0d4f-49c7-982a-e95ceb775636 button.colab-df-convert');\n",
       "        buttonEl.style.display =\n",
       "          google.colab.kernel.accessAllowed ? 'block' : 'none';\n",
       "\n",
       "        async function convertToInteractive(key) {\n",
       "          const element = document.querySelector('#df-856dbc17-0d4f-49c7-982a-e95ceb775636');\n",
       "          const dataTable =\n",
       "            await google.colab.kernel.invokeFunction('convertToInteractive',\n",
       "                                                     [key], {});\n",
       "          if (!dataTable) return;\n",
       "\n",
       "          const docLinkHtml = 'Like what you see? Visit the ' +\n",
       "            '<a target=\"_blank\" href=https://colab.research.google.com/notebooks/data_table.ipynb>data table notebook</a>'\n",
       "            + ' to learn more about interactive tables.';\n",
       "          element.innerHTML = '';\n",
       "          dataTable['output_type'] = 'display_data';\n",
       "          await google.colab.output.renderOutput(dataTable, element);\n",
       "          const docLink = document.createElement('div');\n",
       "          docLink.innerHTML = docLinkHtml;\n",
       "          element.appendChild(docLink);\n",
       "        }\n",
       "      </script>\n",
       "    </div>\n",
       "  </div>\n",
       "  "
      ],
      "text/plain": [
       "         sample_type  target  features  share\n",
       "0        test_sample    3000      3000    0.1\n",
       "1       train_sample   24003     24003    0.8\n",
       "2  validation_sample    2997      2997    0.1"
      ]
     },
     "metadata": {},
     "output_type": "display_data"
    }
   ],
   "source": [
    "#Поделим выборку на тест, вали и трейн\n",
    "X_y_bert = df_split(pd.DataFrame(np.concatenate(features_768)), df_bert[:padded.shape[0] // 100 * 100].toxic.reset_index(drop=True))"
   ]
  },
  {
   "cell_type": "code",
   "execution_count": 46,
   "metadata": {
    "colab": {
     "base_uri": "https://localhost:8080/",
     "height": 504
    },
    "id": "wBqflsS7oz1b",
    "outputId": "fe3e60a3-d454-4f9c-b5e8-22699209210e"
   },
   "outputs": [
    {
     "data": {
      "image/png": "[encoded data removed]",
      "text/plain": [
       "<Figure size 936x936 with 2 Axes>"
      ]
     },
     "metadata": {},
     "output_type": "display_data"
    },
    {
     "data": {
      "text/html": [
       "\n",
       "  <div id=\"df-57127394-294b-4aa4-9838-a8462a3bd552\">\n",
       "    <div class=\"colab-df-container\">\n",
       "      <div>\n",
       "<style scoped>\n",
       "    .dataframe tbody tr th:only-of-type {\n",
       "        vertical-align: middle;\n",
       "    }\n",
       "\n",
       "    .dataframe tbody tr th {\n",
       "        vertical-align: top;\n",
       "    }\n",
       "\n",
       "    .dataframe thead th {\n",
       "        text-align: right;\n",
       "    }\n",
       "</style>\n",
       "<table border=\"1\" class=\"dataframe\">\n",
       "  <thead>\n",
       "    <tr style=\"text-align: right;\">\n",
       "      <th></th>\n",
       "      <th>normal</th>\n",
       "      <th>toxic</th>\n",
       "    </tr>\n",
       "  </thead>\n",
       "  <tbody>\n",
       "    <tr>\n",
       "      <th>balance_Bert comments</th>\n",
       "      <td>21492</td>\n",
       "      <td>2511</td>\n",
       "    </tr>\n",
       "  </tbody>\n",
       "</table>\n",
       "</div>\n",
       "      <button class=\"colab-df-convert\" onclick=\"convertToInteractive('df-57127394-294b-4aa4-9838-a8462a3bd552')\"\n",
       "              title=\"Convert this dataframe to an interactive table.\"\n",
       "              style=\"display:none;\">\n",
       "        \n",
       "  <svg xmlns=\"http://www.w3.org/2000/svg\" height=\"24px\"viewBox=\"0 0 24 24\"\n",
       "       width=\"24px\">\n",
       "    <path d=\"M0 0h24v24H0V0z\" fill=\"none\"/>\n",
       "    <path d=\"M18.56 5.44l.94 2.06.94-2.06 2.06-.94-2.06-.94-.94-2.06-.94 2.06-2.06.94zm-11 1L8.5 8.5l.94-2.06 2.06-.94-2.06-.94L8.5 2.5l-.94 2.06-2.06.94zm10 10l.94 2.06.94-2.06 2.06-.94-2.06-.94-.94-2.06-.94 2.06-2.06.94z\"/><path d=\"M17.41 7.96l-1.37-1.37c-.4-.4-.92-.59-1.43-.59-.52 0-1.04.2-1.43.59L10.3 9.45l-7.72 7.72c-.78.78-.78 2.05 0 2.83L4 21.41c.39.39.9.59 1.41.59.51 0 1.02-.2 1.41-.59l7.78-7.78 2.81-2.81c.8-.78.8-2.07 0-2.86zM5.41 20L4 18.59l7.72-7.72 1.47 1.35L5.41 20z\"/>\n",
       "  </svg>\n",
       "      </button>\n",
       "      \n",
       "  <style>\n",
       "    .colab-df-container {\n",
       "      display:flex;\n",
       "      flex-wrap:wrap;\n",
       "      gap: 12px;\n",
       "    }\n",
       "\n",
       "    .colab-df-convert {\n",
       "      background-color: #E8F0FE;\n",
       "      border: none;\n",
       "      border-radius: 50%;\n",
       "      cursor: pointer;\n",
       "      display: none;\n",
       "      fill: #1967D2;\n",
       "      height: 32px;\n",
       "      padding: 0 0 0 0;\n",
       "      width: 32px;\n",
       "    }\n",
       "\n",
       "    .colab-df-convert:hover {\n",
       "      background-color: #E2EBFA;\n",
       "      box-shadow: 0px 1px 2px rgba(60, 64, 67, 0.3), 0px 1px 3px 1px rgba(60, 64, 67, 0.15);\n",
       "      fill: #174EA6;\n",
       "    }\n",
       "\n",
       "    [theme=dark] .colab-df-convert {\n",
       "      background-color: #3B4455;\n",
       "      fill: #D2E3FC;\n",
       "    }\n",
       "\n",
       "    [theme=dark] .colab-df-convert:hover {\n",
       "      background-color: #434B5C;\n",
       "      box-shadow: 0px 1px 3px 1px rgba(0, 0, 0, 0.15);\n",
       "      filter: drop-shadow(0px 1px 2px rgba(0, 0, 0, 0.3));\n",
       "      fill: #FFFFFF;\n",
       "    }\n",
       "  </style>\n",
       "\n",
       "      <script>\n",
       "        const buttonEl =\n",
       "          document.querySelector('#df-57127394-294b-4aa4-9838-a8462a3bd552 button.colab-df-convert');\n",
       "        buttonEl.style.display =\n",
       "          google.colab.kernel.accessAllowed ? 'block' : 'none';\n",
       "\n",
       "        async function convertToInteractive(key) {\n",
       "          const element = document.querySelector('#df-57127394-294b-4aa4-9838-a8462a3bd552');\n",
       "          const dataTable =\n",
       "            await google.colab.kernel.invokeFunction('convertToInteractive',\n",
       "                                                     [key], {});\n",
       "          if (!dataTable) return;\n",
       "\n",
       "          const docLinkHtml = 'Like what you see? Visit the ' +\n",
       "            '<a target=\"_blank\" href=https://colab.research.google.com/notebooks/data_table.ipynb>data table notebook</a>'\n",
       "            + ' to learn more about interactive tables.';\n",
       "          element.innerHTML = '';\n",
       "          dataTable['output_type'] = 'display_data';\n",
       "          await google.colab.output.renderOutput(dataTable, element);\n",
       "          const docLink = document.createElement('div');\n",
       "          docLink.innerHTML = docLinkHtml;\n",
       "          element.appendChild(docLink);\n",
       "        }\n",
       "      </script>\n",
       "    </div>\n",
       "  </div>\n",
       "  "
      ],
      "text/plain": [
       "                       normal  toxic\n",
       "balance_Bert comments   21492   2511"
      ]
     },
     "metadata": {},
     "output_type": "display_data"
    },
    {
     "data": {
      "text/html": [
       "\n",
       "  <div id=\"df-d5878ff1-e5f6-49cd-8d6b-80ee89b915ba\">\n",
       "    <div class=\"colab-df-container\">\n",
       "      <div>\n",
       "<style scoped>\n",
       "    .dataframe tbody tr th:only-of-type {\n",
       "        vertical-align: middle;\n",
       "    }\n",
       "\n",
       "    .dataframe tbody tr th {\n",
       "        vertical-align: top;\n",
       "    }\n",
       "\n",
       "    .dataframe thead th {\n",
       "        text-align: right;\n",
       "    }\n",
       "</style>\n",
       "<table border=\"1\" class=\"dataframe\">\n",
       "  <thead>\n",
       "    <tr style=\"text-align: right;\">\n",
       "      <th></th>\n",
       "      <th>normal</th>\n",
       "      <th>toxic</th>\n",
       "    </tr>\n",
       "  </thead>\n",
       "  <tbody>\n",
       "    <tr>\n",
       "      <th>disbalance_bert comments</th>\n",
       "      <td>2511</td>\n",
       "      <td>2511</td>\n",
       "    </tr>\n",
       "  </tbody>\n",
       "</table>\n",
       "</div>\n",
       "      <button class=\"colab-df-convert\" onclick=\"convertToInteractive('df-d5878ff1-e5f6-49cd-8d6b-80ee89b915ba')\"\n",
       "              title=\"Convert this dataframe to an interactive table.\"\n",
       "              style=\"display:none;\">\n",
       "        \n",
       "  <svg xmlns=\"http://www.w3.org/2000/svg\" height=\"24px\"viewBox=\"0 0 24 24\"\n",
       "       width=\"24px\">\n",
       "    <path d=\"M0 0h24v24H0V0z\" fill=\"none\"/>\n",
       "    <path d=\"M18.56 5.44l.94 2.06.94-2.06 2.06-.94-2.06-.94-.94-2.06-.94 2.06-2.06.94zm-11 1L8.5 8.5l.94-2.06 2.06-.94-2.06-.94L8.5 2.5l-.94 2.06-2.06.94zm10 10l.94 2.06.94-2.06 2.06-.94-2.06-.94-.94-2.06-.94 2.06-2.06.94z\"/><path d=\"M17.41 7.96l-1.37-1.37c-.4-.4-.92-.59-1.43-.59-.52 0-1.04.2-1.43.59L10.3 9.45l-7.72 7.72c-.78.78-.78 2.05 0 2.83L4 21.41c.39.39.9.59 1.41.59.51 0 1.02-.2 1.41-.59l7.78-7.78 2.81-2.81c.8-.78.8-2.07 0-2.86zM5.41 20L4 18.59l7.72-7.72 1.47 1.35L5.41 20z\"/>\n",
       "  </svg>\n",
       "      </button>\n",
       "      \n",
       "  <style>\n",
       "    .colab-df-container {\n",
       "      display:flex;\n",
       "      flex-wrap:wrap;\n",
       "      gap: 12px;\n",
       "    }\n",
       "\n",
       "    .colab-df-convert {\n",
       "      background-color: #E8F0FE;\n",
       "      border: none;\n",
       "      border-radius: 50%;\n",
       "      cursor: pointer;\n",
       "      display: none;\n",
       "      fill: #1967D2;\n",
       "      height: 32px;\n",
       "      padding: 0 0 0 0;\n",
       "      width: 32px;\n",
       "    }\n",
       "\n",
       "    .colab-df-convert:hover {\n",
       "      background-color: #E2EBFA;\n",
       "      box-shadow: 0px 1px 2px rgba(60, 64, 67, 0.3), 0px 1px 3px 1px rgba(60, 64, 67, 0.15);\n",
       "      fill: #174EA6;\n",
       "    }\n",
       "\n",
       "    [theme=dark] .colab-df-convert {\n",
       "      background-color: #3B4455;\n",
       "      fill: #D2E3FC;\n",
       "    }\n",
       "\n",
       "    [theme=dark] .colab-df-convert:hover {\n",
       "      background-color: #434B5C;\n",
       "      box-shadow: 0px 1px 3px 1px rgba(0, 0, 0, 0.15);\n",
       "      filter: drop-shadow(0px 1px 2px rgba(0, 0, 0, 0.3));\n",
       "      fill: #FFFFFF;\n",
       "    }\n",
       "  </style>\n",
       "\n",
       "      <script>\n",
       "        const buttonEl =\n",
       "          document.querySelector('#df-d5878ff1-e5f6-49cd-8d6b-80ee89b915ba button.colab-df-convert');\n",
       "        buttonEl.style.display =\n",
       "          google.colab.kernel.accessAllowed ? 'block' : 'none';\n",
       "\n",
       "        async function convertToInteractive(key) {\n",
       "          const element = document.querySelector('#df-d5878ff1-e5f6-49cd-8d6b-80ee89b915ba');\n",
       "          const dataTable =\n",
       "            await google.colab.kernel.invokeFunction('convertToInteractive',\n",
       "                                                     [key], {});\n",
       "          if (!dataTable) return;\n",
       "\n",
       "          const docLinkHtml = 'Like what you see? Visit the ' +\n",
       "            '<a target=\"_blank\" href=https://colab.research.google.com/notebooks/data_table.ipynb>data table notebook</a>'\n",
       "            + ' to learn more about interactive tables.';\n",
       "          element.innerHTML = '';\n",
       "          dataTable['output_type'] = 'display_data';\n",
       "          await google.colab.output.renderOutput(dataTable, element);\n",
       "          const docLink = document.createElement('div');\n",
       "          docLink.innerHTML = docLinkHtml;\n",
       "          element.appendChild(docLink);\n",
       "        }\n",
       "      </script>\n",
       "    </div>\n",
       "  </div>\n",
       "  "
      ],
      "text/plain": [
       "                          normal  toxic\n",
       "disbalance_bert comments    2511   2511"
      ]
     },
     "metadata": {},
     "output_type": "display_data"
    }
   ],
   "source": [
    "unique_class(X_y_bert['y_train'].value_counts(), \n",
    "             X_y_bert['y_train_balance'].value_counts(),\n",
    "             name_1='balance_Bert', name_2='disbalance_bert')"
   ]
  },
  {
   "cell_type": "code",
   "execution_count": 47,
   "metadata": {
    "colab": {
     "base_uri": "https://localhost:8080/",
     "height": 269
    },
    "id": "oLrSV_G4oz1b",
    "outputId": "a215175f-6815-4377-882e-b44b606739b3",
    "scrolled": true
   },
   "outputs": [
    {
     "data": {
      "text/html": [
       "\n",
       "  <div id=\"df-27751ea5-768e-44ac-a62d-d663609e7f25\">\n",
       "    <div class=\"colab-df-container\">\n",
       "      <div>\n",
       "<style scoped>\n",
       "    .dataframe tbody tr th:only-of-type {\n",
       "        vertical-align: middle;\n",
       "    }\n",
       "\n",
       "    .dataframe tbody tr th {\n",
       "        vertical-align: top;\n",
       "    }\n",
       "\n",
       "    .dataframe thead th {\n",
       "        text-align: right;\n",
       "    }\n",
       "</style>\n",
       "<table border=\"1\" class=\"dataframe\">\n",
       "  <thead>\n",
       "    <tr style=\"text-align: right;\">\n",
       "      <th></th>\n",
       "      <th>model</th>\n",
       "      <th>f1</th>\n",
       "    </tr>\n",
       "  </thead>\n",
       "  <tbody>\n",
       "    <tr>\n",
       "      <th>0</th>\n",
       "      <td>disbalance LogisticRegression</td>\n",
       "      <td>0.74</td>\n",
       "    </tr>\n",
       "    <tr>\n",
       "      <th>1</th>\n",
       "      <td>balance LogisticRegression</td>\n",
       "      <td>0.66</td>\n",
       "    </tr>\n",
       "    <tr>\n",
       "      <th>2</th>\n",
       "      <td>disbalance CatBoostClassifier</td>\n",
       "      <td>0.73</td>\n",
       "    </tr>\n",
       "    <tr>\n",
       "      <th>3</th>\n",
       "      <td>balance CatBoostClassifier</td>\n",
       "      <td>0.67</td>\n",
       "    </tr>\n",
       "    <tr>\n",
       "      <th>4</th>\n",
       "      <td>disbalance DecisionTreeClassifier</td>\n",
       "      <td>0.62</td>\n",
       "    </tr>\n",
       "    <tr>\n",
       "      <th>5</th>\n",
       "      <td>balance DecisionTreeClassifier</td>\n",
       "      <td>0.57</td>\n",
       "    </tr>\n",
       "    <tr>\n",
       "      <th>6</th>\n",
       "      <td>BERT_disbalance LogisticRegression</td>\n",
       "      <td>0.89</td>\n",
       "    </tr>\n",
       "  </tbody>\n",
       "</table>\n",
       "</div>\n",
       "      <button class=\"colab-df-convert\" onclick=\"convertToInteractive('df-27751ea5-768e-44ac-a62d-d663609e7f25')\"\n",
       "              title=\"Convert this dataframe to an interactive table.\"\n",
       "              style=\"display:none;\">\n",
       "        \n",
       "  <svg xmlns=\"http://www.w3.org/2000/svg\" height=\"24px\"viewBox=\"0 0 24 24\"\n",
       "       width=\"24px\">\n",
       "    <path d=\"M0 0h24v24H0V0z\" fill=\"none\"/>\n",
       "    <path d=\"M18.56 5.44l.94 2.06.94-2.06 2.06-.94-2.06-.94-.94-2.06-.94 2.06-2.06.94zm-11 1L8.5 8.5l.94-2.06 2.06-.94-2.06-.94L8.5 2.5l-.94 2.06-2.06.94zm10 10l.94 2.06.94-2.06 2.06-.94-2.06-.94-.94-2.06-.94 2.06-2.06.94z\"/><path d=\"M17.41 7.96l-1.37-1.37c-.4-.4-.92-.59-1.43-.59-.52 0-1.04.2-1.43.59L10.3 9.45l-7.72 7.72c-.78.78-.78 2.05 0 2.83L4 21.41c.39.39.9.59 1.41.59.51 0 1.02-.2 1.41-.59l7.78-7.78 2.81-2.81c.8-.78.8-2.07 0-2.86zM5.41 20L4 18.59l7.72-7.72 1.47 1.35L5.41 20z\"/>\n",
       "  </svg>\n",
       "      </button>\n",
       "      \n",
       "  <style>\n",
       "    .colab-df-container {\n",
       "      display:flex;\n",
       "      flex-wrap:wrap;\n",
       "      gap: 12px;\n",
       "    }\n",
       "\n",
       "    .colab-df-convert {\n",
       "      background-color: #E8F0FE;\n",
       "      border: none;\n",
       "      border-radius: 50%;\n",
       "      cursor: pointer;\n",
       "      display: none;\n",
       "      fill: #1967D2;\n",
       "      height: 32px;\n",
       "      padding: 0 0 0 0;\n",
       "      width: 32px;\n",
       "    }\n",
       "\n",
       "    .colab-df-convert:hover {\n",
       "      background-color: #E2EBFA;\n",
       "      box-shadow: 0px 1px 2px rgba(60, 64, 67, 0.3), 0px 1px 3px 1px rgba(60, 64, 67, 0.15);\n",
       "      fill: #174EA6;\n",
       "    }\n",
       "\n",
       "    [theme=dark] .colab-df-convert {\n",
       "      background-color: #3B4455;\n",
       "      fill: #D2E3FC;\n",
       "    }\n",
       "\n",
       "    [theme=dark] .colab-df-convert:hover {\n",
       "      background-color: #434B5C;\n",
       "      box-shadow: 0px 1px 3px 1px rgba(0, 0, 0, 0.15);\n",
       "      filter: drop-shadow(0px 1px 2px rgba(0, 0, 0, 0.3));\n",
       "      fill: #FFFFFF;\n",
       "    }\n",
       "  </style>\n",
       "\n",
       "      <script>\n",
       "        const buttonEl =\n",
       "          document.querySelector('#df-27751ea5-768e-44ac-a62d-d663609e7f25 button.colab-df-convert');\n",
       "        buttonEl.style.display =\n",
       "          google.colab.kernel.accessAllowed ? 'block' : 'none';\n",
       "\n",
       "        async function convertToInteractive(key) {\n",
       "          const element = document.querySelector('#df-27751ea5-768e-44ac-a62d-d663609e7f25');\n",
       "          const dataTable =\n",
       "            await google.colab.kernel.invokeFunction('convertToInteractive',\n",
       "                                                     [key], {});\n",
       "          if (!dataTable) return;\n",
       "\n",
       "          const docLinkHtml = 'Like what you see? Visit the ' +\n",
       "            '<a target=\"_blank\" href=https://colab.research.google.com/notebooks/data_table.ipynb>data table notebook</a>'\n",
       "            + ' to learn more about interactive tables.';\n",
       "          element.innerHTML = '';\n",
       "          dataTable['output_type'] = 'display_data';\n",
       "          await google.colab.output.renderOutput(dataTable, element);\n",
       "          const docLink = document.createElement('div');\n",
       "          docLink.innerHTML = docLinkHtml;\n",
       "          element.appendChild(docLink);\n",
       "        }\n",
       "      </script>\n",
       "    </div>\n",
       "  </div>\n",
       "  "
      ],
      "text/plain": [
       "                                model    f1\n",
       "0       disbalance LogisticRegression  0.74\n",
       "1          balance LogisticRegression  0.66\n",
       "2       disbalance CatBoostClassifier  0.73\n",
       "3          balance CatBoostClassifier  0.67\n",
       "4   disbalance DecisionTreeClassifier  0.62\n",
       "5      balance DecisionTreeClassifier  0.57\n",
       "6  BERT_disbalance LogisticRegression  0.89"
      ]
     },
     "metadata": {},
     "output_type": "display_data"
    }
   ],
   "source": [
    "#Обучим модель на дисбалансированных данных из Bert\n",
    "df_res.loc[df_res.shape[0]] = get_result(\n",
    "    LogisticRegression(C=4, max_iter=200, penalty='l1', solver='liblinear'), \n",
    "    X_y_bert, fit=True,\n",
    "    bert_name= 'BERT_disbalance'\n",
    ")\n",
    "display(df_res)"
   ]
  },
  {
   "cell_type": "code",
   "execution_count": 48,
   "metadata": {
    "colab": {
     "base_uri": "https://localhost:8080/",
     "height": 300
    },
    "id": "_dycG93Foz1c",
    "outputId": "2d888f79-0922-4b85-8f85-40da8acb6b73",
    "scrolled": true
   },
   "outputs": [
    {
     "data": {
      "text/html": [
       "\n",
       "  <div id=\"df-674965f5-eae3-4f6d-aaed-13773e913c39\">\n",
       "    <div class=\"colab-df-container\">\n",
       "      <div>\n",
       "<style scoped>\n",
       "    .dataframe tbody tr th:only-of-type {\n",
       "        vertical-align: middle;\n",
       "    }\n",
       "\n",
       "    .dataframe tbody tr th {\n",
       "        vertical-align: top;\n",
       "    }\n",
       "\n",
       "    .dataframe thead th {\n",
       "        text-align: right;\n",
       "    }\n",
       "</style>\n",
       "<table border=\"1\" class=\"dataframe\">\n",
       "  <thead>\n",
       "    <tr style=\"text-align: right;\">\n",
       "      <th></th>\n",
       "      <th>model</th>\n",
       "      <th>f1</th>\n",
       "    </tr>\n",
       "  </thead>\n",
       "  <tbody>\n",
       "    <tr>\n",
       "      <th>0</th>\n",
       "      <td>disbalance LogisticRegression</td>\n",
       "      <td>0.74</td>\n",
       "    </tr>\n",
       "    <tr>\n",
       "      <th>1</th>\n",
       "      <td>balance LogisticRegression</td>\n",
       "      <td>0.66</td>\n",
       "    </tr>\n",
       "    <tr>\n",
       "      <th>2</th>\n",
       "      <td>disbalance CatBoostClassifier</td>\n",
       "      <td>0.73</td>\n",
       "    </tr>\n",
       "    <tr>\n",
       "      <th>3</th>\n",
       "      <td>balance CatBoostClassifier</td>\n",
       "      <td>0.67</td>\n",
       "    </tr>\n",
       "    <tr>\n",
       "      <th>4</th>\n",
       "      <td>disbalance DecisionTreeClassifier</td>\n",
       "      <td>0.62</td>\n",
       "    </tr>\n",
       "    <tr>\n",
       "      <th>5</th>\n",
       "      <td>balance DecisionTreeClassifier</td>\n",
       "      <td>0.57</td>\n",
       "    </tr>\n",
       "    <tr>\n",
       "      <th>6</th>\n",
       "      <td>BERT_disbalance LogisticRegression</td>\n",
       "      <td>0.89</td>\n",
       "    </tr>\n",
       "    <tr>\n",
       "      <th>7</th>\n",
       "      <td>BERT_balance LogisticRegression</td>\n",
       "      <td>0.86</td>\n",
       "    </tr>\n",
       "  </tbody>\n",
       "</table>\n",
       "</div>\n",
       "      <button class=\"colab-df-convert\" onclick=\"convertToInteractive('df-674965f5-eae3-4f6d-aaed-13773e913c39')\"\n",
       "              title=\"Convert this dataframe to an interactive table.\"\n",
       "              style=\"display:none;\">\n",
       "        \n",
       "  <svg xmlns=\"http://www.w3.org/2000/svg\" height=\"24px\"viewBox=\"0 0 24 24\"\n",
       "       width=\"24px\">\n",
       "    <path d=\"M0 0h24v24H0V0z\" fill=\"none\"/>\n",
       "    <path d=\"M18.56 5.44l.94 2.06.94-2.06 2.06-.94-2.06-.94-.94-2.06-.94 2.06-2.06.94zm-11 1L8.5 8.5l.94-2.06 2.06-.94-2.06-.94L8.5 2.5l-.94 2.06-2.06.94zm10 10l.94 2.06.94-2.06 2.06-.94-2.06-.94-.94-2.06-.94 2.06-2.06.94z\"/><path d=\"M17.41 7.96l-1.37-1.37c-.4-.4-.92-.59-1.43-.59-.52 0-1.04.2-1.43.59L10.3 9.45l-7.72 7.72c-.78.78-.78 2.05 0 2.83L4 21.41c.39.39.9.59 1.41.59.51 0 1.02-.2 1.41-.59l7.78-7.78 2.81-2.81c.8-.78.8-2.07 0-2.86zM5.41 20L4 18.59l7.72-7.72 1.47 1.35L5.41 20z\"/>\n",
       "  </svg>\n",
       "      </button>\n",
       "      \n",
       "  <style>\n",
       "    .colab-df-container {\n",
       "      display:flex;\n",
       "      flex-wrap:wrap;\n",
       "      gap: 12px;\n",
       "    }\n",
       "\n",
       "    .colab-df-convert {\n",
       "      background-color: #E8F0FE;\n",
       "      border: none;\n",
       "      border-radius: 50%;\n",
       "      cursor: pointer;\n",
       "      display: none;\n",
       "      fill: #1967D2;\n",
       "      height: 32px;\n",
       "      padding: 0 0 0 0;\n",
       "      width: 32px;\n",
       "    }\n",
       "\n",
       "    .colab-df-convert:hover {\n",
       "      background-color: #E2EBFA;\n",
       "      box-shadow: 0px 1px 2px rgba(60, 64, 67, 0.3), 0px 1px 3px 1px rgba(60, 64, 67, 0.15);\n",
       "      fill: #174EA6;\n",
       "    }\n",
       "\n",
       "    [theme=dark] .colab-df-convert {\n",
       "      background-color: #3B4455;\n",
       "      fill: #D2E3FC;\n",
       "    }\n",
       "\n",
       "    [theme=dark] .colab-df-convert:hover {\n",
       "      background-color: #434B5C;\n",
       "      box-shadow: 0px 1px 3px 1px rgba(0, 0, 0, 0.15);\n",
       "      filter: drop-shadow(0px 1px 2px rgba(0, 0, 0, 0.3));\n",
       "      fill: #FFFFFF;\n",
       "    }\n",
       "  </style>\n",
       "\n",
       "      <script>\n",
       "        const buttonEl =\n",
       "          document.querySelector('#df-674965f5-eae3-4f6d-aaed-13773e913c39 button.colab-df-convert');\n",
       "        buttonEl.style.display =\n",
       "          google.colab.kernel.accessAllowed ? 'block' : 'none';\n",
       "\n",
       "        async function convertToInteractive(key) {\n",
       "          const element = document.querySelector('#df-674965f5-eae3-4f6d-aaed-13773e913c39');\n",
       "          const dataTable =\n",
       "            await google.colab.kernel.invokeFunction('convertToInteractive',\n",
       "                                                     [key], {});\n",
       "          if (!dataTable) return;\n",
       "\n",
       "          const docLinkHtml = 'Like what you see? Visit the ' +\n",
       "            '<a target=\"_blank\" href=https://colab.research.google.com/notebooks/data_table.ipynb>data table notebook</a>'\n",
       "            + ' to learn more about interactive tables.';\n",
       "          element.innerHTML = '';\n",
       "          dataTable['output_type'] = 'display_data';\n",
       "          await google.colab.output.renderOutput(dataTable, element);\n",
       "          const docLink = document.createElement('div');\n",
       "          docLink.innerHTML = docLinkHtml;\n",
       "          element.appendChild(docLink);\n",
       "        }\n",
       "      </script>\n",
       "    </div>\n",
       "  </div>\n",
       "  "
      ],
      "text/plain": [
       "                                model    f1\n",
       "0       disbalance LogisticRegression  0.74\n",
       "1          balance LogisticRegression  0.66\n",
       "2       disbalance CatBoostClassifier  0.73\n",
       "3          balance CatBoostClassifier  0.67\n",
       "4   disbalance DecisionTreeClassifier  0.62\n",
       "5      balance DecisionTreeClassifier  0.57\n",
       "6  BERT_disbalance LogisticRegression  0.89\n",
       "7     BERT_balance LogisticRegression  0.86"
      ]
     },
     "metadata": {},
     "output_type": "display_data"
    }
   ],
   "source": [
    "#Обучим модель на сбалансированных данных из Bert\n",
    "df_res.loc[df_res.shape[0]] = get_result(\n",
    "    LogisticRegression(C=4, max_iter=200, penalty='l1', solver='liblinear'), \n",
    "    X_y_bert, fit=True,\n",
    "    bert_name= 'BERT_balance',\n",
    "    balance=True\n",
    ")\n",
    "display(df_res)"
   ]
  },
  {
   "cell_type": "code",
   "execution_count": 49,
   "metadata": {
    "colab": {
     "base_uri": "https://localhost:8080/",
     "height": 300
    },
    "id": "9OZXUyHpoz1c",
    "outputId": "1aeff6d1-b60b-4e12-e2e4-ef77e1a8125b"
   },
   "outputs": [
    {
     "data": {
      "text/html": [
       "\n",
       "  <div id=\"df-3da5af60-d727-4efa-a5f2-5972d4ce7b6b\">\n",
       "    <div class=\"colab-df-container\">\n",
       "      <div>\n",
       "<style scoped>\n",
       "    .dataframe tbody tr th:only-of-type {\n",
       "        vertical-align: middle;\n",
       "    }\n",
       "\n",
       "    .dataframe tbody tr th {\n",
       "        vertical-align: top;\n",
       "    }\n",
       "\n",
       "    .dataframe thead th {\n",
       "        text-align: right;\n",
       "    }\n",
       "</style>\n",
       "<table border=\"1\" class=\"dataframe\">\n",
       "  <thead>\n",
       "    <tr style=\"text-align: right;\">\n",
       "      <th></th>\n",
       "      <th>model</th>\n",
       "      <th>f1</th>\n",
       "    </tr>\n",
       "  </thead>\n",
       "  <tbody>\n",
       "    <tr>\n",
       "      <th>6</th>\n",
       "      <td>BERT_disbalance LogisticRegression</td>\n",
       "      <td>0.89</td>\n",
       "    </tr>\n",
       "    <tr>\n",
       "      <th>7</th>\n",
       "      <td>BERT_balance LogisticRegression</td>\n",
       "      <td>0.86</td>\n",
       "    </tr>\n",
       "    <tr>\n",
       "      <th>0</th>\n",
       "      <td>disbalance LogisticRegression</td>\n",
       "      <td>0.74</td>\n",
       "    </tr>\n",
       "    <tr>\n",
       "      <th>2</th>\n",
       "      <td>disbalance CatBoostClassifier</td>\n",
       "      <td>0.73</td>\n",
       "    </tr>\n",
       "    <tr>\n",
       "      <th>3</th>\n",
       "      <td>balance CatBoostClassifier</td>\n",
       "      <td>0.67</td>\n",
       "    </tr>\n",
       "    <tr>\n",
       "      <th>1</th>\n",
       "      <td>balance LogisticRegression</td>\n",
       "      <td>0.66</td>\n",
       "    </tr>\n",
       "    <tr>\n",
       "      <th>4</th>\n",
       "      <td>disbalance DecisionTreeClassifier</td>\n",
       "      <td>0.62</td>\n",
       "    </tr>\n",
       "    <tr>\n",
       "      <th>5</th>\n",
       "      <td>balance DecisionTreeClassifier</td>\n",
       "      <td>0.57</td>\n",
       "    </tr>\n",
       "  </tbody>\n",
       "</table>\n",
       "</div>\n",
       "      <button class=\"colab-df-convert\" onclick=\"convertToInteractive('df-3da5af60-d727-4efa-a5f2-5972d4ce7b6b')\"\n",
       "              title=\"Convert this dataframe to an interactive table.\"\n",
       "              style=\"display:none;\">\n",
       "        \n",
       "  <svg xmlns=\"http://www.w3.org/2000/svg\" height=\"24px\"viewBox=\"0 0 24 24\"\n",
       "       width=\"24px\">\n",
       "    <path d=\"M0 0h24v24H0V0z\" fill=\"none\"/>\n",
       "    <path d=\"M18.56 5.44l.94 2.06.94-2.06 2.06-.94-2.06-.94-.94-2.06-.94 2.06-2.06.94zm-11 1L8.5 8.5l.94-2.06 2.06-.94-2.06-.94L8.5 2.5l-.94 2.06-2.06.94zm10 10l.94 2.06.94-2.06 2.06-.94-2.06-.94-.94-2.06-.94 2.06-2.06.94z\"/><path d=\"M17.41 7.96l-1.37-1.37c-.4-.4-.92-.59-1.43-.59-.52 0-1.04.2-1.43.59L10.3 9.45l-7.72 7.72c-.78.78-.78 2.05 0 2.83L4 21.41c.39.39.9.59 1.41.59.51 0 1.02-.2 1.41-.59l7.78-7.78 2.81-2.81c.8-.78.8-2.07 0-2.86zM5.41 20L4 18.59l7.72-7.72 1.47 1.35L5.41 20z\"/>\n",
       "  </svg>\n",
       "      </button>\n",
       "      \n",
       "  <style>\n",
       "    .colab-df-container {\n",
       "      display:flex;\n",
       "      flex-wrap:wrap;\n",
       "      gap: 12px;\n",
       "    }\n",
       "\n",
       "    .colab-df-convert {\n",
       "      background-color: #E8F0FE;\n",
       "      border: none;\n",
       "      border-radius: 50%;\n",
       "      cursor: pointer;\n",
       "      display: none;\n",
       "      fill: #1967D2;\n",
       "      height: 32px;\n",
       "      padding: 0 0 0 0;\n",
       "      width: 32px;\n",
       "    }\n",
       "\n",
       "    .colab-df-convert:hover {\n",
       "      background-color: #E2EBFA;\n",
       "      box-shadow: 0px 1px 2px rgba(60, 64, 67, 0.3), 0px 1px 3px 1px rgba(60, 64, 67, 0.15);\n",
       "      fill: #174EA6;\n",
       "    }\n",
       "\n",
       "    [theme=dark] .colab-df-convert {\n",
       "      background-color: #3B4455;\n",
       "      fill: #D2E3FC;\n",
       "    }\n",
       "\n",
       "    [theme=dark] .colab-df-convert:hover {\n",
       "      background-color: #434B5C;\n",
       "      box-shadow: 0px 1px 3px 1px rgba(0, 0, 0, 0.15);\n",
       "      filter: drop-shadow(0px 1px 2px rgba(0, 0, 0, 0.3));\n",
       "      fill: #FFFFFF;\n",
       "    }\n",
       "  </style>\n",
       "\n",
       "      <script>\n",
       "        const buttonEl =\n",
       "          document.querySelector('#df-3da5af60-d727-4efa-a5f2-5972d4ce7b6b button.colab-df-convert');\n",
       "        buttonEl.style.display =\n",
       "          google.colab.kernel.accessAllowed ? 'block' : 'none';\n",
       "\n",
       "        async function convertToInteractive(key) {\n",
       "          const element = document.querySelector('#df-3da5af60-d727-4efa-a5f2-5972d4ce7b6b');\n",
       "          const dataTable =\n",
       "            await google.colab.kernel.invokeFunction('convertToInteractive',\n",
       "                                                     [key], {});\n",
       "          if (!dataTable) return;\n",
       "\n",
       "          const docLinkHtml = 'Like what you see? Visit the ' +\n",
       "            '<a target=\"_blank\" href=https://colab.research.google.com/notebooks/data_table.ipynb>data table notebook</a>'\n",
       "            + ' to learn more about interactive tables.';\n",
       "          element.innerHTML = '';\n",
       "          dataTable['output_type'] = 'display_data';\n",
       "          await google.colab.output.renderOutput(dataTable, element);\n",
       "          const docLink = document.createElement('div');\n",
       "          docLink.innerHTML = docLinkHtml;\n",
       "          element.appendChild(docLink);\n",
       "        }\n",
       "      </script>\n",
       "    </div>\n",
       "  </div>\n",
       "  "
      ],
      "text/plain": [
       "                                model    f1\n",
       "6  BERT_disbalance LogisticRegression  0.89\n",
       "7     BERT_balance LogisticRegression  0.86\n",
       "0       disbalance LogisticRegression  0.74\n",
       "2       disbalance CatBoostClassifier  0.73\n",
       "3          balance CatBoostClassifier  0.67\n",
       "1          balance LogisticRegression  0.66\n",
       "4   disbalance DecisionTreeClassifier  0.62\n",
       "5      balance DecisionTreeClassifier  0.57"
      ]
     },
     "metadata": {},
     "output_type": "display_data"
    }
   ],
   "source": [
    "display(df_res.sort_values('f1', ascending=False))"
   ]
  },
  {
   "cell_type": "markdown",
   "metadata": {
    "id": "4pgpNiwXoz1c"
   },
   "source": [
    "Лучший результат показала Логистическая регрессия обученная на сбалансированных данных обработанные предобученной нейроной модели `**BERT**`. CatBoostClassifier и LogisticRegression метода `TF-IDF` показали не плохие реузльтаты на валидационной выборке, но серьезно уступили методу `Bert`. Проверим результат на тестовых данных. "
   ]
  },
  {
   "cell_type": "markdown",
   "metadata": {
    "id": "skhvmyYPoz1c"
   },
   "source": [
    "## Тестирование"
   ]
  },
  {
   "cell_type": "markdown",
   "metadata": {
    "id": "Yg9vXUOuoz1c"
   },
   "source": [
    "Протестируем лучшую модель на тестовых данных"
   ]
  },
  {
   "cell_type": "code",
   "execution_count": 50,
   "metadata": {
    "colab": {
     "base_uri": "https://localhost:8080/"
    },
    "id": "6EIIbkFZoz1c",
    "outputId": "2d645e57-7169-4520-8ef6-bc631d0b9dcf",
    "scrolled": true
   },
   "outputs": [
    {
     "name": "stdout",
     "output_type": "stream",
     "text": [
      "f1 на сбалансированных тестовых данных -  LogisticRegression 0.92\n"
     ]
    }
   ],
   "source": [
    "print('f1 на сбалансированных тестовых данных -', \n",
    "      *get_result(LogisticRegression(C=5, max_iter=30, penalty='l1', solver='liblinear'), \n",
    "                  X_y_bert, fit=True, test='test'))"
   ]
  },
  {
   "cell_type": "markdown",
   "metadata": {
    "id": "IMz5l2Ueoz1c"
   },
   "source": [
    "На тестовых данных результат чуть выше чем на валидационных данных. Задача выполнена метрика `f1 более 0.75.`"
   ]
  },
  {
   "cell_type": "markdown",
   "metadata": {
    "id": "SBEu5iyXoz1d"
   },
   "source": [
    "## Выводы"
   ]
  },
  {
   "cell_type": "markdown",
   "metadata": {
    "id": "Vk00aDRKoz1d"
   },
   "source": [
    "Данное исследование было реализовано, с целью определения токсичность отзывов, где основным критерием была величина метрики `f1`\n",
    "\n",
    "Входные данные - данные содержат 159292 отзыва в разметкой бинарного класса, где 0 это нормальный отзыв, 1 токсичный отзыв.  \n",
    "\n",
    "**Цель проекта**\n",
    "- Подготовить данные\n",
    "- Провести анализ выборки и содержания текста\n",
    "- Настроить и обучить разные модели.\n",
    "- Протестировать модели на тестовой выборке и получить оценку `f1` не менее 0.75\n",
    "\n",
    "\n",
    "**В ходе исследования:**\n",
    "- Была изучена выборка с отзывами, в ходе которой был однаружен дисбаланс в количестве токсичных отзывов.\n",
    "- Было принято решение сравнить дисбалансированную выборку и балансированную выборку и протестировать оба варианта для определения лучшего.\n",
    "- Были обработаны данные для дальнейшего обучения моделей отдельно для метода `TF-IDF и Bert`. Не настроенная модель Логистической регрессии показала оценку `f1` на сбаланисрованной выборке методом downsampling выше, чем дисбалансированная выборка. \n",
    "- Были подобраны гипперпараметры для моделей на основании тренировочных данных для каждой модели и проведена проверка метрики `f1` на валидационных данных сбалансированной и дисбаланисрованной выборках по `TF-IDF`\n",
    "- Были получены вектора с 768 полями с помощью предобученно модели нейроной сети `Bert` и протестированны на Логистической регресии. \n",
    "\n",
    "**В итоге:**   \n",
    "\n",
    "Было выявлено, то, что сбаласнированная выборка показывает более высоку оценку `f1`, как при импользовании метода `TF-IDF`, так и использования `Bert`.  \n",
    "Простая модель `LogisticRegression`, показала лйчший результат на валидационной выборкепри методе `TF-IDF`. Этот же решатель показал очень высокую оценку более `0,8` на данных обработанных с помощью нейронной модели `Bert`.  \n",
    "Можно сделать вывод, что предобученная модель `Bert - toxic-bert`, очень хорошо обучена на отзывах и хорошо разделяет отзывы на тксичные и не токсичные. "
   ]
  },
  {
   "cell_type": "code",
   "execution_count": null,
   "metadata": {
    "id": "hEZZA8qPoz1d"
   },
   "outputs": [],
   "source": []
  }
 ],
 "metadata": {
  "ExecuteTimeLog": [
   {
    "duration": 436,
    "start_time": "2022-12-06T19:56:38.673Z"
   },
   {
    "duration": 1502,
    "start_time": "2022-12-06T19:57:14.781Z"
   },
   {
    "duration": 895,
    "start_time": "2022-12-06T19:57:20.819Z"
   },
   {
    "duration": 868,
    "start_time": "2022-12-06T19:57:43.331Z"
   },
   {
    "duration": 871,
    "start_time": "2022-12-06T19:58:17.638Z"
   },
   {
    "duration": 446,
    "start_time": "2022-12-06T19:58:27.178Z"
   },
   {
    "duration": 950,
    "start_time": "2022-12-06T19:58:28.248Z"
   },
   {
    "duration": 852,
    "start_time": "2022-12-06T19:58:38.330Z"
   },
   {
    "duration": 836,
    "start_time": "2022-12-06T19:58:56.371Z"
   },
   {
    "duration": 12,
    "start_time": "2022-12-06T19:59:10.890Z"
   },
   {
    "duration": 39,
    "start_time": "2022-12-06T19:59:18.124Z"
   },
   {
    "duration": 7,
    "start_time": "2022-12-06T19:59:58.644Z"
   },
   {
    "duration": 14,
    "start_time": "2022-12-06T20:01:03.660Z"
   },
   {
    "duration": 10,
    "start_time": "2022-12-06T20:01:18.869Z"
   },
   {
    "duration": 14,
    "start_time": "2022-12-06T20:01:26.141Z"
   },
   {
    "duration": 1127,
    "start_time": "2022-12-06T20:03:04.525Z"
   },
   {
    "duration": 103,
    "start_time": "2022-12-06T20:03:44.214Z"
   },
   {
    "duration": 158,
    "start_time": "2022-12-06T20:03:51.128Z"
   },
   {
    "duration": 19,
    "start_time": "2022-12-06T20:07:00.465Z"
   },
   {
    "duration": 55,
    "start_time": "2022-12-06T20:07:45.098Z"
   },
   {
    "duration": 31,
    "start_time": "2022-12-06T20:07:57.945Z"
   },
   {
    "duration": 21,
    "start_time": "2022-12-06T20:08:54.971Z"
   },
   {
    "duration": 69,
    "start_time": "2022-12-06T20:14:40.487Z"
   },
   {
    "duration": 19,
    "start_time": "2022-12-06T20:14:57.725Z"
   },
   {
    "duration": 10,
    "start_time": "2022-12-06T20:15:25.365Z"
   },
   {
    "duration": 40,
    "start_time": "2022-12-06T20:15:45.737Z"
   },
   {
    "duration": 4251,
    "start_time": "2022-12-06T20:17:13.032Z"
   },
   {
    "duration": 7,
    "start_time": "2022-12-06T20:17:55.231Z"
   },
   {
    "duration": 8,
    "start_time": "2022-12-06T20:19:05.393Z"
   },
   {
    "duration": 7,
    "start_time": "2022-12-06T20:19:09.416Z"
   },
   {
    "duration": 4946,
    "start_time": "2022-12-06T20:19:20.785Z"
   },
   {
    "duration": 44,
    "start_time": "2022-12-06T20:21:09.130Z"
   },
   {
    "duration": 18,
    "start_time": "2022-12-06T20:21:14.922Z"
   },
   {
    "duration": 18,
    "start_time": "2022-12-06T20:21:23.341Z"
   },
   {
    "duration": 12,
    "start_time": "2022-12-06T20:22:25.658Z"
   },
   {
    "duration": 7,
    "start_time": "2022-12-06T20:22:30.854Z"
   },
   {
    "duration": 19,
    "start_time": "2022-12-06T20:22:42.619Z"
   },
   {
    "duration": 5196,
    "start_time": "2022-12-06T20:22:47.851Z"
   },
   {
    "duration": 6,
    "start_time": "2022-12-06T20:24:13.467Z"
   },
   {
    "duration": 18,
    "start_time": "2022-12-06T20:24:58.402Z"
   },
   {
    "duration": 72,
    "start_time": "2022-12-06T20:25:39.020Z"
   },
   {
    "duration": 1673,
    "start_time": "2022-12-06T20:25:43.999Z"
   },
   {
    "duration": 1855,
    "start_time": "2022-12-06T20:25:45.674Z"
   },
   {
    "duration": 48,
    "start_time": "2022-12-06T20:25:47.531Z"
   },
   {
    "duration": 17,
    "start_time": "2022-12-06T20:25:47.588Z"
   },
   {
    "duration": 23,
    "start_time": "2022-12-06T20:25:47.608Z"
   },
   {
    "duration": 11,
    "start_time": "2022-12-06T20:25:47.633Z"
   },
   {
    "duration": 26,
    "start_time": "2022-12-06T20:25:47.646Z"
   },
   {
    "duration": 4,
    "start_time": "2022-12-06T20:27:00.256Z"
   },
   {
    "duration": 4940,
    "start_time": "2022-12-06T20:27:08.079Z"
   },
   {
    "duration": 4,
    "start_time": "2022-12-06T20:27:26.990Z"
   },
   {
    "duration": 733,
    "start_time": "2022-12-06T20:27:41.438Z"
   },
   {
    "duration": 10,
    "start_time": "2022-12-06T20:27:47.318Z"
   },
   {
    "duration": 108,
    "start_time": "2022-12-06T20:28:40.911Z"
   },
   {
    "duration": 56,
    "start_time": "2022-12-06T20:28:48.487Z"
   },
   {
    "duration": 4632,
    "start_time": "2022-12-06T20:28:56.654Z"
   },
   {
    "duration": 18,
    "start_time": "2022-12-06T20:30:13.184Z"
   },
   {
    "duration": 18,
    "start_time": "2022-12-06T20:30:19.679Z"
   },
   {
    "duration": 22,
    "start_time": "2022-12-06T20:30:32.368Z"
   },
   {
    "duration": 10,
    "start_time": "2022-12-06T20:32:36.097Z"
   },
   {
    "duration": 11,
    "start_time": "2022-12-06T20:33:06.817Z"
   },
   {
    "duration": 40,
    "start_time": "2022-12-06T20:34:20.467Z"
   },
   {
    "duration": 34,
    "start_time": "2022-12-06T20:34:35.194Z"
   },
   {
    "duration": 10,
    "start_time": "2022-12-06T20:35:53.716Z"
   },
   {
    "duration": 18,
    "start_time": "2022-12-06T20:36:50.524Z"
   },
   {
    "duration": 24,
    "start_time": "2022-12-06T20:37:12.916Z"
   },
   {
    "duration": 15,
    "start_time": "2022-12-06T20:37:54.166Z"
   },
   {
    "duration": 13,
    "start_time": "2022-12-06T20:38:02.813Z"
   },
   {
    "duration": 20,
    "start_time": "2022-12-06T20:38:15.117Z"
   },
   {
    "duration": 11,
    "start_time": "2022-12-06T20:39:54.974Z"
   },
   {
    "duration": 17,
    "start_time": "2022-12-06T20:40:00.941Z"
   },
   {
    "duration": 17,
    "start_time": "2022-12-06T20:40:06.742Z"
   },
   {
    "duration": 13,
    "start_time": "2022-12-06T20:40:16.853Z"
   },
   {
    "duration": 20,
    "start_time": "2022-12-06T20:40:43.159Z"
   },
   {
    "duration": 23,
    "start_time": "2022-12-06T20:41:06.607Z"
   },
   {
    "duration": 22,
    "start_time": "2022-12-06T20:41:10.775Z"
   },
   {
    "duration": 22,
    "start_time": "2022-12-06T20:41:50.903Z"
   },
   {
    "duration": 20,
    "start_time": "2022-12-06T20:42:03.665Z"
   },
   {
    "duration": 197,
    "start_time": "2022-12-06T20:42:21.183Z"
   },
   {
    "duration": 176,
    "start_time": "2022-12-06T20:44:59.881Z"
   },
   {
    "duration": 11,
    "start_time": "2022-12-06T20:45:24.280Z"
   },
   {
    "duration": 915,
    "start_time": "2022-12-06T20:47:10.027Z"
   },
   {
    "duration": 437,
    "start_time": "2022-12-06T20:47:21.771Z"
   },
   {
    "duration": 12,
    "start_time": "2022-12-06T20:47:34.043Z"
   },
   {
    "duration": 440,
    "start_time": "2022-12-06T20:47:40.458Z"
   },
   {
    "duration": 47,
    "start_time": "2022-12-07T17:28:05.790Z"
   },
   {
    "duration": 1453,
    "start_time": "2022-12-07T17:28:10.115Z"
   },
   {
    "duration": 1480,
    "start_time": "2022-12-07T17:28:11.570Z"
   },
   {
    "duration": 32,
    "start_time": "2022-12-07T17:28:13.052Z"
   },
   {
    "duration": 7,
    "start_time": "2022-12-07T17:28:13.086Z"
   },
   {
    "duration": 478,
    "start_time": "2022-12-07T17:28:13.094Z"
   },
   {
    "duration": 13,
    "start_time": "2022-12-07T17:32:14.844Z"
   },
   {
    "duration": 5,
    "start_time": "2022-12-07T17:33:19.664Z"
   },
   {
    "duration": 1206,
    "start_time": "2022-12-07T17:35:04.912Z"
   },
   {
    "duration": 1003,
    "start_time": "2022-12-07T17:35:06.120Z"
   },
   {
    "duration": 41,
    "start_time": "2022-12-07T17:35:07.126Z"
   },
   {
    "duration": 54,
    "start_time": "2022-12-07T17:39:50.930Z"
   },
   {
    "duration": 1168,
    "start_time": "2022-12-07T17:39:55.730Z"
   },
   {
    "duration": 880,
    "start_time": "2022-12-07T17:39:56.901Z"
   },
   {
    "duration": 31,
    "start_time": "2022-12-07T17:39:57.783Z"
   },
   {
    "duration": 19,
    "start_time": "2022-12-07T17:39:57.816Z"
   },
   {
    "duration": 440,
    "start_time": "2022-12-07T17:39:57.840Z"
   },
   {
    "duration": 68,
    "start_time": "2022-12-07T17:40:26.026Z"
   },
   {
    "duration": 11,
    "start_time": "2022-12-07T17:40:44.158Z"
   },
   {
    "duration": 14,
    "start_time": "2022-12-07T17:40:49.539Z"
   },
   {
    "duration": 104,
    "start_time": "2022-12-07T17:45:11.423Z"
   },
   {
    "duration": 84,
    "start_time": "2022-12-07T17:46:09.110Z"
   },
   {
    "duration": 97,
    "start_time": "2022-12-07T17:46:21.975Z"
   },
   {
    "duration": 98,
    "start_time": "2022-12-07T17:48:13.944Z"
   },
   {
    "duration": 89,
    "start_time": "2022-12-07T17:48:22.031Z"
   },
   {
    "duration": 95,
    "start_time": "2022-12-07T17:49:56.097Z"
   },
   {
    "duration": 83,
    "start_time": "2022-12-07T18:08:59.638Z"
   },
   {
    "duration": 82,
    "start_time": "2022-12-07T18:09:10.900Z"
   },
   {
    "duration": 3,
    "start_time": "2022-12-07T18:25:58.080Z"
   },
   {
    "duration": 802,
    "start_time": "2022-12-07T18:25:58.525Z"
   },
   {
    "duration": 32,
    "start_time": "2022-12-07T18:26:09.340Z"
   },
   {
    "duration": 4,
    "start_time": "2022-12-07T18:26:26.592Z"
   },
   {
    "duration": 834,
    "start_time": "2022-12-07T18:26:27.239Z"
   },
   {
    "duration": 33,
    "start_time": "2022-12-07T18:26:29.528Z"
   },
   {
    "duration": 163,
    "start_time": "2022-12-07T18:27:04.816Z"
   },
   {
    "duration": 85,
    "start_time": "2022-12-07T18:27:23.617Z"
   },
   {
    "duration": 89,
    "start_time": "2022-12-07T18:27:44.825Z"
   },
   {
    "duration": 100,
    "start_time": "2022-12-07T18:28:05.929Z"
   },
   {
    "duration": 12,
    "start_time": "2022-12-07T18:28:15.641Z"
   },
   {
    "duration": 10,
    "start_time": "2022-12-07T18:28:23.361Z"
   },
   {
    "duration": 11,
    "start_time": "2022-12-07T18:30:16.994Z"
   },
   {
    "duration": 11,
    "start_time": "2022-12-07T18:30:34.850Z"
   },
   {
    "duration": 15,
    "start_time": "2022-12-07T18:30:45.130Z"
   },
   {
    "duration": 40,
    "start_time": "2022-12-07T18:32:06.549Z"
   },
   {
    "duration": 11,
    "start_time": "2022-12-07T18:32:19.755Z"
   },
   {
    "duration": 11,
    "start_time": "2022-12-07T18:33:14.780Z"
   },
   {
    "duration": 90,
    "start_time": "2022-12-07T18:33:52.246Z"
   },
   {
    "duration": 96,
    "start_time": "2022-12-07T18:34:23.798Z"
   },
   {
    "duration": 91,
    "start_time": "2022-12-07T18:34:31.613Z"
   },
   {
    "duration": 90,
    "start_time": "2022-12-07T18:35:25.207Z"
   },
   {
    "duration": 104,
    "start_time": "2022-12-07T18:35:42.838Z"
   },
   {
    "duration": 16,
    "start_time": "2022-12-07T18:37:47.582Z"
   },
   {
    "duration": 233,
    "start_time": "2022-12-07T18:39:38.617Z"
   },
   {
    "duration": 185,
    "start_time": "2022-12-07T18:40:04.481Z"
   },
   {
    "duration": 752,
    "start_time": "2022-12-07T18:40:54.001Z"
   },
   {
    "duration": 783,
    "start_time": "2022-12-07T18:41:29.970Z"
   },
   {
    "duration": 859,
    "start_time": "2022-12-07T18:43:36.363Z"
   },
   {
    "duration": 825,
    "start_time": "2022-12-07T18:43:46.683Z"
   },
   {
    "duration": 223,
    "start_time": "2022-12-07T18:46:47.021Z"
   },
   {
    "duration": 210,
    "start_time": "2022-12-07T18:46:56.173Z"
   },
   {
    "duration": 300,
    "start_time": "2022-12-07T18:47:13.093Z"
   },
   {
    "duration": 4,
    "start_time": "2022-12-07T18:59:46.339Z"
   },
   {
    "duration": 809,
    "start_time": "2022-12-07T18:59:47.204Z"
   },
   {
    "duration": 33,
    "start_time": "2022-12-07T18:59:51.195Z"
   },
   {
    "duration": 3,
    "start_time": "2022-12-07T18:59:59.413Z"
   },
   {
    "duration": 801,
    "start_time": "2022-12-07T18:59:59.628Z"
   },
   {
    "duration": 30,
    "start_time": "2022-12-07T19:00:00.661Z"
   },
   {
    "duration": 11,
    "start_time": "2022-12-07T19:17:49.096Z"
   },
   {
    "duration": 363,
    "start_time": "2022-12-07T19:17:52.792Z"
   },
   {
    "duration": 40,
    "start_time": "2022-12-07T19:17:53.157Z"
   },
   {
    "duration": 4,
    "start_time": "2022-12-07T19:17:53.354Z"
   },
   {
    "duration": 3,
    "start_time": "2022-12-07T19:19:07.074Z"
   },
   {
    "duration": 12,
    "start_time": "2022-12-07T19:19:08.553Z"
   },
   {
    "duration": 11,
    "start_time": "2022-12-07T19:19:33.297Z"
   },
   {
    "duration": 4,
    "start_time": "2022-12-07T19:20:00.233Z"
   },
   {
    "duration": 252,
    "start_time": "2022-12-07T19:20:00.777Z"
   },
   {
    "duration": 4,
    "start_time": "2022-12-07T19:20:06.222Z"
   },
   {
    "duration": 783,
    "start_time": "2022-12-07T19:20:09.945Z"
   },
   {
    "duration": 15,
    "start_time": "2022-12-07T19:21:01.754Z"
   },
   {
    "duration": 28,
    "start_time": "2022-12-07T19:22:10.867Z"
   },
   {
    "duration": 6,
    "start_time": "2022-12-07T19:22:11.203Z"
   },
   {
    "duration": 3,
    "start_time": "2022-12-07T19:22:11.804Z"
   },
   {
    "duration": 813,
    "start_time": "2022-12-07T19:22:13.043Z"
   },
   {
    "duration": 30,
    "start_time": "2022-12-07T19:22:14.450Z"
   },
   {
    "duration": 320,
    "start_time": "2022-12-07T19:22:15.343Z"
   },
   {
    "duration": 18,
    "start_time": "2022-12-07T19:25:51.701Z"
   },
   {
    "duration": 4,
    "start_time": "2022-12-07T19:26:05.686Z"
   },
   {
    "duration": 5,
    "start_time": "2022-12-07T19:26:13.885Z"
   },
   {
    "duration": 3,
    "start_time": "2022-12-07T19:26:21.622Z"
   },
   {
    "duration": 4,
    "start_time": "2022-12-07T19:26:30.737Z"
   },
   {
    "duration": 3,
    "start_time": "2022-12-07T19:26:36.854Z"
   },
   {
    "duration": 4,
    "start_time": "2022-12-07T19:27:30.974Z"
   },
   {
    "duration": 5,
    "start_time": "2022-12-07T19:28:05.959Z"
   },
   {
    "duration": 11,
    "start_time": "2022-12-07T19:28:58.200Z"
   },
   {
    "duration": 3,
    "start_time": "2022-12-07T19:29:01.735Z"
   },
   {
    "duration": 4,
    "start_time": "2022-12-07T19:29:02.120Z"
   },
   {
    "duration": 5,
    "start_time": "2022-12-07T19:29:10.871Z"
   },
   {
    "duration": 4,
    "start_time": "2022-12-07T19:29:19.248Z"
   },
   {
    "duration": 814,
    "start_time": "2022-12-07T19:40:56.672Z"
   },
   {
    "duration": 34,
    "start_time": "2022-12-07T19:41:03.223Z"
   },
   {
    "duration": 342,
    "start_time": "2022-12-07T19:42:55.738Z"
   },
   {
    "duration": 307,
    "start_time": "2022-12-07T19:43:36.290Z"
   },
   {
    "duration": 22,
    "start_time": "2022-12-07T19:44:09.418Z"
   },
   {
    "duration": 7,
    "start_time": "2022-12-07T19:46:18.068Z"
   },
   {
    "duration": 5,
    "start_time": "2022-12-07T19:46:57.915Z"
   },
   {
    "duration": 4,
    "start_time": "2022-12-07T19:47:17.965Z"
   },
   {
    "duration": 5,
    "start_time": "2022-12-07T19:47:39.452Z"
   },
   {
    "duration": 4,
    "start_time": "2022-12-07T19:47:57.181Z"
   },
   {
    "duration": 4,
    "start_time": "2022-12-07T19:49:35.648Z"
   },
   {
    "duration": 3,
    "start_time": "2022-12-07T19:50:24.190Z"
   },
   {
    "duration": 26,
    "start_time": "2022-12-07T19:50:40.783Z"
   },
   {
    "duration": 5,
    "start_time": "2022-12-07T19:50:49.552Z"
   },
   {
    "duration": 3,
    "start_time": "2022-12-07T19:50:50.230Z"
   },
   {
    "duration": 26,
    "start_time": "2022-12-07T19:50:50.926Z"
   },
   {
    "duration": 4,
    "start_time": "2022-12-07T19:51:22.022Z"
   },
   {
    "duration": 1544,
    "start_time": "2022-12-07T19:51:23.535Z"
   },
   {
    "duration": 5,
    "start_time": "2022-12-07T19:52:27.327Z"
   },
   {
    "duration": 4,
    "start_time": "2022-12-07T19:52:38.720Z"
   },
   {
    "duration": 4,
    "start_time": "2022-12-07T19:52:44.625Z"
   },
   {
    "duration": 5,
    "start_time": "2022-12-07T19:55:39.546Z"
   },
   {
    "duration": 4,
    "start_time": "2022-12-07T19:56:03.891Z"
   },
   {
    "duration": 5,
    "start_time": "2022-12-07T19:57:10.371Z"
   },
   {
    "duration": 4,
    "start_time": "2022-12-07T19:57:14.275Z"
   },
   {
    "duration": 4,
    "start_time": "2022-12-07T19:59:22.349Z"
   },
   {
    "duration": 4,
    "start_time": "2022-12-07T19:59:34.917Z"
   },
   {
    "duration": 4,
    "start_time": "2022-12-07T19:59:45.381Z"
   },
   {
    "duration": 4,
    "start_time": "2022-12-07T20:00:21.909Z"
   },
   {
    "duration": 4,
    "start_time": "2022-12-07T20:00:31.310Z"
   },
   {
    "duration": 3,
    "start_time": "2022-12-07T20:10:17.365Z"
   },
   {
    "duration": 3,
    "start_time": "2022-12-07T20:10:18.291Z"
   },
   {
    "duration": 5,
    "start_time": "2022-12-07T20:10:19.523Z"
   },
   {
    "duration": 3,
    "start_time": "2022-12-07T20:10:25.324Z"
   },
   {
    "duration": 3,
    "start_time": "2022-12-07T20:10:25.995Z"
   },
   {
    "duration": 5,
    "start_time": "2022-12-07T20:10:26.563Z"
   },
   {
    "duration": 4,
    "start_time": "2022-12-07T20:10:33.421Z"
   },
   {
    "duration": 4,
    "start_time": "2022-12-07T20:10:33.917Z"
   },
   {
    "duration": 6,
    "start_time": "2022-12-07T20:10:34.291Z"
   },
   {
    "duration": 3,
    "start_time": "2022-12-07T20:17:21.473Z"
   },
   {
    "duration": 2198,
    "start_time": "2022-12-07T20:17:41.857Z"
   },
   {
    "duration": 2228,
    "start_time": "2022-12-07T20:18:10.985Z"
   },
   {
    "duration": 4,
    "start_time": "2022-12-07T20:19:22.898Z"
   },
   {
    "duration": 65208,
    "start_time": "2022-12-07T20:19:32.945Z"
   },
   {
    "duration": 0,
    "start_time": "2022-12-07T20:20:38.155Z"
   },
   {
    "duration": 0,
    "start_time": "2022-12-07T20:20:38.156Z"
   },
   {
    "duration": 0,
    "start_time": "2022-12-07T20:20:38.157Z"
   },
   {
    "duration": 8,
    "start_time": "2022-12-07T20:20:52.997Z"
   },
   {
    "duration": 4,
    "start_time": "2022-12-07T20:21:05.203Z"
   },
   {
    "duration": 3,
    "start_time": "2022-12-07T20:21:05.610Z"
   },
   {
    "duration": 2,
    "start_time": "2022-12-07T20:21:06.042Z"
   },
   {
    "duration": 89,
    "start_time": "2022-12-07T20:21:07.234Z"
   },
   {
    "duration": 1613,
    "start_time": "2022-12-07T20:21:15.547Z"
   },
   {
    "duration": 174,
    "start_time": "2022-12-07T20:21:17.162Z"
   },
   {
    "duration": 4,
    "start_time": "2022-12-07T20:21:17.337Z"
   },
   {
    "duration": 860,
    "start_time": "2022-12-07T20:21:17.344Z"
   },
   {
    "duration": 40,
    "start_time": "2022-12-07T20:21:18.206Z"
   },
   {
    "duration": 372,
    "start_time": "2022-12-07T20:21:18.248Z"
   },
   {
    "duration": 14,
    "start_time": "2022-12-07T20:21:18.622Z"
   },
   {
    "duration": 31,
    "start_time": "2022-12-07T20:21:18.637Z"
   },
   {
    "duration": 3,
    "start_time": "2022-12-07T20:21:19.203Z"
   },
   {
    "duration": 3,
    "start_time": "2022-12-07T20:21:19.835Z"
   },
   {
    "duration": 79597,
    "start_time": "2022-12-07T20:21:20.603Z"
   },
   {
    "duration": 7,
    "start_time": "2022-12-07T20:23:16.749Z"
   },
   {
    "duration": 4,
    "start_time": "2022-12-07T20:23:45.916Z"
   },
   {
    "duration": 95,
    "start_time": "2022-12-07T21:04:24.307Z"
   },
   {
    "duration": 4,
    "start_time": "2022-12-07T21:05:24.855Z"
   },
   {
    "duration": 5,
    "start_time": "2022-12-07T21:05:31.509Z"
   },
   {
    "duration": 6,
    "start_time": "2022-12-07T21:05:43.187Z"
   },
   {
    "duration": 7,
    "start_time": "2022-12-07T21:06:19.093Z"
   },
   {
    "duration": 5,
    "start_time": "2022-12-07T21:06:56.093Z"
   },
   {
    "duration": 5,
    "start_time": "2022-12-07T21:07:17.372Z"
   },
   {
    "duration": 2855,
    "start_time": "2022-12-21T18:43:07.894Z"
   },
   {
    "duration": 1669,
    "start_time": "2022-12-21T18:43:10.751Z"
   },
   {
    "duration": 4,
    "start_time": "2022-12-21T18:43:12.691Z"
   },
   {
    "duration": 4,
    "start_time": "2022-12-21T18:43:13.531Z"
   },
   {
    "duration": 8,
    "start_time": "2022-12-21T18:43:14.571Z"
   },
   {
    "duration": 204,
    "start_time": "2022-12-21T18:43:16.045Z"
   },
   {
    "duration": 3591,
    "start_time": "2022-12-21T18:43:48.125Z"
   },
   {
    "duration": 32,
    "start_time": "2022-12-21T18:43:52.596Z"
   },
   {
    "duration": 337,
    "start_time": "2022-12-21T18:43:57.820Z"
   },
   {
    "duration": 63,
    "start_time": "2022-12-21T18:44:06.028Z"
   },
   {
    "duration": 1040,
    "start_time": "2022-12-21T18:44:06.896Z"
   },
   {
    "duration": 15,
    "start_time": "2022-12-21T18:44:08.023Z"
   },
   {
    "duration": 5,
    "start_time": "2022-12-21T18:44:08.390Z"
   },
   {
    "duration": 15,
    "start_time": "2022-12-21T18:44:09.846Z"
   },
   {
    "duration": 5,
    "start_time": "2022-12-21T18:44:13.006Z"
   },
   {
    "duration": 6,
    "start_time": "2022-12-21T18:44:16.957Z"
   },
   {
    "duration": 4,
    "start_time": "2022-12-21T18:44:21.317Z"
   },
   {
    "duration": 7,
    "start_time": "2022-12-21T18:44:24.172Z"
   },
   {
    "duration": 31,
    "start_time": "2022-12-21T18:44:33.460Z"
   },
   {
    "duration": 108,
    "start_time": "2022-12-21T18:48:32.825Z"
   },
   {
    "duration": 15,
    "start_time": "2022-12-21T18:50:19.643Z"
   },
   {
    "duration": 19,
    "start_time": "2022-12-21T18:51:05.876Z"
   },
   {
    "duration": 23,
    "start_time": "2022-12-21T18:51:43.565Z"
   },
   {
    "duration": 5,
    "start_time": "2022-12-21T18:51:49.907Z"
   },
   {
    "duration": 1681,
    "start_time": "2022-12-21T18:52:03.116Z"
   },
   {
    "duration": 4,
    "start_time": "2022-12-21T18:52:19.998Z"
   },
   {
    "duration": 11,
    "start_time": "2022-12-21T18:53:30.748Z"
   },
   {
    "duration": 11,
    "start_time": "2022-12-21T18:56:36.158Z"
   },
   {
    "duration": 4,
    "start_time": "2022-12-21T18:56:38.198Z"
   },
   {
    "duration": 13,
    "start_time": "2022-12-21T18:57:00.416Z"
   },
   {
    "duration": 9,
    "start_time": "2022-12-21T19:01:59.450Z"
   },
   {
    "duration": 12,
    "start_time": "2022-12-21T19:05:27.971Z"
   },
   {
    "duration": 11,
    "start_time": "2022-12-21T19:05:54.995Z"
   }
  ],
  "accelerator": "GPU",
  "colab": {
   "provenance": []
  },
  "gpuClass": "standard",
  "kernelspec": {
   "display_name": "Python 3 (ipykernel)",
   "language": "python",
   "name": "python3"
  },
  "language_info": {
   "codemirror_mode": {
    "name": "ipython",
    "version": 3
   },
   "file_extension": ".py",
   "mimetype": "text/x-python",
   "name": "python",
   "nbconvert_exporter": "python",
   "pygments_lexer": "ipython3",
   "version": "3.8.10"
  },
  "toc": {
   "base_numbering": 1,
   "nav_menu": {},
   "number_sections": true,
   "sideBar": true,
   "skip_h1_title": true,
   "title_cell": "Содержание",
   "title_sidebar": "Contents",
   "toc_cell": true,
   "toc_position": {
    "height": "calc(100% - 180px)",
    "left": "10px",
    "top": "150px",
    "width": "302.391px"
   },
   "toc_section_display": true,
   "toc_window_display": false
  },
  "widgets": {
   "application/vnd.jupyter.widget-state+json": {
    "0342fde45ae848449d57b22c197e6684": {
     "model_module": "@jupyter-widgets/controls",
     "model_module_version": "1.5.0",
     "model_name": "DescriptionStyleModel",
     "state": {
      "_model_module": "@jupyter-widgets/controls",
      "_model_module_version": "1.5.0",
      "_model_name": "DescriptionStyleModel",
      "_view_count": null,
      "_view_module": "@jupyter-widgets/base",
      "_view_module_version": "1.2.0",
      "_view_name": "StyleView",
      "description_width": ""
     }
    },
    "0438025ebdce4f4f987c88f1a90faa0b": {
     "model_module": "@jupyter-widgets/controls",
     "model_module_version": "1.5.0",
     "model_name": "HBoxModel",
     "state": {
      "_dom_classes": [],
      "_model_module": "@jupyter-widgets/controls",
      "_model_module_version": "1.5.0",
      "_model_name": "HBoxModel",
      "_view_count": null,
      "_view_module": "@jupyter-widgets/controls",
      "_view_module_version": "1.5.0",
      "_view_name": "HBoxView",
      "box_style": "",
      "children": [
       "IPY_MODEL_b84f2d50f8f74706928505737f0339b7",
       "IPY_MODEL_1a18874de0514619ab2a05ac84adca01",
       "IPY_MODEL_afd1ce6a1800488c96190269bec381fe"
      ],
      "layout": "IPY_MODEL_b3a83a794191482982bb2316ee024c0d"
     }
    },
    "060e661212f74901b10b9ce9800c39b4": {
     "model_module": "@jupyter-widgets/controls",
     "model_module_version": "1.5.0",
     "model_name": "HTMLModel",
     "state": {
      "_dom_classes": [],
      "_model_module": "@jupyter-widgets/controls",
      "_model_module_version": "1.5.0",
      "_model_name": "HTMLModel",
      "_view_count": null,
      "_view_module": "@jupyter-widgets/controls",
      "_view_module_version": "1.5.0",
      "_view_name": "HTMLView",
      "description": "",
      "description_tooltip": null,
      "layout": "IPY_MODEL_491b91377e324d4b9793f41f95063b30",
      "placeholder": "​",
      "style": "IPY_MODEL_c200ba35be3e489c8aab46e1c118d5e5",
      "value": "Downloading: 100%"
     }
    },
    "0da6530fbbcf484b81b4103bebf1ddcf": {
     "model_module": "@jupyter-widgets/controls",
     "model_module_version": "1.5.0",
     "model_name": "DescriptionStyleModel",
     "state": {
      "_model_module": "@jupyter-widgets/controls",
      "_model_module_version": "1.5.0",
      "_model_name": "DescriptionStyleModel",
      "_view_count": null,
      "_view_module": "@jupyter-widgets/base",
      "_view_module_version": "1.2.0",
      "_view_name": "StyleView",
      "description_width": ""
     }
    },
    "0dbbee01569d409aac42097f9caeb995": {
     "model_module": "@jupyter-widgets/controls",
     "model_module_version": "1.5.0",
     "model_name": "DescriptionStyleModel",
     "state": {
      "_model_module": "@jupyter-widgets/controls",
      "_model_module_version": "1.5.0",
      "_model_name": "DescriptionStyleModel",
      "_view_count": null,
      "_view_module": "@jupyter-widgets/base",
      "_view_module_version": "1.2.0",
      "_view_name": "StyleView",
      "description_width": ""
     }
    },
    "0febab6da0864252b706471c55cbcfe8": {
     "model_module": "@jupyter-widgets/controls",
     "model_module_version": "1.5.0",
     "model_name": "FloatProgressModel",
     "state": {
      "_dom_classes": [],
      "_model_module": "@jupyter-widgets/controls",
      "_model_module_version": "1.5.0",
      "_model_name": "FloatProgressModel",
      "_view_count": null,
      "_view_module": "@jupyter-widgets/controls",
      "_view_module_version": "1.5.0",
      "_view_name": "ProgressView",
      "bar_style": "success",
      "description": "",
      "description_tooltip": null,
      "layout": "IPY_MODEL_7390ae3ab1094e0e8d6f08d2baae774d",
      "max": 811,
      "min": 0,
      "orientation": "horizontal",
      "style": "IPY_MODEL_6d1309ca9d704c208040aa3daa6b5479",
      "value": 811
     }
    },
    "1547df5637c54066b6bc91bbbb2f98af": {
     "model_module": "@jupyter-widgets/controls",
     "model_module_version": "1.5.0",
     "model_name": "HTMLModel",
     "state": {
      "_dom_classes": [],
      "_model_module": "@jupyter-widgets/controls",
      "_model_module_version": "1.5.0",
      "_model_name": "HTMLModel",
      "_view_count": null,
      "_view_module": "@jupyter-widgets/controls",
      "_view_module_version": "1.5.0",
      "_view_name": "HTMLView",
      "description": "",
      "description_tooltip": null,
      "layout": "IPY_MODEL_4beac280629c45f2935e739a99a5665d",
      "placeholder": "​",
      "style": "IPY_MODEL_f2da6026a5934705b39ec21cc8000c98",
      "value": " 300/300 [13:52&lt;00:00,  2.78s/it]"
     }
    },
    "17918f381d984f71b7d0bd8f714ba263": {
     "model_module": "@jupyter-widgets/controls",
     "model_module_version": "1.5.0",
     "model_name": "HBoxModel",
     "state": {
      "_dom_classes": [],
      "_model_module": "@jupyter-widgets/controls",
      "_model_module_version": "1.5.0",
      "_model_name": "HBoxModel",
      "_view_count": null,
      "_view_module": "@jupyter-widgets/controls",
      "_view_module_version": "1.5.0",
      "_view_name": "HBoxView",
      "box_style": "",
      "children": [
       "IPY_MODEL_060e661212f74901b10b9ce9800c39b4",
       "IPY_MODEL_9a41044b65d549f68fba439e29499848",
       "IPY_MODEL_6eed3c9332e94ccab942849c33ea95be"
      ],
      "layout": "IPY_MODEL_20875ac8d257432eb3998d8443b725f9"
     }
    },
    "1a18874de0514619ab2a05ac84adca01": {
     "model_module": "@jupyter-widgets/controls",
     "model_module_version": "1.5.0",
     "model_name": "FloatProgressModel",
     "state": {
      "_dom_classes": [],
      "_model_module": "@jupyter-widgets/controls",
      "_model_module_version": "1.5.0",
      "_model_name": "FloatProgressModel",
      "_view_count": null,
      "_view_module": "@jupyter-widgets/controls",
      "_view_module_version": "1.5.0",
      "_view_name": "ProgressView",
      "bar_style": "success",
      "description": "",
      "description_tooltip": null,
      "layout": "IPY_MODEL_950a001c8ee342beb10fb2726af5a0f2",
      "max": 438033929,
      "min": 0,
      "orientation": "horizontal",
      "style": "IPY_MODEL_7eb54566d9a241dca80d00289877c44e",
      "value": 438033929
     }
    },
    "1ffa3aed92fc486981be9935cba1febf": {
     "model_module": "@jupyter-widgets/controls",
     "model_module_version": "1.5.0",
     "model_name": "HBoxModel",
     "state": {
      "_dom_classes": [],
      "_model_module": "@jupyter-widgets/controls",
      "_model_module_version": "1.5.0",
      "_model_name": "HBoxModel",
      "_view_count": null,
      "_view_module": "@jupyter-widgets/controls",
      "_view_module_version": "1.5.0",
      "_view_name": "HBoxView",
      "box_style": "",
      "children": [
       "IPY_MODEL_287cd412b1dc45bba03e04f293273318",
       "IPY_MODEL_0febab6da0864252b706471c55cbcfe8",
       "IPY_MODEL_7118f95ffeaf4a0cb9433461e909548c"
      ],
      "layout": "IPY_MODEL_9d72d51c8d3a4a18b1584980713a6e90"
     }
    },
    "20875ac8d257432eb3998d8443b725f9": {
     "model_module": "@jupyter-widgets/base",
     "model_module_version": "1.2.0",
     "model_name": "LayoutModel",
     "state": {
      "_model_module": "@jupyter-widgets/base",
      "_model_module_version": "1.2.0",
      "_model_name": "LayoutModel",
      "_view_count": null,
      "_view_module": "@jupyter-widgets/base",
      "_view_module_version": "1.2.0",
      "_view_name": "LayoutView",
      "align_content": null,
      "align_items": null,
      "align_self": null,
      "border": null,
      "bottom": null,
      "display": null,
      "flex": null,
      "flex_flow": null,
      "grid_area": null,
      "grid_auto_columns": null,
      "grid_auto_flow": null,
      "grid_auto_rows": null,
      "grid_column": null,
      "grid_gap": null,
      "grid_row": null,
      "grid_template_areas": null,
      "grid_template_columns": null,
      "grid_template_rows": null,
      "height": null,
      "justify_content": null,
      "justify_items": null,
      "left": null,
      "margin": null,
      "max_height": null,
      "max_width": null,
      "min_height": null,
      "min_width": null,
      "object_fit": null,
      "object_position": null,
      "order": null,
      "overflow": null,
      "overflow_x": null,
      "overflow_y": null,
      "padding": null,
      "right": null,
      "top": null,
      "visibility": null,
      "width": null
     }
    },
    "287cd412b1dc45bba03e04f293273318": {
     "model_module": "@jupyter-widgets/controls",
     "model_module_version": "1.5.0",
     "model_name": "HTMLModel",
     "state": {
      "_dom_classes": [],
      "_model_module": "@jupyter-widgets/controls",
      "_model_module_version": "1.5.0",
      "_model_name": "HTMLModel",
      "_view_count": null,
      "_view_module": "@jupyter-widgets/controls",
      "_view_module_version": "1.5.0",
      "_view_name": "HTMLView",
      "description": "",
      "description_tooltip": null,
      "layout": "IPY_MODEL_b5b15b18fd0f489c8adf5f9e11887bec",
      "placeholder": "​",
      "style": "IPY_MODEL_0dbbee01569d409aac42097f9caeb995",
      "value": "Downloading: 100%"
     }
    },
    "425c4dfe06d04ba2adfaad35df6d96c3": {
     "model_module": "@jupyter-widgets/controls",
     "model_module_version": "1.5.0",
     "model_name": "DescriptionStyleModel",
     "state": {
      "_model_module": "@jupyter-widgets/controls",
      "_model_module_version": "1.5.0",
      "_model_name": "DescriptionStyleModel",
      "_view_count": null,
      "_view_module": "@jupyter-widgets/base",
      "_view_module_version": "1.2.0",
      "_view_name": "StyleView",
      "description_width": ""
     }
    },
    "44d354610ab04d33a7d6ccb8113ada64": {
     "model_module": "@jupyter-widgets/base",
     "model_module_version": "1.2.0",
     "model_name": "LayoutModel",
     "state": {
      "_model_module": "@jupyter-widgets/base",
      "_model_module_version": "1.2.0",
      "_model_name": "LayoutModel",
      "_view_count": null,
      "_view_module": "@jupyter-widgets/base",
      "_view_module_version": "1.2.0",
      "_view_name": "LayoutView",
      "align_content": null,
      "align_items": null,
      "align_self": null,
      "border": null,
      "bottom": null,
      "display": null,
      "flex": null,
      "flex_flow": null,
      "grid_area": null,
      "grid_auto_columns": null,
      "grid_auto_flow": null,
      "grid_auto_rows": null,
      "grid_column": null,
      "grid_gap": null,
      "grid_row": null,
      "grid_template_areas": null,
      "grid_template_columns": null,
      "grid_template_rows": null,
      "height": null,
      "justify_content": null,
      "justify_items": null,
      "left": null,
      "margin": null,
      "max_height": null,
      "max_width": null,
      "min_height": null,
      "min_width": null,
      "object_fit": null,
      "object_position": null,
      "order": null,
      "overflow": null,
      "overflow_x": null,
      "overflow_y": null,
      "padding": null,
      "right": null,
      "top": null,
      "visibility": null,
      "width": null
     }
    },
    "4848d16a64c14810a9caa060aee023bd": {
     "model_module": "@jupyter-widgets/controls",
     "model_module_version": "1.5.0",
     "model_name": "HBoxModel",
     "state": {
      "_dom_classes": [],
      "_model_module": "@jupyter-widgets/controls",
      "_model_module_version": "1.5.0",
      "_model_name": "HBoxModel",
      "_view_count": null,
      "_view_module": "@jupyter-widgets/controls",
      "_view_module_version": "1.5.0",
      "_view_name": "HBoxView",
      "box_style": "",
      "children": [
       "IPY_MODEL_4cbb365665ff41988c6d2105ae0b7853",
       "IPY_MODEL_48f627b9b339496ea3f7fe3bc44e4673",
       "IPY_MODEL_d7556a76e73b4cf9a0fc7b4d711c99f8"
      ],
      "layout": "IPY_MODEL_73f4a7dbc1f646738917c7bda4f94116"
     }
    },
    "48f627b9b339496ea3f7fe3bc44e4673": {
     "model_module": "@jupyter-widgets/controls",
     "model_module_version": "1.5.0",
     "model_name": "FloatProgressModel",
     "state": {
      "_dom_classes": [],
      "_model_module": "@jupyter-widgets/controls",
      "_model_module_version": "1.5.0",
      "_model_name": "FloatProgressModel",
      "_view_count": null,
      "_view_module": "@jupyter-widgets/controls",
      "_view_module_version": "1.5.0",
      "_view_name": "ProgressView",
      "bar_style": "success",
      "description": "",
      "description_tooltip": null,
      "layout": "IPY_MODEL_4982da2013e441c79c2a0e6b0c44b959",
      "max": 112,
      "min": 0,
      "orientation": "horizontal",
      "style": "IPY_MODEL_638f1c510595421bae8907a98a320568",
      "value": 112
     }
    },
    "491b91377e324d4b9793f41f95063b30": {
     "model_module": "@jupyter-widgets/base",
     "model_module_version": "1.2.0",
     "model_name": "LayoutModel",
     "state": {
      "_model_module": "@jupyter-widgets/base",
      "_model_module_version": "1.2.0",
      "_model_name": "LayoutModel",
      "_view_count": null,
      "_view_module": "@jupyter-widgets/base",
      "_view_module_version": "1.2.0",
      "_view_name": "LayoutView",
      "align_content": null,
      "align_items": null,
      "align_self": null,
      "border": null,
      "bottom": null,
      "display": null,
      "flex": null,
      "flex_flow": null,
      "grid_area": null,
      "grid_auto_columns": null,
      "grid_auto_flow": null,
      "grid_auto_rows": null,
      "grid_column": null,
      "grid_gap": null,
      "grid_row": null,
      "grid_template_areas": null,
      "grid_template_columns": null,
      "grid_template_rows": null,
      "height": null,
      "justify_content": null,
      "justify_items": null,
      "left": null,
      "margin": null,
      "max_height": null,
      "max_width": null,
      "min_height": null,
      "min_width": null,
      "object_fit": null,
      "object_position": null,
      "order": null,
      "overflow": null,
      "overflow_x": null,
      "overflow_y": null,
      "padding": null,
      "right": null,
      "top": null,
      "visibility": null,
      "width": null
     }
    },
    "4982da2013e441c79c2a0e6b0c44b959": {
     "model_module": "@jupyter-widgets/base",
     "model_module_version": "1.2.0",
     "model_name": "LayoutModel",
     "state": {
      "_model_module": "@jupyter-widgets/base",
      "_model_module_version": "1.2.0",
      "_model_name": "LayoutModel",
      "_view_count": null,
      "_view_module": "@jupyter-widgets/base",
      "_view_module_version": "1.2.0",
      "_view_name": "LayoutView",
      "align_content": null,
      "align_items": null,
      "align_self": null,
      "border": null,
      "bottom": null,
      "display": null,
      "flex": null,
      "flex_flow": null,
      "grid_area": null,
      "grid_auto_columns": null,
      "grid_auto_flow": null,
      "grid_auto_rows": null,
      "grid_column": null,
      "grid_gap": null,
      "grid_row": null,
      "grid_template_areas": null,
      "grid_template_columns": null,
      "grid_template_rows": null,
      "height": null,
      "justify_content": null,
      "justify_items": null,
      "left": null,
      "margin": null,
      "max_height": null,
      "max_width": null,
      "min_height": null,
      "min_width": null,
      "object_fit": null,
      "object_position": null,
      "order": null,
      "overflow": null,
      "overflow_x": null,
      "overflow_y": null,
      "padding": null,
      "right": null,
      "top": null,
      "visibility": null,
      "width": null
     }
    },
    "4beac280629c45f2935e739a99a5665d": {
     "model_module": "@jupyter-widgets/base",
     "model_module_version": "1.2.0",
     "model_name": "LayoutModel",
     "state": {
      "_model_module": "@jupyter-widgets/base",
      "_model_module_version": "1.2.0",
      "_model_name": "LayoutModel",
      "_view_count": null,
      "_view_module": "@jupyter-widgets/base",
      "_view_module_version": "1.2.0",
      "_view_name": "LayoutView",
      "align_content": null,
      "align_items": null,
      "align_self": null,
      "border": null,
      "bottom": null,
      "display": null,
      "flex": null,
      "flex_flow": null,
      "grid_area": null,
      "grid_auto_columns": null,
      "grid_auto_flow": null,
      "grid_auto_rows": null,
      "grid_column": null,
      "grid_gap": null,
      "grid_row": null,
      "grid_template_areas": null,
      "grid_template_columns": null,
      "grid_template_rows": null,
      "height": null,
      "justify_content": null,
      "justify_items": null,
      "left": null,
      "margin": null,
      "max_height": null,
      "max_width": null,
      "min_height": null,
      "min_width": null,
      "object_fit": null,
      "object_position": null,
      "order": null,
      "overflow": null,
      "overflow_x": null,
      "overflow_y": null,
      "padding": null,
      "right": null,
      "top": null,
      "visibility": null,
      "width": null
     }
    },
    "4cbb365665ff41988c6d2105ae0b7853": {
     "model_module": "@jupyter-widgets/controls",
     "model_module_version": "1.5.0",
     "model_name": "HTMLModel",
     "state": {
      "_dom_classes": [],
      "_model_module": "@jupyter-widgets/controls",
      "_model_module_version": "1.5.0",
      "_model_name": "HTMLModel",
      "_view_count": null,
      "_view_module": "@jupyter-widgets/controls",
      "_view_module_version": "1.5.0",
      "_view_name": "HTMLView",
      "description": "",
      "description_tooltip": null,
      "layout": "IPY_MODEL_c1a948fff0854ce29b70a33d9ed41727",
      "placeholder": "​",
      "style": "IPY_MODEL_0342fde45ae848449d57b22c197e6684",
      "value": "Downloading: 100%"
     }
    },
    "4e57018c77fc4e60851b932ab567b68b": {
     "model_module": "@jupyter-widgets/base",
     "model_module_version": "1.2.0",
     "model_name": "LayoutModel",
     "state": {
      "_model_module": "@jupyter-widgets/base",
      "_model_module_version": "1.2.0",
      "_model_name": "LayoutModel",
      "_view_count": null,
      "_view_module": "@jupyter-widgets/base",
      "_view_module_version": "1.2.0",
      "_view_name": "LayoutView",
      "align_content": null,
      "align_items": null,
      "align_self": null,
      "border": null,
      "bottom": null,
      "display": null,
      "flex": null,
      "flex_flow": null,
      "grid_area": null,
      "grid_auto_columns": null,
      "grid_auto_flow": null,
      "grid_auto_rows": null,
      "grid_column": null,
      "grid_gap": null,
      "grid_row": null,
      "grid_template_areas": null,
      "grid_template_columns": null,
      "grid_template_rows": null,
      "height": null,
      "justify_content": null,
      "justify_items": null,
      "left": null,
      "margin": null,
      "max_height": null,
      "max_width": null,
      "min_height": null,
      "min_width": null,
      "object_fit": null,
      "object_position": null,
      "order": null,
      "overflow": null,
      "overflow_x": null,
      "overflow_y": null,
      "padding": null,
      "right": null,
      "top": null,
      "visibility": null,
      "width": null
     }
    },
    "554e3d0b474846dd9bf4ba6c14d73d6b": {
     "model_module": "@jupyter-widgets/controls",
     "model_module_version": "1.5.0",
     "model_name": "ProgressStyleModel",
     "state": {
      "_model_module": "@jupyter-widgets/controls",
      "_model_module_version": "1.5.0",
      "_model_name": "ProgressStyleModel",
      "_view_count": null,
      "_view_module": "@jupyter-widgets/base",
      "_view_module_version": "1.2.0",
      "_view_name": "StyleView",
      "bar_color": null,
      "description_width": ""
     }
    },
    "5d950f8f71b74308bcf33e00f56e7387": {
     "model_module": "@jupyter-widgets/controls",
     "model_module_version": "1.5.0",
     "model_name": "HBoxModel",
     "state": {
      "_dom_classes": [],
      "_model_module": "@jupyter-widgets/controls",
      "_model_module_version": "1.5.0",
      "_model_name": "HBoxModel",
      "_view_count": null,
      "_view_module": "@jupyter-widgets/controls",
      "_view_module_version": "1.5.0",
      "_view_name": "HBoxView",
      "box_style": "",
      "children": [
       "IPY_MODEL_f8db03d5d3b14adf89d288e02457d2fc",
       "IPY_MODEL_fc8e45a987c2460ba2b0379bae373fef",
       "IPY_MODEL_6910cc2792f14f968921a19663866203"
      ],
      "layout": "IPY_MODEL_4e57018c77fc4e60851b932ab567b68b"
     }
    },
    "638f1c510595421bae8907a98a320568": {
     "model_module": "@jupyter-widgets/controls",
     "model_module_version": "1.5.0",
     "model_name": "ProgressStyleModel",
     "state": {
      "_model_module": "@jupyter-widgets/controls",
      "_model_module_version": "1.5.0",
      "_model_name": "ProgressStyleModel",
      "_view_count": null,
      "_view_module": "@jupyter-widgets/base",
      "_view_module_version": "1.2.0",
      "_view_name": "StyleView",
      "bar_color": null,
      "description_width": ""
     }
    },
    "644debb6a40141438c7867f94dabfbde": {
     "model_module": "@jupyter-widgets/controls",
     "model_module_version": "1.5.0",
     "model_name": "DescriptionStyleModel",
     "state": {
      "_model_module": "@jupyter-widgets/controls",
      "_model_module_version": "1.5.0",
      "_model_name": "DescriptionStyleModel",
      "_view_count": null,
      "_view_module": "@jupyter-widgets/base",
      "_view_module_version": "1.2.0",
      "_view_name": "StyleView",
      "description_width": ""
     }
    },
    "6910cc2792f14f968921a19663866203": {
     "model_module": "@jupyter-widgets/controls",
     "model_module_version": "1.5.0",
     "model_name": "HTMLModel",
     "state": {
      "_dom_classes": [],
      "_model_module": "@jupyter-widgets/controls",
      "_model_module_version": "1.5.0",
      "_model_name": "HTMLModel",
      "_view_count": null,
      "_view_module": "@jupyter-widgets/controls",
      "_view_module_version": "1.5.0",
      "_view_name": "HTMLView",
      "description": "",
      "description_tooltip": null,
      "layout": "IPY_MODEL_c65125ff54ec496e8365fa6bbb18c73b",
      "placeholder": "​",
      "style": "IPY_MODEL_934f2c52b26842d498ff06580e0ddab2",
      "value": " 174/174 [00:00&lt;00:00, 6.35kB/s]"
     }
    },
    "6a273f1027a74d639f9ddaad449fcc63": {
     "model_module": "@jupyter-widgets/base",
     "model_module_version": "1.2.0",
     "model_name": "LayoutModel",
     "state": {
      "_model_module": "@jupyter-widgets/base",
      "_model_module_version": "1.2.0",
      "_model_name": "LayoutModel",
      "_view_count": null,
      "_view_module": "@jupyter-widgets/base",
      "_view_module_version": "1.2.0",
      "_view_name": "LayoutView",
      "align_content": null,
      "align_items": null,
      "align_self": null,
      "border": null,
      "bottom": null,
      "display": null,
      "flex": null,
      "flex_flow": null,
      "grid_area": null,
      "grid_auto_columns": null,
      "grid_auto_flow": null,
      "grid_auto_rows": null,
      "grid_column": null,
      "grid_gap": null,
      "grid_row": null,
      "grid_template_areas": null,
      "grid_template_columns": null,
      "grid_template_rows": null,
      "height": null,
      "justify_content": null,
      "justify_items": null,
      "left": null,
      "margin": null,
      "max_height": null,
      "max_width": null,
      "min_height": null,
      "min_width": null,
      "object_fit": null,
      "object_position": null,
      "order": null,
      "overflow": null,
      "overflow_x": null,
      "overflow_y": null,
      "padding": null,
      "right": null,
      "top": null,
      "visibility": null,
      "width": null
     }
    },
    "6d1309ca9d704c208040aa3daa6b5479": {
     "model_module": "@jupyter-widgets/controls",
     "model_module_version": "1.5.0",
     "model_name": "ProgressStyleModel",
     "state": {
      "_model_module": "@jupyter-widgets/controls",
      "_model_module_version": "1.5.0",
      "_model_name": "ProgressStyleModel",
      "_view_count": null,
      "_view_module": "@jupyter-widgets/base",
      "_view_module_version": "1.2.0",
      "_view_name": "StyleView",
      "bar_color": null,
      "description_width": ""
     }
    },
    "6e792fec58814b619c6a035b69e7588c": {
     "model_module": "@jupyter-widgets/controls",
     "model_module_version": "1.5.0",
     "model_name": "ProgressStyleModel",
     "state": {
      "_model_module": "@jupyter-widgets/controls",
      "_model_module_version": "1.5.0",
      "_model_name": "ProgressStyleModel",
      "_view_count": null,
      "_view_module": "@jupyter-widgets/base",
      "_view_module_version": "1.2.0",
      "_view_name": "StyleView",
      "bar_color": null,
      "description_width": ""
     }
    },
    "6eed3c9332e94ccab942849c33ea95be": {
     "model_module": "@jupyter-widgets/controls",
     "model_module_version": "1.5.0",
     "model_name": "HTMLModel",
     "state": {
      "_dom_classes": [],
      "_model_module": "@jupyter-widgets/controls",
      "_model_module_version": "1.5.0",
      "_model_name": "HTMLModel",
      "_view_count": null,
      "_view_module": "@jupyter-widgets/controls",
      "_view_module_version": "1.5.0",
      "_view_name": "HTMLView",
      "description": "",
      "description_tooltip": null,
      "layout": "IPY_MODEL_c73d0f633b2941fa92195205e088ff45",
      "placeholder": "​",
      "style": "IPY_MODEL_425c4dfe06d04ba2adfaad35df6d96c3",
      "value": " 232k/232k [00:00&lt;00:00, 295kB/s]"
     }
    },
    "7118f95ffeaf4a0cb9433461e909548c": {
     "model_module": "@jupyter-widgets/controls",
     "model_module_version": "1.5.0",
     "model_name": "HTMLModel",
     "state": {
      "_dom_classes": [],
      "_model_module": "@jupyter-widgets/controls",
      "_model_module_version": "1.5.0",
      "_model_name": "HTMLModel",
      "_view_count": null,
      "_view_module": "@jupyter-widgets/controls",
      "_view_module_version": "1.5.0",
      "_view_name": "HTMLView",
      "description": "",
      "description_tooltip": null,
      "layout": "IPY_MODEL_afccd53c4f1f4d28ae01b286edbae053",
      "placeholder": "​",
      "style": "IPY_MODEL_c470f02145e04633baf1c30a3ee2e522",
      "value": " 811/811 [00:00&lt;00:00, 32.3kB/s]"
     }
    },
    "7390ae3ab1094e0e8d6f08d2baae774d": {
     "model_module": "@jupyter-widgets/base",
     "model_module_version": "1.2.0",
     "model_name": "LayoutModel",
     "state": {
      "_model_module": "@jupyter-widgets/base",
      "_model_module_version": "1.2.0",
      "_model_name": "LayoutModel",
      "_view_count": null,
      "_view_module": "@jupyter-widgets/base",
      "_view_module_version": "1.2.0",
      "_view_name": "LayoutView",
      "align_content": null,
      "align_items": null,
      "align_self": null,
      "border": null,
      "bottom": null,
      "display": null,
      "flex": null,
      "flex_flow": null,
      "grid_area": null,
      "grid_auto_columns": null,
      "grid_auto_flow": null,
      "grid_auto_rows": null,
      "grid_column": null,
      "grid_gap": null,
      "grid_row": null,
      "grid_template_areas": null,
      "grid_template_columns": null,
      "grid_template_rows": null,
      "height": null,
      "justify_content": null,
      "justify_items": null,
      "left": null,
      "margin": null,
      "max_height": null,
      "max_width": null,
      "min_height": null,
      "min_width": null,
      "object_fit": null,
      "object_position": null,
      "order": null,
      "overflow": null,
      "overflow_x": null,
      "overflow_y": null,
      "padding": null,
      "right": null,
      "top": null,
      "visibility": null,
      "width": null
     }
    },
    "73f4a7dbc1f646738917c7bda4f94116": {
     "model_module": "@jupyter-widgets/base",
     "model_module_version": "1.2.0",
     "model_name": "LayoutModel",
     "state": {
      "_model_module": "@jupyter-widgets/base",
      "_model_module_version": "1.2.0",
      "_model_name": "LayoutModel",
      "_view_count": null,
      "_view_module": "@jupyter-widgets/base",
      "_view_module_version": "1.2.0",
      "_view_name": "LayoutView",
      "align_content": null,
      "align_items": null,
      "align_self": null,
      "border": null,
      "bottom": null,
      "display": null,
      "flex": null,
      "flex_flow": null,
      "grid_area": null,
      "grid_auto_columns": null,
      "grid_auto_flow": null,
      "grid_auto_rows": null,
      "grid_column": null,
      "grid_gap": null,
      "grid_row": null,
      "grid_template_areas": null,
      "grid_template_columns": null,
      "grid_template_rows": null,
      "height": null,
      "justify_content": null,
      "justify_items": null,
      "left": null,
      "margin": null,
      "max_height": null,
      "max_width": null,
      "min_height": null,
      "min_width": null,
      "object_fit": null,
      "object_position": null,
      "order": null,
      "overflow": null,
      "overflow_x": null,
      "overflow_y": null,
      "padding": null,
      "right": null,
      "top": null,
      "visibility": null,
      "width": null
     }
    },
    "7483bb884b444a7191205d8cd5f7b454": {
     "model_module": "@jupyter-widgets/controls",
     "model_module_version": "1.5.0",
     "model_name": "ProgressStyleModel",
     "state": {
      "_model_module": "@jupyter-widgets/controls",
      "_model_module_version": "1.5.0",
      "_model_name": "ProgressStyleModel",
      "_view_count": null,
      "_view_module": "@jupyter-widgets/base",
      "_view_module_version": "1.2.0",
      "_view_name": "StyleView",
      "bar_color": null,
      "description_width": ""
     }
    },
    "7ae497ba88f84326b0000562555e4ebb": {
     "model_module": "@jupyter-widgets/controls",
     "model_module_version": "1.5.0",
     "model_name": "DescriptionStyleModel",
     "state": {
      "_model_module": "@jupyter-widgets/controls",
      "_model_module_version": "1.5.0",
      "_model_name": "DescriptionStyleModel",
      "_view_count": null,
      "_view_module": "@jupyter-widgets/base",
      "_view_module_version": "1.2.0",
      "_view_name": "StyleView",
      "description_width": ""
     }
    },
    "7eb54566d9a241dca80d00289877c44e": {
     "model_module": "@jupyter-widgets/controls",
     "model_module_version": "1.5.0",
     "model_name": "ProgressStyleModel",
     "state": {
      "_model_module": "@jupyter-widgets/controls",
      "_model_module_version": "1.5.0",
      "_model_name": "ProgressStyleModel",
      "_view_count": null,
      "_view_module": "@jupyter-widgets/base",
      "_view_module_version": "1.2.0",
      "_view_name": "StyleView",
      "bar_color": null,
      "description_width": ""
     }
    },
    "814649247fa2447fb1d74ecfbe43bd83": {
     "model_module": "@jupyter-widgets/base",
     "model_module_version": "1.2.0",
     "model_name": "LayoutModel",
     "state": {
      "_model_module": "@jupyter-widgets/base",
      "_model_module_version": "1.2.0",
      "_model_name": "LayoutModel",
      "_view_count": null,
      "_view_module": "@jupyter-widgets/base",
      "_view_module_version": "1.2.0",
      "_view_name": "LayoutView",
      "align_content": null,
      "align_items": null,
      "align_self": null,
      "border": null,
      "bottom": null,
      "display": null,
      "flex": null,
      "flex_flow": null,
      "grid_area": null,
      "grid_auto_columns": null,
      "grid_auto_flow": null,
      "grid_auto_rows": null,
      "grid_column": null,
      "grid_gap": null,
      "grid_row": null,
      "grid_template_areas": null,
      "grid_template_columns": null,
      "grid_template_rows": null,
      "height": null,
      "justify_content": null,
      "justify_items": null,
      "left": null,
      "margin": null,
      "max_height": null,
      "max_width": null,
      "min_height": null,
      "min_width": null,
      "object_fit": null,
      "object_position": null,
      "order": null,
      "overflow": null,
      "overflow_x": null,
      "overflow_y": null,
      "padding": null,
      "right": null,
      "top": null,
      "visibility": null,
      "width": null
     }
    },
    "934f2c52b26842d498ff06580e0ddab2": {
     "model_module": "@jupyter-widgets/controls",
     "model_module_version": "1.5.0",
     "model_name": "DescriptionStyleModel",
     "state": {
      "_model_module": "@jupyter-widgets/controls",
      "_model_module_version": "1.5.0",
      "_model_name": "DescriptionStyleModel",
      "_view_count": null,
      "_view_module": "@jupyter-widgets/base",
      "_view_module_version": "1.2.0",
      "_view_name": "StyleView",
      "description_width": ""
     }
    },
    "950a001c8ee342beb10fb2726af5a0f2": {
     "model_module": "@jupyter-widgets/base",
     "model_module_version": "1.2.0",
     "model_name": "LayoutModel",
     "state": {
      "_model_module": "@jupyter-widgets/base",
      "_model_module_version": "1.2.0",
      "_model_name": "LayoutModel",
      "_view_count": null,
      "_view_module": "@jupyter-widgets/base",
      "_view_module_version": "1.2.0",
      "_view_name": "LayoutView",
      "align_content": null,
      "align_items": null,
      "align_self": null,
      "border": null,
      "bottom": null,
      "display": null,
      "flex": null,
      "flex_flow": null,
      "grid_area": null,
      "grid_auto_columns": null,
      "grid_auto_flow": null,
      "grid_auto_rows": null,
      "grid_column": null,
      "grid_gap": null,
      "grid_row": null,
      "grid_template_areas": null,
      "grid_template_columns": null,
      "grid_template_rows": null,
      "height": null,
      "justify_content": null,
      "justify_items": null,
      "left": null,
      "margin": null,
      "max_height": null,
      "max_width": null,
      "min_height": null,
      "min_width": null,
      "object_fit": null,
      "object_position": null,
      "order": null,
      "overflow": null,
      "overflow_x": null,
      "overflow_y": null,
      "padding": null,
      "right": null,
      "top": null,
      "visibility": null,
      "width": null
     }
    },
    "98d41d0be53f486285a83effb1c79447": {
     "model_module": "@jupyter-widgets/base",
     "model_module_version": "1.2.0",
     "model_name": "LayoutModel",
     "state": {
      "_model_module": "@jupyter-widgets/base",
      "_model_module_version": "1.2.0",
      "_model_name": "LayoutModel",
      "_view_count": null,
      "_view_module": "@jupyter-widgets/base",
      "_view_module_version": "1.2.0",
      "_view_name": "LayoutView",
      "align_content": null,
      "align_items": null,
      "align_self": null,
      "border": null,
      "bottom": null,
      "display": null,
      "flex": null,
      "flex_flow": null,
      "grid_area": null,
      "grid_auto_columns": null,
      "grid_auto_flow": null,
      "grid_auto_rows": null,
      "grid_column": null,
      "grid_gap": null,
      "grid_row": null,
      "grid_template_areas": null,
      "grid_template_columns": null,
      "grid_template_rows": null,
      "height": null,
      "justify_content": null,
      "justify_items": null,
      "left": null,
      "margin": null,
      "max_height": null,
      "max_width": null,
      "min_height": null,
      "min_width": null,
      "object_fit": null,
      "object_position": null,
      "order": null,
      "overflow": null,
      "overflow_x": null,
      "overflow_y": null,
      "padding": null,
      "right": null,
      "top": null,
      "visibility": null,
      "width": null
     }
    },
    "9a41044b65d549f68fba439e29499848": {
     "model_module": "@jupyter-widgets/controls",
     "model_module_version": "1.5.0",
     "model_name": "FloatProgressModel",
     "state": {
      "_dom_classes": [],
      "_model_module": "@jupyter-widgets/controls",
      "_model_module_version": "1.5.0",
      "_model_name": "FloatProgressModel",
      "_view_count": null,
      "_view_module": "@jupyter-widgets/controls",
      "_view_module_version": "1.5.0",
      "_view_name": "ProgressView",
      "bar_style": "success",
      "description": "",
      "description_tooltip": null,
      "layout": "IPY_MODEL_6a273f1027a74d639f9ddaad449fcc63",
      "max": 231508,
      "min": 0,
      "orientation": "horizontal",
      "style": "IPY_MODEL_554e3d0b474846dd9bf4ba6c14d73d6b",
      "value": 231508
     }
    },
    "9c62ca26b7b44b9796df630d7e33d9a9": {
     "model_module": "@jupyter-widgets/controls",
     "model_module_version": "1.5.0",
     "model_name": "DescriptionStyleModel",
     "state": {
      "_model_module": "@jupyter-widgets/controls",
      "_model_module_version": "1.5.0",
      "_model_name": "DescriptionStyleModel",
      "_view_count": null,
      "_view_module": "@jupyter-widgets/base",
      "_view_module_version": "1.2.0",
      "_view_name": "StyleView",
      "description_width": ""
     }
    },
    "9d40c62690f64938bca563639f4447f7": {
     "model_module": "@jupyter-widgets/base",
     "model_module_version": "1.2.0",
     "model_name": "LayoutModel",
     "state": {
      "_model_module": "@jupyter-widgets/base",
      "_model_module_version": "1.2.0",
      "_model_name": "LayoutModel",
      "_view_count": null,
      "_view_module": "@jupyter-widgets/base",
      "_view_module_version": "1.2.0",
      "_view_name": "LayoutView",
      "align_content": null,
      "align_items": null,
      "align_self": null,
      "border": null,
      "bottom": null,
      "display": null,
      "flex": null,
      "flex_flow": null,
      "grid_area": null,
      "grid_auto_columns": null,
      "grid_auto_flow": null,
      "grid_auto_rows": null,
      "grid_column": null,
      "grid_gap": null,
      "grid_row": null,
      "grid_template_areas": null,
      "grid_template_columns": null,
      "grid_template_rows": null,
      "height": null,
      "justify_content": null,
      "justify_items": null,
      "left": null,
      "margin": null,
      "max_height": null,
      "max_width": null,
      "min_height": null,
      "min_width": null,
      "object_fit": null,
      "object_position": null,
      "order": null,
      "overflow": null,
      "overflow_x": null,
      "overflow_y": null,
      "padding": null,
      "right": null,
      "top": null,
      "visibility": null,
      "width": null
     }
    },
    "9d72d51c8d3a4a18b1584980713a6e90": {
     "model_module": "@jupyter-widgets/base",
     "model_module_version": "1.2.0",
     "model_name": "LayoutModel",
     "state": {
      "_model_module": "@jupyter-widgets/base",
      "_model_module_version": "1.2.0",
      "_model_name": "LayoutModel",
      "_view_count": null,
      "_view_module": "@jupyter-widgets/base",
      "_view_module_version": "1.2.0",
      "_view_name": "LayoutView",
      "align_content": null,
      "align_items": null,
      "align_self": null,
      "border": null,
      "bottom": null,
      "display": null,
      "flex": null,
      "flex_flow": null,
      "grid_area": null,
      "grid_auto_columns": null,
      "grid_auto_flow": null,
      "grid_auto_rows": null,
      "grid_column": null,
      "grid_gap": null,
      "grid_row": null,
      "grid_template_areas": null,
      "grid_template_columns": null,
      "grid_template_rows": null,
      "height": null,
      "justify_content": null,
      "justify_items": null,
      "left": null,
      "margin": null,
      "max_height": null,
      "max_width": null,
      "min_height": null,
      "min_width": null,
      "object_fit": null,
      "object_position": null,
      "order": null,
      "overflow": null,
      "overflow_x": null,
      "overflow_y": null,
      "padding": null,
      "right": null,
      "top": null,
      "visibility": null,
      "width": null
     }
    },
    "afccd53c4f1f4d28ae01b286edbae053": {
     "model_module": "@jupyter-widgets/base",
     "model_module_version": "1.2.0",
     "model_name": "LayoutModel",
     "state": {
      "_model_module": "@jupyter-widgets/base",
      "_model_module_version": "1.2.0",
      "_model_name": "LayoutModel",
      "_view_count": null,
      "_view_module": "@jupyter-widgets/base",
      "_view_module_version": "1.2.0",
      "_view_name": "LayoutView",
      "align_content": null,
      "align_items": null,
      "align_self": null,
      "border": null,
      "bottom": null,
      "display": null,
      "flex": null,
      "flex_flow": null,
      "grid_area": null,
      "grid_auto_columns": null,
      "grid_auto_flow": null,
      "grid_auto_rows": null,
      "grid_column": null,
      "grid_gap": null,
      "grid_row": null,
      "grid_template_areas": null,
      "grid_template_columns": null,
      "grid_template_rows": null,
      "height": null,
      "justify_content": null,
      "justify_items": null,
      "left": null,
      "margin": null,
      "max_height": null,
      "max_width": null,
      "min_height": null,
      "min_width": null,
      "object_fit": null,
      "object_position": null,
      "order": null,
      "overflow": null,
      "overflow_x": null,
      "overflow_y": null,
      "padding": null,
      "right": null,
      "top": null,
      "visibility": null,
      "width": null
     }
    },
    "afd1ce6a1800488c96190269bec381fe": {
     "model_module": "@jupyter-widgets/controls",
     "model_module_version": "1.5.0",
     "model_name": "HTMLModel",
     "state": {
      "_dom_classes": [],
      "_model_module": "@jupyter-widgets/controls",
      "_model_module_version": "1.5.0",
      "_model_name": "HTMLModel",
      "_view_count": null,
      "_view_module": "@jupyter-widgets/controls",
      "_view_module_version": "1.5.0",
      "_view_name": "HTMLView",
      "description": "",
      "description_tooltip": null,
      "layout": "IPY_MODEL_814649247fa2447fb1d74ecfbe43bd83",
      "placeholder": "​",
      "style": "IPY_MODEL_644debb6a40141438c7867f94dabfbde",
      "value": " 438M/438M [00:25&lt;00:00, 18.2MB/s]"
     }
    },
    "b332e70f6b2d41e0af798a8d09b2dc65": {
     "model_module": "@jupyter-widgets/controls",
     "model_module_version": "1.5.0",
     "model_name": "FloatProgressModel",
     "state": {
      "_dom_classes": [],
      "_model_module": "@jupyter-widgets/controls",
      "_model_module_version": "1.5.0",
      "_model_name": "FloatProgressModel",
      "_view_count": null,
      "_view_module": "@jupyter-widgets/controls",
      "_view_module_version": "1.5.0",
      "_view_name": "ProgressView",
      "bar_style": "success",
      "description": "",
      "description_tooltip": null,
      "layout": "IPY_MODEL_44d354610ab04d33a7d6ccb8113ada64",
      "max": 300,
      "min": 0,
      "orientation": "horizontal",
      "style": "IPY_MODEL_7483bb884b444a7191205d8cd5f7b454",
      "value": 300
     }
    },
    "b3a83a794191482982bb2316ee024c0d": {
     "model_module": "@jupyter-widgets/base",
     "model_module_version": "1.2.0",
     "model_name": "LayoutModel",
     "state": {
      "_model_module": "@jupyter-widgets/base",
      "_model_module_version": "1.2.0",
      "_model_name": "LayoutModel",
      "_view_count": null,
      "_view_module": "@jupyter-widgets/base",
      "_view_module_version": "1.2.0",
      "_view_name": "LayoutView",
      "align_content": null,
      "align_items": null,
      "align_self": null,
      "border": null,
      "bottom": null,
      "display": null,
      "flex": null,
      "flex_flow": null,
      "grid_area": null,
      "grid_auto_columns": null,
      "grid_auto_flow": null,
      "grid_auto_rows": null,
      "grid_column": null,
      "grid_gap": null,
      "grid_row": null,
      "grid_template_areas": null,
      "grid_template_columns": null,
      "grid_template_rows": null,
      "height": null,
      "justify_content": null,
      "justify_items": null,
      "left": null,
      "margin": null,
      "max_height": null,
      "max_width": null,
      "min_height": null,
      "min_width": null,
      "object_fit": null,
      "object_position": null,
      "order": null,
      "overflow": null,
      "overflow_x": null,
      "overflow_y": null,
      "padding": null,
      "right": null,
      "top": null,
      "visibility": null,
      "width": null
     }
    },
    "b5b15b18fd0f489c8adf5f9e11887bec": {
     "model_module": "@jupyter-widgets/base",
     "model_module_version": "1.2.0",
     "model_name": "LayoutModel",
     "state": {
      "_model_module": "@jupyter-widgets/base",
      "_model_module_version": "1.2.0",
      "_model_name": "LayoutModel",
      "_view_count": null,
      "_view_module": "@jupyter-widgets/base",
      "_view_module_version": "1.2.0",
      "_view_name": "LayoutView",
      "align_content": null,
      "align_items": null,
      "align_self": null,
      "border": null,
      "bottom": null,
      "display": null,
      "flex": null,
      "flex_flow": null,
      "grid_area": null,
      "grid_auto_columns": null,
      "grid_auto_flow": null,
      "grid_auto_rows": null,
      "grid_column": null,
      "grid_gap": null,
      "grid_row": null,
      "grid_template_areas": null,
      "grid_template_columns": null,
      "grid_template_rows": null,
      "height": null,
      "justify_content": null,
      "justify_items": null,
      "left": null,
      "margin": null,
      "max_height": null,
      "max_width": null,
      "min_height": null,
      "min_width": null,
      "object_fit": null,
      "object_position": null,
      "order": null,
      "overflow": null,
      "overflow_x": null,
      "overflow_y": null,
      "padding": null,
      "right": null,
      "top": null,
      "visibility": null,
      "width": null
     }
    },
    "b84f2d50f8f74706928505737f0339b7": {
     "model_module": "@jupyter-widgets/controls",
     "model_module_version": "1.5.0",
     "model_name": "HTMLModel",
     "state": {
      "_dom_classes": [],
      "_model_module": "@jupyter-widgets/controls",
      "_model_module_version": "1.5.0",
      "_model_name": "HTMLModel",
      "_view_count": null,
      "_view_module": "@jupyter-widgets/controls",
      "_view_module_version": "1.5.0",
      "_view_name": "HTMLView",
      "description": "",
      "description_tooltip": null,
      "layout": "IPY_MODEL_fe45f825413e4700ad1c7c18f5891352",
      "placeholder": "​",
      "style": "IPY_MODEL_7ae497ba88f84326b0000562555e4ebb",
      "value": "Downloading: 100%"
     }
    },
    "b9ff5b2ea9254dbd9126b17e3cc9fbf0": {
     "model_module": "@jupyter-widgets/base",
     "model_module_version": "1.2.0",
     "model_name": "LayoutModel",
     "state": {
      "_model_module": "@jupyter-widgets/base",
      "_model_module_version": "1.2.0",
      "_model_name": "LayoutModel",
      "_view_count": null,
      "_view_module": "@jupyter-widgets/base",
      "_view_module_version": "1.2.0",
      "_view_name": "LayoutView",
      "align_content": null,
      "align_items": null,
      "align_self": null,
      "border": null,
      "bottom": null,
      "display": null,
      "flex": null,
      "flex_flow": null,
      "grid_area": null,
      "grid_auto_columns": null,
      "grid_auto_flow": null,
      "grid_auto_rows": null,
      "grid_column": null,
      "grid_gap": null,
      "grid_row": null,
      "grid_template_areas": null,
      "grid_template_columns": null,
      "grid_template_rows": null,
      "height": null,
      "justify_content": null,
      "justify_items": null,
      "left": null,
      "margin": null,
      "max_height": null,
      "max_width": null,
      "min_height": null,
      "min_width": null,
      "object_fit": null,
      "object_position": null,
      "order": null,
      "overflow": null,
      "overflow_x": null,
      "overflow_y": null,
      "padding": null,
      "right": null,
      "top": null,
      "visibility": null,
      "width": null
     }
    },
    "c1171d91c9434081aa5a2da23e2d79fd": {
     "model_module": "@jupyter-widgets/base",
     "model_module_version": "1.2.0",
     "model_name": "LayoutModel",
     "state": {
      "_model_module": "@jupyter-widgets/base",
      "_model_module_version": "1.2.0",
      "_model_name": "LayoutModel",
      "_view_count": null,
      "_view_module": "@jupyter-widgets/base",
      "_view_module_version": "1.2.0",
      "_view_name": "LayoutView",
      "align_content": null,
      "align_items": null,
      "align_self": null,
      "border": null,
      "bottom": null,
      "display": null,
      "flex": null,
      "flex_flow": null,
      "grid_area": null,
      "grid_auto_columns": null,
      "grid_auto_flow": null,
      "grid_auto_rows": null,
      "grid_column": null,
      "grid_gap": null,
      "grid_row": null,
      "grid_template_areas": null,
      "grid_template_columns": null,
      "grid_template_rows": null,
      "height": null,
      "justify_content": null,
      "justify_items": null,
      "left": null,
      "margin": null,
      "max_height": null,
      "max_width": null,
      "min_height": null,
      "min_width": null,
      "object_fit": null,
      "object_position": null,
      "order": null,
      "overflow": null,
      "overflow_x": null,
      "overflow_y": null,
      "padding": null,
      "right": null,
      "top": null,
      "visibility": null,
      "width": null
     }
    },
    "c1a948fff0854ce29b70a33d9ed41727": {
     "model_module": "@jupyter-widgets/base",
     "model_module_version": "1.2.0",
     "model_name": "LayoutModel",
     "state": {
      "_model_module": "@jupyter-widgets/base",
      "_model_module_version": "1.2.0",
      "_model_name": "LayoutModel",
      "_view_count": null,
      "_view_module": "@jupyter-widgets/base",
      "_view_module_version": "1.2.0",
      "_view_name": "LayoutView",
      "align_content": null,
      "align_items": null,
      "align_self": null,
      "border": null,
      "bottom": null,
      "display": null,
      "flex": null,
      "flex_flow": null,
      "grid_area": null,
      "grid_auto_columns": null,
      "grid_auto_flow": null,
      "grid_auto_rows": null,
      "grid_column": null,
      "grid_gap": null,
      "grid_row": null,
      "grid_template_areas": null,
      "grid_template_columns": null,
      "grid_template_rows": null,
      "height": null,
      "justify_content": null,
      "justify_items": null,
      "left": null,
      "margin": null,
      "max_height": null,
      "max_width": null,
      "min_height": null,
      "min_width": null,
      "object_fit": null,
      "object_position": null,
      "order": null,
      "overflow": null,
      "overflow_x": null,
      "overflow_y": null,
      "padding": null,
      "right": null,
      "top": null,
      "visibility": null,
      "width": null
     }
    },
    "c200ba35be3e489c8aab46e1c118d5e5": {
     "model_module": "@jupyter-widgets/controls",
     "model_module_version": "1.5.0",
     "model_name": "DescriptionStyleModel",
     "state": {
      "_model_module": "@jupyter-widgets/controls",
      "_model_module_version": "1.5.0",
      "_model_name": "DescriptionStyleModel",
      "_view_count": null,
      "_view_module": "@jupyter-widgets/base",
      "_view_module_version": "1.2.0",
      "_view_name": "StyleView",
      "description_width": ""
     }
    },
    "c470f02145e04633baf1c30a3ee2e522": {
     "model_module": "@jupyter-widgets/controls",
     "model_module_version": "1.5.0",
     "model_name": "DescriptionStyleModel",
     "state": {
      "_model_module": "@jupyter-widgets/controls",
      "_model_module_version": "1.5.0",
      "_model_name": "DescriptionStyleModel",
      "_view_count": null,
      "_view_module": "@jupyter-widgets/base",
      "_view_module_version": "1.2.0",
      "_view_name": "StyleView",
      "description_width": ""
     }
    },
    "c65125ff54ec496e8365fa6bbb18c73b": {
     "model_module": "@jupyter-widgets/base",
     "model_module_version": "1.2.0",
     "model_name": "LayoutModel",
     "state": {
      "_model_module": "@jupyter-widgets/base",
      "_model_module_version": "1.2.0",
      "_model_name": "LayoutModel",
      "_view_count": null,
      "_view_module": "@jupyter-widgets/base",
      "_view_module_version": "1.2.0",
      "_view_name": "LayoutView",
      "align_content": null,
      "align_items": null,
      "align_self": null,
      "border": null,
      "bottom": null,
      "display": null,
      "flex": null,
      "flex_flow": null,
      "grid_area": null,
      "grid_auto_columns": null,
      "grid_auto_flow": null,
      "grid_auto_rows": null,
      "grid_column": null,
      "grid_gap": null,
      "grid_row": null,
      "grid_template_areas": null,
      "grid_template_columns": null,
      "grid_template_rows": null,
      "height": null,
      "justify_content": null,
      "justify_items": null,
      "left": null,
      "margin": null,
      "max_height": null,
      "max_width": null,
      "min_height": null,
      "min_width": null,
      "object_fit": null,
      "object_position": null,
      "order": null,
      "overflow": null,
      "overflow_x": null,
      "overflow_y": null,
      "padding": null,
      "right": null,
      "top": null,
      "visibility": null,
      "width": null
     }
    },
    "c73d0f633b2941fa92195205e088ff45": {
     "model_module": "@jupyter-widgets/base",
     "model_module_version": "1.2.0",
     "model_name": "LayoutModel",
     "state": {
      "_model_module": "@jupyter-widgets/base",
      "_model_module_version": "1.2.0",
      "_model_name": "LayoutModel",
      "_view_count": null,
      "_view_module": "@jupyter-widgets/base",
      "_view_module_version": "1.2.0",
      "_view_name": "LayoutView",
      "align_content": null,
      "align_items": null,
      "align_self": null,
      "border": null,
      "bottom": null,
      "display": null,
      "flex": null,
      "flex_flow": null,
      "grid_area": null,
      "grid_auto_columns": null,
      "grid_auto_flow": null,
      "grid_auto_rows": null,
      "grid_column": null,
      "grid_gap": null,
      "grid_row": null,
      "grid_template_areas": null,
      "grid_template_columns": null,
      "grid_template_rows": null,
      "height": null,
      "justify_content": null,
      "justify_items": null,
      "left": null,
      "margin": null,
      "max_height": null,
      "max_width": null,
      "min_height": null,
      "min_width": null,
      "object_fit": null,
      "object_position": null,
      "order": null,
      "overflow": null,
      "overflow_x": null,
      "overflow_y": null,
      "padding": null,
      "right": null,
      "top": null,
      "visibility": null,
      "width": null
     }
    },
    "d7556a76e73b4cf9a0fc7b4d711c99f8": {
     "model_module": "@jupyter-widgets/controls",
     "model_module_version": "1.5.0",
     "model_name": "HTMLModel",
     "state": {
      "_dom_classes": [],
      "_model_module": "@jupyter-widgets/controls",
      "_model_module_version": "1.5.0",
      "_model_name": "HTMLModel",
      "_view_count": null,
      "_view_module": "@jupyter-widgets/controls",
      "_view_module_version": "1.5.0",
      "_view_name": "HTMLView",
      "description": "",
      "description_tooltip": null,
      "layout": "IPY_MODEL_e7c6870461c448429bf0ff5664037aff",
      "placeholder": "​",
      "style": "IPY_MODEL_e994944813ce4be7a695c78d474d1e8b",
      "value": " 112/112 [00:00&lt;00:00, 4.28kB/s]"
     }
    },
    "e0daaa4d194d4a5e866a0f147afb7655": {
     "model_module": "@jupyter-widgets/controls",
     "model_module_version": "1.5.0",
     "model_name": "HTMLModel",
     "state": {
      "_dom_classes": [],
      "_model_module": "@jupyter-widgets/controls",
      "_model_module_version": "1.5.0",
      "_model_name": "HTMLModel",
      "_view_count": null,
      "_view_module": "@jupyter-widgets/controls",
      "_view_module_version": "1.5.0",
      "_view_name": "HTMLView",
      "description": "",
      "description_tooltip": null,
      "layout": "IPY_MODEL_b9ff5b2ea9254dbd9126b17e3cc9fbf0",
      "placeholder": "​",
      "style": "IPY_MODEL_0da6530fbbcf484b81b4103bebf1ddcf",
      "value": "100%"
     }
    },
    "e7c6870461c448429bf0ff5664037aff": {
     "model_module": "@jupyter-widgets/base",
     "model_module_version": "1.2.0",
     "model_name": "LayoutModel",
     "state": {
      "_model_module": "@jupyter-widgets/base",
      "_model_module_version": "1.2.0",
      "_model_name": "LayoutModel",
      "_view_count": null,
      "_view_module": "@jupyter-widgets/base",
      "_view_module_version": "1.2.0",
      "_view_name": "LayoutView",
      "align_content": null,
      "align_items": null,
      "align_self": null,
      "border": null,
      "bottom": null,
      "display": null,
      "flex": null,
      "flex_flow": null,
      "grid_area": null,
      "grid_auto_columns": null,
      "grid_auto_flow": null,
      "grid_auto_rows": null,
      "grid_column": null,
      "grid_gap": null,
      "grid_row": null,
      "grid_template_areas": null,
      "grid_template_columns": null,
      "grid_template_rows": null,
      "height": null,
      "justify_content": null,
      "justify_items": null,
      "left": null,
      "margin": null,
      "max_height": null,
      "max_width": null,
      "min_height": null,
      "min_width": null,
      "object_fit": null,
      "object_position": null,
      "order": null,
      "overflow": null,
      "overflow_x": null,
      "overflow_y": null,
      "padding": null,
      "right": null,
      "top": null,
      "visibility": null,
      "width": null
     }
    },
    "e994944813ce4be7a695c78d474d1e8b": {
     "model_module": "@jupyter-widgets/controls",
     "model_module_version": "1.5.0",
     "model_name": "DescriptionStyleModel",
     "state": {
      "_model_module": "@jupyter-widgets/controls",
      "_model_module_version": "1.5.0",
      "_model_name": "DescriptionStyleModel",
      "_view_count": null,
      "_view_module": "@jupyter-widgets/base",
      "_view_module_version": "1.2.0",
      "_view_name": "StyleView",
      "description_width": ""
     }
    },
    "f2da6026a5934705b39ec21cc8000c98": {
     "model_module": "@jupyter-widgets/controls",
     "model_module_version": "1.5.0",
     "model_name": "DescriptionStyleModel",
     "state": {
      "_model_module": "@jupyter-widgets/controls",
      "_model_module_version": "1.5.0",
      "_model_name": "DescriptionStyleModel",
      "_view_count": null,
      "_view_module": "@jupyter-widgets/base",
      "_view_module_version": "1.2.0",
      "_view_name": "StyleView",
      "description_width": ""
     }
    },
    "f8db03d5d3b14adf89d288e02457d2fc": {
     "model_module": "@jupyter-widgets/controls",
     "model_module_version": "1.5.0",
     "model_name": "HTMLModel",
     "state": {
      "_dom_classes": [],
      "_model_module": "@jupyter-widgets/controls",
      "_model_module_version": "1.5.0",
      "_model_name": "HTMLModel",
      "_view_count": null,
      "_view_module": "@jupyter-widgets/controls",
      "_view_module_version": "1.5.0",
      "_view_name": "HTMLView",
      "description": "",
      "description_tooltip": null,
      "layout": "IPY_MODEL_9d40c62690f64938bca563639f4447f7",
      "placeholder": "​",
      "style": "IPY_MODEL_9c62ca26b7b44b9796df630d7e33d9a9",
      "value": "Downloading: 100%"
     }
    },
    "fc8e45a987c2460ba2b0379bae373fef": {
     "model_module": "@jupyter-widgets/controls",
     "model_module_version": "1.5.0",
     "model_name": "FloatProgressModel",
     "state": {
      "_dom_classes": [],
      "_model_module": "@jupyter-widgets/controls",
      "_model_module_version": "1.5.0",
      "_model_name": "FloatProgressModel",
      "_view_count": null,
      "_view_module": "@jupyter-widgets/controls",
      "_view_module_version": "1.5.0",
      "_view_name": "ProgressView",
      "bar_style": "success",
      "description": "",
      "description_tooltip": null,
      "layout": "IPY_MODEL_c1171d91c9434081aa5a2da23e2d79fd",
      "max": 174,
      "min": 0,
      "orientation": "horizontal",
      "style": "IPY_MODEL_6e792fec58814b619c6a035b69e7588c",
      "value": 174
     }
    },
    "fd989039e9ef4f178b8562f2a8e39b9c": {
     "model_module": "@jupyter-widgets/controls",
     "model_module_version": "1.5.0",
     "model_name": "HBoxModel",
     "state": {
      "_dom_classes": [],
      "_model_module": "@jupyter-widgets/controls",
      "_model_module_version": "1.5.0",
      "_model_name": "HBoxModel",
      "_view_count": null,
      "_view_module": "@jupyter-widgets/controls",
      "_view_module_version": "1.5.0",
      "_view_name": "HBoxView",
      "box_style": "",
      "children": [
       "IPY_MODEL_e0daaa4d194d4a5e866a0f147afb7655",
       "IPY_MODEL_b332e70f6b2d41e0af798a8d09b2dc65",
       "IPY_MODEL_1547df5637c54066b6bc91bbbb2f98af"
      ],
      "layout": "IPY_MODEL_98d41d0be53f486285a83effb1c79447"
     }
    },
    "fe45f825413e4700ad1c7c18f5891352": {
     "model_module": "@jupyter-widgets/base",
     "model_module_version": "1.2.0",
     "model_name": "LayoutModel",
     "state": {
      "_model_module": "@jupyter-widgets/base",
      "_model_module_version": "1.2.0",
      "_model_name": "LayoutModel",
      "_view_count": null,
      "_view_module": "@jupyter-widgets/base",
      "_view_module_version": "1.2.0",
      "_view_name": "LayoutView",
      "align_content": null,
      "align_items": null,
      "align_self": null,
      "border": null,
      "bottom": null,
      "display": null,
      "flex": null,
      "flex_flow": null,
      "grid_area": null,
      "grid_auto_columns": null,
      "grid_auto_flow": null,
      "grid_auto_rows": null,
      "grid_column": null,
      "grid_gap": null,
      "grid_row": null,
      "grid_template_areas": null,
      "grid_template_columns": null,
      "grid_template_rows": null,
      "height": null,
      "justify_content": null,
      "justify_items": null,
      "left": null,
      "margin": null,
      "max_height": null,
      "max_width": null,
      "min_height": null,
      "min_width": null,
      "object_fit": null,
      "object_position": null,
      "order": null,
      "overflow": null,
      "overflow_x": null,
      "overflow_y": null,
      "padding": null,
      "right": null,
      "top": null,
      "visibility": null,
      "width": null
     }
    }
   }
  }
 },
 "nbformat": 4,
 "nbformat_minor": 1
}
