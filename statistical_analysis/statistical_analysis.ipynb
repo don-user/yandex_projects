{
 "cells": [
  {
   "cell_type": "markdown",
   "metadata": {
    "deletable": false
   },
   "source": [
    "# Статистический анализ данных от оператора сотовой связи"
   ]
  },
  {
   "cell_type": "markdown",
   "metadata": {},
   "source": [
    "В по ходу исследованияпредстоит сделать предварительный анализ тарифов на небольшой выборке клиентов. В нашем распоряжении данные 500 пользователей «Мегалайна»: кто они, откуда, каким тарифом пользуются, сколько звонков и сообщений каждый отправил за 2018 год. Нужно проанализировать поведение клиентов и сделать вывод — какой тариф лучше.\n",
    "\n",
    "Описание тарифов\n",
    "Тариф «Смарт»\n",
    "Ежемесячная плата: 550 рублей\n",
    "Включено 500 минут разговора, 50 сообщений и 15 Гб интернет-трафика\n",
    "Стоимость услуг сверх тарифного пакета:\n",
    "минута разговора: 3 рубля\n",
    "сообщение: 3 рубля\n",
    "1 Гб интернет-трафика: 200 рублей\n",
    "\n",
    "Тариф «Ультра»\n",
    "Ежемесячная плата: 1950 рублей\n",
    "Включено 3000 минут разговора, 1000 сообщений и 30 Гб интернет-трафика\n",
    "Стоимость услуг сверх тарифного пакета:\n",
    "минута разговора: 1 рубль\n",
    "сообщение: 1 рубль\n",
    "1 Гб интернет-трафика: 150 рублей\n",
    "\n",
    "«Мегалайн» всегда округляет вверх значения минут и мегабайтов. Если пользователь проговорил всего 1 секунду, в тарифе засчитывается целая минута."
   ]
  },
  {
   "cell_type": "markdown",
   "metadata": {},
   "source": [
    "### Импортируем библиотеки"
   ]
  },
  {
   "cell_type": "code",
   "execution_count": 1,
   "metadata": {},
   "outputs": [],
   "source": [
    "#импорт библиотек\n",
    "import pandas as pd\n",
    "import numpy as np\n",
    "import seaborn as sns\n",
    "import matplotlib.pyplot as plt\n",
    "\n",
    "from scipy import stats as st"
   ]
  },
  {
   "cell_type": "markdown",
   "metadata": {},
   "source": [
    "### Откроем файл с данными и изучим общую информацию"
   ]
  },
  {
   "cell_type": "code",
   "execution_count": 3,
   "metadata": {
    "deletable": false
   },
   "outputs": [],
   "source": [
    "calls = pd.read_csv('/datasets/calls.csv')"
   ]
  },
  {
   "cell_type": "markdown",
   "metadata": {
    "tags": [
     "start_task"
    ]
   },
   "source": [
    "Выведим первые 5 строк датафрейма `calls`."
   ]
  },
  {
   "cell_type": "code",
   "execution_count": 3,
   "metadata": {
    "deletable": false
   },
   "outputs": [
    {
     "data": {
      "text/html": [
       "<div>\n",
       "<style scoped>\n",
       "    .dataframe tbody tr th:only-of-type {\n",
       "        vertical-align: middle;\n",
       "    }\n",
       "\n",
       "    .dataframe tbody tr th {\n",
       "        vertical-align: top;\n",
       "    }\n",
       "\n",
       "    .dataframe thead th {\n",
       "        text-align: right;\n",
       "    }\n",
       "</style>\n",
       "<table border=\"1\" class=\"dataframe\">\n",
       "  <thead>\n",
       "    <tr style=\"text-align: right;\">\n",
       "      <th></th>\n",
       "      <th>id</th>\n",
       "      <th>call_date</th>\n",
       "      <th>duration</th>\n",
       "      <th>user_id</th>\n",
       "    </tr>\n",
       "  </thead>\n",
       "  <tbody>\n",
       "    <tr>\n",
       "      <th>0</th>\n",
       "      <td>1000_0</td>\n",
       "      <td>2018-07-25</td>\n",
       "      <td>0.00</td>\n",
       "      <td>1000</td>\n",
       "    </tr>\n",
       "    <tr>\n",
       "      <th>1</th>\n",
       "      <td>1000_1</td>\n",
       "      <td>2018-08-17</td>\n",
       "      <td>0.00</td>\n",
       "      <td>1000</td>\n",
       "    </tr>\n",
       "    <tr>\n",
       "      <th>2</th>\n",
       "      <td>1000_2</td>\n",
       "      <td>2018-06-11</td>\n",
       "      <td>2.85</td>\n",
       "      <td>1000</td>\n",
       "    </tr>\n",
       "    <tr>\n",
       "      <th>3</th>\n",
       "      <td>1000_3</td>\n",
       "      <td>2018-09-21</td>\n",
       "      <td>13.80</td>\n",
       "      <td>1000</td>\n",
       "    </tr>\n",
       "    <tr>\n",
       "      <th>4</th>\n",
       "      <td>1000_4</td>\n",
       "      <td>2018-12-15</td>\n",
       "      <td>5.18</td>\n",
       "      <td>1000</td>\n",
       "    </tr>\n",
       "  </tbody>\n",
       "</table>\n",
       "</div>"
      ],
      "text/plain": [
       "       id   call_date  duration  user_id\n",
       "0  1000_0  2018-07-25      0.00     1000\n",
       "1  1000_1  2018-08-17      0.00     1000\n",
       "2  1000_2  2018-06-11      2.85     1000\n",
       "3  1000_3  2018-09-21     13.80     1000\n",
       "4  1000_4  2018-12-15      5.18     1000"
      ]
     },
     "execution_count": 3,
     "metadata": {},
     "output_type": "execute_result"
    }
   ],
   "source": [
    "calls.head()"
   ]
  },
  {
   "cell_type": "markdown",
   "metadata": {
    "tags": [
     "start_task"
    ]
   },
   "source": [
    "Выведим основную информацию для датафрейма `calls` с помощью метода `info()`."
   ]
  },
  {
   "cell_type": "code",
   "execution_count": 4,
   "metadata": {
    "deletable": false
   },
   "outputs": [
    {
     "name": "stdout",
     "output_type": "stream",
     "text": [
      "<class 'pandas.core.frame.DataFrame'>\n",
      "RangeIndex: 202607 entries, 0 to 202606\n",
      "Data columns (total 4 columns):\n",
      " #   Column     Non-Null Count   Dtype  \n",
      "---  ------     --------------   -----  \n",
      " 0   id         202607 non-null  object \n",
      " 1   call_date  202607 non-null  object \n",
      " 2   duration   202607 non-null  float64\n",
      " 3   user_id    202607 non-null  int64  \n",
      "dtypes: float64(1), int64(1), object(2)\n",
      "memory usage: 6.2+ MB\n"
     ]
    }
   ],
   "source": [
    "calls.info()"
   ]
  },
  {
   "cell_type": "markdown",
   "metadata": {
    "tags": [
     "start_task"
    ]
   },
   "source": [
    "С помощью метода `hist()` выведим гистограмму для столбца с продолжительностью звонков. "
   ]
  },
  {
   "cell_type": "code",
   "execution_count": 5,
   "metadata": {
    "deletable": false
   },
   "outputs": [
    {
     "data": {
      "image/png": "[encoded data removed]",
      "text/plain": [
       "<Figure size 432x288 with 1 Axes>"
      ]
     },
     "metadata": {
      "needs_background": "light"
     },
     "output_type": "display_data"
    }
   ],
   "source": [
    "calls['duration'].hist(bins=20);"
   ]
  },
  {
   "cell_type": "markdown",
   "metadata": {
    "tags": [
     "start_task"
    ]
   },
   "source": [
    "Откроем файл `internet.csv`, сохраним датафрейм в переменную `sessions`."
   ]
  },
  {
   "cell_type": "code",
   "execution_count": 4,
   "metadata": {
    "deletable": false
   },
   "outputs": [],
   "source": [
    "sessions = pd.read_csv('/datasets/internet.csv')"
   ]
  },
  {
   "cell_type": "markdown",
   "metadata": {
    "tags": [
     "start_task"
    ]
   },
   "source": [
    "Выведим первые 5 строк датафрейма `sessions`."
   ]
  },
  {
   "cell_type": "code",
   "execution_count": 7,
   "metadata": {
    "deletable": false
   },
   "outputs": [
    {
     "data": {
      "text/html": [
       "<div>\n",
       "<style scoped>\n",
       "    .dataframe tbody tr th:only-of-type {\n",
       "        vertical-align: middle;\n",
       "    }\n",
       "\n",
       "    .dataframe tbody tr th {\n",
       "        vertical-align: top;\n",
       "    }\n",
       "\n",
       "    .dataframe thead th {\n",
       "        text-align: right;\n",
       "    }\n",
       "</style>\n",
       "<table border=\"1\" class=\"dataframe\">\n",
       "  <thead>\n",
       "    <tr style=\"text-align: right;\">\n",
       "      <th></th>\n",
       "      <th>Unnamed: 0</th>\n",
       "      <th>id</th>\n",
       "      <th>mb_used</th>\n",
       "      <th>session_date</th>\n",
       "      <th>user_id</th>\n",
       "    </tr>\n",
       "  </thead>\n",
       "  <tbody>\n",
       "    <tr>\n",
       "      <th>0</th>\n",
       "      <td>0</td>\n",
       "      <td>1000_0</td>\n",
       "      <td>112.95</td>\n",
       "      <td>2018-11-25</td>\n",
       "      <td>1000</td>\n",
       "    </tr>\n",
       "    <tr>\n",
       "      <th>1</th>\n",
       "      <td>1</td>\n",
       "      <td>1000_1</td>\n",
       "      <td>1052.81</td>\n",
       "      <td>2018-09-07</td>\n",
       "      <td>1000</td>\n",
       "    </tr>\n",
       "    <tr>\n",
       "      <th>2</th>\n",
       "      <td>2</td>\n",
       "      <td>1000_2</td>\n",
       "      <td>1197.26</td>\n",
       "      <td>2018-06-25</td>\n",
       "      <td>1000</td>\n",
       "    </tr>\n",
       "    <tr>\n",
       "      <th>3</th>\n",
       "      <td>3</td>\n",
       "      <td>1000_3</td>\n",
       "      <td>550.27</td>\n",
       "      <td>2018-08-22</td>\n",
       "      <td>1000</td>\n",
       "    </tr>\n",
       "    <tr>\n",
       "      <th>4</th>\n",
       "      <td>4</td>\n",
       "      <td>1000_4</td>\n",
       "      <td>302.56</td>\n",
       "      <td>2018-09-24</td>\n",
       "      <td>1000</td>\n",
       "    </tr>\n",
       "  </tbody>\n",
       "</table>\n",
       "</div>"
      ],
      "text/plain": [
       "   Unnamed: 0      id  mb_used session_date  user_id\n",
       "0           0  1000_0   112.95   2018-11-25     1000\n",
       "1           1  1000_1  1052.81   2018-09-07     1000\n",
       "2           2  1000_2  1197.26   2018-06-25     1000\n",
       "3           3  1000_3   550.27   2018-08-22     1000\n",
       "4           4  1000_4   302.56   2018-09-24     1000"
      ]
     },
     "execution_count": 7,
     "metadata": {},
     "output_type": "execute_result"
    }
   ],
   "source": [
    "sessions.head()"
   ]
  },
  {
   "cell_type": "markdown",
   "metadata": {
    "tags": [
     "start_task"
    ]
   },
   "source": [
    "Выведим основную информацию для датафрейма sessions с помощью метода `info()`. "
   ]
  },
  {
   "cell_type": "code",
   "execution_count": 8,
   "metadata": {
    "deletable": false
   },
   "outputs": [
    {
     "name": "stdout",
     "output_type": "stream",
     "text": [
      "<class 'pandas.core.frame.DataFrame'>\n",
      "RangeIndex: 149396 entries, 0 to 149395\n",
      "Data columns (total 5 columns):\n",
      " #   Column        Non-Null Count   Dtype  \n",
      "---  ------        --------------   -----  \n",
      " 0   Unnamed: 0    149396 non-null  int64  \n",
      " 1   id            149396 non-null  object \n",
      " 2   mb_used       149396 non-null  float64\n",
      " 3   session_date  149396 non-null  object \n",
      " 4   user_id       149396 non-null  int64  \n",
      "dtypes: float64(1), int64(2), object(2)\n",
      "memory usage: 5.7+ MB\n"
     ]
    }
   ],
   "source": [
    "sessions.info()"
   ]
  },
  {
   "cell_type": "markdown",
   "metadata": {
    "tags": [
     "start_task"
    ]
   },
   "source": [
    "С помощью метода `hist()` выведим гистограмму для столбца с количеством потраченных мегабайт."
   ]
  },
  {
   "cell_type": "code",
   "execution_count": 9,
   "metadata": {
    "deletable": false
   },
   "outputs": [
    {
     "data": {
      "image/png": "[encoded data removed]",
      "text/plain": [
       "<Figure size 432x288 with 1 Axes>"
      ]
     },
     "metadata": {
      "needs_background": "light"
     },
     "output_type": "display_data"
    }
   ],
   "source": [
    "sessions['mb_used'].hist(bins=20);"
   ]
  },
  {
   "cell_type": "markdown",
   "metadata": {
    "tags": [
     "start_task"
    ]
   },
   "source": [
    "Откроем файл `messages.csv`, сохраним датафрейм в переменную `messages`."
   ]
  },
  {
   "cell_type": "code",
   "execution_count": 5,
   "metadata": {
    "deletable": false
   },
   "outputs": [],
   "source": [
    "messages = pd.read_csv('/datasets/messages.csv')"
   ]
  },
  {
   "cell_type": "markdown",
   "metadata": {
    "tags": [
     "start_task"
    ]
   },
   "source": [
    "Выведим первые 5 строк датафрейма `messages`."
   ]
  },
  {
   "cell_type": "code",
   "execution_count": 11,
   "metadata": {
    "deletable": false
   },
   "outputs": [
    {
     "data": {
      "text/html": [
       "<div>\n",
       "<style scoped>\n",
       "    .dataframe tbody tr th:only-of-type {\n",
       "        vertical-align: middle;\n",
       "    }\n",
       "\n",
       "    .dataframe tbody tr th {\n",
       "        vertical-align: top;\n",
       "    }\n",
       "\n",
       "    .dataframe thead th {\n",
       "        text-align: right;\n",
       "    }\n",
       "</style>\n",
       "<table border=\"1\" class=\"dataframe\">\n",
       "  <thead>\n",
       "    <tr style=\"text-align: right;\">\n",
       "      <th></th>\n",
       "      <th>id</th>\n",
       "      <th>message_date</th>\n",
       "      <th>user_id</th>\n",
       "    </tr>\n",
       "  </thead>\n",
       "  <tbody>\n",
       "    <tr>\n",
       "      <th>0</th>\n",
       "      <td>1000_0</td>\n",
       "      <td>2018-06-27</td>\n",
       "      <td>1000</td>\n",
       "    </tr>\n",
       "    <tr>\n",
       "      <th>1</th>\n",
       "      <td>1000_1</td>\n",
       "      <td>2018-10-08</td>\n",
       "      <td>1000</td>\n",
       "    </tr>\n",
       "    <tr>\n",
       "      <th>2</th>\n",
       "      <td>1000_2</td>\n",
       "      <td>2018-08-04</td>\n",
       "      <td>1000</td>\n",
       "    </tr>\n",
       "    <tr>\n",
       "      <th>3</th>\n",
       "      <td>1000_3</td>\n",
       "      <td>2018-06-16</td>\n",
       "      <td>1000</td>\n",
       "    </tr>\n",
       "    <tr>\n",
       "      <th>4</th>\n",
       "      <td>1000_4</td>\n",
       "      <td>2018-12-05</td>\n",
       "      <td>1000</td>\n",
       "    </tr>\n",
       "  </tbody>\n",
       "</table>\n",
       "</div>"
      ],
      "text/plain": [
       "       id message_date  user_id\n",
       "0  1000_0   2018-06-27     1000\n",
       "1  1000_1   2018-10-08     1000\n",
       "2  1000_2   2018-08-04     1000\n",
       "3  1000_3   2018-06-16     1000\n",
       "4  1000_4   2018-12-05     1000"
      ]
     },
     "execution_count": 11,
     "metadata": {},
     "output_type": "execute_result"
    }
   ],
   "source": [
    "messages.head()"
   ]
  },
  {
   "cell_type": "markdown",
   "metadata": {
    "tags": [
     "start_task"
    ]
   },
   "source": [
    "Выведим основную информацию для датафрейма `messages` с помощью метода `info()`. "
   ]
  },
  {
   "cell_type": "code",
   "execution_count": 12,
   "metadata": {
    "deletable": false
   },
   "outputs": [
    {
     "name": "stdout",
     "output_type": "stream",
     "text": [
      "<class 'pandas.core.frame.DataFrame'>\n",
      "RangeIndex: 123036 entries, 0 to 123035\n",
      "Data columns (total 3 columns):\n",
      " #   Column        Non-Null Count   Dtype \n",
      "---  ------        --------------   ----- \n",
      " 0   id            123036 non-null  object\n",
      " 1   message_date  123036 non-null  object\n",
      " 2   user_id       123036 non-null  int64 \n",
      "dtypes: int64(1), object(2)\n",
      "memory usage: 2.8+ MB\n"
     ]
    }
   ],
   "source": [
    "messages.info()"
   ]
  },
  {
   "cell_type": "markdown",
   "metadata": {
    "tags": [
     "start_task"
    ]
   },
   "source": [
    "Откроем файл `tariffs.csv`, сохраним датафрейм в переменную `tariffs`."
   ]
  },
  {
   "cell_type": "code",
   "execution_count": 6,
   "metadata": {
    "deletable": false
   },
   "outputs": [],
   "source": [
    "tariffs = pd.read_csv('/datasets/tariffs.csv')"
   ]
  },
  {
   "cell_type": "markdown",
   "metadata": {
    "tags": [
     "start_task"
    ]
   },
   "source": [
    "Выведим весь датафрейм `tariffs`."
   ]
  },
  {
   "cell_type": "code",
   "execution_count": 14,
   "metadata": {
    "deletable": false
   },
   "outputs": [
    {
     "data": {
      "text/html": [
       "<div>\n",
       "<style scoped>\n",
       "    .dataframe tbody tr th:only-of-type {\n",
       "        vertical-align: middle;\n",
       "    }\n",
       "\n",
       "    .dataframe tbody tr th {\n",
       "        vertical-align: top;\n",
       "    }\n",
       "\n",
       "    .dataframe thead th {\n",
       "        text-align: right;\n",
       "    }\n",
       "</style>\n",
       "<table border=\"1\" class=\"dataframe\">\n",
       "  <thead>\n",
       "    <tr style=\"text-align: right;\">\n",
       "      <th></th>\n",
       "      <th>messages_included</th>\n",
       "      <th>mb_per_month_included</th>\n",
       "      <th>minutes_included</th>\n",
       "      <th>rub_monthly_fee</th>\n",
       "      <th>rub_per_gb</th>\n",
       "      <th>rub_per_message</th>\n",
       "      <th>rub_per_minute</th>\n",
       "      <th>tariff_name</th>\n",
       "    </tr>\n",
       "  </thead>\n",
       "  <tbody>\n",
       "    <tr>\n",
       "      <th>0</th>\n",
       "      <td>50</td>\n",
       "      <td>15360</td>\n",
       "      <td>500</td>\n",
       "      <td>550</td>\n",
       "      <td>200</td>\n",
       "      <td>3</td>\n",
       "      <td>3</td>\n",
       "      <td>smart</td>\n",
       "    </tr>\n",
       "    <tr>\n",
       "      <th>1</th>\n",
       "      <td>1000</td>\n",
       "      <td>30720</td>\n",
       "      <td>3000</td>\n",
       "      <td>1950</td>\n",
       "      <td>150</td>\n",
       "      <td>1</td>\n",
       "      <td>1</td>\n",
       "      <td>ultra</td>\n",
       "    </tr>\n",
       "  </tbody>\n",
       "</table>\n",
       "</div>"
      ],
      "text/plain": [
       "   messages_included  mb_per_month_included  minutes_included  \\\n",
       "0                 50                  15360               500   \n",
       "1               1000                  30720              3000   \n",
       "\n",
       "   rub_monthly_fee  rub_per_gb  rub_per_message  rub_per_minute tariff_name  \n",
       "0              550         200                3               3       smart  \n",
       "1             1950         150                1               1       ultra  "
      ]
     },
     "execution_count": 14,
     "metadata": {},
     "output_type": "execute_result"
    }
   ],
   "source": [
    "tariffs.head()"
   ]
  },
  {
   "cell_type": "markdown",
   "metadata": {
    "tags": [
     "start_task"
    ]
   },
   "source": [
    "Выведим основную информацию для датафрейма `tariffs` с помощью метода `info()`."
   ]
  },
  {
   "cell_type": "code",
   "execution_count": 15,
   "metadata": {
    "deletable": false
   },
   "outputs": [
    {
     "name": "stdout",
     "output_type": "stream",
     "text": [
      "<class 'pandas.core.frame.DataFrame'>\n",
      "RangeIndex: 2 entries, 0 to 1\n",
      "Data columns (total 8 columns):\n",
      " #   Column                 Non-Null Count  Dtype \n",
      "---  ------                 --------------  ----- \n",
      " 0   messages_included      2 non-null      int64 \n",
      " 1   mb_per_month_included  2 non-null      int64 \n",
      " 2   minutes_included       2 non-null      int64 \n",
      " 3   rub_monthly_fee        2 non-null      int64 \n",
      " 4   rub_per_gb             2 non-null      int64 \n",
      " 5   rub_per_message        2 non-null      int64 \n",
      " 6   rub_per_minute         2 non-null      int64 \n",
      " 7   tariff_name            2 non-null      object\n",
      "dtypes: int64(7), object(1)\n",
      "memory usage: 256.0+ bytes\n"
     ]
    }
   ],
   "source": [
    "tariffs.info()"
   ]
  },
  {
   "cell_type": "markdown",
   "metadata": {
    "tags": [
     "start_task"
    ]
   },
   "source": [
    "Откроем файл `users.csv`, сохраним датафрейм в переменную `users`."
   ]
  },
  {
   "cell_type": "code",
   "execution_count": 8,
   "metadata": {
    "deletable": false
   },
   "outputs": [],
   "source": [
    "users = pd.read_csv('/datasets/users.csv')"
   ]
  },
  {
   "cell_type": "markdown",
   "metadata": {
    "tags": [
     "start_task"
    ]
   },
   "source": [
    "Выведим первые 5 строк датафрейма `users`."
   ]
  },
  {
   "cell_type": "code",
   "execution_count": 17,
   "metadata": {
    "deletable": false
   },
   "outputs": [
    {
     "data": {
      "text/html": [
       "<div>\n",
       "<style scoped>\n",
       "    .dataframe tbody tr th:only-of-type {\n",
       "        vertical-align: middle;\n",
       "    }\n",
       "\n",
       "    .dataframe tbody tr th {\n",
       "        vertical-align: top;\n",
       "    }\n",
       "\n",
       "    .dataframe thead th {\n",
       "        text-align: right;\n",
       "    }\n",
       "</style>\n",
       "<table border=\"1\" class=\"dataframe\">\n",
       "  <thead>\n",
       "    <tr style=\"text-align: right;\">\n",
       "      <th></th>\n",
       "      <th>user_id</th>\n",
       "      <th>age</th>\n",
       "      <th>churn_date</th>\n",
       "      <th>city</th>\n",
       "      <th>first_name</th>\n",
       "      <th>last_name</th>\n",
       "      <th>reg_date</th>\n",
       "      <th>tariff</th>\n",
       "    </tr>\n",
       "  </thead>\n",
       "  <tbody>\n",
       "    <tr>\n",
       "      <th>0</th>\n",
       "      <td>1000</td>\n",
       "      <td>52</td>\n",
       "      <td>NaN</td>\n",
       "      <td>Краснодар</td>\n",
       "      <td>Рафаил</td>\n",
       "      <td>Верещагин</td>\n",
       "      <td>2018-05-25</td>\n",
       "      <td>ultra</td>\n",
       "    </tr>\n",
       "    <tr>\n",
       "      <th>1</th>\n",
       "      <td>1001</td>\n",
       "      <td>41</td>\n",
       "      <td>NaN</td>\n",
       "      <td>Москва</td>\n",
       "      <td>Иван</td>\n",
       "      <td>Ежов</td>\n",
       "      <td>2018-11-01</td>\n",
       "      <td>smart</td>\n",
       "    </tr>\n",
       "    <tr>\n",
       "      <th>2</th>\n",
       "      <td>1002</td>\n",
       "      <td>59</td>\n",
       "      <td>NaN</td>\n",
       "      <td>Стерлитамак</td>\n",
       "      <td>Евгений</td>\n",
       "      <td>Абрамович</td>\n",
       "      <td>2018-06-17</td>\n",
       "      <td>smart</td>\n",
       "    </tr>\n",
       "    <tr>\n",
       "      <th>3</th>\n",
       "      <td>1003</td>\n",
       "      <td>23</td>\n",
       "      <td>NaN</td>\n",
       "      <td>Москва</td>\n",
       "      <td>Белла</td>\n",
       "      <td>Белякова</td>\n",
       "      <td>2018-08-17</td>\n",
       "      <td>ultra</td>\n",
       "    </tr>\n",
       "    <tr>\n",
       "      <th>4</th>\n",
       "      <td>1004</td>\n",
       "      <td>68</td>\n",
       "      <td>NaN</td>\n",
       "      <td>Новокузнецк</td>\n",
       "      <td>Татьяна</td>\n",
       "      <td>Авдеенко</td>\n",
       "      <td>2018-05-14</td>\n",
       "      <td>ultra</td>\n",
       "    </tr>\n",
       "  </tbody>\n",
       "</table>\n",
       "</div>"
      ],
      "text/plain": [
       "   user_id  age churn_date         city first_name  last_name    reg_date  \\\n",
       "0     1000   52        NaN    Краснодар     Рафаил  Верещагин  2018-05-25   \n",
       "1     1001   41        NaN       Москва       Иван       Ежов  2018-11-01   \n",
       "2     1002   59        NaN  Стерлитамак    Евгений  Абрамович  2018-06-17   \n",
       "3     1003   23        NaN       Москва      Белла   Белякова  2018-08-17   \n",
       "4     1004   68        NaN  Новокузнецк    Татьяна   Авдеенко  2018-05-14   \n",
       "\n",
       "  tariff  \n",
       "0  ultra  \n",
       "1  smart  \n",
       "2  smart  \n",
       "3  ultra  \n",
       "4  ultra  "
      ]
     },
     "execution_count": 17,
     "metadata": {},
     "output_type": "execute_result"
    }
   ],
   "source": [
    "users.head()"
   ]
  },
  {
   "cell_type": "markdown",
   "metadata": {
    "tags": [
     "start_task"
    ]
   },
   "source": [
    "Выведим основную информацию для датафрейма `users` с помощью метода `info()`."
   ]
  },
  {
   "cell_type": "code",
   "execution_count": 18,
   "metadata": {
    "deletable": false
   },
   "outputs": [
    {
     "name": "stdout",
     "output_type": "stream",
     "text": [
      "<class 'pandas.core.frame.DataFrame'>\n",
      "RangeIndex: 500 entries, 0 to 499\n",
      "Data columns (total 8 columns):\n",
      " #   Column      Non-Null Count  Dtype \n",
      "---  ------      --------------  ----- \n",
      " 0   user_id     500 non-null    int64 \n",
      " 1   age         500 non-null    int64 \n",
      " 2   churn_date  38 non-null     object\n",
      " 3   city        500 non-null    object\n",
      " 4   first_name  500 non-null    object\n",
      " 5   last_name   500 non-null    object\n",
      " 6   reg_date    500 non-null    object\n",
      " 7   tariff      500 non-null    object\n",
      "dtypes: int64(2), object(6)\n",
      "memory usage: 31.4+ KB\n"
     ]
    }
   ],
   "source": [
    "users.info()"
   ]
  },
  {
   "cell_type": "markdown",
   "metadata": {},
   "source": [
    "### Подготовим данные"
   ]
  },
  {
   "cell_type": "markdown",
   "metadata": {
    "tags": [
     "start_task"
    ]
   },
   "source": [
    "Приведем столбцы:\n",
    "\n",
    "- `reg_date` из таблицы `users`\n",
    "- `churn_date` из таблицы `users`\n",
    "- `call_date` из таблицы `calls`\n",
    "- `message_date` из таблицы `messages`\n",
    "- `session_date` из таблицы `sessions`\n",
    "\n",
    "к новому типу с помощью метода `to_datetime()`."
   ]
  },
  {
   "cell_type": "code",
   "execution_count": 19,
   "metadata": {},
   "outputs": [],
   "source": [
    "#функция по замене типа данных\n",
    "def change_type_datetime(column):\n",
    "    return pd.to_datetime(column, format='%Y-%m-%d')\n",
    "    \n",
    "# обработка столбца reg_date\n",
    "users['reg_date'] = change_type_datetime(users['reg_date'])\n",
    "#users['reg_date'] = pd.to_datetime(users['reg_date'], format='%Y-%m-%d')\n",
    "# обработка столбца churn_date\n",
    "users['churn_date'] = change_type_datetime(users['churn_date'])\n",
    "#users['churn_date'] = pd.to_datetime(users['churn_date'], format='%Y-%m-%d')\n",
    "# обработка столбца call_date\n",
    "calls['call_date'] = change_type_datetime(calls['call_date'])\n",
    "#calls['call_date'] = pd.to_datetime(calls['call_date'], format='%Y-%m-%d')\n",
    "# обработка столбца message_date\n",
    "messages['message_date'] = change_type_datetime(messages['message_date'])\n",
    "#messages['message_date'] = pd.to_datetime(messages['message_date'], format='%Y-%m-%d')\n",
    "# обработка столбца session_date\n",
    "sessions['session_date'] = change_type_datetime(sessions['session_date'])\n",
    "#sessions['session_date'] = pd.to_datetime(sessions['session_date'], format='%Y-%m-%d')"
   ]
  },
  {
   "cell_type": "markdown",
   "metadata": {
    "tags": [
     "start_task"
    ]
   },
   "source": [
    "В данных есть звонки с нулевой продолжительностью. Это пропущенные звонки\n",
    "\n",
    "В столбце `duration` датафрейма `calls` значения дробные. Округлим значения столбца `duration` вверх с помощью метода `numpy.ceil()` и приведим столбец `duration` к типу `int`."
   ]
  },
  {
   "cell_type": "code",
   "execution_count": 20,
   "metadata": {
    "deletable": false
   },
   "outputs": [],
   "source": [
    "# округление значений столбца duration с помощью np.ceil() и приведение типа к int\n",
    "calls['duration'] = np.ceil(calls['duration']).astype(int)"
   ]
  },
  {
   "cell_type": "markdown",
   "metadata": {
    "tags": [
     "start_task"
    ]
   },
   "source": [
    "Удалим столбец `Unnamed: 0` из датафрейма `sessions`. "
   ]
  },
  {
   "cell_type": "code",
   "execution_count": 21,
   "metadata": {
    "deletable": false
   },
   "outputs": [],
   "source": [
    "sessions.drop(labels=['Unnamed: 0'], axis=1, inplace=True)"
   ]
  },
  {
   "cell_type": "markdown",
   "metadata": {
    "tags": [
     "start_task"
    ]
   },
   "source": [
    "Создадим столбец `month` в датафрейме `calls` с номером месяца из столбца `call_date`."
   ]
  },
  {
   "cell_type": "code",
   "execution_count": 22,
   "metadata": {
    "deletable": false
   },
   "outputs": [],
   "source": [
    "calls['month'] = pd.to_datetime(calls['call_date']).dt.month"
   ]
  },
  {
   "cell_type": "markdown",
   "metadata": {
    "tags": [
     "start_task"
    ]
   },
   "source": [
    "Создадим столбец `month` в датафрейме `messages` с номером месяца из столбца `message_date`."
   ]
  },
  {
   "cell_type": "code",
   "execution_count": 23,
   "metadata": {
    "deletable": false
   },
   "outputs": [],
   "source": [
    "messages['month'] = pd.to_datetime(messages['message_date']).dt.month"
   ]
  },
  {
   "cell_type": "markdown",
   "metadata": {
    "tags": [
     "start_task"
    ]
   },
   "source": [
    "Создадим столбец `month` в датафрейме `sessions` с номером месяца из столбца `session_date`."
   ]
  },
  {
   "cell_type": "code",
   "execution_count": 24,
   "metadata": {
    "deletable": false
   },
   "outputs": [],
   "source": [
    "sessions['month'] = pd.to_datetime(sessions['session_date']).dt.month"
   ]
  },
  {
   "cell_type": "markdown",
   "metadata": {
    "tags": [
     "start_task"
    ]
   },
   "source": [
    "Посчитаем количество сделанных звонков разговора для каждого пользователя по месяцам и сохраним в переменную `calls_per_month`."
   ]
  },
  {
   "cell_type": "code",
   "execution_count": 25,
   "metadata": {
    "deletable": false
   },
   "outputs": [],
   "source": [
    "# подсчёт количества звонков для каждого пользователя по месяцам\n",
    "calls_per_month = calls.groupby(by=['user_id', 'month']).agg(calls=('duration', 'count'))"
   ]
  },
  {
   "cell_type": "code",
   "execution_count": 26,
   "metadata": {
    "deletable": false
   },
   "outputs": [
    {
     "data": {
      "text/html": [
       "<div>\n",
       "<style scoped>\n",
       "    .dataframe tbody tr th:only-of-type {\n",
       "        vertical-align: middle;\n",
       "    }\n",
       "\n",
       "    .dataframe tbody tr th {\n",
       "        vertical-align: top;\n",
       "    }\n",
       "\n",
       "    .dataframe thead th {\n",
       "        text-align: right;\n",
       "    }\n",
       "</style>\n",
       "<table border=\"1\" class=\"dataframe\">\n",
       "  <thead>\n",
       "    <tr style=\"text-align: right;\">\n",
       "      <th></th>\n",
       "      <th></th>\n",
       "      <th>calls</th>\n",
       "    </tr>\n",
       "    <tr>\n",
       "      <th>user_id</th>\n",
       "      <th>month</th>\n",
       "      <th></th>\n",
       "    </tr>\n",
       "  </thead>\n",
       "  <tbody>\n",
       "    <tr>\n",
       "      <th rowspan=\"8\" valign=\"top\">1000</th>\n",
       "      <th>5</th>\n",
       "      <td>22</td>\n",
       "    </tr>\n",
       "    <tr>\n",
       "      <th>6</th>\n",
       "      <td>43</td>\n",
       "    </tr>\n",
       "    <tr>\n",
       "      <th>7</th>\n",
       "      <td>47</td>\n",
       "    </tr>\n",
       "    <tr>\n",
       "      <th>8</th>\n",
       "      <td>52</td>\n",
       "    </tr>\n",
       "    <tr>\n",
       "      <th>9</th>\n",
       "      <td>58</td>\n",
       "    </tr>\n",
       "    <tr>\n",
       "      <th>10</th>\n",
       "      <td>57</td>\n",
       "    </tr>\n",
       "    <tr>\n",
       "      <th>11</th>\n",
       "      <td>43</td>\n",
       "    </tr>\n",
       "    <tr>\n",
       "      <th>12</th>\n",
       "      <td>46</td>\n",
       "    </tr>\n",
       "    <tr>\n",
       "      <th rowspan=\"2\" valign=\"top\">1001</th>\n",
       "      <th>11</th>\n",
       "      <td>59</td>\n",
       "    </tr>\n",
       "    <tr>\n",
       "      <th>12</th>\n",
       "      <td>63</td>\n",
       "    </tr>\n",
       "    <tr>\n",
       "      <th rowspan=\"7\" valign=\"top\">1002</th>\n",
       "      <th>6</th>\n",
       "      <td>15</td>\n",
       "    </tr>\n",
       "    <tr>\n",
       "      <th>7</th>\n",
       "      <td>26</td>\n",
       "    </tr>\n",
       "    <tr>\n",
       "      <th>8</th>\n",
       "      <td>42</td>\n",
       "    </tr>\n",
       "    <tr>\n",
       "      <th>9</th>\n",
       "      <td>36</td>\n",
       "    </tr>\n",
       "    <tr>\n",
       "      <th>10</th>\n",
       "      <td>33</td>\n",
       "    </tr>\n",
       "    <tr>\n",
       "      <th>11</th>\n",
       "      <td>32</td>\n",
       "    </tr>\n",
       "    <tr>\n",
       "      <th>12</th>\n",
       "      <td>33</td>\n",
       "    </tr>\n",
       "    <tr>\n",
       "      <th rowspan=\"5\" valign=\"top\">1003</th>\n",
       "      <th>8</th>\n",
       "      <td>55</td>\n",
       "    </tr>\n",
       "    <tr>\n",
       "      <th>9</th>\n",
       "      <td>134</td>\n",
       "    </tr>\n",
       "    <tr>\n",
       "      <th>10</th>\n",
       "      <td>108</td>\n",
       "    </tr>\n",
       "    <tr>\n",
       "      <th>11</th>\n",
       "      <td>115</td>\n",
       "    </tr>\n",
       "    <tr>\n",
       "      <th>12</th>\n",
       "      <td>108</td>\n",
       "    </tr>\n",
       "    <tr>\n",
       "      <th rowspan=\"8\" valign=\"top\">1004</th>\n",
       "      <th>5</th>\n",
       "      <td>9</td>\n",
       "    </tr>\n",
       "    <tr>\n",
       "      <th>6</th>\n",
       "      <td>31</td>\n",
       "    </tr>\n",
       "    <tr>\n",
       "      <th>7</th>\n",
       "      <td>22</td>\n",
       "    </tr>\n",
       "    <tr>\n",
       "      <th>8</th>\n",
       "      <td>19</td>\n",
       "    </tr>\n",
       "    <tr>\n",
       "      <th>9</th>\n",
       "      <td>26</td>\n",
       "    </tr>\n",
       "    <tr>\n",
       "      <th>10</th>\n",
       "      <td>29</td>\n",
       "    </tr>\n",
       "    <tr>\n",
       "      <th>11</th>\n",
       "      <td>19</td>\n",
       "    </tr>\n",
       "    <tr>\n",
       "      <th>12</th>\n",
       "      <td>21</td>\n",
       "    </tr>\n",
       "  </tbody>\n",
       "</table>\n",
       "</div>"
      ],
      "text/plain": [
       "               calls\n",
       "user_id month       \n",
       "1000    5         22\n",
       "        6         43\n",
       "        7         47\n",
       "        8         52\n",
       "        9         58\n",
       "        10        57\n",
       "        11        43\n",
       "        12        46\n",
       "1001    11        59\n",
       "        12        63\n",
       "1002    6         15\n",
       "        7         26\n",
       "        8         42\n",
       "        9         36\n",
       "        10        33\n",
       "        11        32\n",
       "        12        33\n",
       "1003    8         55\n",
       "        9        134\n",
       "        10       108\n",
       "        11       115\n",
       "        12       108\n",
       "1004    5          9\n",
       "        6         31\n",
       "        7         22\n",
       "        8         19\n",
       "        9         26\n",
       "        10        29\n",
       "        11        19\n",
       "        12        21"
      ]
     },
     "execution_count": 26,
     "metadata": {},
     "output_type": "execute_result"
    }
   ],
   "source": [
    "# вывод 30 первых строк на экран\n",
    "calls_per_month.head(30)"
   ]
  },
  {
   "cell_type": "markdown",
   "metadata": {
    "tags": [
     "start_task"
    ]
   },
   "source": [
    "Посчитаем количество израсходованных минут разговора для каждого пользователя по месяцам и сохраним в переменную `minutes_per_month`.\n",
    "И выведите первые 30 строчек `minutes_per_month`."
   ]
  },
  {
   "cell_type": "code",
   "execution_count": 27,
   "metadata": {
    "deletable": false
   },
   "outputs": [],
   "source": [
    "# подсчёт израсходованных минут для каждого пользователя по месяцам\n",
    "minutes_per_month = calls.groupby(['user_id', 'month']).agg(minutes=('duration', 'sum'))"
   ]
  },
  {
   "cell_type": "code",
   "execution_count": 28,
   "metadata": {
    "deletable": false
   },
   "outputs": [
    {
     "data": {
      "text/html": [
       "<div>\n",
       "<style scoped>\n",
       "    .dataframe tbody tr th:only-of-type {\n",
       "        vertical-align: middle;\n",
       "    }\n",
       "\n",
       "    .dataframe tbody tr th {\n",
       "        vertical-align: top;\n",
       "    }\n",
       "\n",
       "    .dataframe thead th {\n",
       "        text-align: right;\n",
       "    }\n",
       "</style>\n",
       "<table border=\"1\" class=\"dataframe\">\n",
       "  <thead>\n",
       "    <tr style=\"text-align: right;\">\n",
       "      <th></th>\n",
       "      <th></th>\n",
       "      <th>minutes</th>\n",
       "    </tr>\n",
       "    <tr>\n",
       "      <th>user_id</th>\n",
       "      <th>month</th>\n",
       "      <th></th>\n",
       "    </tr>\n",
       "  </thead>\n",
       "  <tbody>\n",
       "    <tr>\n",
       "      <th rowspan=\"8\" valign=\"top\">1000</th>\n",
       "      <th>5</th>\n",
       "      <td>159</td>\n",
       "    </tr>\n",
       "    <tr>\n",
       "      <th>6</th>\n",
       "      <td>172</td>\n",
       "    </tr>\n",
       "    <tr>\n",
       "      <th>7</th>\n",
       "      <td>340</td>\n",
       "    </tr>\n",
       "    <tr>\n",
       "      <th>8</th>\n",
       "      <td>408</td>\n",
       "    </tr>\n",
       "    <tr>\n",
       "      <th>9</th>\n",
       "      <td>466</td>\n",
       "    </tr>\n",
       "    <tr>\n",
       "      <th>10</th>\n",
       "      <td>350</td>\n",
       "    </tr>\n",
       "    <tr>\n",
       "      <th>11</th>\n",
       "      <td>338</td>\n",
       "    </tr>\n",
       "    <tr>\n",
       "      <th>12</th>\n",
       "      <td>333</td>\n",
       "    </tr>\n",
       "    <tr>\n",
       "      <th rowspan=\"2\" valign=\"top\">1001</th>\n",
       "      <th>11</th>\n",
       "      <td>430</td>\n",
       "    </tr>\n",
       "    <tr>\n",
       "      <th>12</th>\n",
       "      <td>414</td>\n",
       "    </tr>\n",
       "    <tr>\n",
       "      <th rowspan=\"7\" valign=\"top\">1002</th>\n",
       "      <th>6</th>\n",
       "      <td>117</td>\n",
       "    </tr>\n",
       "    <tr>\n",
       "      <th>7</th>\n",
       "      <td>214</td>\n",
       "    </tr>\n",
       "    <tr>\n",
       "      <th>8</th>\n",
       "      <td>289</td>\n",
       "    </tr>\n",
       "    <tr>\n",
       "      <th>9</th>\n",
       "      <td>206</td>\n",
       "    </tr>\n",
       "    <tr>\n",
       "      <th>10</th>\n",
       "      <td>212</td>\n",
       "    </tr>\n",
       "    <tr>\n",
       "      <th>11</th>\n",
       "      <td>243</td>\n",
       "    </tr>\n",
       "    <tr>\n",
       "      <th>12</th>\n",
       "      <td>236</td>\n",
       "    </tr>\n",
       "    <tr>\n",
       "      <th rowspan=\"5\" valign=\"top\">1003</th>\n",
       "      <th>8</th>\n",
       "      <td>380</td>\n",
       "    </tr>\n",
       "    <tr>\n",
       "      <th>9</th>\n",
       "      <td>961</td>\n",
       "    </tr>\n",
       "    <tr>\n",
       "      <th>10</th>\n",
       "      <td>855</td>\n",
       "    </tr>\n",
       "    <tr>\n",
       "      <th>11</th>\n",
       "      <td>824</td>\n",
       "    </tr>\n",
       "    <tr>\n",
       "      <th>12</th>\n",
       "      <td>802</td>\n",
       "    </tr>\n",
       "    <tr>\n",
       "      <th rowspan=\"8\" valign=\"top\">1004</th>\n",
       "      <th>5</th>\n",
       "      <td>35</td>\n",
       "    </tr>\n",
       "    <tr>\n",
       "      <th>6</th>\n",
       "      <td>171</td>\n",
       "    </tr>\n",
       "    <tr>\n",
       "      <th>7</th>\n",
       "      <td>135</td>\n",
       "    </tr>\n",
       "    <tr>\n",
       "      <th>8</th>\n",
       "      <td>137</td>\n",
       "    </tr>\n",
       "    <tr>\n",
       "      <th>9</th>\n",
       "      <td>117</td>\n",
       "    </tr>\n",
       "    <tr>\n",
       "      <th>10</th>\n",
       "      <td>145</td>\n",
       "    </tr>\n",
       "    <tr>\n",
       "      <th>11</th>\n",
       "      <td>117</td>\n",
       "    </tr>\n",
       "    <tr>\n",
       "      <th>12</th>\n",
       "      <td>130</td>\n",
       "    </tr>\n",
       "  </tbody>\n",
       "</table>\n",
       "</div>"
      ],
      "text/plain": [
       "               minutes\n",
       "user_id month         \n",
       "1000    5          159\n",
       "        6          172\n",
       "        7          340\n",
       "        8          408\n",
       "        9          466\n",
       "        10         350\n",
       "        11         338\n",
       "        12         333\n",
       "1001    11         430\n",
       "        12         414\n",
       "1002    6          117\n",
       "        7          214\n",
       "        8          289\n",
       "        9          206\n",
       "        10         212\n",
       "        11         243\n",
       "        12         236\n",
       "1003    8          380\n",
       "        9          961\n",
       "        10         855\n",
       "        11         824\n",
       "        12         802\n",
       "1004    5           35\n",
       "        6          171\n",
       "        7          135\n",
       "        8          137\n",
       "        9          117\n",
       "        10         145\n",
       "        11         117\n",
       "        12         130"
      ]
     },
     "execution_count": 28,
     "metadata": {},
     "output_type": "execute_result"
    }
   ],
   "source": [
    "# вывод первых 30 строк на экран\n",
    "minutes_per_month.head(30)"
   ]
  },
  {
   "cell_type": "markdown",
   "metadata": {
    "tags": [
     "start_task"
    ]
   },
   "source": [
    "Посчитаем количество отправленных сообщений по месяцам для каждого пользователя и сохраним в переменную `messages_per_month`. \n",
    "И выведите первые 30 строчек `messages_per_month`."
   ]
  },
  {
   "cell_type": "code",
   "execution_count": 29,
   "metadata": {
    "deletable": false
   },
   "outputs": [],
   "source": [
    "# подсчёт количества отправленных сообщений для каждого пользователя по месяцам\n",
    "messages_per_month = messages.groupby(\n",
    "    ['user_id', 'month']).agg(messages=('message_date', 'count'))"
   ]
  },
  {
   "cell_type": "code",
   "execution_count": 30,
   "metadata": {
    "deletable": false
   },
   "outputs": [
    {
     "data": {
      "text/html": [
       "<div>\n",
       "<style scoped>\n",
       "    .dataframe tbody tr th:only-of-type {\n",
       "        vertical-align: middle;\n",
       "    }\n",
       "\n",
       "    .dataframe tbody tr th {\n",
       "        vertical-align: top;\n",
       "    }\n",
       "\n",
       "    .dataframe thead th {\n",
       "        text-align: right;\n",
       "    }\n",
       "</style>\n",
       "<table border=\"1\" class=\"dataframe\">\n",
       "  <thead>\n",
       "    <tr style=\"text-align: right;\">\n",
       "      <th></th>\n",
       "      <th></th>\n",
       "      <th>messages</th>\n",
       "    </tr>\n",
       "    <tr>\n",
       "      <th>user_id</th>\n",
       "      <th>month</th>\n",
       "      <th></th>\n",
       "    </tr>\n",
       "  </thead>\n",
       "  <tbody>\n",
       "    <tr>\n",
       "      <th rowspan=\"8\" valign=\"top\">1000</th>\n",
       "      <th>5</th>\n",
       "      <td>22</td>\n",
       "    </tr>\n",
       "    <tr>\n",
       "      <th>6</th>\n",
       "      <td>60</td>\n",
       "    </tr>\n",
       "    <tr>\n",
       "      <th>7</th>\n",
       "      <td>75</td>\n",
       "    </tr>\n",
       "    <tr>\n",
       "      <th>8</th>\n",
       "      <td>81</td>\n",
       "    </tr>\n",
       "    <tr>\n",
       "      <th>9</th>\n",
       "      <td>57</td>\n",
       "    </tr>\n",
       "    <tr>\n",
       "      <th>10</th>\n",
       "      <td>73</td>\n",
       "    </tr>\n",
       "    <tr>\n",
       "      <th>11</th>\n",
       "      <td>58</td>\n",
       "    </tr>\n",
       "    <tr>\n",
       "      <th>12</th>\n",
       "      <td>70</td>\n",
       "    </tr>\n",
       "    <tr>\n",
       "      <th rowspan=\"7\" valign=\"top\">1002</th>\n",
       "      <th>6</th>\n",
       "      <td>4</td>\n",
       "    </tr>\n",
       "    <tr>\n",
       "      <th>7</th>\n",
       "      <td>11</td>\n",
       "    </tr>\n",
       "    <tr>\n",
       "      <th>8</th>\n",
       "      <td>13</td>\n",
       "    </tr>\n",
       "    <tr>\n",
       "      <th>9</th>\n",
       "      <td>4</td>\n",
       "    </tr>\n",
       "    <tr>\n",
       "      <th>10</th>\n",
       "      <td>10</td>\n",
       "    </tr>\n",
       "    <tr>\n",
       "      <th>11</th>\n",
       "      <td>16</td>\n",
       "    </tr>\n",
       "    <tr>\n",
       "      <th>12</th>\n",
       "      <td>12</td>\n",
       "    </tr>\n",
       "    <tr>\n",
       "      <th rowspan=\"5\" valign=\"top\">1003</th>\n",
       "      <th>8</th>\n",
       "      <td>37</td>\n",
       "    </tr>\n",
       "    <tr>\n",
       "      <th>9</th>\n",
       "      <td>91</td>\n",
       "    </tr>\n",
       "    <tr>\n",
       "      <th>10</th>\n",
       "      <td>83</td>\n",
       "    </tr>\n",
       "    <tr>\n",
       "      <th>11</th>\n",
       "      <td>94</td>\n",
       "    </tr>\n",
       "    <tr>\n",
       "      <th>12</th>\n",
       "      <td>75</td>\n",
       "    </tr>\n",
       "    <tr>\n",
       "      <th rowspan=\"8\" valign=\"top\">1004</th>\n",
       "      <th>5</th>\n",
       "      <td>95</td>\n",
       "    </tr>\n",
       "    <tr>\n",
       "      <th>6</th>\n",
       "      <td>134</td>\n",
       "    </tr>\n",
       "    <tr>\n",
       "      <th>7</th>\n",
       "      <td>181</td>\n",
       "    </tr>\n",
       "    <tr>\n",
       "      <th>8</th>\n",
       "      <td>151</td>\n",
       "    </tr>\n",
       "    <tr>\n",
       "      <th>9</th>\n",
       "      <td>146</td>\n",
       "    </tr>\n",
       "    <tr>\n",
       "      <th>10</th>\n",
       "      <td>165</td>\n",
       "    </tr>\n",
       "    <tr>\n",
       "      <th>11</th>\n",
       "      <td>158</td>\n",
       "    </tr>\n",
       "    <tr>\n",
       "      <th>12</th>\n",
       "      <td>162</td>\n",
       "    </tr>\n",
       "    <tr>\n",
       "      <th rowspan=\"2\" valign=\"top\">1005</th>\n",
       "      <th>1</th>\n",
       "      <td>7</td>\n",
       "    </tr>\n",
       "    <tr>\n",
       "      <th>2</th>\n",
       "      <td>38</td>\n",
       "    </tr>\n",
       "  </tbody>\n",
       "</table>\n",
       "</div>"
      ],
      "text/plain": [
       "               messages\n",
       "user_id month          \n",
       "1000    5            22\n",
       "        6            60\n",
       "        7            75\n",
       "        8            81\n",
       "        9            57\n",
       "        10           73\n",
       "        11           58\n",
       "        12           70\n",
       "1002    6             4\n",
       "        7            11\n",
       "        8            13\n",
       "        9             4\n",
       "        10           10\n",
       "        11           16\n",
       "        12           12\n",
       "1003    8            37\n",
       "        9            91\n",
       "        10           83\n",
       "        11           94\n",
       "        12           75\n",
       "1004    5            95\n",
       "        6           134\n",
       "        7           181\n",
       "        8           151\n",
       "        9           146\n",
       "        10          165\n",
       "        11          158\n",
       "        12          162\n",
       "1005    1             7\n",
       "        2            38"
      ]
     },
     "execution_count": 30,
     "metadata": {},
     "output_type": "execute_result"
    }
   ],
   "source": [
    "# вывод первых 30 строк на экран\n",
    "messages_per_month.head(30)"
   ]
  },
  {
   "cell_type": "markdown",
   "metadata": {
    "tags": [
     "start_task"
    ]
   },
   "source": [
    "Посчитаем количество потраченных мегабайт по месяцам для каждого пользователя и сохраним в переменную `sessions_per_month`. "
   ]
  },
  {
   "cell_type": "code",
   "execution_count": null,
   "metadata": {
    "deletable": false
   },
   "outputs": [],
   "source": [
    "# подсчёт потраченных мегабайт для каждого пользователя по месяцам\n",
    "sessions_per_month = sessions.groupby(['user_id', 'month']).agg({'mb_used' : 'sum'})"
   ]
  },
  {
   "cell_type": "code",
   "execution_count": 32,
   "metadata": {
    "deletable": false
   },
   "outputs": [
    {
     "data": {
      "text/html": [
       "<div>\n",
       "<style scoped>\n",
       "    .dataframe tbody tr th:only-of-type {\n",
       "        vertical-align: middle;\n",
       "    }\n",
       "\n",
       "    .dataframe tbody tr th {\n",
       "        vertical-align: top;\n",
       "    }\n",
       "\n",
       "    .dataframe thead th {\n",
       "        text-align: right;\n",
       "    }\n",
       "</style>\n",
       "<table border=\"1\" class=\"dataframe\">\n",
       "  <thead>\n",
       "    <tr style=\"text-align: right;\">\n",
       "      <th></th>\n",
       "      <th></th>\n",
       "      <th>mb_used</th>\n",
       "    </tr>\n",
       "    <tr>\n",
       "      <th>user_id</th>\n",
       "      <th>month</th>\n",
       "      <th></th>\n",
       "    </tr>\n",
       "  </thead>\n",
       "  <tbody>\n",
       "    <tr>\n",
       "      <th rowspan=\"8\" valign=\"top\">1000</th>\n",
       "      <th>5</th>\n",
       "      <td>2253.49</td>\n",
       "    </tr>\n",
       "    <tr>\n",
       "      <th>6</th>\n",
       "      <td>23233.77</td>\n",
       "    </tr>\n",
       "    <tr>\n",
       "      <th>7</th>\n",
       "      <td>14003.64</td>\n",
       "    </tr>\n",
       "    <tr>\n",
       "      <th>8</th>\n",
       "      <td>14055.93</td>\n",
       "    </tr>\n",
       "    <tr>\n",
       "      <th>9</th>\n",
       "      <td>14568.91</td>\n",
       "    </tr>\n",
       "    <tr>\n",
       "      <th>10</th>\n",
       "      <td>14702.49</td>\n",
       "    </tr>\n",
       "    <tr>\n",
       "      <th>11</th>\n",
       "      <td>14756.47</td>\n",
       "    </tr>\n",
       "    <tr>\n",
       "      <th>12</th>\n",
       "      <td>9817.61</td>\n",
       "    </tr>\n",
       "    <tr>\n",
       "      <th rowspan=\"2\" valign=\"top\">1001</th>\n",
       "      <th>11</th>\n",
       "      <td>18429.34</td>\n",
       "    </tr>\n",
       "    <tr>\n",
       "      <th>12</th>\n",
       "      <td>14036.66</td>\n",
       "    </tr>\n",
       "    <tr>\n",
       "      <th rowspan=\"7\" valign=\"top\">1002</th>\n",
       "      <th>6</th>\n",
       "      <td>10856.82</td>\n",
       "    </tr>\n",
       "    <tr>\n",
       "      <th>7</th>\n",
       "      <td>17580.10</td>\n",
       "    </tr>\n",
       "    <tr>\n",
       "      <th>8</th>\n",
       "      <td>20319.26</td>\n",
       "    </tr>\n",
       "    <tr>\n",
       "      <th>9</th>\n",
       "      <td>16691.08</td>\n",
       "    </tr>\n",
       "    <tr>\n",
       "      <th>10</th>\n",
       "      <td>13888.25</td>\n",
       "    </tr>\n",
       "    <tr>\n",
       "      <th>11</th>\n",
       "      <td>18587.28</td>\n",
       "    </tr>\n",
       "    <tr>\n",
       "      <th>12</th>\n",
       "      <td>18113.73</td>\n",
       "    </tr>\n",
       "    <tr>\n",
       "      <th rowspan=\"5\" valign=\"top\">1003</th>\n",
       "      <th>8</th>\n",
       "      <td>8565.21</td>\n",
       "    </tr>\n",
       "    <tr>\n",
       "      <th>9</th>\n",
       "      <td>12468.87</td>\n",
       "    </tr>\n",
       "    <tr>\n",
       "      <th>10</th>\n",
       "      <td>14768.14</td>\n",
       "    </tr>\n",
       "    <tr>\n",
       "      <th>11</th>\n",
       "      <td>11356.89</td>\n",
       "    </tr>\n",
       "    <tr>\n",
       "      <th>12</th>\n",
       "      <td>10121.53</td>\n",
       "    </tr>\n",
       "    <tr>\n",
       "      <th rowspan=\"8\" valign=\"top\">1004</th>\n",
       "      <th>5</th>\n",
       "      <td>13403.98</td>\n",
       "    </tr>\n",
       "    <tr>\n",
       "      <th>6</th>\n",
       "      <td>17600.02</td>\n",
       "    </tr>\n",
       "    <tr>\n",
       "      <th>7</th>\n",
       "      <td>22229.58</td>\n",
       "    </tr>\n",
       "    <tr>\n",
       "      <th>8</th>\n",
       "      <td>28584.37</td>\n",
       "    </tr>\n",
       "    <tr>\n",
       "      <th>9</th>\n",
       "      <td>15109.03</td>\n",
       "    </tr>\n",
       "    <tr>\n",
       "      <th>10</th>\n",
       "      <td>18475.44</td>\n",
       "    </tr>\n",
       "    <tr>\n",
       "      <th>11</th>\n",
       "      <td>15616.02</td>\n",
       "    </tr>\n",
       "    <tr>\n",
       "      <th>12</th>\n",
       "      <td>18021.04</td>\n",
       "    </tr>\n",
       "  </tbody>\n",
       "</table>\n",
       "</div>"
      ],
      "text/plain": [
       "                mb_used\n",
       "user_id month          \n",
       "1000    5       2253.49\n",
       "        6      23233.77\n",
       "        7      14003.64\n",
       "        8      14055.93\n",
       "        9      14568.91\n",
       "        10     14702.49\n",
       "        11     14756.47\n",
       "        12      9817.61\n",
       "1001    11     18429.34\n",
       "        12     14036.66\n",
       "1002    6      10856.82\n",
       "        7      17580.10\n",
       "        8      20319.26\n",
       "        9      16691.08\n",
       "        10     13888.25\n",
       "        11     18587.28\n",
       "        12     18113.73\n",
       "1003    8       8565.21\n",
       "        9      12468.87\n",
       "        10     14768.14\n",
       "        11     11356.89\n",
       "        12     10121.53\n",
       "1004    5      13403.98\n",
       "        6      17600.02\n",
       "        7      22229.58\n",
       "        8      28584.37\n",
       "        9      15109.03\n",
       "        10     18475.44\n",
       "        11     15616.02\n",
       "        12     18021.04"
      ]
     },
     "execution_count": 32,
     "metadata": {},
     "output_type": "execute_result"
    }
   ],
   "source": [
    "# вывод первых 30 строк на экран\n",
    "sessions_per_month.head(30)"
   ]
  },
  {
   "cell_type": "markdown",
   "metadata": {
    "deletable": false,
    "editable": false
   },
   "source": [
    "### Анализ данных и подсчёт выручки"
   ]
  },
  {
   "cell_type": "markdown",
   "metadata": {},
   "source": [
    "Объединим все посчитанные выше значения в один датафрейм `user_behavior`.\n",
    "Для каждой пары \"пользователь - месяц\" будут доступны информация о тарифе, количестве звонков, сообщений и потраченных мегабайтах."
   ]
  },
  {
   "cell_type": "code",
   "execution_count": 33,
   "metadata": {
    "deletable": false
   },
   "outputs": [
    {
     "data": {
      "text/plain": [
       "7.6"
      ]
     },
     "execution_count": 33,
     "metadata": {},
     "output_type": "execute_result"
    }
   ],
   "source": [
    "users['churn_date'].count() / users['churn_date'].shape[0] * 100"
   ]
  },
  {
   "cell_type": "markdown",
   "metadata": {
    "deletable": false,
    "editable": false
   },
   "source": [
    "Расторгли договор 7.6% клиентов из датасета"
   ]
  },
  {
   "cell_type": "code",
   "execution_count": 34,
   "metadata": {
    "deletable": false
   },
   "outputs": [
    {
     "data": {
      "text/html": [
       "<div>\n",
       "<style scoped>\n",
       "    .dataframe tbody tr th:only-of-type {\n",
       "        vertical-align: middle;\n",
       "    }\n",
       "\n",
       "    .dataframe tbody tr th {\n",
       "        vertical-align: top;\n",
       "    }\n",
       "\n",
       "    .dataframe thead th {\n",
       "        text-align: right;\n",
       "    }\n",
       "</style>\n",
       "<table border=\"1\" class=\"dataframe\">\n",
       "  <thead>\n",
       "    <tr style=\"text-align: right;\">\n",
       "      <th></th>\n",
       "      <th>user_id</th>\n",
       "      <th>month</th>\n",
       "      <th>calls</th>\n",
       "      <th>messages</th>\n",
       "      <th>mb_used</th>\n",
       "      <th>minutes</th>\n",
       "      <th>age</th>\n",
       "      <th>churn_date</th>\n",
       "      <th>city</th>\n",
       "      <th>first_name</th>\n",
       "      <th>last_name</th>\n",
       "      <th>reg_date</th>\n",
       "      <th>tariff</th>\n",
       "    </tr>\n",
       "  </thead>\n",
       "  <tbody>\n",
       "    <tr>\n",
       "      <th>0</th>\n",
       "      <td>1000</td>\n",
       "      <td>5</td>\n",
       "      <td>22.0</td>\n",
       "      <td>22.0</td>\n",
       "      <td>2253.49</td>\n",
       "      <td>159.0</td>\n",
       "      <td>52</td>\n",
       "      <td>NaT</td>\n",
       "      <td>Краснодар</td>\n",
       "      <td>Рафаил</td>\n",
       "      <td>Верещагин</td>\n",
       "      <td>2018-05-25</td>\n",
       "      <td>ultra</td>\n",
       "    </tr>\n",
       "    <tr>\n",
       "      <th>1</th>\n",
       "      <td>1000</td>\n",
       "      <td>6</td>\n",
       "      <td>43.0</td>\n",
       "      <td>60.0</td>\n",
       "      <td>23233.77</td>\n",
       "      <td>172.0</td>\n",
       "      <td>52</td>\n",
       "      <td>NaT</td>\n",
       "      <td>Краснодар</td>\n",
       "      <td>Рафаил</td>\n",
       "      <td>Верещагин</td>\n",
       "      <td>2018-05-25</td>\n",
       "      <td>ultra</td>\n",
       "    </tr>\n",
       "    <tr>\n",
       "      <th>2</th>\n",
       "      <td>1000</td>\n",
       "      <td>7</td>\n",
       "      <td>47.0</td>\n",
       "      <td>75.0</td>\n",
       "      <td>14003.64</td>\n",
       "      <td>340.0</td>\n",
       "      <td>52</td>\n",
       "      <td>NaT</td>\n",
       "      <td>Краснодар</td>\n",
       "      <td>Рафаил</td>\n",
       "      <td>Верещагин</td>\n",
       "      <td>2018-05-25</td>\n",
       "      <td>ultra</td>\n",
       "    </tr>\n",
       "    <tr>\n",
       "      <th>3</th>\n",
       "      <td>1000</td>\n",
       "      <td>8</td>\n",
       "      <td>52.0</td>\n",
       "      <td>81.0</td>\n",
       "      <td>14055.93</td>\n",
       "      <td>408.0</td>\n",
       "      <td>52</td>\n",
       "      <td>NaT</td>\n",
       "      <td>Краснодар</td>\n",
       "      <td>Рафаил</td>\n",
       "      <td>Верещагин</td>\n",
       "      <td>2018-05-25</td>\n",
       "      <td>ultra</td>\n",
       "    </tr>\n",
       "    <tr>\n",
       "      <th>4</th>\n",
       "      <td>1000</td>\n",
       "      <td>9</td>\n",
       "      <td>58.0</td>\n",
       "      <td>57.0</td>\n",
       "      <td>14568.91</td>\n",
       "      <td>466.0</td>\n",
       "      <td>52</td>\n",
       "      <td>NaT</td>\n",
       "      <td>Краснодар</td>\n",
       "      <td>Рафаил</td>\n",
       "      <td>Верещагин</td>\n",
       "      <td>2018-05-25</td>\n",
       "      <td>ultra</td>\n",
       "    </tr>\n",
       "  </tbody>\n",
       "</table>\n",
       "</div>"
      ],
      "text/plain": [
       "   user_id  month  calls  messages   mb_used  minutes  age churn_date  \\\n",
       "0     1000      5   22.0      22.0   2253.49    159.0   52        NaT   \n",
       "1     1000      6   43.0      60.0  23233.77    172.0   52        NaT   \n",
       "2     1000      7   47.0      75.0  14003.64    340.0   52        NaT   \n",
       "3     1000      8   52.0      81.0  14055.93    408.0   52        NaT   \n",
       "4     1000      9   58.0      57.0  14568.91    466.0   52        NaT   \n",
       "\n",
       "        city first_name  last_name   reg_date tariff  \n",
       "0  Краснодар     Рафаил  Верещагин 2018-05-25  ultra  \n",
       "1  Краснодар     Рафаил  Верещагин 2018-05-25  ultra  \n",
       "2  Краснодар     Рафаил  Верещагин 2018-05-25  ultra  \n",
       "3  Краснодар     Рафаил  Верещагин 2018-05-25  ultra  \n",
       "4  Краснодар     Рафаил  Верещагин 2018-05-25  ultra  "
      ]
     },
     "execution_count": 34,
     "metadata": {},
     "output_type": "execute_result"
    }
   ],
   "source": [
    "user_behavior = calls_per_month\\\n",
    "    .merge(messages_per_month, left_index=True, right_index=True, how='outer')\\\n",
    "    .merge(sessions_per_month, left_index=True, right_index=True, how='outer')\\\n",
    "    .merge(minutes_per_month, left_index=True, right_index=True, how='outer')\\\n",
    "    .reset_index()\\\n",
    "    .merge(users, how='left', left_on='user_id', right_on='user_id')\\\n",
    "\n",
    "user_behavior.head()"
   ]
  },
  {
   "cell_type": "markdown",
   "metadata": {
    "deletable": false,
    "editable": false
   },
   "source": [
    "Проверим пропуски в таблице `user_behavior` после объединения:"
   ]
  },
  {
   "cell_type": "code",
   "execution_count": 35,
   "metadata": {
    "deletable": false
   },
   "outputs": [
    {
     "data": {
      "text/plain": [
       "user_id          0\n",
       "month            0\n",
       "calls           40\n",
       "messages       497\n",
       "mb_used         11\n",
       "minutes         40\n",
       "age              0\n",
       "churn_date    3027\n",
       "city             0\n",
       "first_name       0\n",
       "last_name        0\n",
       "reg_date         0\n",
       "tariff           0\n",
       "dtype: int64"
      ]
     },
     "execution_count": 35,
     "metadata": {},
     "output_type": "execute_result"
    }
   ],
   "source": [
    "user_behavior.isna().sum()"
   ]
  },
  {
   "cell_type": "markdown",
   "metadata": {
    "deletable": false,
    "editable": false
   },
   "source": [
    "Заполним образовавшиеся пропуски в данных:"
   ]
  },
  {
   "cell_type": "code",
   "execution_count": 36,
   "metadata": {
    "deletable": false
   },
   "outputs": [],
   "source": [
    "user_behavior['calls'] = user_behavior['calls'].fillna(0)\n",
    "user_behavior['minutes'] = user_behavior['minutes'].fillna(0)\n",
    "user_behavior['messages'] = user_behavior['messages'].fillna(0)\n",
    "user_behavior['mb_used'] = user_behavior['mb_used'].fillna(0)"
   ]
  },
  {
   "cell_type": "markdown",
   "metadata": {
    "deletable": false,
    "editable": false
   },
   "source": [
    "Присоединяем информацию о тарифах"
   ]
  },
  {
   "cell_type": "code",
   "execution_count": 37,
   "metadata": {
    "deletable": false
   },
   "outputs": [],
   "source": [
    "# переименование столбца tariff_name на более простое tariff\n",
    "\n",
    "tariffs = tariffs.rename(\n",
    "    columns={\n",
    "        'tariff_name': 'tariff'\n",
    "    }\n",
    ")"
   ]
  },
  {
   "cell_type": "code",
   "execution_count": 38,
   "metadata": {
    "deletable": false
   },
   "outputs": [],
   "source": [
    "user_behavior = user_behavior.merge(tariffs, on='tariff')"
   ]
  },
  {
   "cell_type": "markdown",
   "metadata": {
    "deletable": false,
    "editable": false
   },
   "source": [
    "Считаем количество минут разговора, сообщений и мегабайт, превышающих включенные в тариф\n"
   ]
  },
  {
   "cell_type": "code",
   "execution_count": 39,
   "metadata": {
    "scrolled": true
   },
   "outputs": [
    {
     "data": {
      "text/plain": [
       "Index(['user_id', 'month', 'calls', 'messages', 'mb_used', 'minutes', 'age',\n",
       "       'churn_date', 'city', 'first_name', 'last_name', 'reg_date', 'tariff',\n",
       "       'messages_included', 'mb_per_month_included', 'minutes_included',\n",
       "       'rub_monthly_fee', 'rub_per_gb', 'rub_per_message', 'rub_per_minute'],\n",
       "      dtype='object')"
      ]
     },
     "execution_count": 39,
     "metadata": {},
     "output_type": "execute_result"
    }
   ],
   "source": [
    "user_behavior.columns"
   ]
  },
  {
   "cell_type": "code",
   "execution_count": 40,
   "metadata": {
    "deletable": false
   },
   "outputs": [],
   "source": [
    "user_behavior['paid_minutes'] = user_behavior['minutes'] - user_behavior['minutes_included']\n",
    "user_behavior['paid_messages'] = user_behavior['messages'] - user_behavior['messages_included']\n",
    "user_behavior['paid_mb'] = user_behavior['mb_used'] - user_behavior['mb_per_month_included']\n",
    "\n",
    "for col in ['paid_messages', 'paid_minutes', 'paid_mb']:\n",
    "    user_behavior.loc[user_behavior[col] < 0, col] = 0"
   ]
  },
  {
   "cell_type": "markdown",
   "metadata": {
    "deletable": false,
    "editable": false
   },
   "source": [
    "Переводим превышающие тариф мегабайты в гигабайты и сохраняем в столбец `paid_gb`"
   ]
  },
  {
   "cell_type": "code",
   "execution_count": 41,
   "metadata": {
    "deletable": false
   },
   "outputs": [],
   "source": [
    "user_behavior['paid_gb'] = np.ceil(user_behavior['paid_mb'] / 1024).astype(int)"
   ]
  },
  {
   "cell_type": "markdown",
   "metadata": {
    "deletable": false,
    "editable": false
   },
   "source": [
    "Считаем выручку за минуты разговора, сообщения и интернет"
   ]
  },
  {
   "cell_type": "code",
   "execution_count": 42,
   "metadata": {
    "deletable": false
   },
   "outputs": [],
   "source": [
    "user_behavior['cost_minutes'] = user_behavior['paid_minutes'] * user_behavior['rub_per_minute']\n",
    "user_behavior['cost_messages'] = user_behavior['paid_messages'] * user_behavior['rub_per_message']\n",
    "user_behavior['cost_gb'] = user_behavior['paid_gb'] * user_behavior['rub_per_gb']"
   ]
  },
  {
   "cell_type": "markdown",
   "metadata": {
    "deletable": false,
    "editable": false
   },
   "source": [
    "Считаем помесячную выручку с каждого пользователя, она будет храниться в столбец `total_cost`"
   ]
  },
  {
   "cell_type": "code",
   "execution_count": 43,
   "metadata": {
    "deletable": false
   },
   "outputs": [],
   "source": [
    "user_behavior['total_cost'] = \\\n",
    "      user_behavior['rub_monthly_fee']\\\n",
    "    + user_behavior['cost_minutes']\\\n",
    "    + user_behavior['cost_messages']\\\n",
    "    + user_behavior['cost_gb']"
   ]
  },
  {
   "cell_type": "markdown",
   "metadata": {
    "deletable": false,
    "editable": false
   },
   "source": [
    "Датафрейм `stats_df` для каждой пары \"месяц-тариф\" будет хранить основные характеристики"
   ]
  },
  {
   "cell_type": "code",
   "execution_count": 44,
   "metadata": {
    "deletable": false
   },
   "outputs": [
    {
     "data": {
      "text/html": [
       "<div>\n",
       "<style scoped>\n",
       "    .dataframe tbody tr th:only-of-type {\n",
       "        vertical-align: middle;\n",
       "    }\n",
       "\n",
       "    .dataframe tbody tr th {\n",
       "        vertical-align: top;\n",
       "    }\n",
       "\n",
       "    .dataframe thead th {\n",
       "        text-align: right;\n",
       "    }\n",
       "</style>\n",
       "<table border=\"1\" class=\"dataframe\">\n",
       "  <thead>\n",
       "    <tr style=\"text-align: right;\">\n",
       "      <th></th>\n",
       "      <th>month</th>\n",
       "      <th>tariff</th>\n",
       "      <th>calls_mean</th>\n",
       "      <th>sessions_mean</th>\n",
       "      <th>messages_mean</th>\n",
       "      <th>minutes_mean</th>\n",
       "      <th>calls_std</th>\n",
       "      <th>sessions_std</th>\n",
       "      <th>messages_std</th>\n",
       "      <th>minutes_std</th>\n",
       "      <th>calls_median</th>\n",
       "      <th>sessions_median</th>\n",
       "      <th>messages_median</th>\n",
       "      <th>minutes_median</th>\n",
       "    </tr>\n",
       "  </thead>\n",
       "  <tbody>\n",
       "    <tr>\n",
       "      <th>0</th>\n",
       "      <td>1</td>\n",
       "      <td>smart</td>\n",
       "      <td>27.68</td>\n",
       "      <td>8513.72</td>\n",
       "      <td>18.24</td>\n",
       "      <td>203.85</td>\n",
       "      <td>20.81</td>\n",
       "      <td>6444.68</td>\n",
       "      <td>16.20</td>\n",
       "      <td>154.23</td>\n",
       "      <td>20.5</td>\n",
       "      <td>7096.18</td>\n",
       "      <td>15.0</td>\n",
       "      <td>162.5</td>\n",
       "    </tr>\n",
       "    <tr>\n",
       "      <th>1</th>\n",
       "      <td>1</td>\n",
       "      <td>ultra</td>\n",
       "      <td>59.44</td>\n",
       "      <td>13140.68</td>\n",
       "      <td>33.78</td>\n",
       "      <td>428.11</td>\n",
       "      <td>41.64</td>\n",
       "      <td>6865.35</td>\n",
       "      <td>30.67</td>\n",
       "      <td>269.76</td>\n",
       "      <td>51.0</td>\n",
       "      <td>14791.37</td>\n",
       "      <td>32.0</td>\n",
       "      <td>382.0</td>\n",
       "    </tr>\n",
       "    <tr>\n",
       "      <th>2</th>\n",
       "      <td>2</td>\n",
       "      <td>smart</td>\n",
       "      <td>40.19</td>\n",
       "      <td>11597.05</td>\n",
       "      <td>24.09</td>\n",
       "      <td>298.69</td>\n",
       "      <td>25.39</td>\n",
       "      <td>6247.35</td>\n",
       "      <td>21.75</td>\n",
       "      <td>190.82</td>\n",
       "      <td>38.5</td>\n",
       "      <td>12553.71</td>\n",
       "      <td>20.0</td>\n",
       "      <td>258.0</td>\n",
       "    </tr>\n",
       "    <tr>\n",
       "      <th>3</th>\n",
       "      <td>2</td>\n",
       "      <td>ultra</td>\n",
       "      <td>41.54</td>\n",
       "      <td>11775.94</td>\n",
       "      <td>21.96</td>\n",
       "      <td>297.12</td>\n",
       "      <td>40.97</td>\n",
       "      <td>10644.64</td>\n",
       "      <td>26.77</td>\n",
       "      <td>296.51</td>\n",
       "      <td>25.0</td>\n",
       "      <td>7327.12</td>\n",
       "      <td>5.5</td>\n",
       "      <td>168.0</td>\n",
       "    </tr>\n",
       "    <tr>\n",
       "      <th>4</th>\n",
       "      <td>3</td>\n",
       "      <td>smart</td>\n",
       "      <td>54.32</td>\n",
       "      <td>15104.16</td>\n",
       "      <td>31.86</td>\n",
       "      <td>390.05</td>\n",
       "      <td>25.54</td>\n",
       "      <td>5828.24</td>\n",
       "      <td>26.80</td>\n",
       "      <td>191.89</td>\n",
       "      <td>59.0</td>\n",
       "      <td>15670.25</td>\n",
       "      <td>23.0</td>\n",
       "      <td>409.0</td>\n",
       "    </tr>\n",
       "    <tr>\n",
       "      <th>5</th>\n",
       "      <td>3</td>\n",
       "      <td>ultra</td>\n",
       "      <td>67.68</td>\n",
       "      <td>17535.55</td>\n",
       "      <td>32.30</td>\n",
       "      <td>489.65</td>\n",
       "      <td>44.84</td>\n",
       "      <td>10951.79</td>\n",
       "      <td>41.62</td>\n",
       "      <td>333.74</td>\n",
       "      <td>57.0</td>\n",
       "      <td>17495.18</td>\n",
       "      <td>20.0</td>\n",
       "      <td>403.0</td>\n",
       "    </tr>\n",
       "    <tr>\n",
       "      <th>6</th>\n",
       "      <td>4</td>\n",
       "      <td>smart</td>\n",
       "      <td>51.31</td>\n",
       "      <td>13462.18</td>\n",
       "      <td>30.74</td>\n",
       "      <td>367.13</td>\n",
       "      <td>25.70</td>\n",
       "      <td>5698.25</td>\n",
       "      <td>24.54</td>\n",
       "      <td>186.49</td>\n",
       "      <td>52.0</td>\n",
       "      <td>14087.65</td>\n",
       "      <td>28.0</td>\n",
       "      <td>368.5</td>\n",
       "    </tr>\n",
       "    <tr>\n",
       "      <th>7</th>\n",
       "      <td>4</td>\n",
       "      <td>ultra</td>\n",
       "      <td>64.09</td>\n",
       "      <td>16828.13</td>\n",
       "      <td>31.56</td>\n",
       "      <td>458.02</td>\n",
       "      <td>36.27</td>\n",
       "      <td>9718.65</td>\n",
       "      <td>37.51</td>\n",
       "      <td>267.68</td>\n",
       "      <td>61.0</td>\n",
       "      <td>16645.78</td>\n",
       "      <td>17.0</td>\n",
       "      <td>453.0</td>\n",
       "    </tr>\n",
       "    <tr>\n",
       "      <th>8</th>\n",
       "      <td>5</td>\n",
       "      <td>smart</td>\n",
       "      <td>55.24</td>\n",
       "      <td>15805.18</td>\n",
       "      <td>33.77</td>\n",
       "      <td>387.36</td>\n",
       "      <td>25.38</td>\n",
       "      <td>5978.23</td>\n",
       "      <td>27.04</td>\n",
       "      <td>186.60</td>\n",
       "      <td>59.0</td>\n",
       "      <td>16323.94</td>\n",
       "      <td>30.0</td>\n",
       "      <td>433.0</td>\n",
       "    </tr>\n",
       "    <tr>\n",
       "      <th>9</th>\n",
       "      <td>5</td>\n",
       "      <td>ultra</td>\n",
       "      <td>72.51</td>\n",
       "      <td>19363.15</td>\n",
       "      <td>37.85</td>\n",
       "      <td>510.33</td>\n",
       "      <td>41.08</td>\n",
       "      <td>10046.11</td>\n",
       "      <td>40.31</td>\n",
       "      <td>289.60</td>\n",
       "      <td>75.0</td>\n",
       "      <td>18696.43</td>\n",
       "      <td>25.0</td>\n",
       "      <td>519.0</td>\n",
       "    </tr>\n",
       "  </tbody>\n",
       "</table>\n",
       "</div>"
      ],
      "text/plain": [
       "   month tariff  calls_mean  sessions_mean  messages_mean  minutes_mean  \\\n",
       "0      1  smart       27.68        8513.72          18.24        203.85   \n",
       "1      1  ultra       59.44       13140.68          33.78        428.11   \n",
       "2      2  smart       40.19       11597.05          24.09        298.69   \n",
       "3      2  ultra       41.54       11775.94          21.96        297.12   \n",
       "4      3  smart       54.32       15104.16          31.86        390.05   \n",
       "5      3  ultra       67.68       17535.55          32.30        489.65   \n",
       "6      4  smart       51.31       13462.18          30.74        367.13   \n",
       "7      4  ultra       64.09       16828.13          31.56        458.02   \n",
       "8      5  smart       55.24       15805.18          33.77        387.36   \n",
       "9      5  ultra       72.51       19363.15          37.85        510.33   \n",
       "\n",
       "   calls_std  sessions_std  messages_std  minutes_std  calls_median  \\\n",
       "0      20.81       6444.68         16.20       154.23          20.5   \n",
       "1      41.64       6865.35         30.67       269.76          51.0   \n",
       "2      25.39       6247.35         21.75       190.82          38.5   \n",
       "3      40.97      10644.64         26.77       296.51          25.0   \n",
       "4      25.54       5828.24         26.80       191.89          59.0   \n",
       "5      44.84      10951.79         41.62       333.74          57.0   \n",
       "6      25.70       5698.25         24.54       186.49          52.0   \n",
       "7      36.27       9718.65         37.51       267.68          61.0   \n",
       "8      25.38       5978.23         27.04       186.60          59.0   \n",
       "9      41.08      10046.11         40.31       289.60          75.0   \n",
       "\n",
       "   sessions_median  messages_median  minutes_median  \n",
       "0          7096.18             15.0           162.5  \n",
       "1         14791.37             32.0           382.0  \n",
       "2         12553.71             20.0           258.0  \n",
       "3          7327.12              5.5           168.0  \n",
       "4         15670.25             23.0           409.0  \n",
       "5         17495.18             20.0           403.0  \n",
       "6         14087.65             28.0           368.5  \n",
       "7         16645.78             17.0           453.0  \n",
       "8         16323.94             30.0           433.0  \n",
       "9         18696.43             25.0           519.0  "
      ]
     },
     "execution_count": 44,
     "metadata": {},
     "output_type": "execute_result"
    }
   ],
   "source": [
    "# сохранение статистических метрик для каждой пары месяц-тариф\n",
    "# в одной таблице stats_df (среднее значение, стандартное отклонение, медиана)\n",
    "\n",
    "stats_df = user_behavior.pivot_table(\n",
    "            index=['month', 'tariff'],\\\n",
    "            values=['calls', 'minutes', 'messages', 'mb_used'],\\\n",
    "            aggfunc=['mean', 'std', 'median']\\\n",
    ").round(2).reset_index()\n",
    "\n",
    "stats_df.columns=['month', 'tariff', 'calls_mean', 'sessions_mean', 'messages_mean', 'minutes_mean',\n",
    "                                     'calls_std',  'sessions_std', 'messages_std', 'minutes_std', \n",
    "                                     'calls_median', 'sessions_median', 'messages_median',  'minutes_median']\n",
    "\n",
    "stats_df.head(10)"
   ]
  },
  {
   "cell_type": "markdown",
   "metadata": {
    "deletable": false,
    "editable": false
   },
   "source": [
    "Распределение среднего количества звонков по видам тарифов и месяцам"
   ]
  },
  {
   "cell_type": "code",
   "execution_count": 45,
   "metadata": {
    "deletable": false
   },
   "outputs": [
    {
     "data": {
      "image/png": "[encoded data removed]",
      "text/plain": [
       "<Figure size 432x288 with 1 Axes>"
      ]
     },
     "metadata": {
      "needs_background": "light"
     },
     "output_type": "display_data"
    }
   ],
   "source": [
    "ax = sns.barplot(x='month',\n",
    "            y='calls_mean',\n",
    "            hue=\"tariff\",\n",
    "            data=stats_df,\n",
    "            palette=['lightblue', 'blue'])\n",
    "\n",
    "ax.set_title('Распределение количества звонков по видам тарифов и месяцам')\n",
    "ax.set(xlabel='Номер месяца', ylabel='Среднее количество звонков');"
   ]
  },
  {
   "cell_type": "code",
   "execution_count": 46,
   "metadata": {
    "deletable": false
   },
   "outputs": [
    {
     "data": {
      "image/png": "[encoded data removed]",
      "text/plain": [
       "<Figure size 432x288 with 1 Axes>"
      ]
     },
     "metadata": {
      "needs_background": "light"
     },
     "output_type": "display_data"
    }
   ],
   "source": [
    "user_behavior.groupby('tariff')['calls'].plot(kind='hist', bins=35, alpha=0.5)\n",
    "plt.legend(['Smart', 'Ultra'])\n",
    "plt.xlabel('Количество звонков')\n",
    "plt.ylabel('Количество клиентов')\n",
    "plt.show()"
   ]
  },
  {
   "cell_type": "markdown",
   "metadata": {
    "deletable": false,
    "editable": false
   },
   "source": [
    "Распределение средней продолжительности звонков по видам тарифов и месяцам"
   ]
  },
  {
   "cell_type": "code",
   "execution_count": 47,
   "metadata": {
    "deletable": false
   },
   "outputs": [
    {
     "data": {
      "image/png": "[encoded data removed]",
      "text/plain": [
       "<Figure size 432x288 with 1 Axes>"
      ]
     },
     "metadata": {
      "needs_background": "light"
     },
     "output_type": "display_data"
    }
   ],
   "source": [
    "ax = sns.barplot(x='month',\n",
    "            y='minutes_mean',\n",
    "            hue=\"tariff\",\n",
    "            data=stats_df,\n",
    "            palette=['lightblue', 'blue'])\n",
    "\n",
    "ax.set_title('Распределение продолжительности звонков по видам тарифов и месяцам')\n",
    "ax.set(xlabel='Номер месяца', ylabel='Средняя продолжительность звонков');"
   ]
  },
  {
   "cell_type": "code",
   "execution_count": 48,
   "metadata": {
    "deletable": false
   },
   "outputs": [
    {
     "data": {
      "image/png": "[encoded data removed]",
      "text/plain": [
       "<Figure size 432x288 with 1 Axes>"
      ]
     },
     "metadata": {
      "needs_background": "light"
     },
     "output_type": "display_data"
    }
   ],
   "source": [
    "user_behavior[user_behavior['tariff'] =='smart']['minutes'].hist(bins=35, alpha=0.5, color='green')\n",
    "user_behavior[user_behavior['tariff'] =='ultra']['minutes'].hist(bins=35, alpha=0.5, color='blue');"
   ]
  },
  {
   "cell_type": "markdown",
   "metadata": {
    "deletable": false,
    "editable": false
   },
   "source": [
    "Средняя длительность разговоров у абонентов тарифа Ultra больше, чем у абонентов тарифа Smart. В течение года пользователи обоих тарифов увеличивают среднюю продолжительность своих разговоров. Рост средней длительности разговоров у абонентов тарифа Smart равномерный в течение года. Пользователи тарифа Ultra не проявляют подобной линейной стабильности. Стоит отметить, что феврале у абонентов обоих тарифных планов наблюдались самые низкие показатели."
   ]
  },
  {
   "cell_type": "markdown",
   "metadata": {
    "deletable": false,
    "editable": false
   },
   "source": [
    "Распределение среднего количества сообщений по видам тарифов и месяцам"
   ]
  },
  {
   "cell_type": "code",
   "execution_count": 49,
   "metadata": {
    "deletable": false
   },
   "outputs": [
    {
     "data": {
      "image/png": "[encoded data removed]",
      "text/plain": [
       "<Figure size 432x288 with 1 Axes>"
      ]
     },
     "metadata": {
      "needs_background": "light"
     },
     "output_type": "display_data"
    }
   ],
   "source": [
    "ax = sns.barplot(x='month',\n",
    "            y='messages_mean',\n",
    "            hue=\"tariff\",\n",
    "            data=stats_df,\n",
    "            palette=['lightblue', 'blue']\n",
    ")\n",
    "\n",
    "ax.set_title('Распределение количества сообщений по видам тарифов и месяцам')\n",
    "ax.set(xlabel='Номер месяца', ylabel='Среднее количество звонков');"
   ]
  },
  {
   "cell_type": "code",
   "execution_count": 50,
   "metadata": {
    "deletable": false
   },
   "outputs": [
    {
     "data": {
      "image/png": "[encoded data removed]",
      "text/plain": [
       "<Figure size 432x288 with 1 Axes>"
      ]
     },
     "metadata": {
      "needs_background": "light"
     },
     "output_type": "display_data"
    }
   ],
   "source": [
    "user_behavior[user_behavior['tariff'] =='smart']['messages'].hist(bins=35, alpha=0.5, color='green')\n",
    "user_behavior[user_behavior['tariff'] =='ultra']['messages'].hist(bins=35, alpha=0.5, color='blue');"
   ]
  },
  {
   "cell_type": "markdown",
   "metadata": {
    "deletable": false,
    "editable": false
   },
   "source": [
    "В среднем количество сообщений пользователи тарифа Ultra отправляют больше - почти на 20 сообщений больше, чем пользователи тарифа Smart. Количество сообщений в течение года на обоих тарифак растет. Динамика по отправке сообщений схожа с тенденциями по длительности разговоров: в феврале отмечено наименьшее количество сообщений за год и пользователи тарифа Ultra также проявляют нелинейную полодительную динамику."
   ]
  },
  {
   "cell_type": "code",
   "execution_count": 51,
   "metadata": {
    "deletable": false
   },
   "outputs": [
    {
     "data": {
      "image/png": "[encoded data removed]",
      "text/plain": [
       "<Figure size 432x288 with 1 Axes>"
      ]
     },
     "metadata": {
      "needs_background": "light"
     },
     "output_type": "display_data"
    }
   ],
   "source": [
    "ax = sns.barplot(x='month',\n",
    "            y='sessions_mean',\n",
    "            hue=\"tariff\",\n",
    "            data=stats_df,\n",
    "            palette=['lightblue', 'blue']\n",
    ")\n",
    "\n",
    "ax.set_title('Распределение количества потраченного трафика (Мб) по видам тарифов и месяцам')\n",
    "ax.set(xlabel='Номер месяца', ylabel='Среднее количество мегабайт');"
   ]
  },
  {
   "cell_type": "markdown",
   "metadata": {
    "deletable": false,
    "editable": false
   },
   "source": [
    "Сравнение потраченных мегабайт среди пользователей тарифов Smart и Ultra"
   ]
  },
  {
   "cell_type": "code",
   "execution_count": 52,
   "metadata": {
    "deletable": false
   },
   "outputs": [
    {
     "data": {
      "image/png": "[encoded data removed]",
      "text/plain": [
       "<Figure size 432x288 with 1 Axes>"
      ]
     },
     "metadata": {
      "needs_background": "light"
     },
     "output_type": "display_data"
    }
   ],
   "source": [
    "user_behavior[user_behavior['tariff'] =='smart']['mb_used'].hist(bins=35, alpha=0.5, color='green')\n",
    "user_behavior[user_behavior['tariff'] =='ultra']['mb_used'].hist(bins=35, alpha=0.5, color='blue');"
   ]
  },
  {
   "cell_type": "markdown",
   "metadata": {
    "deletable": false,
    "editable": false
   },
   "source": [
    "Меньше всего пользователи использовали интернет в январе, феврале и апреле. Чаще всего абоненты тарифа Smart тратят 15-17 Гб, а абоненты тарифного плана Ultra - 19-21 ГБ."
   ]
  },
  {
   "cell_type": "markdown",
   "metadata": {
    "deletable": false,
    "editable": false
   },
   "source": [
    "### Проверка гипотез"
   ]
  },
  {
   "cell_type": "markdown",
   "metadata": {
    "tags": [
     "start_task"
    ]
   },
   "source": [
    "Проверка гипотезы: средняя выручка пользователей тарифов «Ультра» и «Смарт» различаются;\n",
    "\n",
    "```\n",
    "H_0: Выручка (total_cost) пользователей \"Ультра\" = выручка (total_cost) пользователей \"Смарт\"`\n",
    "H_a: Выручка (total_cost) пользователей \"Ультра\" ≠ выручка (total_cost) пользователей \"Смарт\"`\n",
    "alpha = 0.05\n",
    "```"
   ]
  },
  {
   "cell_type": "code",
   "execution_count": 55,
   "metadata": {
    "deletable": false
   },
   "outputs": [],
   "source": []
  },
  {
   "cell_type": "code",
   "execution_count": 67,
   "metadata": {
    "deletable": false
   },
   "outputs": [
    {
     "name": "stdout",
     "output_type": "stream",
     "text": [
      "4.2606313931076085e-250\n",
      "Отвергаем нулевую гипотезу\n"
     ]
    }
   ],
   "source": [
    "# results = вызов метода для проверки гипотезы\n",
    "results = st.ttest_ind(\n",
    "    user_behavior[user_behavior['tariff'] == 'smart']['total_cost'],\n",
    "    user_behavior[user_behavior['tariff'] == 'ultra']['total_cost'], \n",
    "    equal_var=False\n",
    ")\n",
    "# alpha = задайте значение уровня значимости\n",
    "alpha = .05 \n",
    "# вывод значения p-value на экран \n",
    "print(results.pvalue)\n",
    "# условный оператор с выводом строки с ответом\n",
    "if results.pvalue < alpha:\n",
    "    print('Отвергаем нулевую гипотезу')\n",
    "else:\n",
    "    print('Не получилось отвергнуть нулевую гипотезу')"
   ]
  },
  {
   "cell_type": "markdown",
   "metadata": {
    "tags": [
     "start_task"
    ]
   },
   "source": [
    "Проверка гипотезы: пользователи из Москвы приносят больше выручки, чем пользователи из других городов;\n",
    "\n",
    "```\n",
    "H_0: Выручка (total_cost) пользователей из Москвы = выручка (total_cost) пользователей не из Москвы`\n",
    "H_1: Выручка (total_cost) пользователей из Москвы ≠ выручка (total_cost) пользователей не из Москвы`\n",
    "alpha = 0.05\n",
    "```"
   ]
  },
  {
   "cell_type": "code",
   "execution_count": 61,
   "metadata": {
    "deletable": false
   },
   "outputs": [
    {
     "name": "stdout",
     "output_type": "stream",
     "text": [
      "0.5257376663729298\n",
      "Не получилось отвергнуть нулевую гипотезу\n"
     ]
    }
   ],
   "source": [
    "# results = вызов метода для проверки гипотезы\n",
    "results = st.ttest_ind(\n",
    "    user_behavior.loc[user_behavior['city'] == 'Москва']['total_cost'],\n",
    "    user_behavior.loc[user_behavior['city'] != 'Москва']['total_cost'],\n",
    "    equal_var=False\n",
    ")\n",
    "# alpha = задайте значение уровня значимости\n",
    "alpha = .05\n",
    "# вывод значения p-value на экран \n",
    "print(results.pvalue)\n",
    "# условный оператор с выводом строки с ответом\n",
    "if results.pvalue < alpha:\n",
    "    print('Отвергаем нулевую гипотезу')\n",
    "else:\n",
    "    print('Не получилось отвергнуть нулевую гипотезу')"
   ]
  },
  {
   "cell_type": "markdown",
   "metadata": {},
   "source": [
    "## Общий вывод"
   ]
  },
  {
   "cell_type": "markdown",
   "metadata": {},
   "source": [
    "По результатам статистических тестов, нам не удалось подтвердить гипотезу о равенстве средней выручки двух тарифов и можно с большой вероятностью говорить о наличии разницы между этими двумя тарифами. Также не удалось отвергнуть гипотезу о равенстве средней выручки в Москве и регионах.\n",
    "\n",
    "Больше чем в 50% наблюдений тарифа Смарт переплата составляет более 400руб, тогда как пользователи Ультра не расходуют и половины лимита. Если учесть, что на каждого пользователя тарифа ультра приходится 2 пользователя тарифа смарт, а также учитывая большой отток клиентов из тарифа ультра, можно сказать что смарт выглядит более привлекательным для пользователей вне зависимости от региона.\n",
    "\n",
    "При этом стоит учитывать, что среднемесячная выручка с Ультра выше почти в два раза. Плюс зная, что пользователям тарифа Смарт не хватает лимитов, возможно стоит начать рекламную компанию с этого тарифа."
   ]
  },
  {
   "cell_type": "code",
   "execution_count": null,
   "metadata": {},
   "outputs": [],
   "source": []
  }
 ],
 "metadata": {
  "ExecuteTimeLog": [
   {
    "duration": 41,
    "start_time": "2022-08-12T19:20:37.632Z"
   },
   {
    "duration": 5,
    "start_time": "2022-08-12T19:20:39.634Z"
   },
   {
    "duration": 322,
    "start_time": "2022-08-12T19:20:43.553Z"
   },
   {
    "duration": 530,
    "start_time": "2022-08-12T19:20:45.835Z"
   },
   {
    "duration": 14,
    "start_time": "2022-08-12T19:20:48.194Z"
   },
   {
    "duration": 22,
    "start_time": "2022-08-12T19:21:11.460Z"
   },
   {
    "duration": 496,
    "start_time": "2022-08-12T19:22:41.854Z"
   },
   {
    "duration": 140,
    "start_time": "2022-08-12T19:22:47.540Z"
   },
   {
    "duration": 142,
    "start_time": "2022-08-12T19:23:01.371Z"
   },
   {
    "duration": 142,
    "start_time": "2022-08-12T19:23:06.729Z"
   },
   {
    "duration": 173,
    "start_time": "2022-08-12T19:23:12.724Z"
   },
   {
    "duration": 130,
    "start_time": "2022-08-12T19:23:21.857Z"
   },
   {
    "duration": 150,
    "start_time": "2022-08-12T19:23:34.480Z"
   },
   {
    "duration": 142,
    "start_time": "2022-08-12T19:23:37.869Z"
   },
   {
    "duration": 405,
    "start_time": "2022-08-12T19:24:21.532Z"
   },
   {
    "duration": 9,
    "start_time": "2022-08-12T19:24:31.766Z"
   },
   {
    "duration": 1304,
    "start_time": "2022-08-12T19:32:58.019Z"
   },
   {
    "duration": 240,
    "start_time": "2022-08-12T19:33:03.164Z"
   },
   {
    "duration": 135,
    "start_time": "2022-08-12T19:33:10.720Z"
   },
   {
    "duration": 18,
    "start_time": "2022-08-12T19:34:20.374Z"
   },
   {
    "duration": 129,
    "start_time": "2022-08-12T19:35:40.730Z"
   },
   {
    "duration": 126,
    "start_time": "2022-08-12T19:35:44.234Z"
   },
   {
    "duration": 132,
    "start_time": "2022-08-12T19:35:54.773Z"
   },
   {
    "duration": 248,
    "start_time": "2022-08-12T19:36:03.462Z"
   },
   {
    "duration": 134,
    "start_time": "2022-08-12T19:36:10.301Z"
   },
   {
    "duration": 126,
    "start_time": "2022-08-12T19:36:16.662Z"
   },
   {
    "duration": 137,
    "start_time": "2022-08-12T19:36:28.584Z"
   },
   {
    "duration": 76,
    "start_time": "2022-08-12T19:37:19.719Z"
   },
   {
    "duration": 141,
    "start_time": "2022-08-12T19:37:26.659Z"
   },
   {
    "duration": 9,
    "start_time": "2022-08-12T19:37:37.403Z"
   },
   {
    "duration": 7,
    "start_time": "2022-08-12T19:37:53.182Z"
   },
   {
    "duration": 25,
    "start_time": "2022-08-12T19:38:10.891Z"
   },
   {
    "duration": 13,
    "start_time": "2022-08-12T19:39:53.342Z"
   },
   {
    "duration": 66,
    "start_time": "2022-08-12T19:40:48.554Z"
   },
   {
    "duration": 8,
    "start_time": "2022-08-12T19:40:57.201Z"
   },
   {
    "duration": 10,
    "start_time": "2022-08-12T19:42:19.182Z"
   },
   {
    "duration": 83,
    "start_time": "2022-08-12T19:42:55.719Z"
   },
   {
    "duration": 10,
    "start_time": "2022-08-12T19:43:04.454Z"
   },
   {
    "duration": 10,
    "start_time": "2022-08-12T19:43:22.856Z"
   },
   {
    "duration": 72,
    "start_time": "2022-08-12T20:01:45.930Z"
   },
   {
    "duration": 55,
    "start_time": "2022-08-12T20:02:04.032Z"
   },
   {
    "duration": 109,
    "start_time": "2022-08-12T20:02:14.736Z"
   },
   {
    "duration": 48,
    "start_time": "2022-08-12T20:02:23.542Z"
   },
   {
    "duration": 48,
    "start_time": "2022-08-12T20:02:26.924Z"
   },
   {
    "duration": 52,
    "start_time": "2022-08-12T20:02:33.829Z"
   },
   {
    "duration": 427,
    "start_time": "2022-08-12T20:05:34.129Z"
   },
   {
    "duration": 169,
    "start_time": "2022-08-12T20:05:34.558Z"
   },
   {
    "duration": 17,
    "start_time": "2022-08-12T20:05:34.729Z"
   },
   {
    "duration": 34,
    "start_time": "2022-08-12T20:05:34.749Z"
   },
   {
    "duration": 423,
    "start_time": "2022-08-12T20:05:34.785Z"
   },
   {
    "duration": 136,
    "start_time": "2022-08-12T20:05:35.210Z"
   },
   {
    "duration": 10,
    "start_time": "2022-08-12T20:05:35.348Z"
   },
   {
    "duration": 38,
    "start_time": "2022-08-12T20:05:35.359Z"
   },
   {
    "duration": 169,
    "start_time": "2022-08-12T20:05:35.406Z"
   },
   {
    "duration": 114,
    "start_time": "2022-08-12T20:05:35.578Z"
   },
   {
    "duration": 12,
    "start_time": "2022-08-12T20:05:35.694Z"
   },
   {
    "duration": 29,
    "start_time": "2022-08-12T20:05:35.707Z"
   },
   {
    "duration": 16,
    "start_time": "2022-08-12T20:05:35.738Z"
   },
   {
    "duration": 9,
    "start_time": "2022-08-12T20:05:35.756Z"
   },
   {
    "duration": 13,
    "start_time": "2022-08-12T20:05:35.767Z"
   },
   {
    "duration": 30,
    "start_time": "2022-08-12T20:05:35.782Z"
   },
   {
    "duration": 15,
    "start_time": "2022-08-12T20:05:35.814Z"
   },
   {
    "duration": 12,
    "start_time": "2022-08-12T20:05:35.832Z"
   },
   {
    "duration": 147,
    "start_time": "2022-08-12T20:05:35.847Z"
   },
   {
    "duration": 9,
    "start_time": "2022-08-12T20:05:35.997Z"
   },
   {
    "duration": 27,
    "start_time": "2022-08-12T20:05:36.008Z"
   },
   {
    "duration": 22,
    "start_time": "2022-08-12T20:05:36.037Z"
   },
   {
    "duration": 18,
    "start_time": "2022-08-12T20:05:36.062Z"
   },
   {
    "duration": 11,
    "start_time": "2022-08-12T20:05:36.082Z"
   },
   {
    "duration": 9,
    "start_time": "2022-08-12T20:05:36.095Z"
   },
   {
    "duration": 7,
    "start_time": "2022-08-12T20:05:36.106Z"
   },
   {
    "duration": 12,
    "start_time": "2022-08-12T20:05:36.115Z"
   },
   {
    "duration": 35,
    "start_time": "2022-08-12T20:05:36.132Z"
   },
   {
    "duration": 22,
    "start_time": "2022-08-12T20:05:36.170Z"
   },
   {
    "duration": 140,
    "start_time": "2022-08-12T20:05:36.194Z"
   },
   {
    "duration": 0,
    "start_time": "2022-08-12T20:05:36.336Z"
   },
   {
    "duration": 0,
    "start_time": "2022-08-12T20:05:36.338Z"
   },
   {
    "duration": 0,
    "start_time": "2022-08-12T20:05:36.339Z"
   },
   {
    "duration": 0,
    "start_time": "2022-08-12T20:05:36.341Z"
   },
   {
    "duration": 0,
    "start_time": "2022-08-12T20:05:36.342Z"
   },
   {
    "duration": 0,
    "start_time": "2022-08-12T20:05:36.344Z"
   },
   {
    "duration": 0,
    "start_time": "2022-08-12T20:05:36.345Z"
   },
   {
    "duration": 0,
    "start_time": "2022-08-12T20:05:36.346Z"
   },
   {
    "duration": 0,
    "start_time": "2022-08-12T20:05:36.349Z"
   },
   {
    "duration": 0,
    "start_time": "2022-08-12T20:05:36.350Z"
   },
   {
    "duration": 0,
    "start_time": "2022-08-12T20:05:36.351Z"
   },
   {
    "duration": 0,
    "start_time": "2022-08-12T20:05:36.353Z"
   },
   {
    "duration": 0,
    "start_time": "2022-08-12T20:05:36.354Z"
   },
   {
    "duration": 0,
    "start_time": "2022-08-12T20:05:36.355Z"
   },
   {
    "duration": 0,
    "start_time": "2022-08-12T20:05:36.356Z"
   },
   {
    "duration": 0,
    "start_time": "2022-08-12T20:05:36.358Z"
   },
   {
    "duration": 0,
    "start_time": "2022-08-12T20:05:36.359Z"
   },
   {
    "duration": 0,
    "start_time": "2022-08-12T20:05:36.361Z"
   },
   {
    "duration": 0,
    "start_time": "2022-08-12T20:05:36.363Z"
   },
   {
    "duration": 0,
    "start_time": "2022-08-12T20:05:36.364Z"
   },
   {
    "duration": 78,
    "start_time": "2022-08-12T20:06:51.247Z"
   },
   {
    "duration": 67,
    "start_time": "2022-08-12T20:07:22.637Z"
   },
   {
    "duration": 64,
    "start_time": "2022-08-12T20:08:07.129Z"
   },
   {
    "duration": 75,
    "start_time": "2022-08-12T20:09:45.951Z"
   },
   {
    "duration": 69,
    "start_time": "2022-08-12T20:10:19.470Z"
   },
   {
    "duration": 67,
    "start_time": "2022-08-12T20:10:57.251Z"
   },
   {
    "duration": 73,
    "start_time": "2022-08-12T20:11:15.745Z"
   },
   {
    "duration": 85,
    "start_time": "2022-08-12T20:11:58.644Z"
   },
   {
    "duration": 88,
    "start_time": "2022-08-12T20:12:04.943Z"
   },
   {
    "duration": 83,
    "start_time": "2022-08-12T20:19:59.839Z"
   },
   {
    "duration": 9,
    "start_time": "2022-08-12T20:20:04.945Z"
   },
   {
    "duration": 6,
    "start_time": "2022-08-12T20:20:20.220Z"
   },
   {
    "duration": 9,
    "start_time": "2022-08-12T20:20:29.720Z"
   },
   {
    "duration": 8,
    "start_time": "2022-08-12T20:20:59.734Z"
   },
   {
    "duration": 2,
    "start_time": "2022-08-12T20:21:06.299Z"
   },
   {
    "duration": 186,
    "start_time": "2022-08-12T20:21:06.304Z"
   },
   {
    "duration": 23,
    "start_time": "2022-08-12T20:21:06.493Z"
   },
   {
    "duration": 25,
    "start_time": "2022-08-12T20:21:06.518Z"
   },
   {
    "duration": 154,
    "start_time": "2022-08-12T20:21:06.545Z"
   },
   {
    "duration": 129,
    "start_time": "2022-08-12T20:21:06.701Z"
   },
   {
    "duration": 9,
    "start_time": "2022-08-12T20:21:06.832Z"
   },
   {
    "duration": 19,
    "start_time": "2022-08-12T20:21:06.842Z"
   },
   {
    "duration": 157,
    "start_time": "2022-08-12T20:21:06.863Z"
   },
   {
    "duration": 81,
    "start_time": "2022-08-12T20:21:07.021Z"
   },
   {
    "duration": 6,
    "start_time": "2022-08-12T20:21:07.105Z"
   },
   {
    "duration": 19,
    "start_time": "2022-08-12T20:21:07.113Z"
   },
   {
    "duration": 18,
    "start_time": "2022-08-12T20:21:07.134Z"
   },
   {
    "duration": 9,
    "start_time": "2022-08-12T20:21:07.153Z"
   },
   {
    "duration": 16,
    "start_time": "2022-08-12T20:21:07.163Z"
   },
   {
    "duration": 34,
    "start_time": "2022-08-12T20:21:07.180Z"
   },
   {
    "duration": 10,
    "start_time": "2022-08-12T20:21:07.215Z"
   },
   {
    "duration": 17,
    "start_time": "2022-08-12T20:21:07.227Z"
   },
   {
    "duration": 103,
    "start_time": "2022-08-12T20:21:07.246Z"
   },
   {
    "duration": 9,
    "start_time": "2022-08-12T20:21:07.350Z"
   },
   {
    "duration": 4,
    "start_time": "2022-08-12T20:21:07.361Z"
   },
   {
    "duration": 5,
    "start_time": "2022-08-12T20:21:07.366Z"
   },
   {
    "duration": 4,
    "start_time": "2022-08-12T20:21:07.373Z"
   },
   {
    "duration": 5,
    "start_time": "2022-08-12T20:21:07.379Z"
   },
   {
    "duration": 23,
    "start_time": "2022-08-12T20:21:07.386Z"
   },
   {
    "duration": 5,
    "start_time": "2022-08-12T20:21:07.413Z"
   },
   {
    "duration": 4,
    "start_time": "2022-08-12T20:21:07.420Z"
   },
   {
    "duration": 4,
    "start_time": "2022-08-12T20:21:07.426Z"
   },
   {
    "duration": 7,
    "start_time": "2022-08-12T20:21:07.433Z"
   },
   {
    "duration": 11,
    "start_time": "2022-08-12T20:21:07.442Z"
   },
   {
    "duration": 0,
    "start_time": "2022-08-12T20:21:07.455Z"
   },
   {
    "duration": 0,
    "start_time": "2022-08-12T20:21:07.456Z"
   },
   {
    "duration": 0,
    "start_time": "2022-08-12T20:21:07.457Z"
   },
   {
    "duration": 0,
    "start_time": "2022-08-12T20:21:07.459Z"
   },
   {
    "duration": 0,
    "start_time": "2022-08-12T20:21:07.461Z"
   },
   {
    "duration": 0,
    "start_time": "2022-08-12T20:21:07.462Z"
   },
   {
    "duration": 0,
    "start_time": "2022-08-12T20:21:07.463Z"
   },
   {
    "duration": 1,
    "start_time": "2022-08-12T20:21:07.464Z"
   },
   {
    "duration": 0,
    "start_time": "2022-08-12T20:21:07.466Z"
   },
   {
    "duration": 0,
    "start_time": "2022-08-12T20:21:07.467Z"
   },
   {
    "duration": 0,
    "start_time": "2022-08-12T20:21:07.507Z"
   },
   {
    "duration": 0,
    "start_time": "2022-08-12T20:21:07.508Z"
   },
   {
    "duration": 0,
    "start_time": "2022-08-12T20:21:07.510Z"
   },
   {
    "duration": 0,
    "start_time": "2022-08-12T20:21:07.511Z"
   },
   {
    "duration": 0,
    "start_time": "2022-08-12T20:21:07.512Z"
   },
   {
    "duration": 0,
    "start_time": "2022-08-12T20:21:07.514Z"
   },
   {
    "duration": 0,
    "start_time": "2022-08-12T20:21:07.515Z"
   },
   {
    "duration": 0,
    "start_time": "2022-08-12T20:21:07.516Z"
   },
   {
    "duration": 0,
    "start_time": "2022-08-12T20:21:07.518Z"
   },
   {
    "duration": 0,
    "start_time": "2022-08-12T20:21:07.520Z"
   },
   {
    "duration": 6,
    "start_time": "2022-08-12T20:21:50.004Z"
   },
   {
    "duration": 36,
    "start_time": "2022-08-12T20:24:41.908Z"
   },
   {
    "duration": 21,
    "start_time": "2022-08-12T20:25:27.905Z"
   },
   {
    "duration": 12,
    "start_time": "2022-08-12T20:25:35.112Z"
   },
   {
    "duration": 3,
    "start_time": "2022-08-12T20:25:57.152Z"
   },
   {
    "duration": 174,
    "start_time": "2022-08-12T20:25:57.157Z"
   },
   {
    "duration": 10,
    "start_time": "2022-08-12T20:25:57.333Z"
   },
   {
    "duration": 25,
    "start_time": "2022-08-12T20:25:57.344Z"
   },
   {
    "duration": 163,
    "start_time": "2022-08-12T20:25:57.371Z"
   },
   {
    "duration": 134,
    "start_time": "2022-08-12T20:25:57.536Z"
   },
   {
    "duration": 9,
    "start_time": "2022-08-12T20:25:57.671Z"
   },
   {
    "duration": 29,
    "start_time": "2022-08-12T20:25:57.682Z"
   },
   {
    "duration": 157,
    "start_time": "2022-08-12T20:25:57.713Z"
   },
   {
    "duration": 85,
    "start_time": "2022-08-12T20:25:57.872Z"
   },
   {
    "duration": 8,
    "start_time": "2022-08-12T20:25:57.959Z"
   },
   {
    "duration": 18,
    "start_time": "2022-08-12T20:25:57.969Z"
   },
   {
    "duration": 18,
    "start_time": "2022-08-12T20:25:57.989Z"
   },
   {
    "duration": 8,
    "start_time": "2022-08-12T20:25:58.009Z"
   },
   {
    "duration": 16,
    "start_time": "2022-08-12T20:25:58.019Z"
   },
   {
    "duration": 33,
    "start_time": "2022-08-12T20:25:58.037Z"
   },
   {
    "duration": 15,
    "start_time": "2022-08-12T20:25:58.072Z"
   },
   {
    "duration": 18,
    "start_time": "2022-08-12T20:25:58.089Z"
   },
   {
    "duration": 84,
    "start_time": "2022-08-12T20:25:58.108Z"
   },
   {
    "duration": 13,
    "start_time": "2022-08-12T20:25:58.194Z"
   },
   {
    "duration": 12,
    "start_time": "2022-08-12T20:25:58.209Z"
   },
   {
    "duration": 5,
    "start_time": "2022-08-12T20:25:58.223Z"
   },
   {
    "duration": 4,
    "start_time": "2022-08-12T20:25:58.230Z"
   },
   {
    "duration": 7,
    "start_time": "2022-08-12T20:25:58.236Z"
   },
   {
    "duration": 5,
    "start_time": "2022-08-12T20:25:58.244Z"
   },
   {
    "duration": 5,
    "start_time": "2022-08-12T20:25:58.250Z"
   },
   {
    "duration": 5,
    "start_time": "2022-08-12T20:25:58.256Z"
   },
   {
    "duration": 6,
    "start_time": "2022-08-12T20:25:58.262Z"
   },
   {
    "duration": 3,
    "start_time": "2022-08-12T20:25:58.271Z"
   },
   {
    "duration": 32,
    "start_time": "2022-08-12T20:25:58.275Z"
   },
   {
    "duration": 9,
    "start_time": "2022-08-12T20:25:58.309Z"
   },
   {
    "duration": 0,
    "start_time": "2022-08-12T20:25:58.320Z"
   },
   {
    "duration": 0,
    "start_time": "2022-08-12T20:25:58.321Z"
   },
   {
    "duration": 0,
    "start_time": "2022-08-12T20:25:58.322Z"
   },
   {
    "duration": 0,
    "start_time": "2022-08-12T20:25:58.323Z"
   },
   {
    "duration": 0,
    "start_time": "2022-08-12T20:25:58.324Z"
   },
   {
    "duration": 0,
    "start_time": "2022-08-12T20:25:58.326Z"
   },
   {
    "duration": 0,
    "start_time": "2022-08-12T20:25:58.327Z"
   },
   {
    "duration": 0,
    "start_time": "2022-08-12T20:25:58.328Z"
   },
   {
    "duration": 0,
    "start_time": "2022-08-12T20:25:58.329Z"
   },
   {
    "duration": 0,
    "start_time": "2022-08-12T20:25:58.330Z"
   },
   {
    "duration": 0,
    "start_time": "2022-08-12T20:25:58.331Z"
   },
   {
    "duration": 0,
    "start_time": "2022-08-12T20:25:58.332Z"
   },
   {
    "duration": 0,
    "start_time": "2022-08-12T20:25:58.333Z"
   },
   {
    "duration": 0,
    "start_time": "2022-08-12T20:25:58.334Z"
   },
   {
    "duration": 0,
    "start_time": "2022-08-12T20:25:58.335Z"
   },
   {
    "duration": 0,
    "start_time": "2022-08-12T20:25:58.336Z"
   },
   {
    "duration": 0,
    "start_time": "2022-08-12T20:25:58.337Z"
   },
   {
    "duration": 0,
    "start_time": "2022-08-12T20:25:58.338Z"
   },
   {
    "duration": 0,
    "start_time": "2022-08-12T20:25:58.339Z"
   },
   {
    "duration": 0,
    "start_time": "2022-08-12T20:25:58.341Z"
   },
   {
    "duration": 41,
    "start_time": "2022-08-12T20:29:33.440Z"
   },
   {
    "duration": 31,
    "start_time": "2022-08-12T20:29:40.525Z"
   },
   {
    "duration": 29,
    "start_time": "2022-08-12T20:30:48.121Z"
   },
   {
    "duration": 43,
    "start_time": "2022-08-12T20:32:00.030Z"
   },
   {
    "duration": 27,
    "start_time": "2022-08-12T20:32:06.786Z"
   },
   {
    "duration": 102,
    "start_time": "2022-08-12T20:46:48.321Z"
   },
   {
    "duration": 410,
    "start_time": "2022-08-12T20:48:06.393Z"
   },
   {
    "duration": 169,
    "start_time": "2022-08-12T20:48:06.805Z"
   },
   {
    "duration": 14,
    "start_time": "2022-08-12T20:48:06.976Z"
   },
   {
    "duration": 39,
    "start_time": "2022-08-12T20:48:06.992Z"
   },
   {
    "duration": 371,
    "start_time": "2022-08-12T20:48:07.032Z"
   },
   {
    "duration": 136,
    "start_time": "2022-08-12T20:48:07.405Z"
   },
   {
    "duration": 10,
    "start_time": "2022-08-12T20:48:07.543Z"
   },
   {
    "duration": 41,
    "start_time": "2022-08-12T20:48:07.560Z"
   },
   {
    "duration": 147,
    "start_time": "2022-08-12T20:48:07.603Z"
   },
   {
    "duration": 97,
    "start_time": "2022-08-12T20:48:07.753Z"
   },
   {
    "duration": 7,
    "start_time": "2022-08-12T20:48:07.851Z"
   },
   {
    "duration": 27,
    "start_time": "2022-08-12T20:48:07.860Z"
   },
   {
    "duration": 35,
    "start_time": "2022-08-12T20:48:07.889Z"
   },
   {
    "duration": 11,
    "start_time": "2022-08-12T20:48:07.926Z"
   },
   {
    "duration": 11,
    "start_time": "2022-08-12T20:48:07.938Z"
   },
   {
    "duration": 33,
    "start_time": "2022-08-12T20:48:07.951Z"
   },
   {
    "duration": 10,
    "start_time": "2022-08-12T20:48:07.986Z"
   },
   {
    "duration": 13,
    "start_time": "2022-08-12T20:48:07.998Z"
   },
   {
    "duration": 79,
    "start_time": "2022-08-12T20:48:08.013Z"
   },
   {
    "duration": 6,
    "start_time": "2022-08-12T20:48:08.094Z"
   },
   {
    "duration": 11,
    "start_time": "2022-08-12T20:48:08.101Z"
   },
   {
    "duration": 47,
    "start_time": "2022-08-12T20:48:08.116Z"
   },
   {
    "duration": 25,
    "start_time": "2022-08-12T20:48:08.165Z"
   },
   {
    "duration": 87,
    "start_time": "2022-08-12T20:48:08.192Z"
   },
   {
    "duration": 143,
    "start_time": "2022-08-12T20:48:08.281Z"
   },
   {
    "duration": 0,
    "start_time": "2022-08-12T20:48:08.427Z"
   },
   {
    "duration": 0,
    "start_time": "2022-08-12T20:48:08.428Z"
   },
   {
    "duration": 0,
    "start_time": "2022-08-12T20:48:08.429Z"
   },
   {
    "duration": 0,
    "start_time": "2022-08-12T20:48:08.430Z"
   },
   {
    "duration": 0,
    "start_time": "2022-08-12T20:48:08.431Z"
   },
   {
    "duration": 0,
    "start_time": "2022-08-12T20:48:08.432Z"
   },
   {
    "duration": 0,
    "start_time": "2022-08-12T20:48:08.434Z"
   },
   {
    "duration": 0,
    "start_time": "2022-08-12T20:48:08.435Z"
   },
   {
    "duration": 0,
    "start_time": "2022-08-12T20:48:08.436Z"
   },
   {
    "duration": 0,
    "start_time": "2022-08-12T20:48:08.437Z"
   },
   {
    "duration": 0,
    "start_time": "2022-08-12T20:48:08.438Z"
   },
   {
    "duration": 0,
    "start_time": "2022-08-12T20:48:08.439Z"
   },
   {
    "duration": 0,
    "start_time": "2022-08-12T20:48:08.440Z"
   },
   {
    "duration": 0,
    "start_time": "2022-08-12T20:48:08.441Z"
   },
   {
    "duration": 0,
    "start_time": "2022-08-12T20:48:08.442Z"
   },
   {
    "duration": 0,
    "start_time": "2022-08-12T20:48:08.443Z"
   },
   {
    "duration": 0,
    "start_time": "2022-08-12T20:48:08.445Z"
   },
   {
    "duration": 0,
    "start_time": "2022-08-12T20:48:08.446Z"
   },
   {
    "duration": 0,
    "start_time": "2022-08-12T20:48:08.448Z"
   },
   {
    "duration": 0,
    "start_time": "2022-08-12T20:48:08.449Z"
   },
   {
    "duration": 0,
    "start_time": "2022-08-12T20:48:08.450Z"
   },
   {
    "duration": 0,
    "start_time": "2022-08-12T20:48:08.452Z"
   },
   {
    "duration": 0,
    "start_time": "2022-08-12T20:48:08.453Z"
   },
   {
    "duration": 0,
    "start_time": "2022-08-12T20:48:08.454Z"
   },
   {
    "duration": 0,
    "start_time": "2022-08-12T20:48:08.456Z"
   },
   {
    "duration": 0,
    "start_time": "2022-08-12T20:48:08.457Z"
   },
   {
    "duration": 0,
    "start_time": "2022-08-12T20:48:08.459Z"
   },
   {
    "duration": 0,
    "start_time": "2022-08-12T20:48:08.460Z"
   },
   {
    "duration": 0,
    "start_time": "2022-08-12T20:48:08.461Z"
   },
   {
    "duration": 207,
    "start_time": "2022-08-12T21:09:05.299Z"
   },
   {
    "duration": 7,
    "start_time": "2022-08-12T21:09:07.486Z"
   },
   {
    "duration": 241,
    "start_time": "2022-08-12T21:10:29.336Z"
   },
   {
    "duration": 8,
    "start_time": "2022-08-12T21:10:31.869Z"
   },
   {
    "duration": 255,
    "start_time": "2022-08-12T21:11:19.135Z"
   },
   {
    "duration": 65,
    "start_time": "2022-08-12T21:17:54.245Z"
   },
   {
    "duration": 88,
    "start_time": "2022-08-12T21:18:21.615Z"
   },
   {
    "duration": 86,
    "start_time": "2022-08-12T21:26:01.772Z"
   },
   {
    "duration": 71,
    "start_time": "2022-08-12T21:27:37.000Z"
   },
   {
    "duration": 77,
    "start_time": "2022-08-12T21:28:24.858Z"
   },
   {
    "duration": 18,
    "start_time": "2022-08-12T21:28:34.885Z"
   },
   {
    "duration": 8,
    "start_time": "2022-08-12T21:28:40.148Z"
   },
   {
    "duration": 19,
    "start_time": "2022-08-12T21:33:26.812Z"
   },
   {
    "duration": 7,
    "start_time": "2022-08-12T21:33:29.013Z"
   },
   {
    "duration": 16,
    "start_time": "2022-08-12T21:37:29.956Z"
   },
   {
    "duration": 7,
    "start_time": "2022-08-12T21:37:42.277Z"
   },
   {
    "duration": 11,
    "start_time": "2022-08-12T21:41:46.828Z"
   },
   {
    "duration": 9,
    "start_time": "2022-08-12T21:41:58.857Z"
   },
   {
    "duration": 4,
    "start_time": "2022-08-12T21:47:36.572Z"
   },
   {
    "duration": 4,
    "start_time": "2022-08-12T21:47:49.623Z"
   },
   {
    "duration": 4,
    "start_time": "2022-08-12T21:48:04.218Z"
   },
   {
    "duration": 6,
    "start_time": "2022-08-12T21:50:13.038Z"
   },
   {
    "duration": 31,
    "start_time": "2022-08-12T21:50:17.254Z"
   },
   {
    "duration": 5,
    "start_time": "2022-08-12T21:50:22.575Z"
   },
   {
    "duration": 9,
    "start_time": "2022-08-12T21:52:24.179Z"
   },
   {
    "duration": 6,
    "start_time": "2022-08-12T21:52:34.434Z"
   },
   {
    "duration": 3,
    "start_time": "2022-08-12T21:52:36.999Z"
   },
   {
    "duration": 1283,
    "start_time": "2022-08-12T21:52:57.017Z"
   },
   {
    "duration": 8,
    "start_time": "2022-08-12T21:53:01.290Z"
   },
   {
    "duration": 9,
    "start_time": "2022-08-12T21:53:03.685Z"
   },
   {
    "duration": 4,
    "start_time": "2022-08-12T21:53:11.730Z"
   },
   {
    "duration": 5,
    "start_time": "2022-08-12T21:53:14.080Z"
   },
   {
    "duration": 5,
    "start_time": "2022-08-12T21:53:16.294Z"
   },
   {
    "duration": 44,
    "start_time": "2022-08-12T21:53:19.038Z"
   },
   {
    "duration": 699,
    "start_time": "2022-08-12T21:53:23.215Z"
   },
   {
    "duration": 279,
    "start_time": "2022-08-12T21:53:26.155Z"
   },
   {
    "duration": 278,
    "start_time": "2022-08-12T21:53:29.262Z"
   },
   {
    "duration": 240,
    "start_time": "2022-08-12T21:53:32.474Z"
   },
   {
    "duration": 183,
    "start_time": "2022-08-12T21:53:35.667Z"
   },
   {
    "duration": 260,
    "start_time": "2022-08-12T21:53:38.671Z"
   },
   {
    "duration": 256,
    "start_time": "2022-08-12T21:53:41.615Z"
   },
   {
    "duration": 407,
    "start_time": "2022-08-13T10:54:03.721Z"
   },
   {
    "duration": 534,
    "start_time": "2022-08-13T10:54:04.130Z"
   },
   {
    "duration": 19,
    "start_time": "2022-08-13T10:54:04.666Z"
   },
   {
    "duration": 36,
    "start_time": "2022-08-13T10:54:04.687Z"
   },
   {
    "duration": 534,
    "start_time": "2022-08-13T10:54:04.725Z"
   },
   {
    "duration": 398,
    "start_time": "2022-08-13T10:54:05.261Z"
   },
   {
    "duration": 9,
    "start_time": "2022-08-13T10:54:05.661Z"
   },
   {
    "duration": 22,
    "start_time": "2022-08-13T10:54:05.671Z"
   },
   {
    "duration": 134,
    "start_time": "2022-08-13T10:54:05.695Z"
   },
   {
    "duration": 154,
    "start_time": "2022-08-13T10:54:05.832Z"
   },
   {
    "duration": 7,
    "start_time": "2022-08-13T10:54:05.988Z"
   },
   {
    "duration": 17,
    "start_time": "2022-08-13T10:54:05.996Z"
   },
   {
    "duration": 51,
    "start_time": "2022-08-13T10:54:06.015Z"
   },
   {
    "duration": 11,
    "start_time": "2022-08-13T10:54:06.067Z"
   },
   {
    "duration": 13,
    "start_time": "2022-08-13T10:54:06.080Z"
   },
   {
    "duration": 69,
    "start_time": "2022-08-13T10:54:06.095Z"
   },
   {
    "duration": 13,
    "start_time": "2022-08-13T10:54:06.166Z"
   },
   {
    "duration": 11,
    "start_time": "2022-08-13T10:54:06.180Z"
   },
   {
    "duration": 75,
    "start_time": "2022-08-13T10:54:06.193Z"
   },
   {
    "duration": 6,
    "start_time": "2022-08-13T10:54:06.269Z"
   },
   {
    "duration": 10,
    "start_time": "2022-08-13T10:54:06.276Z"
   },
   {
    "duration": 35,
    "start_time": "2022-08-13T10:54:06.287Z"
   },
   {
    "duration": 88,
    "start_time": "2022-08-13T10:54:06.324Z"
   },
   {
    "duration": 25,
    "start_time": "2022-08-13T10:54:06.414Z"
   },
   {
    "duration": 33,
    "start_time": "2022-08-13T10:54:06.441Z"
   },
   {
    "duration": 7,
    "start_time": "2022-08-13T10:54:06.475Z"
   },
   {
    "duration": 23,
    "start_time": "2022-08-13T10:54:06.484Z"
   },
   {
    "duration": 7,
    "start_time": "2022-08-13T10:54:06.510Z"
   },
   {
    "duration": 38,
    "start_time": "2022-08-13T10:54:06.519Z"
   },
   {
    "duration": 7,
    "start_time": "2022-08-13T10:54:06.558Z"
   },
   {
    "duration": 13,
    "start_time": "2022-08-13T10:54:06.567Z"
   },
   {
    "duration": 8,
    "start_time": "2022-08-13T10:54:06.581Z"
   },
   {
    "duration": 5,
    "start_time": "2022-08-13T10:54:06.590Z"
   },
   {
    "duration": 31,
    "start_time": "2022-08-13T10:54:06.596Z"
   },
   {
    "duration": 37,
    "start_time": "2022-08-13T10:54:06.628Z"
   },
   {
    "duration": 9,
    "start_time": "2022-08-13T10:54:06.666Z"
   },
   {
    "duration": 8,
    "start_time": "2022-08-13T10:54:06.677Z"
   },
   {
    "duration": 10,
    "start_time": "2022-08-13T10:54:06.687Z"
   },
   {
    "duration": 12,
    "start_time": "2022-08-13T10:54:06.699Z"
   },
   {
    "duration": 9,
    "start_time": "2022-08-13T10:54:06.713Z"
   },
   {
    "duration": 16,
    "start_time": "2022-08-13T10:54:06.724Z"
   },
   {
    "duration": 53,
    "start_time": "2022-08-13T10:54:06.742Z"
   },
   {
    "duration": 56,
    "start_time": "2022-08-13T10:54:06.797Z"
   },
   {
    "duration": 796,
    "start_time": "2022-08-13T10:54:06.855Z"
   },
   {
    "duration": 234,
    "start_time": "2022-08-13T10:54:07.655Z"
   },
   {
    "duration": 274,
    "start_time": "2022-08-13T10:54:07.891Z"
   },
   {
    "duration": 199,
    "start_time": "2022-08-13T10:54:08.166Z"
   },
   {
    "duration": 228,
    "start_time": "2022-08-13T10:54:08.366Z"
   },
   {
    "duration": 190,
    "start_time": "2022-08-13T10:54:08.595Z"
   },
   {
    "duration": 347,
    "start_time": "2022-08-13T10:54:08.787Z"
   },
   {
    "duration": 189,
    "start_time": "2022-08-13T10:54:09.136Z"
   },
   {
    "duration": 2,
    "start_time": "2022-08-13T10:54:09.327Z"
   },
   {
    "duration": 5,
    "start_time": "2022-08-13T10:54:09.331Z"
   },
   {
    "duration": 4,
    "start_time": "2022-08-13T10:54:09.337Z"
   },
   {
    "duration": 26,
    "start_time": "2022-08-13T10:55:59.378Z"
   },
   {
    "duration": 30,
    "start_time": "2022-08-13T10:56:03.321Z"
   },
   {
    "duration": 28,
    "start_time": "2022-08-13T10:56:14.938Z"
   },
   {
    "duration": 1917,
    "start_time": "2022-08-13T11:00:02.736Z"
   },
   {
    "duration": 4,
    "start_time": "2022-08-13T11:00:14.562Z"
   },
   {
    "duration": 3,
    "start_time": "2022-08-13T11:00:16.509Z"
   },
   {
    "duration": 1395,
    "start_time": "2022-08-13T11:00:18.772Z"
   },
   {
    "duration": 8,
    "start_time": "2022-08-13T11:01:06.649Z"
   },
   {
    "duration": 29,
    "start_time": "2022-08-13T11:01:14.184Z"
   },
   {
    "duration": 7,
    "start_time": "2022-08-13T11:01:44.504Z"
   },
   {
    "duration": 6,
    "start_time": "2022-08-13T11:01:47.791Z"
   },
   {
    "duration": 4,
    "start_time": "2022-08-13T11:02:24.274Z"
   },
   {
    "duration": 388,
    "start_time": "2022-08-13T11:02:38.555Z"
   },
   {
    "duration": 146,
    "start_time": "2022-08-13T11:02:38.944Z"
   },
   {
    "duration": 14,
    "start_time": "2022-08-13T11:02:39.092Z"
   },
   {
    "duration": 23,
    "start_time": "2022-08-13T11:02:39.107Z"
   },
   {
    "duration": 367,
    "start_time": "2022-08-13T11:02:39.132Z"
   },
   {
    "duration": 120,
    "start_time": "2022-08-13T11:02:39.501Z"
   },
   {
    "duration": 8,
    "start_time": "2022-08-13T11:02:39.623Z"
   },
   {
    "duration": 29,
    "start_time": "2022-08-13T11:02:39.633Z"
   },
   {
    "duration": 139,
    "start_time": "2022-08-13T11:02:39.663Z"
   },
   {
    "duration": 86,
    "start_time": "2022-08-13T11:02:39.804Z"
   },
   {
    "duration": 7,
    "start_time": "2022-08-13T11:02:39.891Z"
   },
   {
    "duration": 17,
    "start_time": "2022-08-13T11:02:39.900Z"
   },
   {
    "duration": 16,
    "start_time": "2022-08-13T11:02:39.918Z"
   },
   {
    "duration": 8,
    "start_time": "2022-08-13T11:02:39.936Z"
   },
   {
    "duration": 13,
    "start_time": "2022-08-13T11:02:39.945Z"
   },
   {
    "duration": 40,
    "start_time": "2022-08-13T11:02:39.959Z"
   },
   {
    "duration": 9,
    "start_time": "2022-08-13T11:02:40.001Z"
   },
   {
    "duration": 11,
    "start_time": "2022-08-13T11:02:40.012Z"
   },
   {
    "duration": 71,
    "start_time": "2022-08-13T11:02:40.024Z"
   },
   {
    "duration": 5,
    "start_time": "2022-08-13T11:02:40.097Z"
   },
   {
    "duration": 10,
    "start_time": "2022-08-13T11:02:40.103Z"
   },
   {
    "duration": 43,
    "start_time": "2022-08-13T11:02:40.115Z"
   },
   {
    "duration": 26,
    "start_time": "2022-08-13T11:02:40.160Z"
   },
   {
    "duration": 96,
    "start_time": "2022-08-13T11:02:40.188Z"
   },
   {
    "duration": 26,
    "start_time": "2022-08-13T11:02:40.286Z"
   },
   {
    "duration": 8,
    "start_time": "2022-08-13T11:02:40.314Z"
   },
   {
    "duration": 46,
    "start_time": "2022-08-13T11:02:40.323Z"
   },
   {
    "duration": 6,
    "start_time": "2022-08-13T11:02:40.371Z"
   },
   {
    "duration": 16,
    "start_time": "2022-08-13T11:02:40.379Z"
   },
   {
    "duration": 6,
    "start_time": "2022-08-13T11:02:40.397Z"
   },
   {
    "duration": 14,
    "start_time": "2022-08-13T11:02:40.405Z"
   },
   {
    "duration": 8,
    "start_time": "2022-08-13T11:02:40.420Z"
   },
   {
    "duration": 27,
    "start_time": "2022-08-13T11:02:40.429Z"
   },
   {
    "duration": 30,
    "start_time": "2022-08-13T11:02:40.458Z"
   },
   {
    "duration": 6,
    "start_time": "2022-08-13T11:02:40.489Z"
   },
   {
    "duration": 5,
    "start_time": "2022-08-13T11:02:40.496Z"
   },
   {
    "duration": 7,
    "start_time": "2022-08-13T11:02:40.502Z"
   },
   {
    "duration": 4,
    "start_time": "2022-08-13T11:02:40.510Z"
   },
   {
    "duration": 40,
    "start_time": "2022-08-13T11:02:40.515Z"
   },
   {
    "duration": 12,
    "start_time": "2022-08-13T11:02:40.557Z"
   },
   {
    "duration": 11,
    "start_time": "2022-08-13T11:02:40.574Z"
   },
   {
    "duration": 7,
    "start_time": "2022-08-13T11:02:40.587Z"
   },
   {
    "duration": 6,
    "start_time": "2022-08-13T11:02:40.595Z"
   },
   {
    "duration": 47,
    "start_time": "2022-08-13T11:02:40.602Z"
   },
   {
    "duration": 708,
    "start_time": "2022-08-13T11:02:40.655Z"
   },
   {
    "duration": 290,
    "start_time": "2022-08-13T11:02:41.365Z"
   },
   {
    "duration": 327,
    "start_time": "2022-08-13T11:02:41.656Z"
   },
   {
    "duration": 215,
    "start_time": "2022-08-13T11:02:41.984Z"
   },
   {
    "duration": 256,
    "start_time": "2022-08-13T11:02:42.200Z"
   },
   {
    "duration": 180,
    "start_time": "2022-08-13T11:02:42.458Z"
   },
   {
    "duration": 275,
    "start_time": "2022-08-13T11:02:42.640Z"
   },
   {
    "duration": 291,
    "start_time": "2022-08-13T11:02:42.916Z"
   },
   {
    "duration": 3,
    "start_time": "2022-08-13T11:02:43.208Z"
   },
   {
    "duration": 5,
    "start_time": "2022-08-13T11:02:43.212Z"
   },
   {
    "duration": 5,
    "start_time": "2022-08-13T11:02:43.218Z"
   },
   {
    "duration": 2,
    "start_time": "2022-08-13T11:02:47.820Z"
   },
   {
    "duration": 168,
    "start_time": "2022-08-13T11:02:47.824Z"
   },
   {
    "duration": 8,
    "start_time": "2022-08-13T11:02:47.994Z"
   },
   {
    "duration": 27,
    "start_time": "2022-08-13T11:02:48.004Z"
   },
   {
    "duration": 134,
    "start_time": "2022-08-13T11:02:48.032Z"
   },
   {
    "duration": 113,
    "start_time": "2022-08-13T11:02:48.167Z"
   },
   {
    "duration": 8,
    "start_time": "2022-08-13T11:02:48.282Z"
   },
   {
    "duration": 19,
    "start_time": "2022-08-13T11:02:48.291Z"
   },
   {
    "duration": 135,
    "start_time": "2022-08-13T11:02:48.312Z"
   },
   {
    "duration": 78,
    "start_time": "2022-08-13T11:02:48.449Z"
   },
   {
    "duration": 8,
    "start_time": "2022-08-13T11:02:48.528Z"
   },
   {
    "duration": 20,
    "start_time": "2022-08-13T11:02:48.537Z"
   },
   {
    "duration": 16,
    "start_time": "2022-08-13T11:02:48.559Z"
   },
   {
    "duration": 8,
    "start_time": "2022-08-13T11:02:48.576Z"
   },
   {
    "duration": 12,
    "start_time": "2022-08-13T11:02:48.586Z"
   },
   {
    "duration": 33,
    "start_time": "2022-08-13T11:02:48.600Z"
   },
   {
    "duration": 9,
    "start_time": "2022-08-13T11:02:48.635Z"
   },
   {
    "duration": 16,
    "start_time": "2022-08-13T11:02:48.645Z"
   },
   {
    "duration": 64,
    "start_time": "2022-08-13T11:02:48.662Z"
   },
   {
    "duration": 4,
    "start_time": "2022-08-13T11:02:48.728Z"
   },
   {
    "duration": 22,
    "start_time": "2022-08-13T11:02:48.734Z"
   },
   {
    "duration": 49,
    "start_time": "2022-08-13T11:02:48.757Z"
   },
   {
    "duration": 23,
    "start_time": "2022-08-13T11:02:48.808Z"
   },
   {
    "duration": 28,
    "start_time": "2022-08-13T11:02:48.835Z"
   },
   {
    "duration": 21,
    "start_time": "2022-08-13T11:02:48.864Z"
   },
   {
    "duration": 7,
    "start_time": "2022-08-13T11:02:48.887Z"
   },
   {
    "duration": 24,
    "start_time": "2022-08-13T11:02:48.896Z"
   },
   {
    "duration": 8,
    "start_time": "2022-08-13T11:02:48.921Z"
   },
   {
    "duration": 39,
    "start_time": "2022-08-13T11:02:48.931Z"
   },
   {
    "duration": 8,
    "start_time": "2022-08-13T11:02:48.972Z"
   },
   {
    "duration": 18,
    "start_time": "2022-08-13T11:02:48.981Z"
   },
   {
    "duration": 8,
    "start_time": "2022-08-13T11:02:49.001Z"
   },
   {
    "duration": 10,
    "start_time": "2022-08-13T11:02:49.010Z"
   },
   {
    "duration": 54,
    "start_time": "2022-08-13T11:02:49.021Z"
   },
   {
    "duration": 6,
    "start_time": "2022-08-13T11:02:49.077Z"
   },
   {
    "duration": 6,
    "start_time": "2022-08-13T11:02:49.084Z"
   },
   {
    "duration": 7,
    "start_time": "2022-08-13T11:02:49.091Z"
   },
   {
    "duration": 3,
    "start_time": "2022-08-13T11:02:49.099Z"
   },
   {
    "duration": 8,
    "start_time": "2022-08-13T11:02:49.103Z"
   },
   {
    "duration": 7,
    "start_time": "2022-08-13T11:02:49.113Z"
   },
   {
    "duration": 34,
    "start_time": "2022-08-13T11:02:49.121Z"
   },
   {
    "duration": 6,
    "start_time": "2022-08-13T11:02:49.157Z"
   },
   {
    "duration": 9,
    "start_time": "2022-08-13T11:02:49.164Z"
   },
   {
    "duration": 43,
    "start_time": "2022-08-13T11:02:49.175Z"
   },
   {
    "duration": 274,
    "start_time": "2022-08-13T11:02:49.219Z"
   },
   {
    "duration": 285,
    "start_time": "2022-08-13T11:02:49.495Z"
   },
   {
    "duration": 267,
    "start_time": "2022-08-13T11:02:49.781Z"
   },
   {
    "duration": 187,
    "start_time": "2022-08-13T11:02:50.049Z"
   },
   {
    "duration": 232,
    "start_time": "2022-08-13T11:02:50.237Z"
   },
   {
    "duration": 193,
    "start_time": "2022-08-13T11:02:50.471Z"
   },
   {
    "duration": 278,
    "start_time": "2022-08-13T11:02:50.665Z"
   },
   {
    "duration": 270,
    "start_time": "2022-08-13T11:02:50.944Z"
   },
   {
    "duration": 3,
    "start_time": "2022-08-13T11:02:51.215Z"
   },
   {
    "duration": 5,
    "start_time": "2022-08-13T11:02:51.220Z"
   },
   {
    "duration": 5,
    "start_time": "2022-08-13T11:02:51.226Z"
   },
   {
    "duration": 3,
    "start_time": "2022-08-13T11:03:36.148Z"
   },
   {
    "duration": 9,
    "start_time": "2022-08-13T11:03:39.018Z"
   },
   {
    "duration": 20,
    "start_time": "2022-08-13T11:03:53.287Z"
   },
   {
    "duration": 85,
    "start_time": "2022-08-13T11:04:13.517Z"
   },
   {
    "duration": 4,
    "start_time": "2022-08-13T11:04:16.775Z"
   },
   {
    "duration": 1218,
    "start_time": "2022-08-13T11:04:47.642Z"
   },
   {
    "duration": 8,
    "start_time": "2022-08-13T11:09:47.946Z"
   },
   {
    "duration": 4,
    "start_time": "2022-08-13T11:09:49.923Z"
   },
   {
    "duration": 5,
    "start_time": "2022-08-13T11:09:53.029Z"
   },
   {
    "duration": 40,
    "start_time": "2022-08-13T11:13:05.236Z"
   },
   {
    "duration": 387,
    "start_time": "2022-08-13T11:13:09.040Z"
   },
   {
    "duration": 145,
    "start_time": "2022-08-13T11:13:09.429Z"
   },
   {
    "duration": 14,
    "start_time": "2022-08-13T11:13:09.576Z"
   },
   {
    "duration": 22,
    "start_time": "2022-08-13T11:13:09.592Z"
   },
   {
    "duration": 364,
    "start_time": "2022-08-13T11:13:09.615Z"
   },
   {
    "duration": 120,
    "start_time": "2022-08-13T11:13:09.980Z"
   },
   {
    "duration": 8,
    "start_time": "2022-08-13T11:13:10.101Z"
   },
   {
    "duration": 26,
    "start_time": "2022-08-13T11:13:10.111Z"
   },
   {
    "duration": 157,
    "start_time": "2022-08-13T11:13:10.138Z"
   },
   {
    "duration": 86,
    "start_time": "2022-08-13T11:13:10.298Z"
   },
   {
    "duration": 7,
    "start_time": "2022-08-13T11:13:10.386Z"
   },
   {
    "duration": 20,
    "start_time": "2022-08-13T11:13:10.394Z"
   },
   {
    "duration": 15,
    "start_time": "2022-08-13T11:13:10.416Z"
   },
   {
    "duration": 7,
    "start_time": "2022-08-13T11:13:10.432Z"
   },
   {
    "duration": 16,
    "start_time": "2022-08-13T11:13:10.440Z"
   },
   {
    "duration": 39,
    "start_time": "2022-08-13T11:13:10.457Z"
   },
   {
    "duration": 10,
    "start_time": "2022-08-13T11:13:10.497Z"
   },
   {
    "duration": 10,
    "start_time": "2022-08-13T11:13:10.509Z"
   },
   {
    "duration": 68,
    "start_time": "2022-08-13T11:13:10.521Z"
   },
   {
    "duration": 7,
    "start_time": "2022-08-13T11:13:10.591Z"
   },
   {
    "duration": 10,
    "start_time": "2022-08-13T11:13:10.599Z"
   },
   {
    "duration": 45,
    "start_time": "2022-08-13T11:13:10.611Z"
   },
   {
    "duration": 21,
    "start_time": "2022-08-13T11:13:10.658Z"
   },
   {
    "duration": 79,
    "start_time": "2022-08-13T11:13:10.680Z"
   },
   {
    "duration": 22,
    "start_time": "2022-08-13T11:13:10.761Z"
   },
   {
    "duration": 7,
    "start_time": "2022-08-13T11:13:10.785Z"
   },
   {
    "duration": 24,
    "start_time": "2022-08-13T11:13:10.793Z"
   },
   {
    "duration": 7,
    "start_time": "2022-08-13T11:13:10.820Z"
   },
   {
    "duration": 35,
    "start_time": "2022-08-13T11:13:10.829Z"
   },
   {
    "duration": 7,
    "start_time": "2022-08-13T11:13:10.865Z"
   },
   {
    "duration": 16,
    "start_time": "2022-08-13T11:13:10.873Z"
   },
   {
    "duration": 8,
    "start_time": "2022-08-13T11:13:10.890Z"
   },
   {
    "duration": 6,
    "start_time": "2022-08-13T11:13:10.899Z"
   },
   {
    "duration": 50,
    "start_time": "2022-08-13T11:13:10.906Z"
   },
   {
    "duration": 8,
    "start_time": "2022-08-13T11:13:10.957Z"
   },
   {
    "duration": 5,
    "start_time": "2022-08-13T11:13:10.967Z"
   },
   {
    "duration": 8,
    "start_time": "2022-08-13T11:13:10.974Z"
   },
   {
    "duration": 11,
    "start_time": "2022-08-13T11:13:10.984Z"
   },
   {
    "duration": 4,
    "start_time": "2022-08-13T11:13:10.998Z"
   },
   {
    "duration": 18,
    "start_time": "2022-08-13T11:13:11.004Z"
   },
   {
    "duration": 19,
    "start_time": "2022-08-13T11:13:11.024Z"
   },
   {
    "duration": 15,
    "start_time": "2022-08-13T11:13:11.044Z"
   },
   {
    "duration": 7,
    "start_time": "2022-08-13T11:13:11.061Z"
   },
   {
    "duration": 52,
    "start_time": "2022-08-13T11:13:11.069Z"
   },
   {
    "duration": 710,
    "start_time": "2022-08-13T11:13:11.122Z"
   },
   {
    "duration": 274,
    "start_time": "2022-08-13T11:13:11.833Z"
   },
   {
    "duration": 269,
    "start_time": "2022-08-13T11:13:12.109Z"
   },
   {
    "duration": 190,
    "start_time": "2022-08-13T11:13:12.379Z"
   },
   {
    "duration": 238,
    "start_time": "2022-08-13T11:13:12.571Z"
   },
   {
    "duration": 185,
    "start_time": "2022-08-13T11:13:12.810Z"
   },
   {
    "duration": 270,
    "start_time": "2022-08-13T11:13:12.997Z"
   },
   {
    "duration": 271,
    "start_time": "2022-08-13T11:13:13.268Z"
   },
   {
    "duration": 3,
    "start_time": "2022-08-13T11:13:13.540Z"
   },
   {
    "duration": 11,
    "start_time": "2022-08-13T11:13:13.544Z"
   },
   {
    "duration": 4,
    "start_time": "2022-08-13T11:13:13.557Z"
   },
   {
    "duration": 4,
    "start_time": "2022-08-13T11:13:45.341Z"
   },
   {
    "duration": 7,
    "start_time": "2022-08-13T11:13:49.495Z"
   },
   {
    "duration": 20,
    "start_time": "2022-08-13T11:14:21.614Z"
   },
   {
    "duration": 16,
    "start_time": "2022-08-13T11:14:27.259Z"
   },
   {
    "duration": 5,
    "start_time": "2022-08-13T11:15:27.979Z"
   },
   {
    "duration": 5,
    "start_time": "2022-08-13T11:15:36.236Z"
   },
   {
    "duration": 5,
    "start_time": "2022-08-13T11:15:52.051Z"
   },
   {
    "duration": 336,
    "start_time": "2022-08-13T11:16:03.609Z"
   },
   {
    "duration": 152,
    "start_time": "2022-08-13T11:16:03.947Z"
   },
   {
    "duration": 14,
    "start_time": "2022-08-13T11:16:04.101Z"
   },
   {
    "duration": 21,
    "start_time": "2022-08-13T11:16:04.117Z"
   },
   {
    "duration": 358,
    "start_time": "2022-08-13T11:16:04.139Z"
   },
   {
    "duration": 120,
    "start_time": "2022-08-13T11:16:04.499Z"
   },
   {
    "duration": 8,
    "start_time": "2022-08-13T11:16:04.621Z"
   },
   {
    "duration": 25,
    "start_time": "2022-08-13T11:16:04.630Z"
   },
   {
    "duration": 137,
    "start_time": "2022-08-13T11:16:04.657Z"
   },
   {
    "duration": 89,
    "start_time": "2022-08-13T11:16:04.798Z"
   },
   {
    "duration": 6,
    "start_time": "2022-08-13T11:16:04.889Z"
   },
   {
    "duration": 17,
    "start_time": "2022-08-13T11:16:04.897Z"
   },
   {
    "duration": 15,
    "start_time": "2022-08-13T11:16:04.916Z"
   },
   {
    "duration": 7,
    "start_time": "2022-08-13T11:16:04.933Z"
   },
   {
    "duration": 20,
    "start_time": "2022-08-13T11:16:04.941Z"
   },
   {
    "duration": 43,
    "start_time": "2022-08-13T11:16:04.963Z"
   },
   {
    "duration": 12,
    "start_time": "2022-08-13T11:16:05.009Z"
   },
   {
    "duration": 15,
    "start_time": "2022-08-13T11:16:05.023Z"
   },
   {
    "duration": 69,
    "start_time": "2022-08-13T11:16:05.040Z"
   },
   {
    "duration": 6,
    "start_time": "2022-08-13T11:16:05.111Z"
   },
   {
    "duration": 8,
    "start_time": "2022-08-13T11:16:05.118Z"
   },
   {
    "duration": 44,
    "start_time": "2022-08-13T11:16:05.128Z"
   },
   {
    "duration": 22,
    "start_time": "2022-08-13T11:16:05.174Z"
   },
   {
    "duration": 84,
    "start_time": "2022-08-13T11:16:05.197Z"
   },
   {
    "duration": 25,
    "start_time": "2022-08-13T11:16:05.283Z"
   },
   {
    "duration": 7,
    "start_time": "2022-08-13T11:16:05.310Z"
   },
   {
    "duration": 47,
    "start_time": "2022-08-13T11:16:05.318Z"
   },
   {
    "duration": 8,
    "start_time": "2022-08-13T11:16:05.368Z"
   },
   {
    "duration": 18,
    "start_time": "2022-08-13T11:16:05.377Z"
   },
   {
    "duration": 8,
    "start_time": "2022-08-13T11:16:05.397Z"
   },
   {
    "duration": 15,
    "start_time": "2022-08-13T11:16:05.407Z"
   },
   {
    "duration": 33,
    "start_time": "2022-08-13T11:16:05.423Z"
   },
   {
    "duration": 5,
    "start_time": "2022-08-13T11:16:05.457Z"
   },
   {
    "duration": 34,
    "start_time": "2022-08-13T11:16:05.463Z"
   },
   {
    "duration": 6,
    "start_time": "2022-08-13T11:16:05.499Z"
   },
   {
    "duration": 6,
    "start_time": "2022-08-13T11:16:05.507Z"
   },
   {
    "duration": 4,
    "start_time": "2022-08-13T11:16:05.515Z"
   },
   {
    "duration": 10,
    "start_time": "2022-08-13T11:16:05.521Z"
   },
   {
    "duration": 24,
    "start_time": "2022-08-13T11:16:05.532Z"
   },
   {
    "duration": 1406,
    "start_time": "2022-08-13T11:16:05.558Z"
   },
   {
    "duration": 0,
    "start_time": "2022-08-13T11:16:06.966Z"
   },
   {
    "duration": 0,
    "start_time": "2022-08-13T11:16:06.967Z"
   },
   {
    "duration": 0,
    "start_time": "2022-08-13T11:16:06.968Z"
   },
   {
    "duration": 0,
    "start_time": "2022-08-13T11:16:06.970Z"
   },
   {
    "duration": 0,
    "start_time": "2022-08-13T11:16:06.971Z"
   },
   {
    "duration": 0,
    "start_time": "2022-08-13T11:16:06.972Z"
   },
   {
    "duration": 0,
    "start_time": "2022-08-13T11:16:06.973Z"
   },
   {
    "duration": 0,
    "start_time": "2022-08-13T11:16:06.974Z"
   },
   {
    "duration": 0,
    "start_time": "2022-08-13T11:16:06.975Z"
   },
   {
    "duration": 0,
    "start_time": "2022-08-13T11:16:06.977Z"
   },
   {
    "duration": 0,
    "start_time": "2022-08-13T11:16:06.978Z"
   },
   {
    "duration": 0,
    "start_time": "2022-08-13T11:16:06.980Z"
   },
   {
    "duration": 0,
    "start_time": "2022-08-13T11:16:06.980Z"
   },
   {
    "duration": 0,
    "start_time": "2022-08-13T11:16:06.982Z"
   },
   {
    "duration": 0,
    "start_time": "2022-08-13T11:16:06.982Z"
   },
   {
    "duration": 0,
    "start_time": "2022-08-13T11:16:06.984Z"
   },
   {
    "duration": 0,
    "start_time": "2022-08-13T11:16:06.985Z"
   },
   {
    "duration": 1174,
    "start_time": "2022-08-13T11:16:29.465Z"
   },
   {
    "duration": 15,
    "start_time": "2022-08-13T11:17:01.894Z"
   },
   {
    "duration": 9,
    "start_time": "2022-08-13T11:17:29.758Z"
   },
   {
    "duration": 45,
    "start_time": "2022-08-13T11:18:54.240Z"
   },
   {
    "duration": 693,
    "start_time": "2022-08-13T11:19:09.572Z"
   },
   {
    "duration": 294,
    "start_time": "2022-08-13T11:19:37.567Z"
   },
   {
    "duration": 275,
    "start_time": "2022-08-13T11:20:39.100Z"
   },
   {
    "duration": 206,
    "start_time": "2022-08-13T11:20:48.840Z"
   },
   {
    "duration": 230,
    "start_time": "2022-08-13T11:21:08.842Z"
   },
   {
    "duration": 184,
    "start_time": "2022-08-13T11:21:54.942Z"
   },
   {
    "duration": 260,
    "start_time": "2022-08-13T11:22:08.291Z"
   },
   {
    "duration": 258,
    "start_time": "2022-08-13T11:22:18.437Z"
   },
   {
    "duration": 11,
    "start_time": "2022-08-13T11:30:34.481Z"
   },
   {
    "duration": 1488,
    "start_time": "2022-08-13T11:31:16.339Z"
   },
   {
    "duration": 368,
    "start_time": "2022-08-13T11:31:27.413Z"
   },
   {
    "duration": 138,
    "start_time": "2022-08-13T11:31:27.783Z"
   },
   {
    "duration": 12,
    "start_time": "2022-08-13T11:31:27.924Z"
   },
   {
    "duration": 22,
    "start_time": "2022-08-13T11:31:27.938Z"
   },
   {
    "duration": 335,
    "start_time": "2022-08-13T11:31:27.962Z"
   },
   {
    "duration": 117,
    "start_time": "2022-08-13T11:31:28.299Z"
   },
   {
    "duration": 7,
    "start_time": "2022-08-13T11:31:28.418Z"
   },
   {
    "duration": 28,
    "start_time": "2022-08-13T11:31:28.427Z"
   },
   {
    "duration": 129,
    "start_time": "2022-08-13T11:31:28.456Z"
   },
   {
    "duration": 86,
    "start_time": "2022-08-13T11:31:28.588Z"
   },
   {
    "duration": 6,
    "start_time": "2022-08-13T11:31:28.676Z"
   },
   {
    "duration": 18,
    "start_time": "2022-08-13T11:31:28.683Z"
   },
   {
    "duration": 16,
    "start_time": "2022-08-13T11:31:28.702Z"
   },
   {
    "duration": 6,
    "start_time": "2022-08-13T11:31:28.719Z"
   },
   {
    "duration": 11,
    "start_time": "2022-08-13T11:31:28.726Z"
   },
   {
    "duration": 29,
    "start_time": "2022-08-13T11:31:28.739Z"
   },
   {
    "duration": 9,
    "start_time": "2022-08-13T11:31:28.769Z"
   },
   {
    "duration": 12,
    "start_time": "2022-08-13T11:31:28.779Z"
   },
   {
    "duration": 68,
    "start_time": "2022-08-13T11:31:28.793Z"
   },
   {
    "duration": 6,
    "start_time": "2022-08-13T11:31:28.862Z"
   },
   {
    "duration": 8,
    "start_time": "2022-08-13T11:31:28.869Z"
   },
   {
    "duration": 36,
    "start_time": "2022-08-13T11:31:28.879Z"
   },
   {
    "duration": 21,
    "start_time": "2022-08-13T11:31:28.916Z"
   },
   {
    "duration": 93,
    "start_time": "2022-08-13T11:31:28.939Z"
   },
   {
    "duration": 36,
    "start_time": "2022-08-13T11:31:29.033Z"
   },
   {
    "duration": 6,
    "start_time": "2022-08-13T11:31:29.071Z"
   },
   {
    "duration": 26,
    "start_time": "2022-08-13T11:31:29.079Z"
   },
   {
    "duration": 7,
    "start_time": "2022-08-13T11:31:29.109Z"
   },
   {
    "duration": 17,
    "start_time": "2022-08-13T11:31:29.117Z"
   },
   {
    "duration": 25,
    "start_time": "2022-08-13T11:31:29.135Z"
   },
   {
    "duration": 14,
    "start_time": "2022-08-13T11:31:29.162Z"
   },
   {
    "duration": 9,
    "start_time": "2022-08-13T11:31:29.177Z"
   },
   {
    "duration": 6,
    "start_time": "2022-08-13T11:31:29.187Z"
   },
   {
    "duration": 34,
    "start_time": "2022-08-13T11:31:29.194Z"
   },
   {
    "duration": 29,
    "start_time": "2022-08-13T11:31:29.230Z"
   },
   {
    "duration": 4,
    "start_time": "2022-08-13T11:31:29.261Z"
   },
   {
    "duration": 3,
    "start_time": "2022-08-13T11:31:29.266Z"
   },
   {
    "duration": 8,
    "start_time": "2022-08-13T11:31:29.271Z"
   },
   {
    "duration": 9,
    "start_time": "2022-08-13T11:31:29.281Z"
   },
   {
    "duration": 11,
    "start_time": "2022-08-13T11:31:29.291Z"
   },
   {
    "duration": 4,
    "start_time": "2022-08-13T11:31:29.303Z"
   },
   {
    "duration": 7,
    "start_time": "2022-08-13T11:31:29.308Z"
   },
   {
    "duration": 5,
    "start_time": "2022-08-13T11:31:29.316Z"
   },
   {
    "duration": 65,
    "start_time": "2022-08-13T11:31:29.323Z"
   },
   {
    "duration": 635,
    "start_time": "2022-08-13T11:31:29.390Z"
   },
   {
    "duration": 274,
    "start_time": "2022-08-13T11:31:30.027Z"
   },
   {
    "duration": 270,
    "start_time": "2022-08-13T11:31:30.303Z"
   },
   {
    "duration": 196,
    "start_time": "2022-08-13T11:31:30.575Z"
   },
   {
    "duration": 233,
    "start_time": "2022-08-13T11:31:30.772Z"
   },
   {
    "duration": 180,
    "start_time": "2022-08-13T11:31:31.006Z"
   },
   {
    "duration": 270,
    "start_time": "2022-08-13T11:31:31.187Z"
   },
   {
    "duration": 265,
    "start_time": "2022-08-13T11:31:31.459Z"
   },
   {
    "duration": 11,
    "start_time": "2022-08-13T11:31:31.726Z"
   },
   {
    "duration": 2,
    "start_time": "2022-08-13T11:31:31.739Z"
   },
   {
    "duration": 92,
    "start_time": "2022-08-13T11:31:31.754Z"
   },
   {
    "duration": 0,
    "start_time": "2022-08-13T11:31:31.847Z"
   },
   {
    "duration": 6,
    "start_time": "2022-08-13T11:31:50.413Z"
   },
   {
    "duration": 6,
    "start_time": "2022-08-13T11:32:11.386Z"
   },
   {
    "duration": 87,
    "start_time": "2022-08-13T11:32:26.858Z"
   },
   {
    "duration": 4,
    "start_time": "2022-08-13T11:35:00.631Z"
   },
   {
    "duration": 9,
    "start_time": "2022-08-13T11:35:05.091Z"
   },
   {
    "duration": 28,
    "start_time": "2022-08-13T11:35:39.163Z"
   },
   {
    "duration": 10,
    "start_time": "2022-08-13T11:35:59.327Z"
   },
   {
    "duration": 3,
    "start_time": "2022-08-13T11:41:57.618Z"
   },
   {
    "duration": 149,
    "start_time": "2022-08-13T11:42:09.668Z"
   },
   {
    "duration": 10,
    "start_time": "2022-08-13T11:43:33.670Z"
   },
   {
    "duration": 10,
    "start_time": "2022-08-13T11:46:46.779Z"
   },
   {
    "duration": 14,
    "start_time": "2022-08-13T11:47:34.662Z"
   },
   {
    "duration": 13,
    "start_time": "2022-08-13T11:47:44.483Z"
   },
   {
    "duration": 10,
    "start_time": "2022-08-13T11:48:04.521Z"
   },
   {
    "duration": 9,
    "start_time": "2022-08-13T11:48:11.893Z"
   },
   {
    "duration": 9,
    "start_time": "2022-08-13T11:48:55.839Z"
   },
   {
    "duration": 10,
    "start_time": "2022-08-13T11:50:28.636Z"
   },
   {
    "duration": 124,
    "start_time": "2022-08-13T12:00:21.214Z"
   },
   {
    "duration": 9,
    "start_time": "2022-08-13T12:00:57.666Z"
   },
   {
    "duration": 410,
    "start_time": "2022-08-13T17:22:04.577Z"
   },
   {
    "duration": 253,
    "start_time": "2022-08-13T17:22:04.989Z"
   },
   {
    "duration": 14,
    "start_time": "2022-08-13T17:22:05.244Z"
   },
   {
    "duration": 24,
    "start_time": "2022-08-13T17:22:05.259Z"
   },
   {
    "duration": 533,
    "start_time": "2022-08-13T17:22:05.285Z"
   },
   {
    "duration": 328,
    "start_time": "2022-08-13T17:22:05.820Z"
   },
   {
    "duration": 11,
    "start_time": "2022-08-13T17:22:06.150Z"
   },
   {
    "duration": 40,
    "start_time": "2022-08-13T17:22:06.163Z"
   },
   {
    "duration": 188,
    "start_time": "2022-08-13T17:22:06.205Z"
   },
   {
    "duration": 373,
    "start_time": "2022-08-13T17:22:06.397Z"
   },
   {
    "duration": 8,
    "start_time": "2022-08-13T17:22:06.772Z"
   },
   {
    "duration": 20,
    "start_time": "2022-08-13T17:22:06.782Z"
   },
   {
    "duration": 72,
    "start_time": "2022-08-13T17:22:06.804Z"
   },
   {
    "duration": 8,
    "start_time": "2022-08-13T17:22:06.878Z"
   },
   {
    "duration": 12,
    "start_time": "2022-08-13T17:22:06.887Z"
   },
   {
    "duration": 66,
    "start_time": "2022-08-13T17:22:06.900Z"
   },
   {
    "duration": 10,
    "start_time": "2022-08-13T17:22:06.967Z"
   },
   {
    "duration": 11,
    "start_time": "2022-08-13T17:22:06.979Z"
   },
   {
    "duration": 82,
    "start_time": "2022-08-13T17:22:06.992Z"
   },
   {
    "duration": 12,
    "start_time": "2022-08-13T17:22:07.075Z"
   },
   {
    "duration": 8,
    "start_time": "2022-08-13T17:22:07.088Z"
   },
   {
    "duration": 37,
    "start_time": "2022-08-13T17:22:07.097Z"
   },
   {
    "duration": 92,
    "start_time": "2022-08-13T17:22:07.136Z"
   },
   {
    "duration": 27,
    "start_time": "2022-08-13T17:22:07.230Z"
   },
   {
    "duration": 38,
    "start_time": "2022-08-13T17:22:07.259Z"
   },
   {
    "duration": 9,
    "start_time": "2022-08-13T17:22:07.298Z"
   },
   {
    "duration": 28,
    "start_time": "2022-08-13T17:22:07.308Z"
   },
   {
    "duration": 7,
    "start_time": "2022-08-13T17:22:07.340Z"
   },
   {
    "duration": 43,
    "start_time": "2022-08-13T17:22:07.349Z"
   },
   {
    "duration": 8,
    "start_time": "2022-08-13T17:22:07.393Z"
   },
   {
    "duration": 16,
    "start_time": "2022-08-13T17:22:07.402Z"
   },
   {
    "duration": 9,
    "start_time": "2022-08-13T17:22:07.419Z"
   },
   {
    "duration": 6,
    "start_time": "2022-08-13T17:22:07.429Z"
   },
   {
    "duration": 61,
    "start_time": "2022-08-13T17:22:07.437Z"
   },
   {
    "duration": 9,
    "start_time": "2022-08-13T17:22:07.500Z"
   },
   {
    "duration": 5,
    "start_time": "2022-08-13T17:22:07.511Z"
   },
   {
    "duration": 6,
    "start_time": "2022-08-13T17:22:07.517Z"
   },
   {
    "duration": 11,
    "start_time": "2022-08-13T17:22:07.525Z"
   },
   {
    "duration": 5,
    "start_time": "2022-08-13T17:22:07.537Z"
   },
   {
    "duration": 14,
    "start_time": "2022-08-13T17:22:07.543Z"
   },
   {
    "duration": 31,
    "start_time": "2022-08-13T17:22:07.559Z"
   },
   {
    "duration": 9,
    "start_time": "2022-08-13T17:22:07.591Z"
   },
   {
    "duration": 15,
    "start_time": "2022-08-13T17:22:07.602Z"
   },
   {
    "duration": 52,
    "start_time": "2022-08-13T17:22:07.619Z"
   },
   {
    "duration": 816,
    "start_time": "2022-08-13T17:22:07.673Z"
   },
   {
    "duration": 247,
    "start_time": "2022-08-13T17:22:08.491Z"
   },
   {
    "duration": 296,
    "start_time": "2022-08-13T17:22:08.739Z"
   },
   {
    "duration": 219,
    "start_time": "2022-08-13T17:22:09.037Z"
   },
   {
    "duration": 259,
    "start_time": "2022-08-13T17:22:09.257Z"
   },
   {
    "duration": 207,
    "start_time": "2022-08-13T17:22:09.518Z"
   },
   {
    "duration": 411,
    "start_time": "2022-08-13T17:22:09.726Z"
   },
   {
    "duration": 222,
    "start_time": "2022-08-13T17:22:10.138Z"
   },
   {
    "duration": 14,
    "start_time": "2022-08-13T17:22:10.362Z"
   },
   {
    "duration": 11,
    "start_time": "2022-08-13T17:22:10.386Z"
   },
   {
    "duration": 8,
    "start_time": "2022-08-13T17:22:10.398Z"
   },
   {
    "duration": 11,
    "start_time": "2022-08-13T17:22:10.408Z"
   },
   {
    "duration": 111,
    "start_time": "2022-08-13T17:22:10.421Z"
   },
   {
    "duration": 0,
    "start_time": "2022-08-13T17:22:10.533Z"
   },
   {
    "duration": 14,
    "start_time": "2022-08-13T17:22:38.902Z"
   },
   {
    "duration": 8,
    "start_time": "2022-08-13T17:25:36.076Z"
   },
   {
    "duration": 7,
    "start_time": "2022-08-13T17:26:16.538Z"
   },
   {
    "duration": 7,
    "start_time": "2022-08-13T17:27:48.522Z"
   },
   {
    "duration": 9,
    "start_time": "2022-08-13T19:47:50.340Z"
   },
   {
    "duration": 8,
    "start_time": "2022-08-13T19:48:15.449Z"
   },
   {
    "duration": 9,
    "start_time": "2022-08-13T19:48:24.980Z"
   },
   {
    "duration": 53,
    "start_time": "2022-08-18T18:27:24.450Z"
   },
   {
    "duration": 413,
    "start_time": "2022-08-18T18:27:30.274Z"
   },
   {
    "duration": 1414,
    "start_time": "2022-08-18T18:27:32.484Z"
   },
   {
    "duration": 1419,
    "start_time": "2022-08-18T18:29:44.166Z"
   },
   {
    "duration": 594,
    "start_time": "2022-08-18T18:30:38.630Z"
   },
   {
    "duration": 489,
    "start_time": "2022-08-18T18:31:14.979Z"
   },
   {
    "duration": 244,
    "start_time": "2022-08-18T18:31:50.059Z"
   },
   {
    "duration": 104,
    "start_time": "2022-08-18T18:31:56.228Z"
   }
  ],
  "celltoolbar": "Отсутствует",
  "kernelspec": {
   "display_name": "Python 3 (ipykernel)",
   "language": "python",
   "name": "python3"
  },
  "language_info": {
   "codemirror_mode": {
    "name": "ipython",
    "version": 3
   },
   "file_extension": ".py",
   "mimetype": "text/x-python",
   "name": "python",
   "nbconvert_exporter": "python",
   "pygments_lexer": "ipython3",
   "version": "3.8.10"
  },
  "toc": {
   "base_numbering": 1,
   "nav_menu": {},
   "number_sections": true,
   "sideBar": true,
   "skip_h1_title": true,
   "title_cell": "Table of Contents",
   "title_sidebar": "Contents",
   "toc_cell": false,
   "toc_position": {},
   "toc_section_display": true,
   "toc_window_display": false
  }
 },
 "nbformat": 4,
 "nbformat_minor": 2
}
