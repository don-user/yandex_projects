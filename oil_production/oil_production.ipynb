{
 "cells": [
  {
   "cell_type": "markdown",
   "metadata": {},
   "source": [
    "# Выбор локации для скважины"
   ]
  },
  {
   "cell_type": "markdown",
   "metadata": {},
   "source": [
    "Необходимо решить, где бурить новую скважину для нефтедобывающей компании.\n",
    "\n",
    "Предоставлены пробы нефти в трёх регионах: в каждом 10 000 месторождений, где измерили качество нефти и объём её запасов. Постройте модель машинного обучения, которая поможет определить регион, где добыча принесёт наибольшую прибыль. Необходимо проанализировать возможную прибыль и риски техникой *Bootstrap.*\n",
    "\n",
    "Шаги для выбора локации:\n",
    "\n",
    "- В избранном регионе ищут месторождения, для каждого определяют значения признаков;\n",
    "- Строят модель и оценивают объём запасов;\n",
    "- Выбирают месторождения с самым высокими оценками значений. Количество месторождений зависит от бюджета компании и стоимости разработки одной скважины;\n",
    "- Прибыль равна суммарной прибыли отобранных месторождений."
   ]
  },
  {
   "cell_type": "markdown",
   "metadata": {},
   "source": [
    "## Загрузка и подготовка данных"
   ]
  },
  {
   "cell_type": "markdown",
   "metadata": {},
   "source": [
    "### Импортируем необходимые в проекте модули"
   ]
  },
  {
   "cell_type": "code",
   "execution_count": 1,
   "metadata": {},
   "outputs": [],
   "source": [
    "import pandas as pd\n",
    "import numpy as np\n",
    "import seaborn as sns\n",
    "import matplotlib.pyplot as plt\n",
    "from sklearn.linear_model import LinearRegression\n",
    "from sklearn.metrics import mean_squared_error\n",
    "from sklearn.model_selection import train_test_split, cross_val_score\n",
    "from scipy import stats as st\n",
    "from IPython.display import display\n",
    "\n",
    "pd.set_option('display.max_columns', 50)\n",
    "pd.set_option('display.precision', 3)"
   ]
  },
  {
   "cell_type": "markdown",
   "metadata": {},
   "source": [
    "В целях уменьшения количества 0 и соответствия маштабу `целевого признака` поделим значения стоимости в рублях на `1000000`в константах:"
   ]
  },
  {
   "cell_type": "code",
   "execution_count": 2,
   "metadata": {},
   "outputs": [],
   "source": [
    "#константы\n",
    "STATE = np.random.RandomState(12345)\n",
    "#необходимое для разработки количество скважин\n",
    "WELLS_TOTAL = 500\n",
    "#необходимое количество необходимых лучших скважин в регионе\n",
    "WELLS_NUMBER = 200\n",
    "#общий бюджет (расходы) по разработки скважин в регионе\n",
    "REGION_BUDGET = 10_000_000_000 / 1_000_000\n",
    "#бюджет для разработки 1 скважина в регионе\n",
    "WELL_BUDGET = REGION_BUDGET / WELLS_NUMBER\n",
    "#доход за продажу 1000 барелей нефти\n",
    "REVENUE_1BAR = 450_000 /1_000_000\n",
    "#количество баррелей для безубыточности разработк\n",
    "BREAK_EVEN = WELL_BUDGET / REVENUE_1BAR \n",
    "#приемлемый уровень риска\n",
    "LOSS_RISK = 0.025"
   ]
  },
  {
   "cell_type": "markdown",
   "metadata": {},
   "source": [
    "### Загрузим данные и посмотрим первичную информацию"
   ]
  },
  {
   "cell_type": "code",
   "execution_count": 3,
   "metadata": {},
   "outputs": [
    {
     "name": "stdout",
     "output_type": "stream",
     "text": [
      "region_0 - (100000, 5)\n",
      "region_1 - (100000, 5)\n",
      "region_2 - (100000, 5)\n"
     ]
    }
   ],
   "source": [
    "df_0, df_1, df_2 = (\n",
    "    pd.read_csv(a) for a in ['/datasets/geo_data_0.csv', '/datasets/geo_data_1.csv', '/datasets/geo_data_2.csv']\n",
    ")\n",
    "df_0.name, df_1.name, df_2.name = 'region_0', 'region_1', 'region_2'\n",
    "#список датафремов\n",
    "df_list = [df_0, df_1, df_2]\n",
    "print(f'{df_0.name} - {df_0.shape}\\n{df_1.name} - {df_1.shape}\\n{df_2.name} - {df_2.shape}')"
   ]
  },
  {
   "cell_type": "code",
   "execution_count": 4,
   "metadata": {
    "scrolled": false
   },
   "outputs": [
    {
     "data": {
      "text/html": [
       "<div>\n",
       "<style scoped>\n",
       "    .dataframe tbody tr th:only-of-type {\n",
       "        vertical-align: middle;\n",
       "    }\n",
       "\n",
       "    .dataframe tbody tr th {\n",
       "        vertical-align: top;\n",
       "    }\n",
       "\n",
       "    .dataframe thead th {\n",
       "        text-align: right;\n",
       "    }\n",
       "</style>\n",
       "<table border=\"1\" class=\"dataframe\">\n",
       "  <thead>\n",
       "    <tr style=\"text-align: right;\">\n",
       "      <th></th>\n",
       "      <th>id</th>\n",
       "      <th>f0</th>\n",
       "      <th>f1</th>\n",
       "      <th>f2</th>\n",
       "      <th>product</th>\n",
       "    </tr>\n",
       "  </thead>\n",
       "  <tbody>\n",
       "    <tr>\n",
       "      <th>0</th>\n",
       "      <td>txEyH</td>\n",
       "      <td>0.706</td>\n",
       "      <td>-0.498</td>\n",
       "      <td>1.221</td>\n",
       "      <td>105.280</td>\n",
       "    </tr>\n",
       "    <tr>\n",
       "      <th>1</th>\n",
       "      <td>2acmU</td>\n",
       "      <td>1.335</td>\n",
       "      <td>-0.340</td>\n",
       "      <td>4.365</td>\n",
       "      <td>73.038</td>\n",
       "    </tr>\n",
       "    <tr>\n",
       "      <th>2</th>\n",
       "      <td>409Wp</td>\n",
       "      <td>1.023</td>\n",
       "      <td>0.152</td>\n",
       "      <td>1.420</td>\n",
       "      <td>85.266</td>\n",
       "    </tr>\n",
       "    <tr>\n",
       "      <th>3</th>\n",
       "      <td>iJLyR</td>\n",
       "      <td>-0.032</td>\n",
       "      <td>0.139</td>\n",
       "      <td>2.979</td>\n",
       "      <td>168.621</td>\n",
       "    </tr>\n",
       "    <tr>\n",
       "      <th>4</th>\n",
       "      <td>Xdl7t</td>\n",
       "      <td>1.988</td>\n",
       "      <td>0.155</td>\n",
       "      <td>4.752</td>\n",
       "      <td>154.037</td>\n",
       "    </tr>\n",
       "  </tbody>\n",
       "</table>\n",
       "</div>"
      ],
      "text/plain": [
       "      id     f0     f1     f2  product\n",
       "0  txEyH  0.706 -0.498  1.221  105.280\n",
       "1  2acmU  1.335 -0.340  4.365   73.038\n",
       "2  409Wp  1.023  0.152  1.420   85.266\n",
       "3  iJLyR -0.032  0.139  2.979  168.621\n",
       "4  Xdl7t  1.988  0.155  4.752  154.037"
      ]
     },
     "metadata": {},
     "output_type": "display_data"
    },
    {
     "data": {
      "text/html": [
       "<div>\n",
       "<style scoped>\n",
       "    .dataframe tbody tr th:only-of-type {\n",
       "        vertical-align: middle;\n",
       "    }\n",
       "\n",
       "    .dataframe tbody tr th {\n",
       "        vertical-align: top;\n",
       "    }\n",
       "\n",
       "    .dataframe thead th {\n",
       "        text-align: right;\n",
       "    }\n",
       "</style>\n",
       "<table border=\"1\" class=\"dataframe\">\n",
       "  <thead>\n",
       "    <tr style=\"text-align: right;\">\n",
       "      <th></th>\n",
       "      <th>id</th>\n",
       "      <th>f0</th>\n",
       "      <th>f1</th>\n",
       "      <th>f2</th>\n",
       "      <th>product</th>\n",
       "    </tr>\n",
       "  </thead>\n",
       "  <tbody>\n",
       "    <tr>\n",
       "      <th>0</th>\n",
       "      <td>kBEdx</td>\n",
       "      <td>-15.001</td>\n",
       "      <td>-8.276</td>\n",
       "      <td>-0.006</td>\n",
       "      <td>3.179</td>\n",
       "    </tr>\n",
       "    <tr>\n",
       "      <th>1</th>\n",
       "      <td>62mP7</td>\n",
       "      <td>14.272</td>\n",
       "      <td>-3.475</td>\n",
       "      <td>0.999</td>\n",
       "      <td>26.953</td>\n",
       "    </tr>\n",
       "    <tr>\n",
       "      <th>2</th>\n",
       "      <td>vyE1P</td>\n",
       "      <td>6.263</td>\n",
       "      <td>-5.948</td>\n",
       "      <td>5.001</td>\n",
       "      <td>134.766</td>\n",
       "    </tr>\n",
       "    <tr>\n",
       "      <th>3</th>\n",
       "      <td>KcrkZ</td>\n",
       "      <td>-13.081</td>\n",
       "      <td>-11.506</td>\n",
       "      <td>4.999</td>\n",
       "      <td>137.945</td>\n",
       "    </tr>\n",
       "    <tr>\n",
       "      <th>4</th>\n",
       "      <td>AHL4O</td>\n",
       "      <td>12.702</td>\n",
       "      <td>-8.147</td>\n",
       "      <td>5.004</td>\n",
       "      <td>134.766</td>\n",
       "    </tr>\n",
       "  </tbody>\n",
       "</table>\n",
       "</div>"
      ],
      "text/plain": [
       "      id      f0      f1     f2  product\n",
       "0  kBEdx -15.001  -8.276 -0.006    3.179\n",
       "1  62mP7  14.272  -3.475  0.999   26.953\n",
       "2  vyE1P   6.263  -5.948  5.001  134.766\n",
       "3  KcrkZ -13.081 -11.506  4.999  137.945\n",
       "4  AHL4O  12.702  -8.147  5.004  134.766"
      ]
     },
     "metadata": {},
     "output_type": "display_data"
    },
    {
     "data": {
      "text/html": [
       "<div>\n",
       "<style scoped>\n",
       "    .dataframe tbody tr th:only-of-type {\n",
       "        vertical-align: middle;\n",
       "    }\n",
       "\n",
       "    .dataframe tbody tr th {\n",
       "        vertical-align: top;\n",
       "    }\n",
       "\n",
       "    .dataframe thead th {\n",
       "        text-align: right;\n",
       "    }\n",
       "</style>\n",
       "<table border=\"1\" class=\"dataframe\">\n",
       "  <thead>\n",
       "    <tr style=\"text-align: right;\">\n",
       "      <th></th>\n",
       "      <th>id</th>\n",
       "      <th>f0</th>\n",
       "      <th>f1</th>\n",
       "      <th>f2</th>\n",
       "      <th>product</th>\n",
       "    </tr>\n",
       "  </thead>\n",
       "  <tbody>\n",
       "    <tr>\n",
       "      <th>0</th>\n",
       "      <td>fwXo0</td>\n",
       "      <td>-1.147</td>\n",
       "      <td>0.963</td>\n",
       "      <td>-0.829</td>\n",
       "      <td>27.759</td>\n",
       "    </tr>\n",
       "    <tr>\n",
       "      <th>1</th>\n",
       "      <td>WJtFt</td>\n",
       "      <td>0.263</td>\n",
       "      <td>0.270</td>\n",
       "      <td>-2.530</td>\n",
       "      <td>56.070</td>\n",
       "    </tr>\n",
       "    <tr>\n",
       "      <th>2</th>\n",
       "      <td>ovLUW</td>\n",
       "      <td>0.195</td>\n",
       "      <td>0.289</td>\n",
       "      <td>-5.586</td>\n",
       "      <td>62.872</td>\n",
       "    </tr>\n",
       "    <tr>\n",
       "      <th>3</th>\n",
       "      <td>q6cA6</td>\n",
       "      <td>2.236</td>\n",
       "      <td>-0.554</td>\n",
       "      <td>0.930</td>\n",
       "      <td>114.573</td>\n",
       "    </tr>\n",
       "    <tr>\n",
       "      <th>4</th>\n",
       "      <td>WPMUX</td>\n",
       "      <td>-0.516</td>\n",
       "      <td>1.716</td>\n",
       "      <td>5.899</td>\n",
       "      <td>149.601</td>\n",
       "    </tr>\n",
       "  </tbody>\n",
       "</table>\n",
       "</div>"
      ],
      "text/plain": [
       "      id     f0     f1     f2  product\n",
       "0  fwXo0 -1.147  0.963 -0.829   27.759\n",
       "1  WJtFt  0.263  0.270 -2.530   56.070\n",
       "2  ovLUW  0.195  0.289 -5.586   62.872\n",
       "3  q6cA6  2.236 -0.554  0.930  114.573\n",
       "4  WPMUX -0.516  1.716  5.899  149.601"
      ]
     },
     "metadata": {},
     "output_type": "display_data"
    }
   ],
   "source": [
    "display(df_0.head(), df_1.head(), df_2.head())"
   ]
  },
  {
   "cell_type": "code",
   "execution_count": 5,
   "metadata": {
    "scrolled": false
   },
   "outputs": [
    {
     "name": "stdout",
     "output_type": "stream",
     "text": [
      "<class 'pandas.core.frame.DataFrame'>\n",
      "RangeIndex: 100000 entries, 0 to 99999\n",
      "Data columns (total 5 columns):\n",
      " #   Column   Non-Null Count   Dtype  \n",
      "---  ------   --------------   -----  \n",
      " 0   id       100000 non-null  object \n",
      " 1   f0       100000 non-null  float64\n",
      " 2   f1       100000 non-null  float64\n",
      " 3   f2       100000 non-null  float64\n",
      " 4   product  100000 non-null  float64\n",
      "dtypes: float64(4), object(1)\n",
      "memory usage: 3.8+ MB\n"
     ]
    },
    {
     "data": {
      "text/plain": [
       "None"
      ]
     },
     "metadata": {},
     "output_type": "display_data"
    },
    {
     "name": "stdout",
     "output_type": "stream",
     "text": [
      "<class 'pandas.core.frame.DataFrame'>\n",
      "RangeIndex: 100000 entries, 0 to 99999\n",
      "Data columns (total 5 columns):\n",
      " #   Column   Non-Null Count   Dtype  \n",
      "---  ------   --------------   -----  \n",
      " 0   id       100000 non-null  object \n",
      " 1   f0       100000 non-null  float64\n",
      " 2   f1       100000 non-null  float64\n",
      " 3   f2       100000 non-null  float64\n",
      " 4   product  100000 non-null  float64\n",
      "dtypes: float64(4), object(1)\n",
      "memory usage: 3.8+ MB\n"
     ]
    },
    {
     "data": {
      "text/plain": [
       "None"
      ]
     },
     "metadata": {},
     "output_type": "display_data"
    },
    {
     "name": "stdout",
     "output_type": "stream",
     "text": [
      "<class 'pandas.core.frame.DataFrame'>\n",
      "RangeIndex: 100000 entries, 0 to 99999\n",
      "Data columns (total 5 columns):\n",
      " #   Column   Non-Null Count   Dtype  \n",
      "---  ------   --------------   -----  \n",
      " 0   id       100000 non-null  object \n",
      " 1   f0       100000 non-null  float64\n",
      " 2   f1       100000 non-null  float64\n",
      " 3   f2       100000 non-null  float64\n",
      " 4   product  100000 non-null  float64\n",
      "dtypes: float64(4), object(1)\n",
      "memory usage: 3.8+ MB\n"
     ]
    },
    {
     "data": {
      "text/plain": [
       "None"
      ]
     },
     "metadata": {},
     "output_type": "display_data"
    }
   ],
   "source": [
    "for data in df_list:\n",
    "    display(data.info())"
   ]
  },
  {
   "cell_type": "markdown",
   "metadata": {},
   "source": [
    "**Данные геологоразведки 3 регионов находятся в 3 таблицах:**\n",
    "- geo_data_0.csv\n",
    "- geo_data_1.csv\n",
    "- geo_data_2.csv  \n",
    "\n",
    "`id` — уникальный идентификатор скважины  \n",
    "`f0`, `f1`, `f2` — три основных характеристики (признака) скважен   \n",
    "\n",
    "**Целевой признак:**\n",
    "`product` — объём запасов в скважине (тыс. баррелей).\n",
    "\n",
    "В данных нет пропусков, типы данных и формат актуальны для анализа и машинного обучения.   \n",
    "\n"
   ]
  },
  {
   "cell_type": "markdown",
   "metadata": {},
   "source": [
    "### Проанализируем данные и подготовим данные"
   ]
  },
  {
   "cell_type": "markdown",
   "metadata": {},
   "source": [
    "Проверим уникальные значения признаков:"
   ]
  },
  {
   "cell_type": "code",
   "execution_count": 35,
   "metadata": {
    "scrolled": false
   },
   "outputs": [
    {
     "data": {
      "text/html": [
       "<div>\n",
       "<style scoped>\n",
       "    .dataframe tbody tr th:only-of-type {\n",
       "        vertical-align: middle;\n",
       "    }\n",
       "\n",
       "    .dataframe tbody tr th {\n",
       "        vertical-align: top;\n",
       "    }\n",
       "\n",
       "    .dataframe thead th {\n",
       "        text-align: right;\n",
       "    }\n",
       "</style>\n",
       "<table border=\"1\" class=\"dataframe\">\n",
       "  <thead>\n",
       "    <tr style=\"text-align: right;\">\n",
       "      <th></th>\n",
       "      <th>f0</th>\n",
       "      <th>f1</th>\n",
       "      <th>f2</th>\n",
       "      <th>product</th>\n",
       "    </tr>\n",
       "  </thead>\n",
       "  <tbody>\n",
       "    <tr>\n",
       "      <th>region_0</th>\n",
       "      <td>99990</td>\n",
       "      <td>99990</td>\n",
       "      <td>99990</td>\n",
       "      <td>99990</td>\n",
       "    </tr>\n",
       "  </tbody>\n",
       "</table>\n",
       "</div>"
      ],
      "text/plain": [
       "             f0     f1     f2  product\n",
       "region_0  99990  99990  99990    99990"
      ]
     },
     "metadata": {},
     "output_type": "display_data"
    },
    {
     "data": {
      "text/html": [
       "<div>\n",
       "<style scoped>\n",
       "    .dataframe tbody tr th:only-of-type {\n",
       "        vertical-align: middle;\n",
       "    }\n",
       "\n",
       "    .dataframe tbody tr th {\n",
       "        vertical-align: top;\n",
       "    }\n",
       "\n",
       "    .dataframe thead th {\n",
       "        text-align: right;\n",
       "    }\n",
       "</style>\n",
       "<table border=\"1\" class=\"dataframe\">\n",
       "  <thead>\n",
       "    <tr style=\"text-align: right;\">\n",
       "      <th></th>\n",
       "      <th>f0</th>\n",
       "      <th>f1</th>\n",
       "      <th>f2</th>\n",
       "      <th>product</th>\n",
       "    </tr>\n",
       "  </thead>\n",
       "  <tbody>\n",
       "    <tr>\n",
       "      <th>region_1</th>\n",
       "      <td>99996</td>\n",
       "      <td>99996</td>\n",
       "      <td>99996</td>\n",
       "      <td>12</td>\n",
       "    </tr>\n",
       "  </tbody>\n",
       "</table>\n",
       "</div>"
      ],
      "text/plain": [
       "             f0     f1     f2  product\n",
       "region_1  99996  99996  99996       12"
      ]
     },
     "metadata": {},
     "output_type": "display_data"
    },
    {
     "data": {
      "text/html": [
       "<div>\n",
       "<style scoped>\n",
       "    .dataframe tbody tr th:only-of-type {\n",
       "        vertical-align: middle;\n",
       "    }\n",
       "\n",
       "    .dataframe tbody tr th {\n",
       "        vertical-align: top;\n",
       "    }\n",
       "\n",
       "    .dataframe thead th {\n",
       "        text-align: right;\n",
       "    }\n",
       "</style>\n",
       "<table border=\"1\" class=\"dataframe\">\n",
       "  <thead>\n",
       "    <tr style=\"text-align: right;\">\n",
       "      <th></th>\n",
       "      <th>f0</th>\n",
       "      <th>f1</th>\n",
       "      <th>f2</th>\n",
       "      <th>product</th>\n",
       "    </tr>\n",
       "  </thead>\n",
       "  <tbody>\n",
       "    <tr>\n",
       "      <th>region_2</th>\n",
       "      <td>99996</td>\n",
       "      <td>99996</td>\n",
       "      <td>99996</td>\n",
       "      <td>99996</td>\n",
       "    </tr>\n",
       "  </tbody>\n",
       "</table>\n",
       "</div>"
      ],
      "text/plain": [
       "             f0     f1     f2  product\n",
       "region_2  99996  99996  99996    99996"
      ]
     },
     "metadata": {},
     "output_type": "display_data"
    }
   ],
   "source": [
    "for data in df_list:\n",
    "    display(data.nunique().to_frame(name=f'{data.name}').T)"
   ]
  },
  {
   "cell_type": "markdown",
   "metadata": {},
   "source": [
    "В столбце `'Уникальный идентификатор скважины'` (`id`), есть дубликаты. Проверим какие они хранят данные \n",
    "\n",
    "Так же обращает на себя внимание однообразие данных в данах df_1 признаке `product`, всего 12 разных значений против 100000 в двух других регионах."
   ]
  },
  {
   "cell_type": "code",
   "execution_count": 7,
   "metadata": {
    "scrolled": false
   },
   "outputs": [
    {
     "data": {
      "text/html": [
       "<div>\n",
       "<style scoped>\n",
       "    .dataframe tbody tr th:only-of-type {\n",
       "        vertical-align: middle;\n",
       "    }\n",
       "\n",
       "    .dataframe tbody tr th {\n",
       "        vertical-align: top;\n",
       "    }\n",
       "\n",
       "    .dataframe thead th {\n",
       "        text-align: right;\n",
       "    }\n",
       "</style>\n",
       "<table border=\"1\" class=\"dataframe\">\n",
       "  <thead>\n",
       "    <tr style=\"text-align: right;\">\n",
       "      <th></th>\n",
       "      <th>53.907</th>\n",
       "      <th>26.953</th>\n",
       "      <th>84.039</th>\n",
       "      <th>57.086</th>\n",
       "      <th>3.179</th>\n",
       "      <th>80.860</th>\n",
       "      <th>30.132</th>\n",
       "      <th>134.766</th>\n",
       "      <th>110.992</th>\n",
       "      <th>0.000</th>\n",
       "      <th>137.945</th>\n",
       "      <th>107.813</th>\n",
       "    </tr>\n",
       "  </thead>\n",
       "  <tbody>\n",
       "    <tr>\n",
       "      <th>product</th>\n",
       "      <td>8472</td>\n",
       "      <td>8468</td>\n",
       "      <td>8431</td>\n",
       "      <td>8390</td>\n",
       "      <td>8337</td>\n",
       "      <td>8320</td>\n",
       "      <td>8306</td>\n",
       "      <td>8304</td>\n",
       "      <td>8303</td>\n",
       "      <td>8235</td>\n",
       "      <td>8233</td>\n",
       "      <td>8201</td>\n",
       "    </tr>\n",
       "  </tbody>\n",
       "</table>\n",
       "</div>"
      ],
      "text/plain": [
       "         53.907   26.953   84.039   57.086   3.179    80.860   30.132   \\\n",
       "product     8472     8468     8431     8390     8337     8320     8306   \n",
       "\n",
       "         134.766  110.992  0.000    137.945  107.813  \n",
       "product     8304     8303     8235     8233     8201  "
      ]
     },
     "metadata": {},
     "output_type": "display_data"
    }
   ],
   "source": [
    "display(df_1['product'].value_counts().to_frame().T)"
   ]
  },
  {
   "cell_type": "code",
   "execution_count": 8,
   "metadata": {
    "scrolled": true
   },
   "outputs": [
    {
     "data": {
      "image/png": "[encoded data removed]",
      "text/plain": [
       "<Figure size 1440x360 with 3 Axes>"
      ]
     },
     "metadata": {
      "needs_background": "light"
     },
     "output_type": "display_data"
    }
   ],
   "source": [
    "fig, axes = plt.subplots(1, 3, figsize = (20, 5))\n",
    "fig.suptitle('Распределение целевого признака', fontsize = 12, fontweight='bold', y = 1.05)\n",
    "for i, data in enumerate(df_list):\n",
    "    data['product'].plot(kind='hist', bins=12, color='y', alpha=0.8, ax=axes[i], title=f'Гистограмма {data.name}')\n",
    "plt.show()    "
   ]
  },
  {
   "cell_type": "markdown",
   "metadata": {},
   "source": [
    "Распределение в `region_1` имеет отличичия от других распределений (`region_0 и region_2` имеют форму нормального распределения), и имеют всего **12 разных показателей запасов**, с примерно одинаковым количеством данных в каждом значении. Можно предположить, что данный распределение результат предобработки данных, вводных по этому поводу нет поэтому придеться работать с тем, что есть."
   ]
  },
  {
   "cell_type": "code",
   "execution_count": 9,
   "metadata": {
    "scrolled": false
   },
   "outputs": [
    {
     "name": "stdout",
     "output_type": "stream",
     "text": [
      "Количество полных дубликатов - 0 \n",
      "\n",
      "Дубликаты в столбце \"id\" (первые 5 строк):\n"
     ]
    },
    {
     "data": {
      "text/html": [
       "<div>\n",
       "<style scoped>\n",
       "    .dataframe tbody tr th:only-of-type {\n",
       "        vertical-align: middle;\n",
       "    }\n",
       "\n",
       "    .dataframe tbody tr th {\n",
       "        vertical-align: top;\n",
       "    }\n",
       "\n",
       "    .dataframe thead th {\n",
       "        text-align: right;\n",
       "    }\n",
       "</style>\n",
       "<table border=\"1\" class=\"dataframe\">\n",
       "  <thead>\n",
       "    <tr style=\"text-align: right;\">\n",
       "      <th></th>\n",
       "      <th>id</th>\n",
       "      <th>f0</th>\n",
       "      <th>f1</th>\n",
       "      <th>f2</th>\n",
       "      <th>product</th>\n",
       "    </tr>\n",
       "  </thead>\n",
       "  <tbody>\n",
       "    <tr>\n",
       "      <th>90815</th>\n",
       "      <td>fiKDv</td>\n",
       "      <td>0.050</td>\n",
       "      <td>0.841</td>\n",
       "      <td>6.395</td>\n",
       "      <td>137.347</td>\n",
       "    </tr>\n",
       "    <tr>\n",
       "      <th>16633</th>\n",
       "      <td>fiKDv</td>\n",
       "      <td>0.157</td>\n",
       "      <td>1.028</td>\n",
       "      <td>5.586</td>\n",
       "      <td>95.818</td>\n",
       "    </tr>\n",
       "    <tr>\n",
       "      <th>41724</th>\n",
       "      <td>bxg6G</td>\n",
       "      <td>-0.824</td>\n",
       "      <td>0.546</td>\n",
       "      <td>3.630</td>\n",
       "      <td>93.008</td>\n",
       "    </tr>\n",
       "    <tr>\n",
       "      <th>1364</th>\n",
       "      <td>bxg6G</td>\n",
       "      <td>0.412</td>\n",
       "      <td>0.857</td>\n",
       "      <td>-3.653</td>\n",
       "      <td>73.604</td>\n",
       "    </tr>\n",
       "    <tr>\n",
       "      <th>97785</th>\n",
       "      <td>bsk9y</td>\n",
       "      <td>0.378</td>\n",
       "      <td>0.006</td>\n",
       "      <td>0.161</td>\n",
       "      <td>160.637</td>\n",
       "    </tr>\n",
       "  </tbody>\n",
       "</table>\n",
       "</div>"
      ],
      "text/plain": [
       "          id     f0     f1     f2  product\n",
       "90815  fiKDv  0.050  0.841  6.395  137.347\n",
       "16633  fiKDv  0.157  1.028  5.586   95.818\n",
       "41724  bxg6G -0.824  0.546  3.630   93.008\n",
       "1364   bxg6G  0.412  0.857 -3.653   73.604\n",
       "97785  bsk9y  0.378  0.006  0.161  160.637"
      ]
     },
     "metadata": {},
     "output_type": "display_data"
    },
    {
     "name": "stdout",
     "output_type": "stream",
     "text": [
      "Количество полных дубликатов - 0 \n",
      "\n",
      "Дубликаты в столбце \"id\" (первые 5 строк):\n"
     ]
    },
    {
     "data": {
      "text/html": [
       "<div>\n",
       "<style scoped>\n",
       "    .dataframe tbody tr th:only-of-type {\n",
       "        vertical-align: middle;\n",
       "    }\n",
       "\n",
       "    .dataframe tbody tr th {\n",
       "        vertical-align: top;\n",
       "    }\n",
       "\n",
       "    .dataframe thead th {\n",
       "        text-align: right;\n",
       "    }\n",
       "</style>\n",
       "<table border=\"1\" class=\"dataframe\">\n",
       "  <thead>\n",
       "    <tr style=\"text-align: right;\">\n",
       "      <th></th>\n",
       "      <th>id</th>\n",
       "      <th>f0</th>\n",
       "      <th>f1</th>\n",
       "      <th>f2</th>\n",
       "      <th>product</th>\n",
       "    </tr>\n",
       "  </thead>\n",
       "  <tbody>\n",
       "    <tr>\n",
       "      <th>47591</th>\n",
       "      <td>wt4Uk</td>\n",
       "      <td>-9.091</td>\n",
       "      <td>-8.109</td>\n",
       "      <td>-0.002</td>\n",
       "      <td>3.179</td>\n",
       "    </tr>\n",
       "    <tr>\n",
       "      <th>82873</th>\n",
       "      <td>wt4Uk</td>\n",
       "      <td>10.260</td>\n",
       "      <td>-9.376</td>\n",
       "      <td>4.994</td>\n",
       "      <td>134.766</td>\n",
       "    </tr>\n",
       "    <tr>\n",
       "      <th>2721</th>\n",
       "      <td>bfPNe</td>\n",
       "      <td>-9.494</td>\n",
       "      <td>-5.464</td>\n",
       "      <td>4.006</td>\n",
       "      <td>110.992</td>\n",
       "    </tr>\n",
       "    <tr>\n",
       "      <th>82178</th>\n",
       "      <td>bfPNe</td>\n",
       "      <td>-6.203</td>\n",
       "      <td>-4.820</td>\n",
       "      <td>2.995</td>\n",
       "      <td>84.039</td>\n",
       "    </tr>\n",
       "    <tr>\n",
       "      <th>1305</th>\n",
       "      <td>LHZR0</td>\n",
       "      <td>11.171</td>\n",
       "      <td>-1.945</td>\n",
       "      <td>3.003</td>\n",
       "      <td>80.860</td>\n",
       "    </tr>\n",
       "  </tbody>\n",
       "</table>\n",
       "</div>"
      ],
      "text/plain": [
       "          id      f0     f1     f2  product\n",
       "47591  wt4Uk  -9.091 -8.109 -0.002    3.179\n",
       "82873  wt4Uk  10.260 -9.376  4.994  134.766\n",
       "2721   bfPNe  -9.494 -5.464  4.006  110.992\n",
       "82178  bfPNe  -6.203 -4.820  2.995   84.039\n",
       "1305   LHZR0  11.171 -1.945  3.003   80.860"
      ]
     },
     "metadata": {},
     "output_type": "display_data"
    },
    {
     "name": "stdout",
     "output_type": "stream",
     "text": [
      "Количество полных дубликатов - 0 \n",
      "\n",
      "Дубликаты в столбце \"id\" (первые 5 строк):\n"
     ]
    },
    {
     "data": {
      "text/html": [
       "<div>\n",
       "<style scoped>\n",
       "    .dataframe tbody tr th:only-of-type {\n",
       "        vertical-align: middle;\n",
       "    }\n",
       "\n",
       "    .dataframe tbody tr th {\n",
       "        vertical-align: top;\n",
       "    }\n",
       "\n",
       "    .dataframe thead th {\n",
       "        text-align: right;\n",
       "    }\n",
       "</style>\n",
       "<table border=\"1\" class=\"dataframe\">\n",
       "  <thead>\n",
       "    <tr style=\"text-align: right;\">\n",
       "      <th></th>\n",
       "      <th>id</th>\n",
       "      <th>f0</th>\n",
       "      <th>f1</th>\n",
       "      <th>f2</th>\n",
       "      <th>product</th>\n",
       "    </tr>\n",
       "  </thead>\n",
       "  <tbody>\n",
       "    <tr>\n",
       "      <th>28039</th>\n",
       "      <td>xCHr8</td>\n",
       "      <td>1.633</td>\n",
       "      <td>0.368</td>\n",
       "      <td>-2.378</td>\n",
       "      <td>6.121</td>\n",
       "    </tr>\n",
       "    <tr>\n",
       "      <th>43233</th>\n",
       "      <td>xCHr8</td>\n",
       "      <td>-0.847</td>\n",
       "      <td>2.102</td>\n",
       "      <td>5.597</td>\n",
       "      <td>184.389</td>\n",
       "    </tr>\n",
       "    <tr>\n",
       "      <th>44378</th>\n",
       "      <td>Vcm5J</td>\n",
       "      <td>-1.229</td>\n",
       "      <td>-2.439</td>\n",
       "      <td>1.223</td>\n",
       "      <td>137.968</td>\n",
       "    </tr>\n",
       "    <tr>\n",
       "      <th>95090</th>\n",
       "      <td>Vcm5J</td>\n",
       "      <td>2.588</td>\n",
       "      <td>1.987</td>\n",
       "      <td>2.482</td>\n",
       "      <td>92.328</td>\n",
       "    </tr>\n",
       "    <tr>\n",
       "      <th>11449</th>\n",
       "      <td>VF7Jo</td>\n",
       "      <td>2.123</td>\n",
       "      <td>-0.858</td>\n",
       "      <td>5.746</td>\n",
       "      <td>181.717</td>\n",
       "    </tr>\n",
       "  </tbody>\n",
       "</table>\n",
       "</div>"
      ],
      "text/plain": [
       "          id     f0     f1     f2  product\n",
       "28039  xCHr8  1.633  0.368 -2.378    6.121\n",
       "43233  xCHr8 -0.847  2.102  5.597  184.389\n",
       "44378  Vcm5J -1.229 -2.439  1.223  137.968\n",
       "95090  Vcm5J  2.588  1.987  2.482   92.328\n",
       "11449  VF7Jo  2.123 -0.858  5.746  181.717"
      ]
     },
     "metadata": {},
     "output_type": "display_data"
    }
   ],
   "source": [
    "for data in df_list:\n",
    "    print('Количество полных дубликатов -', data.duplicated().sum(), '\\n')\n",
    "    print('Дубликаты в столбце \"id\" (первые 5 строк):')\n",
    "    display(data.loc[data['id'].duplicated(keep=False)].sort_values(by='id', ascending=False).head())    "
   ]
  },
  {
   "cell_type": "markdown",
   "metadata": {},
   "source": [
    "Уникальные индентификационные номера не могут быть одинаковые, т.к. доля дубликатов не значительная, удалим дубликаты и лишний столбец `id`.   \n",
    "\n",
    "Так же посмотрим на основные статистические показатели таблиц."
   ]
  },
  {
   "cell_type": "code",
   "execution_count": 10,
   "metadata": {
    "scrolled": false
   },
   "outputs": [
    {
     "data": {
      "text/html": [
       "<div>\n",
       "<style scoped>\n",
       "    .dataframe tbody tr th:only-of-type {\n",
       "        vertical-align: middle;\n",
       "    }\n",
       "\n",
       "    .dataframe tbody tr th {\n",
       "        vertical-align: top;\n",
       "    }\n",
       "\n",
       "    .dataframe thead th {\n",
       "        text-align: right;\n",
       "    }\n",
       "</style>\n",
       "<table border=\"1\" class=\"dataframe\">\n",
       "  <thead>\n",
       "    <tr style=\"text-align: right;\">\n",
       "      <th></th>\n",
       "      <th>count</th>\n",
       "      <th>mean</th>\n",
       "      <th>std</th>\n",
       "      <th>min</th>\n",
       "      <th>25%</th>\n",
       "      <th>50%</th>\n",
       "      <th>75%</th>\n",
       "      <th>max</th>\n",
       "    </tr>\n",
       "  </thead>\n",
       "  <tbody>\n",
       "    <tr>\n",
       "      <th>f0</th>\n",
       "      <td>99990.0</td>\n",
       "      <td>0.500</td>\n",
       "      <td>0.872</td>\n",
       "      <td>-1.409</td>\n",
       "      <td>-0.073</td>\n",
       "      <td>0.502</td>\n",
       "      <td>1.074</td>\n",
       "      <td>2.362</td>\n",
       "    </tr>\n",
       "    <tr>\n",
       "      <th>f1</th>\n",
       "      <td>99990.0</td>\n",
       "      <td>0.250</td>\n",
       "      <td>0.504</td>\n",
       "      <td>-0.848</td>\n",
       "      <td>-0.201</td>\n",
       "      <td>0.250</td>\n",
       "      <td>0.701</td>\n",
       "      <td>1.344</td>\n",
       "    </tr>\n",
       "    <tr>\n",
       "      <th>f2</th>\n",
       "      <td>99990.0</td>\n",
       "      <td>2.503</td>\n",
       "      <td>3.248</td>\n",
       "      <td>-12.088</td>\n",
       "      <td>0.288</td>\n",
       "      <td>2.516</td>\n",
       "      <td>4.715</td>\n",
       "      <td>16.004</td>\n",
       "    </tr>\n",
       "    <tr>\n",
       "      <th>product</th>\n",
       "      <td>99990.0</td>\n",
       "      <td>92.500</td>\n",
       "      <td>44.288</td>\n",
       "      <td>0.000</td>\n",
       "      <td>56.497</td>\n",
       "      <td>91.848</td>\n",
       "      <td>128.564</td>\n",
       "      <td>185.364</td>\n",
       "    </tr>\n",
       "  </tbody>\n",
       "</table>\n",
       "</div>"
      ],
      "text/plain": [
       "           count    mean     std     min     25%     50%      75%      max\n",
       "f0       99990.0   0.500   0.872  -1.409  -0.073   0.502    1.074    2.362\n",
       "f1       99990.0   0.250   0.504  -0.848  -0.201   0.250    0.701    1.344\n",
       "f2       99990.0   2.503   3.248 -12.088   0.288   2.516    4.715   16.004\n",
       "product  99990.0  92.500  44.288   0.000  56.497  91.848  128.564  185.364"
      ]
     },
     "metadata": {},
     "output_type": "display_data"
    },
    {
     "data": {
      "text/html": [
       "<div>\n",
       "<style scoped>\n",
       "    .dataframe tbody tr th:only-of-type {\n",
       "        vertical-align: middle;\n",
       "    }\n",
       "\n",
       "    .dataframe tbody tr th {\n",
       "        vertical-align: top;\n",
       "    }\n",
       "\n",
       "    .dataframe thead th {\n",
       "        text-align: right;\n",
       "    }\n",
       "</style>\n",
       "<table border=\"1\" class=\"dataframe\">\n",
       "  <thead>\n",
       "    <tr style=\"text-align: right;\">\n",
       "      <th></th>\n",
       "      <th>count</th>\n",
       "      <th>mean</th>\n",
       "      <th>std</th>\n",
       "      <th>min</th>\n",
       "      <th>25%</th>\n",
       "      <th>50%</th>\n",
       "      <th>75%</th>\n",
       "      <th>max</th>\n",
       "    </tr>\n",
       "  </thead>\n",
       "  <tbody>\n",
       "    <tr>\n",
       "      <th>f0</th>\n",
       "      <td>99996.0</td>\n",
       "      <td>1.141</td>\n",
       "      <td>8.966</td>\n",
       "      <td>-31.610</td>\n",
       "      <td>-6.299</td>\n",
       "      <td>1.153</td>\n",
       "      <td>8.621</td>\n",
       "      <td>29.422</td>\n",
       "    </tr>\n",
       "    <tr>\n",
       "      <th>f1</th>\n",
       "      <td>99996.0</td>\n",
       "      <td>-4.797</td>\n",
       "      <td>5.120</td>\n",
       "      <td>-26.359</td>\n",
       "      <td>-8.268</td>\n",
       "      <td>-4.813</td>\n",
       "      <td>-1.333</td>\n",
       "      <td>18.734</td>\n",
       "    </tr>\n",
       "    <tr>\n",
       "      <th>f2</th>\n",
       "      <td>99996.0</td>\n",
       "      <td>2.495</td>\n",
       "      <td>1.704</td>\n",
       "      <td>-0.018</td>\n",
       "      <td>1.000</td>\n",
       "      <td>2.011</td>\n",
       "      <td>4.000</td>\n",
       "      <td>5.020</td>\n",
       "    </tr>\n",
       "    <tr>\n",
       "      <th>product</th>\n",
       "      <td>99996.0</td>\n",
       "      <td>68.824</td>\n",
       "      <td>45.945</td>\n",
       "      <td>0.000</td>\n",
       "      <td>26.953</td>\n",
       "      <td>57.086</td>\n",
       "      <td>107.813</td>\n",
       "      <td>137.945</td>\n",
       "    </tr>\n",
       "  </tbody>\n",
       "</table>\n",
       "</div>"
      ],
      "text/plain": [
       "           count    mean     std     min     25%     50%      75%      max\n",
       "f0       99996.0   1.141   8.966 -31.610  -6.299   1.153    8.621   29.422\n",
       "f1       99996.0  -4.797   5.120 -26.359  -8.268  -4.813   -1.333   18.734\n",
       "f2       99996.0   2.495   1.704  -0.018   1.000   2.011    4.000    5.020\n",
       "product  99996.0  68.824  45.945   0.000  26.953  57.086  107.813  137.945"
      ]
     },
     "metadata": {},
     "output_type": "display_data"
    },
    {
     "data": {
      "text/html": [
       "<div>\n",
       "<style scoped>\n",
       "    .dataframe tbody tr th:only-of-type {\n",
       "        vertical-align: middle;\n",
       "    }\n",
       "\n",
       "    .dataframe tbody tr th {\n",
       "        vertical-align: top;\n",
       "    }\n",
       "\n",
       "    .dataframe thead th {\n",
       "        text-align: right;\n",
       "    }\n",
       "</style>\n",
       "<table border=\"1\" class=\"dataframe\">\n",
       "  <thead>\n",
       "    <tr style=\"text-align: right;\">\n",
       "      <th></th>\n",
       "      <th>count</th>\n",
       "      <th>mean</th>\n",
       "      <th>std</th>\n",
       "      <th>min</th>\n",
       "      <th>25%</th>\n",
       "      <th>50%</th>\n",
       "      <th>75%</th>\n",
       "      <th>max</th>\n",
       "    </tr>\n",
       "  </thead>\n",
       "  <tbody>\n",
       "    <tr>\n",
       "      <th>f0</th>\n",
       "      <td>99996.0</td>\n",
       "      <td>0.002</td>\n",
       "      <td>1.732</td>\n",
       "      <td>-8.760</td>\n",
       "      <td>-1.162</td>\n",
       "      <td>0.009</td>\n",
       "      <td>1.158</td>\n",
       "      <td>7.238</td>\n",
       "    </tr>\n",
       "    <tr>\n",
       "      <th>f1</th>\n",
       "      <td>99996.0</td>\n",
       "      <td>-0.002</td>\n",
       "      <td>1.730</td>\n",
       "      <td>-7.084</td>\n",
       "      <td>-1.175</td>\n",
       "      <td>-0.010</td>\n",
       "      <td>1.164</td>\n",
       "      <td>7.845</td>\n",
       "    </tr>\n",
       "    <tr>\n",
       "      <th>f2</th>\n",
       "      <td>99996.0</td>\n",
       "      <td>2.495</td>\n",
       "      <td>3.473</td>\n",
       "      <td>-11.970</td>\n",
       "      <td>0.130</td>\n",
       "      <td>2.484</td>\n",
       "      <td>4.859</td>\n",
       "      <td>16.739</td>\n",
       "    </tr>\n",
       "    <tr>\n",
       "      <th>product</th>\n",
       "      <td>99996.0</td>\n",
       "      <td>94.998</td>\n",
       "      <td>44.750</td>\n",
       "      <td>0.000</td>\n",
       "      <td>59.450</td>\n",
       "      <td>94.925</td>\n",
       "      <td>130.587</td>\n",
       "      <td>190.030</td>\n",
       "    </tr>\n",
       "  </tbody>\n",
       "</table>\n",
       "</div>"
      ],
      "text/plain": [
       "           count    mean     std     min     25%     50%      75%      max\n",
       "f0       99996.0   0.002   1.732  -8.760  -1.162   0.009    1.158    7.238\n",
       "f1       99996.0  -0.002   1.730  -7.084  -1.175  -0.010    1.164    7.845\n",
       "f2       99996.0   2.495   3.473 -11.970   0.130   2.484    4.859   16.739\n",
       "product  99996.0  94.998  44.750   0.000  59.450  94.925  130.587  190.030"
      ]
     },
     "metadata": {},
     "output_type": "display_data"
    }
   ],
   "source": [
    "for data in df_list:\n",
    "    data.drop_duplicates(subset='id', inplace=True)\n",
    "    data.drop('id', axis=1, inplace=True)\n",
    "    display(data.describe().T)"
   ]
  },
  {
   "cell_type": "code",
   "execution_count": 11,
   "metadata": {
    "scrolled": false
   },
   "outputs": [
    {
     "data": {
      "image/png": "[encoded data removed]",
      "text/plain": [
       "<Figure size 1296x360 with 6 Axes>"
      ]
     },
     "metadata": {
      "needs_background": "light"
     },
     "output_type": "display_data"
    }
   ],
   "source": [
    "plt.figure(figsize = (18,5))\n",
    "for i, s in enumerate([131, 132, 133]):\n",
    "    plt.subplot(s)\n",
    "    sns.heatmap(df_list[i].corr(), annot=True, annot_kws={'size' : 11})\n",
    "    plt.title(f'Корреляция таблицы {data.name}', fontweight=\"bold\")"
   ]
  },
  {
   "cell_type": "code",
   "execution_count": 12,
   "metadata": {
    "scrolled": false
   },
   "outputs": [
    {
     "data": {
      "image/png": "[encoded data removed]",
      "text/plain": [
       "<Figure size 489.6x489.6 with 14 Axes>"
      ]
     },
     "metadata": {
      "needs_background": "light"
     },
     "output_type": "display_data"
    },
    {
     "data": {
      "image/png": "[encoded data removed]",
      "text/plain": [
       "<Figure size 489.6x489.6 with 14 Axes>"
      ]
     },
     "metadata": {
      "needs_background": "light"
     },
     "output_type": "display_data"
    },
    {
     "data": {
      "image/png": "[encoded data removed]",
      "text/plain": [
       "<Figure size 489.6x489.6 with 14 Axes>"
      ]
     },
     "metadata": {
      "needs_background": "light"
     },
     "output_type": "display_data"
    }
   ],
   "source": [
    "for df in df_list:\n",
    "    sns.pairplot(df, height=1.7, corner=True)\n",
    "    plt.suptitle(f'Разброс данных {data.name}', fontweight=\"bold\")\n",
    "    plt.show()"
   ]
  },
  {
   "cell_type": "markdown",
   "metadata": {},
   "source": [
    "Сильная зависимость целевого признака `product` с признаком `f2` в особенно в `regione_1`, еще раз убеждаемся в неестественном распределении данных в данном регионе.  \n",
    "\n",
    "Так же наблюдается отрицательная зависимость между признаками `f0` и `f1` особенно в `df_0`, однако не достаточная для мультикорелиальности и удаления признака из датайрема.\n",
    "\n",
    "Имеет целесообразность исследовать обучение модели в том числе на обобщенных тренировочных данных, т.к. скважины уникальны, и признаки одинаковы для всех регионов.  \n",
    "\n",
    "Так же на основании анализа данных выдвинем и проверим гипотезу:  \n",
    " - Так как основные признаки f0, f1, f1 имеют одинаковые характеристики, предположим, что модель обученная на объедененных тренировочных данных всех 3 регионов, даст лучшие оценки R2 и низкие RMSE на валидационных данных регионов, если данные будут лучше, то будем использовать для всех модель обученную на объедененной выборке, в противном случае, будет использовать модели обученные на данных конкретного региона.  "
   ]
  },
  {
   "cell_type": "markdown",
   "metadata": {},
   "source": [
    "## Обучение и проверка модели"
   ]
  },
  {
   "cell_type": "markdown",
   "metadata": {},
   "source": [
    "### Деление данных на выборки для дальнейшего исследования"
   ]
  },
  {
   "cell_type": "markdown",
   "metadata": {},
   "source": [
    "Разделим данные на основные и целевой признаки"
   ]
  },
  {
   "cell_type": "code",
   "execution_count": 13,
   "metadata": {},
   "outputs": [],
   "source": [
    "features_0, features_1, features_2, = (data.drop('product', axis=1) for data in df_list)\n",
    "target_0, target_1, target_2 = (data['product'] for data in df_list)"
   ]
  },
  {
   "cell_type": "markdown",
   "metadata": {},
   "source": [
    "Разделим основные и целевоые признаки на тренировочную и валидационную выборки"
   ]
  },
  {
   "cell_type": "code",
   "execution_count": 14,
   "metadata": {},
   "outputs": [],
   "source": [
    "features_train_0, features_valid_0, target_train_0, target_valid_0 = train_test_split(\n",
    "    features_0, target_0, test_size=0.25, random_state=STATE\n",
    ")\n",
    "features_train_1, features_valid_1, target_train_1, target_valid_1 = train_test_split(\n",
    "    features_1, target_1, test_size=0.25, random_state=STATE\n",
    ")\n",
    "features_train_2, features_valid_2, target_train_2, target_valid_2 = train_test_split(\n",
    "    features_2, target_2, test_size=0.25, random_state=STATE\n",
    ")\n",
    "\n",
    "#объеденим тренировочную выборку и целевой признак\n",
    "features_train_all, target_train_all = (\n",
    "    pd.concat([features_train_0, features_train_1, features_train_2]), \n",
    "    pd.concat([target_train_0, target_train_1, target_train_2])\n",
    ")"
   ]
  },
  {
   "cell_type": "markdown",
   "metadata": {},
   "source": [
    "### Обучение моделей на тренировочных данных и ее оценка."
   ]
  },
  {
   "cell_type": "code",
   "execution_count": 15,
   "metadata": {},
   "outputs": [],
   "source": [
    "#крос-валидация\n",
    "def cv_scores(*valid, model, features_t, target_t):\n",
    "    scores = cross_val_score(model, features_t, target_t, cv=5)\n",
    "    print('Средняя оценка качества модели при CV:', np.mean(scores))\n",
    "    print('Стандартное отклонение модели при CV:', np.std(scores))\n",
    "    for valid_data in valid:\n",
    "        print('Оценка качества модели на валидационных данных -', \n",
    "              model.score(valid_data[0], valid_data[1]))\n",
    "    "
   ]
  },
  {
   "cell_type": "code",
   "execution_count": 16,
   "metadata": {},
   "outputs": [],
   "source": [
    "#Создаем датафрейм с данными rsme и средними объемами\n",
    "df_total = pd.DataFrame(columns=['model_name', 'rmse', 'target_mean', 'predicted_mean'])\n",
    "def rmse_helper(target, predicted, model_name):\n",
    "    df_new = pd.DataFrame()    \n",
    "    for i, tar_v in enumerate(target):\n",
    "        rmse = mean_squared_error(tar_v, predicted[i])**0.5\n",
    "        \n",
    "        target_mean = tar_v.mean()\n",
    "        predicted_mean = predicted[i].mean()\n",
    "        \n",
    "        df_new = pd.concat(\n",
    "            [df_new, pd.DataFrame([[model_name[i], rmse, target_mean, predicted_mean]], columns=df_total.columns)], \n",
    "            ignore_index=True\n",
    "        )    \n",
    "    \n",
    "    return df_new"
   ]
  },
  {
   "cell_type": "code",
   "execution_count": 17,
   "metadata": {},
   "outputs": [],
   "source": [
    "#Создает графики бары с показателями в разрезе столбцов \n",
    "def plot_helper(df, table_name, columns=[], ind=True):\n",
    "           \n",
    "    if ind:\n",
    "        df.plot(kind='bar', x='model_name', grid=True, rot=1, figsize=(10, 5))\n",
    "        plt.title(table_name, fontweight='bold')\n",
    "        plt.legend(bbox_to_anchor=(1,1), loc='upper left')\n",
    "        plt.show()\n",
    "        \n",
    "        display(df.set_index('model_name').T)\n",
    "    else:\n",
    "        df = df.set_index(columns[0])\n",
    "        \n",
    "        fig, axes = plt.subplots(1, 3, figsize = (14, 7))\n",
    "        fig.suptitle(table_name, fontsize = 12, fontweight='bold', y = 1)\n",
    "        df[columns[1]].plot(\n",
    "            kind='bar', grid=True, color='y', rot=1, ax=axes[0], title=f'Таблица {columns[1]}')\n",
    "        df[columns[2]].plot(\n",
    "            kind='bar', grid=True, color='g', rot=1, ax=axes[1], title=f'Таблица {columns[2]}')\n",
    "        df[columns[3]].plot(\n",
    "            kind='bar', grid=True, color='r', rot=1, ax=axes[2], title=f'Таблица {columns[3]}')\n",
    "        plt.show()\n",
    "        \n",
    "        display(df)\n",
    "        "
   ]
  },
  {
   "cell_type": "code",
   "execution_count": 18,
   "metadata": {
    "scrolled": false
   },
   "outputs": [
    {
     "name": "stdout",
     "output_type": "stream",
     "text": [
      "Средняя оценка качества модели при CV: 0.27659260309400285\n",
      "Стандартное отклонение модели при CV: 0.006073072884342379\n",
      "Оценка качества модели на валидационных данных - 0.2723923460817068\n"
     ]
    }
   ],
   "source": [
    "model_0 = LinearRegression().fit(features_train_0, target_train_0)\n",
    "cv_scores([features_valid_0, target_valid_0],\n",
    "          model=model_0, \n",
    "          features_t=features_train_0, \n",
    "          target_t=target_train_0, \n",
    "         )"
   ]
  },
  {
   "cell_type": "code",
   "execution_count": 19,
   "metadata": {},
   "outputs": [
    {
     "name": "stdout",
     "output_type": "stream",
     "text": [
      "Средняя оценка качества модели при CV: 0.9996261381294126\n",
      "Стандартное отклонение модели при CV: 5.114395269104085e-06\n",
      "Оценка качества модели на валидационных данных - 0.9996189787138543\n"
     ]
    }
   ],
   "source": [
    "model_1 = LinearRegression().fit(features_train_1, target_train_1)\n",
    "cv_scores([features_valid_1, target_valid_1],\n",
    "          model=model_1, \n",
    "          features_t=features_train_1, \n",
    "          target_t=target_train_1\n",
    "         )"
   ]
  },
  {
   "cell_type": "code",
   "execution_count": 20,
   "metadata": {},
   "outputs": [
    {
     "name": "stdout",
     "output_type": "stream",
     "text": [
      "Средняя оценка качества модели при CV: 0.19781481364947187\n",
      "Стандартное отклонение модели при CV: 0.003013767024862385\n",
      "Оценка качества модели на валидационных данных - 0.2012463721981833\n"
     ]
    }
   ],
   "source": [
    "model_2 = LinearRegression().fit(features_train_2, target_train_2)\n",
    "cv_scores([features_valid_2, target_valid_2], model=model_2, features_t=features_train_2, target_t=target_train_2)"
   ]
  },
  {
   "cell_type": "code",
   "execution_count": 21,
   "metadata": {
    "scrolled": false
   },
   "outputs": [
    {
     "name": "stdout",
     "output_type": "stream",
     "text": [
      "Средняя оценка качества модели при CV: 0.2360248345247503\n",
      "Стандартное отклонение модели при CV: 0.10315837397704171\n",
      "Оценка качества модели на валидационных данных - 0.18953601647891216\n",
      "Оценка качества модели на валидационных данных - 0.4448781550758777\n",
      "Оценка качества модели на валидационных данных - 0.12830747730753023\n"
     ]
    }
   ],
   "source": [
    "model_all = LinearRegression().fit(features_train_all, target_train_all)\n",
    "cv_scores([features_valid_0, target_valid_0], \n",
    "          [features_valid_1, target_valid_1], \n",
    "          [features_valid_2, target_valid_2],\n",
    "          model=model_all, \n",
    "          features_t=features_train_all, \n",
    "          target_t=target_train_all, )"
   ]
  },
  {
   "cell_type": "markdown",
   "metadata": {},
   "source": [
    "Оценки модели обученные на данных `region_0` и `region_2` показали низкую оценку **`R2`** на теринировочных и валидационных данных, но показали низкое `STD`, что говорит о низкой переобучаемости моделей.   \n",
    "`region_1` в свою очередь показал почти 100% оценку **`R2`** и довольно высокой `STD`, в реальности такое очень сложно повстречать.\n",
    "\n",
    "Модель обученная на объедененных данных показала худшие оценки по **`R2`** во всех регионах."
   ]
  },
  {
   "cell_type": "markdown",
   "metadata": {},
   "source": [
    "\n",
    "Оценка качества модели на валидационных данных - 0.12830747730753023"
   ]
  },
  {
   "cell_type": "markdown",
   "metadata": {},
   "source": [
    "### Предсказания моделей"
   ]
  },
  {
   "cell_type": "code",
   "execution_count": 22,
   "metadata": {},
   "outputs": [],
   "source": [
    "#предсказания на моделях в разрезе регионов\n",
    "predicted_0, predicted_1, predicted_2 = (model_0.predict(features_valid_0),\n",
    "                                         model_1.predict(features_valid_1),\n",
    "                                         model_2.predict(features_valid_2))\n",
    "\n",
    "#предсказания для модели обученой на общей выборке\n",
    "predicted_all_0, predicted_all_1, predicted_all_2 =(model_all.predict(features_valid_0),\n",
    "                                                    model_all.predict(features_valid_1),\n",
    "                                                    model_all.predict(features_valid_2))"
   ]
  },
  {
   "cell_type": "markdown",
   "metadata": {},
   "source": [
    "Так как выборки были исскуственно синтезированны, есть вероятность не корректных предсказаний, проверим наличие отрицательных значений в предсказаниях запасов нефти. Если такие значения обнаружаться заменим их на 0, т.к. отрицательные данные мы не сможем использовать в работе и они могут исказить дальнейшее исследование."
   ]
  },
  {
   "cell_type": "code",
   "execution_count": 23,
   "metadata": {
    "scrolled": false
   },
   "outputs": [
    {
     "name": "stdout",
     "output_type": "stream",
     "text": [
      "До удаления в следующих предсказаниях было отрициательных значений:\n",
      "predicted_0 - 1 шт.\n",
      "predicted_1 - 543 шт.\n",
      "predicted_all_0 - 6 шт.\n",
      "predicted_all_2 - 31 шт.\n"
     ]
    }
   ],
   "source": [
    "print('До удаления в следующих предсказаниях было отрициательных значений:')\n",
    "for i, res in enumerate([predicted_0, predicted_1, predicted_2, predicted_all_0, predicted_all_1, predicted_all_2]):\n",
    "    array_name = ['predicted_0', 'predicted_1', 'predicted_2', 'predicted_all_0', 'predicted_all_1', 'predicted_all_2']\n",
    "    negative = res[res < 0]\n",
    "    if negative.any():\n",
    "        print(f'{array_name[i]} - {negative.size} шт.')\n",
    "        res[res < 0] = 0"
   ]
  },
  {
   "cell_type": "markdown",
   "metadata": {},
   "source": [
    "### Результаты предсказаний моделей по регионам"
   ]
  },
  {
   "cell_type": "code",
   "execution_count": 24,
   "metadata": {},
   "outputs": [
    {
     "data": {
      "image/png": "[encoded data removed]",
      "text/plain": [
       "<Figure size 720x360 with 1 Axes>"
      ]
     },
     "metadata": {
      "needs_background": "light"
     },
     "output_type": "display_data"
    },
    {
     "data": {
      "text/html": [
       "<div>\n",
       "<style scoped>\n",
       "    .dataframe tbody tr th:only-of-type {\n",
       "        vertical-align: middle;\n",
       "    }\n",
       "\n",
       "    .dataframe tbody tr th {\n",
       "        vertical-align: top;\n",
       "    }\n",
       "\n",
       "    .dataframe thead th {\n",
       "        text-align: right;\n",
       "    }\n",
       "</style>\n",
       "<table border=\"1\" class=\"dataframe\">\n",
       "  <thead>\n",
       "    <tr style=\"text-align: right;\">\n",
       "      <th>model_name</th>\n",
       "      <th>df_0</th>\n",
       "      <th>df_1</th>\n",
       "      <th>df_2</th>\n",
       "      <th>df_all_0</th>\n",
       "      <th>df_all_1</th>\n",
       "      <th>df_all_2</th>\n",
       "    </tr>\n",
       "  </thead>\n",
       "  <tbody>\n",
       "    <tr>\n",
       "      <th>rmse</th>\n",
       "      <td>37.853</td>\n",
       "      <td>0.890</td>\n",
       "      <td>40.042</td>\n",
       "      <td>39.948</td>\n",
       "      <td>34.154</td>\n",
       "      <td>41.811</td>\n",
       "    </tr>\n",
       "    <tr>\n",
       "      <th>target_mean</th>\n",
       "      <td>92.158</td>\n",
       "      <td>68.970</td>\n",
       "      <td>95.517</td>\n",
       "      <td>92.158</td>\n",
       "      <td>68.970</td>\n",
       "      <td>95.517</td>\n",
       "    </tr>\n",
       "    <tr>\n",
       "      <th>predicted_mean</th>\n",
       "      <td>92.790</td>\n",
       "      <td>68.968</td>\n",
       "      <td>95.079</td>\n",
       "      <td>88.547</td>\n",
       "      <td>79.793</td>\n",
       "      <td>88.499</td>\n",
       "    </tr>\n",
       "  </tbody>\n",
       "</table>\n",
       "</div>"
      ],
      "text/plain": [
       "model_name        df_0    df_1    df_2  df_all_0  df_all_1  df_all_2\n",
       "rmse            37.853   0.890  40.042    39.948    34.154    41.811\n",
       "target_mean     92.158  68.970  95.517    92.158    68.970    95.517\n",
       "predicted_mean  92.790  68.968  95.079    88.547    79.793    88.499"
      ]
     },
     "metadata": {},
     "output_type": "display_data"
    }
   ],
   "source": [
    "df_total = rmse_helper(\n",
    "    target=[target_valid_0, target_valid_1, target_valid_2, target_valid_0, target_valid_1, target_valid_2], \n",
    "    predicted=[predicted_0, predicted_1, predicted_2, predicted_all_0, predicted_all_1, predicted_all_2], \n",
    "    model_name=['df_0', 'df_1', 'df_2', 'df_all_0', 'df_all_1', 'df_all_2']\n",
    ") \n",
    "\n",
    "plot_helper(df_total, 'Среднии запасы сырья и RSME моделей')"
   ]
  },
  {
   "cell_type": "markdown",
   "metadata": {},
   "source": [
    "Лучшая модель по оценки `RSME` так же модель `region_1` на своей тренировочной выборке. Тем не менее количество запасов сырья в `region_0 и region_2` больше чем в `region_1`. Среднии объемы предсказанного сырья соотвествуют целевым.  Оценка `RSME` в `region_0 и region_2` показали меньшую среднеквадратическую ошибку чем на моделях обученных на общей выборке (`df_all_0, df_all_1, df_all_2`).\n",
    "\n",
    "Выдвинутая гипотеза о том, что модели обученные на больших данных (объедененных тренировочных данных), покажут лучшие результаты на оправдалась."
   ]
  },
  {
   "cell_type": "markdown",
   "metadata": {},
   "source": [
    "## Подготовка к расчёту прибыли"
   ]
  },
  {
   "cell_type": "markdown",
   "metadata": {},
   "source": [
    "### Расчет и визуализация средних запасов в регионе"
   ]
  },
  {
   "cell_type": "markdown",
   "metadata": {},
   "source": [
    "Все константы выенесены в начала проекта, в целях быстрого нахождениях их в проекте.\n",
    "\n",
    "Удалим столбец со значением RMSE и добавим столбец с достаточным объемом для безубыточности разработки нефтяной скважины. Так же удалим строки со значениями обученых на обобщенных данных."
   ]
  },
  {
   "cell_type": "code",
   "execution_count": 25,
   "metadata": {},
   "outputs": [],
   "source": [
    "df_total = df_total.query('model_name not in [\"df_all_0\", \"df_all_1\", \"df_all_2\"]')\n",
    "df_total = df_total.drop('rmse', axis=1)\n",
    "df_total['break_even'] = BREAK_EVEN"
   ]
  },
  {
   "cell_type": "code",
   "execution_count": 26,
   "metadata": {
    "scrolled": false
   },
   "outputs": [
    {
     "data": {
      "image/png": "[encoded data removed]",
      "text/plain": [
       "<Figure size 720x360 with 1 Axes>"
      ]
     },
     "metadata": {
      "needs_background": "light"
     },
     "output_type": "display_data"
    },
    {
     "data": {
      "text/html": [
       "<div>\n",
       "<style scoped>\n",
       "    .dataframe tbody tr th:only-of-type {\n",
       "        vertical-align: middle;\n",
       "    }\n",
       "\n",
       "    .dataframe tbody tr th {\n",
       "        vertical-align: top;\n",
       "    }\n",
       "\n",
       "    .dataframe thead th {\n",
       "        text-align: right;\n",
       "    }\n",
       "</style>\n",
       "<table border=\"1\" class=\"dataframe\">\n",
       "  <thead>\n",
       "    <tr style=\"text-align: right;\">\n",
       "      <th>model_name</th>\n",
       "      <th>df_0</th>\n",
       "      <th>df_1</th>\n",
       "      <th>df_2</th>\n",
       "    </tr>\n",
       "  </thead>\n",
       "  <tbody>\n",
       "    <tr>\n",
       "      <th>target_mean</th>\n",
       "      <td>92.158</td>\n",
       "      <td>68.970</td>\n",
       "      <td>95.517</td>\n",
       "    </tr>\n",
       "    <tr>\n",
       "      <th>predicted_mean</th>\n",
       "      <td>92.790</td>\n",
       "      <td>68.968</td>\n",
       "      <td>95.079</td>\n",
       "    </tr>\n",
       "    <tr>\n",
       "      <th>break_even</th>\n",
       "      <td>111.111</td>\n",
       "      <td>111.111</td>\n",
       "      <td>111.111</td>\n",
       "    </tr>\n",
       "  </tbody>\n",
       "</table>\n",
       "</div>"
      ],
      "text/plain": [
       "model_name         df_0     df_1     df_2\n",
       "target_mean      92.158   68.970   95.517\n",
       "predicted_mean   92.790   68.968   95.079\n",
       "break_even      111.111  111.111  111.111"
      ]
     },
     "metadata": {},
     "output_type": "display_data"
    }
   ],
   "source": [
    "plot_helper(df_total, 'Среднии запасы сырья и точка без убыточности')"
   ]
  },
  {
   "cell_type": "markdown",
   "metadata": {},
   "source": [
    "Точка без убыточности `BREAK_EVEN` равна `111.111` тыс. баррелей.  \n",
    "Во всех регионах среднии показатели запасов сырья ниже необходимого объема, для безубыточной разработки скважин. Самые большие среднии запасы в `region_2`, чуть меньше в `region_0`. А в `region_1` самый низкий запас сырья. Во всех 3 регионах среднии запасы сырья не достаточны для безубыточной разработки. А учитывая низкие оценки предсказывания моделей по 2 регионам, нужно аккуратно подходить к выбору."
   ]
  },
  {
   "cell_type": "markdown",
   "metadata": {},
   "source": [
    "## Расчёт прибыли и рисков "
   ]
  },
  {
   "cell_type": "markdown",
   "metadata": {},
   "source": [
    "### Напишем расчитаем прибыль по выбранным максимальным предсказаниям для каждого региона"
   ]
  },
  {
   "cell_type": "markdown",
   "metadata": {},
   "source": [
    "Напишем функцию для расчета прибыли"
   ]
  },
  {
   "cell_type": "code",
   "execution_count": 27,
   "metadata": {},
   "outputs": [],
   "source": [
    "def profit(*predicted, target, is_frame=True):\n",
    "    profitability = pd.DataFrame()\n",
    "    for i, pred in enumerate(predicted):\n",
    "        target_new = target[i].reset_index(drop=True) \n",
    "        target_pred = target_new[np.argsort(pred)[::-1]][:WELLS_NUMBER]\n",
    "        \n",
    "        income_forecast = sum([v * REVENUE_1BAR for v in target_pred])\n",
    " \n",
    "        profitability = pd.concat(\n",
    "            [profitability, \n",
    "             pd.DataFrame(\n",
    "                 [[df_list[i].name,\n",
    "                   target_pred.sum(),\n",
    "                   BREAK_EVEN, REGION_BUDGET, \n",
    "                   income_forecast, \n",
    "                   income_forecast - REGION_BUDGET]],\n",
    "                 columns=['region', 'product', 'break_even', 'costs', 'income_forecast', 'profit_forecast'])], \n",
    "            ignore_index=True)\n",
    "    \n",
    "    if is_frame:\n",
    "        return profitability\n",
    "    else:\n",
    "        return profitability['profit_forecast'][0]"
   ]
  },
  {
   "cell_type": "code",
   "execution_count": 28,
   "metadata": {
    "scrolled": true
   },
   "outputs": [],
   "source": [
    "#массив который хранит валидационные выборки с оновленными индексами\n",
    "target_array = [t.reset_index(drop=True) for t in [target_valid_0, target_valid_1, target_valid_2]]"
   ]
  },
  {
   "cell_type": "code",
   "execution_count": 29,
   "metadata": {},
   "outputs": [],
   "source": [
    "df_profit = profit(predicted_0, predicted_1, predicted_2, target=target_array)"
   ]
  },
  {
   "cell_type": "code",
   "execution_count": 30,
   "metadata": {
    "scrolled": false
   },
   "outputs": [
    {
     "data": {
      "image/png": "[encoded data removed]",
      "text/plain": [
       "<Figure size 1008x504 with 3 Axes>"
      ]
     },
     "metadata": {
      "needs_background": "light"
     },
     "output_type": "display_data"
    },
    {
     "data": {
      "text/html": [
       "<div>\n",
       "<style scoped>\n",
       "    .dataframe tbody tr th:only-of-type {\n",
       "        vertical-align: middle;\n",
       "    }\n",
       "\n",
       "    .dataframe tbody tr th {\n",
       "        vertical-align: top;\n",
       "    }\n",
       "\n",
       "    .dataframe thead th {\n",
       "        text-align: right;\n",
       "    }\n",
       "</style>\n",
       "<table border=\"1\" class=\"dataframe\">\n",
       "  <thead>\n",
       "    <tr style=\"text-align: right;\">\n",
       "      <th></th>\n",
       "      <th>product</th>\n",
       "      <th>break_even</th>\n",
       "      <th>costs</th>\n",
       "      <th>income_forecast</th>\n",
       "      <th>profit_forecast</th>\n",
       "    </tr>\n",
       "    <tr>\n",
       "      <th>region</th>\n",
       "      <th></th>\n",
       "      <th></th>\n",
       "      <th></th>\n",
       "      <th></th>\n",
       "      <th></th>\n",
       "    </tr>\n",
       "  </thead>\n",
       "  <tbody>\n",
       "    <tr>\n",
       "      <th>region_0</th>\n",
       "      <td>29700.416</td>\n",
       "      <td>111.111</td>\n",
       "      <td>10000.0</td>\n",
       "      <td>13365.187</td>\n",
       "      <td>3365.187</td>\n",
       "    </tr>\n",
       "    <tr>\n",
       "      <th>region_1</th>\n",
       "      <td>27589.082</td>\n",
       "      <td>111.111</td>\n",
       "      <td>10000.0</td>\n",
       "      <td>12415.087</td>\n",
       "      <td>2415.087</td>\n",
       "    </tr>\n",
       "    <tr>\n",
       "      <th>region_2</th>\n",
       "      <td>27684.734</td>\n",
       "      <td>111.111</td>\n",
       "      <td>10000.0</td>\n",
       "      <td>12458.130</td>\n",
       "      <td>2458.130</td>\n",
       "    </tr>\n",
       "  </tbody>\n",
       "</table>\n",
       "</div>"
      ],
      "text/plain": [
       "            product  break_even    costs  income_forecast  profit_forecast\n",
       "region                                                                    \n",
       "region_0  29700.416     111.111  10000.0        13365.187         3365.187\n",
       "region_1  27589.082     111.111  10000.0        12415.087         2415.087\n",
       "region_2  27684.734     111.111  10000.0        12458.130         2458.130"
      ]
     },
     "metadata": {},
     "output_type": "display_data"
    }
   ],
   "source": [
    "plot_helper(df_profit, \n",
    "            table_name='Запасы и прибыль по максимальным предсказаниям модели', \n",
    "            columns=['region', 'profit_forecast', 'income_forecast', 'product'],\n",
    "            ind=False)"
   ]
  },
  {
   "cell_type": "markdown",
   "metadata": {},
   "source": [
    "В случае если мы выбираем максимальные значения по запаса в скважинах, то получаем оптимистичный проноз прибыли во всех 3 регионах, где самая большая доходность будет в `region_0`. \n",
    "\n",
    "Однако на основании выборок которые нам предоставили и условий исследования, мы получили 2 модели с не очень выской точностью, поэтому есть очень значительные риски ошибиться с выбором, потому для более точной оценки потенциальной прибыли и рисков используем метод `Bootstrap`.   \n"
   ]
  },
  {
   "cell_type": "markdown",
   "metadata": {},
   "source": [
    "### Оценка рисков и прибыли для каждого региона"
   ]
  },
  {
   "cell_type": "markdown",
   "metadata": {},
   "source": [
    "\n",
    "Выберем 500 лучших скважин по запасам предсказаний и исползуя `Bootstrap` найдем 200 самых лучших по прибыли скважин для разработки."
   ]
  },
  {
   "cell_type": "code",
   "execution_count": 31,
   "metadata": {},
   "outputs": [],
   "source": [
    "def bootstrap_profit_risc(*predicted, target):\n",
    "    df = pd.DataFrame()\n",
    "    for i, pred in enumerate(predicted):\n",
    "        values = list()\n",
    "        for j in range(1000):\n",
    "            target_subsample = target[i].sample(n=WELLS_TOTAL, replace=True, random_state=STATE)\n",
    "            probs_subsample = pred[target_subsample.index]\n",
    "        \n",
    "            values.append(profit(probs_subsample, target=[target_subsample], is_frame=False))\n",
    "       \n",
    "        values = pd.Series(values)\n",
    "        upper = values.quantile(1 - LOSS_RISK)\n",
    "        lower = values.quantile(LOSS_RISK)\n",
    "        mean = values.mean()\n",
    "        confidence_interval = st.t.interval(0.95, values.size - 1, values.mean(), values.sem())\n",
    "    \n",
    "        df = pd.concat([df, pd.DataFrame(\n",
    "            [[df_list[i].name, mean, upper, lower, confidence_interval, (values < 0).mean() * 100]],\n",
    "            columns=['region', 'mean_revenue', '97.5_quantile', '2.5_quantile', 'confidence_interval', 'risk']\n",
    "        )], ignore_index=True)\n",
    "\n",
    "    return df\n",
    "    "
   ]
  },
  {
   "cell_type": "code",
   "execution_count": 32,
   "metadata": {
    "scrolled": false
   },
   "outputs": [],
   "source": [
    "df_profit = bootstrap_profit_risc(predicted_0, predicted_1, predicted_2, target=target_array)"
   ]
  },
  {
   "cell_type": "code",
   "execution_count": 33,
   "metadata": {
    "scrolled": false
   },
   "outputs": [
    {
     "data": {
      "image/png": "[encoded data removed]",
      "text/plain": [
       "<Figure size 1008x504 with 3 Axes>"
      ]
     },
     "metadata": {
      "needs_background": "light"
     },
     "output_type": "display_data"
    },
    {
     "data": {
      "text/html": [
       "<div>\n",
       "<style scoped>\n",
       "    .dataframe tbody tr th:only-of-type {\n",
       "        vertical-align: middle;\n",
       "    }\n",
       "\n",
       "    .dataframe tbody tr th {\n",
       "        vertical-align: top;\n",
       "    }\n",
       "\n",
       "    .dataframe thead th {\n",
       "        text-align: right;\n",
       "    }\n",
       "</style>\n",
       "<table border=\"1\" class=\"dataframe\">\n",
       "  <thead>\n",
       "    <tr style=\"text-align: right;\">\n",
       "      <th></th>\n",
       "      <th>mean_revenue</th>\n",
       "      <th>97.5_quantile</th>\n",
       "      <th>2.5_quantile</th>\n",
       "      <th>confidence_interval</th>\n",
       "      <th>risk</th>\n",
       "    </tr>\n",
       "    <tr>\n",
       "      <th>region</th>\n",
       "      <th></th>\n",
       "      <th></th>\n",
       "      <th></th>\n",
       "      <th></th>\n",
       "      <th></th>\n",
       "    </tr>\n",
       "  </thead>\n",
       "  <tbody>\n",
       "    <tr>\n",
       "      <th>region_0</th>\n",
       "      <td>389.044</td>\n",
       "      <td>894.001</td>\n",
       "      <td>-112.966</td>\n",
       "      <td>(372.69599729577686, 405.39297981839326)</td>\n",
       "      <td>7.4</td>\n",
       "    </tr>\n",
       "    <tr>\n",
       "      <th>region_1</th>\n",
       "      <td>439.072</td>\n",
       "      <td>850.148</td>\n",
       "      <td>33.065</td>\n",
       "      <td>(426.75912048944707, 451.38565654201255)</td>\n",
       "      <td>1.3</td>\n",
       "    </tr>\n",
       "    <tr>\n",
       "      <th>region_2</th>\n",
       "      <td>450.225</td>\n",
       "      <td>943.656</td>\n",
       "      <td>-62.394</td>\n",
       "      <td>(433.96822717610445, 466.4811998445845)</td>\n",
       "      <td>4.6</td>\n",
       "    </tr>\n",
       "  </tbody>\n",
       "</table>\n",
       "</div>"
      ],
      "text/plain": [
       "          mean_revenue  97.5_quantile  2.5_quantile  \\\n",
       "region                                                \n",
       "region_0       389.044        894.001      -112.966   \n",
       "region_1       439.072        850.148        33.065   \n",
       "region_2       450.225        943.656       -62.394   \n",
       "\n",
       "                               confidence_interval  risk  \n",
       "region                                                    \n",
       "region_0  (372.69599729577686, 405.39297981839326)   7.4  \n",
       "region_1  (426.75912048944707, 451.38565654201255)   1.3  \n",
       "region_2   (433.96822717610445, 466.4811998445845)   4.6  "
      ]
     },
     "metadata": {},
     "output_type": "display_data"
    }
   ],
   "source": [
    "plot_helper(df_profit, \n",
    "            table_name='Прогноз прибыли и риски в разрезе регионов', \n",
    "            columns=['region', 'mean_revenue', '2.5_quantile', 'risk'],\n",
    "            ind=False)"
   ]
  },
  {
   "cell_type": "markdown",
   "metadata": {},
   "source": [
    "Как и предпологалось при оценки прибыли по максимальным показателям существуют большие риски при расчете только на предсказания модели и отбор по максимальным прогнозам."
   ]
  },
  {
   "cell_type": "markdown",
   "metadata": {},
   "source": [
    "## Общий вывод"
   ]
  },
  {
   "cell_type": "markdown",
   "metadata": {},
   "source": [
    "Данное исследование было реализовано, с целью определения региона, где добыча нефти принесёт наибольшую прибыль компании и анализа возможной прибыли и рисков техникой `Bootstrap`.\n",
    "\n",
    "Входные данные - синтетические данные геологоразведки трёх регионов, в каждом по 100 000 строк и 5 столбцов.\n",
    "\n",
    "**Цель проекта**:\n",
    "\n",
    " - Построить модели для предсказания объёма запасов в новых скважинах;\n",
    " - Выбирать скважины с самыми высокими оценками значений;\n",
    " - Определить регион с максимальной суммарной прибылью отобранных скважин и возможные риски убытков.\n",
    " \n",
    " \n",
    " **Основные шаги по проекту**:\n",
    " - *В ходе исследования была подготовлены и проанализированы выборки, обнаружены аномальное распределение и значения в регионе 1*\n",
    " - *Выдвинута и опровергнта промежуточная гипотеза,  о том что на объедененных данных будут лучшии оценки модели на валидационной выборке*  \n",
    " - *Были обучены модели Linear Regession на выборках 3 регионов*\n",
    " - *Расчитаны основные экономические показатели для оценки прибыльности и рисков убытков*\n",
    " - *Произведен расчет потеницальной прибыли и возможных рисков, а так же сравнения мжду регионами*    \n",
    " \n",
    " \n",
    "**В результате исследования**:  \n",
    " \n",
    " Был выявлен регион с лучшими показателями проноза прибыли и минимальных рисков (менее 2,5%) \n",
    " "
   ]
  },
  {
   "cell_type": "code",
   "execution_count": 36,
   "metadata": {
    "scrolled": true
   },
   "outputs": [
    {
     "data": {
      "text/html": [
       "<div>\n",
       "<style scoped>\n",
       "    .dataframe tbody tr th:only-of-type {\n",
       "        vertical-align: middle;\n",
       "    }\n",
       "\n",
       "    .dataframe tbody tr th {\n",
       "        vertical-align: top;\n",
       "    }\n",
       "\n",
       "    .dataframe thead th {\n",
       "        text-align: right;\n",
       "    }\n",
       "</style>\n",
       "<table border=\"1\" class=\"dataframe\">\n",
       "  <thead>\n",
       "    <tr style=\"text-align: right;\">\n",
       "      <th></th>\n",
       "      <th>region</th>\n",
       "      <th>mean_revenue</th>\n",
       "      <th>97.5_quantile</th>\n",
       "      <th>2.5_quantile</th>\n",
       "      <th>confidence_interval</th>\n",
       "      <th>risk</th>\n",
       "    </tr>\n",
       "  </thead>\n",
       "  <tbody>\n",
       "    <tr>\n",
       "      <th>1</th>\n",
       "      <td>region_1</td>\n",
       "      <td>439.072</td>\n",
       "      <td>850.148</td>\n",
       "      <td>33.065</td>\n",
       "      <td>(426.75912048944707, 451.38565654201255)</td>\n",
       "      <td>1.3</td>\n",
       "    </tr>\n",
       "  </tbody>\n",
       "</table>\n",
       "</div>"
      ],
      "text/plain": [
       "     region  mean_revenue  97.5_quantile  2.5_quantile  \\\n",
       "1  region_1       439.072        850.148        33.065   \n",
       "\n",
       "                        confidence_interval  risk  \n",
       "1  (426.75912048944707, 451.38565654201255)   1.3  "
      ]
     },
     "metadata": {},
     "output_type": "display_data"
    }
   ],
   "source": [
    "display(df_profit.query('region == \"region_1\"'))"
   ]
  },
  {
   "cell_type": "markdown",
   "metadata": {},
   "source": [
    "Так же было выялено, то что поиск по максимальным прогнозам и выбором скважин имеет серезный недостаток и несет в себе высокие риски. Необходимо дополнительно проверять и расчитывать прогнох прибыли и рисков использую Беггинг и ругие методы.\n",
    "\n",
    "**Рекомендации**:  \n",
    "\n",
    "Аномальные значения и распределение оказало существенное влияние на прогнозы и результаты исследования. Необходимо перепроверить синтетические данные. И в случае их актуальности и репрезентативности, операться на результаты исследования. В противном случае необходимо осуществить дополнительный анализ и расчеты с уточненными данными по региону 2.\n"
   ]
  },
  {
   "cell_type": "code",
   "execution_count": null,
   "metadata": {},
   "outputs": [],
   "source": []
  }
 ],
 "metadata": {
  "ExecuteTimeLog": [
   {
    "duration": 361,
    "start_time": "2022-10-04T13:59:21.370Z"
   },
   {
    "duration": 922,
    "start_time": "2022-10-04T14:01:03.415Z"
   },
   {
    "duration": 4,
    "start_time": "2022-10-04T14:07:51.165Z"
   },
   {
    "duration": 777,
    "start_time": "2022-10-04T14:16:10.634Z"
   },
   {
    "duration": 15,
    "start_time": "2022-10-04T14:16:22.985Z"
   },
   {
    "duration": 4,
    "start_time": "2022-10-04T14:17:46.205Z"
   },
   {
    "duration": 372,
    "start_time": "2022-10-04T14:17:49.225Z"
   },
   {
    "duration": 10,
    "start_time": "2022-10-04T14:17:50.431Z"
   },
   {
    "duration": 97,
    "start_time": "2022-10-04T14:18:18.612Z"
   },
   {
    "duration": 11,
    "start_time": "2022-10-04T14:18:23.847Z"
   },
   {
    "duration": 23,
    "start_time": "2022-10-04T14:18:27.940Z"
   },
   {
    "duration": 374,
    "start_time": "2022-10-04T14:51:33.334Z"
   },
   {
    "duration": 389,
    "start_time": "2022-10-04T14:51:43.044Z"
   },
   {
    "duration": 22,
    "start_time": "2022-10-04T14:51:43.797Z"
   },
   {
    "duration": 22,
    "start_time": "2022-10-04T14:59:08.667Z"
   },
   {
    "duration": 24,
    "start_time": "2022-10-04T15:01:11.002Z"
   },
   {
    "duration": 14,
    "start_time": "2022-10-04T15:01:45.632Z"
   },
   {
    "duration": 25,
    "start_time": "2022-10-04T15:01:52.705Z"
   },
   {
    "duration": 23,
    "start_time": "2022-10-04T15:02:20.912Z"
   },
   {
    "duration": 18,
    "start_time": "2022-10-04T15:02:31.743Z"
   },
   {
    "duration": 23,
    "start_time": "2022-10-04T15:03:07.771Z"
   },
   {
    "duration": 21,
    "start_time": "2022-10-04T15:03:19.344Z"
   },
   {
    "duration": 56,
    "start_time": "2022-10-04T15:03:33.194Z"
   },
   {
    "duration": 9,
    "start_time": "2022-10-04T15:03:35.622Z"
   },
   {
    "duration": 25,
    "start_time": "2022-10-04T15:03:41.521Z"
   },
   {
    "duration": 47,
    "start_time": "2022-10-04T18:55:27.506Z"
   },
   {
    "duration": 8,
    "start_time": "2022-10-04T18:55:34.189Z"
   },
   {
    "duration": 1340,
    "start_time": "2022-10-04T18:55:47.819Z"
   },
   {
    "duration": 780,
    "start_time": "2022-10-04T18:55:49.161Z"
   },
   {
    "duration": 30,
    "start_time": "2022-10-04T18:55:49.944Z"
   },
   {
    "duration": 17,
    "start_time": "2022-10-04T18:55:49.976Z"
   },
   {
    "duration": 40,
    "start_time": "2022-10-04T18:55:49.995Z"
   },
   {
    "duration": 70,
    "start_time": "2022-10-04T18:55:50.037Z"
   },
   {
    "duration": 270,
    "start_time": "2022-10-04T18:56:02.036Z"
   },
   {
    "duration": 289,
    "start_time": "2022-10-04T19:05:35.142Z"
   },
   {
    "duration": 371,
    "start_time": "2022-10-04T19:06:06.340Z"
   },
   {
    "duration": 223,
    "start_time": "2022-10-04T19:06:19.667Z"
   },
   {
    "duration": 101,
    "start_time": "2022-10-04T19:08:42.685Z"
   },
   {
    "duration": 100,
    "start_time": "2022-10-04T19:09:25.806Z"
   },
   {
    "duration": 114,
    "start_time": "2022-10-04T19:09:30.742Z"
   },
   {
    "duration": 108,
    "start_time": "2022-10-04T19:09:51.551Z"
   },
   {
    "duration": 109,
    "start_time": "2022-10-04T19:10:12.607Z"
   },
   {
    "duration": 103,
    "start_time": "2022-10-04T19:10:34.398Z"
   },
   {
    "duration": 121,
    "start_time": "2022-10-04T19:10:46.526Z"
   },
   {
    "duration": 110,
    "start_time": "2022-10-04T19:10:53.063Z"
   },
   {
    "duration": 62,
    "start_time": "2022-10-04T19:12:43.113Z"
   },
   {
    "duration": 57,
    "start_time": "2022-10-04T19:14:25.937Z"
   },
   {
    "duration": 53,
    "start_time": "2022-10-04T19:14:30.042Z"
   },
   {
    "duration": 3,
    "start_time": "2022-10-04T19:14:47.104Z"
   },
   {
    "duration": 383,
    "start_time": "2022-10-04T19:14:47.109Z"
   },
   {
    "duration": 21,
    "start_time": "2022-10-04T19:14:47.494Z"
   },
   {
    "duration": 131,
    "start_time": "2022-10-04T19:14:47.517Z"
   },
   {
    "duration": 18,
    "start_time": "2022-10-04T19:14:47.650Z"
   },
   {
    "duration": 24,
    "start_time": "2022-10-04T19:14:47.669Z"
   },
   {
    "duration": 221,
    "start_time": "2022-10-04T19:14:47.694Z"
   },
   {
    "duration": 237,
    "start_time": "2022-10-04T19:15:13.707Z"
   },
   {
    "duration": 164,
    "start_time": "2022-10-04T19:16:05.883Z"
   },
   {
    "duration": 29,
    "start_time": "2022-10-04T19:16:21.979Z"
   },
   {
    "duration": 33,
    "start_time": "2022-10-04T19:16:38.716Z"
   },
   {
    "duration": 163,
    "start_time": "2022-10-04T19:17:05.029Z"
   },
   {
    "duration": 171,
    "start_time": "2022-10-04T19:17:11.380Z"
   },
   {
    "duration": 49,
    "start_time": "2022-10-04T19:17:34.332Z"
   },
   {
    "duration": 22,
    "start_time": "2022-10-04T19:18:14.212Z"
   },
   {
    "duration": 15,
    "start_time": "2022-10-04T19:19:15.813Z"
   },
   {
    "duration": 16,
    "start_time": "2022-10-04T19:19:33.774Z"
   },
   {
    "duration": 19,
    "start_time": "2022-10-04T19:20:24.822Z"
   },
   {
    "duration": 15,
    "start_time": "2022-10-04T19:20:48.446Z"
   },
   {
    "duration": 19,
    "start_time": "2022-10-04T19:40:25.589Z"
   },
   {
    "duration": 23,
    "start_time": "2022-10-04T19:41:44.469Z"
   },
   {
    "duration": 25,
    "start_time": "2022-10-04T19:42:41.086Z"
   },
   {
    "duration": 217,
    "start_time": "2022-10-04T19:45:05.825Z"
   },
   {
    "duration": 75,
    "start_time": "2022-10-04T19:45:13.304Z"
   },
   {
    "duration": 64,
    "start_time": "2022-10-04T20:08:29.344Z"
   },
   {
    "duration": 9,
    "start_time": "2022-10-04T20:08:45.295Z"
   },
   {
    "duration": 67,
    "start_time": "2022-10-04T20:08:51.719Z"
   },
   {
    "duration": 178,
    "start_time": "2022-10-04T20:16:34.663Z"
   },
   {
    "duration": 171,
    "start_time": "2022-10-04T20:18:07.592Z"
   },
   {
    "duration": 174,
    "start_time": "2022-10-04T20:18:27.136Z"
   },
   {
    "duration": 9,
    "start_time": "2022-10-04T20:34:04.753Z"
   },
   {
    "duration": 67,
    "start_time": "2022-10-04T20:34:10.649Z"
   },
   {
    "duration": 155,
    "start_time": "2022-10-04T20:34:13.345Z"
   },
   {
    "duration": 708,
    "start_time": "2022-10-04T20:34:56.402Z"
   },
   {
    "duration": 64,
    "start_time": "2022-10-04T20:35:10.674Z"
   },
   {
    "duration": 186,
    "start_time": "2022-10-04T20:35:11.402Z"
   },
   {
    "duration": 78,
    "start_time": "2022-10-04T20:35:47.051Z"
   },
   {
    "duration": 73,
    "start_time": "2022-10-04T20:39:17.198Z"
   },
   {
    "duration": 806,
    "start_time": "2022-10-04T20:39:20.846Z"
   },
   {
    "duration": 11,
    "start_time": "2022-10-04T20:45:05.801Z"
   },
   {
    "duration": 11,
    "start_time": "2022-10-04T20:46:10.026Z"
   },
   {
    "duration": 4,
    "start_time": "2022-10-04T20:46:18.172Z"
   },
   {
    "duration": 369,
    "start_time": "2022-10-04T20:46:18.178Z"
   },
   {
    "duration": 21,
    "start_time": "2022-10-04T20:46:18.548Z"
   },
   {
    "duration": 121,
    "start_time": "2022-10-04T20:46:18.571Z"
   },
   {
    "duration": 196,
    "start_time": "2022-10-04T20:46:18.693Z"
   },
   {
    "duration": 80,
    "start_time": "2022-10-04T20:46:18.891Z"
   },
   {
    "duration": 10,
    "start_time": "2022-10-04T20:46:18.973Z"
   },
   {
    "duration": 18,
    "start_time": "2022-10-04T20:46:18.985Z"
   },
   {
    "duration": 30,
    "start_time": "2022-10-04T20:46:19.005Z"
   },
   {
    "duration": 117,
    "start_time": "2022-10-04T20:46:19.036Z"
   },
   {
    "duration": 0,
    "start_time": "2022-10-04T20:46:19.154Z"
   },
   {
    "duration": 13,
    "start_time": "2022-10-04T20:49:54.933Z"
   },
   {
    "duration": 8,
    "start_time": "2022-10-04T20:50:53.613Z"
   },
   {
    "duration": 11,
    "start_time": "2022-10-04T20:50:59.181Z"
   },
   {
    "duration": 3,
    "start_time": "2022-10-04T20:51:02.806Z"
   },
   {
    "duration": 362,
    "start_time": "2022-10-04T20:51:02.811Z"
   },
   {
    "duration": 21,
    "start_time": "2022-10-04T20:51:03.175Z"
   },
   {
    "duration": 137,
    "start_time": "2022-10-04T20:51:03.197Z"
   },
   {
    "duration": 198,
    "start_time": "2022-10-04T20:51:03.336Z"
   },
   {
    "duration": 67,
    "start_time": "2022-10-04T20:51:03.536Z"
   },
   {
    "duration": 8,
    "start_time": "2022-10-04T20:51:03.605Z"
   },
   {
    "duration": 0,
    "start_time": "2022-10-04T20:51:03.615Z"
   },
   {
    "duration": 0,
    "start_time": "2022-10-04T20:51:03.633Z"
   },
   {
    "duration": 0,
    "start_time": "2022-10-04T20:51:03.634Z"
   },
   {
    "duration": 0,
    "start_time": "2022-10-04T20:51:03.635Z"
   },
   {
    "duration": 11,
    "start_time": "2022-10-04T20:51:24.741Z"
   },
   {
    "duration": 12,
    "start_time": "2022-10-04T20:54:16.042Z"
   },
   {
    "duration": 4,
    "start_time": "2022-10-04T20:54:19.735Z"
   },
   {
    "duration": 368,
    "start_time": "2022-10-04T20:54:19.741Z"
   },
   {
    "duration": 26,
    "start_time": "2022-10-04T20:54:20.111Z"
   },
   {
    "duration": 123,
    "start_time": "2022-10-04T20:54:20.139Z"
   },
   {
    "duration": 209,
    "start_time": "2022-10-04T20:54:20.265Z"
   },
   {
    "duration": 76,
    "start_time": "2022-10-04T20:54:20.476Z"
   },
   {
    "duration": 10,
    "start_time": "2022-10-04T20:54:20.553Z"
   },
   {
    "duration": 0,
    "start_time": "2022-10-04T20:54:20.565Z"
   },
   {
    "duration": 0,
    "start_time": "2022-10-04T20:54:20.566Z"
   },
   {
    "duration": 0,
    "start_time": "2022-10-04T20:54:20.567Z"
   },
   {
    "duration": 0,
    "start_time": "2022-10-04T20:54:20.567Z"
   },
   {
    "duration": 0,
    "start_time": "2022-10-04T20:54:20.568Z"
   },
   {
    "duration": 11,
    "start_time": "2022-10-04T20:54:34.647Z"
   },
   {
    "duration": 10,
    "start_time": "2022-10-04T20:56:10.570Z"
   },
   {
    "duration": 8,
    "start_time": "2022-10-04T20:56:18.088Z"
   },
   {
    "duration": 8,
    "start_time": "2022-10-04T20:56:33.177Z"
   },
   {
    "duration": 10,
    "start_time": "2022-10-04T20:56:36.856Z"
   },
   {
    "duration": 15,
    "start_time": "2022-10-04T20:57:53.890Z"
   },
   {
    "duration": 6,
    "start_time": "2022-10-04T20:58:08.853Z"
   },
   {
    "duration": 10,
    "start_time": "2022-10-04T20:58:12.866Z"
   },
   {
    "duration": 3,
    "start_time": "2022-10-04T20:58:40.906Z"
   },
   {
    "duration": 360,
    "start_time": "2022-10-04T20:58:40.911Z"
   },
   {
    "duration": 24,
    "start_time": "2022-10-04T20:58:41.273Z"
   },
   {
    "duration": 122,
    "start_time": "2022-10-04T20:58:41.299Z"
   },
   {
    "duration": 193,
    "start_time": "2022-10-04T20:58:41.423Z"
   },
   {
    "duration": 81,
    "start_time": "2022-10-04T20:58:41.618Z"
   },
   {
    "duration": 11,
    "start_time": "2022-10-04T20:58:41.701Z"
   },
   {
    "duration": 25,
    "start_time": "2022-10-04T20:58:41.714Z"
   },
   {
    "duration": 13,
    "start_time": "2022-10-04T20:58:41.741Z"
   },
   {
    "duration": 135,
    "start_time": "2022-10-04T20:58:41.755Z"
   },
   {
    "duration": 0,
    "start_time": "2022-10-04T20:58:41.892Z"
   },
   {
    "duration": 10,
    "start_time": "2022-10-04T20:58:52.842Z"
   },
   {
    "duration": 9,
    "start_time": "2022-10-04T20:59:44.172Z"
   },
   {
    "duration": 34,
    "start_time": "2022-10-04T21:00:35.284Z"
   },
   {
    "duration": 46,
    "start_time": "2022-10-04T21:00:54.563Z"
   },
   {
    "duration": 93,
    "start_time": "2022-10-04T21:02:56.024Z"
   },
   {
    "duration": 0,
    "start_time": "2022-10-04T21:06:18.169Z"
   },
   {
    "duration": 46,
    "start_time": "2022-10-04T21:06:47.520Z"
   },
   {
    "duration": 1104,
    "start_time": "2022-10-04T21:06:54.235Z"
   },
   {
    "duration": 390,
    "start_time": "2022-10-04T21:06:55.341Z"
   },
   {
    "duration": 26,
    "start_time": "2022-10-04T21:06:55.733Z"
   },
   {
    "duration": 145,
    "start_time": "2022-10-04T21:06:55.761Z"
   },
   {
    "duration": 204,
    "start_time": "2022-10-04T21:06:55.909Z"
   },
   {
    "duration": 83,
    "start_time": "2022-10-04T21:06:56.115Z"
   },
   {
    "duration": 138,
    "start_time": "2022-10-04T21:06:56.200Z"
   },
   {
    "duration": 36090,
    "start_time": "2022-10-04T21:06:56.339Z"
   },
   {
    "duration": 0,
    "start_time": "2022-10-04T21:07:32.431Z"
   },
   {
    "duration": 0,
    "start_time": "2022-10-04T21:07:32.434Z"
   },
   {
    "duration": 0,
    "start_time": "2022-10-04T21:07:32.435Z"
   },
   {
    "duration": 0,
    "start_time": "2022-10-04T21:07:32.435Z"
   },
   {
    "duration": 4267,
    "start_time": "2022-10-04T21:07:48.171Z"
   },
   {
    "duration": 1157,
    "start_time": "2022-10-04T21:07:59.000Z"
   },
   {
    "duration": 363,
    "start_time": "2022-10-04T21:08:00.159Z"
   },
   {
    "duration": 33,
    "start_time": "2022-10-04T21:08:00.523Z"
   },
   {
    "duration": 147,
    "start_time": "2022-10-04T21:08:00.559Z"
   },
   {
    "duration": 248,
    "start_time": "2022-10-04T21:08:00.708Z"
   },
   {
    "duration": 82,
    "start_time": "2022-10-04T21:08:00.958Z"
   },
   {
    "duration": 112,
    "start_time": "2022-10-04T21:08:01.042Z"
   },
   {
    "duration": 0,
    "start_time": "2022-10-04T21:10:25.257Z"
   },
   {
    "duration": 0,
    "start_time": "2022-10-04T21:10:25.259Z"
   },
   {
    "duration": 0,
    "start_time": "2022-10-04T21:10:25.259Z"
   },
   {
    "duration": 0,
    "start_time": "2022-10-04T21:10:25.260Z"
   },
   {
    "duration": 0,
    "start_time": "2022-10-04T21:10:25.261Z"
   },
   {
    "duration": 13,
    "start_time": "2022-10-04T21:16:06.020Z"
   },
   {
    "duration": 37,
    "start_time": "2022-10-04T21:16:47.096Z"
   },
   {
    "duration": 465,
    "start_time": "2022-10-04T21:18:06.489Z"
   },
   {
    "duration": 401,
    "start_time": "2022-10-04T21:18:24.456Z"
   },
   {
    "duration": 248,
    "start_time": "2022-10-04T21:19:18.441Z"
   },
   {
    "duration": 465,
    "start_time": "2022-10-04T21:19:31.896Z"
   },
   {
    "duration": 280,
    "start_time": "2022-10-04T21:19:52.024Z"
   },
   {
    "duration": 355,
    "start_time": "2022-10-04T21:20:11.617Z"
   },
   {
    "duration": 277,
    "start_time": "2022-10-04T21:20:12.208Z"
   },
   {
    "duration": 319,
    "start_time": "2022-10-04T21:22:44.731Z"
   },
   {
    "duration": 307,
    "start_time": "2022-10-04T21:22:52.706Z"
   },
   {
    "duration": 303,
    "start_time": "2022-10-04T21:22:57.915Z"
   },
   {
    "duration": 16,
    "start_time": "2022-10-04T21:23:55.245Z"
   },
   {
    "duration": 51,
    "start_time": "2022-10-05T06:08:07.082Z"
   },
   {
    "duration": 1225,
    "start_time": "2022-10-05T06:08:12.484Z"
   },
   {
    "duration": 767,
    "start_time": "2022-10-05T06:08:13.711Z"
   },
   {
    "duration": 27,
    "start_time": "2022-10-05T06:08:14.479Z"
   },
   {
    "duration": 131,
    "start_time": "2022-10-05T06:08:14.508Z"
   },
   {
    "duration": 200,
    "start_time": "2022-10-05T06:08:14.641Z"
   },
   {
    "duration": 68,
    "start_time": "2022-10-05T06:08:14.843Z"
   },
   {
    "duration": 110,
    "start_time": "2022-10-05T06:08:14.913Z"
   },
   {
    "duration": 361,
    "start_time": "2022-10-05T06:08:15.034Z"
   },
   {
    "duration": 353,
    "start_time": "2022-10-05T06:08:15.397Z"
   },
   {
    "duration": 285,
    "start_time": "2022-10-05T06:08:15.752Z"
   },
   {
    "duration": 22,
    "start_time": "2022-10-05T06:08:16.039Z"
   },
   {
    "duration": 24,
    "start_time": "2022-10-05T06:08:16.063Z"
   },
   {
    "duration": 254,
    "start_time": "2022-10-05T06:08:16.089Z"
   },
   {
    "duration": 0,
    "start_time": "2022-10-05T06:08:16.345Z"
   },
   {
    "duration": 278,
    "start_time": "2022-10-05T06:10:03.377Z"
   },
   {
    "duration": 128,
    "start_time": "2022-10-05T06:11:56.173Z"
   },
   {
    "duration": 78,
    "start_time": "2022-10-05T06:12:11.705Z"
   },
   {
    "duration": 23,
    "start_time": "2022-10-05T06:12:47.995Z"
   },
   {
    "duration": 4,
    "start_time": "2022-10-05T06:12:54.835Z"
   },
   {
    "duration": 370,
    "start_time": "2022-10-05T06:12:54.841Z"
   },
   {
    "duration": 30,
    "start_time": "2022-10-05T06:12:55.213Z"
   },
   {
    "duration": 39,
    "start_time": "2022-10-05T06:12:55.245Z"
   },
   {
    "duration": 141,
    "start_time": "2022-10-05T06:12:55.286Z"
   },
   {
    "duration": 213,
    "start_time": "2022-10-05T06:12:55.429Z"
   },
   {
    "duration": 73,
    "start_time": "2022-10-05T06:12:55.644Z"
   },
   {
    "duration": 129,
    "start_time": "2022-10-05T06:12:55.719Z"
   },
   {
    "duration": 300,
    "start_time": "2022-10-05T06:12:55.850Z"
   },
   {
    "duration": 335,
    "start_time": "2022-10-05T06:12:56.152Z"
   },
   {
    "duration": 323,
    "start_time": "2022-10-05T06:12:56.490Z"
   },
   {
    "duration": 22,
    "start_time": "2022-10-05T06:12:56.815Z"
   },
   {
    "duration": 12,
    "start_time": "2022-10-05T06:12:56.839Z"
   },
   {
    "duration": 125,
    "start_time": "2022-10-05T06:12:56.852Z"
   },
   {
    "duration": 0,
    "start_time": "2022-10-05T06:12:56.979Z"
   },
   {
    "duration": 10,
    "start_time": "2022-10-05T06:18:59.864Z"
   },
   {
    "duration": 78,
    "start_time": "2022-10-05T06:24:47.928Z"
   },
   {
    "duration": 91,
    "start_time": "2022-10-05T06:24:53.526Z"
   },
   {
    "duration": 89,
    "start_time": "2022-10-05T06:25:42.593Z"
   },
   {
    "duration": 110,
    "start_time": "2022-10-05T06:26:24.883Z"
   },
   {
    "duration": 84,
    "start_time": "2022-10-05T06:26:29.048Z"
   },
   {
    "duration": 9,
    "start_time": "2022-10-05T06:27:00.673Z"
   },
   {
    "duration": 11,
    "start_time": "2022-10-05T06:27:07.454Z"
   },
   {
    "duration": 10,
    "start_time": "2022-10-05T06:27:48.453Z"
   },
   {
    "duration": 9,
    "start_time": "2022-10-05T06:27:54.380Z"
   },
   {
    "duration": 370,
    "start_time": "2022-10-05T06:30:31.821Z"
   },
   {
    "duration": 382,
    "start_time": "2022-10-05T06:30:47.837Z"
   },
   {
    "duration": 367,
    "start_time": "2022-10-05T06:31:02.120Z"
   },
   {
    "duration": 22,
    "start_time": "2022-10-05T06:31:05.099Z"
   },
   {
    "duration": 375,
    "start_time": "2022-10-05T06:32:31.250Z"
   },
   {
    "duration": 33,
    "start_time": "2022-10-05T06:32:53.391Z"
   },
   {
    "duration": 23,
    "start_time": "2022-10-05T06:33:11.347Z"
   },
   {
    "duration": 26,
    "start_time": "2022-10-05T06:33:53.239Z"
   },
   {
    "duration": 23,
    "start_time": "2022-10-05T06:34:03.724Z"
   },
   {
    "duration": 4,
    "start_time": "2022-10-05T06:34:31.765Z"
   },
   {
    "duration": 14,
    "start_time": "2022-10-05T06:36:17.560Z"
   },
   {
    "duration": 78,
    "start_time": "2022-10-05T06:36:59.814Z"
   },
   {
    "duration": 18,
    "start_time": "2022-10-05T06:37:06.215Z"
   },
   {
    "duration": 43,
    "start_time": "2022-10-05T06:37:51.539Z"
   },
   {
    "duration": 94,
    "start_time": "2022-10-05T06:38:13.489Z"
   },
   {
    "duration": 24,
    "start_time": "2022-10-05T06:38:26.107Z"
   },
   {
    "duration": 21,
    "start_time": "2022-10-05T06:38:47.909Z"
   },
   {
    "duration": 122,
    "start_time": "2022-10-05T06:39:19.043Z"
   },
   {
    "duration": 133,
    "start_time": "2022-10-05T06:39:39.745Z"
   },
   {
    "duration": 113,
    "start_time": "2022-10-05T06:40:10.697Z"
   },
   {
    "duration": 119,
    "start_time": "2022-10-05T06:40:17.008Z"
   },
   {
    "duration": 122,
    "start_time": "2022-10-05T06:40:36.073Z"
   },
   {
    "duration": 378,
    "start_time": "2022-10-05T06:41:23.605Z"
   },
   {
    "duration": 400,
    "start_time": "2022-10-05T06:41:33.032Z"
   },
   {
    "duration": 430,
    "start_time": "2022-10-05T06:41:46.567Z"
   },
   {
    "duration": 401,
    "start_time": "2022-10-05T06:42:04.401Z"
   },
   {
    "duration": 375,
    "start_time": "2022-10-05T06:42:17.662Z"
   },
   {
    "duration": 54,
    "start_time": "2022-10-05T06:43:31.947Z"
   },
   {
    "duration": 22,
    "start_time": "2022-10-05T06:43:39.557Z"
   },
   {
    "duration": 27,
    "start_time": "2022-10-05T06:44:33.435Z"
   },
   {
    "duration": 21,
    "start_time": "2022-10-05T06:44:50.755Z"
   },
   {
    "duration": 24,
    "start_time": "2022-10-05T06:45:08.711Z"
   },
   {
    "duration": 38,
    "start_time": "2022-10-05T06:45:20.489Z"
   },
   {
    "duration": 211,
    "start_time": "2022-10-05T06:46:12.153Z"
   },
   {
    "duration": 76,
    "start_time": "2022-10-05T06:46:28.475Z"
   },
   {
    "duration": 97,
    "start_time": "2022-10-05T06:46:34.825Z"
   },
   {
    "duration": 40,
    "start_time": "2022-10-05T06:47:57.409Z"
   },
   {
    "duration": 28,
    "start_time": "2022-10-05T06:48:05.100Z"
   },
   {
    "duration": 3,
    "start_time": "2022-10-05T07:10:12.607Z"
   },
   {
    "duration": 383,
    "start_time": "2022-10-05T07:10:12.612Z"
   },
   {
    "duration": 22,
    "start_time": "2022-10-05T07:10:12.997Z"
   },
   {
    "duration": 44,
    "start_time": "2022-10-05T07:10:13.034Z"
   },
   {
    "duration": 153,
    "start_time": "2022-10-05T07:10:13.080Z"
   },
   {
    "duration": 226,
    "start_time": "2022-10-05T07:10:13.235Z"
   },
   {
    "duration": 184,
    "start_time": "2022-10-05T07:10:13.462Z"
   },
   {
    "duration": 122,
    "start_time": "2022-10-05T07:10:13.648Z"
   },
   {
    "duration": 371,
    "start_time": "2022-10-05T07:10:13.772Z"
   },
   {
    "duration": 407,
    "start_time": "2022-10-05T07:10:14.145Z"
   },
   {
    "duration": 305,
    "start_time": "2022-10-05T07:10:14.554Z"
   },
   {
    "duration": 15,
    "start_time": "2022-10-05T07:10:14.860Z"
   },
   {
    "duration": 12,
    "start_time": "2022-10-05T07:10:14.877Z"
   },
   {
    "duration": 62,
    "start_time": "2022-10-05T07:10:14.890Z"
   },
   {
    "duration": 12,
    "start_time": "2022-10-05T07:14:36.248Z"
   },
   {
    "duration": 3,
    "start_time": "2022-10-05T07:14:41.291Z"
   },
   {
    "duration": 987,
    "start_time": "2022-10-05T07:14:42.076Z"
   },
   {
    "duration": 6,
    "start_time": "2022-10-05T07:16:04.951Z"
   },
   {
    "duration": 321,
    "start_time": "2022-10-05T07:16:09.826Z"
   },
   {
    "duration": 3,
    "start_time": "2022-10-05T07:17:28.333Z"
   },
   {
    "duration": 999,
    "start_time": "2022-10-05T07:17:30.648Z"
   },
   {
    "duration": 3,
    "start_time": "2022-10-05T07:19:11.886Z"
   },
   {
    "duration": 1098,
    "start_time": "2022-10-05T07:19:14.672Z"
   },
   {
    "duration": 3,
    "start_time": "2022-10-05T07:19:31.585Z"
   },
   {
    "duration": 952,
    "start_time": "2022-10-05T07:19:34.115Z"
   },
   {
    "duration": 4,
    "start_time": "2022-10-05T07:19:52.009Z"
   },
   {
    "duration": 1035,
    "start_time": "2022-10-05T07:19:53.136Z"
   },
   {
    "duration": 3,
    "start_time": "2022-10-05T07:20:18.535Z"
   },
   {
    "duration": 1043,
    "start_time": "2022-10-05T07:20:19.025Z"
   },
   {
    "duration": 4,
    "start_time": "2022-10-05T07:20:38.688Z"
   },
   {
    "duration": 1222,
    "start_time": "2022-10-05T07:20:39.056Z"
   },
   {
    "duration": 5267,
    "start_time": "2022-10-05T07:24:16.978Z"
   },
   {
    "duration": 1289,
    "start_time": "2022-10-05T07:37:21.609Z"
   },
   {
    "duration": 434,
    "start_time": "2022-10-05T07:37:22.900Z"
   },
   {
    "duration": 36,
    "start_time": "2022-10-05T07:37:23.337Z"
   },
   {
    "duration": 86,
    "start_time": "2022-10-05T07:37:23.374Z"
   },
   {
    "duration": 158,
    "start_time": "2022-10-05T07:37:23.464Z"
   },
   {
    "duration": 258,
    "start_time": "2022-10-05T07:37:23.624Z"
   },
   {
    "duration": 220,
    "start_time": "2022-10-05T07:37:23.883Z"
   },
   {
    "duration": 5,
    "start_time": "2022-10-05T07:37:24.106Z"
   },
   {
    "duration": 1084,
    "start_time": "2022-10-05T07:37:24.113Z"
   },
   {
    "duration": 1157,
    "start_time": "2022-10-05T07:38:36.544Z"
   },
   {
    "duration": 416,
    "start_time": "2022-10-05T07:38:37.703Z"
   },
   {
    "duration": 41,
    "start_time": "2022-10-05T07:38:38.120Z"
   },
   {
    "duration": 70,
    "start_time": "2022-10-05T07:38:38.164Z"
   },
   {
    "duration": 169,
    "start_time": "2022-10-05T07:38:38.236Z"
   },
   {
    "duration": 248,
    "start_time": "2022-10-05T07:38:38.406Z"
   },
   {
    "duration": 226,
    "start_time": "2022-10-05T07:38:38.659Z"
   },
   {
    "duration": 4,
    "start_time": "2022-10-05T07:38:38.886Z"
   },
   {
    "duration": 1134,
    "start_time": "2022-10-05T07:38:38.892Z"
   },
   {
    "duration": 358828,
    "start_time": "2022-10-05T07:38:40.029Z"
   },
   {
    "duration": 18,
    "start_time": "2022-10-05T07:44:38.860Z"
   },
   {
    "duration": 15,
    "start_time": "2022-10-05T07:44:38.880Z"
   },
   {
    "duration": 146,
    "start_time": "2022-10-05T07:44:38.897Z"
   },
   {
    "duration": 356743,
    "start_time": "2022-10-05T07:50:23.080Z"
   },
   {
    "duration": 5,
    "start_time": "2022-10-05T08:20:03.225Z"
   },
   {
    "duration": 4,
    "start_time": "2022-10-05T08:49:24.197Z"
   },
   {
    "duration": 1057,
    "start_time": "2022-10-05T08:49:24.709Z"
   },
   {
    "duration": 5246,
    "start_time": "2022-10-05T09:10:33.001Z"
   },
   {
    "duration": 5100,
    "start_time": "2022-10-05T09:10:49.218Z"
   },
   {
    "duration": 3589,
    "start_time": "2022-10-05T09:11:12.295Z"
   },
   {
    "duration": 5,
    "start_time": "2022-10-05T09:12:36.497Z"
   },
   {
    "duration": 14984,
    "start_time": "2022-10-05T09:12:43.408Z"
   },
   {
    "duration": 4,
    "start_time": "2022-10-05T09:13:11.956Z"
   },
   {
    "duration": 12172,
    "start_time": "2022-10-05T09:13:14.920Z"
   },
   {
    "duration": 5,
    "start_time": "2022-10-05T09:37:10.251Z"
   },
   {
    "duration": 3271,
    "start_time": "2022-10-05T09:37:10.776Z"
   },
   {
    "duration": 4,
    "start_time": "2022-10-05T09:37:59.864Z"
   },
   {
    "duration": 3514,
    "start_time": "2022-10-05T09:38:00.809Z"
   },
   {
    "duration": 4,
    "start_time": "2022-10-05T09:38:13.826Z"
   },
   {
    "duration": 11667,
    "start_time": "2022-10-05T09:38:14.385Z"
   },
   {
    "duration": 5,
    "start_time": "2022-10-05T09:40:10.161Z"
   },
   {
    "duration": 11851,
    "start_time": "2022-10-05T09:40:10.952Z"
   },
   {
    "duration": 4,
    "start_time": "2022-10-05T09:41:24.574Z"
   },
   {
    "duration": 11728,
    "start_time": "2022-10-05T09:41:25.105Z"
   },
   {
    "duration": 3524,
    "start_time": "2022-10-05T09:41:43.322Z"
   },
   {
    "duration": 3238,
    "start_time": "2022-10-05T09:41:52.632Z"
   },
   {
    "duration": 5,
    "start_time": "2022-10-05T09:42:25.431Z"
   },
   {
    "duration": 22467,
    "start_time": "2022-10-05T09:42:31.739Z"
   },
   {
    "duration": 5,
    "start_time": "2022-10-05T09:43:23.358Z"
   },
   {
    "duration": 22650,
    "start_time": "2022-10-05T09:43:23.854Z"
   },
   {
    "duration": 4,
    "start_time": "2022-10-05T09:44:40.199Z"
   },
   {
    "duration": 11894,
    "start_time": "2022-10-05T09:44:40.884Z"
   },
   {
    "duration": 4,
    "start_time": "2022-10-05T09:45:38.909Z"
   },
   {
    "duration": 11954,
    "start_time": "2022-10-05T09:45:39.851Z"
   },
   {
    "duration": 4,
    "start_time": "2022-10-05T09:46:11.285Z"
   },
   {
    "duration": 12079,
    "start_time": "2022-10-05T09:46:12.480Z"
   },
   {
    "duration": 85,
    "start_time": "2022-10-05T09:49:44.208Z"
   },
   {
    "duration": 345,
    "start_time": "2022-10-05T10:08:49.679Z"
   },
   {
    "duration": 58,
    "start_time": "2022-10-05T10:12:36.664Z"
   },
   {
    "duration": 6,
    "start_time": "2022-10-05T10:12:40.281Z"
   },
   {
    "duration": 11,
    "start_time": "2022-10-05T10:12:45.156Z"
   },
   {
    "duration": 15,
    "start_time": "2022-10-05T10:12:54.636Z"
   },
   {
    "duration": 98,
    "start_time": "2022-10-05T10:13:07.043Z"
   },
   {
    "duration": 13,
    "start_time": "2022-10-05T10:13:16.420Z"
   },
   {
    "duration": 13,
    "start_time": "2022-10-05T10:13:18.507Z"
   },
   {
    "duration": 12,
    "start_time": "2022-10-05T10:13:54.417Z"
   },
   {
    "duration": 29,
    "start_time": "2022-10-05T10:13:58.331Z"
   },
   {
    "duration": 15,
    "start_time": "2022-10-05T10:14:04.760Z"
   },
   {
    "duration": 10,
    "start_time": "2022-10-05T10:14:08.081Z"
   },
   {
    "duration": 18,
    "start_time": "2022-10-05T10:14:15.756Z"
   },
   {
    "duration": 16,
    "start_time": "2022-10-05T10:14:20.879Z"
   },
   {
    "duration": 6,
    "start_time": "2022-10-05T10:14:25.015Z"
   },
   {
    "duration": 3,
    "start_time": "2022-10-05T10:25:16.973Z"
   },
   {
    "duration": 24,
    "start_time": "2022-10-05T10:31:14.794Z"
   },
   {
    "duration": 10,
    "start_time": "2022-10-05T10:31:22.117Z"
   },
   {
    "duration": 4,
    "start_time": "2022-10-05T10:31:33.810Z"
   },
   {
    "duration": 4,
    "start_time": "2022-10-05T10:31:43.725Z"
   },
   {
    "duration": 4,
    "start_time": "2022-10-05T10:31:54.871Z"
   },
   {
    "duration": 4,
    "start_time": "2022-10-05T10:32:06.523Z"
   },
   {
    "duration": 28,
    "start_time": "2022-10-05T10:32:24.636Z"
   },
   {
    "duration": 5,
    "start_time": "2022-10-05T10:32:25.764Z"
   },
   {
    "duration": 4,
    "start_time": "2022-10-05T10:32:34.952Z"
   },
   {
    "duration": 123,
    "start_time": "2022-10-05T10:40:15.237Z"
   },
   {
    "duration": 4,
    "start_time": "2022-10-05T10:40:22.919Z"
   },
   {
    "duration": 4,
    "start_time": "2022-10-05T10:40:29.001Z"
   },
   {
    "duration": 51,
    "start_time": "2022-10-05T10:40:35.628Z"
   },
   {
    "duration": 7,
    "start_time": "2022-10-05T10:40:38.102Z"
   },
   {
    "duration": 3,
    "start_time": "2022-10-05T11:16:42.061Z"
   },
   {
    "duration": 22,
    "start_time": "2022-10-05T11:38:37.919Z"
   },
   {
    "duration": 1365,
    "start_time": "2022-10-05T11:54:15.655Z"
   },
   {
    "duration": 2476,
    "start_time": "2022-10-05T12:01:03.512Z"
   },
   {
    "duration": 87729,
    "start_time": "2022-10-05T12:07:41.316Z"
   },
   {
    "duration": 19,
    "start_time": "2022-10-05T12:50:57.882Z"
   },
   {
    "duration": 20,
    "start_time": "2022-10-05T12:52:32.068Z"
   },
   {
    "duration": 24,
    "start_time": "2022-10-05T12:53:03.559Z"
   },
   {
    "duration": 12,
    "start_time": "2022-10-05T12:54:36.855Z"
   },
   {
    "duration": 59,
    "start_time": "2022-10-05T12:54:45.784Z"
   },
   {
    "duration": 16,
    "start_time": "2022-10-05T13:05:44.542Z"
   },
   {
    "duration": 69,
    "start_time": "2022-10-05T13:07:40.063Z"
   },
   {
    "duration": 11,
    "start_time": "2022-10-05T13:07:42.701Z"
   },
   {
    "duration": 3,
    "start_time": "2022-10-05T13:07:53.924Z"
   },
   {
    "duration": 16,
    "start_time": "2022-10-05T13:07:53.929Z"
   },
   {
    "duration": 388,
    "start_time": "2022-10-05T13:07:53.958Z"
   },
   {
    "duration": 25,
    "start_time": "2022-10-05T13:07:54.348Z"
   },
   {
    "duration": 66,
    "start_time": "2022-10-05T13:07:54.375Z"
   },
   {
    "duration": 154,
    "start_time": "2022-10-05T13:07:54.443Z"
   },
   {
    "duration": 200,
    "start_time": "2022-10-05T13:07:54.600Z"
   },
   {
    "duration": 181,
    "start_time": "2022-10-05T13:07:54.801Z"
   },
   {
    "duration": 3,
    "start_time": "2022-10-05T13:07:54.983Z"
   },
   {
    "duration": 7,
    "start_time": "2022-10-05T13:07:54.987Z"
   },
   {
    "duration": 11872,
    "start_time": "2022-10-05T13:07:54.996Z"
   },
   {
    "duration": 4,
    "start_time": "2022-10-05T13:08:06.870Z"
   },
   {
    "duration": 22,
    "start_time": "2022-10-05T13:08:06.876Z"
   },
   {
    "duration": 13,
    "start_time": "2022-10-05T13:08:06.900Z"
   },
   {
    "duration": 8,
    "start_time": "2022-10-05T13:08:06.933Z"
   },
   {
    "duration": 175,
    "start_time": "2022-10-05T13:08:06.945Z"
   },
   {
    "duration": 5,
    "start_time": "2022-10-05T13:08:07.121Z"
   },
   {
    "duration": 36,
    "start_time": "2022-10-05T13:08:07.127Z"
   },
   {
    "duration": 204,
    "start_time": "2022-10-05T13:08:07.235Z"
   },
   {
    "duration": 192,
    "start_time": "2022-10-05T13:08:07.445Z"
   },
   {
    "duration": 201,
    "start_time": "2022-10-05T13:08:07.642Z"
   },
   {
    "duration": 20,
    "start_time": "2022-10-05T13:08:55.539Z"
   },
   {
    "duration": 6,
    "start_time": "2022-10-05T13:42:54.057Z"
   },
   {
    "duration": 11,
    "start_time": "2022-10-05T13:42:54.065Z"
   },
   {
    "duration": 433,
    "start_time": "2022-10-05T13:42:54.078Z"
   },
   {
    "duration": 30,
    "start_time": "2022-10-05T13:42:54.513Z"
   },
   {
    "duration": 55,
    "start_time": "2022-10-05T13:42:54.547Z"
   },
   {
    "duration": 154,
    "start_time": "2022-10-05T13:42:54.639Z"
   },
   {
    "duration": 239,
    "start_time": "2022-10-05T13:42:54.795Z"
   },
   {
    "duration": 229,
    "start_time": "2022-10-05T13:42:55.037Z"
   },
   {
    "duration": 3,
    "start_time": "2022-10-05T13:42:55.268Z"
   },
   {
    "duration": 12,
    "start_time": "2022-10-05T13:42:55.273Z"
   },
   {
    "duration": 11790,
    "start_time": "2022-10-05T13:42:55.287Z"
   },
   {
    "duration": 3,
    "start_time": "2022-10-05T13:43:07.080Z"
   },
   {
    "duration": 28,
    "start_time": "2022-10-05T13:43:07.085Z"
   },
   {
    "duration": 19,
    "start_time": "2022-10-05T13:43:07.115Z"
   },
   {
    "duration": 16,
    "start_time": "2022-10-05T13:43:07.136Z"
   },
   {
    "duration": 57,
    "start_time": "2022-10-05T13:43:07.154Z"
   },
   {
    "duration": 7,
    "start_time": "2022-10-05T13:43:07.213Z"
   },
   {
    "duration": 39,
    "start_time": "2022-10-05T13:43:07.222Z"
   },
   {
    "duration": 190,
    "start_time": "2022-10-05T13:43:07.264Z"
   },
   {
    "duration": 127,
    "start_time": "2022-10-05T13:43:07.533Z"
   },
   {
    "duration": 292,
    "start_time": "2022-10-05T13:43:07.663Z"
   },
   {
    "duration": 4,
    "start_time": "2022-10-05T13:44:23.052Z"
   },
   {
    "duration": 23,
    "start_time": "2022-10-05T13:44:23.058Z"
   },
   {
    "duration": 395,
    "start_time": "2022-10-05T13:44:23.083Z"
   },
   {
    "duration": 22,
    "start_time": "2022-10-05T13:44:23.480Z"
   },
   {
    "duration": 61,
    "start_time": "2022-10-05T13:44:23.504Z"
   },
   {
    "duration": 161,
    "start_time": "2022-10-05T13:44:23.567Z"
   },
   {
    "duration": 213,
    "start_time": "2022-10-05T13:44:23.733Z"
   },
   {
    "duration": 187,
    "start_time": "2022-10-05T13:44:23.948Z"
   },
   {
    "duration": 4,
    "start_time": "2022-10-05T13:44:24.137Z"
   },
   {
    "duration": 15,
    "start_time": "2022-10-05T13:44:24.144Z"
   },
   {
    "duration": 11503,
    "start_time": "2022-10-05T13:44:24.160Z"
   },
   {
    "duration": 4,
    "start_time": "2022-10-05T13:44:35.664Z"
   },
   {
    "duration": 25,
    "start_time": "2022-10-05T13:44:35.670Z"
   },
   {
    "duration": 15,
    "start_time": "2022-10-05T13:44:35.699Z"
   },
   {
    "duration": 19,
    "start_time": "2022-10-05T13:44:35.716Z"
   },
   {
    "duration": 142,
    "start_time": "2022-10-05T13:44:35.737Z"
   },
   {
    "duration": 4,
    "start_time": "2022-10-05T13:44:35.880Z"
   },
   {
    "duration": 54,
    "start_time": "2022-10-05T13:44:35.886Z"
   },
   {
    "duration": 192,
    "start_time": "2022-10-05T13:44:35.943Z"
   },
   {
    "duration": 131,
    "start_time": "2022-10-05T13:44:36.138Z"
   },
   {
    "duration": 272,
    "start_time": "2022-10-05T13:44:36.271Z"
   },
   {
    "duration": 10,
    "start_time": "2022-10-05T14:34:41.722Z"
   },
   {
    "duration": 3,
    "start_time": "2022-10-05T14:34:44.994Z"
   },
   {
    "duration": 17,
    "start_time": "2022-10-05T14:34:47.144Z"
   },
   {
    "duration": 4,
    "start_time": "2022-10-05T14:35:32.187Z"
   },
   {
    "duration": 3,
    "start_time": "2022-10-05T14:35:44.695Z"
   },
   {
    "duration": 734,
    "start_time": "2022-10-05T14:35:47.023Z"
   },
   {
    "duration": 793,
    "start_time": "2022-10-05T14:36:39.541Z"
   },
   {
    "duration": 3,
    "start_time": "2022-10-05T14:41:37.689Z"
   },
   {
    "duration": 777,
    "start_time": "2022-10-05T14:41:42.872Z"
   },
   {
    "duration": 900,
    "start_time": "2022-10-05T14:41:50.039Z"
   },
   {
    "duration": 3,
    "start_time": "2022-10-05T14:42:29.408Z"
   },
   {
    "duration": 696,
    "start_time": "2022-10-05T14:42:33.476Z"
   },
   {
    "duration": 608,
    "start_time": "2022-10-05T14:42:38.235Z"
   },
   {
    "duration": 823,
    "start_time": "2022-10-05T14:42:56.511Z"
   },
   {
    "duration": 908,
    "start_time": "2022-10-05T14:43:35.329Z"
   },
   {
    "duration": 734,
    "start_time": "2022-10-05T14:44:08.422Z"
   },
   {
    "duration": 823,
    "start_time": "2022-10-05T14:45:36.119Z"
   },
   {
    "duration": 1034,
    "start_time": "2022-10-05T14:46:04.511Z"
   },
   {
    "duration": 1052,
    "start_time": "2022-10-05T14:46:25.983Z"
   },
   {
    "duration": 4,
    "start_time": "2022-10-05T14:47:01.863Z"
   },
   {
    "duration": 12,
    "start_time": "2022-10-05T14:47:01.869Z"
   },
   {
    "duration": 429,
    "start_time": "2022-10-05T14:47:01.883Z"
   },
   {
    "duration": 23,
    "start_time": "2022-10-05T14:47:02.314Z"
   },
   {
    "duration": 51,
    "start_time": "2022-10-05T14:47:02.339Z"
   },
   {
    "duration": 150,
    "start_time": "2022-10-05T14:47:02.392Z"
   },
   {
    "duration": 235,
    "start_time": "2022-10-05T14:47:02.545Z"
   },
   {
    "duration": 181,
    "start_time": "2022-10-05T14:47:02.782Z"
   },
   {
    "duration": 3,
    "start_time": "2022-10-05T14:47:02.966Z"
   },
   {
    "duration": 9,
    "start_time": "2022-10-05T14:47:02.971Z"
   },
   {
    "duration": 11723,
    "start_time": "2022-10-05T14:47:02.981Z"
   },
   {
    "duration": 3,
    "start_time": "2022-10-05T14:47:14.707Z"
   },
   {
    "duration": 37,
    "start_time": "2022-10-05T14:47:14.712Z"
   },
   {
    "duration": 22,
    "start_time": "2022-10-05T14:47:14.751Z"
   },
   {
    "duration": 10,
    "start_time": "2022-10-05T14:47:14.774Z"
   },
   {
    "duration": 200,
    "start_time": "2022-10-05T14:47:14.786Z"
   },
   {
    "duration": 4,
    "start_time": "2022-10-05T14:47:14.987Z"
   },
   {
    "duration": 9,
    "start_time": "2022-10-05T14:47:14.992Z"
   },
   {
    "duration": 144,
    "start_time": "2022-10-05T14:47:15.003Z"
   },
   {
    "duration": 900,
    "start_time": "2022-10-05T14:47:15.157Z"
   },
   {
    "duration": 183,
    "start_time": "2022-10-05T14:47:16.060Z"
   },
   {
    "duration": 803,
    "start_time": "2022-10-05T14:47:16.246Z"
   },
   {
    "duration": 96,
    "start_time": "2022-10-05T14:47:17.056Z"
   },
   {
    "duration": 876,
    "start_time": "2022-10-05T14:47:17.157Z"
   },
   {
    "duration": 215,
    "start_time": "2022-10-05T14:47:18.036Z"
   },
   {
    "duration": 1112,
    "start_time": "2022-10-05T14:47:18.334Z"
   },
   {
    "duration": 4,
    "start_time": "2022-10-05T14:49:37.064Z"
   },
   {
    "duration": 10,
    "start_time": "2022-10-05T14:49:37.070Z"
   },
   {
    "duration": 382,
    "start_time": "2022-10-05T14:49:37.082Z"
   },
   {
    "duration": 22,
    "start_time": "2022-10-05T14:49:37.467Z"
   },
   {
    "duration": 71,
    "start_time": "2022-10-05T14:49:37.491Z"
   },
   {
    "duration": 154,
    "start_time": "2022-10-05T14:49:37.564Z"
   },
   {
    "duration": 237,
    "start_time": "2022-10-05T14:49:37.720Z"
   },
   {
    "duration": 221,
    "start_time": "2022-10-05T14:49:37.960Z"
   },
   {
    "duration": 3,
    "start_time": "2022-10-05T14:49:38.183Z"
   },
   {
    "duration": 9,
    "start_time": "2022-10-05T14:49:38.189Z"
   },
   {
    "duration": 11739,
    "start_time": "2022-10-05T14:49:38.200Z"
   },
   {
    "duration": 10,
    "start_time": "2022-10-05T14:49:49.942Z"
   },
   {
    "duration": 27,
    "start_time": "2022-10-05T14:49:49.954Z"
   },
   {
    "duration": 13,
    "start_time": "2022-10-05T14:49:49.983Z"
   },
   {
    "duration": 9,
    "start_time": "2022-10-05T14:49:49.998Z"
   },
   {
    "duration": 189,
    "start_time": "2022-10-05T14:49:50.008Z"
   },
   {
    "duration": 4,
    "start_time": "2022-10-05T14:49:50.199Z"
   },
   {
    "duration": 6,
    "start_time": "2022-10-05T14:49:50.204Z"
   },
   {
    "duration": 6,
    "start_time": "2022-10-05T14:49:50.211Z"
   },
   {
    "duration": 832,
    "start_time": "2022-10-05T14:49:50.219Z"
   },
   {
    "duration": 80,
    "start_time": "2022-10-05T14:49:51.054Z"
   },
   {
    "duration": 891,
    "start_time": "2022-10-05T14:49:51.142Z"
   },
   {
    "duration": 8,
    "start_time": "2022-10-05T14:49:52.035Z"
   },
   {
    "duration": 910,
    "start_time": "2022-10-05T14:49:52.045Z"
   },
   {
    "duration": 3,
    "start_time": "2022-10-05T14:49:53.033Z"
   },
   {
    "duration": 1198,
    "start_time": "2022-10-05T14:49:53.038Z"
   },
   {
    "duration": 4,
    "start_time": "2022-10-05T14:51:47.915Z"
   },
   {
    "duration": 3,
    "start_time": "2022-10-05T14:51:49.997Z"
   },
   {
    "duration": 845,
    "start_time": "2022-10-05T14:51:50.505Z"
   },
   {
    "duration": 1043,
    "start_time": "2022-10-05T14:51:57.092Z"
   },
   {
    "duration": 123,
    "start_time": "2022-10-05T14:52:17.742Z"
   },
   {
    "duration": 3,
    "start_time": "2022-10-05T14:52:19.322Z"
   },
   {
    "duration": 6,
    "start_time": "2022-10-05T14:52:20.238Z"
   },
   {
    "duration": 2,
    "start_time": "2022-10-05T14:52:22.796Z"
   },
   {
    "duration": 767,
    "start_time": "2022-10-05T14:52:23.082Z"
   },
   {
    "duration": 3,
    "start_time": "2022-10-05T14:52:24.416Z"
   },
   {
    "duration": 766,
    "start_time": "2022-10-05T14:52:24.777Z"
   },
   {
    "duration": 86,
    "start_time": "2022-10-05T14:52:25.549Z"
   },
   {
    "duration": 694,
    "start_time": "2022-10-05T14:52:26.058Z"
   },
   {
    "duration": 3,
    "start_time": "2022-10-05T14:52:28.171Z"
   },
   {
    "duration": 1017,
    "start_time": "2022-10-05T14:52:28.732Z"
   },
   {
    "duration": 18,
    "start_time": "2022-10-05T14:53:57.746Z"
   },
   {
    "duration": 748,
    "start_time": "2022-10-05T14:54:26.896Z"
   },
   {
    "duration": 13,
    "start_time": "2022-10-05T14:54:28.555Z"
   },
   {
    "duration": 13,
    "start_time": "2022-10-05T14:54:34.747Z"
   },
   {
    "duration": 17,
    "start_time": "2022-10-05T14:54:42.052Z"
   },
   {
    "duration": 16,
    "start_time": "2022-10-05T14:55:14.526Z"
   },
   {
    "duration": 22,
    "start_time": "2022-10-05T14:55:23.144Z"
   },
   {
    "duration": 10,
    "start_time": "2022-10-05T15:00:12.011Z"
   },
   {
    "duration": 11,
    "start_time": "2022-10-05T15:00:20.482Z"
   },
   {
    "duration": 9,
    "start_time": "2022-10-05T15:00:38.199Z"
   },
   {
    "duration": 6,
    "start_time": "2022-10-05T15:00:49.605Z"
   },
   {
    "duration": 10,
    "start_time": "2022-10-05T15:01:05.048Z"
   },
   {
    "duration": 4,
    "start_time": "2022-10-05T15:03:30.612Z"
   },
   {
    "duration": 823,
    "start_time": "2022-10-05T15:04:03.122Z"
   },
   {
    "duration": 735,
    "start_time": "2022-10-05T15:04:47.020Z"
   },
   {
    "duration": 813,
    "start_time": "2022-10-05T15:05:15.449Z"
   },
   {
    "duration": 1006,
    "start_time": "2022-10-05T15:06:58.529Z"
   },
   {
    "duration": 1055,
    "start_time": "2022-10-05T15:07:13.392Z"
   },
   {
    "duration": 1204,
    "start_time": "2022-10-05T15:07:19.543Z"
   },
   {
    "duration": 1026,
    "start_time": "2022-10-05T15:10:58.217Z"
   },
   {
    "duration": 1164,
    "start_time": "2022-10-05T15:11:47.670Z"
   },
   {
    "duration": 734,
    "start_time": "2022-10-05T15:15:46.818Z"
   },
   {
    "duration": 881,
    "start_time": "2022-10-05T15:15:48.553Z"
   },
   {
    "duration": 860,
    "start_time": "2022-10-05T15:16:01.277Z"
   },
   {
    "duration": 1139,
    "start_time": "2022-10-05T15:34:48.700Z"
   },
   {
    "duration": 3,
    "start_time": "2022-10-05T15:34:58.070Z"
   },
   {
    "duration": 853,
    "start_time": "2022-10-05T15:35:00.184Z"
   },
   {
    "duration": 874,
    "start_time": "2022-10-05T15:35:41.164Z"
   },
   {
    "duration": 739,
    "start_time": "2022-10-05T15:35:42.296Z"
   },
   {
    "duration": 905,
    "start_time": "2022-10-05T15:35:44.633Z"
   },
   {
    "duration": 45,
    "start_time": "2022-10-05T18:30:28.318Z"
   },
   {
    "duration": 1514,
    "start_time": "2022-10-05T18:30:32.792Z"
   },
   {
    "duration": 3,
    "start_time": "2022-10-05T18:30:34.308Z"
   },
   {
    "duration": 1864,
    "start_time": "2022-10-05T18:30:34.312Z"
   },
   {
    "duration": 26,
    "start_time": "2022-10-05T18:30:36.179Z"
   },
   {
    "duration": 37,
    "start_time": "2022-10-05T18:30:36.207Z"
   },
   {
    "duration": 158,
    "start_time": "2022-10-05T18:30:36.245Z"
   },
   {
    "duration": 6,
    "start_time": "2022-10-05T18:30:36.405Z"
   },
   {
    "duration": 203,
    "start_time": "2022-10-05T18:30:36.412Z"
   },
   {
    "duration": 277,
    "start_time": "2022-10-05T18:30:36.618Z"
   },
   {
    "duration": 205,
    "start_time": "2022-10-05T18:30:36.898Z"
   },
   {
    "duration": 3,
    "start_time": "2022-10-05T18:30:37.104Z"
   },
   {
    "duration": 7,
    "start_time": "2022-10-05T18:30:37.108Z"
   },
   {
    "duration": 10279,
    "start_time": "2022-10-05T18:30:37.116Z"
   },
   {
    "duration": 4,
    "start_time": "2022-10-05T18:30:47.397Z"
   },
   {
    "duration": 20,
    "start_time": "2022-10-05T18:30:47.402Z"
   },
   {
    "duration": 13,
    "start_time": "2022-10-05T18:30:47.423Z"
   },
   {
    "duration": 7,
    "start_time": "2022-10-05T18:30:47.437Z"
   },
   {
    "duration": 167,
    "start_time": "2022-10-05T18:30:47.445Z"
   },
   {
    "duration": 3,
    "start_time": "2022-10-05T18:30:47.614Z"
   },
   {
    "duration": 6,
    "start_time": "2022-10-05T18:30:47.619Z"
   },
   {
    "duration": 1071,
    "start_time": "2022-10-05T18:30:47.626Z"
   },
   {
    "duration": 1002,
    "start_time": "2022-10-05T18:30:48.703Z"
   },
   {
    "duration": 1087,
    "start_time": "2022-10-05T18:30:49.711Z"
   },
   {
    "duration": 1301,
    "start_time": "2022-10-05T18:30:50.804Z"
   },
   {
    "duration": 159,
    "start_time": "2022-10-05T18:30:55.640Z"
   },
   {
    "duration": 153,
    "start_time": "2022-10-05T18:31:04.975Z"
   },
   {
    "duration": 266,
    "start_time": "2022-10-05T18:31:13.257Z"
   },
   {
    "duration": 282,
    "start_time": "2022-10-05T18:31:16.888Z"
   },
   {
    "duration": 153,
    "start_time": "2022-10-05T18:31:23.319Z"
   },
   {
    "duration": 75,
    "start_time": "2022-10-05T18:31:54.294Z"
   },
   {
    "duration": 136,
    "start_time": "2022-10-05T18:32:26.425Z"
   },
   {
    "duration": 154,
    "start_time": "2022-10-05T18:32:37.097Z"
   },
   {
    "duration": 155,
    "start_time": "2022-10-05T18:32:43.978Z"
   },
   {
    "duration": 169,
    "start_time": "2022-10-05T18:33:12.393Z"
   },
   {
    "duration": 128,
    "start_time": "2022-10-05T18:33:19.836Z"
   },
   {
    "duration": 10,
    "start_time": "2022-10-05T18:33:27.804Z"
   },
   {
    "duration": 171,
    "start_time": "2022-10-05T18:33:36.715Z"
   },
   {
    "duration": 13,
    "start_time": "2022-10-05T18:35:42.444Z"
   },
   {
    "duration": 7,
    "start_time": "2022-10-05T18:35:52.187Z"
   },
   {
    "duration": 82,
    "start_time": "2022-10-05T18:37:25.572Z"
   },
   {
    "duration": 94,
    "start_time": "2022-10-05T18:37:40.156Z"
   },
   {
    "duration": 81,
    "start_time": "2022-10-05T18:38:18.685Z"
   },
   {
    "duration": 78,
    "start_time": "2022-10-05T18:38:42.175Z"
   },
   {
    "duration": 4,
    "start_time": "2022-10-05T18:40:01.050Z"
   },
   {
    "duration": 27,
    "start_time": "2022-10-05T18:40:01.056Z"
   },
   {
    "duration": 376,
    "start_time": "2022-10-05T18:40:01.085Z"
   },
   {
    "duration": 33,
    "start_time": "2022-10-05T18:40:01.463Z"
   },
   {
    "duration": 41,
    "start_time": "2022-10-05T18:40:01.498Z"
   },
   {
    "duration": 155,
    "start_time": "2022-10-05T18:40:01.541Z"
   },
   {
    "duration": 6,
    "start_time": "2022-10-05T18:40:01.697Z"
   },
   {
    "duration": 169,
    "start_time": "2022-10-05T18:40:01.705Z"
   },
   {
    "duration": 203,
    "start_time": "2022-10-05T18:40:01.877Z"
   },
   {
    "duration": 197,
    "start_time": "2022-10-05T18:40:02.082Z"
   },
   {
    "duration": 15,
    "start_time": "2022-10-05T18:40:02.281Z"
   },
   {
    "duration": 6,
    "start_time": "2022-10-05T18:40:02.298Z"
   },
   {
    "duration": 10278,
    "start_time": "2022-10-05T18:40:02.305Z"
   },
   {
    "duration": 10,
    "start_time": "2022-10-05T18:40:12.585Z"
   },
   {
    "duration": 22,
    "start_time": "2022-10-05T18:40:12.597Z"
   },
   {
    "duration": 13,
    "start_time": "2022-10-05T18:40:12.621Z"
   },
   {
    "duration": 13,
    "start_time": "2022-10-05T18:40:12.636Z"
   },
   {
    "duration": 185,
    "start_time": "2022-10-05T18:40:12.650Z"
   },
   {
    "duration": 4,
    "start_time": "2022-10-05T18:40:12.838Z"
   },
   {
    "duration": 18,
    "start_time": "2022-10-05T18:40:12.844Z"
   },
   {
    "duration": 939,
    "start_time": "2022-10-05T18:40:12.864Z"
   },
   {
    "duration": 991,
    "start_time": "2022-10-05T18:40:13.805Z"
   },
   {
    "duration": 904,
    "start_time": "2022-10-05T18:40:14.799Z"
   },
   {
    "duration": 1297,
    "start_time": "2022-10-05T18:40:15.706Z"
   },
   {
    "duration": 7,
    "start_time": "2022-10-05T18:41:27.047Z"
   },
   {
    "duration": 9,
    "start_time": "2022-10-05T18:41:32.534Z"
   },
   {
    "duration": 13,
    "start_time": "2022-10-05T18:41:37.735Z"
   },
   {
    "duration": 13,
    "start_time": "2022-10-05T18:41:50.575Z"
   },
   {
    "duration": 10,
    "start_time": "2022-10-05T18:48:19.468Z"
   },
   {
    "duration": 230,
    "start_time": "2022-10-05T18:48:46.899Z"
   },
   {
    "duration": 350,
    "start_time": "2022-10-05T18:48:53.231Z"
   },
   {
    "duration": 223,
    "start_time": "2022-10-05T18:49:04.325Z"
   },
   {
    "duration": 241,
    "start_time": "2022-10-05T18:51:30.959Z"
   },
   {
    "duration": 230,
    "start_time": "2022-10-05T18:51:40.623Z"
   },
   {
    "duration": 106,
    "start_time": "2022-10-05T18:51:54.710Z"
   },
   {
    "duration": 224,
    "start_time": "2022-10-05T18:52:00.272Z"
   },
   {
    "duration": 224,
    "start_time": "2022-10-05T18:52:10.160Z"
   },
   {
    "duration": 203,
    "start_time": "2022-10-05T18:52:21.255Z"
   },
   {
    "duration": 249,
    "start_time": "2022-10-05T18:52:30.671Z"
   },
   {
    "duration": 217,
    "start_time": "2022-10-05T18:52:35.760Z"
   },
   {
    "duration": 364,
    "start_time": "2022-10-05T18:52:53.424Z"
   },
   {
    "duration": 256,
    "start_time": "2022-10-05T18:52:58.568Z"
   },
   {
    "duration": 302,
    "start_time": "2022-10-05T18:53:06.520Z"
   },
   {
    "duration": 253,
    "start_time": "2022-10-05T18:53:10.096Z"
   },
   {
    "duration": 232,
    "start_time": "2022-10-05T18:53:35.228Z"
   },
   {
    "duration": 1391,
    "start_time": "2022-10-05T18:53:45.890Z"
   },
   {
    "duration": 3,
    "start_time": "2022-10-05T18:53:47.283Z"
   },
   {
    "duration": 354,
    "start_time": "2022-10-05T18:53:47.287Z"
   },
   {
    "duration": 24,
    "start_time": "2022-10-05T18:53:47.643Z"
   },
   {
    "duration": 52,
    "start_time": "2022-10-05T18:53:47.669Z"
   },
   {
    "duration": 146,
    "start_time": "2022-10-05T18:53:47.722Z"
   },
   {
    "duration": 10,
    "start_time": "2022-10-05T18:53:47.870Z"
   },
   {
    "duration": 275,
    "start_time": "2022-10-05T18:53:47.882Z"
   },
   {
    "duration": 199,
    "start_time": "2022-10-05T18:53:48.158Z"
   },
   {
    "duration": 184,
    "start_time": "2022-10-05T18:53:48.358Z"
   },
   {
    "duration": 2,
    "start_time": "2022-10-05T18:53:48.544Z"
   },
   {
    "duration": 6,
    "start_time": "2022-10-05T18:53:48.547Z"
   },
   {
    "duration": 10550,
    "start_time": "2022-10-05T18:53:48.554Z"
   },
   {
    "duration": 4,
    "start_time": "2022-10-05T18:53:59.107Z"
   },
   {
    "duration": 17,
    "start_time": "2022-10-05T18:53:59.113Z"
   },
   {
    "duration": 11,
    "start_time": "2022-10-05T18:53:59.132Z"
   },
   {
    "duration": 9,
    "start_time": "2022-10-05T18:53:59.145Z"
   },
   {
    "duration": 175,
    "start_time": "2022-10-05T18:53:59.155Z"
   },
   {
    "duration": 4,
    "start_time": "2022-10-05T18:53:59.332Z"
   },
   {
    "duration": 5,
    "start_time": "2022-10-05T18:53:59.337Z"
   },
   {
    "duration": 851,
    "start_time": "2022-10-05T18:53:59.344Z"
   },
   {
    "duration": 1006,
    "start_time": "2022-10-05T18:54:00.197Z"
   },
   {
    "duration": 1095,
    "start_time": "2022-10-05T18:54:01.205Z"
   },
   {
    "duration": 1202,
    "start_time": "2022-10-05T18:54:02.302Z"
   },
   {
    "duration": 377,
    "start_time": "2022-10-05T18:54:41.650Z"
   },
   {
    "duration": 344,
    "start_time": "2022-10-05T18:56:47.707Z"
   },
   {
    "duration": 506,
    "start_time": "2022-10-05T18:57:40.300Z"
   },
   {
    "duration": 308,
    "start_time": "2022-10-05T18:57:56.428Z"
   },
   {
    "duration": 251,
    "start_time": "2022-10-05T18:58:26.934Z"
   },
   {
    "duration": 356,
    "start_time": "2022-10-05T18:58:41.100Z"
   },
   {
    "duration": 365,
    "start_time": "2022-10-05T19:00:12.990Z"
   },
   {
    "duration": 366,
    "start_time": "2022-10-05T19:00:28.630Z"
   },
   {
    "duration": 511,
    "start_time": "2022-10-05T19:00:40.742Z"
   },
   {
    "duration": 417,
    "start_time": "2022-10-05T19:00:53.478Z"
   },
   {
    "duration": 395,
    "start_time": "2022-10-05T19:00:57.990Z"
   },
   {
    "duration": 422,
    "start_time": "2022-10-05T19:01:32.783Z"
   },
   {
    "duration": 400,
    "start_time": "2022-10-05T19:01:43.830Z"
   },
   {
    "duration": 470,
    "start_time": "2022-10-05T19:01:57.143Z"
   },
   {
    "duration": 411,
    "start_time": "2022-10-05T19:02:01.270Z"
   },
   {
    "duration": 393,
    "start_time": "2022-10-05T19:02:08.110Z"
   },
   {
    "duration": 464,
    "start_time": "2022-10-05T19:02:13.638Z"
   },
   {
    "duration": 411,
    "start_time": "2022-10-05T19:02:21.551Z"
   },
   {
    "duration": 407,
    "start_time": "2022-10-05T19:02:31.783Z"
   },
   {
    "duration": 535,
    "start_time": "2022-10-05T19:03:41.881Z"
   },
   {
    "duration": 473,
    "start_time": "2022-10-05T19:03:46.615Z"
   },
   {
    "duration": 411,
    "start_time": "2022-10-05T19:03:56.129Z"
   },
   {
    "duration": 436,
    "start_time": "2022-10-05T19:04:02.703Z"
   },
   {
    "duration": 363,
    "start_time": "2022-10-05T19:05:24.065Z"
   },
   {
    "duration": 528,
    "start_time": "2022-10-05T19:05:46.002Z"
   },
   {
    "duration": 403,
    "start_time": "2022-10-05T19:05:51.810Z"
   },
   {
    "duration": 445,
    "start_time": "2022-10-05T19:06:16.779Z"
   },
   {
    "duration": 409,
    "start_time": "2022-10-05T19:06:28.435Z"
   },
   {
    "duration": 423,
    "start_time": "2022-10-05T19:07:04.372Z"
   },
   {
    "duration": 422,
    "start_time": "2022-10-05T19:07:39.843Z"
   },
   {
    "duration": 547,
    "start_time": "2022-10-05T19:09:20.453Z"
   },
   {
    "duration": 399,
    "start_time": "2022-10-05T19:09:30.069Z"
   },
   {
    "duration": 409,
    "start_time": "2022-10-05T19:09:35.188Z"
   },
   {
    "duration": 409,
    "start_time": "2022-10-05T19:09:39.764Z"
   },
   {
    "duration": 415,
    "start_time": "2022-10-05T19:09:44.949Z"
   },
   {
    "duration": 535,
    "start_time": "2022-10-05T19:09:53.581Z"
   },
   {
    "duration": 455,
    "start_time": "2022-10-05T19:10:02.876Z"
   },
   {
    "duration": 5,
    "start_time": "2022-10-05T19:12:02.302Z"
   },
   {
    "duration": 323,
    "start_time": "2022-10-05T19:12:03.054Z"
   },
   {
    "duration": 5,
    "start_time": "2022-10-05T19:12:34.789Z"
   },
   {
    "duration": 322,
    "start_time": "2022-10-05T19:12:45.686Z"
   },
   {
    "duration": 4,
    "start_time": "2022-10-05T19:13:01.727Z"
   },
   {
    "duration": 326,
    "start_time": "2022-10-05T19:13:02.071Z"
   },
   {
    "duration": 5,
    "start_time": "2022-10-05T19:13:53.671Z"
   },
   {
    "duration": 5,
    "start_time": "2022-10-05T19:14:41.920Z"
   },
   {
    "duration": 324,
    "start_time": "2022-10-05T19:14:42.608Z"
   },
   {
    "duration": 47,
    "start_time": "2022-10-05T19:15:46.165Z"
   },
   {
    "duration": 8,
    "start_time": "2022-10-05T19:16:00.269Z"
   },
   {
    "duration": 1416,
    "start_time": "2022-10-05T19:16:48.958Z"
   },
   {
    "duration": 4,
    "start_time": "2022-10-05T19:16:55.881Z"
   },
   {
    "duration": 8,
    "start_time": "2022-10-05T19:16:55.888Z"
   },
   {
    "duration": 376,
    "start_time": "2022-10-05T19:16:55.898Z"
   },
   {
    "duration": 32,
    "start_time": "2022-10-05T19:16:56.276Z"
   },
   {
    "duration": 38,
    "start_time": "2022-10-05T19:16:56.310Z"
   },
   {
    "duration": 155,
    "start_time": "2022-10-05T19:16:56.350Z"
   },
   {
    "duration": 14,
    "start_time": "2022-10-05T19:16:56.506Z"
   },
   {
    "duration": 516,
    "start_time": "2022-10-05T19:16:56.523Z"
   },
   {
    "duration": 210,
    "start_time": "2022-10-05T19:16:57.041Z"
   },
   {
    "duration": 191,
    "start_time": "2022-10-05T19:16:57.252Z"
   },
   {
    "duration": 2,
    "start_time": "2022-10-05T19:16:57.445Z"
   },
   {
    "duration": 349,
    "start_time": "2022-10-05T19:16:57.449Z"
   },
   {
    "duration": 5,
    "start_time": "2022-10-05T19:16:57.799Z"
   },
   {
    "duration": 10342,
    "start_time": "2022-10-05T19:16:57.805Z"
   },
   {
    "duration": 3,
    "start_time": "2022-10-05T19:17:08.149Z"
   },
   {
    "duration": 21,
    "start_time": "2022-10-05T19:17:08.154Z"
   },
   {
    "duration": 18,
    "start_time": "2022-10-05T19:17:08.177Z"
   },
   {
    "duration": 7,
    "start_time": "2022-10-05T19:17:08.197Z"
   },
   {
    "duration": 148,
    "start_time": "2022-10-05T19:17:08.206Z"
   },
   {
    "duration": 3,
    "start_time": "2022-10-05T19:17:08.356Z"
   },
   {
    "duration": 7,
    "start_time": "2022-10-05T19:17:08.361Z"
   },
   {
    "duration": 934,
    "start_time": "2022-10-05T19:17:08.370Z"
   },
   {
    "duration": 907,
    "start_time": "2022-10-05T19:17:09.396Z"
   },
   {
    "duration": 997,
    "start_time": "2022-10-05T19:17:10.306Z"
   },
   {
    "duration": 1299,
    "start_time": "2022-10-05T19:17:11.305Z"
   },
   {
    "duration": 4,
    "start_time": "2022-10-05T19:18:51.456Z"
   },
   {
    "duration": 10387,
    "start_time": "2022-10-05T19:18:52.055Z"
   },
   {
    "duration": 3,
    "start_time": "2022-10-05T19:35:24.343Z"
   },
   {
    "duration": 825,
    "start_time": "2022-10-05T19:35:32.073Z"
   },
   {
    "duration": 4,
    "start_time": "2022-10-05T19:46:45.773Z"
   },
   {
    "duration": 75,
    "start_time": "2022-10-05T19:47:26.316Z"
   },
   {
    "duration": 806,
    "start_time": "2022-10-05T19:47:50.790Z"
   },
   {
    "duration": 763,
    "start_time": "2022-10-05T19:48:12.140Z"
   },
   {
    "duration": 792,
    "start_time": "2022-10-05T19:48:27.204Z"
   },
   {
    "duration": 4,
    "start_time": "2022-10-05T19:52:25.569Z"
   },
   {
    "duration": 809,
    "start_time": "2022-10-05T19:52:27.391Z"
   },
   {
    "duration": 81,
    "start_time": "2022-10-05T19:53:10.489Z"
   },
   {
    "duration": 88,
    "start_time": "2022-10-05T19:53:48.137Z"
   },
   {
    "duration": 3,
    "start_time": "2022-10-05T19:55:44.954Z"
   },
   {
    "duration": 94,
    "start_time": "2022-10-05T19:55:51.345Z"
   },
   {
    "duration": 836,
    "start_time": "2022-10-05T19:56:06.258Z"
   },
   {
    "duration": 4,
    "start_time": "2022-10-05T19:58:08.820Z"
   },
   {
    "duration": 757,
    "start_time": "2022-10-05T19:58:10.348Z"
   },
   {
    "duration": 774,
    "start_time": "2022-10-05T19:59:44.924Z"
   },
   {
    "duration": 3,
    "start_time": "2022-10-05T20:01:15.246Z"
   },
   {
    "duration": 818,
    "start_time": "2022-10-05T20:01:16.487Z"
   },
   {
    "duration": 4,
    "start_time": "2022-10-05T20:02:12.831Z"
   },
   {
    "duration": 787,
    "start_time": "2022-10-05T20:02:14.214Z"
   },
   {
    "duration": 4,
    "start_time": "2022-10-05T20:03:11.559Z"
   },
   {
    "duration": 753,
    "start_time": "2022-10-05T20:03:15.352Z"
   },
   {
    "duration": 5,
    "start_time": "2022-10-05T20:03:40.448Z"
   },
   {
    "duration": 1003,
    "start_time": "2022-10-05T20:03:41.504Z"
   },
   {
    "duration": 840,
    "start_time": "2022-10-05T20:04:58.857Z"
   },
   {
    "duration": 837,
    "start_time": "2022-10-05T20:05:02.465Z"
   },
   {
    "duration": 4,
    "start_time": "2022-10-05T20:06:03.946Z"
   },
   {
    "duration": 807,
    "start_time": "2022-10-05T20:06:05.089Z"
   },
   {
    "duration": 1086,
    "start_time": "2022-10-05T20:07:29.819Z"
   },
   {
    "duration": 1353,
    "start_time": "2022-10-05T20:07:43.120Z"
   },
   {
    "duration": 4,
    "start_time": "2022-10-05T20:07:44.475Z"
   },
   {
    "duration": 363,
    "start_time": "2022-10-05T20:07:44.480Z"
   },
   {
    "duration": 27,
    "start_time": "2022-10-05T20:07:44.845Z"
   },
   {
    "duration": 53,
    "start_time": "2022-10-05T20:07:44.874Z"
   },
   {
    "duration": 152,
    "start_time": "2022-10-05T20:07:44.928Z"
   },
   {
    "duration": 18,
    "start_time": "2022-10-05T20:07:45.082Z"
   },
   {
    "duration": 431,
    "start_time": "2022-10-05T20:07:45.101Z"
   },
   {
    "duration": 210,
    "start_time": "2022-10-05T20:07:45.534Z"
   },
   {
    "duration": 176,
    "start_time": "2022-10-05T20:07:45.747Z"
   },
   {
    "duration": 3,
    "start_time": "2022-10-05T20:07:45.924Z"
   },
   {
    "duration": 18,
    "start_time": "2022-10-05T20:07:45.928Z"
   },
   {
    "duration": 10118,
    "start_time": "2022-10-05T20:07:45.948Z"
   },
   {
    "duration": 4,
    "start_time": "2022-10-05T20:07:56.067Z"
   },
   {
    "duration": 28,
    "start_time": "2022-10-05T20:07:56.072Z"
   },
   {
    "duration": 12,
    "start_time": "2022-10-05T20:07:56.101Z"
   },
   {
    "duration": 8,
    "start_time": "2022-10-05T20:07:56.114Z"
   },
   {
    "duration": 161,
    "start_time": "2022-10-05T20:07:56.124Z"
   },
   {
    "duration": 9,
    "start_time": "2022-10-05T20:07:56.287Z"
   },
   {
    "duration": 4,
    "start_time": "2022-10-05T20:07:56.297Z"
   },
   {
    "duration": 793,
    "start_time": "2022-10-05T20:07:56.303Z"
   },
   {
    "duration": 1005,
    "start_time": "2022-10-05T20:07:57.097Z"
   },
   {
    "duration": 1094,
    "start_time": "2022-10-05T20:07:58.104Z"
   },
   {
    "duration": 1204,
    "start_time": "2022-10-05T20:07:59.200Z"
   },
   {
    "duration": 3,
    "start_time": "2022-10-05T20:08:49.093Z"
   },
   {
    "duration": 744,
    "start_time": "2022-10-05T20:08:50.355Z"
   },
   {
    "duration": 830,
    "start_time": "2022-10-05T20:09:41.068Z"
   },
   {
    "duration": 734,
    "start_time": "2022-10-05T20:10:33.469Z"
   },
   {
    "duration": 906,
    "start_time": "2022-10-05T20:11:02.693Z"
   },
   {
    "duration": 4,
    "start_time": "2022-10-05T20:12:20.607Z"
   },
   {
    "duration": 1020,
    "start_time": "2022-10-05T20:12:22.093Z"
   },
   {
    "duration": 5,
    "start_time": "2022-10-05T20:12:39.622Z"
   },
   {
    "duration": 832,
    "start_time": "2022-10-05T20:12:40.765Z"
   },
   {
    "duration": 5,
    "start_time": "2022-10-05T20:13:24.751Z"
   },
   {
    "duration": 733,
    "start_time": "2022-10-05T20:13:26.365Z"
   },
   {
    "duration": 5,
    "start_time": "2022-10-05T20:13:31.742Z"
   },
   {
    "duration": 644,
    "start_time": "2022-10-05T20:13:32.654Z"
   },
   {
    "duration": 761,
    "start_time": "2022-10-05T20:13:35.134Z"
   },
   {
    "duration": 765,
    "start_time": "2022-10-05T20:13:38.838Z"
   },
   {
    "duration": 1087,
    "start_time": "2022-10-05T20:13:44.214Z"
   },
   {
    "duration": 7,
    "start_time": "2022-10-05T20:37:51.560Z"
   },
   {
    "duration": 10,
    "start_time": "2022-10-05T20:38:41.569Z"
   },
   {
    "duration": 9,
    "start_time": "2022-10-05T20:38:47.153Z"
   },
   {
    "duration": 8,
    "start_time": "2022-10-05T20:38:54.338Z"
   },
   {
    "duration": 8,
    "start_time": "2022-10-05T20:41:03.082Z"
   },
   {
    "duration": 8,
    "start_time": "2022-10-05T20:41:17.444Z"
   },
   {
    "duration": 16,
    "start_time": "2022-10-05T20:42:07.283Z"
   },
   {
    "duration": 10,
    "start_time": "2022-10-05T20:42:20.916Z"
   },
   {
    "duration": 8,
    "start_time": "2022-10-05T20:43:09.589Z"
   },
   {
    "duration": 7,
    "start_time": "2022-10-05T20:43:19.293Z"
   },
   {
    "duration": 10,
    "start_time": "2022-10-05T20:43:50.821Z"
   },
   {
    "duration": 8,
    "start_time": "2022-10-05T20:45:41.406Z"
   },
   {
    "duration": 7,
    "start_time": "2022-10-05T20:46:12.351Z"
   },
   {
    "duration": 8,
    "start_time": "2022-10-05T20:46:44.174Z"
   },
   {
    "duration": 7,
    "start_time": "2022-10-05T20:47:08.664Z"
   },
   {
    "duration": 6,
    "start_time": "2022-10-05T20:47:13.896Z"
   },
   {
    "duration": 8,
    "start_time": "2022-10-05T20:47:32.536Z"
   },
   {
    "duration": 7,
    "start_time": "2022-10-05T20:48:04.752Z"
   },
   {
    "duration": 8,
    "start_time": "2022-10-05T20:50:38.482Z"
   },
   {
    "duration": 8,
    "start_time": "2022-10-05T20:51:42.331Z"
   },
   {
    "duration": 10,
    "start_time": "2022-10-05T20:52:59.165Z"
   },
   {
    "duration": 78,
    "start_time": "2022-10-06T05:56:49.095Z"
   },
   {
    "duration": 40,
    "start_time": "2022-10-06T05:56:53.704Z"
   },
   {
    "duration": 1469,
    "start_time": "2022-10-06T05:56:58.779Z"
   },
   {
    "duration": 3,
    "start_time": "2022-10-06T05:57:00.250Z"
   },
   {
    "duration": 927,
    "start_time": "2022-10-06T05:57:00.254Z"
   },
   {
    "duration": 25,
    "start_time": "2022-10-06T05:57:01.183Z"
   },
   {
    "duration": 49,
    "start_time": "2022-10-06T05:57:01.210Z"
   },
   {
    "duration": 147,
    "start_time": "2022-10-06T05:57:01.261Z"
   },
   {
    "duration": 34,
    "start_time": "2022-10-06T05:57:01.410Z"
   },
   {
    "duration": 438,
    "start_time": "2022-10-06T05:57:01.446Z"
   },
   {
    "duration": 192,
    "start_time": "2022-10-06T05:57:01.886Z"
   },
   {
    "duration": 195,
    "start_time": "2022-10-06T05:57:02.081Z"
   },
   {
    "duration": 3,
    "start_time": "2022-10-06T05:57:02.277Z"
   },
   {
    "duration": 11,
    "start_time": "2022-10-06T05:57:02.282Z"
   },
   {
    "duration": 10445,
    "start_time": "2022-10-06T05:57:02.294Z"
   },
   {
    "duration": 4,
    "start_time": "2022-10-06T05:57:12.740Z"
   },
   {
    "duration": 18,
    "start_time": "2022-10-06T05:57:12.746Z"
   },
   {
    "duration": 11,
    "start_time": "2022-10-06T05:57:12.765Z"
   },
   {
    "duration": 8,
    "start_time": "2022-10-06T05:57:12.778Z"
   },
   {
    "duration": 183,
    "start_time": "2022-10-06T05:57:12.787Z"
   },
   {
    "duration": 5,
    "start_time": "2022-10-06T05:57:12.971Z"
   },
   {
    "duration": 24,
    "start_time": "2022-10-06T05:57:12.977Z"
   },
   {
    "duration": 1140,
    "start_time": "2022-10-06T05:57:13.003Z"
   },
   {
    "duration": 98,
    "start_time": "2022-10-06T05:57:14.235Z"
   },
   {
    "duration": 1007,
    "start_time": "2022-10-06T05:57:14.336Z"
   },
   {
    "duration": 194,
    "start_time": "2022-10-06T05:57:15.439Z"
   },
   {
    "duration": 1004,
    "start_time": "2022-10-06T05:57:15.636Z"
   },
   {
    "duration": 98,
    "start_time": "2022-10-06T05:57:16.642Z"
   },
   {
    "duration": 1308,
    "start_time": "2022-10-06T05:57:16.742Z"
   },
   {
    "duration": 102,
    "start_time": "2022-10-06T05:57:18.137Z"
   },
   {
    "duration": 118,
    "start_time": "2022-10-06T05:57:18.242Z"
   },
   {
    "duration": 79,
    "start_time": "2022-10-06T05:57:18.363Z"
   },
   {
    "duration": 13,
    "start_time": "2022-10-06T06:24:06.137Z"
   },
   {
    "duration": 81,
    "start_time": "2022-10-06T06:24:50.325Z"
   },
   {
    "duration": 13,
    "start_time": "2022-10-06T06:25:21.633Z"
   },
   {
    "duration": 11,
    "start_time": "2022-10-06T06:25:51.699Z"
   },
   {
    "duration": 6,
    "start_time": "2022-10-06T07:03:08.076Z"
   },
   {
    "duration": 15,
    "start_time": "2022-10-06T07:16:22.794Z"
   },
   {
    "duration": 4,
    "start_time": "2022-10-06T07:16:26.796Z"
   },
   {
    "duration": 63,
    "start_time": "2022-10-06T07:16:27.242Z"
   },
   {
    "duration": 4,
    "start_time": "2022-10-06T07:16:35.322Z"
   },
   {
    "duration": 4,
    "start_time": "2022-10-06T07:38:02.746Z"
   },
   {
    "duration": 5,
    "start_time": "2022-10-06T07:38:35.205Z"
   },
   {
    "duration": 5,
    "start_time": "2022-10-06T07:43:24.453Z"
   },
   {
    "duration": 57,
    "start_time": "2022-10-06T07:43:39.572Z"
   },
   {
    "duration": 9,
    "start_time": "2022-10-06T07:43:46.108Z"
   },
   {
    "duration": 14,
    "start_time": "2022-10-06T07:43:49.011Z"
   },
   {
    "duration": 26,
    "start_time": "2022-10-06T07:44:17.942Z"
   },
   {
    "duration": 47,
    "start_time": "2022-10-06T07:50:10.320Z"
   },
   {
    "duration": 19,
    "start_time": "2022-10-06T07:50:20.389Z"
   },
   {
    "duration": 8,
    "start_time": "2022-10-06T08:12:21.365Z"
   },
   {
    "duration": 5,
    "start_time": "2022-10-06T08:12:24.544Z"
   },
   {
    "duration": 3,
    "start_time": "2022-10-06T08:13:31.588Z"
   },
   {
    "duration": 4,
    "start_time": "2022-10-06T08:13:32.212Z"
   },
   {
    "duration": 3,
    "start_time": "2022-10-06T08:14:24.998Z"
   },
   {
    "duration": 3,
    "start_time": "2022-10-06T08:14:25.783Z"
   },
   {
    "duration": 3,
    "start_time": "2022-10-06T08:38:45.220Z"
   },
   {
    "duration": 3,
    "start_time": "2022-10-06T08:38:45.898Z"
   },
   {
    "duration": 24,
    "start_time": "2022-10-06T08:38:48.077Z"
   },
   {
    "duration": 3,
    "start_time": "2022-10-06T08:39:13.216Z"
   },
   {
    "duration": 5,
    "start_time": "2022-10-06T08:39:13.688Z"
   },
   {
    "duration": 26,
    "start_time": "2022-10-06T08:39:14.329Z"
   },
   {
    "duration": 5,
    "start_time": "2022-10-06T08:43:19.186Z"
   },
   {
    "duration": 9,
    "start_time": "2022-10-06T08:43:30.281Z"
   },
   {
    "duration": 5,
    "start_time": "2022-10-06T08:43:38.746Z"
   },
   {
    "duration": 6,
    "start_time": "2022-10-06T08:43:41.645Z"
   },
   {
    "duration": 5,
    "start_time": "2022-10-06T08:43:45.945Z"
   },
   {
    "duration": 9,
    "start_time": "2022-10-06T08:45:23.622Z"
   },
   {
    "duration": 12,
    "start_time": "2022-10-06T08:46:17.132Z"
   },
   {
    "duration": 11,
    "start_time": "2022-10-06T08:46:35.808Z"
   },
   {
    "duration": 11,
    "start_time": "2022-10-06T08:47:21.259Z"
   },
   {
    "duration": 6,
    "start_time": "2022-10-06T08:47:27.550Z"
   },
   {
    "duration": 13,
    "start_time": "2022-10-06T08:47:44.726Z"
   },
   {
    "duration": 4,
    "start_time": "2022-10-06T08:47:54.633Z"
   },
   {
    "duration": 4,
    "start_time": "2022-10-06T09:00:02.552Z"
   },
   {
    "duration": 68,
    "start_time": "2022-10-06T09:00:02.558Z"
   },
   {
    "duration": 426,
    "start_time": "2022-10-06T09:00:02.627Z"
   },
   {
    "duration": 25,
    "start_time": "2022-10-06T09:00:03.055Z"
   },
   {
    "duration": 147,
    "start_time": "2022-10-06T09:00:03.082Z"
   },
   {
    "duration": 145,
    "start_time": "2022-10-06T09:00:03.231Z"
   },
   {
    "duration": 10,
    "start_time": "2022-10-06T09:00:03.378Z"
   },
   {
    "duration": 473,
    "start_time": "2022-10-06T09:00:03.390Z"
   },
   {
    "duration": 211,
    "start_time": "2022-10-06T09:00:03.866Z"
   },
   {
    "duration": 188,
    "start_time": "2022-10-06T09:00:04.079Z"
   },
   {
    "duration": 3,
    "start_time": "2022-10-06T09:00:04.269Z"
   },
   {
    "duration": 14,
    "start_time": "2022-10-06T09:00:04.274Z"
   },
   {
    "duration": 11118,
    "start_time": "2022-10-06T09:00:04.289Z"
   },
   {
    "duration": 4,
    "start_time": "2022-10-06T09:00:15.409Z"
   },
   {
    "duration": 37,
    "start_time": "2022-10-06T09:00:15.414Z"
   },
   {
    "duration": 12,
    "start_time": "2022-10-06T09:00:15.453Z"
   },
   {
    "duration": 8,
    "start_time": "2022-10-06T09:00:15.467Z"
   },
   {
    "duration": 174,
    "start_time": "2022-10-06T09:00:15.477Z"
   },
   {
    "duration": 10,
    "start_time": "2022-10-06T09:00:15.653Z"
   },
   {
    "duration": 7,
    "start_time": "2022-10-06T09:00:15.664Z"
   },
   {
    "duration": 8,
    "start_time": "2022-10-06T09:00:15.672Z"
   },
   {
    "duration": 755,
    "start_time": "2022-10-06T09:00:15.681Z"
   },
   {
    "duration": 17,
    "start_time": "2022-10-06T09:00:16.441Z"
   },
   {
    "duration": 791,
    "start_time": "2022-10-06T09:00:16.461Z"
   },
   {
    "duration": 106,
    "start_time": "2022-10-06T09:00:17.254Z"
   },
   {
    "duration": 727,
    "start_time": "2022-10-06T09:00:17.435Z"
   },
   {
    "duration": 74,
    "start_time": "2022-10-06T09:00:18.164Z"
   },
   {
    "duration": 1308,
    "start_time": "2022-10-06T09:00:18.239Z"
   },
   {
    "duration": 89,
    "start_time": "2022-10-06T09:00:19.550Z"
   },
   {
    "duration": 122,
    "start_time": "2022-10-06T09:00:19.643Z"
   },
   {
    "duration": 174,
    "start_time": "2022-10-06T09:00:19.767Z"
   },
   {
    "duration": 212,
    "start_time": "2022-10-06T09:00:19.943Z"
   },
   {
    "duration": 13,
    "start_time": "2022-10-06T09:00:20.157Z"
   },
   {
    "duration": 26,
    "start_time": "2022-10-06T09:00:20.172Z"
   },
   {
    "duration": 5,
    "start_time": "2022-10-06T09:06:02.229Z"
   },
   {
    "duration": 11,
    "start_time": "2022-10-06T09:06:12.187Z"
   },
   {
    "duration": 12,
    "start_time": "2022-10-06T09:07:57.650Z"
   },
   {
    "duration": 5,
    "start_time": "2022-10-06T09:08:05.618Z"
   },
   {
    "duration": 5,
    "start_time": "2022-10-06T09:08:19.386Z"
   },
   {
    "duration": 12,
    "start_time": "2022-10-06T09:10:20.693Z"
   },
   {
    "duration": 6,
    "start_time": "2022-10-06T09:10:26.612Z"
   },
   {
    "duration": 4,
    "start_time": "2022-10-06T09:10:33.397Z"
   },
   {
    "duration": 5,
    "start_time": "2022-10-06T09:14:31.393Z"
   },
   {
    "duration": 8,
    "start_time": "2022-10-06T09:14:44.612Z"
   },
   {
    "duration": 4,
    "start_time": "2022-10-06T09:14:49.572Z"
   },
   {
    "duration": 4,
    "start_time": "2022-10-06T09:15:02.373Z"
   },
   {
    "duration": 5,
    "start_time": "2022-10-06T09:15:09.155Z"
   },
   {
    "duration": 30,
    "start_time": "2022-10-06T09:15:48.221Z"
   },
   {
    "duration": 7,
    "start_time": "2022-10-06T11:27:25.549Z"
   },
   {
    "duration": 16,
    "start_time": "2022-10-06T11:31:53.030Z"
   },
   {
    "duration": 3,
    "start_time": "2022-10-06T11:31:56.520Z"
   },
   {
    "duration": 13,
    "start_time": "2022-10-06T11:31:57.116Z"
   },
   {
    "duration": 21,
    "start_time": "2022-10-06T11:33:20.128Z"
   },
   {
    "duration": 46,
    "start_time": "2022-10-06T11:36:20.563Z"
   },
   {
    "duration": 38,
    "start_time": "2022-10-06T11:36:27.209Z"
   },
   {
    "duration": 38,
    "start_time": "2022-10-06T11:36:34.636Z"
   },
   {
    "duration": 52,
    "start_time": "2022-10-06T11:36:58.153Z"
   },
   {
    "duration": 60,
    "start_time": "2022-10-06T11:37:14.697Z"
   },
   {
    "duration": 3,
    "start_time": "2022-10-06T11:37:43.354Z"
   },
   {
    "duration": 10,
    "start_time": "2022-10-06T11:37:43.359Z"
   },
   {
    "duration": 387,
    "start_time": "2022-10-06T11:37:43.370Z"
   },
   {
    "duration": 22,
    "start_time": "2022-10-06T11:37:43.760Z"
   },
   {
    "duration": 66,
    "start_time": "2022-10-06T11:37:43.783Z"
   },
   {
    "duration": 155,
    "start_time": "2022-10-06T11:37:43.850Z"
   },
   {
    "duration": 11,
    "start_time": "2022-10-06T11:37:44.006Z"
   },
   {
    "duration": 578,
    "start_time": "2022-10-06T11:37:44.018Z"
   },
   {
    "duration": 215,
    "start_time": "2022-10-06T11:37:44.598Z"
   },
   {
    "duration": 193,
    "start_time": "2022-10-06T11:37:44.815Z"
   },
   {
    "duration": 2,
    "start_time": "2022-10-06T11:37:45.010Z"
   },
   {
    "duration": 41,
    "start_time": "2022-10-06T11:37:45.014Z"
   },
   {
    "duration": 11543,
    "start_time": "2022-10-06T11:37:45.057Z"
   },
   {
    "duration": 5,
    "start_time": "2022-10-06T11:37:56.602Z"
   },
   {
    "duration": 33,
    "start_time": "2022-10-06T11:37:56.609Z"
   },
   {
    "duration": 16,
    "start_time": "2022-10-06T11:37:56.645Z"
   },
   {
    "duration": 8,
    "start_time": "2022-10-06T11:37:56.663Z"
   },
   {
    "duration": 190,
    "start_time": "2022-10-06T11:37:56.673Z"
   },
   {
    "duration": 10,
    "start_time": "2022-10-06T11:37:56.865Z"
   },
   {
    "duration": 6,
    "start_time": "2022-10-06T11:37:56.876Z"
   },
   {
    "duration": 5,
    "start_time": "2022-10-06T11:37:56.884Z"
   },
   {
    "duration": 861,
    "start_time": "2022-10-06T11:37:56.891Z"
   },
   {
    "duration": 103,
    "start_time": "2022-10-06T11:37:57.755Z"
   },
   {
    "duration": 888,
    "start_time": "2022-10-06T11:37:57.864Z"
   },
   {
    "duration": 92,
    "start_time": "2022-10-06T11:37:58.756Z"
   },
   {
    "duration": 995,
    "start_time": "2022-10-06T11:37:58.855Z"
   },
   {
    "duration": 100,
    "start_time": "2022-10-06T11:37:59.852Z"
   },
   {
    "duration": 1287,
    "start_time": "2022-10-06T11:37:59.955Z"
   },
   {
    "duration": 13,
    "start_time": "2022-10-06T11:38:01.244Z"
   },
   {
    "duration": 139,
    "start_time": "2022-10-06T11:38:01.334Z"
   },
   {
    "duration": 183,
    "start_time": "2022-10-06T11:38:01.477Z"
   },
   {
    "duration": 192,
    "start_time": "2022-10-06T11:38:01.662Z"
   },
   {
    "duration": 8,
    "start_time": "2022-10-06T11:38:01.855Z"
   },
   {
    "duration": 60,
    "start_time": "2022-10-06T11:38:01.865Z"
   },
   {
    "duration": 3,
    "start_time": "2022-10-06T11:39:16.954Z"
   },
   {
    "duration": 41,
    "start_time": "2022-10-06T11:39:17.484Z"
   },
   {
    "duration": 25,
    "start_time": "2022-10-06T11:42:06.130Z"
   },
   {
    "duration": 23,
    "start_time": "2022-10-06T11:42:20.534Z"
   },
   {
    "duration": 36,
    "start_time": "2022-10-06T11:42:42.346Z"
   },
   {
    "duration": 20,
    "start_time": "2022-10-06T11:42:55.104Z"
   },
   {
    "duration": 24,
    "start_time": "2022-10-06T11:42:59.444Z"
   },
   {
    "duration": 21,
    "start_time": "2022-10-06T11:43:04.933Z"
   },
   {
    "duration": 15,
    "start_time": "2022-10-06T11:43:13.182Z"
   },
   {
    "duration": 19,
    "start_time": "2022-10-06T11:45:43.129Z"
   },
   {
    "duration": 12,
    "start_time": "2022-10-06T11:46:00.977Z"
   },
   {
    "duration": 801,
    "start_time": "2022-10-06T11:46:09.849Z"
   },
   {
    "duration": 6,
    "start_time": "2022-10-06T11:47:10.154Z"
   },
   {
    "duration": 4,
    "start_time": "2022-10-06T11:47:27.450Z"
   },
   {
    "duration": 8,
    "start_time": "2022-10-06T11:47:46.248Z"
   },
   {
    "duration": 12,
    "start_time": "2022-10-06T11:47:56.251Z"
   },
   {
    "duration": 5,
    "start_time": "2022-10-06T11:48:31.758Z"
   },
   {
    "duration": 31,
    "start_time": "2022-10-06T11:59:17.770Z"
   },
   {
    "duration": 32,
    "start_time": "2022-10-06T11:59:24.857Z"
   },
   {
    "duration": 31,
    "start_time": "2022-10-06T11:59:32.741Z"
   },
   {
    "duration": 31,
    "start_time": "2022-10-06T11:59:35.750Z"
   },
   {
    "duration": 34,
    "start_time": "2022-10-06T11:59:40.137Z"
   },
   {
    "duration": 31,
    "start_time": "2022-10-06T11:59:48.422Z"
   },
   {
    "duration": 1009,
    "start_time": "2022-10-06T12:04:59.925Z"
   },
   {
    "duration": 1351,
    "start_time": "2022-10-06T12:06:13.052Z"
   },
   {
    "duration": 3,
    "start_time": "2022-10-06T12:06:14.405Z"
   },
   {
    "duration": 401,
    "start_time": "2022-10-06T12:06:14.409Z"
   },
   {
    "duration": 27,
    "start_time": "2022-10-06T12:06:14.812Z"
   },
   {
    "duration": 38,
    "start_time": "2022-10-06T12:06:14.841Z"
   },
   {
    "duration": 157,
    "start_time": "2022-10-06T12:06:14.880Z"
   },
   {
    "duration": 10,
    "start_time": "2022-10-06T12:06:15.039Z"
   },
   {
    "duration": 485,
    "start_time": "2022-10-06T12:06:15.050Z"
   },
   {
    "duration": 10,
    "start_time": "2022-10-06T12:06:15.536Z"
   },
   {
    "duration": 221,
    "start_time": "2022-10-06T12:06:15.549Z"
   },
   {
    "duration": 179,
    "start_time": "2022-10-06T12:06:15.772Z"
   },
   {
    "duration": 2,
    "start_time": "2022-10-06T12:06:15.953Z"
   },
   {
    "duration": 7,
    "start_time": "2022-10-06T12:06:15.956Z"
   },
   {
    "duration": 10244,
    "start_time": "2022-10-06T12:06:15.964Z"
   },
   {
    "duration": 5,
    "start_time": "2022-10-06T12:06:26.210Z"
   },
   {
    "duration": 33,
    "start_time": "2022-10-06T12:06:26.217Z"
   },
   {
    "duration": 13,
    "start_time": "2022-10-06T12:06:26.253Z"
   },
   {
    "duration": 13,
    "start_time": "2022-10-06T12:06:26.268Z"
   },
   {
    "duration": 202,
    "start_time": "2022-10-06T12:06:26.283Z"
   },
   {
    "duration": 10,
    "start_time": "2022-10-06T12:06:26.487Z"
   },
   {
    "duration": 6,
    "start_time": "2022-10-06T12:06:26.499Z"
   },
   {
    "duration": 6,
    "start_time": "2022-10-06T12:06:26.507Z"
   },
   {
    "duration": 922,
    "start_time": "2022-10-06T12:06:26.515Z"
   },
   {
    "duration": 99,
    "start_time": "2022-10-06T12:06:27.439Z"
   },
   {
    "duration": 1094,
    "start_time": "2022-10-06T12:06:27.540Z"
   },
   {
    "duration": 97,
    "start_time": "2022-10-06T12:06:28.637Z"
   },
   {
    "duration": 1095,
    "start_time": "2022-10-06T12:06:28.737Z"
   },
   {
    "duration": 100,
    "start_time": "2022-10-06T12:06:29.838Z"
   },
   {
    "duration": 1313,
    "start_time": "2022-10-06T12:06:29.940Z"
   },
   {
    "duration": 99,
    "start_time": "2022-10-06T12:06:31.336Z"
   },
   {
    "duration": 103,
    "start_time": "2022-10-06T12:06:31.437Z"
   },
   {
    "duration": 102,
    "start_time": "2022-10-06T12:06:31.542Z"
   },
   {
    "duration": 99,
    "start_time": "2022-10-06T12:06:31.735Z"
   },
   {
    "duration": 6,
    "start_time": "2022-10-06T12:06:31.836Z"
   },
   {
    "duration": 13,
    "start_time": "2022-10-06T12:06:31.844Z"
   },
   {
    "duration": 43,
    "start_time": "2022-10-06T12:06:31.858Z"
   },
   {
    "duration": 372,
    "start_time": "2022-10-06T12:11:12.371Z"
   },
   {
    "duration": 21,
    "start_time": "2022-10-06T12:11:13.021Z"
   },
   {
    "duration": 10,
    "start_time": "2022-10-06T12:20:58.431Z"
   },
   {
    "duration": 10,
    "start_time": "2022-10-06T12:21:05.282Z"
   },
   {
    "duration": 11,
    "start_time": "2022-10-06T12:21:11.661Z"
   },
   {
    "duration": 6,
    "start_time": "2022-10-06T12:21:17.564Z"
   },
   {
    "duration": 6,
    "start_time": "2022-10-06T12:21:23.587Z"
   },
   {
    "duration": 115,
    "start_time": "2022-10-06T12:21:50.706Z"
   },
   {
    "duration": 9,
    "start_time": "2022-10-06T12:21:55.260Z"
   },
   {
    "duration": 5,
    "start_time": "2022-10-06T12:42:38.919Z"
   },
   {
    "duration": 6,
    "start_time": "2022-10-06T12:47:11.137Z"
   },
   {
    "duration": 0,
    "start_time": "2022-10-06T12:57:53.156Z"
   },
   {
    "duration": 0,
    "start_time": "2022-10-06T12:57:53.157Z"
   },
   {
    "duration": 4,
    "start_time": "2022-10-06T12:58:01.443Z"
   },
   {
    "duration": 17,
    "start_time": "2022-10-06T12:58:05.170Z"
   },
   {
    "duration": 169,
    "start_time": "2022-10-06T12:59:38.733Z"
   },
   {
    "duration": 9,
    "start_time": "2022-10-06T13:01:38.750Z"
   },
   {
    "duration": 3,
    "start_time": "2022-10-06T13:01:45.047Z"
   },
   {
    "duration": 9,
    "start_time": "2022-10-06T13:01:45.404Z"
   },
   {
    "duration": 48,
    "start_time": "2022-10-06T13:03:24.875Z"
   },
   {
    "duration": 11,
    "start_time": "2022-10-06T13:03:38.703Z"
   },
   {
    "duration": 4,
    "start_time": "2022-10-06T13:03:48.679Z"
   },
   {
    "duration": 17,
    "start_time": "2022-10-06T13:03:49.859Z"
   },
   {
    "duration": 4,
    "start_time": "2022-10-06T13:04:24.813Z"
   },
   {
    "duration": 11,
    "start_time": "2022-10-06T13:04:24.819Z"
   },
   {
    "duration": 375,
    "start_time": "2022-10-06T13:04:24.851Z"
   },
   {
    "duration": 24,
    "start_time": "2022-10-06T13:04:25.228Z"
   },
   {
    "duration": 42,
    "start_time": "2022-10-06T13:04:25.253Z"
   },
   {
    "duration": 138,
    "start_time": "2022-10-06T13:04:25.297Z"
   },
   {
    "duration": 11,
    "start_time": "2022-10-06T13:04:25.437Z"
   },
   {
    "duration": 422,
    "start_time": "2022-10-06T13:04:25.450Z"
   },
   {
    "duration": 190,
    "start_time": "2022-10-06T13:04:25.873Z"
   },
   {
    "duration": 194,
    "start_time": "2022-10-06T13:04:26.065Z"
   },
   {
    "duration": 3,
    "start_time": "2022-10-06T13:04:26.262Z"
   },
   {
    "duration": 10,
    "start_time": "2022-10-06T13:04:26.267Z"
   },
   {
    "duration": 10423,
    "start_time": "2022-10-06T13:04:26.280Z"
   },
   {
    "duration": 3,
    "start_time": "2022-10-06T13:04:36.705Z"
   },
   {
    "duration": 30,
    "start_time": "2022-10-06T13:04:36.709Z"
   },
   {
    "duration": 12,
    "start_time": "2022-10-06T13:04:36.742Z"
   },
   {
    "duration": 6,
    "start_time": "2022-10-06T13:04:36.756Z"
   },
   {
    "duration": 169,
    "start_time": "2022-10-06T13:04:36.764Z"
   },
   {
    "duration": 11,
    "start_time": "2022-10-06T13:04:36.935Z"
   },
   {
    "duration": 8,
    "start_time": "2022-10-06T13:04:36.947Z"
   },
   {
    "duration": 5,
    "start_time": "2022-10-06T13:04:36.957Z"
   },
   {
    "duration": 873,
    "start_time": "2022-10-06T13:04:36.964Z"
   },
   {
    "duration": 96,
    "start_time": "2022-10-06T13:04:37.839Z"
   },
   {
    "duration": 116,
    "start_time": "2022-10-06T13:04:37.937Z"
   },
   {
    "duration": 0,
    "start_time": "2022-10-06T13:04:38.055Z"
   },
   {
    "duration": 0,
    "start_time": "2022-10-06T13:04:38.056Z"
   },
   {
    "duration": 0,
    "start_time": "2022-10-06T13:04:38.057Z"
   },
   {
    "duration": 0,
    "start_time": "2022-10-06T13:04:38.058Z"
   },
   {
    "duration": 0,
    "start_time": "2022-10-06T13:04:38.060Z"
   },
   {
    "duration": 0,
    "start_time": "2022-10-06T13:04:38.061Z"
   },
   {
    "duration": 0,
    "start_time": "2022-10-06T13:04:38.062Z"
   },
   {
    "duration": 0,
    "start_time": "2022-10-06T13:04:38.063Z"
   },
   {
    "duration": 0,
    "start_time": "2022-10-06T13:04:38.064Z"
   },
   {
    "duration": 0,
    "start_time": "2022-10-06T13:04:38.065Z"
   },
   {
    "duration": 0,
    "start_time": "2022-10-06T13:04:38.065Z"
   },
   {
    "duration": 0,
    "start_time": "2022-10-06T13:04:38.066Z"
   },
   {
    "duration": 0,
    "start_time": "2022-10-06T13:04:38.067Z"
   },
   {
    "duration": 0,
    "start_time": "2022-10-06T13:04:38.068Z"
   },
   {
    "duration": 0,
    "start_time": "2022-10-06T13:04:38.069Z"
   },
   {
    "duration": 4,
    "start_time": "2022-10-06T13:04:40.542Z"
   },
   {
    "duration": 17,
    "start_time": "2022-10-06T13:04:41.136Z"
   },
   {
    "duration": 4,
    "start_time": "2022-10-06T13:06:45.487Z"
   },
   {
    "duration": 2,
    "start_time": "2022-10-06T13:06:56.029Z"
   },
   {
    "duration": 12,
    "start_time": "2022-10-06T13:07:18.419Z"
   },
   {
    "duration": 8,
    "start_time": "2022-10-06T13:07:54.272Z"
   },
   {
    "duration": 8,
    "start_time": "2022-10-06T13:08:21.176Z"
   },
   {
    "duration": 4,
    "start_time": "2022-10-06T13:08:28.474Z"
   },
   {
    "duration": 16,
    "start_time": "2022-10-06T13:08:31.832Z"
   },
   {
    "duration": 8,
    "start_time": "2022-10-06T13:08:38.100Z"
   },
   {
    "duration": 16,
    "start_time": "2022-10-06T13:09:47.440Z"
   },
   {
    "duration": 4,
    "start_time": "2022-10-06T13:09:57.414Z"
   },
   {
    "duration": 987,
    "start_time": "2022-10-06T13:09:59.049Z"
   },
   {
    "duration": 923,
    "start_time": "2022-10-06T13:10:42.714Z"
   },
   {
    "duration": 1053,
    "start_time": "2022-10-06T13:12:00.785Z"
   },
   {
    "duration": 15,
    "start_time": "2022-10-06T13:12:37.392Z"
   },
   {
    "duration": 964,
    "start_time": "2022-10-06T13:13:10.070Z"
   },
   {
    "duration": 1108,
    "start_time": "2022-10-06T13:14:24.044Z"
   },
   {
    "duration": 94,
    "start_time": "2022-10-06T13:15:56.287Z"
   },
   {
    "duration": 4,
    "start_time": "2022-10-06T13:17:02.326Z"
   },
   {
    "duration": 3,
    "start_time": "2022-10-06T13:17:30.110Z"
   },
   {
    "duration": 4,
    "start_time": "2022-10-06T13:17:37.116Z"
   },
   {
    "duration": 863,
    "start_time": "2022-10-06T13:17:39.174Z"
   },
   {
    "duration": 916,
    "start_time": "2022-10-06T13:18:07.823Z"
   },
   {
    "duration": 914,
    "start_time": "2022-10-06T13:18:12.130Z"
   },
   {
    "duration": 4,
    "start_time": "2022-10-06T13:20:08.208Z"
   },
   {
    "duration": 865,
    "start_time": "2022-10-06T13:20:09.072Z"
   },
   {
    "duration": 4,
    "start_time": "2022-10-06T13:22:11.008Z"
   },
   {
    "duration": 949,
    "start_time": "2022-10-06T13:22:14.088Z"
   },
   {
    "duration": 4,
    "start_time": "2022-10-06T13:22:24.442Z"
   },
   {
    "duration": 5,
    "start_time": "2022-10-06T13:39:32.631Z"
   },
   {
    "duration": 14,
    "start_time": "2022-10-06T13:39:33.220Z"
   },
   {
    "duration": 106,
    "start_time": "2022-10-06T13:44:36.930Z"
   },
   {
    "duration": 70,
    "start_time": "2022-10-06T13:48:23.965Z"
   },
   {
    "duration": 84,
    "start_time": "2022-10-06T13:49:06.054Z"
   },
   {
    "duration": 4,
    "start_time": "2022-10-06T13:51:01.276Z"
   },
   {
    "duration": 5,
    "start_time": "2022-10-06T13:51:02.020Z"
   },
   {
    "duration": 9,
    "start_time": "2022-10-06T13:51:16.749Z"
   },
   {
    "duration": 10,
    "start_time": "2022-10-06T13:57:34.209Z"
   },
   {
    "duration": 4,
    "start_time": "2022-10-06T13:57:40.535Z"
   },
   {
    "duration": 9,
    "start_time": "2022-10-06T13:57:41.050Z"
   },
   {
    "duration": 52,
    "start_time": "2022-10-06T13:57:59.759Z"
   },
   {
    "duration": 182,
    "start_time": "2022-10-06T13:59:50.358Z"
   },
   {
    "duration": 16,
    "start_time": "2022-10-06T14:00:54.402Z"
   },
   {
    "duration": 12,
    "start_time": "2022-10-06T14:01:23.417Z"
   },
   {
    "duration": 8,
    "start_time": "2022-10-06T14:01:37.033Z"
   },
   {
    "duration": 6,
    "start_time": "2022-10-06T14:01:43.014Z"
   },
   {
    "duration": 6,
    "start_time": "2022-10-06T14:01:49.645Z"
   },
   {
    "duration": 6,
    "start_time": "2022-10-06T14:01:58.571Z"
   },
   {
    "duration": 13,
    "start_time": "2022-10-06T14:02:07.288Z"
   },
   {
    "duration": 16,
    "start_time": "2022-10-06T14:03:19.002Z"
   },
   {
    "duration": 10,
    "start_time": "2022-10-06T14:04:21.154Z"
   },
   {
    "duration": 10,
    "start_time": "2022-10-06T14:05:13.436Z"
   },
   {
    "duration": 4,
    "start_time": "2022-10-06T14:05:27.982Z"
   },
   {
    "duration": 202,
    "start_time": "2022-10-06T14:05:28.333Z"
   },
   {
    "duration": 4,
    "start_time": "2022-10-06T14:05:39.653Z"
   },
   {
    "duration": 49,
    "start_time": "2022-10-06T14:05:40.185Z"
   },
   {
    "duration": 4,
    "start_time": "2022-10-06T14:06:26.934Z"
   },
   {
    "duration": 8,
    "start_time": "2022-10-06T14:06:30.806Z"
   },
   {
    "duration": 69,
    "start_time": "2022-10-06T14:06:40.765Z"
   },
   {
    "duration": 12,
    "start_time": "2022-10-06T14:10:23.227Z"
   },
   {
    "duration": 8,
    "start_time": "2022-10-06T14:13:37.466Z"
   },
   {
    "duration": 4,
    "start_time": "2022-10-06T14:13:41.951Z"
   },
   {
    "duration": 4,
    "start_time": "2022-10-06T14:13:42.628Z"
   },
   {
    "duration": 8,
    "start_time": "2022-10-06T14:13:44.408Z"
   },
   {
    "duration": 112,
    "start_time": "2022-10-06T14:13:57.325Z"
   },
   {
    "duration": 50,
    "start_time": "2022-10-06T14:15:15.786Z"
   },
   {
    "duration": 44,
    "start_time": "2022-10-06T14:15:47.391Z"
   },
   {
    "duration": 10,
    "start_time": "2022-10-06T14:15:56.804Z"
   },
   {
    "duration": 51,
    "start_time": "2022-10-06T14:16:15.384Z"
   },
   {
    "duration": 5,
    "start_time": "2022-10-06T14:16:59.687Z"
   },
   {
    "duration": 3,
    "start_time": "2022-10-06T14:17:00.385Z"
   },
   {
    "duration": 16,
    "start_time": "2022-10-06T14:17:00.852Z"
   },
   {
    "duration": 9,
    "start_time": "2022-10-06T14:17:03.898Z"
   },
   {
    "duration": 77,
    "start_time": "2022-10-06T14:17:07.058Z"
   },
   {
    "duration": 8,
    "start_time": "2022-10-06T14:18:35.431Z"
   },
   {
    "duration": 10,
    "start_time": "2022-10-06T14:18:36.793Z"
   },
   {
    "duration": 12,
    "start_time": "2022-10-06T14:18:41.610Z"
   },
   {
    "duration": 85,
    "start_time": "2022-10-06T14:18:59.655Z"
   },
   {
    "duration": 43,
    "start_time": "2022-10-06T14:19:54.491Z"
   },
   {
    "duration": 24,
    "start_time": "2022-10-06T14:21:24.512Z"
   },
   {
    "duration": 9,
    "start_time": "2022-10-06T14:24:24.785Z"
   },
   {
    "duration": 147,
    "start_time": "2022-10-06T14:24:31.333Z"
   },
   {
    "duration": 270,
    "start_time": "2022-10-06T14:24:48.069Z"
   },
   {
    "duration": 18,
    "start_time": "2022-10-06T14:26:11.545Z"
   },
   {
    "duration": 10,
    "start_time": "2022-10-06T14:26:23.105Z"
   },
   {
    "duration": 9,
    "start_time": "2022-10-06T14:28:22.160Z"
   },
   {
    "duration": 154,
    "start_time": "2022-10-06T14:30:22.560Z"
   },
   {
    "duration": 4,
    "start_time": "2022-10-06T14:35:11.543Z"
   },
   {
    "duration": 4,
    "start_time": "2022-10-06T14:37:09.006Z"
   },
   {
    "duration": 4,
    "start_time": "2022-10-06T14:37:20.992Z"
   },
   {
    "duration": 4,
    "start_time": "2022-10-06T14:38:22.899Z"
   },
   {
    "duration": 4,
    "start_time": "2022-10-06T14:38:28.332Z"
   },
   {
    "duration": 9,
    "start_time": "2022-10-06T14:38:28.799Z"
   },
   {
    "duration": 44,
    "start_time": "2022-10-06T14:38:31.395Z"
   },
   {
    "duration": 12,
    "start_time": "2022-10-06T14:38:37.266Z"
   },
   {
    "duration": 10,
    "start_time": "2022-10-06T14:38:40.567Z"
   },
   {
    "duration": 14,
    "start_time": "2022-10-06T14:38:43.761Z"
   },
   {
    "duration": 16,
    "start_time": "2022-10-06T14:38:47.216Z"
   },
   {
    "duration": 11,
    "start_time": "2022-10-06T14:39:18.704Z"
   },
   {
    "duration": 14,
    "start_time": "2022-10-06T14:39:23.297Z"
   },
   {
    "duration": 10,
    "start_time": "2022-10-06T14:39:26.039Z"
   },
   {
    "duration": 174,
    "start_time": "2022-10-06T14:39:29.065Z"
   },
   {
    "duration": 4,
    "start_time": "2022-10-06T14:40:25.630Z"
   },
   {
    "duration": 4,
    "start_time": "2022-10-06T14:41:37.791Z"
   },
   {
    "duration": 3,
    "start_time": "2022-10-06T14:42:09.855Z"
   },
   {
    "duration": 4,
    "start_time": "2022-10-06T14:42:10.226Z"
   },
   {
    "duration": 4,
    "start_time": "2022-10-06T14:44:05.344Z"
   },
   {
    "duration": 5,
    "start_time": "2022-10-06T14:44:06.541Z"
   },
   {
    "duration": 4,
    "start_time": "2022-10-06T14:44:19.335Z"
   },
   {
    "duration": 25,
    "start_time": "2022-10-06T14:44:19.341Z"
   },
   {
    "duration": 12,
    "start_time": "2022-10-06T14:44:19.373Z"
   },
   {
    "duration": 6,
    "start_time": "2022-10-06T14:44:19.388Z"
   },
   {
    "duration": 375,
    "start_time": "2022-10-06T14:44:19.396Z"
   },
   {
    "duration": 24,
    "start_time": "2022-10-06T14:44:19.773Z"
   },
   {
    "duration": 59,
    "start_time": "2022-10-06T14:44:19.799Z"
   },
   {
    "duration": 140,
    "start_time": "2022-10-06T14:44:19.860Z"
   },
   {
    "duration": 11,
    "start_time": "2022-10-06T14:44:20.002Z"
   },
   {
    "duration": 461,
    "start_time": "2022-10-06T14:44:20.015Z"
   },
   {
    "duration": 202,
    "start_time": "2022-10-06T14:44:20.477Z"
   },
   {
    "duration": 182,
    "start_time": "2022-10-06T14:44:20.681Z"
   },
   {
    "duration": 3,
    "start_time": "2022-10-06T14:44:20.865Z"
   },
   {
    "duration": 7,
    "start_time": "2022-10-06T14:44:20.870Z"
   },
   {
    "duration": 10544,
    "start_time": "2022-10-06T14:44:20.878Z"
   },
   {
    "duration": 10,
    "start_time": "2022-10-06T14:44:31.423Z"
   },
   {
    "duration": 26,
    "start_time": "2022-10-06T14:44:31.434Z"
   },
   {
    "duration": 20,
    "start_time": "2022-10-06T14:44:31.462Z"
   },
   {
    "duration": 19,
    "start_time": "2022-10-06T14:44:31.484Z"
   },
   {
    "duration": 150,
    "start_time": "2022-10-06T14:44:31.505Z"
   },
   {
    "duration": 10,
    "start_time": "2022-10-06T14:44:31.657Z"
   },
   {
    "duration": 5,
    "start_time": "2022-10-06T14:44:31.669Z"
   },
   {
    "duration": 5,
    "start_time": "2022-10-06T14:44:31.676Z"
   },
   {
    "duration": 957,
    "start_time": "2022-10-06T14:44:31.682Z"
   },
   {
    "duration": 93,
    "start_time": "2022-10-06T14:44:32.642Z"
   },
   {
    "duration": 105,
    "start_time": "2022-10-06T14:44:32.737Z"
   },
   {
    "duration": 28,
    "start_time": "2022-10-06T14:44:32.843Z"
   },
   {
    "duration": 1160,
    "start_time": "2022-10-06T14:44:32.874Z"
   },
   {
    "duration": 103,
    "start_time": "2022-10-06T14:44:34.037Z"
   },
   {
    "duration": 901,
    "start_time": "2022-10-06T14:44:34.142Z"
   },
   {
    "duration": 101,
    "start_time": "2022-10-06T14:44:35.135Z"
   },
   {
    "duration": 1205,
    "start_time": "2022-10-06T14:44:35.239Z"
   },
   {
    "duration": 103,
    "start_time": "2022-10-06T14:44:36.535Z"
   },
   {
    "duration": 102,
    "start_time": "2022-10-06T14:44:36.640Z"
   },
   {
    "duration": 94,
    "start_time": "2022-10-06T14:44:36.747Z"
   },
   {
    "duration": 102,
    "start_time": "2022-10-06T14:44:36.933Z"
   },
   {
    "duration": 189,
    "start_time": "2022-10-06T14:44:37.037Z"
   },
   {
    "duration": 3,
    "start_time": "2022-10-06T14:44:37.233Z"
   },
   {
    "duration": 9,
    "start_time": "2022-10-06T14:44:37.238Z"
   },
   {
    "duration": 42,
    "start_time": "2022-10-06T14:44:37.248Z"
   },
   {
    "duration": 160,
    "start_time": "2022-10-06T14:52:28.412Z"
   },
   {
    "duration": 1380,
    "start_time": "2022-10-06T14:53:51.618Z"
   },
   {
    "duration": 3,
    "start_time": "2022-10-06T14:53:53.000Z"
   },
   {
    "duration": 9,
    "start_time": "2022-10-06T14:53:53.005Z"
   },
   {
    "duration": 13,
    "start_time": "2022-10-06T14:53:53.016Z"
   },
   {
    "duration": 367,
    "start_time": "2022-10-06T14:53:53.030Z"
   },
   {
    "duration": 23,
    "start_time": "2022-10-06T14:53:53.399Z"
   },
   {
    "duration": 35,
    "start_time": "2022-10-06T14:53:53.433Z"
   },
   {
    "duration": 141,
    "start_time": "2022-10-06T14:53:53.470Z"
   },
   {
    "duration": 22,
    "start_time": "2022-10-06T14:53:53.612Z"
   },
   {
    "duration": 443,
    "start_time": "2022-10-06T14:53:53.638Z"
   },
   {
    "duration": 218,
    "start_time": "2022-10-06T14:53:54.083Z"
   },
   {
    "duration": 184,
    "start_time": "2022-10-06T14:53:54.303Z"
   },
   {
    "duration": 2,
    "start_time": "2022-10-06T14:53:54.489Z"
   },
   {
    "duration": 18,
    "start_time": "2022-10-06T14:53:54.493Z"
   },
   {
    "duration": 10185,
    "start_time": "2022-10-06T14:53:54.513Z"
   },
   {
    "duration": 4,
    "start_time": "2022-10-06T14:54:04.700Z"
   },
   {
    "duration": 33,
    "start_time": "2022-10-06T14:54:04.706Z"
   },
   {
    "duration": 16,
    "start_time": "2022-10-06T14:54:04.741Z"
   },
   {
    "duration": 17,
    "start_time": "2022-10-06T14:54:04.759Z"
   },
   {
    "duration": 153,
    "start_time": "2022-10-06T14:54:04.778Z"
   },
   {
    "duration": 9,
    "start_time": "2022-10-06T14:54:04.933Z"
   },
   {
    "duration": 19,
    "start_time": "2022-10-06T14:54:04.944Z"
   },
   {
    "duration": 37,
    "start_time": "2022-10-06T14:54:04.964Z"
   },
   {
    "duration": 936,
    "start_time": "2022-10-06T14:54:05.003Z"
   },
   {
    "duration": 96,
    "start_time": "2022-10-06T14:54:05.941Z"
   },
   {
    "duration": 117,
    "start_time": "2022-10-06T14:54:06.039Z"
   },
   {
    "duration": 31,
    "start_time": "2022-10-06T14:54:06.158Z"
   },
   {
    "duration": 1240,
    "start_time": "2022-10-06T14:54:06.194Z"
   },
   {
    "duration": 101,
    "start_time": "2022-10-06T14:54:07.441Z"
   },
   {
    "duration": 1196,
    "start_time": "2022-10-06T14:54:07.543Z"
   },
   {
    "duration": 104,
    "start_time": "2022-10-06T14:54:08.741Z"
   },
   {
    "duration": 1300,
    "start_time": "2022-10-06T14:54:08.936Z"
   },
   {
    "duration": 101,
    "start_time": "2022-10-06T14:54:10.240Z"
   },
   {
    "duration": 197,
    "start_time": "2022-10-06T14:54:10.344Z"
   },
   {
    "duration": 191,
    "start_time": "2022-10-06T14:54:10.545Z"
   },
   {
    "duration": 122,
    "start_time": "2022-10-06T14:54:10.742Z"
   },
   {
    "duration": 205,
    "start_time": "2022-10-06T14:54:10.866Z"
   },
   {
    "duration": 3,
    "start_time": "2022-10-06T14:54:11.072Z"
   },
   {
    "duration": 170,
    "start_time": "2022-10-06T14:54:11.077Z"
   },
   {
    "duration": 0,
    "start_time": "2022-10-06T14:54:11.249Z"
   },
   {
    "duration": 167,
    "start_time": "2022-10-06T14:54:37.737Z"
   },
   {
    "duration": 164,
    "start_time": "2022-10-06T14:56:29.781Z"
   },
   {
    "duration": 277,
    "start_time": "2022-10-06T14:56:34.281Z"
   },
   {
    "duration": 183,
    "start_time": "2022-10-06T14:57:24.114Z"
   },
   {
    "duration": 171,
    "start_time": "2022-10-06T14:58:07.074Z"
   },
   {
    "duration": 172,
    "start_time": "2022-10-06T15:00:02.248Z"
   },
   {
    "duration": 194,
    "start_time": "2022-10-06T15:00:25.935Z"
   },
   {
    "duration": 780,
    "start_time": "2022-10-06T15:09:08.557Z"
   },
   {
    "duration": 9,
    "start_time": "2022-10-06T15:09:48.404Z"
   },
   {
    "duration": 4,
    "start_time": "2022-10-06T15:09:53.759Z"
   },
   {
    "duration": 6,
    "start_time": "2022-10-06T15:09:58.802Z"
   },
   {
    "duration": 4,
    "start_time": "2022-10-06T15:09:59.142Z"
   },
   {
    "duration": 7,
    "start_time": "2022-10-06T15:10:02.452Z"
   },
   {
    "duration": 10,
    "start_time": "2022-10-06T15:10:24.898Z"
   },
   {
    "duration": 1114,
    "start_time": "2022-10-06T15:10:51.723Z"
   },
   {
    "duration": 7,
    "start_time": "2022-10-06T15:10:54.195Z"
   },
   {
    "duration": 936,
    "start_time": "2022-10-06T15:11:13.604Z"
   },
   {
    "duration": 7,
    "start_time": "2022-10-06T15:11:53.458Z"
   },
   {
    "duration": 9,
    "start_time": "2022-10-06T15:14:29.104Z"
   },
   {
    "duration": 1227,
    "start_time": "2022-10-06T15:14:34.723Z"
   },
   {
    "duration": 8,
    "start_time": "2022-10-06T15:14:38.584Z"
   },
   {
    "duration": 7,
    "start_time": "2022-10-06T15:14:41.699Z"
   },
   {
    "duration": 7,
    "start_time": "2022-10-06T15:14:43.790Z"
   },
   {
    "duration": 183,
    "start_time": "2022-10-06T15:14:45.976Z"
   },
   {
    "duration": 5,
    "start_time": "2022-10-06T15:14:58.431Z"
   },
   {
    "duration": 5,
    "start_time": "2022-10-06T15:15:02.707Z"
   },
   {
    "duration": 5,
    "start_time": "2022-10-06T15:15:03.244Z"
   },
   {
    "duration": 8,
    "start_time": "2022-10-06T15:15:13.390Z"
   },
   {
    "duration": 10,
    "start_time": "2022-10-06T15:16:21.757Z"
   },
   {
    "duration": 8,
    "start_time": "2022-10-06T15:16:25.231Z"
   },
   {
    "duration": 9,
    "start_time": "2022-10-06T15:16:40.585Z"
   },
   {
    "duration": 9,
    "start_time": "2022-10-06T15:16:58.783Z"
   },
   {
    "duration": 4,
    "start_time": "2022-10-06T15:17:12.416Z"
   },
   {
    "duration": 39,
    "start_time": "2022-10-06T15:17:39.559Z"
   },
   {
    "duration": 5,
    "start_time": "2022-10-06T15:19:01.836Z"
   },
   {
    "duration": 4,
    "start_time": "2022-10-06T15:19:02.224Z"
   },
   {
    "duration": 6,
    "start_time": "2022-10-06T15:19:08.247Z"
   },
   {
    "duration": 855,
    "start_time": "2022-10-06T15:19:32.684Z"
   },
   {
    "duration": 5,
    "start_time": "2022-10-06T15:19:34.097Z"
   },
   {
    "duration": 4,
    "start_time": "2022-10-06T15:19:34.999Z"
   },
   {
    "duration": 9,
    "start_time": "2022-10-06T15:19:35.610Z"
   },
   {
    "duration": 905,
    "start_time": "2022-10-06T15:19:39.332Z"
   },
   {
    "duration": 16,
    "start_time": "2022-10-06T15:19:40.418Z"
   },
   {
    "duration": 9,
    "start_time": "2022-10-06T15:19:52.717Z"
   },
   {
    "duration": 879,
    "start_time": "2022-10-06T15:19:55.158Z"
   },
   {
    "duration": 13,
    "start_time": "2022-10-06T15:19:56.497Z"
   },
   {
    "duration": 95,
    "start_time": "2022-10-06T15:20:11.440Z"
   },
   {
    "duration": 6,
    "start_time": "2022-10-06T15:20:22.997Z"
   },
   {
    "duration": 6,
    "start_time": "2022-10-06T15:20:23.869Z"
   },
   {
    "duration": 181,
    "start_time": "2022-10-06T15:20:25.637Z"
   },
   {
    "duration": 3,
    "start_time": "2022-10-06T15:20:35.788Z"
   },
   {
    "duration": 4,
    "start_time": "2022-10-06T15:20:37.044Z"
   },
   {
    "duration": 8,
    "start_time": "2022-10-06T15:20:50.561Z"
   },
   {
    "duration": 41,
    "start_time": "2022-10-06T15:21:03.686Z"
   },
   {
    "duration": 1399,
    "start_time": "2022-10-06T15:21:15.457Z"
   },
   {
    "duration": 4,
    "start_time": "2022-10-06T15:21:16.858Z"
   },
   {
    "duration": 10,
    "start_time": "2022-10-06T15:21:16.864Z"
   },
   {
    "duration": 10,
    "start_time": "2022-10-06T15:21:16.875Z"
   },
   {
    "duration": 382,
    "start_time": "2022-10-06T15:21:16.886Z"
   },
   {
    "duration": 22,
    "start_time": "2022-10-06T15:21:17.269Z"
   },
   {
    "duration": 59,
    "start_time": "2022-10-06T15:21:17.293Z"
   },
   {
    "duration": 133,
    "start_time": "2022-10-06T15:21:17.353Z"
   },
   {
    "duration": 10,
    "start_time": "2022-10-06T15:21:17.488Z"
   },
   {
    "duration": 470,
    "start_time": "2022-10-06T15:21:17.500Z"
   },
   {
    "duration": 235,
    "start_time": "2022-10-06T15:21:17.972Z"
   },
   {
    "duration": 210,
    "start_time": "2022-10-06T15:21:18.208Z"
   },
   {
    "duration": 3,
    "start_time": "2022-10-06T15:21:18.420Z"
   },
   {
    "duration": 4,
    "start_time": "2022-10-06T15:21:18.434Z"
   },
   {
    "duration": 10448,
    "start_time": "2022-10-06T15:21:18.439Z"
   },
   {
    "duration": 5,
    "start_time": "2022-10-06T15:21:28.889Z"
   },
   {
    "duration": 25,
    "start_time": "2022-10-06T15:21:28.895Z"
   },
   {
    "duration": 12,
    "start_time": "2022-10-06T15:21:28.933Z"
   },
   {
    "duration": 8,
    "start_time": "2022-10-06T15:21:28.947Z"
   },
   {
    "duration": 149,
    "start_time": "2022-10-06T15:21:28.957Z"
   },
   {
    "duration": 9,
    "start_time": "2022-10-06T15:21:29.108Z"
   },
   {
    "duration": 15,
    "start_time": "2022-10-06T15:21:29.119Z"
   },
   {
    "duration": 5,
    "start_time": "2022-10-06T15:21:29.136Z"
   },
   {
    "duration": 894,
    "start_time": "2022-10-06T15:21:29.143Z"
   },
   {
    "duration": 97,
    "start_time": "2022-10-06T15:21:30.040Z"
   },
   {
    "duration": 95,
    "start_time": "2022-10-06T15:21:30.140Z"
   },
   {
    "duration": 99,
    "start_time": "2022-10-06T15:21:30.236Z"
   },
   {
    "duration": 1094,
    "start_time": "2022-10-06T15:21:30.339Z"
   },
   {
    "duration": 103,
    "start_time": "2022-10-06T15:21:31.436Z"
   },
   {
    "duration": 1099,
    "start_time": "2022-10-06T15:21:31.542Z"
   },
   {
    "duration": 191,
    "start_time": "2022-10-06T15:21:32.643Z"
   },
   {
    "duration": 1217,
    "start_time": "2022-10-06T15:21:32.836Z"
   },
   {
    "duration": 197,
    "start_time": "2022-10-06T15:21:34.137Z"
   },
   {
    "duration": 95,
    "start_time": "2022-10-06T15:21:34.339Z"
   },
   {
    "duration": 7,
    "start_time": "2022-10-06T15:21:34.436Z"
   },
   {
    "duration": 189,
    "start_time": "2022-10-06T15:21:34.445Z"
   },
   {
    "duration": 4,
    "start_time": "2022-10-06T15:21:34.636Z"
   },
   {
    "duration": 11,
    "start_time": "2022-10-06T15:21:34.641Z"
   },
   {
    "duration": 46,
    "start_time": "2022-10-06T15:21:34.654Z"
   },
   {
    "duration": 35,
    "start_time": "2022-10-06T15:22:27.951Z"
   },
   {
    "duration": 5,
    "start_time": "2022-10-06T15:22:42.526Z"
   },
   {
    "duration": 4,
    "start_time": "2022-10-06T15:22:54.786Z"
   },
   {
    "duration": 8,
    "start_time": "2022-10-06T15:23:02.687Z"
   },
   {
    "duration": 4,
    "start_time": "2022-10-06T15:23:15.154Z"
   },
   {
    "duration": 38,
    "start_time": "2022-10-06T15:23:21.505Z"
   },
   {
    "duration": 35,
    "start_time": "2022-10-06T15:23:36.999Z"
   },
   {
    "duration": 225,
    "start_time": "2022-10-06T15:25:06.154Z"
   },
   {
    "duration": 53,
    "start_time": "2022-10-06T17:35:43.917Z"
   },
   {
    "duration": 1771,
    "start_time": "2022-10-06T17:35:48.790Z"
   },
   {
    "duration": 4,
    "start_time": "2022-10-06T17:35:50.563Z"
   },
   {
    "duration": 17,
    "start_time": "2022-10-06T17:35:50.568Z"
   },
   {
    "duration": 34,
    "start_time": "2022-10-06T17:35:50.587Z"
   },
   {
    "duration": 815,
    "start_time": "2022-10-06T17:35:50.623Z"
   },
   {
    "duration": 28,
    "start_time": "2022-10-06T17:35:51.440Z"
   },
   {
    "duration": 61,
    "start_time": "2022-10-06T17:35:51.470Z"
   },
   {
    "duration": 168,
    "start_time": "2022-10-06T17:35:51.533Z"
   },
   {
    "duration": 19,
    "start_time": "2022-10-06T17:35:51.703Z"
   },
   {
    "duration": 502,
    "start_time": "2022-10-06T17:35:51.725Z"
   },
   {
    "duration": 233,
    "start_time": "2022-10-06T17:35:52.229Z"
   },
   {
    "duration": 220,
    "start_time": "2022-10-06T17:35:52.463Z"
   },
   {
    "duration": 3,
    "start_time": "2022-10-06T17:35:52.686Z"
   },
   {
    "duration": 28,
    "start_time": "2022-10-06T17:35:52.693Z"
   },
   {
    "duration": 11523,
    "start_time": "2022-10-06T17:35:52.724Z"
   },
   {
    "duration": 5,
    "start_time": "2022-10-06T17:36:04.249Z"
   },
   {
    "duration": 21,
    "start_time": "2022-10-06T17:36:04.256Z"
   },
   {
    "duration": 13,
    "start_time": "2022-10-06T17:36:04.279Z"
   },
   {
    "duration": 10,
    "start_time": "2022-10-06T17:36:04.320Z"
   },
   {
    "duration": 178,
    "start_time": "2022-10-06T17:36:04.332Z"
   },
   {
    "duration": 18,
    "start_time": "2022-10-06T17:36:04.511Z"
   },
   {
    "duration": 22,
    "start_time": "2022-10-06T17:36:04.531Z"
   },
   {
    "duration": 6,
    "start_time": "2022-10-06T17:36:04.555Z"
   },
   {
    "duration": 1059,
    "start_time": "2022-10-06T17:36:04.563Z"
   },
   {
    "duration": 7,
    "start_time": "2022-10-06T17:36:05.624Z"
   },
   {
    "duration": 104,
    "start_time": "2022-10-06T17:36:05.632Z"
   },
   {
    "duration": 19,
    "start_time": "2022-10-06T17:36:05.737Z"
   },
   {
    "duration": 1161,
    "start_time": "2022-10-06T17:36:05.760Z"
   },
   {
    "duration": 197,
    "start_time": "2022-10-06T17:36:06.923Z"
   },
   {
    "duration": 907,
    "start_time": "2022-10-06T17:36:07.122Z"
   },
   {
    "duration": 95,
    "start_time": "2022-10-06T17:36:08.031Z"
   },
   {
    "duration": 1399,
    "start_time": "2022-10-06T17:36:08.128Z"
   },
   {
    "duration": 99,
    "start_time": "2022-10-06T17:36:09.530Z"
   },
   {
    "duration": 96,
    "start_time": "2022-10-06T17:36:09.632Z"
   },
   {
    "duration": 94,
    "start_time": "2022-10-06T17:36:09.730Z"
   },
   {
    "duration": 218,
    "start_time": "2022-10-06T17:36:09.826Z"
   },
   {
    "duration": 89,
    "start_time": "2022-10-06T17:36:10.046Z"
   },
   {
    "duration": 0,
    "start_time": "2022-10-06T17:36:10.137Z"
   },
   {
    "duration": 0,
    "start_time": "2022-10-06T17:36:10.139Z"
   },
   {
    "duration": 0,
    "start_time": "2022-10-06T17:36:10.140Z"
   },
   {
    "duration": 0,
    "start_time": "2022-10-06T17:36:10.141Z"
   },
   {
    "duration": 10,
    "start_time": "2022-10-06T17:37:47.545Z"
   },
   {
    "duration": 3,
    "start_time": "2022-10-06T17:42:59.944Z"
   },
   {
    "duration": 4,
    "start_time": "2022-10-06T17:44:43.638Z"
   },
   {
    "duration": 845,
    "start_time": "2022-10-06T17:46:28.678Z"
   },
   {
    "duration": 9,
    "start_time": "2022-10-06T17:46:29.917Z"
   },
   {
    "duration": 792,
    "start_time": "2022-10-06T17:47:00.831Z"
   },
   {
    "duration": 1023,
    "start_time": "2022-10-06T17:47:20.008Z"
   },
   {
    "duration": 4,
    "start_time": "2022-10-06T17:48:09.559Z"
   },
   {
    "duration": 5,
    "start_time": "2022-10-06T17:48:23.350Z"
   },
   {
    "duration": 7,
    "start_time": "2022-10-06T17:48:23.968Z"
   },
   {
    "duration": 9,
    "start_time": "2022-10-06T17:48:31.565Z"
   },
   {
    "duration": 10,
    "start_time": "2022-10-06T17:48:32.719Z"
   },
   {
    "duration": 15,
    "start_time": "2022-10-06T17:48:33.735Z"
   },
   {
    "duration": 6,
    "start_time": "2022-10-06T17:48:41.350Z"
   },
   {
    "duration": 5,
    "start_time": "2022-10-06T17:48:42.975Z"
   },
   {
    "duration": 179,
    "start_time": "2022-10-06T17:48:44.613Z"
   },
   {
    "duration": 207,
    "start_time": "2022-10-06T17:51:28.594Z"
   },
   {
    "duration": 354,
    "start_time": "2022-10-06T17:51:39.946Z"
   },
   {
    "duration": 190,
    "start_time": "2022-10-06T17:51:52.395Z"
   },
   {
    "duration": 190,
    "start_time": "2022-10-06T17:51:59.925Z"
   },
   {
    "duration": 207,
    "start_time": "2022-10-06T17:52:29.650Z"
   },
   {
    "duration": 208,
    "start_time": "2022-10-06T17:54:23.757Z"
   },
   {
    "duration": 210,
    "start_time": "2022-10-06T17:57:59.992Z"
   },
   {
    "duration": 5,
    "start_time": "2022-10-06T18:00:49.635Z"
   },
   {
    "duration": 8,
    "start_time": "2022-10-06T18:00:49.643Z"
   },
   {
    "duration": 435,
    "start_time": "2022-10-06T18:00:49.652Z"
   },
   {
    "duration": 34,
    "start_time": "2022-10-06T18:00:50.088Z"
   },
   {
    "duration": 63,
    "start_time": "2022-10-06T18:00:50.124Z"
   },
   {
    "duration": 174,
    "start_time": "2022-10-06T18:00:50.188Z"
   },
   {
    "duration": 12,
    "start_time": "2022-10-06T18:00:50.364Z"
   },
   {
    "duration": 512,
    "start_time": "2022-10-06T18:00:50.378Z"
   },
   {
    "duration": 275,
    "start_time": "2022-10-06T18:00:50.895Z"
   },
   {
    "duration": 208,
    "start_time": "2022-10-06T18:00:51.171Z"
   },
   {
    "duration": 3,
    "start_time": "2022-10-06T18:00:51.381Z"
   },
   {
    "duration": 12,
    "start_time": "2022-10-06T18:00:51.385Z"
   },
   {
    "duration": 12116,
    "start_time": "2022-10-06T18:00:51.399Z"
   },
   {
    "duration": 7,
    "start_time": "2022-10-06T18:01:03.517Z"
   },
   {
    "duration": 24,
    "start_time": "2022-10-06T18:01:03.526Z"
   },
   {
    "duration": 15,
    "start_time": "2022-10-06T18:01:03.552Z"
   },
   {
    "duration": 15,
    "start_time": "2022-10-06T18:01:03.569Z"
   },
   {
    "duration": 210,
    "start_time": "2022-10-06T18:01:03.586Z"
   },
   {
    "duration": 10,
    "start_time": "2022-10-06T18:01:03.798Z"
   },
   {
    "duration": 33,
    "start_time": "2022-10-06T18:01:03.810Z"
   },
   {
    "duration": 9,
    "start_time": "2022-10-06T18:01:03.845Z"
   },
   {
    "duration": 20,
    "start_time": "2022-10-06T18:01:03.855Z"
   },
   {
    "duration": 944,
    "start_time": "2022-10-06T18:01:03.877Z"
   },
   {
    "duration": 1005,
    "start_time": "2022-10-06T18:01:04.825Z"
   },
   {
    "duration": 1095,
    "start_time": "2022-10-06T18:01:05.836Z"
   },
   {
    "duration": 1191,
    "start_time": "2022-10-06T18:01:06.936Z"
   },
   {
    "duration": 11,
    "start_time": "2022-10-06T18:01:08.130Z"
   },
   {
    "duration": 83,
    "start_time": "2022-10-06T18:01:08.144Z"
   },
   {
    "duration": 194,
    "start_time": "2022-10-06T18:01:08.229Z"
   },
   {
    "duration": 113,
    "start_time": "2022-10-06T18:01:08.428Z"
   },
   {
    "duration": 187,
    "start_time": "2022-10-06T18:01:08.549Z"
   },
   {
    "duration": 216,
    "start_time": "2022-10-06T18:01:08.738Z"
   },
   {
    "duration": 13,
    "start_time": "2022-10-06T18:01:08.956Z"
   },
   {
    "duration": 288,
    "start_time": "2022-10-06T18:01:08.972Z"
   },
   {
    "duration": 4,
    "start_time": "2022-10-06T18:01:09.263Z"
   },
   {
    "duration": 8,
    "start_time": "2022-10-06T18:01:09.269Z"
   },
   {
    "duration": 11,
    "start_time": "2022-10-06T18:01:09.279Z"
   },
   {
    "duration": 62,
    "start_time": "2022-10-06T18:01:09.292Z"
   },
   {
    "duration": 212,
    "start_time": "2022-10-06T18:01:09.356Z"
   },
   {
    "duration": 6,
    "start_time": "2022-10-06T18:10:54.433Z"
   },
   {
    "duration": 5,
    "start_time": "2022-10-06T18:11:02.049Z"
   },
   {
    "duration": 92,
    "start_time": "2022-10-06T18:11:51.537Z"
   },
   {
    "duration": 62,
    "start_time": "2022-10-06T18:12:34.362Z"
   },
   {
    "duration": 19,
    "start_time": "2022-10-06T18:13:29.898Z"
   },
   {
    "duration": 20,
    "start_time": "2022-10-06T18:13:59.643Z"
   },
   {
    "duration": 12,
    "start_time": "2022-10-06T18:14:28.475Z"
   },
   {
    "duration": 8,
    "start_time": "2022-10-06T18:14:45.766Z"
   },
   {
    "duration": 233,
    "start_time": "2022-10-06T18:14:47.018Z"
   },
   {
    "duration": 112,
    "start_time": "2022-10-06T18:15:19.812Z"
   },
   {
    "duration": 7,
    "start_time": "2022-10-06T18:18:37.271Z"
   },
   {
    "duration": 22,
    "start_time": "2022-10-06T18:19:38.318Z"
   },
   {
    "duration": 4,
    "start_time": "2022-10-06T18:19:52.178Z"
   },
   {
    "duration": 13,
    "start_time": "2022-10-06T18:19:52.184Z"
   },
   {
    "duration": 414,
    "start_time": "2022-10-06T18:19:52.199Z"
   },
   {
    "duration": 26,
    "start_time": "2022-10-06T18:19:52.615Z"
   },
   {
    "duration": 95,
    "start_time": "2022-10-06T18:19:52.646Z"
   },
   {
    "duration": 317,
    "start_time": "2022-10-06T18:19:52.744Z"
   },
   {
    "duration": 12,
    "start_time": "2022-10-06T18:19:53.063Z"
   },
   {
    "duration": 507,
    "start_time": "2022-10-06T18:19:53.077Z"
   },
   {
    "duration": 237,
    "start_time": "2022-10-06T18:19:53.586Z"
   },
   {
    "duration": 210,
    "start_time": "2022-10-06T18:19:53.825Z"
   },
   {
    "duration": 3,
    "start_time": "2022-10-06T18:19:54.038Z"
   },
   {
    "duration": 19,
    "start_time": "2022-10-06T18:19:54.043Z"
   },
   {
    "duration": 11797,
    "start_time": "2022-10-06T18:19:54.064Z"
   },
   {
    "duration": 5,
    "start_time": "2022-10-06T18:20:05.867Z"
   },
   {
    "duration": 27,
    "start_time": "2022-10-06T18:20:05.881Z"
   },
   {
    "duration": 41,
    "start_time": "2022-10-06T18:20:05.910Z"
   },
   {
    "duration": 20,
    "start_time": "2022-10-06T18:20:05.953Z"
   },
   {
    "duration": 213,
    "start_time": "2022-10-06T18:20:05.975Z"
   },
   {
    "duration": 11,
    "start_time": "2022-10-06T18:20:06.189Z"
   },
   {
    "duration": 26,
    "start_time": "2022-10-06T18:20:06.202Z"
   },
   {
    "duration": 22,
    "start_time": "2022-10-06T18:20:06.230Z"
   },
   {
    "duration": 33,
    "start_time": "2022-10-06T18:20:06.254Z"
   },
   {
    "duration": 838,
    "start_time": "2022-10-06T18:20:06.289Z"
   },
   {
    "duration": 1094,
    "start_time": "2022-10-06T18:20:07.129Z"
   },
   {
    "duration": 1194,
    "start_time": "2022-10-06T18:20:08.227Z"
   },
   {
    "duration": 1304,
    "start_time": "2022-10-06T18:20:09.423Z"
   },
   {
    "duration": 96,
    "start_time": "2022-10-06T18:20:10.729Z"
   },
   {
    "duration": 124,
    "start_time": "2022-10-06T18:20:10.827Z"
   },
   {
    "duration": 167,
    "start_time": "2022-10-06T18:20:10.954Z"
   },
   {
    "duration": 315,
    "start_time": "2022-10-06T18:20:11.123Z"
   },
   {
    "duration": 3,
    "start_time": "2022-10-06T18:20:11.440Z"
   },
   {
    "duration": 21,
    "start_time": "2022-10-06T18:20:11.445Z"
   },
   {
    "duration": 14,
    "start_time": "2022-10-06T18:20:11.468Z"
   },
   {
    "duration": 83,
    "start_time": "2022-10-06T18:20:11.484Z"
   },
   {
    "duration": 218,
    "start_time": "2022-10-06T18:20:11.569Z"
   },
   {
    "duration": 1539,
    "start_time": "2022-10-06T18:22:25.512Z"
   },
   {
    "duration": 3,
    "start_time": "2022-10-06T18:22:27.054Z"
   },
   {
    "duration": 421,
    "start_time": "2022-10-06T18:22:27.059Z"
   },
   {
    "duration": 44,
    "start_time": "2022-10-06T18:22:27.482Z"
   },
   {
    "duration": 44,
    "start_time": "2022-10-06T18:22:27.529Z"
   },
   {
    "duration": 214,
    "start_time": "2022-10-06T18:22:27.575Z"
   },
   {
    "duration": 12,
    "start_time": "2022-10-06T18:22:27.791Z"
   },
   {
    "duration": 509,
    "start_time": "2022-10-06T18:22:27.820Z"
   },
   {
    "duration": 308,
    "start_time": "2022-10-06T18:22:28.331Z"
   },
   {
    "duration": 226,
    "start_time": "2022-10-06T18:22:28.641Z"
   },
   {
    "duration": 4,
    "start_time": "2022-10-06T18:22:28.870Z"
   },
   {
    "duration": 12,
    "start_time": "2022-10-06T18:22:28.877Z"
   },
   {
    "duration": 12125,
    "start_time": "2022-10-06T18:22:28.891Z"
   },
   {
    "duration": 5,
    "start_time": "2022-10-06T18:22:41.019Z"
   },
   {
    "duration": 25,
    "start_time": "2022-10-06T18:22:41.025Z"
   },
   {
    "duration": 15,
    "start_time": "2022-10-06T18:22:41.052Z"
   },
   {
    "duration": 12,
    "start_time": "2022-10-06T18:22:41.069Z"
   },
   {
    "duration": 219,
    "start_time": "2022-10-06T18:22:41.121Z"
   },
   {
    "duration": 12,
    "start_time": "2022-10-06T18:22:41.342Z"
   },
   {
    "duration": 10,
    "start_time": "2022-10-06T18:22:41.357Z"
   },
   {
    "duration": 13,
    "start_time": "2022-10-06T18:22:41.370Z"
   },
   {
    "duration": 7,
    "start_time": "2022-10-06T18:22:41.386Z"
   },
   {
    "duration": 951,
    "start_time": "2022-10-06T18:22:41.395Z"
   },
   {
    "duration": 1084,
    "start_time": "2022-10-06T18:22:42.348Z"
   },
   {
    "duration": 1105,
    "start_time": "2022-10-06T18:22:43.434Z"
   },
   {
    "duration": 1118,
    "start_time": "2022-10-06T18:22:44.621Z"
   },
   {
    "duration": 7,
    "start_time": "2022-10-06T18:22:45.821Z"
   },
   {
    "duration": 114,
    "start_time": "2022-10-06T18:22:45.830Z"
   },
   {
    "duration": 191,
    "start_time": "2022-10-06T18:22:45.947Z"
   },
   {
    "duration": 237,
    "start_time": "2022-10-06T18:22:46.221Z"
   },
   {
    "duration": 4,
    "start_time": "2022-10-06T18:22:46.460Z"
   },
   {
    "duration": 23,
    "start_time": "2022-10-06T18:22:46.466Z"
   },
   {
    "duration": 10,
    "start_time": "2022-10-06T18:22:46.491Z"
   },
   {
    "duration": 58,
    "start_time": "2022-10-06T18:22:46.502Z"
   },
   {
    "duration": 197,
    "start_time": "2022-10-06T18:22:46.562Z"
   },
   {
    "duration": 869,
    "start_time": "2022-10-06T18:23:53.877Z"
   },
   {
    "duration": 5,
    "start_time": "2022-10-06T18:24:05.369Z"
   },
   {
    "duration": 8,
    "start_time": "2022-10-06T18:24:05.376Z"
   },
   {
    "duration": 523,
    "start_time": "2022-10-06T18:24:05.386Z"
   },
   {
    "duration": 36,
    "start_time": "2022-10-06T18:24:05.911Z"
   },
   {
    "duration": 79,
    "start_time": "2022-10-06T18:24:05.950Z"
   },
   {
    "duration": 162,
    "start_time": "2022-10-06T18:24:06.031Z"
   },
   {
    "duration": 12,
    "start_time": "2022-10-06T18:24:06.195Z"
   },
   {
    "duration": 668,
    "start_time": "2022-10-06T18:24:06.221Z"
   },
   {
    "duration": 255,
    "start_time": "2022-10-06T18:24:06.891Z"
   },
   {
    "duration": 229,
    "start_time": "2022-10-06T18:24:07.147Z"
   },
   {
    "duration": 3,
    "start_time": "2022-10-06T18:24:07.380Z"
   },
   {
    "duration": 16,
    "start_time": "2022-10-06T18:24:07.385Z"
   },
   {
    "duration": 12437,
    "start_time": "2022-10-06T18:24:07.403Z"
   },
   {
    "duration": 5,
    "start_time": "2022-10-06T18:24:19.843Z"
   },
   {
    "duration": 40,
    "start_time": "2022-10-06T18:24:19.851Z"
   },
   {
    "duration": 13,
    "start_time": "2022-10-06T18:24:19.893Z"
   },
   {
    "duration": 18,
    "start_time": "2022-10-06T18:24:19.908Z"
   },
   {
    "duration": 205,
    "start_time": "2022-10-06T18:24:19.929Z"
   },
   {
    "duration": 10,
    "start_time": "2022-10-06T18:24:20.136Z"
   },
   {
    "duration": 17,
    "start_time": "2022-10-06T18:24:20.148Z"
   },
   {
    "duration": 12,
    "start_time": "2022-10-06T18:24:20.167Z"
   },
   {
    "duration": 19,
    "start_time": "2022-10-06T18:24:20.181Z"
   },
   {
    "duration": 821,
    "start_time": "2022-10-06T18:24:20.201Z"
   },
   {
    "duration": 908,
    "start_time": "2022-10-06T18:24:21.027Z"
   },
   {
    "duration": 996,
    "start_time": "2022-10-06T18:24:22.027Z"
   },
   {
    "duration": 1206,
    "start_time": "2022-10-06T18:24:23.024Z"
   },
   {
    "duration": 92,
    "start_time": "2022-10-06T18:24:24.231Z"
   },
   {
    "duration": 199,
    "start_time": "2022-10-06T18:24:24.325Z"
   },
   {
    "duration": 115,
    "start_time": "2022-10-06T18:24:24.528Z"
   },
   {
    "duration": 342,
    "start_time": "2022-10-06T18:24:24.721Z"
   },
   {
    "duration": 3,
    "start_time": "2022-10-06T18:24:25.065Z"
   },
   {
    "duration": 20,
    "start_time": "2022-10-06T18:24:25.070Z"
   },
   {
    "duration": 19,
    "start_time": "2022-10-06T18:24:25.093Z"
   },
   {
    "duration": 121,
    "start_time": "2022-10-06T18:24:25.114Z"
   },
   {
    "duration": 343,
    "start_time": "2022-10-06T18:24:25.237Z"
   },
   {
    "duration": 53,
    "start_time": "2022-10-06T18:32:32.255Z"
   },
   {
    "duration": 4,
    "start_time": "2022-10-06T18:35:14.361Z"
   },
   {
    "duration": 4,
    "start_time": "2022-10-06T18:35:20.018Z"
   },
   {
    "duration": 1456,
    "start_time": "2022-10-06T18:45:24.002Z"
   },
   {
    "duration": 4,
    "start_time": "2022-10-06T18:45:25.461Z"
   },
   {
    "duration": 412,
    "start_time": "2022-10-06T18:45:25.467Z"
   },
   {
    "duration": 43,
    "start_time": "2022-10-06T18:45:25.882Z"
   },
   {
    "duration": 56,
    "start_time": "2022-10-06T18:45:25.927Z"
   },
   {
    "duration": 184,
    "start_time": "2022-10-06T18:45:25.985Z"
   },
   {
    "duration": 12,
    "start_time": "2022-10-06T18:45:26.171Z"
   },
   {
    "duration": 517,
    "start_time": "2022-10-06T18:45:26.185Z"
   },
   {
    "duration": 252,
    "start_time": "2022-10-06T18:45:26.704Z"
   },
   {
    "duration": 215,
    "start_time": "2022-10-06T18:45:26.959Z"
   },
   {
    "duration": 3,
    "start_time": "2022-10-06T18:45:27.176Z"
   },
   {
    "duration": 6,
    "start_time": "2022-10-06T18:45:27.181Z"
   },
   {
    "duration": 12088,
    "start_time": "2022-10-06T18:45:27.189Z"
   },
   {
    "duration": 6,
    "start_time": "2022-10-06T18:45:39.279Z"
   },
   {
    "duration": 33,
    "start_time": "2022-10-06T18:45:39.287Z"
   },
   {
    "duration": 221,
    "start_time": "2022-10-06T18:45:39.324Z"
   },
   {
    "duration": 4,
    "start_time": "2022-10-06T18:45:39.547Z"
   },
   {
    "duration": 10,
    "start_time": "2022-10-06T18:45:39.553Z"
   },
   {
    "duration": 8,
    "start_time": "2022-10-06T18:45:39.565Z"
   },
   {
    "duration": 1048,
    "start_time": "2022-10-06T18:45:39.576Z"
   },
   {
    "duration": 1195,
    "start_time": "2022-10-06T18:45:40.626Z"
   },
   {
    "duration": 998,
    "start_time": "2022-10-06T18:45:41.823Z"
   },
   {
    "duration": 1304,
    "start_time": "2022-10-06T18:45:42.823Z"
   },
   {
    "duration": 6,
    "start_time": "2022-10-06T18:45:44.129Z"
   },
   {
    "duration": 113,
    "start_time": "2022-10-06T18:45:44.222Z"
   },
   {
    "duration": 188,
    "start_time": "2022-10-06T18:45:44.337Z"
   },
   {
    "duration": 309,
    "start_time": "2022-10-06T18:45:44.530Z"
   },
   {
    "duration": 4,
    "start_time": "2022-10-06T18:45:44.843Z"
   },
   {
    "duration": 199,
    "start_time": "2022-10-06T18:45:44.849Z"
   },
   {
    "duration": 4,
    "start_time": "2022-10-06T18:45:45.051Z"
   },
   {
    "duration": 19,
    "start_time": "2022-10-06T18:45:45.057Z"
   },
   {
    "duration": 45,
    "start_time": "2022-10-06T18:45:45.078Z"
   },
   {
    "duration": 125,
    "start_time": "2022-10-06T18:47:31.328Z"
   },
   {
    "duration": 10,
    "start_time": "2022-10-06T18:47:40.877Z"
   },
   {
    "duration": 12,
    "start_time": "2022-10-06T18:51:48.965Z"
   },
   {
    "duration": 13,
    "start_time": "2022-10-06T18:52:33.138Z"
   },
   {
    "duration": 4,
    "start_time": "2022-10-06T18:52:45.045Z"
   },
   {
    "duration": 24,
    "start_time": "2022-10-06T18:52:45.051Z"
   },
   {
    "duration": 401,
    "start_time": "2022-10-06T18:52:45.078Z"
   },
   {
    "duration": 26,
    "start_time": "2022-10-06T18:52:45.481Z"
   },
   {
    "duration": 42,
    "start_time": "2022-10-06T18:52:45.522Z"
   },
   {
    "duration": 174,
    "start_time": "2022-10-06T18:52:45.566Z"
   },
   {
    "duration": 13,
    "start_time": "2022-10-06T18:52:45.742Z"
   },
   {
    "duration": 666,
    "start_time": "2022-10-06T18:52:45.757Z"
   },
   {
    "duration": 240,
    "start_time": "2022-10-06T18:52:46.425Z"
   },
   {
    "duration": 216,
    "start_time": "2022-10-06T18:52:46.667Z"
   },
   {
    "duration": 2,
    "start_time": "2022-10-06T18:52:46.887Z"
   },
   {
    "duration": 12,
    "start_time": "2022-10-06T18:52:46.891Z"
   },
   {
    "duration": 11706,
    "start_time": "2022-10-06T18:52:46.905Z"
   },
   {
    "duration": 9,
    "start_time": "2022-10-06T18:52:58.613Z"
   },
   {
    "duration": 14,
    "start_time": "2022-10-06T18:52:58.625Z"
   },
   {
    "duration": 190,
    "start_time": "2022-10-06T18:52:58.641Z"
   },
   {
    "duration": 5,
    "start_time": "2022-10-06T18:52:58.833Z"
   },
   {
    "duration": 24,
    "start_time": "2022-10-06T18:52:58.840Z"
   },
   {
    "duration": 55,
    "start_time": "2022-10-06T18:52:58.869Z"
   },
   {
    "duration": 794,
    "start_time": "2022-10-06T18:52:58.927Z"
   },
   {
    "duration": 1204,
    "start_time": "2022-10-06T18:52:59.724Z"
   },
   {
    "duration": 1091,
    "start_time": "2022-10-06T18:53:00.930Z"
   },
   {
    "duration": 1203,
    "start_time": "2022-10-06T18:53:02.023Z"
   },
   {
    "duration": 93,
    "start_time": "2022-10-06T18:53:03.228Z"
   },
   {
    "duration": 209,
    "start_time": "2022-10-06T18:53:03.323Z"
   },
   {
    "duration": 199,
    "start_time": "2022-10-06T18:53:03.622Z"
   },
   {
    "duration": 223,
    "start_time": "2022-10-06T18:53:03.823Z"
   },
   {
    "duration": 4,
    "start_time": "2022-10-06T18:53:04.047Z"
   },
   {
    "duration": 35,
    "start_time": "2022-10-06T18:53:04.054Z"
   },
   {
    "duration": 217,
    "start_time": "2022-10-06T18:53:04.091Z"
   },
   {
    "duration": 14,
    "start_time": "2022-10-06T18:53:04.310Z"
   },
   {
    "duration": 10,
    "start_time": "2022-10-06T18:53:04.325Z"
   },
   {
    "duration": 40,
    "start_time": "2022-10-06T18:53:04.337Z"
   },
   {
    "duration": 202,
    "start_time": "2022-10-06T18:53:14.898Z"
   },
   {
    "duration": 207,
    "start_time": "2022-10-06T18:53:31.580Z"
   },
   {
    "duration": 227,
    "start_time": "2022-10-06T18:53:41.722Z"
   },
   {
    "duration": 216,
    "start_time": "2022-10-06T18:54:31.252Z"
   },
   {
    "duration": 223,
    "start_time": "2022-10-06T18:55:03.924Z"
   },
   {
    "duration": 12,
    "start_time": "2022-10-06T19:00:18.999Z"
   },
   {
    "duration": 15,
    "start_time": "2022-10-06T19:06:36.404Z"
   },
   {
    "duration": 14,
    "start_time": "2022-10-06T19:08:45.334Z"
   },
   {
    "duration": 12,
    "start_time": "2022-10-06T19:09:09.255Z"
   },
   {
    "duration": 19,
    "start_time": "2022-10-06T19:09:47.359Z"
   },
   {
    "duration": 13,
    "start_time": "2022-10-06T19:13:46.442Z"
   },
   {
    "duration": 15,
    "start_time": "2022-10-06T19:13:58.098Z"
   },
   {
    "duration": 6,
    "start_time": "2022-10-06T19:14:14.627Z"
   },
   {
    "duration": 83,
    "start_time": "2022-10-06T19:14:22.371Z"
   },
   {
    "duration": 6,
    "start_time": "2022-10-06T19:14:26.778Z"
   },
   {
    "duration": 7,
    "start_time": "2022-10-06T19:15:03.044Z"
   },
   {
    "duration": 7,
    "start_time": "2022-10-06T19:15:09.771Z"
   },
   {
    "duration": 6,
    "start_time": "2022-10-06T19:15:35.053Z"
   },
   {
    "duration": 6,
    "start_time": "2022-10-06T19:18:31.493Z"
   },
   {
    "duration": 7,
    "start_time": "2022-10-06T19:21:07.431Z"
   },
   {
    "duration": 6,
    "start_time": "2022-10-06T19:21:28.128Z"
   },
   {
    "duration": 6,
    "start_time": "2022-10-06T19:25:23.059Z"
   },
   {
    "duration": 5,
    "start_time": "2022-10-06T19:25:48.562Z"
   },
   {
    "duration": 45,
    "start_time": "2022-10-06T19:25:55.483Z"
   },
   {
    "duration": 55,
    "start_time": "2022-10-06T19:25:59.539Z"
   },
   {
    "duration": 9,
    "start_time": "2022-10-06T19:26:04.634Z"
   },
   {
    "duration": 5,
    "start_time": "2022-10-06T19:26:15.323Z"
   },
   {
    "duration": 5,
    "start_time": "2022-10-06T19:26:24.331Z"
   },
   {
    "duration": 4,
    "start_time": "2022-10-06T19:26:30.774Z"
   },
   {
    "duration": 14,
    "start_time": "2022-10-06T19:26:30.781Z"
   },
   {
    "duration": 408,
    "start_time": "2022-10-06T19:26:30.797Z"
   },
   {
    "duration": 27,
    "start_time": "2022-10-06T19:26:31.208Z"
   },
   {
    "duration": 63,
    "start_time": "2022-10-06T19:26:31.237Z"
   },
   {
    "duration": 171,
    "start_time": "2022-10-06T19:26:31.302Z"
   },
   {
    "duration": 12,
    "start_time": "2022-10-06T19:26:31.475Z"
   },
   {
    "duration": 507,
    "start_time": "2022-10-06T19:26:31.489Z"
   },
   {
    "duration": 242,
    "start_time": "2022-10-06T19:26:31.998Z"
   },
   {
    "duration": 215,
    "start_time": "2022-10-06T19:26:32.242Z"
   },
   {
    "duration": 2,
    "start_time": "2022-10-06T19:26:32.460Z"
   },
   {
    "duration": 9,
    "start_time": "2022-10-06T19:26:32.464Z"
   },
   {
    "duration": 12031,
    "start_time": "2022-10-06T19:26:32.475Z"
   },
   {
    "duration": 12,
    "start_time": "2022-10-06T19:26:44.508Z"
   },
   {
    "duration": 14,
    "start_time": "2022-10-06T19:26:44.523Z"
   },
   {
    "duration": 191,
    "start_time": "2022-10-06T19:26:44.539Z"
   },
   {
    "duration": 5,
    "start_time": "2022-10-06T19:26:44.732Z"
   },
   {
    "duration": 12,
    "start_time": "2022-10-06T19:26:44.740Z"
   },
   {
    "duration": 16,
    "start_time": "2022-10-06T19:26:44.754Z"
   },
   {
    "duration": 856,
    "start_time": "2022-10-06T19:26:44.772Z"
   },
   {
    "duration": 890,
    "start_time": "2022-10-06T19:26:45.631Z"
   },
   {
    "duration": 1098,
    "start_time": "2022-10-06T19:26:46.523Z"
   },
   {
    "duration": 1200,
    "start_time": "2022-10-06T19:26:47.623Z"
   },
   {
    "duration": 206,
    "start_time": "2022-10-06T19:26:48.826Z"
   },
   {
    "duration": 87,
    "start_time": "2022-10-06T19:26:49.036Z"
   },
   {
    "duration": 112,
    "start_time": "2022-10-06T19:26:49.126Z"
   },
   {
    "duration": 28,
    "start_time": "2022-10-06T19:26:49.239Z"
   },
   {
    "duration": 11,
    "start_time": "2022-10-06T19:26:49.269Z"
   },
   {
    "duration": 212,
    "start_time": "2022-10-06T19:26:49.284Z"
   },
   {
    "duration": 4,
    "start_time": "2022-10-06T19:26:49.499Z"
   },
   {
    "duration": 29,
    "start_time": "2022-10-06T19:26:49.504Z"
   },
   {
    "duration": 378,
    "start_time": "2022-10-06T19:26:49.534Z"
   },
   {
    "duration": 194,
    "start_time": "2022-10-06T19:26:49.914Z"
   },
   {
    "duration": 11,
    "start_time": "2022-10-06T19:26:50.110Z"
   },
   {
    "duration": 15,
    "start_time": "2022-10-06T19:26:50.123Z"
   },
   {
    "duration": 55,
    "start_time": "2022-10-06T19:26:50.140Z"
   },
   {
    "duration": 5,
    "start_time": "2022-10-06T19:30:45.158Z"
   },
   {
    "duration": 13,
    "start_time": "2022-10-06T19:30:45.902Z"
   },
   {
    "duration": 12,
    "start_time": "2022-10-06T19:30:47.855Z"
   },
   {
    "duration": 17,
    "start_time": "2022-10-06T19:30:49.342Z"
   },
   {
    "duration": 5,
    "start_time": "2022-10-06T19:33:21.576Z"
   },
   {
    "duration": 11,
    "start_time": "2022-10-06T19:33:22.159Z"
   },
   {
    "duration": 5,
    "start_time": "2022-10-06T19:33:40.913Z"
   },
   {
    "duration": 10,
    "start_time": "2022-10-06T19:33:47.568Z"
   },
   {
    "duration": 5,
    "start_time": "2022-10-06T19:33:52.616Z"
   },
   {
    "duration": 12,
    "start_time": "2022-10-06T19:33:53.232Z"
   },
   {
    "duration": 13,
    "start_time": "2022-10-06T19:33:53.856Z"
   },
   {
    "duration": 193,
    "start_time": "2022-10-06T19:33:55.360Z"
   },
   {
    "duration": 6,
    "start_time": "2022-10-06T19:34:35.160Z"
   },
   {
    "duration": 11,
    "start_time": "2022-10-06T19:34:36.056Z"
   },
   {
    "duration": 10,
    "start_time": "2022-10-06T19:34:37.057Z"
   },
   {
    "duration": 162,
    "start_time": "2022-10-06T19:34:38.073Z"
   },
   {
    "duration": 4,
    "start_time": "2022-10-06T19:34:43.160Z"
   },
   {
    "duration": 23,
    "start_time": "2022-10-06T19:34:43.166Z"
   },
   {
    "duration": 383,
    "start_time": "2022-10-06T19:34:43.191Z"
   },
   {
    "duration": 24,
    "start_time": "2022-10-06T19:34:43.576Z"
   },
   {
    "duration": 58,
    "start_time": "2022-10-06T19:34:43.601Z"
   },
   {
    "duration": 164,
    "start_time": "2022-10-06T19:34:43.661Z"
   },
   {
    "duration": 16,
    "start_time": "2022-10-06T19:34:43.827Z"
   },
   {
    "duration": 501,
    "start_time": "2022-10-06T19:34:43.845Z"
   },
   {
    "duration": 238,
    "start_time": "2022-10-06T19:34:44.349Z"
   },
   {
    "duration": 207,
    "start_time": "2022-10-06T19:34:44.589Z"
   },
   {
    "duration": 3,
    "start_time": "2022-10-06T19:34:44.798Z"
   },
   {
    "duration": 19,
    "start_time": "2022-10-06T19:34:44.802Z"
   },
   {
    "duration": 11768,
    "start_time": "2022-10-06T19:34:44.822Z"
   },
   {
    "duration": 5,
    "start_time": "2022-10-06T19:34:56.591Z"
   },
   {
    "duration": 29,
    "start_time": "2022-10-06T19:34:56.598Z"
   },
   {
    "duration": 211,
    "start_time": "2022-10-06T19:34:56.629Z"
   },
   {
    "duration": 6,
    "start_time": "2022-10-06T19:34:56.842Z"
   },
   {
    "duration": 25,
    "start_time": "2022-10-06T19:34:56.850Z"
   },
   {
    "duration": 23,
    "start_time": "2022-10-06T19:34:56.877Z"
   },
   {
    "duration": 1032,
    "start_time": "2022-10-06T19:34:56.902Z"
   },
   {
    "duration": 890,
    "start_time": "2022-10-06T19:34:57.937Z"
   },
   {
    "duration": 1096,
    "start_time": "2022-10-06T19:34:58.830Z"
   },
   {
    "duration": 1200,
    "start_time": "2022-10-06T19:34:59.927Z"
   },
   {
    "duration": 193,
    "start_time": "2022-10-06T19:35:01.131Z"
   },
   {
    "duration": 219,
    "start_time": "2022-10-06T19:35:01.327Z"
   },
   {
    "duration": 38,
    "start_time": "2022-10-06T19:35:01.547Z"
   },
   {
    "duration": 42,
    "start_time": "2022-10-06T19:35:01.587Z"
   },
   {
    "duration": 38,
    "start_time": "2022-10-06T19:35:01.631Z"
   },
   {
    "duration": 212,
    "start_time": "2022-10-06T19:35:01.671Z"
   },
   {
    "duration": 4,
    "start_time": "2022-10-06T19:35:01.885Z"
   },
   {
    "duration": 18,
    "start_time": "2022-10-06T19:35:01.891Z"
   },
   {
    "duration": 200,
    "start_time": "2022-10-06T19:35:01.921Z"
   },
   {
    "duration": 173,
    "start_time": "2022-10-06T19:35:02.123Z"
   },
   {
    "duration": 4,
    "start_time": "2022-10-06T19:35:02.298Z"
   },
   {
    "duration": 24,
    "start_time": "2022-10-06T19:35:02.304Z"
   },
   {
    "duration": 45,
    "start_time": "2022-10-06T19:35:02.330Z"
   },
   {
    "duration": 4,
    "start_time": "2022-10-06T19:35:42.378Z"
   },
   {
    "duration": 10,
    "start_time": "2022-10-06T19:35:42.881Z"
   },
   {
    "duration": 10,
    "start_time": "2022-10-06T19:35:43.425Z"
   },
   {
    "duration": 186,
    "start_time": "2022-10-06T19:35:44.153Z"
   },
   {
    "duration": 5,
    "start_time": "2022-10-06T19:36:09.234Z"
   },
   {
    "duration": 12,
    "start_time": "2022-10-06T19:36:09.689Z"
   },
   {
    "duration": 11,
    "start_time": "2022-10-06T19:36:10.170Z"
   },
   {
    "duration": 210,
    "start_time": "2022-10-06T19:36:10.801Z"
   },
   {
    "duration": 4,
    "start_time": "2022-10-06T19:37:36.531Z"
   },
   {
    "duration": 882,
    "start_time": "2022-10-06T19:37:41.539Z"
   },
   {
    "duration": 4,
    "start_time": "2022-10-06T19:38:02.412Z"
   },
   {
    "duration": 21,
    "start_time": "2022-10-06T19:38:02.418Z"
   },
   {
    "duration": 396,
    "start_time": "2022-10-06T19:38:02.441Z"
   },
   {
    "duration": 30,
    "start_time": "2022-10-06T19:38:02.839Z"
   },
   {
    "duration": 66,
    "start_time": "2022-10-06T19:38:02.871Z"
   },
   {
    "duration": 146,
    "start_time": "2022-10-06T19:38:02.939Z"
   },
   {
    "duration": 11,
    "start_time": "2022-10-06T19:38:03.087Z"
   },
   {
    "duration": 634,
    "start_time": "2022-10-06T19:38:03.100Z"
   },
   {
    "duration": 248,
    "start_time": "2022-10-06T19:38:03.736Z"
   },
   {
    "duration": 210,
    "start_time": "2022-10-06T19:38:03.986Z"
   },
   {
    "duration": 2,
    "start_time": "2022-10-06T19:38:04.200Z"
   },
   {
    "duration": 20,
    "start_time": "2022-10-06T19:38:04.204Z"
   },
   {
    "duration": 11741,
    "start_time": "2022-10-06T19:38:04.226Z"
   },
   {
    "duration": 5,
    "start_time": "2022-10-06T19:38:15.968Z"
   },
   {
    "duration": 12,
    "start_time": "2022-10-06T19:38:15.976Z"
   },
   {
    "duration": 202,
    "start_time": "2022-10-06T19:38:15.991Z"
   },
   {
    "duration": 5,
    "start_time": "2022-10-06T19:38:16.195Z"
   },
   {
    "duration": 9,
    "start_time": "2022-10-06T19:38:16.202Z"
   },
   {
    "duration": 4,
    "start_time": "2022-10-06T19:38:16.222Z"
   },
   {
    "duration": 899,
    "start_time": "2022-10-06T19:38:16.227Z"
   },
   {
    "duration": 992,
    "start_time": "2022-10-06T19:38:17.128Z"
   },
   {
    "duration": 1000,
    "start_time": "2022-10-06T19:38:18.126Z"
   },
   {
    "duration": 1201,
    "start_time": "2022-10-06T19:38:19.129Z"
   },
   {
    "duration": 107,
    "start_time": "2022-10-06T19:38:20.421Z"
   },
   {
    "duration": 194,
    "start_time": "2022-10-06T19:38:20.530Z"
   },
   {
    "duration": 43,
    "start_time": "2022-10-06T19:38:20.726Z"
   },
   {
    "duration": 37,
    "start_time": "2022-10-06T19:38:20.772Z"
   },
   {
    "duration": 30,
    "start_time": "2022-10-06T19:38:20.811Z"
   },
   {
    "duration": 234,
    "start_time": "2022-10-06T19:38:20.844Z"
   },
   {
    "duration": 3,
    "start_time": "2022-10-06T19:38:21.080Z"
   },
   {
    "duration": 21,
    "start_time": "2022-10-06T19:38:21.085Z"
   },
   {
    "duration": 231,
    "start_time": "2022-10-06T19:38:21.108Z"
   },
   {
    "duration": 204,
    "start_time": "2022-10-06T19:38:21.341Z"
   },
   {
    "duration": 3,
    "start_time": "2022-10-06T19:38:21.547Z"
   },
   {
    "duration": 43,
    "start_time": "2022-10-06T19:38:21.552Z"
   },
   {
    "duration": 60,
    "start_time": "2022-10-06T19:38:21.597Z"
   },
   {
    "duration": 45,
    "start_time": "2022-10-06T20:21:23.966Z"
   },
   {
    "duration": 4,
    "start_time": "2022-10-06T20:21:29.494Z"
   },
   {
    "duration": 35,
    "start_time": "2022-10-06T20:21:31.398Z"
   },
   {
    "duration": 3,
    "start_time": "2022-10-06T20:25:08.105Z"
   },
   {
    "duration": 37,
    "start_time": "2022-10-06T20:25:11.912Z"
   },
   {
    "duration": 50,
    "start_time": "2022-10-06T20:27:11.989Z"
   },
   {
    "duration": 36,
    "start_time": "2022-10-06T20:27:51.579Z"
   },
   {
    "duration": 36,
    "start_time": "2022-10-06T20:27:58.667Z"
   },
   {
    "duration": 37,
    "start_time": "2022-10-06T20:28:03.325Z"
   },
   {
    "duration": 43,
    "start_time": "2022-10-06T20:32:27.678Z"
   },
   {
    "duration": 11,
    "start_time": "2022-10-06T20:33:34.496Z"
   },
   {
    "duration": 9,
    "start_time": "2022-10-06T20:34:10.728Z"
   },
   {
    "duration": 15,
    "start_time": "2022-10-06T20:34:16.975Z"
   },
   {
    "duration": 195,
    "start_time": "2022-10-06T20:38:33.354Z"
   },
   {
    "duration": 128,
    "start_time": "2022-10-06T20:39:23.632Z"
   },
   {
    "duration": 133,
    "start_time": "2022-10-06T20:40:03.364Z"
   },
   {
    "duration": 156,
    "start_time": "2022-10-06T20:40:43.804Z"
   },
   {
    "duration": 149,
    "start_time": "2022-10-06T20:41:16.909Z"
   },
   {
    "duration": 151,
    "start_time": "2022-10-06T20:41:29.804Z"
   },
   {
    "duration": 150,
    "start_time": "2022-10-06T20:41:34.631Z"
   },
   {
    "duration": 13,
    "start_time": "2022-10-06T20:41:43.549Z"
   },
   {
    "duration": 163,
    "start_time": "2022-10-06T20:42:35.941Z"
   },
   {
    "duration": 3259,
    "start_time": "2022-10-06T20:42:59.021Z"
   },
   {
    "duration": 168,
    "start_time": "2022-10-06T20:43:14.679Z"
   },
   {
    "duration": 5,
    "start_time": "2022-10-06T20:45:34.378Z"
   },
   {
    "duration": 7,
    "start_time": "2022-10-06T20:45:41.504Z"
   },
   {
    "duration": 7,
    "start_time": "2022-10-06T20:45:58.287Z"
   },
   {
    "duration": 5,
    "start_time": "2022-10-06T20:46:29.441Z"
   },
   {
    "duration": 5,
    "start_time": "2022-10-06T20:46:43.160Z"
   },
   {
    "duration": 7,
    "start_time": "2022-10-06T20:47:01.539Z"
   },
   {
    "duration": 8,
    "start_time": "2022-10-06T20:47:07.739Z"
   },
   {
    "duration": 11,
    "start_time": "2022-10-06T20:47:16.873Z"
   },
   {
    "duration": 48,
    "start_time": "2022-10-06T20:50:20.995Z"
   },
   {
    "duration": 15,
    "start_time": "2022-10-06T20:55:31.753Z"
   },
   {
    "duration": 26,
    "start_time": "2022-10-06T20:55:51.497Z"
   },
   {
    "duration": 27,
    "start_time": "2022-10-06T20:56:21.664Z"
   },
   {
    "duration": 28,
    "start_time": "2022-10-06T20:56:55.667Z"
   },
   {
    "duration": 27,
    "start_time": "2022-10-06T20:58:22.097Z"
   },
   {
    "duration": 12,
    "start_time": "2022-10-06T21:01:04.564Z"
   },
   {
    "duration": 146,
    "start_time": "2022-10-06T21:01:30.003Z"
   },
   {
    "duration": 24,
    "start_time": "2022-10-06T21:02:30.333Z"
   },
   {
    "duration": 37,
    "start_time": "2022-10-06T21:02:43.373Z"
   },
   {
    "duration": 1499,
    "start_time": "2022-10-06T21:03:32.078Z"
   },
   {
    "duration": 686,
    "start_time": "2022-10-06T21:03:47.141Z"
   },
   {
    "duration": 37,
    "start_time": "2022-10-06T21:03:50.478Z"
   },
   {
    "duration": 712,
    "start_time": "2022-10-06T21:03:57.053Z"
   },
   {
    "duration": 1023,
    "start_time": "2022-10-06T21:04:11.950Z"
   },
   {
    "duration": 17,
    "start_time": "2022-10-06T21:04:46.374Z"
   },
   {
    "duration": 1625,
    "start_time": "2022-10-06T21:05:02.662Z"
   },
   {
    "duration": 5,
    "start_time": "2022-10-06T21:05:21.471Z"
   },
   {
    "duration": 147,
    "start_time": "2022-10-06T21:05:45.839Z"
   },
   {
    "duration": 135,
    "start_time": "2022-10-06T21:06:24.175Z"
   },
   {
    "duration": 127,
    "start_time": "2022-10-06T21:06:29.807Z"
   },
   {
    "duration": 106,
    "start_time": "2022-10-06T21:06:55.096Z"
   },
   {
    "duration": 166,
    "start_time": "2022-10-06T21:08:43.825Z"
   },
   {
    "duration": 163,
    "start_time": "2022-10-06T21:10:47.403Z"
   },
   {
    "duration": 149,
    "start_time": "2022-10-06T21:11:15.236Z"
   },
   {
    "duration": 202,
    "start_time": "2022-10-06T21:12:05.684Z"
   },
   {
    "duration": 4,
    "start_time": "2022-10-06T21:12:26.930Z"
   },
   {
    "duration": 15,
    "start_time": "2022-10-06T21:12:26.936Z"
   },
   {
    "duration": 375,
    "start_time": "2022-10-06T21:12:26.954Z"
   },
   {
    "duration": 24,
    "start_time": "2022-10-06T21:12:27.330Z"
   },
   {
    "duration": 65,
    "start_time": "2022-10-06T21:12:27.356Z"
   },
   {
    "duration": 138,
    "start_time": "2022-10-06T21:12:27.423Z"
   },
   {
    "duration": 12,
    "start_time": "2022-10-06T21:12:27.562Z"
   },
   {
    "duration": 486,
    "start_time": "2022-10-06T21:12:27.575Z"
   },
   {
    "duration": 223,
    "start_time": "2022-10-06T21:12:28.063Z"
   },
   {
    "duration": 197,
    "start_time": "2022-10-06T21:12:28.288Z"
   },
   {
    "duration": 2,
    "start_time": "2022-10-06T21:12:28.488Z"
   },
   {
    "duration": 7,
    "start_time": "2022-10-06T21:12:28.492Z"
   },
   {
    "duration": 11512,
    "start_time": "2022-10-06T21:12:28.500Z"
   },
   {
    "duration": 10,
    "start_time": "2022-10-06T21:12:40.014Z"
   },
   {
    "duration": 33,
    "start_time": "2022-10-06T21:12:40.025Z"
   },
   {
    "duration": 180,
    "start_time": "2022-10-06T21:12:40.060Z"
   },
   {
    "duration": 5,
    "start_time": "2022-10-06T21:12:40.242Z"
   },
   {
    "duration": 7,
    "start_time": "2022-10-06T21:12:40.248Z"
   },
   {
    "duration": 5,
    "start_time": "2022-10-06T21:12:40.257Z"
   },
   {
    "duration": 964,
    "start_time": "2022-10-06T21:12:40.264Z"
   },
   {
    "duration": 1090,
    "start_time": "2022-10-06T21:12:41.231Z"
   },
   {
    "duration": 1004,
    "start_time": "2022-10-06T21:12:42.323Z"
   },
   {
    "duration": 1201,
    "start_time": "2022-10-06T21:12:43.329Z"
   },
   {
    "duration": 106,
    "start_time": "2022-10-06T21:12:44.622Z"
   },
   {
    "duration": 94,
    "start_time": "2022-10-06T21:12:44.732Z"
   },
   {
    "duration": 94,
    "start_time": "2022-10-06T21:12:44.830Z"
   },
   {
    "duration": 23,
    "start_time": "2022-10-06T21:12:44.926Z"
   },
   {
    "duration": 9,
    "start_time": "2022-10-06T21:12:44.951Z"
   },
   {
    "duration": 218,
    "start_time": "2022-10-06T21:12:44.963Z"
   },
   {
    "duration": 3,
    "start_time": "2022-10-06T21:12:45.183Z"
   },
   {
    "duration": 12,
    "start_time": "2022-10-06T21:12:45.188Z"
   },
   {
    "duration": 221,
    "start_time": "2022-10-06T21:12:45.202Z"
   },
   {
    "duration": 4,
    "start_time": "2022-10-06T21:12:45.425Z"
   },
   {
    "duration": 45,
    "start_time": "2022-10-06T21:12:45.430Z"
   },
   {
    "duration": 6,
    "start_time": "2022-10-06T21:12:45.477Z"
   },
   {
    "duration": 19,
    "start_time": "2022-10-06T21:12:45.485Z"
   },
   {
    "duration": 32,
    "start_time": "2022-10-06T21:12:45.521Z"
   },
   {
    "duration": 180,
    "start_time": "2022-10-06T21:12:45.554Z"
   },
   {
    "duration": 0,
    "start_time": "2022-10-06T21:12:45.736Z"
   },
   {
    "duration": 218,
    "start_time": "2022-10-06T21:16:26.928Z"
   },
   {
    "duration": 162,
    "start_time": "2022-10-06T21:16:41.629Z"
   },
   {
    "duration": 348,
    "start_time": "2022-10-06T21:16:52.478Z"
   },
   {
    "duration": 47,
    "start_time": "2022-10-07T06:05:40.004Z"
   },
   {
    "duration": 1657,
    "start_time": "2022-10-07T06:05:43.853Z"
   },
   {
    "duration": 3,
    "start_time": "2022-10-07T06:05:45.512Z"
   },
   {
    "duration": 1531,
    "start_time": "2022-10-07T06:05:45.516Z"
   },
   {
    "duration": 25,
    "start_time": "2022-10-07T06:05:47.050Z"
   },
   {
    "duration": 45,
    "start_time": "2022-10-07T06:05:47.077Z"
   },
   {
    "duration": 125,
    "start_time": "2022-10-07T06:05:47.123Z"
   },
   {
    "duration": 10,
    "start_time": "2022-10-07T06:05:47.250Z"
   },
   {
    "duration": 414,
    "start_time": "2022-10-07T06:05:47.261Z"
   },
   {
    "duration": 192,
    "start_time": "2022-10-07T06:05:47.677Z"
   },
   {
    "duration": 168,
    "start_time": "2022-10-07T06:05:47.872Z"
   },
   {
    "duration": 2,
    "start_time": "2022-10-07T06:05:48.042Z"
   },
   {
    "duration": 7,
    "start_time": "2022-10-07T06:05:48.046Z"
   },
   {
    "duration": 10183,
    "start_time": "2022-10-07T06:05:48.055Z"
   },
   {
    "duration": 4,
    "start_time": "2022-10-07T06:05:58.240Z"
   },
   {
    "duration": 12,
    "start_time": "2022-10-07T06:05:58.245Z"
   },
   {
    "duration": 156,
    "start_time": "2022-10-07T06:05:58.259Z"
   },
   {
    "duration": 6,
    "start_time": "2022-10-07T06:05:58.417Z"
   },
   {
    "duration": 10,
    "start_time": "2022-10-07T06:05:58.425Z"
   },
   {
    "duration": 67,
    "start_time": "2022-10-07T06:05:58.437Z"
   },
   {
    "duration": 0,
    "start_time": "2022-10-07T06:05:58.507Z"
   },
   {
    "duration": 0,
    "start_time": "2022-10-07T06:05:58.508Z"
   },
   {
    "duration": 0,
    "start_time": "2022-10-07T06:05:58.509Z"
   },
   {
    "duration": 0,
    "start_time": "2022-10-07T06:05:58.521Z"
   },
   {
    "duration": 0,
    "start_time": "2022-10-07T06:05:58.523Z"
   },
   {
    "duration": 0,
    "start_time": "2022-10-07T06:05:58.524Z"
   },
   {
    "duration": 0,
    "start_time": "2022-10-07T06:05:58.526Z"
   },
   {
    "duration": 0,
    "start_time": "2022-10-07T06:05:58.527Z"
   },
   {
    "duration": 0,
    "start_time": "2022-10-07T06:05:58.529Z"
   },
   {
    "duration": 0,
    "start_time": "2022-10-07T06:05:58.530Z"
   },
   {
    "duration": 0,
    "start_time": "2022-10-07T06:05:58.531Z"
   },
   {
    "duration": 0,
    "start_time": "2022-10-07T06:05:58.533Z"
   },
   {
    "duration": 0,
    "start_time": "2022-10-07T06:05:58.534Z"
   },
   {
    "duration": 0,
    "start_time": "2022-10-07T06:05:58.535Z"
   },
   {
    "duration": 0,
    "start_time": "2022-10-07T06:05:58.537Z"
   },
   {
    "duration": 0,
    "start_time": "2022-10-07T06:05:58.538Z"
   },
   {
    "duration": 1,
    "start_time": "2022-10-07T06:05:58.539Z"
   },
   {
    "duration": 0,
    "start_time": "2022-10-07T06:05:58.541Z"
   },
   {
    "duration": 0,
    "start_time": "2022-10-07T06:05:58.542Z"
   },
   {
    "duration": 0,
    "start_time": "2022-10-07T06:05:58.544Z"
   },
   {
    "duration": 6,
    "start_time": "2022-10-07T06:07:38.073Z"
   },
   {
    "duration": 1102,
    "start_time": "2022-10-07T06:07:40.120Z"
   },
   {
    "duration": 999,
    "start_time": "2022-10-07T06:07:41.224Z"
   },
   {
    "duration": 904,
    "start_time": "2022-10-07T06:07:42.225Z"
   },
   {
    "duration": 1298,
    "start_time": "2022-10-07T06:07:43.131Z"
   },
   {
    "duration": 191,
    "start_time": "2022-10-07T06:07:44.431Z"
   },
   {
    "duration": 106,
    "start_time": "2022-10-07T06:07:44.624Z"
   },
   {
    "duration": 9,
    "start_time": "2022-10-07T06:07:44.732Z"
   },
   {
    "duration": 85,
    "start_time": "2022-10-07T06:07:44.743Z"
   },
   {
    "duration": 168,
    "start_time": "2022-10-07T06:07:44.829Z"
   },
   {
    "duration": 3,
    "start_time": "2022-10-07T06:07:44.999Z"
   },
   {
    "duration": 7,
    "start_time": "2022-10-07T06:07:45.003Z"
   },
   {
    "duration": 188,
    "start_time": "2022-10-07T06:07:45.022Z"
   },
   {
    "duration": 10,
    "start_time": "2022-10-07T06:07:45.212Z"
   },
   {
    "duration": 34,
    "start_time": "2022-10-07T06:07:45.224Z"
   },
   {
    "duration": 5,
    "start_time": "2022-10-07T06:07:45.327Z"
   },
   {
    "duration": 13,
    "start_time": "2022-10-07T06:07:45.491Z"
   },
   {
    "duration": 29,
    "start_time": "2022-10-07T06:07:45.647Z"
   },
   {
    "duration": 122,
    "start_time": "2022-10-07T06:07:46.634Z"
   },
   {
    "duration": 230,
    "start_time": "2022-10-07T06:07:46.843Z"
   },
   {
    "duration": 87,
    "start_time": "2022-10-07T06:13:39.313Z"
   },
   {
    "duration": 229,
    "start_time": "2022-10-07T06:13:54.290Z"
   },
   {
    "duration": 209,
    "start_time": "2022-10-07T06:14:31.094Z"
   },
   {
    "duration": 220,
    "start_time": "2022-10-07T06:14:48.549Z"
   },
   {
    "duration": 199,
    "start_time": "2022-10-07T06:14:53.543Z"
   },
   {
    "duration": 196,
    "start_time": "2022-10-07T06:15:46.228Z"
   },
   {
    "duration": 1210,
    "start_time": "2022-10-07T06:16:46.193Z"
   },
   {
    "duration": 220,
    "start_time": "2022-10-07T06:27:01.586Z"
   },
   {
    "duration": 192,
    "start_time": "2022-10-07T06:27:11.984Z"
   },
   {
    "duration": 18,
    "start_time": "2022-10-07T06:27:28.645Z"
   },
   {
    "duration": 193,
    "start_time": "2022-10-07T06:27:53.137Z"
   },
   {
    "duration": 183,
    "start_time": "2022-10-07T06:28:04.861Z"
   },
   {
    "duration": 1231,
    "start_time": "2022-10-07T06:31:09.736Z"
   },
   {
    "duration": 9,
    "start_time": "2022-10-07T06:31:56.469Z"
   },
   {
    "duration": 10,
    "start_time": "2022-10-07T06:32:25.310Z"
   },
   {
    "duration": 10,
    "start_time": "2022-10-07T06:34:49.076Z"
   },
   {
    "duration": 22,
    "start_time": "2022-10-07T06:35:25.382Z"
   },
   {
    "duration": 31,
    "start_time": "2022-10-07T06:36:04.351Z"
   },
   {
    "duration": 183,
    "start_time": "2022-10-07T06:36:17.577Z"
   },
   {
    "duration": 9,
    "start_time": "2022-10-07T06:36:21.978Z"
   },
   {
    "duration": 26,
    "start_time": "2022-10-07T06:37:04.783Z"
   },
   {
    "duration": 11,
    "start_time": "2022-10-07T06:37:17.946Z"
   },
   {
    "duration": 71,
    "start_time": "2022-10-07T06:38:01.191Z"
   },
   {
    "duration": 9,
    "start_time": "2022-10-07T06:38:15.840Z"
   },
   {
    "duration": 240,
    "start_time": "2022-10-07T06:38:41.220Z"
   },
   {
    "duration": 19,
    "start_time": "2022-10-07T06:40:17.716Z"
   },
   {
    "duration": 18,
    "start_time": "2022-10-07T06:40:26.833Z"
   },
   {
    "duration": 26,
    "start_time": "2022-10-07T06:40:46.633Z"
   },
   {
    "duration": 21,
    "start_time": "2022-10-07T06:41:23.600Z"
   },
   {
    "duration": 31,
    "start_time": "2022-10-07T06:41:30.370Z"
   },
   {
    "duration": 22,
    "start_time": "2022-10-07T07:24:32.799Z"
   },
   {
    "duration": 21,
    "start_time": "2022-10-07T07:24:59.739Z"
   },
   {
    "duration": 10,
    "start_time": "2022-10-07T07:25:55.637Z"
   },
   {
    "duration": 7,
    "start_time": "2022-10-07T07:26:06.154Z"
   },
   {
    "duration": 5,
    "start_time": "2022-10-07T07:26:19.690Z"
   },
   {
    "duration": 8,
    "start_time": "2022-10-07T08:05:25.435Z"
   },
   {
    "duration": 4,
    "start_time": "2022-10-07T08:05:31.227Z"
   },
   {
    "duration": 4,
    "start_time": "2022-10-07T08:05:38.196Z"
   },
   {
    "duration": 6,
    "start_time": "2022-10-07T08:06:11.095Z"
   },
   {
    "duration": 30,
    "start_time": "2022-10-07T08:14:47.991Z"
   },
   {
    "duration": 8,
    "start_time": "2022-10-07T08:26:04.876Z"
   },
   {
    "duration": 4,
    "start_time": "2022-10-07T08:50:56.259Z"
   },
   {
    "duration": 3,
    "start_time": "2022-10-07T08:53:48.330Z"
   },
   {
    "duration": 3,
    "start_time": "2022-10-07T09:21:10.390Z"
   },
   {
    "duration": 3,
    "start_time": "2022-10-07T09:21:15.826Z"
   },
   {
    "duration": 4,
    "start_time": "2022-10-07T09:21:53.804Z"
   },
   {
    "duration": 3,
    "start_time": "2022-10-07T09:22:06.540Z"
   },
   {
    "duration": 4,
    "start_time": "2022-10-07T10:39:50.370Z"
   },
   {
    "duration": 12,
    "start_time": "2022-10-07T10:39:51.757Z"
   },
   {
    "duration": 3,
    "start_time": "2022-10-07T10:40:02.287Z"
   },
   {
    "duration": 38,
    "start_time": "2022-10-07T10:40:02.291Z"
   },
   {
    "duration": 372,
    "start_time": "2022-10-07T10:40:02.332Z"
   },
   {
    "duration": 23,
    "start_time": "2022-10-07T10:40:02.705Z"
   },
   {
    "duration": 33,
    "start_time": "2022-10-07T10:40:02.730Z"
   },
   {
    "duration": 128,
    "start_time": "2022-10-07T10:40:02.764Z"
   },
   {
    "duration": 9,
    "start_time": "2022-10-07T10:40:02.894Z"
   },
   {
    "duration": 395,
    "start_time": "2022-10-07T10:40:02.904Z"
   },
   {
    "duration": 183,
    "start_time": "2022-10-07T10:40:03.301Z"
   },
   {
    "duration": 161,
    "start_time": "2022-10-07T10:40:03.486Z"
   },
   {
    "duration": 2,
    "start_time": "2022-10-07T10:40:03.650Z"
   },
   {
    "duration": 10,
    "start_time": "2022-10-07T10:40:03.653Z"
   },
   {
    "duration": 9796,
    "start_time": "2022-10-07T10:40:03.665Z"
   },
   {
    "duration": 3,
    "start_time": "2022-10-07T10:40:13.463Z"
   },
   {
    "duration": 22,
    "start_time": "2022-10-07T10:40:13.468Z"
   },
   {
    "duration": 146,
    "start_time": "2022-10-07T10:40:13.491Z"
   },
   {
    "duration": 4,
    "start_time": "2022-10-07T10:40:13.639Z"
   },
   {
    "duration": 5,
    "start_time": "2022-10-07T10:40:13.645Z"
   },
   {
    "duration": 9,
    "start_time": "2022-10-07T10:40:13.652Z"
   },
   {
    "duration": 760,
    "start_time": "2022-10-07T10:40:13.662Z"
   },
   {
    "duration": 798,
    "start_time": "2022-10-07T10:40:14.424Z"
   },
   {
    "duration": 798,
    "start_time": "2022-10-07T10:40:15.224Z"
   },
   {
    "duration": 1205,
    "start_time": "2022-10-07T10:40:16.024Z"
   },
   {
    "duration": 193,
    "start_time": "2022-10-07T10:40:17.231Z"
   },
   {
    "duration": 99,
    "start_time": "2022-10-07T10:40:17.426Z"
   },
   {
    "duration": 104,
    "start_time": "2022-10-07T10:40:17.527Z"
   },
   {
    "duration": 9,
    "start_time": "2022-10-07T10:40:17.633Z"
   },
   {
    "duration": 179,
    "start_time": "2022-10-07T10:40:17.643Z"
   },
   {
    "duration": 3,
    "start_time": "2022-10-07T10:40:17.825Z"
   },
   {
    "duration": 10,
    "start_time": "2022-10-07T10:40:17.829Z"
   },
   {
    "duration": 186,
    "start_time": "2022-10-07T10:40:17.840Z"
   },
   {
    "duration": 5,
    "start_time": "2022-10-07T10:40:18.028Z"
   },
   {
    "duration": 18,
    "start_time": "2022-10-07T10:40:18.034Z"
   },
   {
    "duration": 37,
    "start_time": "2022-10-07T10:40:18.053Z"
   },
   {
    "duration": 5,
    "start_time": "2022-10-07T10:40:18.091Z"
   },
   {
    "duration": 18,
    "start_time": "2022-10-07T10:40:18.098Z"
   },
   {
    "duration": 29,
    "start_time": "2022-10-07T10:40:18.117Z"
   },
   {
    "duration": 198,
    "start_time": "2022-10-07T10:40:18.147Z"
   },
   {
    "duration": 5,
    "start_time": "2022-10-07T10:40:18.346Z"
   },
   {
    "duration": 12,
    "start_time": "2022-10-07T10:40:18.353Z"
   },
   {
    "duration": 11,
    "start_time": "2022-10-07T10:40:18.367Z"
   },
   {
    "duration": 194,
    "start_time": "2022-10-07T10:43:46.566Z"
   },
   {
    "duration": 4,
    "start_time": "2022-10-07T10:55:35.362Z"
   },
   {
    "duration": 4,
    "start_time": "2022-10-07T10:55:48.502Z"
   },
   {
    "duration": 3,
    "start_time": "2022-10-07T10:55:54.238Z"
   },
   {
    "duration": 3,
    "start_time": "2022-10-07T11:05:38.962Z"
   },
   {
    "duration": 15,
    "start_time": "2022-10-07T11:06:02.727Z"
   },
   {
    "duration": 4,
    "start_time": "2022-10-07T11:06:51.519Z"
   },
   {
    "duration": 14,
    "start_time": "2022-10-07T11:06:52.457Z"
   },
   {
    "duration": 4,
    "start_time": "2022-10-07T11:07:26.152Z"
   },
   {
    "duration": 7,
    "start_time": "2022-10-07T11:07:26.587Z"
   },
   {
    "duration": 3,
    "start_time": "2022-10-07T11:07:34.517Z"
   },
   {
    "duration": 6,
    "start_time": "2022-10-07T11:07:35.672Z"
   },
   {
    "duration": 3,
    "start_time": "2022-10-07T11:09:06.567Z"
   },
   {
    "duration": 8,
    "start_time": "2022-10-07T11:09:07.347Z"
   },
   {
    "duration": 3,
    "start_time": "2022-10-07T11:09:22.475Z"
   },
   {
    "duration": 8,
    "start_time": "2022-10-07T11:09:23.308Z"
   },
   {
    "duration": 4,
    "start_time": "2022-10-07T11:12:24.660Z"
   },
   {
    "duration": 8,
    "start_time": "2022-10-07T11:12:32.392Z"
   },
   {
    "duration": 6,
    "start_time": "2022-10-07T11:15:56.750Z"
   },
   {
    "duration": 12,
    "start_time": "2022-10-07T11:20:51.972Z"
   },
   {
    "duration": 3,
    "start_time": "2022-10-07T11:21:25.449Z"
   },
   {
    "duration": 9,
    "start_time": "2022-10-07T11:21:25.454Z"
   },
   {
    "duration": 329,
    "start_time": "2022-10-07T11:21:25.485Z"
   },
   {
    "duration": 22,
    "start_time": "2022-10-07T11:21:25.816Z"
   },
   {
    "duration": 38,
    "start_time": "2022-10-07T11:21:25.839Z"
   },
   {
    "duration": 162,
    "start_time": "2022-10-07T11:21:25.879Z"
   },
   {
    "duration": 11,
    "start_time": "2022-10-07T11:21:26.045Z"
   },
   {
    "duration": 470,
    "start_time": "2022-10-07T11:21:26.058Z"
   },
   {
    "duration": 212,
    "start_time": "2022-10-07T11:21:26.529Z"
   },
   {
    "duration": 42,
    "start_time": "2022-10-07T11:21:26.743Z"
   },
   {
    "duration": 0,
    "start_time": "2022-10-07T11:21:26.788Z"
   },
   {
    "duration": 0,
    "start_time": "2022-10-07T11:21:26.789Z"
   },
   {
    "duration": 0,
    "start_time": "2022-10-07T11:21:26.790Z"
   },
   {
    "duration": 0,
    "start_time": "2022-10-07T11:21:26.791Z"
   },
   {
    "duration": 0,
    "start_time": "2022-10-07T11:21:26.793Z"
   },
   {
    "duration": 0,
    "start_time": "2022-10-07T11:21:26.794Z"
   },
   {
    "duration": 0,
    "start_time": "2022-10-07T11:21:26.795Z"
   },
   {
    "duration": 0,
    "start_time": "2022-10-07T11:21:26.796Z"
   },
   {
    "duration": 0,
    "start_time": "2022-10-07T11:21:26.797Z"
   },
   {
    "duration": 0,
    "start_time": "2022-10-07T11:21:26.798Z"
   },
   {
    "duration": 0,
    "start_time": "2022-10-07T11:21:26.798Z"
   },
   {
    "duration": 0,
    "start_time": "2022-10-07T11:21:26.821Z"
   },
   {
    "duration": 0,
    "start_time": "2022-10-07T11:21:26.822Z"
   },
   {
    "duration": 0,
    "start_time": "2022-10-07T11:21:26.824Z"
   },
   {
    "duration": 0,
    "start_time": "2022-10-07T11:21:26.824Z"
   },
   {
    "duration": 0,
    "start_time": "2022-10-07T11:21:26.825Z"
   },
   {
    "duration": 0,
    "start_time": "2022-10-07T11:21:26.826Z"
   },
   {
    "duration": 0,
    "start_time": "2022-10-07T11:21:26.827Z"
   },
   {
    "duration": 0,
    "start_time": "2022-10-07T11:21:26.828Z"
   },
   {
    "duration": 0,
    "start_time": "2022-10-07T11:21:26.829Z"
   },
   {
    "duration": 0,
    "start_time": "2022-10-07T11:21:26.830Z"
   },
   {
    "duration": 0,
    "start_time": "2022-10-07T11:21:26.831Z"
   },
   {
    "duration": 0,
    "start_time": "2022-10-07T11:21:26.832Z"
   },
   {
    "duration": 0,
    "start_time": "2022-10-07T11:21:26.833Z"
   },
   {
    "duration": 0,
    "start_time": "2022-10-07T11:21:26.834Z"
   },
   {
    "duration": 0,
    "start_time": "2022-10-07T11:21:26.834Z"
   },
   {
    "duration": 0,
    "start_time": "2022-10-07T11:21:26.835Z"
   },
   {
    "duration": 0,
    "start_time": "2022-10-07T11:21:26.836Z"
   },
   {
    "duration": 0,
    "start_time": "2022-10-07T11:21:26.837Z"
   },
   {
    "duration": 0,
    "start_time": "2022-10-07T11:21:26.838Z"
   },
   {
    "duration": 0,
    "start_time": "2022-10-07T11:21:26.839Z"
   },
   {
    "duration": 0,
    "start_time": "2022-10-07T11:21:26.840Z"
   },
   {
    "duration": 0,
    "start_time": "2022-10-07T11:21:26.841Z"
   },
   {
    "duration": 0,
    "start_time": "2022-10-07T11:21:26.842Z"
   },
   {
    "duration": 199,
    "start_time": "2022-10-07T11:23:46.399Z"
   },
   {
    "duration": 10,
    "start_time": "2022-10-07T11:24:01.548Z"
   },
   {
    "duration": 4,
    "start_time": "2022-10-07T11:24:07.859Z"
   },
   {
    "duration": 9771,
    "start_time": "2022-10-07T11:24:09.253Z"
   },
   {
    "duration": 5,
    "start_time": "2022-10-07T11:28:12.952Z"
   },
   {
    "duration": 11,
    "start_time": "2022-10-07T11:28:12.960Z"
   },
   {
    "duration": 338,
    "start_time": "2022-10-07T11:28:12.973Z"
   },
   {
    "duration": 22,
    "start_time": "2022-10-07T11:28:13.312Z"
   },
   {
    "duration": 38,
    "start_time": "2022-10-07T11:28:13.336Z"
   },
   {
    "duration": 146,
    "start_time": "2022-10-07T11:28:13.376Z"
   },
   {
    "duration": 10,
    "start_time": "2022-10-07T11:28:13.524Z"
   },
   {
    "duration": 406,
    "start_time": "2022-10-07T11:28:13.535Z"
   },
   {
    "duration": 194,
    "start_time": "2022-10-07T11:28:13.943Z"
   },
   {
    "duration": 167,
    "start_time": "2022-10-07T11:28:14.140Z"
   },
   {
    "duration": 3,
    "start_time": "2022-10-07T11:28:14.309Z"
   },
   {
    "duration": 7,
    "start_time": "2022-10-07T11:28:14.321Z"
   },
   {
    "duration": 9665,
    "start_time": "2022-10-07T11:28:14.330Z"
   },
   {
    "duration": 4,
    "start_time": "2022-10-07T11:28:23.996Z"
   },
   {
    "duration": 21,
    "start_time": "2022-10-07T11:28:24.001Z"
   },
   {
    "duration": 47,
    "start_time": "2022-10-07T11:28:24.023Z"
   },
   {
    "duration": 4,
    "start_time": "2022-10-07T11:28:24.072Z"
   },
   {
    "duration": 9,
    "start_time": "2022-10-07T11:28:24.077Z"
   },
   {
    "duration": 8,
    "start_time": "2022-10-07T11:28:24.087Z"
   },
   {
    "duration": 750,
    "start_time": "2022-10-07T11:28:24.096Z"
   },
   {
    "duration": 479,
    "start_time": "2022-10-07T11:28:24.849Z"
   },
   {
    "duration": 500,
    "start_time": "2022-10-07T11:28:25.329Z"
   },
   {
    "duration": 811,
    "start_time": "2022-10-07T11:28:25.921Z"
   },
   {
    "duration": 99,
    "start_time": "2022-10-07T11:28:26.733Z"
   },
   {
    "duration": 11,
    "start_time": "2022-10-07T11:28:26.922Z"
   },
   {
    "duration": 101,
    "start_time": "2022-10-07T11:28:26.934Z"
   },
   {
    "duration": 10,
    "start_time": "2022-10-07T11:28:27.036Z"
   },
   {
    "duration": 186,
    "start_time": "2022-10-07T11:28:27.048Z"
   },
   {
    "duration": 3,
    "start_time": "2022-10-07T11:28:27.236Z"
   },
   {
    "duration": 7,
    "start_time": "2022-10-07T11:28:27.241Z"
   },
   {
    "duration": 199,
    "start_time": "2022-10-07T11:28:27.249Z"
   },
   {
    "duration": 7,
    "start_time": "2022-10-07T11:28:27.449Z"
   },
   {
    "duration": 10,
    "start_time": "2022-10-07T11:28:27.458Z"
   },
   {
    "duration": 12,
    "start_time": "2022-10-07T11:28:27.469Z"
   },
   {
    "duration": 14,
    "start_time": "2022-10-07T11:28:27.482Z"
   },
   {
    "duration": 0,
    "start_time": "2022-10-07T11:28:27.497Z"
   },
   {
    "duration": 0,
    "start_time": "2022-10-07T11:28:27.498Z"
   },
   {
    "duration": 0,
    "start_time": "2022-10-07T11:28:27.499Z"
   },
   {
    "duration": 0,
    "start_time": "2022-10-07T11:28:27.500Z"
   },
   {
    "duration": 0,
    "start_time": "2022-10-07T11:28:27.501Z"
   },
   {
    "duration": 0,
    "start_time": "2022-10-07T11:28:27.503Z"
   },
   {
    "duration": 0,
    "start_time": "2022-10-07T11:28:27.503Z"
   },
   {
    "duration": 0,
    "start_time": "2022-10-07T11:28:27.522Z"
   },
   {
    "duration": 0,
    "start_time": "2022-10-07T11:28:27.523Z"
   },
   {
    "duration": 11,
    "start_time": "2022-10-07T11:31:03.929Z"
   },
   {
    "duration": 4,
    "start_time": "2022-10-07T11:34:21.392Z"
   },
   {
    "duration": 5,
    "start_time": "2022-10-07T11:34:26.378Z"
   },
   {
    "duration": 5,
    "start_time": "2022-10-07T11:34:39.183Z"
   },
   {
    "duration": 5,
    "start_time": "2022-10-07T11:35:22.948Z"
   },
   {
    "duration": 14,
    "start_time": "2022-10-07T11:35:48.745Z"
   },
   {
    "duration": 5,
    "start_time": "2022-10-07T11:35:55.611Z"
   },
   {
    "duration": 6,
    "start_time": "2022-10-07T11:36:19.804Z"
   },
   {
    "duration": 9,
    "start_time": "2022-10-07T11:36:25.462Z"
   },
   {
    "duration": 9,
    "start_time": "2022-10-07T11:36:32.933Z"
   },
   {
    "duration": 12,
    "start_time": "2022-10-07T11:36:50.780Z"
   },
   {
    "duration": 10,
    "start_time": "2022-10-07T11:38:09.951Z"
   },
   {
    "duration": 9,
    "start_time": "2022-10-07T11:38:13.996Z"
   },
   {
    "duration": 9,
    "start_time": "2022-10-07T11:38:31.094Z"
   },
   {
    "duration": 6,
    "start_time": "2022-10-07T11:38:40.546Z"
   },
   {
    "duration": 3,
    "start_time": "2022-10-07T11:48:14.261Z"
   },
   {
    "duration": 13,
    "start_time": "2022-10-07T11:48:18.633Z"
   },
   {
    "duration": 3,
    "start_time": "2022-10-07T11:51:05.557Z"
   },
   {
    "duration": 19,
    "start_time": "2022-10-07T11:51:40.582Z"
   },
   {
    "duration": 6,
    "start_time": "2022-10-07T11:52:14.750Z"
   },
   {
    "duration": 13,
    "start_time": "2022-10-07T11:52:16.430Z"
   },
   {
    "duration": 4,
    "start_time": "2022-10-07T11:53:44.935Z"
   },
   {
    "duration": 3,
    "start_time": "2022-10-07T11:53:47.185Z"
   },
   {
    "duration": 16,
    "start_time": "2022-10-07T11:53:48.744Z"
   },
   {
    "duration": 4,
    "start_time": "2022-10-07T11:53:54.688Z"
   },
   {
    "duration": 3,
    "start_time": "2022-10-07T11:53:55.133Z"
   },
   {
    "duration": 17,
    "start_time": "2022-10-07T11:53:55.653Z"
   },
   {
    "duration": 38,
    "start_time": "2022-10-07T11:54:09.462Z"
   },
   {
    "duration": 3,
    "start_time": "2022-10-07T11:54:55.776Z"
   },
   {
    "duration": 3,
    "start_time": "2022-10-07T11:54:56.265Z"
   },
   {
    "duration": 19,
    "start_time": "2022-10-07T11:54:56.985Z"
   },
   {
    "duration": 5,
    "start_time": "2022-10-07T11:55:15.952Z"
   },
   {
    "duration": 3,
    "start_time": "2022-10-07T11:55:16.553Z"
   },
   {
    "duration": 34,
    "start_time": "2022-10-07T11:55:16.976Z"
   },
   {
    "duration": 6,
    "start_time": "2022-10-07T11:56:10.408Z"
   },
   {
    "duration": 17,
    "start_time": "2022-10-07T11:56:35.812Z"
   },
   {
    "duration": 21,
    "start_time": "2022-10-07T11:56:55.095Z"
   },
   {
    "duration": 14,
    "start_time": "2022-10-07T11:57:10.852Z"
   },
   {
    "duration": 6,
    "start_time": "2022-10-07T11:57:47.680Z"
   },
   {
    "duration": 6,
    "start_time": "2022-10-07T11:58:06.648Z"
   },
   {
    "duration": 7,
    "start_time": "2022-10-07T11:58:14.296Z"
   },
   {
    "duration": 57,
    "start_time": "2022-10-07T11:58:28.765Z"
   },
   {
    "duration": 7,
    "start_time": "2022-10-07T11:58:34.899Z"
   },
   {
    "duration": 9,
    "start_time": "2022-10-07T11:58:50.724Z"
   },
   {
    "duration": 6,
    "start_time": "2022-10-07T11:58:56.670Z"
   },
   {
    "duration": 15,
    "start_time": "2022-10-07T11:59:01.009Z"
   },
   {
    "duration": 71,
    "start_time": "2022-10-07T11:59:12.191Z"
   },
   {
    "duration": 68,
    "start_time": "2022-10-07T11:59:15.348Z"
   },
   {
    "duration": 5,
    "start_time": "2022-10-07T11:59:24.826Z"
   },
   {
    "duration": 45,
    "start_time": "2022-10-07T11:59:50.180Z"
   },
   {
    "duration": 5,
    "start_time": "2022-10-07T12:00:09.717Z"
   },
   {
    "duration": 10,
    "start_time": "2022-10-07T12:00:45.587Z"
   },
   {
    "duration": 6,
    "start_time": "2022-10-07T12:00:59.158Z"
   },
   {
    "duration": 40,
    "start_time": "2022-10-07T12:01:19.009Z"
   },
   {
    "duration": 5,
    "start_time": "2022-10-07T12:01:46.750Z"
   },
   {
    "duration": 41,
    "start_time": "2022-10-07T12:01:50.061Z"
   },
   {
    "duration": 11,
    "start_time": "2022-10-07T12:02:28.693Z"
   },
   {
    "duration": 12,
    "start_time": "2022-10-07T12:02:43.493Z"
   },
   {
    "duration": 8,
    "start_time": "2022-10-07T12:04:48.665Z"
   },
   {
    "duration": 94,
    "start_time": "2022-10-07T12:05:43.337Z"
   },
   {
    "duration": 8,
    "start_time": "2022-10-07T12:05:51.768Z"
   },
   {
    "duration": 4,
    "start_time": "2022-10-07T12:06:20.436Z"
   },
   {
    "duration": 10,
    "start_time": "2022-10-07T12:06:20.442Z"
   },
   {
    "duration": 298,
    "start_time": "2022-10-07T12:06:20.467Z"
   },
   {
    "duration": 20,
    "start_time": "2022-10-07T12:06:20.767Z"
   },
   {
    "duration": 54,
    "start_time": "2022-10-07T12:06:20.789Z"
   },
   {
    "duration": 127,
    "start_time": "2022-10-07T12:06:20.845Z"
   },
   {
    "duration": 10,
    "start_time": "2022-10-07T12:06:20.974Z"
   },
   {
    "duration": 447,
    "start_time": "2022-10-07T12:06:20.985Z"
   },
   {
    "duration": 218,
    "start_time": "2022-10-07T12:06:21.433Z"
   },
   {
    "duration": 172,
    "start_time": "2022-10-07T12:06:21.652Z"
   },
   {
    "duration": 2,
    "start_time": "2022-10-07T12:06:21.825Z"
   },
   {
    "duration": 20,
    "start_time": "2022-10-07T12:06:21.829Z"
   },
   {
    "duration": 9714,
    "start_time": "2022-10-07T12:06:21.850Z"
   },
   {
    "duration": 3,
    "start_time": "2022-10-07T12:06:31.565Z"
   },
   {
    "duration": 17,
    "start_time": "2022-10-07T12:06:31.570Z"
   },
   {
    "duration": 36,
    "start_time": "2022-10-07T12:06:31.589Z"
   },
   {
    "duration": 5,
    "start_time": "2022-10-07T12:06:31.627Z"
   },
   {
    "duration": 36,
    "start_time": "2022-10-07T12:06:31.633Z"
   },
   {
    "duration": 20,
    "start_time": "2022-10-07T12:06:31.670Z"
   },
   {
    "duration": 336,
    "start_time": "2022-10-07T12:06:31.692Z"
   },
   {
    "duration": 598,
    "start_time": "2022-10-07T12:06:32.029Z"
   },
   {
    "duration": 498,
    "start_time": "2022-10-07T12:06:32.629Z"
   },
   {
    "duration": 798,
    "start_time": "2022-10-07T12:06:33.129Z"
   },
   {
    "duration": 193,
    "start_time": "2022-10-07T12:06:33.929Z"
   },
   {
    "duration": 11,
    "start_time": "2022-10-07T12:06:34.123Z"
   },
   {
    "duration": 11,
    "start_time": "2022-10-07T12:06:34.222Z"
   },
   {
    "duration": 8,
    "start_time": "2022-10-07T12:06:34.234Z"
   },
   {
    "duration": 184,
    "start_time": "2022-10-07T12:06:34.243Z"
   },
   {
    "duration": 3,
    "start_time": "2022-10-07T12:06:34.429Z"
   },
   {
    "duration": 8,
    "start_time": "2022-10-07T12:06:34.433Z"
   },
   {
    "duration": 169,
    "start_time": "2022-10-07T12:06:34.442Z"
   },
   {
    "duration": 14,
    "start_time": "2022-10-07T12:06:34.613Z"
   },
   {
    "duration": 5,
    "start_time": "2022-10-07T12:06:34.628Z"
   },
   {
    "duration": 5,
    "start_time": "2022-10-07T12:06:34.635Z"
   },
   {
    "duration": 7,
    "start_time": "2022-10-07T12:06:34.641Z"
   },
   {
    "duration": 15,
    "start_time": "2022-10-07T12:06:34.649Z"
   },
   {
    "duration": 25,
    "start_time": "2022-10-07T12:06:34.666Z"
   },
   {
    "duration": 7,
    "start_time": "2022-10-07T12:06:34.693Z"
   },
   {
    "duration": 13,
    "start_time": "2022-10-07T12:06:34.722Z"
   },
   {
    "duration": 33,
    "start_time": "2022-10-07T12:06:34.737Z"
   },
   {
    "duration": 218,
    "start_time": "2022-10-07T12:06:34.772Z"
   },
   {
    "duration": 9,
    "start_time": "2022-10-07T12:06:34.992Z"
   },
   {
    "duration": 17,
    "start_time": "2022-10-07T12:06:35.005Z"
   },
   {
    "duration": 6,
    "start_time": "2022-10-07T12:06:35.024Z"
   },
   {
    "duration": 10,
    "start_time": "2022-10-07T12:06:35.031Z"
   },
   {
    "duration": 16,
    "start_time": "2022-10-07T12:06:35.042Z"
   },
   {
    "duration": 4,
    "start_time": "2022-10-07T12:07:52.213Z"
   },
   {
    "duration": 4,
    "start_time": "2022-10-07T12:08:24.926Z"
   },
   {
    "duration": 6,
    "start_time": "2022-10-07T12:08:34.729Z"
   },
   {
    "duration": 8,
    "start_time": "2022-10-07T12:08:51.722Z"
   },
   {
    "duration": 8,
    "start_time": "2022-10-07T12:11:10.000Z"
   },
   {
    "duration": 9,
    "start_time": "2022-10-07T12:11:19.454Z"
   },
   {
    "duration": 5,
    "start_time": "2022-10-07T12:11:46.816Z"
   },
   {
    "duration": 5,
    "start_time": "2022-10-07T12:11:55.150Z"
   },
   {
    "duration": 6,
    "start_time": "2022-10-07T12:12:04.945Z"
   },
   {
    "duration": 7,
    "start_time": "2022-10-07T12:12:10.230Z"
   },
   {
    "duration": 4,
    "start_time": "2022-10-07T12:12:32.630Z"
   },
   {
    "duration": 11,
    "start_time": "2022-10-07T12:15:58.184Z"
   },
   {
    "duration": 6,
    "start_time": "2022-10-07T12:16:50.478Z"
   },
   {
    "duration": 5,
    "start_time": "2022-10-07T12:18:55.861Z"
   },
   {
    "duration": 6,
    "start_time": "2022-10-07T12:19:03.773Z"
   },
   {
    "duration": 127,
    "start_time": "2022-10-07T12:19:18.701Z"
   },
   {
    "duration": 5,
    "start_time": "2022-10-07T12:19:19.673Z"
   },
   {
    "duration": 6,
    "start_time": "2022-10-07T12:19:26.789Z"
   },
   {
    "duration": 6,
    "start_time": "2022-10-07T12:19:29.795Z"
   },
   {
    "duration": 10,
    "start_time": "2022-10-07T12:19:49.675Z"
   },
   {
    "duration": 9,
    "start_time": "2022-10-07T12:19:54.111Z"
   },
   {
    "duration": 11,
    "start_time": "2022-10-07T12:20:02.785Z"
   },
   {
    "duration": 9,
    "start_time": "2022-10-07T12:20:05.459Z"
   },
   {
    "duration": 7,
    "start_time": "2022-10-07T12:20:21.506Z"
   },
   {
    "duration": 7,
    "start_time": "2022-10-07T12:25:23.476Z"
   },
   {
    "duration": 4,
    "start_time": "2022-10-07T12:29:20.300Z"
   },
   {
    "duration": 245,
    "start_time": "2022-10-07T12:29:53.277Z"
   },
   {
    "duration": 7,
    "start_time": "2022-10-07T12:30:13.832Z"
   },
   {
    "duration": 5,
    "start_time": "2022-10-07T12:30:34.134Z"
   },
   {
    "duration": 4,
    "start_time": "2022-10-07T12:30:50.098Z"
   },
   {
    "duration": 4,
    "start_time": "2022-10-07T12:30:57.935Z"
   },
   {
    "duration": 4,
    "start_time": "2022-10-07T12:31:03.211Z"
   },
   {
    "duration": 4,
    "start_time": "2022-10-07T12:32:27.914Z"
   },
   {
    "duration": 7,
    "start_time": "2022-10-07T12:32:30.300Z"
   },
   {
    "duration": 19,
    "start_time": "2022-10-07T12:33:27.333Z"
   },
   {
    "duration": 9,
    "start_time": "2022-10-07T12:34:03.400Z"
   },
   {
    "duration": 3,
    "start_time": "2022-10-07T12:34:11.432Z"
   },
   {
    "duration": 5,
    "start_time": "2022-10-07T12:34:20.660Z"
   },
   {
    "duration": 5,
    "start_time": "2022-10-07T12:35:12.455Z"
   },
   {
    "duration": 4,
    "start_time": "2022-10-07T12:35:26.843Z"
   },
   {
    "duration": 23,
    "start_time": "2022-10-07T12:37:00.189Z"
   },
   {
    "duration": 3,
    "start_time": "2022-10-07T12:37:08.213Z"
   },
   {
    "duration": 25,
    "start_time": "2022-10-07T12:37:08.218Z"
   },
   {
    "duration": 365,
    "start_time": "2022-10-07T12:37:08.247Z"
   },
   {
    "duration": 25,
    "start_time": "2022-10-07T12:37:08.614Z"
   },
   {
    "duration": 49,
    "start_time": "2022-10-07T12:37:08.641Z"
   },
   {
    "duration": 154,
    "start_time": "2022-10-07T12:37:08.691Z"
   },
   {
    "duration": 11,
    "start_time": "2022-10-07T12:37:08.847Z"
   },
   {
    "duration": 568,
    "start_time": "2022-10-07T12:37:08.860Z"
   },
   {
    "duration": 215,
    "start_time": "2022-10-07T12:37:09.431Z"
   },
   {
    "duration": 302,
    "start_time": "2022-10-07T12:37:09.647Z"
   },
   {
    "duration": 3,
    "start_time": "2022-10-07T12:37:09.951Z"
   },
   {
    "duration": 13,
    "start_time": "2022-10-07T12:37:09.956Z"
   },
   {
    "duration": 10185,
    "start_time": "2022-10-07T12:37:09.971Z"
   },
   {
    "duration": 4,
    "start_time": "2022-10-07T12:37:20.157Z"
   },
   {
    "duration": 11,
    "start_time": "2022-10-07T12:37:20.163Z"
   },
   {
    "duration": 31,
    "start_time": "2022-10-07T12:37:20.178Z"
   },
   {
    "duration": 11,
    "start_time": "2022-10-07T12:37:20.211Z"
   },
   {
    "duration": 8,
    "start_time": "2022-10-07T12:37:20.224Z"
   },
   {
    "duration": 23,
    "start_time": "2022-10-07T12:37:20.233Z"
   },
   {
    "duration": 369,
    "start_time": "2022-10-07T12:37:20.258Z"
   },
   {
    "duration": 500,
    "start_time": "2022-10-07T12:37:20.629Z"
   },
   {
    "duration": 590,
    "start_time": "2022-10-07T12:37:21.131Z"
   },
   {
    "duration": 897,
    "start_time": "2022-10-07T12:37:21.724Z"
   },
   {
    "duration": 199,
    "start_time": "2022-10-07T12:37:22.623Z"
   },
   {
    "duration": 104,
    "start_time": "2022-10-07T12:37:22.825Z"
   },
   {
    "duration": 11,
    "start_time": "2022-10-07T12:37:22.931Z"
   },
   {
    "duration": 8,
    "start_time": "2022-10-07T12:37:22.944Z"
   },
   {
    "duration": 204,
    "start_time": "2022-10-07T12:37:22.953Z"
   },
   {
    "duration": 3,
    "start_time": "2022-10-07T12:37:23.158Z"
   },
   {
    "duration": 11,
    "start_time": "2022-10-07T12:37:23.163Z"
   },
   {
    "duration": 205,
    "start_time": "2022-10-07T12:37:23.175Z"
   },
   {
    "duration": 6,
    "start_time": "2022-10-07T12:37:23.381Z"
   },
   {
    "duration": 29,
    "start_time": "2022-10-07T12:37:23.389Z"
   },
   {
    "duration": 6,
    "start_time": "2022-10-07T12:37:23.419Z"
   },
   {
    "duration": 9,
    "start_time": "2022-10-07T12:37:23.426Z"
   },
   {
    "duration": 18,
    "start_time": "2022-10-07T12:37:23.436Z"
   },
   {
    "duration": 9,
    "start_time": "2022-10-07T12:37:23.455Z"
   },
   {
    "duration": 27,
    "start_time": "2022-10-07T12:37:23.465Z"
   },
   {
    "duration": 0,
    "start_time": "2022-10-07T12:37:23.495Z"
   },
   {
    "duration": 0,
    "start_time": "2022-10-07T12:37:23.496Z"
   },
   {
    "duration": 0,
    "start_time": "2022-10-07T12:37:23.497Z"
   },
   {
    "duration": 0,
    "start_time": "2022-10-07T12:37:23.499Z"
   },
   {
    "duration": 0,
    "start_time": "2022-10-07T12:37:23.500Z"
   },
   {
    "duration": 0,
    "start_time": "2022-10-07T12:37:23.501Z"
   },
   {
    "duration": 0,
    "start_time": "2022-10-07T12:37:23.502Z"
   },
   {
    "duration": 0,
    "start_time": "2022-10-07T12:37:23.651Z"
   },
   {
    "duration": 0,
    "start_time": "2022-10-07T12:37:23.652Z"
   },
   {
    "duration": 0,
    "start_time": "2022-10-07T12:37:23.654Z"
   },
   {
    "duration": 16,
    "start_time": "2022-10-07T12:37:44.523Z"
   },
   {
    "duration": 26,
    "start_time": "2022-10-07T12:38:44.985Z"
   },
   {
    "duration": 4,
    "start_time": "2022-10-07T12:39:06.207Z"
   },
   {
    "duration": 5,
    "start_time": "2022-10-07T12:39:07.244Z"
   },
   {
    "duration": 18,
    "start_time": "2022-10-07T12:39:07.757Z"
   },
   {
    "duration": 32,
    "start_time": "2022-10-07T12:39:08.718Z"
   },
   {
    "duration": 23,
    "start_time": "2022-10-07T12:39:31.091Z"
   },
   {
    "duration": 4,
    "start_time": "2022-10-07T12:39:48.453Z"
   },
   {
    "duration": 16,
    "start_time": "2022-10-07T12:39:48.459Z"
   },
   {
    "duration": 347,
    "start_time": "2022-10-07T12:39:48.477Z"
   },
   {
    "duration": 22,
    "start_time": "2022-10-07T12:39:48.826Z"
   },
   {
    "duration": 44,
    "start_time": "2022-10-07T12:39:48.850Z"
   },
   {
    "duration": 137,
    "start_time": "2022-10-07T12:39:48.923Z"
   },
   {
    "duration": 10,
    "start_time": "2022-10-07T12:39:49.061Z"
   },
   {
    "duration": 453,
    "start_time": "2022-10-07T12:39:49.073Z"
   },
   {
    "duration": 201,
    "start_time": "2022-10-07T12:39:49.528Z"
   },
   {
    "duration": 174,
    "start_time": "2022-10-07T12:39:49.732Z"
   },
   {
    "duration": 3,
    "start_time": "2022-10-07T12:39:49.907Z"
   },
   {
    "duration": 5,
    "start_time": "2022-10-07T12:39:49.921Z"
   },
   {
    "duration": 10608,
    "start_time": "2022-10-07T12:39:49.928Z"
   },
   {
    "duration": 4,
    "start_time": "2022-10-07T12:40:00.538Z"
   },
   {
    "duration": 48,
    "start_time": "2022-10-07T12:40:00.543Z"
   },
   {
    "duration": 63,
    "start_time": "2022-10-07T12:40:00.592Z"
   },
   {
    "duration": 14,
    "start_time": "2022-10-07T12:40:00.656Z"
   },
   {
    "duration": 161,
    "start_time": "2022-10-07T12:40:00.672Z"
   },
   {
    "duration": 65,
    "start_time": "2022-10-07T12:40:00.835Z"
   },
   {
    "duration": 323,
    "start_time": "2022-10-07T12:40:00.902Z"
   },
   {
    "duration": 697,
    "start_time": "2022-10-07T12:40:01.227Z"
   },
   {
    "duration": 506,
    "start_time": "2022-10-07T12:40:01.926Z"
   },
   {
    "duration": 600,
    "start_time": "2022-10-07T12:40:02.437Z"
   },
   {
    "duration": 92,
    "start_time": "2022-10-07T12:40:03.039Z"
   },
   {
    "duration": 189,
    "start_time": "2022-10-07T12:40:03.136Z"
   },
   {
    "duration": 74,
    "start_time": "2022-10-07T12:40:03.327Z"
   },
   {
    "duration": 68,
    "start_time": "2022-10-07T12:40:03.404Z"
   },
   {
    "duration": 189,
    "start_time": "2022-10-07T12:40:03.477Z"
   },
   {
    "duration": 3,
    "start_time": "2022-10-07T12:40:03.668Z"
   },
   {
    "duration": 18,
    "start_time": "2022-10-07T12:40:03.673Z"
   },
   {
    "duration": 241,
    "start_time": "2022-10-07T12:40:03.693Z"
   },
   {
    "duration": 6,
    "start_time": "2022-10-07T12:40:03.936Z"
   },
   {
    "duration": 34,
    "start_time": "2022-10-07T12:40:03.943Z"
   },
   {
    "duration": 15,
    "start_time": "2022-10-07T12:40:03.979Z"
   },
   {
    "duration": 11,
    "start_time": "2022-10-07T12:40:03.996Z"
   },
   {
    "duration": 39,
    "start_time": "2022-10-07T12:40:04.008Z"
   },
   {
    "duration": 21,
    "start_time": "2022-10-07T12:40:04.049Z"
   },
   {
    "duration": 34,
    "start_time": "2022-10-07T12:40:04.072Z"
   },
   {
    "duration": 25,
    "start_time": "2022-10-07T12:40:04.108Z"
   },
   {
    "duration": 7,
    "start_time": "2022-10-07T12:40:04.135Z"
   },
   {
    "duration": 29,
    "start_time": "2022-10-07T12:40:04.144Z"
   },
   {
    "duration": 56,
    "start_time": "2022-10-07T12:40:04.175Z"
   },
   {
    "duration": 253,
    "start_time": "2022-10-07T12:40:04.233Z"
   },
   {
    "duration": 10,
    "start_time": "2022-10-07T12:40:04.488Z"
   },
   {
    "duration": 38,
    "start_time": "2022-10-07T12:40:04.500Z"
   },
   {
    "duration": 25,
    "start_time": "2022-10-07T12:40:04.541Z"
   },
   {
    "duration": 12,
    "start_time": "2022-10-07T12:40:04.568Z"
   },
   {
    "duration": 15,
    "start_time": "2022-10-07T12:40:04.582Z"
   },
   {
    "duration": 23,
    "start_time": "2022-10-07T12:41:11.613Z"
   },
   {
    "duration": 27,
    "start_time": "2022-10-07T12:41:15.710Z"
   },
   {
    "duration": 26,
    "start_time": "2022-10-07T12:41:26.697Z"
   },
   {
    "duration": 25,
    "start_time": "2022-10-07T12:41:39.675Z"
   },
   {
    "duration": 33,
    "start_time": "2022-10-07T12:42:26.311Z"
   },
   {
    "duration": 4,
    "start_time": "2022-10-07T12:44:03.255Z"
   },
   {
    "duration": 4,
    "start_time": "2022-10-07T12:44:09.252Z"
   },
   {
    "duration": 3,
    "start_time": "2022-10-07T12:44:15.727Z"
   },
   {
    "duration": 4,
    "start_time": "2022-10-07T12:44:20.495Z"
   },
   {
    "duration": 4,
    "start_time": "2022-10-07T12:44:29.999Z"
   },
   {
    "duration": 4,
    "start_time": "2022-10-07T12:44:35.348Z"
   },
   {
    "duration": 3,
    "start_time": "2022-10-07T12:44:42.259Z"
   },
   {
    "duration": 4,
    "start_time": "2022-10-07T12:44:46.735Z"
   },
   {
    "duration": 5,
    "start_time": "2022-10-07T12:45:13.073Z"
   },
   {
    "duration": 6,
    "start_time": "2022-10-07T12:45:19.773Z"
   },
   {
    "duration": 4,
    "start_time": "2022-10-07T12:45:58.986Z"
   },
   {
    "duration": 9,
    "start_time": "2022-10-07T12:46:00.950Z"
   },
   {
    "duration": 18,
    "start_time": "2022-10-07T12:46:04.375Z"
   },
   {
    "duration": 4,
    "start_time": "2022-10-07T12:46:16.933Z"
   },
   {
    "duration": 19,
    "start_time": "2022-10-07T12:46:17.568Z"
   },
   {
    "duration": 4,
    "start_time": "2022-10-07T12:47:16.213Z"
   },
   {
    "duration": 5,
    "start_time": "2022-10-07T12:47:17.336Z"
   },
   {
    "duration": 19,
    "start_time": "2022-10-07T12:47:18.123Z"
   },
   {
    "duration": 4,
    "start_time": "2022-10-07T12:47:37.186Z"
   },
   {
    "duration": 3,
    "start_time": "2022-10-07T12:47:39.854Z"
   },
   {
    "duration": 10,
    "start_time": "2022-10-07T12:47:39.860Z"
   },
   {
    "duration": 332,
    "start_time": "2022-10-07T12:47:39.871Z"
   },
   {
    "duration": 29,
    "start_time": "2022-10-07T12:47:40.204Z"
   },
   {
    "duration": 35,
    "start_time": "2022-10-07T12:47:40.235Z"
   },
   {
    "duration": 136,
    "start_time": "2022-10-07T12:47:40.271Z"
   },
   {
    "duration": 15,
    "start_time": "2022-10-07T12:47:40.409Z"
   },
   {
    "duration": 407,
    "start_time": "2022-10-07T12:47:40.426Z"
   },
   {
    "duration": 194,
    "start_time": "2022-10-07T12:47:40.835Z"
   },
   {
    "duration": 191,
    "start_time": "2022-10-07T12:47:41.031Z"
   },
   {
    "duration": 2,
    "start_time": "2022-10-07T12:47:41.224Z"
   },
   {
    "duration": 6,
    "start_time": "2022-10-07T12:47:41.228Z"
   },
   {
    "duration": 9931,
    "start_time": "2022-10-07T12:47:41.235Z"
   },
   {
    "duration": 4,
    "start_time": "2022-10-07T12:47:51.170Z"
   },
   {
    "duration": 11,
    "start_time": "2022-10-07T12:47:51.175Z"
   },
   {
    "duration": 42,
    "start_time": "2022-10-07T12:47:51.188Z"
   },
   {
    "duration": 5,
    "start_time": "2022-10-07T12:47:51.232Z"
   },
   {
    "duration": 10,
    "start_time": "2022-10-07T12:47:51.238Z"
   },
   {
    "duration": 11,
    "start_time": "2022-10-07T12:47:51.249Z"
   },
   {
    "duration": 366,
    "start_time": "2022-10-07T12:47:51.261Z"
   },
   {
    "duration": 599,
    "start_time": "2022-10-07T12:47:51.629Z"
   },
   {
    "duration": 504,
    "start_time": "2022-10-07T12:47:52.229Z"
   },
   {
    "duration": 887,
    "start_time": "2022-10-07T12:47:52.735Z"
   },
   {
    "duration": 198,
    "start_time": "2022-10-07T12:47:53.624Z"
   },
   {
    "duration": 10,
    "start_time": "2022-10-07T12:47:53.824Z"
   },
   {
    "duration": 11,
    "start_time": "2022-10-07T12:47:53.923Z"
   },
   {
    "duration": 11,
    "start_time": "2022-10-07T12:47:53.936Z"
   },
   {
    "duration": 209,
    "start_time": "2022-10-07T12:47:53.949Z"
   },
   {
    "duration": 3,
    "start_time": "2022-10-07T12:47:54.160Z"
   },
   {
    "duration": 8,
    "start_time": "2022-10-07T12:47:54.164Z"
   },
   {
    "duration": 199,
    "start_time": "2022-10-07T12:47:54.174Z"
   },
   {
    "duration": 3,
    "start_time": "2022-10-07T12:47:54.375Z"
   },
   {
    "duration": 16,
    "start_time": "2022-10-07T12:47:54.380Z"
   },
   {
    "duration": 28,
    "start_time": "2022-10-07T12:47:54.398Z"
   },
   {
    "duration": 0,
    "start_time": "2022-10-07T12:47:54.428Z"
   },
   {
    "duration": 0,
    "start_time": "2022-10-07T12:47:54.430Z"
   },
   {
    "duration": 0,
    "start_time": "2022-10-07T12:47:54.431Z"
   },
   {
    "duration": 0,
    "start_time": "2022-10-07T12:47:54.432Z"
   },
   {
    "duration": 0,
    "start_time": "2022-10-07T12:47:54.433Z"
   },
   {
    "duration": 0,
    "start_time": "2022-10-07T12:47:54.434Z"
   },
   {
    "duration": 0,
    "start_time": "2022-10-07T12:47:54.436Z"
   },
   {
    "duration": 0,
    "start_time": "2022-10-07T12:47:54.436Z"
   },
   {
    "duration": 0,
    "start_time": "2022-10-07T12:47:54.437Z"
   },
   {
    "duration": 0,
    "start_time": "2022-10-07T12:47:54.438Z"
   },
   {
    "duration": 22,
    "start_time": "2022-10-07T12:48:12.440Z"
   },
   {
    "duration": 3,
    "start_time": "2022-10-07T12:48:39.578Z"
   },
   {
    "duration": 4,
    "start_time": "2022-10-07T12:48:40.086Z"
   },
   {
    "duration": 15,
    "start_time": "2022-10-07T12:48:41.220Z"
   },
   {
    "duration": 16,
    "start_time": "2022-10-07T12:48:52.128Z"
   },
   {
    "duration": 20,
    "start_time": "2022-10-07T12:49:10.200Z"
   },
   {
    "duration": 31,
    "start_time": "2022-10-07T12:49:41.660Z"
   },
   {
    "duration": 5,
    "start_time": "2022-10-07T12:49:58.497Z"
   },
   {
    "duration": 8,
    "start_time": "2022-10-07T12:49:59.508Z"
   },
   {
    "duration": 26,
    "start_time": "2022-10-07T12:50:00.259Z"
   },
   {
    "duration": 27,
    "start_time": "2022-10-07T12:50:09.409Z"
   },
   {
    "duration": 7,
    "start_time": "2022-10-07T12:50:19.312Z"
   },
   {
    "duration": 15,
    "start_time": "2022-10-07T12:50:32.220Z"
   },
   {
    "duration": 33,
    "start_time": "2022-10-07T12:50:43.876Z"
   },
   {
    "duration": 209,
    "start_time": "2022-10-07T12:50:49.138Z"
   },
   {
    "duration": 430,
    "start_time": "2022-10-07T12:52:17.671Z"
   },
   {
    "duration": 285,
    "start_time": "2022-10-07T12:52:23.371Z"
   },
   {
    "duration": 325,
    "start_time": "2022-10-07T12:52:29.267Z"
   },
   {
    "duration": 270,
    "start_time": "2022-10-07T12:52:36.345Z"
   },
   {
    "duration": 274,
    "start_time": "2022-10-07T12:52:39.657Z"
   },
   {
    "duration": 296,
    "start_time": "2022-10-07T12:52:43.550Z"
   },
   {
    "duration": 388,
    "start_time": "2022-10-07T12:52:49.344Z"
   },
   {
    "duration": 11,
    "start_time": "2022-10-07T12:53:26.455Z"
   },
   {
    "duration": 4,
    "start_time": "2022-10-07T12:53:43.362Z"
   },
   {
    "duration": 4,
    "start_time": "2022-10-07T12:53:44.135Z"
   },
   {
    "duration": 4,
    "start_time": "2022-10-07T12:53:45.668Z"
   },
   {
    "duration": 11,
    "start_time": "2022-10-07T12:53:47.540Z"
   },
   {
    "duration": 97,
    "start_time": "2022-10-07T13:02:31.140Z"
   },
   {
    "duration": 4,
    "start_time": "2022-10-07T13:02:36.556Z"
   },
   {
    "duration": 5,
    "start_time": "2022-10-07T13:02:38.558Z"
   },
   {
    "duration": 21,
    "start_time": "2022-10-07T13:02:40.025Z"
   },
   {
    "duration": 5,
    "start_time": "2022-10-07T13:03:54.793Z"
   },
   {
    "duration": 5,
    "start_time": "2022-10-07T13:03:56.294Z"
   },
   {
    "duration": 31,
    "start_time": "2022-10-07T13:03:57.084Z"
   },
   {
    "duration": 24,
    "start_time": "2022-10-07T13:04:21.284Z"
   },
   {
    "duration": 14,
    "start_time": "2022-10-07T13:04:22.513Z"
   },
   {
    "duration": 26,
    "start_time": "2022-10-07T13:04:40.072Z"
   },
   {
    "duration": 305,
    "start_time": "2022-10-07T13:04:40.509Z"
   },
   {
    "duration": 4,
    "start_time": "2022-10-07T13:28:27.325Z"
   },
   {
    "duration": 4,
    "start_time": "2022-10-07T13:38:28.295Z"
   },
   {
    "duration": 4,
    "start_time": "2022-10-07T13:42:33.486Z"
   },
   {
    "duration": 4,
    "start_time": "2022-10-07T13:42:38.848Z"
   },
   {
    "duration": 4,
    "start_time": "2022-10-07T13:42:51.829Z"
   },
   {
    "duration": 4,
    "start_time": "2022-10-07T13:43:35.413Z"
   },
   {
    "duration": 14,
    "start_time": "2022-10-07T13:49:34.291Z"
   },
   {
    "duration": 15,
    "start_time": "2022-10-07T13:50:15.959Z"
   },
   {
    "duration": 3,
    "start_time": "2022-10-07T13:50:21.999Z"
   },
   {
    "duration": 4,
    "start_time": "2022-10-07T13:50:23.031Z"
   },
   {
    "duration": 14,
    "start_time": "2022-10-07T13:50:24.231Z"
   },
   {
    "duration": 26,
    "start_time": "2022-10-07T13:50:28.224Z"
   },
   {
    "duration": 318,
    "start_time": "2022-10-07T13:50:29.356Z"
   },
   {
    "duration": 6,
    "start_time": "2022-10-07T13:50:34.032Z"
   },
   {
    "duration": 10,
    "start_time": "2022-10-07T13:50:36.127Z"
   },
   {
    "duration": 21,
    "start_time": "2022-10-07T13:51:04.981Z"
   },
   {
    "duration": 4,
    "start_time": "2022-10-07T13:55:38.865Z"
   },
   {
    "duration": 5,
    "start_time": "2022-10-07T13:55:40.247Z"
   },
   {
    "duration": 15,
    "start_time": "2022-10-07T13:55:43.843Z"
   },
   {
    "duration": 33,
    "start_time": "2022-10-07T13:55:44.966Z"
   },
   {
    "duration": 318,
    "start_time": "2022-10-07T13:55:46.265Z"
   },
   {
    "duration": 9,
    "start_time": "2022-10-07T13:55:51.121Z"
   },
   {
    "duration": 5,
    "start_time": "2022-10-07T13:56:09.258Z"
   },
   {
    "duration": 1516,
    "start_time": "2022-10-07T13:56:10.733Z"
   },
   {
    "duration": 7,
    "start_time": "2022-10-07T13:57:18.891Z"
   },
   {
    "duration": 1537,
    "start_time": "2022-10-07T13:57:19.547Z"
   },
   {
    "duration": 3,
    "start_time": "2022-10-07T13:57:28.815Z"
   },
   {
    "duration": 5,
    "start_time": "2022-10-07T13:57:34.805Z"
   },
   {
    "duration": 1497,
    "start_time": "2022-10-07T13:57:35.337Z"
   },
   {
    "duration": 6,
    "start_time": "2022-10-07T13:59:03.948Z"
   },
   {
    "duration": 1391,
    "start_time": "2022-10-07T13:59:04.364Z"
   },
   {
    "duration": 16,
    "start_time": "2022-10-07T14:01:21.998Z"
   },
   {
    "duration": 4,
    "start_time": "2022-10-07T14:02:27.211Z"
   },
   {
    "duration": 1828,
    "start_time": "2022-10-07T14:02:27.707Z"
   },
   {
    "duration": 5,
    "start_time": "2022-10-07T14:03:24.428Z"
   },
   {
    "duration": 2107,
    "start_time": "2022-10-07T14:03:25.001Z"
   },
   {
    "duration": 6,
    "start_time": "2022-10-07T14:04:41.769Z"
   },
   {
    "duration": 1406,
    "start_time": "2022-10-07T14:04:42.575Z"
   },
   {
    "duration": 10,
    "start_time": "2022-10-07T14:05:48.880Z"
   },
   {
    "duration": 6,
    "start_time": "2022-10-07T14:05:50.741Z"
   },
   {
    "duration": 1522,
    "start_time": "2022-10-07T14:05:55.540Z"
   },
   {
    "duration": 12,
    "start_time": "2022-10-07T14:06:07.755Z"
   },
   {
    "duration": 5,
    "start_time": "2022-10-07T14:06:59.050Z"
   },
   {
    "duration": 5,
    "start_time": "2022-10-07T14:08:06.848Z"
   },
   {
    "duration": 10,
    "start_time": "2022-10-07T14:08:17.916Z"
   },
   {
    "duration": 7,
    "start_time": "2022-10-07T14:08:29.193Z"
   },
   {
    "duration": 1367,
    "start_time": "2022-10-07T14:08:30.428Z"
   },
   {
    "duration": 5,
    "start_time": "2022-10-07T14:08:54.262Z"
   },
   {
    "duration": 5,
    "start_time": "2022-10-07T14:09:01.693Z"
   },
   {
    "duration": 1424,
    "start_time": "2022-10-07T14:09:02.850Z"
   },
   {
    "duration": 5,
    "start_time": "2022-10-07T14:09:20.268Z"
   },
   {
    "duration": 1329,
    "start_time": "2022-10-07T14:09:52.813Z"
   },
   {
    "duration": 5,
    "start_time": "2022-10-07T14:13:39.903Z"
   },
   {
    "duration": 19,
    "start_time": "2022-10-07T14:13:42.190Z"
   },
   {
    "duration": 31,
    "start_time": "2022-10-07T14:13:44.392Z"
   },
   {
    "duration": 316,
    "start_time": "2022-10-07T14:13:45.080Z"
   },
   {
    "duration": 9,
    "start_time": "2022-10-07T14:13:46.609Z"
   },
   {
    "duration": 13,
    "start_time": "2022-10-07T14:24:55.130Z"
   },
   {
    "duration": 13,
    "start_time": "2022-10-07T14:25:40.520Z"
   },
   {
    "duration": 16,
    "start_time": "2022-10-07T14:25:56.199Z"
   },
   {
    "duration": 1426,
    "start_time": "2022-10-07T14:26:08.518Z"
   },
   {
    "duration": 4,
    "start_time": "2022-10-07T14:26:09.947Z"
   },
   {
    "duration": 396,
    "start_time": "2022-10-07T14:26:09.953Z"
   },
   {
    "duration": 32,
    "start_time": "2022-10-07T14:26:10.350Z"
   },
   {
    "duration": 58,
    "start_time": "2022-10-07T14:26:10.385Z"
   },
   {
    "duration": 157,
    "start_time": "2022-10-07T14:26:10.444Z"
   },
   {
    "duration": 26,
    "start_time": "2022-10-07T14:26:10.602Z"
   },
   {
    "duration": 483,
    "start_time": "2022-10-07T14:26:10.630Z"
   },
   {
    "duration": 248,
    "start_time": "2022-10-07T14:26:11.115Z"
   },
   {
    "duration": 211,
    "start_time": "2022-10-07T14:26:11.364Z"
   },
   {
    "duration": 3,
    "start_time": "2022-10-07T14:26:11.577Z"
   },
   {
    "duration": 36,
    "start_time": "2022-10-07T14:26:11.581Z"
   },
   {
    "duration": 10038,
    "start_time": "2022-10-07T14:26:11.619Z"
   },
   {
    "duration": 4,
    "start_time": "2022-10-07T14:26:21.661Z"
   },
   {
    "duration": 12,
    "start_time": "2022-10-07T14:26:21.667Z"
   },
   {
    "duration": 64,
    "start_time": "2022-10-07T14:26:21.680Z"
   },
   {
    "duration": 4,
    "start_time": "2022-10-07T14:26:21.746Z"
   },
   {
    "duration": 7,
    "start_time": "2022-10-07T14:26:21.752Z"
   },
   {
    "duration": 10,
    "start_time": "2022-10-07T14:26:21.760Z"
   },
   {
    "duration": 462,
    "start_time": "2022-10-07T14:26:21.772Z"
   },
   {
    "duration": 593,
    "start_time": "2022-10-07T14:26:22.236Z"
   },
   {
    "duration": 598,
    "start_time": "2022-10-07T14:26:22.830Z"
   },
   {
    "duration": 905,
    "start_time": "2022-10-07T14:26:23.430Z"
   },
   {
    "duration": 103,
    "start_time": "2022-10-07T14:26:24.422Z"
   },
   {
    "duration": 198,
    "start_time": "2022-10-07T14:26:24.527Z"
   },
   {
    "duration": 13,
    "start_time": "2022-10-07T14:26:24.728Z"
   },
   {
    "duration": 9,
    "start_time": "2022-10-07T14:26:24.743Z"
   },
   {
    "duration": 223,
    "start_time": "2022-10-07T14:26:24.754Z"
   },
   {
    "duration": 5,
    "start_time": "2022-10-07T14:26:24.979Z"
   },
   {
    "duration": 13,
    "start_time": "2022-10-07T14:26:24.985Z"
   },
   {
    "duration": 194,
    "start_time": "2022-10-07T14:26:25.000Z"
   },
   {
    "duration": 5,
    "start_time": "2022-10-07T14:26:25.195Z"
   },
   {
    "duration": 20,
    "start_time": "2022-10-07T14:26:25.202Z"
   },
   {
    "duration": 25,
    "start_time": "2022-10-07T14:26:25.224Z"
   },
   {
    "duration": 29,
    "start_time": "2022-10-07T14:26:25.251Z"
   },
   {
    "duration": 452,
    "start_time": "2022-10-07T14:26:25.282Z"
   },
   {
    "duration": 11,
    "start_time": "2022-10-07T14:26:25.736Z"
   },
   {
    "duration": 14,
    "start_time": "2022-10-07T14:26:25.748Z"
   },
   {
    "duration": 110,
    "start_time": "2022-10-07T14:26:25.764Z"
   },
   {
    "duration": 0,
    "start_time": "2022-10-07T14:26:25.876Z"
   },
   {
    "duration": 3,
    "start_time": "2022-10-07T14:28:23.433Z"
   },
   {
    "duration": 15,
    "start_time": "2022-10-07T14:28:30.716Z"
   },
   {
    "duration": 15,
    "start_time": "2022-10-07T14:28:33.457Z"
   },
   {
    "duration": 15,
    "start_time": "2022-10-07T14:28:35.180Z"
   },
   {
    "duration": 18,
    "start_time": "2022-10-07T14:28:38.080Z"
   },
   {
    "duration": 37,
    "start_time": "2022-10-07T14:28:43.916Z"
   },
   {
    "duration": 292,
    "start_time": "2022-10-07T14:28:46.803Z"
   },
   {
    "duration": 12,
    "start_time": "2022-10-07T14:28:54.608Z"
   },
   {
    "duration": 5,
    "start_time": "2022-10-07T14:28:55.717Z"
   },
   {
    "duration": 17,
    "start_time": "2022-10-07T14:28:59.397Z"
   },
   {
    "duration": 13,
    "start_time": "2022-10-07T14:29:02.263Z"
   },
   {
    "duration": 6,
    "start_time": "2022-10-07T14:30:14.246Z"
   },
   {
    "duration": 15,
    "start_time": "2022-10-07T14:30:52.755Z"
   },
   {
    "duration": 31,
    "start_time": "2022-10-07T14:31:13.901Z"
   },
   {
    "duration": 1512,
    "start_time": "2022-10-07T14:32:20.219Z"
   },
   {
    "duration": 3,
    "start_time": "2022-10-07T14:32:21.733Z"
   },
   {
    "duration": 376,
    "start_time": "2022-10-07T14:32:21.738Z"
   },
   {
    "duration": 30,
    "start_time": "2022-10-07T14:32:22.116Z"
   },
   {
    "duration": 41,
    "start_time": "2022-10-07T14:32:22.148Z"
   },
   {
    "duration": 171,
    "start_time": "2022-10-07T14:32:22.190Z"
   },
   {
    "duration": 11,
    "start_time": "2022-10-07T14:32:22.363Z"
   },
   {
    "duration": 454,
    "start_time": "2022-10-07T14:32:22.376Z"
   },
   {
    "duration": 222,
    "start_time": "2022-10-07T14:32:22.832Z"
   },
   {
    "duration": 186,
    "start_time": "2022-10-07T14:32:23.055Z"
   },
   {
    "duration": 3,
    "start_time": "2022-10-07T14:32:23.243Z"
   },
   {
    "duration": 18,
    "start_time": "2022-10-07T14:32:23.247Z"
   },
   {
    "duration": 10101,
    "start_time": "2022-10-07T14:32:23.267Z"
   },
   {
    "duration": 7,
    "start_time": "2022-10-07T14:32:33.372Z"
   },
   {
    "duration": 17,
    "start_time": "2022-10-07T14:32:33.381Z"
   },
   {
    "duration": 62,
    "start_time": "2022-10-07T14:32:33.400Z"
   },
   {
    "duration": 4,
    "start_time": "2022-10-07T14:32:33.464Z"
   },
   {
    "duration": 14,
    "start_time": "2022-10-07T14:32:33.470Z"
   },
   {
    "duration": 10,
    "start_time": "2022-10-07T14:32:33.485Z"
   },
   {
    "duration": 431,
    "start_time": "2022-10-07T14:32:33.497Z"
   },
   {
    "duration": 499,
    "start_time": "2022-10-07T14:32:33.930Z"
   },
   {
    "duration": 504,
    "start_time": "2022-10-07T14:32:34.431Z"
   },
   {
    "duration": 985,
    "start_time": "2022-10-07T14:32:34.937Z"
   },
   {
    "duration": 100,
    "start_time": "2022-10-07T14:32:35.924Z"
   },
   {
    "duration": 200,
    "start_time": "2022-10-07T14:32:36.026Z"
   },
   {
    "duration": 15,
    "start_time": "2022-10-07T14:32:36.228Z"
   },
   {
    "duration": 13,
    "start_time": "2022-10-07T14:32:36.246Z"
   },
   {
    "duration": 211,
    "start_time": "2022-10-07T14:32:36.262Z"
   },
   {
    "duration": 5,
    "start_time": "2022-10-07T14:32:36.475Z"
   },
   {
    "duration": 17,
    "start_time": "2022-10-07T14:32:36.481Z"
   },
   {
    "duration": 184,
    "start_time": "2022-10-07T14:32:36.499Z"
   },
   {
    "duration": 5,
    "start_time": "2022-10-07T14:32:36.685Z"
   },
   {
    "duration": 12,
    "start_time": "2022-10-07T14:32:36.692Z"
   },
   {
    "duration": 30,
    "start_time": "2022-10-07T14:32:36.705Z"
   },
   {
    "duration": 26,
    "start_time": "2022-10-07T14:32:36.736Z"
   },
   {
    "duration": 485,
    "start_time": "2022-10-07T14:32:36.764Z"
   },
   {
    "duration": 9,
    "start_time": "2022-10-07T14:32:37.250Z"
   },
   {
    "duration": 4,
    "start_time": "2022-10-07T14:32:37.261Z"
   },
   {
    "duration": 126,
    "start_time": "2022-10-07T14:32:37.266Z"
   },
   {
    "duration": 0,
    "start_time": "2022-10-07T14:32:37.393Z"
   },
   {
    "duration": 7,
    "start_time": "2022-10-07T14:34:29.376Z"
   },
   {
    "duration": 320,
    "start_time": "2022-10-07T14:35:26.937Z"
   },
   {
    "duration": 4,
    "start_time": "2022-10-07T14:41:16.955Z"
   },
   {
    "duration": 15,
    "start_time": "2022-10-07T14:41:24.499Z"
   },
   {
    "duration": 309,
    "start_time": "2022-10-07T14:41:25.657Z"
   },
   {
    "duration": 9,
    "start_time": "2022-10-07T14:41:30.528Z"
   },
   {
    "duration": 4,
    "start_time": "2022-10-07T14:41:31.760Z"
   },
   {
    "duration": 10,
    "start_time": "2022-10-07T14:41:32.581Z"
   },
   {
    "duration": 1421,
    "start_time": "2022-10-07T14:41:41.733Z"
   },
   {
    "duration": 4263,
    "start_time": "2022-10-07T14:41:43.156Z"
   },
   {
    "duration": 4162,
    "start_time": "2022-10-07T14:42:01.282Z"
   },
   {
    "duration": 6,
    "start_time": "2022-10-07T14:50:57.912Z"
   },
   {
    "duration": 1629,
    "start_time": "2022-10-07T14:50:58.655Z"
   },
   {
    "duration": 4,
    "start_time": "2022-10-07T14:51:26.499Z"
   },
   {
    "duration": 1382,
    "start_time": "2022-10-07T14:51:27.677Z"
   },
   {
    "duration": 6,
    "start_time": "2022-10-07T14:59:08.244Z"
   },
   {
    "duration": 17,
    "start_time": "2022-10-07T14:59:37.366Z"
   },
   {
    "duration": 9,
    "start_time": "2022-10-07T14:59:48.789Z"
   },
   {
    "duration": 1517,
    "start_time": "2022-10-07T14:59:51.809Z"
   },
   {
    "duration": 14,
    "start_time": "2022-10-07T15:01:07.115Z"
   },
   {
    "duration": 10,
    "start_time": "2022-10-07T15:01:19.668Z"
   },
   {
    "duration": 7,
    "start_time": "2022-10-07T15:01:23.196Z"
   },
   {
    "duration": 1390,
    "start_time": "2022-10-07T15:01:23.711Z"
   },
   {
    "duration": 5,
    "start_time": "2022-10-07T16:25:17.870Z"
   },
   {
    "duration": 12,
    "start_time": "2022-10-07T16:25:17.877Z"
   },
   {
    "duration": 357,
    "start_time": "2022-10-07T16:25:17.890Z"
   },
   {
    "duration": 23,
    "start_time": "2022-10-07T16:25:18.249Z"
   },
   {
    "duration": 59,
    "start_time": "2022-10-07T16:25:18.273Z"
   },
   {
    "duration": 130,
    "start_time": "2022-10-07T16:25:18.333Z"
   },
   {
    "duration": 11,
    "start_time": "2022-10-07T16:25:18.464Z"
   },
   {
    "duration": 485,
    "start_time": "2022-10-07T16:25:18.476Z"
   },
   {
    "duration": 192,
    "start_time": "2022-10-07T16:25:18.963Z"
   },
   {
    "duration": 169,
    "start_time": "2022-10-07T16:25:19.157Z"
   },
   {
    "duration": 4,
    "start_time": "2022-10-07T16:25:19.336Z"
   },
   {
    "duration": 6,
    "start_time": "2022-10-07T16:25:19.341Z"
   },
   {
    "duration": 10110,
    "start_time": "2022-10-07T16:25:19.348Z"
   },
   {
    "duration": 3,
    "start_time": "2022-10-07T16:25:29.460Z"
   },
   {
    "duration": 11,
    "start_time": "2022-10-07T16:25:29.465Z"
   },
   {
    "duration": 58,
    "start_time": "2022-10-07T16:25:29.478Z"
   },
   {
    "duration": 4,
    "start_time": "2022-10-07T16:25:29.538Z"
   },
   {
    "duration": 5,
    "start_time": "2022-10-07T16:25:29.544Z"
   },
   {
    "duration": 7,
    "start_time": "2022-10-07T16:25:29.551Z"
   },
   {
    "duration": 287,
    "start_time": "2022-10-07T16:25:29.559Z"
   },
   {
    "duration": 308,
    "start_time": "2022-10-07T16:25:29.921Z"
   },
   {
    "duration": 506,
    "start_time": "2022-10-07T16:25:30.230Z"
   },
   {
    "duration": 708,
    "start_time": "2022-10-07T16:25:30.739Z"
   },
   {
    "duration": 115,
    "start_time": "2022-10-07T16:25:31.523Z"
   },
   {
    "duration": 199,
    "start_time": "2022-10-07T16:25:31.648Z"
   },
   {
    "duration": 20,
    "start_time": "2022-10-07T16:25:31.848Z"
   },
   {
    "duration": 8,
    "start_time": "2022-10-07T16:25:31.870Z"
   },
   {
    "duration": 180,
    "start_time": "2022-10-07T16:25:31.879Z"
   },
   {
    "duration": 3,
    "start_time": "2022-10-07T16:25:32.061Z"
   },
   {
    "duration": 21,
    "start_time": "2022-10-07T16:25:32.066Z"
   },
   {
    "duration": 184,
    "start_time": "2022-10-07T16:25:32.089Z"
   },
   {
    "duration": 3,
    "start_time": "2022-10-07T16:25:32.275Z"
   },
   {
    "duration": 22,
    "start_time": "2022-10-07T16:25:32.280Z"
   },
   {
    "duration": 24,
    "start_time": "2022-10-07T16:25:32.304Z"
   },
   {
    "duration": 320,
    "start_time": "2022-10-07T16:25:32.329Z"
   },
   {
    "duration": 8,
    "start_time": "2022-10-07T16:25:32.651Z"
   },
   {
    "duration": 19,
    "start_time": "2022-10-07T16:25:32.660Z"
   },
   {
    "duration": 4331,
    "start_time": "2022-10-07T16:25:32.681Z"
   },
   {
    "duration": 22,
    "start_time": "2022-10-07T16:25:37.014Z"
   },
   {
    "duration": 10,
    "start_time": "2022-10-07T16:33:24.960Z"
   },
   {
    "duration": 7,
    "start_time": "2022-10-07T16:33:31.027Z"
   },
   {
    "duration": 4271,
    "start_time": "2022-10-07T16:33:31.682Z"
   },
   {
    "duration": 5,
    "start_time": "2022-10-07T16:33:44.244Z"
   },
   {
    "duration": 4344,
    "start_time": "2022-10-07T16:33:46.690Z"
   },
   {
    "duration": 5,
    "start_time": "2022-10-07T17:06:41.487Z"
   },
   {
    "duration": 4,
    "start_time": "2022-10-07T17:06:42.250Z"
   },
   {
    "duration": 15,
    "start_time": "2022-10-07T17:06:45.961Z"
   },
   {
    "duration": 333,
    "start_time": "2022-10-07T17:06:47.386Z"
   },
   {
    "duration": 8,
    "start_time": "2022-10-07T17:06:52.649Z"
   },
   {
    "duration": 4,
    "start_time": "2022-10-07T17:06:54.014Z"
   },
   {
    "duration": 30,
    "start_time": "2022-10-07T17:06:55.722Z"
   },
   {
    "duration": 3,
    "start_time": "2022-10-07T17:07:12.069Z"
   },
   {
    "duration": 5,
    "start_time": "2022-10-07T17:07:12.574Z"
   },
   {
    "duration": 15,
    "start_time": "2022-10-07T17:07:13.103Z"
   },
   {
    "duration": 313,
    "start_time": "2022-10-07T17:07:14.081Z"
   },
   {
    "duration": 10,
    "start_time": "2022-10-07T17:07:16.178Z"
   },
   {
    "duration": 8,
    "start_time": "2022-10-07T17:07:16.740Z"
   },
   {
    "duration": 4427,
    "start_time": "2022-10-07T17:07:17.711Z"
   },
   {
    "duration": 214,
    "start_time": "2022-10-07T17:17:02.339Z"
   },
   {
    "duration": 5,
    "start_time": "2022-10-07T17:17:08.054Z"
   },
   {
    "duration": 12,
    "start_time": "2022-10-07T17:17:44.649Z"
   },
   {
    "duration": 5,
    "start_time": "2022-10-07T17:18:38.241Z"
   },
   {
    "duration": 5,
    "start_time": "2022-10-07T17:18:39.667Z"
   },
   {
    "duration": 106,
    "start_time": "2022-10-07T17:18:40.641Z"
   },
   {
    "duration": 4,
    "start_time": "2022-10-07T17:20:41.049Z"
   },
   {
    "duration": 6,
    "start_time": "2022-10-07T17:20:42.033Z"
   },
   {
    "duration": 147,
    "start_time": "2022-10-07T17:20:45.848Z"
   },
   {
    "duration": 4,
    "start_time": "2022-10-07T17:21:26.608Z"
   },
   {
    "duration": 49,
    "start_time": "2022-10-07T17:21:26.614Z"
   },
   {
    "duration": 380,
    "start_time": "2022-10-07T17:21:26.665Z"
   },
   {
    "duration": 22,
    "start_time": "2022-10-07T17:21:27.047Z"
   },
   {
    "duration": 61,
    "start_time": "2022-10-07T17:21:27.071Z"
   },
   {
    "duration": 124,
    "start_time": "2022-10-07T17:21:27.134Z"
   },
   {
    "duration": 10,
    "start_time": "2022-10-07T17:21:27.259Z"
   },
   {
    "duration": 452,
    "start_time": "2022-10-07T17:21:27.270Z"
   },
   {
    "duration": 223,
    "start_time": "2022-10-07T17:21:27.725Z"
   },
   {
    "duration": 184,
    "start_time": "2022-10-07T17:21:27.950Z"
   },
   {
    "duration": 4,
    "start_time": "2022-10-07T17:21:28.136Z"
   },
   {
    "duration": 9,
    "start_time": "2022-10-07T17:21:28.142Z"
   },
   {
    "duration": 10206,
    "start_time": "2022-10-07T17:21:28.153Z"
   },
   {
    "duration": 4,
    "start_time": "2022-10-07T17:21:38.360Z"
   },
   {
    "duration": 9,
    "start_time": "2022-10-07T17:21:38.365Z"
   },
   {
    "duration": 29,
    "start_time": "2022-10-07T17:21:38.375Z"
   },
   {
    "duration": 4,
    "start_time": "2022-10-07T17:21:38.421Z"
   },
   {
    "duration": 20,
    "start_time": "2022-10-07T17:21:38.426Z"
   },
   {
    "duration": 11,
    "start_time": "2022-10-07T17:21:38.448Z"
   },
   {
    "duration": 277,
    "start_time": "2022-10-07T17:21:38.461Z"
   },
   {
    "duration": 412,
    "start_time": "2022-10-07T17:21:38.739Z"
   },
   {
    "duration": 400,
    "start_time": "2022-10-07T17:21:39.153Z"
   },
   {
    "duration": 617,
    "start_time": "2022-10-07T17:21:39.631Z"
   },
   {
    "duration": 100,
    "start_time": "2022-10-07T17:21:40.252Z"
   },
   {
    "duration": 82,
    "start_time": "2022-10-07T17:21:40.354Z"
   },
   {
    "duration": 97,
    "start_time": "2022-10-07T17:21:40.444Z"
   },
   {
    "duration": 12,
    "start_time": "2022-10-07T17:21:40.543Z"
   },
   {
    "duration": 198,
    "start_time": "2022-10-07T17:21:40.556Z"
   },
   {
    "duration": 4,
    "start_time": "2022-10-07T17:21:40.756Z"
   },
   {
    "duration": 13,
    "start_time": "2022-10-07T17:21:40.761Z"
   },
   {
    "duration": 203,
    "start_time": "2022-10-07T17:21:40.775Z"
   },
   {
    "duration": 6,
    "start_time": "2022-10-07T17:21:40.980Z"
   },
   {
    "duration": 7,
    "start_time": "2022-10-07T17:21:40.988Z"
   },
   {
    "duration": 153,
    "start_time": "2022-10-07T17:21:40.997Z"
   },
   {
    "duration": 0,
    "start_time": "2022-10-07T17:21:41.152Z"
   },
   {
    "duration": 0,
    "start_time": "2022-10-07T17:21:41.154Z"
   },
   {
    "duration": 0,
    "start_time": "2022-10-07T17:21:41.155Z"
   },
   {
    "duration": 0,
    "start_time": "2022-10-07T17:21:41.156Z"
   },
   {
    "duration": 0,
    "start_time": "2022-10-07T17:21:41.157Z"
   },
   {
    "duration": 4,
    "start_time": "2022-10-07T17:24:57.198Z"
   },
   {
    "duration": 4,
    "start_time": "2022-10-07T17:24:57.706Z"
   },
   {
    "duration": 114,
    "start_time": "2022-10-07T17:24:58.572Z"
   },
   {
    "duration": 4,
    "start_time": "2022-10-07T17:26:12.407Z"
   },
   {
    "duration": 4,
    "start_time": "2022-10-07T17:26:13.156Z"
   },
   {
    "duration": 15,
    "start_time": "2022-10-07T17:26:14.377Z"
   },
   {
    "duration": 5,
    "start_time": "2022-10-07T17:26:54.981Z"
   },
   {
    "duration": 4,
    "start_time": "2022-10-07T17:26:55.494Z"
   },
   {
    "duration": 20,
    "start_time": "2022-10-07T17:26:56.941Z"
   },
   {
    "duration": 4,
    "start_time": "2022-10-07T17:27:41.156Z"
   },
   {
    "duration": 4,
    "start_time": "2022-10-07T17:27:45.345Z"
   },
   {
    "duration": 18,
    "start_time": "2022-10-07T17:27:46.838Z"
   },
   {
    "duration": 5,
    "start_time": "2022-10-07T17:28:33.494Z"
   },
   {
    "duration": 4,
    "start_time": "2022-10-07T17:28:34.608Z"
   },
   {
    "duration": 18,
    "start_time": "2022-10-07T17:28:35.534Z"
   },
   {
    "duration": 6,
    "start_time": "2022-10-07T17:29:39.776Z"
   },
   {
    "duration": 4,
    "start_time": "2022-10-07T17:29:40.253Z"
   },
   {
    "duration": 21,
    "start_time": "2022-10-07T17:29:40.939Z"
   },
   {
    "duration": 6,
    "start_time": "2022-10-07T17:30:09.971Z"
   },
   {
    "duration": 5,
    "start_time": "2022-10-07T17:30:10.589Z"
   },
   {
    "duration": 20,
    "start_time": "2022-10-07T17:30:13.336Z"
   },
   {
    "duration": 4,
    "start_time": "2022-10-07T17:38:19.791Z"
   },
   {
    "duration": 4,
    "start_time": "2022-10-07T17:38:21.193Z"
   },
   {
    "duration": 4,
    "start_time": "2022-10-07T17:38:22.208Z"
   },
   {
    "duration": 5,
    "start_time": "2022-10-07T17:38:24.611Z"
   },
   {
    "duration": 5,
    "start_time": "2022-10-07T17:38:25.637Z"
   },
   {
    "duration": 4,
    "start_time": "2022-10-07T17:38:28.096Z"
   },
   {
    "duration": 6,
    "start_time": "2022-10-07T17:38:31.120Z"
   },
   {
    "duration": 4,
    "start_time": "2022-10-07T17:38:32.074Z"
   },
   {
    "duration": 17,
    "start_time": "2022-10-07T17:38:32.869Z"
   },
   {
    "duration": 5,
    "start_time": "2022-10-07T17:38:50.507Z"
   },
   {
    "duration": 4,
    "start_time": "2022-10-07T17:38:51.314Z"
   },
   {
    "duration": 26,
    "start_time": "2022-10-07T17:38:51.820Z"
   },
   {
    "duration": 7,
    "start_time": "2022-10-07T17:39:57.335Z"
   },
   {
    "duration": 4,
    "start_time": "2022-10-07T17:39:58.449Z"
   },
   {
    "duration": 22,
    "start_time": "2022-10-07T17:39:59.167Z"
   },
   {
    "duration": 5,
    "start_time": "2022-10-07T17:45:17.496Z"
   },
   {
    "duration": 4,
    "start_time": "2022-10-07T17:45:18.144Z"
   },
   {
    "duration": 21,
    "start_time": "2022-10-07T17:45:18.737Z"
   },
   {
    "duration": 17,
    "start_time": "2022-10-07T17:45:45.100Z"
   },
   {
    "duration": 288,
    "start_time": "2022-10-07T17:46:04.443Z"
   },
   {
    "duration": 5,
    "start_time": "2022-10-07T17:47:01.297Z"
   },
   {
    "duration": 3,
    "start_time": "2022-10-07T17:47:02.002Z"
   },
   {
    "duration": 25,
    "start_time": "2022-10-07T17:47:02.511Z"
   },
   {
    "duration": 414,
    "start_time": "2022-10-07T17:47:07.639Z"
   },
   {
    "duration": 9,
    "start_time": "2022-10-07T17:47:24.911Z"
   },
   {
    "duration": 19,
    "start_time": "2022-10-07T17:48:29.494Z"
   },
   {
    "duration": 9,
    "start_time": "2022-10-07T17:50:20.257Z"
   },
   {
    "duration": 8,
    "start_time": "2022-10-07T17:50:28.688Z"
   },
   {
    "duration": 13,
    "start_time": "2022-10-07T17:50:49.367Z"
   },
   {
    "duration": 7,
    "start_time": "2022-10-07T17:54:28.882Z"
   },
   {
    "duration": 1834,
    "start_time": "2022-10-07T17:54:30.084Z"
   },
   {
    "duration": 6,
    "start_time": "2022-10-07T17:56:05.742Z"
   },
   {
    "duration": 4,
    "start_time": "2022-10-07T17:56:06.902Z"
   },
   {
    "duration": 4,
    "start_time": "2022-10-07T17:56:07.638Z"
   },
   {
    "duration": 21,
    "start_time": "2022-10-07T17:56:09.073Z"
   },
   {
    "duration": 338,
    "start_time": "2022-10-07T17:56:10.039Z"
   },
   {
    "duration": 10,
    "start_time": "2022-10-07T17:56:14.536Z"
   },
   {
    "duration": 5,
    "start_time": "2022-10-07T17:56:19.559Z"
   },
   {
    "duration": 1724,
    "start_time": "2022-10-07T17:56:23.277Z"
   },
   {
    "duration": 4,
    "start_time": "2022-10-07T17:57:42.890Z"
   },
   {
    "duration": 21,
    "start_time": "2022-10-07T17:57:46.184Z"
   },
   {
    "duration": 313,
    "start_time": "2022-10-07T17:57:47.001Z"
   },
   {
    "duration": 8,
    "start_time": "2022-10-07T17:59:16.004Z"
   },
   {
    "duration": 2986,
    "start_time": "2022-10-07T17:59:16.674Z"
   },
   {
    "duration": 5,
    "start_time": "2022-10-07T18:00:54.909Z"
   },
   {
    "duration": 2165,
    "start_time": "2022-10-07T18:00:55.503Z"
   },
   {
    "duration": 5,
    "start_time": "2022-10-07T18:02:50.359Z"
   },
   {
    "duration": 6,
    "start_time": "2022-10-07T18:03:01.028Z"
   },
   {
    "duration": 5,
    "start_time": "2022-10-07T18:03:15.711Z"
   },
   {
    "duration": 3,
    "start_time": "2022-10-07T18:03:16.167Z"
   },
   {
    "duration": 16,
    "start_time": "2022-10-07T18:03:16.694Z"
   },
   {
    "duration": 4,
    "start_time": "2022-10-07T18:03:17.541Z"
   },
   {
    "duration": 292,
    "start_time": "2022-10-07T18:03:19.119Z"
   },
   {
    "duration": 9,
    "start_time": "2022-10-07T18:03:22.940Z"
   },
   {
    "duration": 5,
    "start_time": "2022-10-07T18:03:26.288Z"
   },
   {
    "duration": 4827,
    "start_time": "2022-10-07T18:03:27.006Z"
   },
   {
    "duration": 4,
    "start_time": "2022-10-07T18:03:39.450Z"
   },
   {
    "duration": 4754,
    "start_time": "2022-10-07T18:03:40.165Z"
   },
   {
    "duration": 6,
    "start_time": "2022-10-07T18:23:21.446Z"
   },
   {
    "duration": 4866,
    "start_time": "2022-10-07T18:23:26.683Z"
   },
   {
    "duration": 6,
    "start_time": "2022-10-07T18:24:36.989Z"
   },
   {
    "duration": 4911,
    "start_time": "2022-10-07T18:24:38.041Z"
   },
   {
    "duration": 1299,
    "start_time": "2022-10-07T18:26:44.471Z"
   },
   {
    "duration": 3,
    "start_time": "2022-10-07T18:26:45.771Z"
   },
   {
    "duration": 368,
    "start_time": "2022-10-07T18:26:45.776Z"
   },
   {
    "duration": 32,
    "start_time": "2022-10-07T18:26:46.146Z"
   },
   {
    "duration": 54,
    "start_time": "2022-10-07T18:26:46.180Z"
   },
   {
    "duration": 135,
    "start_time": "2022-10-07T18:26:46.235Z"
   },
   {
    "duration": 11,
    "start_time": "2022-10-07T18:26:46.372Z"
   },
   {
    "duration": 424,
    "start_time": "2022-10-07T18:26:46.384Z"
   },
   {
    "duration": 199,
    "start_time": "2022-10-07T18:26:46.810Z"
   },
   {
    "duration": 173,
    "start_time": "2022-10-07T18:26:47.011Z"
   },
   {
    "duration": 2,
    "start_time": "2022-10-07T18:26:47.186Z"
   },
   {
    "duration": 6,
    "start_time": "2022-10-07T18:26:47.189Z"
   },
   {
    "duration": 9796,
    "start_time": "2022-10-07T18:26:47.197Z"
   },
   {
    "duration": 3,
    "start_time": "2022-10-07T18:26:56.995Z"
   },
   {
    "duration": 25,
    "start_time": "2022-10-07T18:26:57.000Z"
   },
   {
    "duration": 40,
    "start_time": "2022-10-07T18:26:57.027Z"
   },
   {
    "duration": 4,
    "start_time": "2022-10-07T18:26:57.068Z"
   },
   {
    "duration": 5,
    "start_time": "2022-10-07T18:26:57.074Z"
   },
   {
    "duration": 9,
    "start_time": "2022-10-07T18:26:57.080Z"
   },
   {
    "duration": 532,
    "start_time": "2022-10-07T18:26:57.091Z"
   },
   {
    "duration": 599,
    "start_time": "2022-10-07T18:26:57.625Z"
   },
   {
    "duration": 593,
    "start_time": "2022-10-07T18:26:58.229Z"
   },
   {
    "duration": 997,
    "start_time": "2022-10-07T18:26:58.827Z"
   },
   {
    "duration": 105,
    "start_time": "2022-10-07T18:26:59.826Z"
   },
   {
    "duration": 130,
    "start_time": "2022-10-07T18:27:00.026Z"
   },
   {
    "duration": 22,
    "start_time": "2022-10-07T18:27:00.157Z"
   },
   {
    "duration": 22,
    "start_time": "2022-10-07T18:27:00.180Z"
   },
   {
    "duration": 204,
    "start_time": "2022-10-07T18:27:00.205Z"
   },
   {
    "duration": 11,
    "start_time": "2022-10-07T18:27:00.411Z"
   },
   {
    "duration": 38,
    "start_time": "2022-10-07T18:27:00.424Z"
   },
   {
    "duration": 197,
    "start_time": "2022-10-07T18:27:00.464Z"
   },
   {
    "duration": 5,
    "start_time": "2022-10-07T18:27:00.662Z"
   },
   {
    "duration": 47,
    "start_time": "2022-10-07T18:27:00.668Z"
   },
   {
    "duration": 41,
    "start_time": "2022-10-07T18:27:00.717Z"
   },
   {
    "duration": 18,
    "start_time": "2022-10-07T18:27:00.760Z"
   },
   {
    "duration": 421,
    "start_time": "2022-10-07T18:27:00.780Z"
   },
   {
    "duration": 8,
    "start_time": "2022-10-07T18:27:01.202Z"
   },
   {
    "duration": 15,
    "start_time": "2022-10-07T18:27:01.211Z"
   },
   {
    "duration": 4827,
    "start_time": "2022-10-07T18:27:01.227Z"
   },
   {
    "duration": 6,
    "start_time": "2022-10-07T18:33:01.672Z"
   },
   {
    "duration": 4819,
    "start_time": "2022-10-07T18:33:02.362Z"
   },
   {
    "duration": 4744,
    "start_time": "2022-10-07T18:34:02.460Z"
   },
   {
    "duration": 4730,
    "start_time": "2022-10-07T18:34:17.379Z"
   },
   {
    "duration": 4732,
    "start_time": "2022-10-07T18:34:30.460Z"
   },
   {
    "duration": 2,
    "start_time": "2022-10-07T18:38:19.437Z"
   },
   {
    "duration": 3,
    "start_time": "2022-10-07T18:38:52.283Z"
   },
   {
    "duration": 6,
    "start_time": "2022-10-07T18:39:50.746Z"
   },
   {
    "duration": 4901,
    "start_time": "2022-10-07T18:39:52.246Z"
   },
   {
    "duration": 4807,
    "start_time": "2022-10-07T18:40:04.733Z"
   },
   {
    "duration": 4698,
    "start_time": "2022-10-07T18:40:23.996Z"
   },
   {
    "duration": 6,
    "start_time": "2022-10-07T18:42:53.130Z"
   },
   {
    "duration": 5641,
    "start_time": "2022-10-07T18:42:53.941Z"
   },
   {
    "duration": 1368,
    "start_time": "2022-10-07T18:43:15.543Z"
   },
   {
    "duration": 3,
    "start_time": "2022-10-07T18:43:16.913Z"
   },
   {
    "duration": 338,
    "start_time": "2022-10-07T18:43:16.917Z"
   },
   {
    "duration": 25,
    "start_time": "2022-10-07T18:43:17.256Z"
   },
   {
    "duration": 49,
    "start_time": "2022-10-07T18:43:17.283Z"
   },
   {
    "duration": 139,
    "start_time": "2022-10-07T18:43:17.333Z"
   },
   {
    "duration": 11,
    "start_time": "2022-10-07T18:43:17.473Z"
   },
   {
    "duration": 477,
    "start_time": "2022-10-07T18:43:17.485Z"
   },
   {
    "duration": 206,
    "start_time": "2022-10-07T18:43:17.964Z"
   },
   {
    "duration": 176,
    "start_time": "2022-10-07T18:43:18.172Z"
   },
   {
    "duration": 2,
    "start_time": "2022-10-07T18:43:18.350Z"
   },
   {
    "duration": 6,
    "start_time": "2022-10-07T18:43:18.353Z"
   },
   {
    "duration": 9536,
    "start_time": "2022-10-07T18:43:18.361Z"
   },
   {
    "duration": 5,
    "start_time": "2022-10-07T18:43:27.901Z"
   },
   {
    "duration": 27,
    "start_time": "2022-10-07T18:43:27.908Z"
   },
   {
    "duration": 43,
    "start_time": "2022-10-07T18:43:27.937Z"
   },
   {
    "duration": 5,
    "start_time": "2022-10-07T18:43:27.981Z"
   },
   {
    "duration": 7,
    "start_time": "2022-10-07T18:43:27.988Z"
   },
   {
    "duration": 10,
    "start_time": "2022-10-07T18:43:27.996Z"
   },
   {
    "duration": 516,
    "start_time": "2022-10-07T18:43:28.008Z"
   },
   {
    "duration": 605,
    "start_time": "2022-10-07T18:43:28.526Z"
   },
   {
    "duration": 600,
    "start_time": "2022-10-07T18:43:29.132Z"
   },
   {
    "duration": 996,
    "start_time": "2022-10-07T18:43:29.826Z"
   },
   {
    "duration": 203,
    "start_time": "2022-10-07T18:43:30.825Z"
   },
   {
    "duration": 196,
    "start_time": "2022-10-07T18:43:31.030Z"
   },
   {
    "duration": 14,
    "start_time": "2022-10-07T18:43:31.228Z"
   },
   {
    "duration": 10,
    "start_time": "2022-10-07T18:43:31.244Z"
   },
   {
    "duration": 195,
    "start_time": "2022-10-07T18:43:31.256Z"
   },
   {
    "duration": 3,
    "start_time": "2022-10-07T18:43:31.452Z"
   },
   {
    "duration": 5,
    "start_time": "2022-10-07T18:43:31.457Z"
   },
   {
    "duration": 175,
    "start_time": "2022-10-07T18:43:31.464Z"
   },
   {
    "duration": 5,
    "start_time": "2022-10-07T18:43:31.641Z"
   },
   {
    "duration": 12,
    "start_time": "2022-10-07T18:43:31.648Z"
   },
   {
    "duration": 17,
    "start_time": "2022-10-07T18:43:31.661Z"
   },
   {
    "duration": 3,
    "start_time": "2022-10-07T18:43:31.680Z"
   },
   {
    "duration": 388,
    "start_time": "2022-10-07T18:43:31.685Z"
   },
   {
    "duration": 8,
    "start_time": "2022-10-07T18:43:32.075Z"
   },
   {
    "duration": 6,
    "start_time": "2022-10-07T18:43:32.084Z"
   },
   {
    "duration": 4663,
    "start_time": "2022-10-07T18:43:32.091Z"
   },
   {
    "duration": 4717,
    "start_time": "2022-10-07T18:48:31.847Z"
   },
   {
    "duration": 5,
    "start_time": "2022-10-07T18:49:35.943Z"
   },
   {
    "duration": 4637,
    "start_time": "2022-10-07T18:49:36.831Z"
   },
   {
    "duration": 4794,
    "start_time": "2022-10-07T18:50:10.113Z"
   },
   {
    "duration": 9,
    "start_time": "2022-10-07T18:52:31.358Z"
   },
   {
    "duration": 4,
    "start_time": "2022-10-07T18:55:25.424Z"
   },
   {
    "duration": 4,
    "start_time": "2022-10-07T18:55:26.044Z"
   },
   {
    "duration": 21,
    "start_time": "2022-10-07T18:55:27.775Z"
   },
   {
    "duration": 24,
    "start_time": "2022-10-07T18:55:28.555Z"
   },
   {
    "duration": 305,
    "start_time": "2022-10-07T18:55:31.542Z"
   },
   {
    "duration": 4,
    "start_time": "2022-10-07T18:55:40.770Z"
   },
   {
    "duration": 4,
    "start_time": "2022-10-07T18:55:41.216Z"
   },
   {
    "duration": 17,
    "start_time": "2022-10-07T18:55:41.699Z"
   },
   {
    "duration": 10,
    "start_time": "2022-10-07T18:55:42.238Z"
   },
   {
    "duration": 283,
    "start_time": "2022-10-07T18:55:46.772Z"
   },
   {
    "duration": 171,
    "start_time": "2022-10-07T19:01:35.501Z"
   },
   {
    "duration": 162,
    "start_time": "2022-10-07T19:01:43.741Z"
   },
   {
    "duration": 1710,
    "start_time": "2022-10-07T19:03:20.105Z"
   },
   {
    "duration": 273,
    "start_time": "2022-10-07T19:03:44.456Z"
   },
   {
    "duration": 369,
    "start_time": "2022-10-07T19:03:51.102Z"
   },
   {
    "duration": 168,
    "start_time": "2022-10-07T19:04:31.522Z"
   },
   {
    "duration": 281,
    "start_time": "2022-10-07T19:04:37.392Z"
   },
   {
    "duration": 166,
    "start_time": "2022-10-07T19:04:48.601Z"
   },
   {
    "duration": 271,
    "start_time": "2022-10-07T19:04:53.946Z"
   },
   {
    "duration": 6,
    "start_time": "2022-10-07T19:05:12.013Z"
   },
   {
    "duration": 5161,
    "start_time": "2022-10-07T19:05:12.843Z"
   },
   {
    "duration": 4963,
    "start_time": "2022-10-07T19:07:43.631Z"
   },
   {
    "duration": 4,
    "start_time": "2022-10-07T19:09:07.043Z"
   },
   {
    "duration": 5290,
    "start_time": "2022-10-07T19:09:07.784Z"
   },
   {
    "duration": 107,
    "start_time": "2022-10-07T19:10:15.292Z"
   },
   {
    "duration": 4,
    "start_time": "2022-10-07T19:10:21.845Z"
   },
   {
    "duration": 4,
    "start_time": "2022-10-07T19:10:22.645Z"
   },
   {
    "duration": 20,
    "start_time": "2022-10-07T19:10:23.339Z"
   },
   {
    "duration": 9,
    "start_time": "2022-10-07T19:10:25.010Z"
   },
   {
    "duration": 302,
    "start_time": "2022-10-07T19:10:26.008Z"
   },
   {
    "duration": 9,
    "start_time": "2022-10-07T19:10:27.290Z"
   },
   {
    "duration": 5,
    "start_time": "2022-10-07T19:10:28.342Z"
   },
   {
    "duration": 5076,
    "start_time": "2022-10-07T19:10:28.895Z"
   },
   {
    "duration": 4,
    "start_time": "2022-10-07T19:12:23.845Z"
   },
   {
    "duration": 3,
    "start_time": "2022-10-07T19:12:24.146Z"
   },
   {
    "duration": 18,
    "start_time": "2022-10-07T19:12:24.342Z"
   },
   {
    "duration": 8,
    "start_time": "2022-10-07T19:12:24.523Z"
   },
   {
    "duration": 262,
    "start_time": "2022-10-07T19:12:24.699Z"
   },
   {
    "duration": 9,
    "start_time": "2022-10-07T19:12:24.963Z"
   },
   {
    "duration": 7,
    "start_time": "2022-10-07T19:12:25.999Z"
   },
   {
    "duration": 5093,
    "start_time": "2022-10-07T19:12:26.548Z"
   },
   {
    "duration": 182,
    "start_time": "2022-10-07T19:14:14.378Z"
   },
   {
    "duration": 285,
    "start_time": "2022-10-07T19:14:21.168Z"
   },
   {
    "duration": 166,
    "start_time": "2022-10-07T19:14:40.071Z"
   },
   {
    "duration": 164,
    "start_time": "2022-10-07T19:15:48.717Z"
   },
   {
    "duration": 312,
    "start_time": "2022-10-07T19:15:55.415Z"
   },
   {
    "duration": 163,
    "start_time": "2022-10-07T19:16:43.905Z"
   },
   {
    "duration": 334,
    "start_time": "2022-10-07T19:16:50.710Z"
   },
   {
    "duration": 250,
    "start_time": "2022-10-07T19:18:04.544Z"
   },
   {
    "duration": 286,
    "start_time": "2022-10-07T19:18:18.041Z"
   },
   {
    "duration": 166,
    "start_time": "2022-10-07T19:19:27.603Z"
   },
   {
    "duration": 4,
    "start_time": "2022-10-07T19:34:08.704Z"
   },
   {
    "duration": 329,
    "start_time": "2022-10-07T19:36:05.114Z"
   },
   {
    "duration": 19,
    "start_time": "2022-10-07T19:36:18.924Z"
   },
   {
    "duration": 21,
    "start_time": "2022-10-07T19:36:50.142Z"
   },
   {
    "duration": 22,
    "start_time": "2022-10-07T19:37:12.094Z"
   },
   {
    "duration": 21,
    "start_time": "2022-10-07T19:37:29.557Z"
   },
   {
    "duration": 25,
    "start_time": "2022-10-07T19:37:49.576Z"
   },
   {
    "duration": 24,
    "start_time": "2022-10-07T19:38:05.264Z"
   },
   {
    "duration": 344,
    "start_time": "2022-10-07T19:39:37.227Z"
   },
   {
    "duration": 19,
    "start_time": "2022-10-07T19:39:52.571Z"
   },
   {
    "duration": 37,
    "start_time": "2022-10-07T19:39:56.494Z"
   },
   {
    "duration": 111,
    "start_time": "2022-10-07T19:40:35.939Z"
   },
   {
    "duration": 4,
    "start_time": "2022-10-07T19:40:40.449Z"
   },
   {
    "duration": 3,
    "start_time": "2022-10-07T19:40:52.160Z"
   },
   {
    "duration": 4,
    "start_time": "2022-10-07T19:40:58.635Z"
   },
   {
    "duration": 32,
    "start_time": "2022-10-07T19:41:14.177Z"
   },
   {
    "duration": 107,
    "start_time": "2022-10-07T19:43:02.461Z"
   },
   {
    "duration": 160,
    "start_time": "2022-10-07T19:47:19.572Z"
   },
   {
    "duration": 50940,
    "start_time": "2022-10-07T19:48:02.407Z"
   },
   {
    "duration": 3,
    "start_time": "2022-10-07T19:51:26.306Z"
   },
   {
    "duration": 3,
    "start_time": "2022-10-07T19:51:37.539Z"
   },
   {
    "duration": 8677,
    "start_time": "2022-10-07T19:51:41.706Z"
   },
   {
    "duration": 4,
    "start_time": "2022-10-07T19:52:02.004Z"
   },
   {
    "duration": 8880,
    "start_time": "2022-10-07T19:52:03.158Z"
   },
   {
    "duration": 5,
    "start_time": "2022-10-07T19:57:21.506Z"
   },
   {
    "duration": 9028,
    "start_time": "2022-10-07T19:57:23.015Z"
   },
   {
    "duration": 6,
    "start_time": "2022-10-07T20:00:42.087Z"
   },
   {
    "duration": 9044,
    "start_time": "2022-10-07T20:00:43.024Z"
   },
   {
    "duration": 4,
    "start_time": "2022-10-07T20:01:24.016Z"
   },
   {
    "duration": 8970,
    "start_time": "2022-10-07T20:01:24.511Z"
   },
   {
    "duration": 5,
    "start_time": "2022-10-07T20:02:35.796Z"
   },
   {
    "duration": 220,
    "start_time": "2022-10-07T20:02:37.104Z"
   },
   {
    "duration": 3,
    "start_time": "2022-10-07T20:02:51.245Z"
   },
   {
    "duration": 9115,
    "start_time": "2022-10-07T20:02:51.803Z"
   },
   {
    "duration": 4,
    "start_time": "2022-10-07T20:04:19.363Z"
   },
   {
    "duration": 8964,
    "start_time": "2022-10-07T20:04:19.868Z"
   },
   {
    "duration": 439,
    "start_time": "2022-10-07T20:08:02.525Z"
   },
   {
    "duration": 3349,
    "start_time": "2022-10-07T20:08:48.709Z"
   },
   {
    "duration": 3423,
    "start_time": "2022-10-07T20:09:00.873Z"
   },
   {
    "duration": 3304,
    "start_time": "2022-10-07T20:09:16.886Z"
   },
   {
    "duration": 3349,
    "start_time": "2022-10-07T20:09:47.410Z"
   },
   {
    "duration": 3311,
    "start_time": "2022-10-07T20:10:04.550Z"
   },
   {
    "duration": 3453,
    "start_time": "2022-10-07T20:10:12.221Z"
   },
   {
    "duration": 3378,
    "start_time": "2022-10-07T20:10:25.516Z"
   },
   {
    "duration": 3292,
    "start_time": "2022-10-07T20:11:29.799Z"
   },
   {
    "duration": 91,
    "start_time": "2022-10-07T20:12:23.012Z"
   },
   {
    "duration": 3665,
    "start_time": "2022-10-07T20:12:58.891Z"
   },
   {
    "duration": 811,
    "start_time": "2022-10-07T20:13:15.908Z"
   },
   {
    "duration": 8057,
    "start_time": "2022-10-07T20:14:44.477Z"
   },
   {
    "duration": 8178,
    "start_time": "2022-10-07T20:15:21.854Z"
   },
   {
    "duration": 5,
    "start_time": "2022-10-07T20:33:32.592Z"
   },
   {
    "duration": 4,
    "start_time": "2022-10-07T20:33:37.477Z"
   },
   {
    "duration": 4,
    "start_time": "2022-10-07T20:33:58.194Z"
   },
   {
    "duration": 6,
    "start_time": "2022-10-07T20:33:58.200Z"
   },
   {
    "duration": 376,
    "start_time": "2022-10-07T20:33:58.208Z"
   },
   {
    "duration": 23,
    "start_time": "2022-10-07T20:33:58.586Z"
   },
   {
    "duration": 50,
    "start_time": "2022-10-07T20:33:58.610Z"
   },
   {
    "duration": 169,
    "start_time": "2022-10-07T20:33:58.662Z"
   },
   {
    "duration": 10,
    "start_time": "2022-10-07T20:33:58.833Z"
   },
   {
    "duration": 409,
    "start_time": "2022-10-07T20:33:58.844Z"
   },
   {
    "duration": 179,
    "start_time": "2022-10-07T20:33:59.254Z"
   },
   {
    "duration": 158,
    "start_time": "2022-10-07T20:33:59.436Z"
   },
   {
    "duration": 859,
    "start_time": "2022-10-07T20:33:59.596Z"
   },
   {
    "duration": 8009,
    "start_time": "2022-10-07T20:34:00.456Z"
   },
   {
    "duration": 7,
    "start_time": "2022-10-07T20:34:08.467Z"
   },
   {
    "duration": 27,
    "start_time": "2022-10-07T20:34:08.475Z"
   },
   {
    "duration": 4,
    "start_time": "2022-10-07T20:34:08.504Z"
   },
   {
    "duration": 5,
    "start_time": "2022-10-07T20:34:08.521Z"
   },
   {
    "duration": 401,
    "start_time": "2022-10-07T20:34:08.528Z"
   },
   {
    "duration": 597,
    "start_time": "2022-10-07T20:34:08.931Z"
   },
   {
    "duration": 701,
    "start_time": "2022-10-07T20:34:09.529Z"
   },
   {
    "duration": 998,
    "start_time": "2022-10-07T20:34:10.231Z"
   },
   {
    "duration": 100,
    "start_time": "2022-10-07T20:34:11.231Z"
   },
   {
    "duration": 100,
    "start_time": "2022-10-07T20:34:11.425Z"
   },
   {
    "duration": 11,
    "start_time": "2022-10-07T20:34:11.528Z"
   },
   {
    "duration": 15,
    "start_time": "2022-10-07T20:34:11.541Z"
   },
   {
    "duration": 202,
    "start_time": "2022-10-07T20:34:11.558Z"
   },
   {
    "duration": 4,
    "start_time": "2022-10-07T20:34:11.761Z"
   },
   {
    "duration": 179,
    "start_time": "2022-10-07T20:34:11.766Z"
   },
   {
    "duration": 4,
    "start_time": "2022-10-07T20:34:11.948Z"
   },
   {
    "duration": 10,
    "start_time": "2022-10-07T20:34:11.953Z"
   },
   {
    "duration": 18,
    "start_time": "2022-10-07T20:34:11.964Z"
   },
   {
    "duration": 8,
    "start_time": "2022-10-07T20:34:11.983Z"
   },
   {
    "duration": 297,
    "start_time": "2022-10-07T20:34:11.992Z"
   },
   {
    "duration": 10,
    "start_time": "2022-10-07T20:34:12.291Z"
   },
   {
    "duration": 7,
    "start_time": "2022-10-07T20:34:12.302Z"
   },
   {
    "duration": 4976,
    "start_time": "2022-10-07T20:34:12.321Z"
   },
   {
    "duration": 6,
    "start_time": "2022-10-07T20:55:52.950Z"
   },
   {
    "duration": 5,
    "start_time": "2022-10-07T21:00:07.459Z"
   },
   {
    "duration": 9,
    "start_time": "2022-10-07T21:00:16.798Z"
   },
   {
    "duration": 17,
    "start_time": "2022-10-07T21:00:33.663Z"
   },
   {
    "duration": 6,
    "start_time": "2022-10-07T21:01:10.421Z"
   },
   {
    "duration": 15,
    "start_time": "2022-10-07T21:01:21.119Z"
   },
   {
    "duration": 9,
    "start_time": "2022-10-07T21:01:36.880Z"
   },
   {
    "duration": 1261,
    "start_time": "2022-10-07T21:01:44.472Z"
   },
   {
    "duration": 1479,
    "start_time": "2022-10-07T21:02:12.450Z"
   },
   {
    "duration": 165,
    "start_time": "2022-10-07T21:02:42.671Z"
   },
   {
    "duration": 6,
    "start_time": "2022-10-07T21:03:33.958Z"
   },
   {
    "duration": 2,
    "start_time": "2022-10-07T21:04:40.755Z"
   },
   {
    "duration": 165,
    "start_time": "2022-10-07T21:05:02.484Z"
   },
   {
    "duration": 9,
    "start_time": "2022-10-07T21:21:27.762Z"
   },
   {
    "duration": 14,
    "start_time": "2022-10-07T21:23:38.957Z"
   },
   {
    "duration": 172,
    "start_time": "2022-10-07T21:23:53.344Z"
   },
   {
    "duration": 13,
    "start_time": "2022-10-07T21:23:57.906Z"
   },
   {
    "duration": 293,
    "start_time": "2022-10-07T21:24:33.445Z"
   },
   {
    "duration": 6,
    "start_time": "2022-10-07T21:25:43.047Z"
   },
   {
    "duration": 168,
    "start_time": "2022-10-07T21:26:07.546Z"
   },
   {
    "duration": 13,
    "start_time": "2022-10-07T21:26:18.864Z"
   },
   {
    "duration": 18,
    "start_time": "2022-10-07T21:28:45.055Z"
   },
   {
    "duration": 19,
    "start_time": "2022-10-07T21:28:57.303Z"
   },
   {
    "duration": 5,
    "start_time": "2022-10-07T21:29:08.601Z"
   },
   {
    "duration": 176,
    "start_time": "2022-10-07T21:29:16.758Z"
   },
   {
    "duration": 106,
    "start_time": "2022-10-07T21:29:24.177Z"
   },
   {
    "duration": 15,
    "start_time": "2022-10-07T21:29:48.367Z"
   },
   {
    "duration": 28,
    "start_time": "2022-10-07T21:32:46.347Z"
   },
   {
    "duration": 28,
    "start_time": "2022-10-07T21:32:52.590Z"
   },
   {
    "duration": 11,
    "start_time": "2022-10-07T21:33:08.821Z"
   },
   {
    "duration": 9,
    "start_time": "2022-10-07T21:33:49.552Z"
   },
   {
    "duration": 11,
    "start_time": "2022-10-07T21:33:56.076Z"
   },
   {
    "duration": 17,
    "start_time": "2022-10-07T21:34:26.516Z"
   },
   {
    "duration": 6,
    "start_time": "2022-10-07T21:34:33.406Z"
   },
   {
    "duration": 171,
    "start_time": "2022-10-07T21:34:38.213Z"
   },
   {
    "duration": 6,
    "start_time": "2022-10-07T21:34:42.412Z"
   },
   {
    "duration": 149,
    "start_time": "2022-10-07T21:34:50.355Z"
   },
   {
    "duration": 4,
    "start_time": "2022-10-07T21:41:25.936Z"
   },
   {
    "duration": 6,
    "start_time": "2022-10-07T21:46:09.582Z"
   },
   {
    "duration": 5039,
    "start_time": "2022-10-07T21:46:11.076Z"
   },
   {
    "duration": 5,
    "start_time": "2022-10-07T21:54:48.145Z"
   },
   {
    "duration": 6,
    "start_time": "2022-10-07T21:55:19.774Z"
   },
   {
    "duration": 165,
    "start_time": "2022-10-07T21:55:29.044Z"
   },
   {
    "duration": 174,
    "start_time": "2022-10-07T21:58:02.385Z"
   },
   {
    "duration": 15,
    "start_time": "2022-10-07T21:58:23.995Z"
   },
   {
    "duration": 6,
    "start_time": "2022-10-07T21:58:38.575Z"
   },
   {
    "duration": 164,
    "start_time": "2022-10-07T21:58:43.568Z"
   },
   {
    "duration": 6,
    "start_time": "2022-10-07T21:58:48.321Z"
   },
   {
    "duration": 151,
    "start_time": "2022-10-07T21:58:50.141Z"
   },
   {
    "duration": 1410,
    "start_time": "2022-10-07T22:01:35.736Z"
   },
   {
    "duration": 272,
    "start_time": "2022-10-07T22:06:38.972Z"
   },
   {
    "duration": 163,
    "start_time": "2022-10-07T22:06:59.167Z"
   },
   {
    "duration": 188,
    "start_time": "2022-10-07T22:08:22.110Z"
   },
   {
    "duration": 4,
    "start_time": "2022-10-07T22:08:25.877Z"
   },
   {
    "duration": 8,
    "start_time": "2022-10-07T22:08:25.882Z"
   },
   {
    "duration": 325,
    "start_time": "2022-10-07T22:08:25.891Z"
   },
   {
    "duration": 21,
    "start_time": "2022-10-07T22:08:26.218Z"
   },
   {
    "duration": 35,
    "start_time": "2022-10-07T22:08:26.240Z"
   },
   {
    "duration": 131,
    "start_time": "2022-10-07T22:08:26.276Z"
   },
   {
    "duration": 20,
    "start_time": "2022-10-07T22:08:26.408Z"
   },
   {
    "duration": 377,
    "start_time": "2022-10-07T22:08:26.429Z"
   },
   {
    "duration": 183,
    "start_time": "2022-10-07T22:08:26.808Z"
   },
   {
    "duration": 165,
    "start_time": "2022-10-07T22:08:26.993Z"
   },
   {
    "duration": 745,
    "start_time": "2022-10-07T22:08:27.160Z"
   },
   {
    "duration": 7980,
    "start_time": "2022-10-07T22:08:27.907Z"
   },
   {
    "duration": 6,
    "start_time": "2022-10-07T22:08:35.889Z"
   },
   {
    "duration": 36,
    "start_time": "2022-10-07T22:08:35.896Z"
   },
   {
    "duration": 3,
    "start_time": "2022-10-07T22:08:35.934Z"
   },
   {
    "duration": 12,
    "start_time": "2022-10-07T22:08:35.938Z"
   },
   {
    "duration": 8,
    "start_time": "2022-10-07T22:08:35.951Z"
   },
   {
    "duration": 368,
    "start_time": "2022-10-07T22:08:35.960Z"
   },
   {
    "duration": 599,
    "start_time": "2022-10-07T22:08:36.329Z"
   },
   {
    "duration": 598,
    "start_time": "2022-10-07T22:08:36.931Z"
   },
   {
    "duration": 799,
    "start_time": "2022-10-07T22:08:37.532Z"
   },
   {
    "duration": 195,
    "start_time": "2022-10-07T22:08:38.426Z"
   },
   {
    "duration": 103,
    "start_time": "2022-10-07T22:08:38.626Z"
   },
   {
    "duration": 172,
    "start_time": "2022-10-07T22:08:38.732Z"
   },
   {
    "duration": 166,
    "start_time": "2022-10-07T22:08:38.906Z"
   },
   {
    "duration": 7,
    "start_time": "2022-10-07T22:08:39.074Z"
   },
   {
    "duration": 12,
    "start_time": "2022-10-07T22:08:39.082Z"
   },
   {
    "duration": 0,
    "start_time": "2022-10-07T22:08:39.095Z"
   },
   {
    "duration": 0,
    "start_time": "2022-10-07T22:08:39.096Z"
   },
   {
    "duration": 0,
    "start_time": "2022-10-07T22:08:39.097Z"
   },
   {
    "duration": 0,
    "start_time": "2022-10-07T22:08:39.098Z"
   },
   {
    "duration": 0,
    "start_time": "2022-10-07T22:08:39.099Z"
   },
   {
    "duration": 0,
    "start_time": "2022-10-07T22:08:39.122Z"
   },
   {
    "duration": 1,
    "start_time": "2022-10-07T22:08:39.122Z"
   },
   {
    "duration": 0,
    "start_time": "2022-10-07T22:08:39.123Z"
   },
   {
    "duration": 0,
    "start_time": "2022-10-07T22:08:39.125Z"
   },
   {
    "duration": 0,
    "start_time": "2022-10-07T22:08:39.125Z"
   },
   {
    "duration": 0,
    "start_time": "2022-10-07T22:08:39.126Z"
   },
   {
    "duration": 0,
    "start_time": "2022-10-07T22:08:39.127Z"
   },
   {
    "duration": 0,
    "start_time": "2022-10-07T22:08:39.128Z"
   },
   {
    "duration": 6,
    "start_time": "2022-10-07T22:09:34.873Z"
   },
   {
    "duration": 146,
    "start_time": "2022-10-07T22:09:37.841Z"
   },
   {
    "duration": 4,
    "start_time": "2022-10-07T22:09:52.187Z"
   },
   {
    "duration": 4,
    "start_time": "2022-10-07T22:09:56.596Z"
   },
   {
    "duration": 16,
    "start_time": "2022-10-07T22:10:25.602Z"
   },
   {
    "duration": 1431,
    "start_time": "2022-10-07T22:10:30.567Z"
   },
   {
    "duration": 8,
    "start_time": "2022-10-07T22:13:12.244Z"
   },
   {
    "duration": 6,
    "start_time": "2022-10-07T22:17:57.214Z"
   },
   {
    "duration": 277,
    "start_time": "2022-10-07T22:17:59.562Z"
   },
   {
    "duration": 147,
    "start_time": "2022-10-07T22:18:22.142Z"
   },
   {
    "duration": 3,
    "start_time": "2022-10-07T22:18:34.423Z"
   },
   {
    "duration": 11,
    "start_time": "2022-10-07T22:18:34.428Z"
   },
   {
    "duration": 332,
    "start_time": "2022-10-07T22:18:34.440Z"
   },
   {
    "duration": 18,
    "start_time": "2022-10-07T22:18:34.774Z"
   },
   {
    "duration": 45,
    "start_time": "2022-10-07T22:18:34.794Z"
   },
   {
    "duration": 121,
    "start_time": "2022-10-07T22:18:34.841Z"
   },
   {
    "duration": 10,
    "start_time": "2022-10-07T22:18:34.964Z"
   },
   {
    "duration": 391,
    "start_time": "2022-10-07T22:18:34.975Z"
   },
   {
    "duration": 197,
    "start_time": "2022-10-07T22:18:35.368Z"
   },
   {
    "duration": 183,
    "start_time": "2022-10-07T22:18:35.566Z"
   },
   {
    "duration": 752,
    "start_time": "2022-10-07T22:18:35.750Z"
   },
   {
    "duration": 8070,
    "start_time": "2022-10-07T22:18:36.504Z"
   },
   {
    "duration": 6,
    "start_time": "2022-10-07T22:18:44.575Z"
   },
   {
    "duration": 30,
    "start_time": "2022-10-07T22:18:44.583Z"
   },
   {
    "duration": 3,
    "start_time": "2022-10-07T22:18:44.622Z"
   },
   {
    "duration": 14,
    "start_time": "2022-10-07T22:18:44.626Z"
   },
   {
    "duration": 5,
    "start_time": "2022-10-07T22:18:44.642Z"
   },
   {
    "duration": 378,
    "start_time": "2022-10-07T22:18:44.649Z"
   },
   {
    "duration": 599,
    "start_time": "2022-10-07T22:18:45.029Z"
   },
   {
    "duration": 597,
    "start_time": "2022-10-07T22:18:45.630Z"
   },
   {
    "duration": 901,
    "start_time": "2022-10-07T22:18:46.229Z"
   },
   {
    "duration": 192,
    "start_time": "2022-10-07T22:18:47.131Z"
   },
   {
    "duration": 98,
    "start_time": "2022-10-07T22:18:47.332Z"
   },
   {
    "duration": 262,
    "start_time": "2022-10-07T22:18:47.433Z"
   },
   {
    "duration": 172,
    "start_time": "2022-10-07T22:18:47.697Z"
   },
   {
    "duration": 6,
    "start_time": "2022-10-07T22:18:47.870Z"
   },
   {
    "duration": 154,
    "start_time": "2022-10-07T22:18:47.878Z"
   },
   {
    "duration": 4,
    "start_time": "2022-10-07T22:18:48.034Z"
   },
   {
    "duration": 6,
    "start_time": "2022-10-07T22:18:48.040Z"
   },
   {
    "duration": 17,
    "start_time": "2022-10-07T22:18:48.047Z"
   },
   {
    "duration": 8,
    "start_time": "2022-10-07T22:18:48.065Z"
   },
   {
    "duration": 304,
    "start_time": "2022-10-07T22:18:48.074Z"
   },
   {
    "duration": 9,
    "start_time": "2022-10-07T22:18:48.379Z"
   },
   {
    "duration": 11,
    "start_time": "2022-10-07T22:18:48.389Z"
   },
   {
    "duration": 5,
    "start_time": "2022-10-07T22:18:48.402Z"
   },
   {
    "duration": 5062,
    "start_time": "2022-10-07T22:18:48.422Z"
   },
   {
    "duration": 11,
    "start_time": "2022-10-07T22:18:53.486Z"
   },
   {
    "duration": 286,
    "start_time": "2022-10-07T22:22:46.521Z"
   },
   {
    "duration": 6,
    "start_time": "2022-10-07T22:24:29.423Z"
   },
   {
    "duration": 16,
    "start_time": "2022-10-07T22:24:41.569Z"
   },
   {
    "duration": 287,
    "start_time": "2022-10-07T22:24:44.150Z"
   },
   {
    "duration": 1436,
    "start_time": "2022-10-07T22:26:13.425Z"
   },
   {
    "duration": 4957,
    "start_time": "2022-10-07T22:26:24.152Z"
   },
   {
    "duration": 282,
    "start_time": "2022-10-07T22:26:29.111Z"
   },
   {
    "duration": 5,
    "start_time": "2022-10-07T22:27:45.012Z"
   },
   {
    "duration": 5,
    "start_time": "2022-10-07T22:27:47.763Z"
   },
   {
    "duration": 17,
    "start_time": "2022-10-07T22:27:55.853Z"
   },
   {
    "duration": 298,
    "start_time": "2022-10-07T22:27:56.695Z"
   },
   {
    "duration": 5117,
    "start_time": "2022-10-07T22:28:05.667Z"
   },
   {
    "duration": 261,
    "start_time": "2022-10-07T22:28:12.957Z"
   },
   {
    "duration": 5,
    "start_time": "2022-10-07T22:28:37.011Z"
   },
   {
    "duration": 6,
    "start_time": "2022-10-07T22:29:55.740Z"
   },
   {
    "duration": 16,
    "start_time": "2022-10-07T22:30:02.736Z"
   },
   {
    "duration": 296,
    "start_time": "2022-10-07T22:30:03.499Z"
   },
   {
    "duration": 5018,
    "start_time": "2022-10-07T22:30:26.111Z"
   },
   {
    "duration": 278,
    "start_time": "2022-10-07T22:30:31.130Z"
   },
   {
    "duration": 4995,
    "start_time": "2022-10-07T23:06:31.691Z"
   },
   {
    "duration": 12,
    "start_time": "2022-10-07T23:07:05.164Z"
   },
   {
    "duration": 1280,
    "start_time": "2022-10-07T23:16:28.424Z"
   },
   {
    "duration": 3,
    "start_time": "2022-10-07T23:16:29.706Z"
   },
   {
    "duration": 346,
    "start_time": "2022-10-07T23:16:29.710Z"
   },
   {
    "duration": 25,
    "start_time": "2022-10-07T23:16:30.058Z"
   },
   {
    "duration": 61,
    "start_time": "2022-10-07T23:16:30.085Z"
   },
   {
    "duration": 144,
    "start_time": "2022-10-07T23:16:30.148Z"
   },
   {
    "duration": 10,
    "start_time": "2022-10-07T23:16:30.294Z"
   },
   {
    "duration": 431,
    "start_time": "2022-10-07T23:16:30.305Z"
   },
   {
    "duration": 197,
    "start_time": "2022-10-07T23:16:30.738Z"
   },
   {
    "duration": 173,
    "start_time": "2022-10-07T23:16:30.938Z"
   },
   {
    "duration": 758,
    "start_time": "2022-10-07T23:16:31.112Z"
   },
   {
    "duration": 7958,
    "start_time": "2022-10-07T23:16:31.872Z"
   },
   {
    "duration": 7,
    "start_time": "2022-10-07T23:16:39.831Z"
   },
   {
    "duration": 39,
    "start_time": "2022-10-07T23:16:39.840Z"
   },
   {
    "duration": 3,
    "start_time": "2022-10-07T23:16:39.881Z"
   },
   {
    "duration": 11,
    "start_time": "2022-10-07T23:16:39.885Z"
   },
   {
    "duration": 26,
    "start_time": "2022-10-07T23:16:39.897Z"
   },
   {
    "duration": 505,
    "start_time": "2022-10-07T23:16:39.925Z"
   },
   {
    "duration": 598,
    "start_time": "2022-10-07T23:16:40.431Z"
   },
   {
    "duration": 597,
    "start_time": "2022-10-07T23:16:41.031Z"
   },
   {
    "duration": 1092,
    "start_time": "2022-10-07T23:16:41.630Z"
   },
   {
    "duration": 105,
    "start_time": "2022-10-07T23:16:42.724Z"
   },
   {
    "duration": 96,
    "start_time": "2022-10-07T23:16:42.930Z"
   },
   {
    "duration": 170,
    "start_time": "2022-10-07T23:16:43.027Z"
   },
   {
    "duration": 6,
    "start_time": "2022-10-07T23:16:43.198Z"
   },
   {
    "duration": 154,
    "start_time": "2022-10-07T23:16:43.205Z"
   },
   {
    "duration": 5,
    "start_time": "2022-10-07T23:16:43.361Z"
   },
   {
    "duration": 5,
    "start_time": "2022-10-07T23:16:43.370Z"
   },
   {
    "duration": 17,
    "start_time": "2022-10-07T23:16:43.377Z"
   },
   {
    "duration": 426,
    "start_time": "2022-10-07T23:16:43.395Z"
   },
   {
    "duration": 6,
    "start_time": "2022-10-07T23:16:43.823Z"
   },
   {
    "duration": 4823,
    "start_time": "2022-10-07T23:16:43.831Z"
   },
   {
    "duration": 277,
    "start_time": "2022-10-07T23:16:48.655Z"
   },
   {
    "duration": 11,
    "start_time": "2022-10-07T23:16:48.933Z"
   },
   {
    "duration": 59,
    "start_time": "2022-10-07T23:18:25.534Z"
   },
   {
    "duration": 11,
    "start_time": "2022-10-07T23:21:58.216Z"
   }
  ],
  "kernelspec": {
   "display_name": "Python 3 (ipykernel)",
   "language": "python",
   "name": "python3"
  },
  "language_info": {
   "codemirror_mode": {
    "name": "ipython",
    "version": 3
   },
   "file_extension": ".py",
   "mimetype": "text/x-python",
   "name": "python",
   "nbconvert_exporter": "python",
   "pygments_lexer": "ipython3",
   "version": "3.8.10"
  },
  "toc": {
   "base_numbering": 1,
   "nav_menu": {},
   "number_sections": true,
   "sideBar": true,
   "skip_h1_title": true,
   "title_cell": "Table of Contents",
   "title_sidebar": "Contents",
   "toc_cell": false,
   "toc_position": {},
   "toc_section_display": true,
   "toc_window_display": false
  }
 },
 "nbformat": 4,
 "nbformat_minor": 2
}
