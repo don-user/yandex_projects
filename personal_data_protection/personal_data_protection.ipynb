{
 "cells": [
  {
   "cell_type": "markdown",
   "metadata": {
    "toc": true
   },
   "source": [
    "<h1>Содержание<span class=\"tocSkip\"></span></h1>\n",
    "<div class=\"toc\"><ul class=\"toc-item\"><li><span><a href=\"#Загрузка-данных\" data-toc-modified-id=\"Загрузка-данных-1\"><span class=\"toc-item-num\">1&nbsp;&nbsp;</span>Загрузка данных</a></span><ul class=\"toc-item\"><li><span><a href=\"#Импортируем-необходимые-модули\" data-toc-modified-id=\"Импортируем-необходимые-модули-1.1\"><span class=\"toc-item-num\">1.1&nbsp;&nbsp;</span>Импортируем необходимые модули</a></span></li><li><span><a href=\"#Загрузка-данных\" data-toc-modified-id=\"Загрузка-данных-1.2\"><span class=\"toc-item-num\">1.2&nbsp;&nbsp;</span>Загрузка данных</a></span></li><li><span><a href=\"#Изучение-данных\" data-toc-modified-id=\"Изучение-данных-1.3\"><span class=\"toc-item-num\">1.3&nbsp;&nbsp;</span>Изучение данных</a></span></li></ul></li><li><span><a href=\"#Умножение-матриц\" data-toc-modified-id=\"Умножение-матриц-2\"><span class=\"toc-item-num\">2&nbsp;&nbsp;</span>Умножение матриц</a></span></li><li><span><a href=\"#Алгоритм-преобразования\" data-toc-modified-id=\"Алгоритм-преобразования-3\"><span class=\"toc-item-num\">3&nbsp;&nbsp;</span>Алгоритм преобразования</a></span></li><li><span><a href=\"#Проверка-алгоритма\" data-toc-modified-id=\"Проверка-алгоритма-4\"><span class=\"toc-item-num\">4&nbsp;&nbsp;</span>Проверка алгоритма</a></span></li><li><span><a href=\"#Вывод\" data-toc-modified-id=\"Вывод-5\"><span class=\"toc-item-num\">5&nbsp;&nbsp;</span>Вывод</a></span></li><li><span><a href=\"#Чек-лист-проверки\" data-toc-modified-id=\"Чек-лист-проверки-6\"><span class=\"toc-item-num\">6&nbsp;&nbsp;</span>Чек-лист проверки</a></span></li></ul></div>"
   ]
  },
  {
   "cell_type": "markdown",
   "metadata": {},
   "source": [
    "# Защита персональных данных клиентов"
   ]
  },
  {
   "cell_type": "markdown",
   "metadata": {},
   "source": [
    "Необходимо защитить данные клиентов страховой компании. Разработайте такой метод преобразования данных, чтобы по ним было сложно восстановить персональную информацию. Обоснуйте корректность его работы.\n",
    "\n",
    "Нужно защитить данные, чтобы при преобразовании качество моделей машинного обучения не ухудшилось. "
   ]
  },
  {
   "cell_type": "markdown",
   "metadata": {},
   "source": [
    "## Загрузка данных"
   ]
  },
  {
   "cell_type": "markdown",
   "metadata": {},
   "source": [
    "### Импортируем необходимые модули"
   ]
  },
  {
   "cell_type": "code",
   "execution_count": 1,
   "metadata": {},
   "outputs": [],
   "source": [
    "import pandas as pd\n",
    "import numpy as np\n",
    "import matplotlib.pyplot as plt\n",
    "import seaborn as sns\n",
    "\n",
    "from sklearn.linear_model import LinearRegression\n",
    "from sklearn.preprocessing import StandardScaler\n",
    "from sklearn.metrics import r2_score, mean_squared_error\n",
    "from IPython.display import display\n",
    "\n",
    "pd.set_option('display.max_columns', 50)\n",
    "pd.set_option('display.precision', 3)\n"
   ]
  },
  {
   "cell_type": "code",
   "execution_count": 2,
   "metadata": {},
   "outputs": [],
   "source": [
    "#константы \n",
    "STATE = np.random.RandomState(13)"
   ]
  },
  {
   "cell_type": "markdown",
   "metadata": {},
   "source": [
    "### Загрузка данных"
   ]
  },
  {
   "cell_type": "code",
   "execution_count": 3,
   "metadata": {},
   "outputs": [
    {
     "data": {
      "text/html": [
       "<div>\n",
       "<style scoped>\n",
       "    .dataframe tbody tr th:only-of-type {\n",
       "        vertical-align: middle;\n",
       "    }\n",
       "\n",
       "    .dataframe tbody tr th {\n",
       "        vertical-align: top;\n",
       "    }\n",
       "\n",
       "    .dataframe thead th {\n",
       "        text-align: right;\n",
       "    }\n",
       "</style>\n",
       "<table border=\"1\" class=\"dataframe\">\n",
       "  <thead>\n",
       "    <tr style=\"text-align: right;\">\n",
       "      <th></th>\n",
       "      <th>Пол</th>\n",
       "      <th>Возраст</th>\n",
       "      <th>Зарплата</th>\n",
       "      <th>Члены семьи</th>\n",
       "      <th>Страховые выплаты</th>\n",
       "    </tr>\n",
       "  </thead>\n",
       "  <tbody>\n",
       "    <tr>\n",
       "      <th>0</th>\n",
       "      <td>1</td>\n",
       "      <td>41.0</td>\n",
       "      <td>49600.0</td>\n",
       "      <td>1</td>\n",
       "      <td>0</td>\n",
       "    </tr>\n",
       "    <tr>\n",
       "      <th>1</th>\n",
       "      <td>0</td>\n",
       "      <td>46.0</td>\n",
       "      <td>38000.0</td>\n",
       "      <td>1</td>\n",
       "      <td>1</td>\n",
       "    </tr>\n",
       "    <tr>\n",
       "      <th>2</th>\n",
       "      <td>0</td>\n",
       "      <td>29.0</td>\n",
       "      <td>21000.0</td>\n",
       "      <td>0</td>\n",
       "      <td>0</td>\n",
       "    </tr>\n",
       "    <tr>\n",
       "      <th>3</th>\n",
       "      <td>0</td>\n",
       "      <td>21.0</td>\n",
       "      <td>41700.0</td>\n",
       "      <td>2</td>\n",
       "      <td>0</td>\n",
       "    </tr>\n",
       "    <tr>\n",
       "      <th>4</th>\n",
       "      <td>1</td>\n",
       "      <td>28.0</td>\n",
       "      <td>26100.0</td>\n",
       "      <td>0</td>\n",
       "      <td>0</td>\n",
       "    </tr>\n",
       "  </tbody>\n",
       "</table>\n",
       "</div>"
      ],
      "text/plain": [
       "   Пол  Возраст  Зарплата  Члены семьи  Страховые выплаты\n",
       "0    1     41.0   49600.0            1                  0\n",
       "1    0     46.0   38000.0            1                  1\n",
       "2    0     29.0   21000.0            0                  0\n",
       "3    0     21.0   41700.0            2                  0\n",
       "4    1     28.0   26100.0            0                  0"
      ]
     },
     "metadata": {},
     "output_type": "display_data"
    }
   ],
   "source": [
    "df = pd.read_csv('/datasets/insurance.csv')\n",
    "display(df.head(5))"
   ]
  },
  {
   "cell_type": "code",
   "execution_count": 4,
   "metadata": {
    "scrolled": true
   },
   "outputs": [
    {
     "name": "stdout",
     "output_type": "stream",
     "text": [
      "<class 'pandas.core.frame.DataFrame'>\n",
      "RangeIndex: 5000 entries, 0 to 4999\n",
      "Data columns (total 5 columns):\n",
      " #   Column             Non-Null Count  Dtype  \n",
      "---  ------             --------------  -----  \n",
      " 0   Пол                5000 non-null   int64  \n",
      " 1   Возраст            5000 non-null   float64\n",
      " 2   Зарплата           5000 non-null   float64\n",
      " 3   Члены семьи        5000 non-null   int64  \n",
      " 4   Страховые выплаты  5000 non-null   int64  \n",
      "dtypes: float64(2), int64(3)\n",
      "memory usage: 195.4 KB\n"
     ]
    }
   ],
   "source": [
    "df.info()"
   ]
  },
  {
   "cell_type": "markdown",
   "metadata": {},
   "source": [
    "Датасет содержит 5000 объектов, 4 колонки (признаков):  \n",
    "- Пол — пол клиента,\n",
    "- Возраст — возраст клиента,\n",
    "- Зарплата — размер заработной платы в месяц,\n",
    "- Члены семьи — количество членов семьи клиента,  \n",
    "\n",
    "и целевой признак:  \n",
    "- Страховые выплаты — количество страховых выплат клиенту за последние 5 лет.  \n",
    "\n",
    "Пустых значений нет, наименование столбцов не соотвествуют стандартам snake_case.  \n",
    "В датафрейме 1 категориальный признак - 'Пол', остальные признаки непрерывные.\n",
    "\n",
    "Рассмотрим распределение данных в датасете с учетом целевого признака."
   ]
  },
  {
   "cell_type": "markdown",
   "metadata": {},
   "source": [
    "### Изучение данных"
   ]
  },
  {
   "cell_type": "markdown",
   "metadata": {},
   "source": [
    "Для начала приведем название признаков в соотвествии со стандартами snake_case"
   ]
  },
  {
   "cell_type": "code",
   "execution_count": 5,
   "metadata": {
    "scrolled": true
   },
   "outputs": [
    {
     "data": {
      "text/html": [
       "<div>\n",
       "<style scoped>\n",
       "    .dataframe tbody tr th:only-of-type {\n",
       "        vertical-align: middle;\n",
       "    }\n",
       "\n",
       "    .dataframe tbody tr th {\n",
       "        vertical-align: top;\n",
       "    }\n",
       "\n",
       "    .dataframe thead th {\n",
       "        text-align: right;\n",
       "    }\n",
       "</style>\n",
       "<table border=\"1\" class=\"dataframe\">\n",
       "  <thead>\n",
       "    <tr style=\"text-align: right;\">\n",
       "      <th></th>\n",
       "      <th>gender</th>\n",
       "      <th>age</th>\n",
       "      <th>salary</th>\n",
       "      <th>relatives</th>\n",
       "      <th>insurance_payments</th>\n",
       "    </tr>\n",
       "  </thead>\n",
       "  <tbody>\n",
       "    <tr>\n",
       "      <th>0</th>\n",
       "      <td>1</td>\n",
       "      <td>41.0</td>\n",
       "      <td>49600.0</td>\n",
       "      <td>1</td>\n",
       "      <td>0</td>\n",
       "    </tr>\n",
       "  </tbody>\n",
       "</table>\n",
       "</div>"
      ],
      "text/plain": [
       "   gender   age   salary  relatives  insurance_payments\n",
       "0       1  41.0  49600.0          1                   0"
      ]
     },
     "metadata": {},
     "output_type": "display_data"
    }
   ],
   "source": [
    "df.columns = ['gender', 'age', 'salary', 'relatives', 'insurance_payments']\n",
    "display(df.head(1))"
   ]
  },
  {
   "cell_type": "code",
   "execution_count": 6,
   "metadata": {
    "scrolled": true
   },
   "outputs": [
    {
     "data": {
      "text/html": [
       "<div>\n",
       "<style scoped>\n",
       "    .dataframe tbody tr th:only-of-type {\n",
       "        vertical-align: middle;\n",
       "    }\n",
       "\n",
       "    .dataframe tbody tr th {\n",
       "        vertical-align: top;\n",
       "    }\n",
       "\n",
       "    .dataframe thead th {\n",
       "        text-align: right;\n",
       "    }\n",
       "</style>\n",
       "<table border=\"1\" class=\"dataframe\">\n",
       "  <thead>\n",
       "    <tr style=\"text-align: right;\">\n",
       "      <th></th>\n",
       "      <th>gender</th>\n",
       "      <th>age</th>\n",
       "      <th>salary</th>\n",
       "      <th>relatives</th>\n",
       "      <th>insurance_payments</th>\n",
       "    </tr>\n",
       "  </thead>\n",
       "  <tbody>\n",
       "    <tr>\n",
       "      <th>unique</th>\n",
       "      <td>2</td>\n",
       "      <td>46</td>\n",
       "      <td>524</td>\n",
       "      <td>7</td>\n",
       "      <td>6</td>\n",
       "    </tr>\n",
       "  </tbody>\n",
       "</table>\n",
       "</div>"
      ],
      "text/plain": [
       "        gender  age  salary  relatives  insurance_payments\n",
       "unique       2   46     524          7                   6"
      ]
     },
     "metadata": {},
     "output_type": "display_data"
    }
   ],
   "source": [
    "#уникальные значения в признаках\n",
    "display(df.nunique().to_frame(name='unique').T)                                               "
   ]
  },
  {
   "cell_type": "markdown",
   "metadata": {},
   "source": [
    "`gender` - категориальный признак,  \n",
    "Остальные признаки не прерывные, но в `relatives`, и `insurance_payments` маленькое количество уникальных значений, посмотрим как распределены значения в целевом признаки."
   ]
  },
  {
   "cell_type": "code",
   "execution_count": 7,
   "metadata": {
    "scrolled": false
   },
   "outputs": [
    {
     "name": "stdout",
     "output_type": "stream",
     "text": [
      "Распределение insurance_payments:\n"
     ]
    },
    {
     "data": {
      "text/html": [
       "<div>\n",
       "<style scoped>\n",
       "    .dataframe tbody tr th:only-of-type {\n",
       "        vertical-align: middle;\n",
       "    }\n",
       "\n",
       "    .dataframe tbody tr th {\n",
       "        vertical-align: top;\n",
       "    }\n",
       "\n",
       "    .dataframe thead th {\n",
       "        text-align: right;\n",
       "    }\n",
       "</style>\n",
       "<table border=\"1\" class=\"dataframe\">\n",
       "  <thead>\n",
       "    <tr style=\"text-align: right;\">\n",
       "      <th></th>\n",
       "      <th>0</th>\n",
       "      <th>1</th>\n",
       "      <th>2</th>\n",
       "      <th>3</th>\n",
       "      <th>4</th>\n",
       "      <th>5</th>\n",
       "    </tr>\n",
       "  </thead>\n",
       "  <tbody>\n",
       "    <tr>\n",
       "      <th>insurance_payments</th>\n",
       "      <td>4436</td>\n",
       "      <td>423</td>\n",
       "      <td>115</td>\n",
       "      <td>18</td>\n",
       "      <td>7</td>\n",
       "      <td>1</td>\n",
       "    </tr>\n",
       "  </tbody>\n",
       "</table>\n",
       "</div>"
      ],
      "text/plain": [
       "                       0    1    2   3  4  5\n",
       "insurance_payments  4436  423  115  18  7  1"
      ]
     },
     "metadata": {},
     "output_type": "display_data"
    },
    {
     "name": "stdout",
     "output_type": "stream",
     "text": [
      "\n",
      "Распределение insurance_payments в долях:\n"
     ]
    },
    {
     "data": {
      "text/html": [
       "<div>\n",
       "<style scoped>\n",
       "    .dataframe tbody tr th:only-of-type {\n",
       "        vertical-align: middle;\n",
       "    }\n",
       "\n",
       "    .dataframe tbody tr th {\n",
       "        vertical-align: top;\n",
       "    }\n",
       "\n",
       "    .dataframe thead th {\n",
       "        text-align: right;\n",
       "    }\n",
       "</style>\n",
       "<table border=\"1\" class=\"dataframe\">\n",
       "  <thead>\n",
       "    <tr style=\"text-align: right;\">\n",
       "      <th></th>\n",
       "      <th>0</th>\n",
       "      <th>1</th>\n",
       "      <th>2</th>\n",
       "      <th>3</th>\n",
       "      <th>4</th>\n",
       "      <th>5</th>\n",
       "    </tr>\n",
       "  </thead>\n",
       "  <tbody>\n",
       "    <tr>\n",
       "      <th>insurance_payments</th>\n",
       "      <td>0.887</td>\n",
       "      <td>0.085</td>\n",
       "      <td>0.023</td>\n",
       "      <td>0.004</td>\n",
       "      <td>0.001</td>\n",
       "      <td>2.000e-04</td>\n",
       "    </tr>\n",
       "  </tbody>\n",
       "</table>\n",
       "</div>"
      ],
      "text/plain": [
       "                        0      1      2      3      4          5\n",
       "insurance_payments  0.887  0.085  0.023  0.004  0.001  2.000e-04"
      ]
     },
     "metadata": {},
     "output_type": "display_data"
    }
   ],
   "source": [
    "print('Распределение insurance_payments:')\n",
    "display(df['insurance_payments'].value_counts().to_frame().T)\n",
    "print()\n",
    "print('Распределение insurance_payments в долях:')\n",
    "display(df['insurance_payments'].value_counts(normalize = True).to_frame().T)"
   ]
  },
  {
   "cell_type": "markdown",
   "metadata": {},
   "source": [
    "Можем наблюдать высокую долю объектов с 0 выплатой - 89%, и уменьшением доли с увеличением количества выплат. Это нормальная ситуация которая, т.к. страховые случаю возникают редко, что обеспечивает рентабельность страхового бизнеса."
   ]
  },
  {
   "cell_type": "code",
   "execution_count": 8,
   "metadata": {},
   "outputs": [
    {
     "data": {
      "image/png": "[encoded data removed]",
      "text/plain": [
       "<Figure size 504x360 with 2 Axes>"
      ]
     },
     "metadata": {
      "needs_background": "light"
     },
     "output_type": "display_data"
    },
    {
     "data": {
      "text/html": [
       "<div>\n",
       "<style scoped>\n",
       "    .dataframe tbody tr th:only-of-type {\n",
       "        vertical-align: middle;\n",
       "    }\n",
       "\n",
       "    .dataframe tbody tr th {\n",
       "        vertical-align: top;\n",
       "    }\n",
       "\n",
       "    .dataframe thead th {\n",
       "        text-align: right;\n",
       "    }\n",
       "</style>\n",
       "<table border=\"1\" class=\"dataframe\">\n",
       "  <thead>\n",
       "    <tr style=\"text-align: right;\">\n",
       "      <th></th>\n",
       "      <th>count</th>\n",
       "      <th>mean</th>\n",
       "      <th>std</th>\n",
       "      <th>min</th>\n",
       "      <th>25%</th>\n",
       "      <th>50%</th>\n",
       "      <th>75%</th>\n",
       "      <th>max</th>\n",
       "    </tr>\n",
       "  </thead>\n",
       "  <tbody>\n",
       "    <tr>\n",
       "      <th>gender</th>\n",
       "      <td>5000.0</td>\n",
       "      <td>0.499</td>\n",
       "      <td>0.500</td>\n",
       "      <td>0.0</td>\n",
       "      <td>0.0</td>\n",
       "      <td>0.0</td>\n",
       "      <td>1.0</td>\n",
       "      <td>1.0</td>\n",
       "    </tr>\n",
       "    <tr>\n",
       "      <th>age</th>\n",
       "      <td>5000.0</td>\n",
       "      <td>30.953</td>\n",
       "      <td>8.441</td>\n",
       "      <td>18.0</td>\n",
       "      <td>24.0</td>\n",
       "      <td>30.0</td>\n",
       "      <td>37.0</td>\n",
       "      <td>65.0</td>\n",
       "    </tr>\n",
       "    <tr>\n",
       "      <th>salary</th>\n",
       "      <td>5000.0</td>\n",
       "      <td>39916.360</td>\n",
       "      <td>9900.084</td>\n",
       "      <td>5300.0</td>\n",
       "      <td>33300.0</td>\n",
       "      <td>40200.0</td>\n",
       "      <td>46600.0</td>\n",
       "      <td>79000.0</td>\n",
       "    </tr>\n",
       "    <tr>\n",
       "      <th>relatives</th>\n",
       "      <td>5000.0</td>\n",
       "      <td>1.194</td>\n",
       "      <td>1.091</td>\n",
       "      <td>0.0</td>\n",
       "      <td>0.0</td>\n",
       "      <td>1.0</td>\n",
       "      <td>2.0</td>\n",
       "      <td>6.0</td>\n",
       "    </tr>\n",
       "    <tr>\n",
       "      <th>insurance_payments</th>\n",
       "      <td>5000.0</td>\n",
       "      <td>0.148</td>\n",
       "      <td>0.463</td>\n",
       "      <td>0.0</td>\n",
       "      <td>0.0</td>\n",
       "      <td>0.0</td>\n",
       "      <td>0.0</td>\n",
       "      <td>5.0</td>\n",
       "    </tr>\n",
       "  </tbody>\n",
       "</table>\n",
       "</div>"
      ],
      "text/plain": [
       "                     count       mean       std     min      25%      50%  \\\n",
       "gender              5000.0      0.499     0.500     0.0      0.0      0.0   \n",
       "age                 5000.0     30.953     8.441    18.0     24.0     30.0   \n",
       "salary              5000.0  39916.360  9900.084  5300.0  33300.0  40200.0   \n",
       "relatives           5000.0      1.194     1.091     0.0      0.0      1.0   \n",
       "insurance_payments  5000.0      0.148     0.463     0.0      0.0      0.0   \n",
       "\n",
       "                        75%      max  \n",
       "gender                  1.0      1.0  \n",
       "age                    37.0     65.0  \n",
       "salary              46600.0  79000.0  \n",
       "relatives               2.0      6.0  \n",
       "insurance_payments      0.0      5.0  "
      ]
     },
     "metadata": {},
     "output_type": "display_data"
    }
   ],
   "source": [
    "#проверим кореляцию признаков между собой\n",
    "plt.figure(figsize = (7,5))\n",
    "g = sns.heatmap(df.corr(), annot=True, annot_kws={'size' : 11})\n",
    "g.set_yticklabels(df.corr().columns, rotation = 0)\n",
    "g.set_xticklabels(df.corr().columns, rotation = 40)\n",
    "plt.title(f'Корреляционная матрица', fontweight=\"bold\")\n",
    "plt.show()\n",
    "display(df.describe().T)"
   ]
  },
  {
   "cell_type": "markdown",
   "metadata": {},
   "source": [
    "Основные признаки имеют низкую корреляцию между собой.  \n",
    "Отметим достаточно высокую кореляцию между целевым признаком и возрастом - `0,65`."
   ]
  },
  {
   "cell_type": "code",
   "execution_count": 9,
   "metadata": {},
   "outputs": [
    {
     "data": {
      "text/plain": [
       "'Количество дубликатов - 153'"
      ]
     },
     "metadata": {},
     "output_type": "display_data"
    },
    {
     "name": "stdout",
     "output_type": "stream",
     "text": [
      "Доля дубликатов в df - 0.03\n"
     ]
    }
   ],
   "source": [
    "display(f'Количество дубликатов - {df.duplicated().sum()}')\n",
    "print('Доля дубликатов в df -', round(df.duplicated().sum() / df.shape[0], 2))"
   ]
  },
  {
   "cell_type": "markdown",
   "metadata": {},
   "source": [
    "В данных есть `153` дубликатов, всего `3%` от общей выборки, но так как подобные данные в признаках могут совпадать, а возможности уточнить уникальность клиентов по индексу нет, примем данный факт, и не будем удалять дубли, т.к. их наличие или отсутвие не будут оказывать существенное влияния."
   ]
  },
  {
   "cell_type": "markdown",
   "metadata": {},
   "source": [
    "## Умножение матриц"
   ]
  },
  {
   "cell_type": "markdown",
   "metadata": {},
   "source": [
    "В этом задании вы можете записывать формулы в *Jupyter Notebook.*\n",
    "\n",
    "Чтобы записать формулу внутри текста, окружите её символами доллара \\\\$; если снаружи —  двойными символами \\\\$\\\\$. Эти формулы записываются на языке вёрстки *LaTeX.* \n",
    "\n",
    "Для примера мы записали формулы линейной регрессии. Можете их скопировать и отредактировать, чтобы решить задачу.\n",
    "\n",
    "Работать в *LaTeX* необязательно."
   ]
  },
  {
   "cell_type": "markdown",
   "metadata": {},
   "source": [
    "Обозначения:\n",
    "\n",
    "- $X$ — матрица признаков (нулевой столбец состоит из единиц)\n",
    "\n",
    "- $y$ — вектор целевого признака\n",
    "\n",
    "- $P$ — матрица, на которую умножаются признаки\n",
    "\n",
    "- $w$ — вектор весов линейной регрессии (нулевой элемент равен сдвигу)"
   ]
  },
  {
   "cell_type": "markdown",
   "metadata": {},
   "source": [
    "Предсказания:\n",
    "\n",
    "$$\n",
    "a = Xw\n",
    "$$\n",
    "\n",
    "Задача обучения:\n",
    "\n",
    "$$\n",
    "w = \\arg\\min_w MSE(Xw, y)\n",
    "$$\n",
    "\n",
    "Формула обучения:\n",
    "\n",
    "$$\n",
    "w = (X^T X)^{-1} X^T y\n",
    "$$"
   ]
  },
  {
   "cell_type": "markdown",
   "metadata": {},
   "source": [
    "Проверим изменится ли качество линейное регрессии при умножении признаков на обратную матрицу. \n",
    "\n",
    "Прежде всего подготовим основные и целевой признаки для обучения моделей"
   ]
  },
  {
   "cell_type": "code",
   "execution_count": 29,
   "metadata": {},
   "outputs": [
    {
     "name": "stdout",
     "output_type": "stream",
     "text": [
      "0.42494550286668\n"
     ]
    }
   ],
   "source": [
    "# выделим в данных признаки и целевой признак\n",
    "features = df.drop(['insurance_payments'], axis=1)\n",
    "target = df['insurance_payments']\n",
    " \n",
    "# зададим матрицу признаков X\n",
    "X = np.array(features)\n",
    " \n",
    "class LinearRegression:\n",
    "    def fit(self, train_features, train_target):\n",
    "        X = np.concatenate((np.ones((train_features.shape[0], 1)), train_features), axis=1)\n",
    "        y = train_target\n",
    "        w = (np.linalg.inv(X.T.dot(X)).dot(X.T)).dot(y)\n",
    "        self.w = w[1:]\n",
    "        self.w0 = w[0]\n",
    " \n",
    "    def predict(self, test_features):\n",
    "        return test_features.dot(self.w) + self.w0\n",
    "    \n",
    "model = LinearRegression()\n",
    "model.fit(features, target)\n",
    "predictions = model.predict(features)\n",
    "print(r2_score(target, predictions))\n",
    " \n",
    "#Создадим матрицу P, состоящую из случайных чисел и имеющюю такой размер, \n",
    "#чтобы при умножении на X получалась матрица того же размера, что и X. \n",
    "#Как задать размер матрицы P: это должна быть квадратная матрица, а ширина должна быть равна количеству признаков - 4. \n",
    "\n",
    " \n"
   ]
  },
  {
   "cell_type": "code",
   "execution_count": 30,
   "metadata": {},
   "outputs": [
    {
     "data": {
      "text/plain": [
       "(5000, 4)"
      ]
     },
     "execution_count": 30,
     "metadata": {},
     "output_type": "execute_result"
    }
   ],
   "source": [
    "np.random.seed(100) # фиксируем случайность\n",
    " \n",
    "P =  np.random.normal(3, 2.5, size=(4, 4))\n",
    " \n",
    "#Умножим матрицы X и Р и получим новую матрицу A, проверяем размер\n",
    "A = X @ P\n",
    "A.shape\n"
   ]
  },
  {
   "cell_type": "code",
   "execution_count": 31,
   "metadata": {},
   "outputs": [
    {
     "name": "stdout",
     "output_type": "stream",
     "text": [
      "0.42494550286205446\n"
     ]
    }
   ],
   "source": [
    "model.fit(A, target)\n",
    "predictions = model.predict(A)\n",
    "print(r2_score(target, predictions))"
   ]
  },
  {
   "cell_type": "code",
   "execution_count": 10,
   "metadata": {},
   "outputs": [],
   "source": [
    "features, target = df.drop('insurance_payments', axis=1).values, df['insurance_payments'].values"
   ]
  },
  {
   "cell_type": "markdown",
   "metadata": {},
   "source": [
    "Создадим класс для проведения предварительной оценки модели Линейной регрессии, которая будет предсказывать по вышеупомянутой формуле обучения. "
   ]
  },
  {
   "cell_type": "code",
   "execution_count": 11,
   "metadata": {},
   "outputs": [],
   "source": [
    "class CustomLinearRegression:\n",
    "    \n",
    "    def fit(self, x_train, y_train):\n",
    "        X = np.insert(x_train, 0, 1, axis=1)\n",
    "        w = np.linalg.inv((X.T @ X)).dot(X.T).dot(y_train)               \n",
    "        self.w = w[1:]\n",
    "        self.w0 = w[0]        \n",
    "      \n",
    "        \n",
    "    def predict(self, y_new):\n",
    "        return y_new.dot(self.w) + self.w0"
   ]
  },
  {
   "cell_type": "code",
   "execution_count": 12,
   "metadata": {},
   "outputs": [],
   "source": [
    "#функция обучения, предсказания и оценки модели\n",
    "def fit_pred_score(regressor, x_train, y_train, score='R2'):\n",
    "    model = regressor()\n",
    "    model.fit(x_train, y_train)\n",
    "    predictions = model.predict(x_train)\n",
    "    \n",
    "    if score == 'R2':\n",
    "        r2 = r2_score(y_train, predictions).round(4)\n",
    "        display(f'Оценка R2- {r2}')\n",
    "        return r2\n",
    "    else:\n",
    "        mse = mean_squared_error(y_train, predictions).round(4)\n",
    "        display(f'Оценка MSE - {mse}')\n",
    "        return mse"
   ]
  },
  {
   "cell_type": "code",
   "execution_count": 13,
   "metadata": {
    "scrolled": true
   },
   "outputs": [
    {
     "data": {
      "text/plain": [
       "'Оценка MSE - 0.1233'"
      ]
     },
     "metadata": {},
     "output_type": "display_data"
    }
   ],
   "source": [
    "mse_norm = fit_pred_score(CustomLinearRegression, features, target, 'mse')"
   ]
  },
  {
   "cell_type": "markdown",
   "metadata": {},
   "source": [
    "Создадим `P` матрицу из случайных чисел, используя рандомные значения.  "
   ]
  },
  {
   "cell_type": "code",
   "execution_count": 14,
   "metadata": {
    "scrolled": true
   },
   "outputs": [
    {
     "name": "stdout",
     "output_type": "stream",
     "text": [
      "Матрица случайных чисел:\n",
      " [[ 0.30839636  0.07693585 -0.20756042  1.53977973]\n",
      " [-0.58578439  0.09423814 -1.69754038 -0.4275713 ]\n",
      " [ 1.15628168 -0.38524551 -0.37290455  0.12078786]\n",
      " [-1.30963165 -0.78336666 -0.43709233 -1.43804   ]]\n"
     ]
    }
   ],
   "source": [
    "P = np.random.normal(0, 1, (features.shape[1], features.shape[1]))\n",
    "print('Матрица случайных чисел:\\n', P)"
   ]
  },
  {
   "cell_type": "markdown",
   "metadata": {},
   "source": [
    "Проверим, что матрица `P`, является обратимой матрицой. Если она вляется таковой, то произмедение матрицы и ее же инверсионную копию даст еденичную матрицу: \n",
    "- $E$ — единичная матрица \n",
    "\n",
    "$$\n",
    "E = P * P^{-1}\n",
    "$$\n"
   ]
  },
  {
   "cell_type": "code",
   "execution_count": 15,
   "metadata": {
    "scrolled": true
   },
   "outputs": [
    {
     "name": "stdout",
     "output_type": "stream",
     "text": [
      "Проверим обратимость матрицы:\n",
      " [[ 1.  0. -0. -0.]\n",
      " [ 0.  1. -0. -0.]\n",
      " [ 0. -0.  1.  0.]\n",
      " [-0.  0.  0.  1.]]\n"
     ]
    }
   ],
   "source": [
    "print('Проверим обратимость матрицы:\\n', np.around(P @ np.linalg.inv(P)))"
   ]
  },
  {
   "cell_type": "markdown",
   "metadata": {},
   "source": [
    "`P` - является обратимой матрицой, для далнейшей проверки умножим матрицу всех признаков на обратимую матрицу `P`"
   ]
  },
  {
   "cell_type": "code",
   "execution_count": 16,
   "metadata": {},
   "outputs": [
    {
     "name": "stdout",
     "output_type": "stream",
     "text": [
      "[[ 57326.55290575 -19105.01980116 -18566.30938332   5973.6491272 ]\n",
      " [ 43910.44810568 -14635.77766816 -14248.89676935   4568.83232547]\n",
      " [ 24264.92752121  -8087.42273538  -7880.22417655   2524.14547309]\n",
      " [ 48202.0252979  -16064.32536326 -15586.64217937   5024.99864674]\n",
      " [ 30162.85826721 -10052.19212203  -9780.5473908    3142.1309055 ]]\n"
     ]
    }
   ],
   "source": [
    "X_encode = features.dot(P)\n",
    "print(X_encode[:5])"
   ]
  },
  {
   "cell_type": "code",
   "execution_count": 17,
   "metadata": {
    "scrolled": true
   },
   "outputs": [
    {
     "data": {
      "text/plain": [
       "'Оценка MSE - 0.1233'"
      ]
     },
     "metadata": {},
     "output_type": "display_data"
    }
   ],
   "source": [
    "mse_encode = fit_pred_score(CustomLinearRegression, X_encode, target, 'mse')"
   ]
  },
  {
   "cell_type": "markdown",
   "metadata": {},
   "source": [
    "Сравним полученные оценки:"
   ]
  },
  {
   "cell_type": "code",
   "execution_count": 18,
   "metadata": {
    "scrolled": true
   },
   "outputs": [
    {
     "name": "stdout",
     "output_type": "stream",
     "text": [
      "Оценки mse на исходных и преобразованных данных - True\n"
     ]
    }
   ],
   "source": [
    "print('Оценки mse на исходных и преобразованных данных -', mse_norm == mse_encode)"
   ]
  },
  {
   "cell_type": "markdown",
   "metadata": {},
   "source": [
    "**Ответ:**  \n",
    "При умножении признаков на обратимую матрицу, качество линейной регрессии не изменяется."
   ]
  },
  {
   "cell_type": "markdown",
   "metadata": {},
   "source": [
    "**Обоснование:**  \n",
    "При умножении текущих признаков `Х` на рандомную случайную матрицу `P` получаем новую матрицу `X_encode`, в связи с этим формула предсказаня:\n",
    "\n",
    "$$\n",
    "a = X * Xencode * w\n",
    "$$\n",
    "\n",
    "Формула получение весов для расчета, примет вид:\n",
    "\n",
    "$$\n",
    "w_i = ((X * Xencode)^T X * Xencode)^{-1} (X * Xencode)^T * y\n",
    "$$\n",
    "\n",
    "Сократим запись учитывая $Xencode^T * (Xencode^T)^{-1}$ это еденичная матрица, умножая на которую мы получаем ту же матрицу:  \n",
    "\n",
    "$$\n",
    "w_i = (Xencode^{-1} (X^T * X))^{-1} X^T * y\n",
    "$$\n",
    "\n",
    "В результате мы можем наблюдать, что новые веса можно выразить через старые веса\n",
    "\n",
    "$$\n",
    "w_i = Xencode^{-1} * w\n",
    "$$\n",
    "\n",
    "При такой взаимосвязи параметров задачи линейной регрессии с исходной матрицой и задачи линейной регрессии с преобразованной матрицей (умноженной на обратимую  матрицу), веса изменяются под новые значения и поэтому не повлияют на качество линейное регрессии "
   ]
  },
  {
   "cell_type": "markdown",
   "metadata": {},
   "source": [
    "**Обоснование:**\n",
    "\n",
    "Используемые свойства:\n",
    "$$\n",
    "(AB)^T=B^T A^T\n",
    "$$\n",
    "$$\n",
    "(AB)^{-1} = B^{-1} A^{-1}\n",
    "$$\n",
    "$$\n",
    "A A^{-1} = A^{-1} A = E\n",
    "$$\n",
    "$$\n",
    "AE = EA = A\n",
    "$$\n",
    "\n",
    "\n",
    "\\\n",
    "Требуется доказать, что предсказания не изменятся, имеем  $a =  Xw$,   $a' = X'w'$\n",
    "\\\n",
    "\\\n",
    "**Доказательство**:\n",
    "$$\n",
    "w = (X^T X)^{-1} X^T y\n",
    "$$\n",
    "\\\n",
    "$$\n",
    "w' = ((XP)^T XP)^{-1} (XP)^T y\n",
    "$$\n",
    "$$\n",
    "w' = (P^T (X^T X) P)^{-1} (XP)^T y\n",
    "$$\n",
    "$$\n",
    "w' = (P^T (X^T X) P)^{-1} P^T X^T y\n",
    "$$\n",
    "$$\n",
    "w' = P^{-1}(X^T X)^{-1} ((P^T)^{-1} P^T) X^Ty\n",
    "$$\n",
    "\n",
    "Так как матрица $P$ по обратимая, произведение $(P^T)^{-1}P^T$ равно единичной матрице, а матрица умноженная на еденичную матрицу равна сама себе, можно сократить:\n",
    "$$\n",
    "w' = P^{-1}(X^T X)^{-1} X^Ty\n",
    "$$\n",
    "\n",
    "Часть записи $(X^T X)^{-1} X^Ty$ из полученной $w' = P^{-1}(X^T X)^{-1} X^Ty$ соответствует $w = (X^T X)^{-1} X^Ty$, отсюда:\n",
    "$$\n",
    "w' = P^{-1}w\n",
    "$$\n",
    "\n",
    "Применим значение весов w' к формуле предсказания $a = Xw$ и получим:\n",
    "\n",
    "$$\n",
    "a' = X'w'\n",
    "$$\n",
    "$$\n",
    "a' = XPP^{-1}w\n",
    "$$\n",
    "\n",
    "По условиям обратимости выражение $P*P^{-1}$ равно единичной матрице, и следовательно, можно записать как:\n",
    "$$\n",
    "a' = Xw = a\n",
    "$$\n",
    "\n",
    "\n"
   ]
  },
  {
   "cell_type": "markdown",
   "metadata": {},
   "source": [
    "Вычислим значение предсказания:\n",
    " \n",
    "$a' = X P w'$\n",
    " \n",
    "$w' = ((X P)^T (X P))^{-1} (X P)^T y$\n",
    " \n",
    "$a' = X P ((X P)^T (X P))^{-1} (X P)^T y$\n",
    " \n",
    "Воспользуемся свойством обратной матрицы $(A B)^{-1} = B^{-1} A^{-1}$\n",
    " \n",
    "$a' = X P ((X P)^T (X P))^{-1} (X P)^T y = X P (X P)^{-1} ((X P)^T)^{-1} (X P)^T y = X P P^{-1} X^{-1} ((X P)^T)^{-1} (X P)^T y$\n",
    " \n",
    "Воспользуемся свойством транспонированной матрицы $(A B)^T = B^T A^T$\n",
    " \n",
    "$a' = X E X^{-1} ((X P)^T)^{-1} (X P)^T y = X X^{-1} (P^T X^T)^{-1} P^T X^T y = X X^{-1} (X^T)^{-1} (P^T)^{-1} P^T X^T y = X X^{-1} (X^T)^{-1} E X^T y = X (X^T X)^{-1} X^T y$\n",
    " \n",
    "Из этого следует вывод, что значение предсказания `a` не меняется."
   ]
  },
  {
   "cell_type": "markdown",
   "metadata": {},
   "source": [
    "\n",
    "-------------------------------------------------------------------------\n",
    "$$\n",
    "(AB)^{-1} = B^{-1} A^{-1}\n",
    "$$\n",
    " \n",
    "только когда у нас A и B квадратные, Может когда то в линейную алгебру введут \"мнимые матрицы\", по подобию \"мнимых чисел\" )) Но пока не ввели, поэтому перепрыгивать через этот момент не можем, это как на ноль делить\n",
    " \n",
    "И маленькая подсказка, найди тут:\n",
    " \n",
    "$$\n",
    "((XP)^T XP)^{-1}\n",
    "$$\n",
    " \n",
    "три квадратные матрицы. Зачем, спросишь ты, нам 3 матрицы под знаком обратной матрицы (-1), а ты найди под -1 три квадратные матрицы, чтобы можно будет раскрыть скобку, по правилу:  \n",
    " \n",
    "$$\n",
    "(ABС)^{-1} = ((AB)С)^{-1} = ((AB)С)^{-1} = С^{-1}(AB)^{-1} = С^{-1}B^{-1}A^{-1}\n",
    "$$"
   ]
  },
  {
   "cell_type": "markdown",
   "metadata": {},
   "source": [
    "## Алгоритм преобразования"
   ]
  },
  {
   "cell_type": "markdown",
   "metadata": {},
   "source": [
    "**Алгоритм преобразования и проверки качества**\n",
    " - маштабирование признаков методом `StandardScaler` \n",
    " - в качестве метрики оценки качества возьмем коэффициент детерминации `R2`\n",
    " - обучение моделей на исходных данных\n",
    " - получение метрик качества модели линейной регрессии на исходных данных\n",
    " - создание матрицы со случайными величинами - $P$\n",
    " - проверка ее на обратимость путем возможности инвертировать ее через функцию `np.linalg.inv`\n",
    " - преобразование текущих признаков путем умножения их на случайную матрицу $X * P$\n",
    " - обучение моделей на преобразованных данных\n",
    " - получение метрик качества модели линейной регрессии на преобразованных данных\n",
    " - сравнения полученных метрик и при их равенстве завершаем алгоритм\n",
    " \n",
    "Создадим класс, которые будет преобразовывать данные с помощью кодирования и раскодирования, используя вышеупомятого взаимосвязи параметров и способности весов, меньяться под новые значения. В целях возможности раскодирования данных, при кодировании будет возвращаться матрица-ключ, при момощи которого мы сможем получить обратные данные по формуле:\n",
    "\n",
    "$$\n",
    "X = Xencode * P^{-1}\n",
    "$$"
   ]
  },
  {
   "cell_type": "code",
   "execution_count": 19,
   "metadata": {},
   "outputs": [],
   "source": [
    "class transform_matrix:\n",
    "    \n",
    "    def encode(self, X):\n",
    "        P = np.random.normal(0, 1, (X.shape[1], X.shape[1]))\n",
    "        try:\n",
    "            P_inv = np.linalg.inv(P)\n",
    "            X_encode = X.dot(P)\n",
    "            return X_encode, P\n",
    "                   \n",
    "        except np.linalg.LinAlgError as err_linalg:\n",
    "            print('Ошбика инверсии матрицы:', err_linalg)\n",
    "            return None, None\n",
    "            \n",
    "            \n",
    "    def decode(self, X_encode, matrix):\n",
    "        X = X_encode.dot(np.linalg.inv(matrix))\n",
    "        df = pd.DataFrame(np.around(X))\n",
    "        df.columns = ['gender', 'age', 'salary', 'family']\n",
    "        return df"
   ]
  },
  {
   "cell_type": "markdown",
   "metadata": {},
   "source": [
    "Выше обосновывая взаимосвязь параметров линейной регресии мы обосновали то, что качество линейной регресии не поменяется, и производили сравнение оценки исходной выборки и преобразованной выборки, где получили одинаковые оценки. Ниже сравним основные признаки из `X_train` и обратно преобразованные из `X_encode` в датафрейм."
   ]
  },
  {
   "cell_type": "code",
   "execution_count": 20,
   "metadata": {},
   "outputs": [
    {
     "data": {
      "text/html": [
       "<div>\n",
       "<style scoped>\n",
       "    .dataframe tbody tr th:only-of-type {\n",
       "        vertical-align: middle;\n",
       "    }\n",
       "\n",
       "    .dataframe tbody tr th {\n",
       "        vertical-align: top;\n",
       "    }\n",
       "\n",
       "    .dataframe thead th {\n",
       "        text-align: right;\n",
       "    }\n",
       "</style>\n",
       "<table border=\"1\" class=\"dataframe\">\n",
       "  <thead>\n",
       "    <tr style=\"text-align: right;\">\n",
       "      <th></th>\n",
       "      <th>gender</th>\n",
       "      <th>age</th>\n",
       "      <th>salary</th>\n",
       "      <th>family</th>\n",
       "    </tr>\n",
       "  </thead>\n",
       "  <tbody>\n",
       "    <tr>\n",
       "      <th>0</th>\n",
       "      <td>1.0</td>\n",
       "      <td>41.0</td>\n",
       "      <td>49600.0</td>\n",
       "      <td>1.0</td>\n",
       "    </tr>\n",
       "    <tr>\n",
       "      <th>1</th>\n",
       "      <td>0.0</td>\n",
       "      <td>46.0</td>\n",
       "      <td>38000.0</td>\n",
       "      <td>1.0</td>\n",
       "    </tr>\n",
       "    <tr>\n",
       "      <th>2</th>\n",
       "      <td>0.0</td>\n",
       "      <td>29.0</td>\n",
       "      <td>21000.0</td>\n",
       "      <td>0.0</td>\n",
       "    </tr>\n",
       "    <tr>\n",
       "      <th>3</th>\n",
       "      <td>0.0</td>\n",
       "      <td>21.0</td>\n",
       "      <td>41700.0</td>\n",
       "      <td>2.0</td>\n",
       "    </tr>\n",
       "    <tr>\n",
       "      <th>4</th>\n",
       "      <td>1.0</td>\n",
       "      <td>28.0</td>\n",
       "      <td>26100.0</td>\n",
       "      <td>0.0</td>\n",
       "    </tr>\n",
       "  </tbody>\n",
       "</table>\n",
       "</div>"
      ],
      "text/plain": [
       "   gender   age   salary  family\n",
       "0     1.0  41.0  49600.0     1.0\n",
       "1     0.0  46.0  38000.0     1.0\n",
       "2     0.0  29.0  21000.0     0.0\n",
       "3     0.0  21.0  41700.0     2.0\n",
       "4     1.0  28.0  26100.0     0.0"
      ]
     },
     "metadata": {},
     "output_type": "display_data"
    }
   ],
   "source": [
    "#для сравния посмотрим на признаки\n",
    "df_feature = pd.DataFrame(np.around(features))\n",
    "df_feature.columns = ['gender', 'age', 'salary', 'family']\n",
    "display(df_feature.head())"
   ]
  },
  {
   "cell_type": "code",
   "execution_count": 21,
   "metadata": {
    "scrolled": false
   },
   "outputs": [],
   "source": [
    "#закодируем и получим матрицы\n",
    "trans_matrix = transform_matrix()\n",
    "X_encode, P = trans_matrix.encode(features)"
   ]
  },
  {
   "cell_type": "code",
   "execution_count": 22,
   "metadata": {},
   "outputs": [
    {
     "data": {
      "text/html": [
       "<div>\n",
       "<style scoped>\n",
       "    .dataframe tbody tr th:only-of-type {\n",
       "        vertical-align: middle;\n",
       "    }\n",
       "\n",
       "    .dataframe tbody tr th {\n",
       "        vertical-align: top;\n",
       "    }\n",
       "\n",
       "    .dataframe thead th {\n",
       "        text-align: right;\n",
       "    }\n",
       "</style>\n",
       "<table border=\"1\" class=\"dataframe\">\n",
       "  <thead>\n",
       "    <tr style=\"text-align: right;\">\n",
       "      <th></th>\n",
       "      <th>gender</th>\n",
       "      <th>age</th>\n",
       "      <th>salary</th>\n",
       "      <th>family</th>\n",
       "    </tr>\n",
       "  </thead>\n",
       "  <tbody>\n",
       "    <tr>\n",
       "      <th>0</th>\n",
       "      <td>1.0</td>\n",
       "      <td>41.0</td>\n",
       "      <td>49600.0</td>\n",
       "      <td>1.0</td>\n",
       "    </tr>\n",
       "    <tr>\n",
       "      <th>1</th>\n",
       "      <td>-0.0</td>\n",
       "      <td>46.0</td>\n",
       "      <td>38000.0</td>\n",
       "      <td>1.0</td>\n",
       "    </tr>\n",
       "    <tr>\n",
       "      <th>2</th>\n",
       "      <td>-0.0</td>\n",
       "      <td>29.0</td>\n",
       "      <td>21000.0</td>\n",
       "      <td>-0.0</td>\n",
       "    </tr>\n",
       "    <tr>\n",
       "      <th>3</th>\n",
       "      <td>-0.0</td>\n",
       "      <td>21.0</td>\n",
       "      <td>41700.0</td>\n",
       "      <td>2.0</td>\n",
       "    </tr>\n",
       "    <tr>\n",
       "      <th>4</th>\n",
       "      <td>1.0</td>\n",
       "      <td>28.0</td>\n",
       "      <td>26100.0</td>\n",
       "      <td>-0.0</td>\n",
       "    </tr>\n",
       "  </tbody>\n",
       "</table>\n",
       "</div>"
      ],
      "text/plain": [
       "   gender   age   salary  family\n",
       "0     1.0  41.0  49600.0     1.0\n",
       "1    -0.0  46.0  38000.0     1.0\n",
       "2    -0.0  29.0  21000.0    -0.0\n",
       "3    -0.0  21.0  41700.0     2.0\n",
       "4     1.0  28.0  26100.0    -0.0"
      ]
     },
     "metadata": {},
     "output_type": "display_data"
    }
   ],
   "source": [
    "df_decode = trans_matrix.decode(X_encode, P)\n",
    "display(df_decode.head())"
   ]
  },
  {
   "cell_type": "code",
   "execution_count": 23,
   "metadata": {
    "scrolled": false
   },
   "outputs": [
    {
     "name": "stdout",
     "output_type": "stream",
     "text": [
      "Датафремйы равны - True\n"
     ]
    }
   ],
   "source": [
    "print('Датафремйы равны -', df_feature.equals(df_decode))"
   ]
  },
  {
   "cell_type": "markdown",
   "metadata": {},
   "source": [
    "**Обоснование:**\n",
    "\n",
    "В вышеприведенный пример преобразования данных и обратного преобразования с использованием матрицы-ключа (инверсии случайной матрицы `P`), явно показывает, что предсказания для матрицы признаков, умноженных на обратимую матрицу `P` равны предсказаниям преобразованной матрицы, следовательно качество линейной регрессии при подобном преобразовании не изменится. "
   ]
  },
  {
   "cell_type": "markdown",
   "metadata": {},
   "source": [
    "## Проверка алгоритма"
   ]
  },
  {
   "cell_type": "markdown",
   "metadata": {},
   "source": [
    "Проведем маштабирование столбцов `age`,`salary`, `family`."
   ]
  },
  {
   "cell_type": "code",
   "execution_count": 24,
   "metadata": {
    "scrolled": false
   },
   "outputs": [
    {
     "name": "stdout",
     "output_type": "stream",
     "text": [
      "[[ 1.          1.19043179  0.97823503 -0.17795659]\n",
      " [ 0.          1.78285146 -0.19358944 -0.17795659]\n",
      " [ 0.         -0.23137543 -1.91091841 -1.09431388]\n",
      " [ 0.         -1.1792469   0.18018215  0.7384007 ]\n",
      " [ 1.         -0.34985936 -1.39571972 -1.09431388]]\n"
     ]
    }
   ],
   "source": [
    "scaler = StandardScaler()\n",
    "features[:, 1:] = scaler.fit_transform(features[:, 1:])\n",
    "print(features[:5])"
   ]
  },
  {
   "cell_type": "markdown",
   "metadata": {},
   "source": [
    "Обучим модель линеной регрессии, на исходных маштабированных данных, и оценим спомощью `R2`. "
   ]
  },
  {
   "cell_type": "code",
   "execution_count": 25,
   "metadata": {
    "scrolled": true
   },
   "outputs": [
    {
     "data": {
      "text/plain": [
       "'Оценка R2- 0.4249'"
      ]
     },
     "metadata": {},
     "output_type": "display_data"
    }
   ],
   "source": [
    "r2_norm = fit_pred_score(LinearRegression, features, target)"
   ]
  },
  {
   "cell_type": "markdown",
   "metadata": {},
   "source": [
    "Создадим матрицу со случайными величинами `P`, проверим ее на обратимость путем возможности инвертировать ее через функцию `np.linalg.inv`, преобразeем текущие признаки путем умножения их на случайную матрицу $X ∗ P$"
   ]
  },
  {
   "cell_type": "code",
   "execution_count": 26,
   "metadata": {},
   "outputs": [],
   "source": [
    "X_encode, P = trans_matrix.encode(features)"
   ]
  },
  {
   "cell_type": "markdown",
   "metadata": {},
   "source": [
    "Обучим модель линеной регрессии, на преобразованных и маштабированных данных, и оценим спомощью `R2`. "
   ]
  },
  {
   "cell_type": "code",
   "execution_count": 27,
   "metadata": {},
   "outputs": [
    {
     "data": {
      "text/plain": [
       "'Оценка R2- 0.4249'"
      ]
     },
     "metadata": {},
     "output_type": "display_data"
    }
   ],
   "source": [
    "r2_encode = fit_pred_score(LinearRegression, X_encode, target)"
   ]
  },
  {
   "cell_type": "code",
   "execution_count": 28,
   "metadata": {
    "scrolled": true
   },
   "outputs": [
    {
     "name": "stdout",
     "output_type": "stream",
     "text": [
      "Равенство значений исходных и преобразованных данных - True\n"
     ]
    }
   ],
   "source": [
    "print('Равенство значений исходных и преобразованных данных -', r2_norm == r2_encode)"
   ]
  },
  {
   "cell_type": "markdown",
   "metadata": {},
   "source": [
    "Оценки `R2` по исходным и преобразованным данным равны."
   ]
  },
  {
   "cell_type": "markdown",
   "metadata": {},
   "source": [
    "## Вывод"
   ]
  },
  {
   "cell_type": "markdown",
   "metadata": {},
   "source": [
    "Данное исследование было реализовано, с целью разработки и тестирования метода защиты данных о клиентах, путем преобразования данных таким образом, чтоб это не влияло на качество работы модели. \n",
    "\n",
    "Входные данные - обработанные данные, которые содержат в себе `5000` объектов, содержащие в себе данные о клиентах.\n",
    "\n",
    "**Цель проекта**\n",
    "- Проверить качество данных\n",
    "- Проверить влияние на качество использования способа преобразования путем умножения на обратимую матрицу\n",
    "- Предложить и построить алгоритм с помощью которого будет производиться преобразования объектов и проверка качества работы модели на исходных и преобразованных данных.\n",
    "\n",
    "\n",
    "**В ходе исследования:**\n",
    "- Было проверенны данные, которые в целом были нормально предобработаны, за исключением наличия дубликатов, по которым не было возможности уточнить дополнительную информацию.\n",
    "- Было проверенно и обосновано то, что при умножении признаковна обратимую матрицу, качество линейной регресии не меняется, за счет свойств обратимых матриц, которые при умножении на саму себя преобразовывается в еденичную матрицу. \n",
    "- Написали новые методы и классы с помощью которых смогли предсказывать, оценивать, преобразовывать с помощью кодирования и раскодирования данных\n",
    "- С помощью вышеописанных методов и классов смогли закодировать данные из датафрема и раскодировать обратно в датафрейм с аналогичными данными.\n",
    "- Был разработан алгоритм преобразования и проверки качества модели линейной регрессии.\n",
    "- При проверке, мы в очередной раз убедились, что модель линейной регрессии может предсказывать на преобразованных данных точно так же как и на исходных данных.\n",
    "\n",
    "**В итоге:**   \n",
    "Мы определили, что при использовании модели линейной регрессии , в том числе из стандартной библиотеки `sklearn`, мы можем использовать возможности кодирования данных клиентов, без рисков снижения качества модели, а так же возможность получения исходных данных из закодированных при необходимости. "
   ]
  }
 ],
 "metadata": {
  "ExecuteTimeLog": [
   {
    "duration": 53,
    "start_time": "2022-11-01T11:36:12.490Z"
   },
   {
    "duration": 1345,
    "start_time": "2022-11-01T11:36:15.967Z"
   },
   {
    "duration": 130,
    "start_time": "2022-11-01T11:36:17.315Z"
   },
   {
    "duration": 32,
    "start_time": "2022-11-01T11:37:28.544Z"
   },
   {
    "duration": 11,
    "start_time": "2022-11-01T11:38:49.599Z"
   },
   {
    "duration": 63,
    "start_time": "2022-11-01T11:39:01.733Z"
   },
   {
    "duration": 5,
    "start_time": "2022-11-01T11:39:04.972Z"
   },
   {
    "duration": 22,
    "start_time": "2022-11-01T11:41:35.900Z"
   },
   {
    "duration": 4,
    "start_time": "2022-11-01T11:42:10.798Z"
   },
   {
    "duration": 12,
    "start_time": "2022-11-01T11:42:42.793Z"
   },
   {
    "duration": 10,
    "start_time": "2022-11-01T11:42:50.368Z"
   },
   {
    "duration": 9,
    "start_time": "2022-11-01T11:43:10.943Z"
   },
   {
    "duration": 6,
    "start_time": "2022-11-01T11:43:27.470Z"
   },
   {
    "duration": 10,
    "start_time": "2022-11-01T11:44:11.131Z"
   },
   {
    "duration": 5,
    "start_time": "2022-11-01T11:44:17.262Z"
   },
   {
    "duration": 438,
    "start_time": "2022-11-01T11:44:35.141Z"
   },
   {
    "duration": 6,
    "start_time": "2022-11-01T11:45:09.562Z"
   },
   {
    "duration": 5,
    "start_time": "2022-11-01T11:45:17.613Z"
   },
   {
    "duration": 6,
    "start_time": "2022-11-01T11:45:31.611Z"
   },
   {
    "duration": 8,
    "start_time": "2022-11-01T11:45:34.959Z"
   },
   {
    "duration": 23,
    "start_time": "2022-11-01T11:46:01.408Z"
   },
   {
    "duration": 8,
    "start_time": "2022-11-01T11:47:06.341Z"
   },
   {
    "duration": 6437,
    "start_time": "2022-11-01T11:52:46.315Z"
   },
   {
    "duration": 7,
    "start_time": "2022-11-01T11:53:34.956Z"
   },
   {
    "duration": 10,
    "start_time": "2022-11-01T11:53:40.704Z"
   },
   {
    "duration": 4,
    "start_time": "2022-11-01T13:17:33.792Z"
   },
   {
    "duration": 10,
    "start_time": "2022-11-01T13:21:00.361Z"
   },
   {
    "duration": 9,
    "start_time": "2022-11-01T13:24:20.256Z"
   },
   {
    "duration": 8,
    "start_time": "2022-11-01T13:25:01.783Z"
   },
   {
    "duration": 238,
    "start_time": "2022-11-01T13:35:04.136Z"
   },
   {
    "duration": 305,
    "start_time": "2022-11-01T13:35:34.321Z"
   },
   {
    "duration": 339,
    "start_time": "2022-11-01T13:35:52.516Z"
   },
   {
    "duration": 458,
    "start_time": "2022-11-01T13:36:22.407Z"
   },
   {
    "duration": 362,
    "start_time": "2022-11-01T13:36:29.288Z"
   },
   {
    "duration": 361,
    "start_time": "2022-11-01T13:36:35.915Z"
   },
   {
    "duration": 351,
    "start_time": "2022-11-01T13:36:41.111Z"
   },
   {
    "duration": 378,
    "start_time": "2022-11-01T13:37:19.084Z"
   },
   {
    "duration": 367,
    "start_time": "2022-11-01T13:37:30.785Z"
   },
   {
    "duration": 1372,
    "start_time": "2022-11-01T13:43:02.746Z"
   },
   {
    "duration": 11,
    "start_time": "2022-11-01T13:43:22.064Z"
   },
   {
    "duration": 223,
    "start_time": "2022-11-01T13:43:36.897Z"
   },
   {
    "duration": 114,
    "start_time": "2022-11-01T13:46:06.396Z"
   },
   {
    "duration": 109,
    "start_time": "2022-11-01T13:46:45.288Z"
   },
   {
    "duration": 111,
    "start_time": "2022-11-01T13:46:50.984Z"
   },
   {
    "duration": 285,
    "start_time": "2022-11-01T13:48:02.356Z"
   },
   {
    "duration": 12,
    "start_time": "2022-11-01T13:50:48.889Z"
   },
   {
    "duration": 14,
    "start_time": "2022-11-01T13:52:02.016Z"
   },
   {
    "duration": 17,
    "start_time": "2022-11-01T13:53:14.840Z"
   },
   {
    "duration": 15,
    "start_time": "2022-11-01T13:53:26.646Z"
   },
   {
    "duration": 4,
    "start_time": "2022-11-01T13:57:48.886Z"
   },
   {
    "duration": 3,
    "start_time": "2022-11-01T13:57:52.564Z"
   },
   {
    "duration": 9,
    "start_time": "2022-11-01T13:58:23.476Z"
   },
   {
    "duration": 10,
    "start_time": "2022-11-01T13:58:45.018Z"
   },
   {
    "duration": 13,
    "start_time": "2022-11-01T13:58:52.181Z"
   },
   {
    "duration": 8,
    "start_time": "2022-11-01T13:59:09.932Z"
   },
   {
    "duration": 9,
    "start_time": "2022-11-01T13:59:20.436Z"
   },
   {
    "duration": 11,
    "start_time": "2022-11-01T13:59:29.109Z"
   },
   {
    "duration": 11,
    "start_time": "2022-11-01T13:59:39.264Z"
   },
   {
    "duration": 10,
    "start_time": "2022-11-01T14:00:00.504Z"
   },
   {
    "duration": 390,
    "start_time": "2022-11-01T14:02:15.906Z"
   },
   {
    "duration": 516,
    "start_time": "2022-11-01T14:02:50.248Z"
   },
   {
    "duration": 6,
    "start_time": "2022-11-01T14:05:24.790Z"
   },
   {
    "duration": 7,
    "start_time": "2022-11-01T14:05:33.539Z"
   },
   {
    "duration": 13,
    "start_time": "2022-11-01T14:05:46.391Z"
   },
   {
    "duration": 6,
    "start_time": "2022-11-01T14:07:02.580Z"
   },
   {
    "duration": 6,
    "start_time": "2022-11-01T14:07:21.871Z"
   },
   {
    "duration": 5,
    "start_time": "2022-11-01T14:07:44.327Z"
   },
   {
    "duration": 12,
    "start_time": "2022-11-01T14:08:10.072Z"
   },
   {
    "duration": 12,
    "start_time": "2022-11-01T14:08:57.739Z"
   },
   {
    "duration": 5,
    "start_time": "2022-11-01T14:09:23.826Z"
   },
   {
    "duration": 11,
    "start_time": "2022-11-01T14:09:39.984Z"
   },
   {
    "duration": 12,
    "start_time": "2022-11-01T14:09:50.630Z"
   },
   {
    "duration": 12,
    "start_time": "2022-11-01T14:10:09.294Z"
   },
   {
    "duration": 5,
    "start_time": "2022-11-01T14:10:54.179Z"
   },
   {
    "duration": 7,
    "start_time": "2022-11-01T14:11:26.920Z"
   },
   {
    "duration": 7,
    "start_time": "2022-11-01T14:11:38.264Z"
   },
   {
    "duration": 18,
    "start_time": "2022-11-01T14:13:05.014Z"
   },
   {
    "duration": 9,
    "start_time": "2022-11-01T14:14:48.029Z"
   },
   {
    "duration": 12,
    "start_time": "2022-11-01T14:15:13.205Z"
   },
   {
    "duration": 12,
    "start_time": "2022-11-01T14:15:18.049Z"
   },
   {
    "duration": 28029,
    "start_time": "2022-11-01T14:22:50.818Z"
   },
   {
    "duration": 395,
    "start_time": "2022-11-01T14:25:48.983Z"
   },
   {
    "duration": 329,
    "start_time": "2022-11-01T14:26:57.205Z"
   },
   {
    "duration": 259,
    "start_time": "2022-11-01T14:27:14.067Z"
   },
   {
    "duration": 9,
    "start_time": "2022-11-01T14:27:41.514Z"
   },
   {
    "duration": 310,
    "start_time": "2022-11-01T14:28:12.066Z"
   },
   {
    "duration": 267,
    "start_time": "2022-11-01T14:28:54.335Z"
   },
   {
    "duration": 279,
    "start_time": "2022-11-01T14:29:02.115Z"
   },
   {
    "duration": 1215,
    "start_time": "2022-11-01T14:30:10.338Z"
   },
   {
    "duration": 1224,
    "start_time": "2022-11-01T14:30:20.715Z"
   },
   {
    "duration": 1561,
    "start_time": "2022-11-01T14:31:41.015Z"
   },
   {
    "duration": 297,
    "start_time": "2022-11-01T14:32:26.343Z"
   },
   {
    "duration": 214,
    "start_time": "2022-11-01T14:32:36.355Z"
   },
   {
    "duration": 372,
    "start_time": "2022-11-01T14:32:53.435Z"
   },
   {
    "duration": 563,
    "start_time": "2022-11-01T14:33:03.692Z"
   },
   {
    "duration": 575,
    "start_time": "2022-11-01T14:33:07.310Z"
   },
   {
    "duration": 577,
    "start_time": "2022-11-01T14:33:31.735Z"
   },
   {
    "duration": 355,
    "start_time": "2022-11-01T14:34:10.017Z"
   },
   {
    "duration": 334,
    "start_time": "2022-11-01T14:35:58.698Z"
   },
   {
    "duration": 216,
    "start_time": "2022-11-01T14:39:33.922Z"
   },
   {
    "duration": 241,
    "start_time": "2022-11-01T14:39:57.533Z"
   },
   {
    "duration": 213,
    "start_time": "2022-11-01T14:40:19.618Z"
   },
   {
    "duration": 633,
    "start_time": "2022-11-01T14:43:11.114Z"
   },
   {
    "duration": 798,
    "start_time": "2022-11-01T14:43:20.950Z"
   },
   {
    "duration": 545,
    "start_time": "2022-11-01T14:43:25.656Z"
   },
   {
    "duration": 534,
    "start_time": "2022-11-01T14:43:29.183Z"
   },
   {
    "duration": 641,
    "start_time": "2022-11-01T14:43:35.149Z"
   },
   {
    "duration": 610,
    "start_time": "2022-11-01T14:43:40.085Z"
   },
   {
    "duration": 560,
    "start_time": "2022-11-01T14:43:42.998Z"
   },
   {
    "duration": 822,
    "start_time": "2022-11-01T14:43:47.895Z"
   },
   {
    "duration": 539,
    "start_time": "2022-11-01T14:43:53.027Z"
   },
   {
    "duration": 546,
    "start_time": "2022-11-01T14:43:57.597Z"
   },
   {
    "duration": 548,
    "start_time": "2022-11-01T14:44:03.525Z"
   },
   {
    "duration": 548,
    "start_time": "2022-11-01T14:44:06.720Z"
   },
   {
    "duration": 577,
    "start_time": "2022-11-01T14:44:19.386Z"
   },
   {
    "duration": 1514,
    "start_time": "2022-11-01T17:12:17.135Z"
   },
   {
    "duration": 101,
    "start_time": "2022-11-01T17:12:18.651Z"
   },
   {
    "duration": 11,
    "start_time": "2022-11-01T17:12:18.754Z"
   },
   {
    "duration": 11,
    "start_time": "2022-11-01T17:12:18.766Z"
   },
   {
    "duration": 23,
    "start_time": "2022-11-01T17:12:18.779Z"
   },
   {
    "duration": 17,
    "start_time": "2022-11-01T17:12:18.803Z"
   },
   {
    "duration": 410,
    "start_time": "2022-11-01T17:12:18.821Z"
   },
   {
    "duration": 5,
    "start_time": "2022-11-01T17:12:19.232Z"
   },
   {
    "duration": 341,
    "start_time": "2022-11-01T18:02:08.145Z"
   },
   {
    "duration": 381,
    "start_time": "2022-11-01T18:02:16.878Z"
   },
   {
    "duration": 383,
    "start_time": "2022-11-01T18:02:58.775Z"
   },
   {
    "duration": 470,
    "start_time": "2022-11-01T18:03:12.342Z"
   },
   {
    "duration": 6,
    "start_time": "2022-11-01T18:14:35.111Z"
   },
   {
    "duration": 7,
    "start_time": "2022-11-01T18:15:01.040Z"
   },
   {
    "duration": 7,
    "start_time": "2022-11-01T18:15:08.024Z"
   },
   {
    "duration": 122,
    "start_time": "2022-11-01T18:15:22.118Z"
   },
   {
    "duration": 3,
    "start_time": "2022-11-01T18:15:47.160Z"
   },
   {
    "duration": 11,
    "start_time": "2022-11-01T18:15:50.176Z"
   },
   {
    "duration": 9,
    "start_time": "2022-11-01T18:15:58.040Z"
   },
   {
    "duration": 9,
    "start_time": "2022-11-01T18:16:15.267Z"
   },
   {
    "duration": 8,
    "start_time": "2022-11-01T18:16:42.321Z"
   },
   {
    "duration": 7,
    "start_time": "2022-11-01T18:16:59.097Z"
   },
   {
    "duration": 7,
    "start_time": "2022-11-01T18:18:44.642Z"
   },
   {
    "duration": 8,
    "start_time": "2022-11-01T18:18:48.889Z"
   },
   {
    "duration": 9,
    "start_time": "2022-11-01T19:13:32.697Z"
   },
   {
    "duration": 5,
    "start_time": "2022-11-01T19:13:35.400Z"
   },
   {
    "duration": 14,
    "start_time": "2022-11-01T19:13:35.752Z"
   },
   {
    "duration": 5,
    "start_time": "2022-11-01T19:13:41.874Z"
   },
   {
    "duration": 7,
    "start_time": "2022-11-01T19:13:52.088Z"
   },
   {
    "duration": 6,
    "start_time": "2022-11-01T19:15:49.254Z"
   },
   {
    "duration": 11,
    "start_time": "2022-11-01T19:16:25.610Z"
   },
   {
    "duration": 4,
    "start_time": "2022-11-01T19:16:34.476Z"
   },
   {
    "duration": 11,
    "start_time": "2022-11-01T19:16:55.027Z"
   },
   {
    "duration": 5,
    "start_time": "2022-11-01T19:17:00.235Z"
   },
   {
    "duration": 4,
    "start_time": "2022-11-01T19:17:34.292Z"
   },
   {
    "duration": 11,
    "start_time": "2022-11-01T19:18:23.988Z"
   },
   {
    "duration": 6,
    "start_time": "2022-11-01T19:18:36.972Z"
   },
   {
    "duration": 12,
    "start_time": "2022-11-01T19:18:53.404Z"
   },
   {
    "duration": 11,
    "start_time": "2022-11-01T19:19:11.453Z"
   },
   {
    "duration": 6,
    "start_time": "2022-11-01T19:19:33.101Z"
   },
   {
    "duration": 7,
    "start_time": "2022-11-01T19:21:34.830Z"
   },
   {
    "duration": 45,
    "start_time": "2022-11-01T19:26:27.851Z"
   },
   {
    "duration": 12,
    "start_time": "2022-11-01T19:26:59.289Z"
   },
   {
    "duration": 7,
    "start_time": "2022-11-01T19:27:10.882Z"
   },
   {
    "duration": 12,
    "start_time": "2022-11-01T19:27:28.210Z"
   },
   {
    "duration": 8,
    "start_time": "2022-11-01T19:27:35.362Z"
   },
   {
    "duration": 4,
    "start_time": "2022-11-01T19:27:56.683Z"
   },
   {
    "duration": 8,
    "start_time": "2022-11-01T19:28:03.642Z"
   },
   {
    "duration": 9,
    "start_time": "2022-11-01T19:34:13.607Z"
   },
   {
    "duration": 39,
    "start_time": "2022-11-01T19:34:16.254Z"
   },
   {
    "duration": 5,
    "start_time": "2022-11-01T19:34:31.120Z"
   },
   {
    "duration": 12,
    "start_time": "2022-11-01T19:34:31.834Z"
   },
   {
    "duration": 9,
    "start_time": "2022-11-01T19:34:59.911Z"
   },
   {
    "duration": 54,
    "start_time": "2022-11-01T19:35:05.159Z"
   },
   {
    "duration": 4,
    "start_time": "2022-11-01T19:35:43.072Z"
   },
   {
    "duration": 61,
    "start_time": "2022-11-01T19:35:43.847Z"
   },
   {
    "duration": 3,
    "start_time": "2022-11-01T19:35:51.784Z"
   },
   {
    "duration": 89,
    "start_time": "2022-11-01T19:36:02.320Z"
   },
   {
    "duration": 19,
    "start_time": "2022-11-01T19:36:43.881Z"
   },
   {
    "duration": 8,
    "start_time": "2022-11-01T19:37:06.392Z"
   },
   {
    "duration": 6,
    "start_time": "2022-11-01T19:46:51.190Z"
   },
   {
    "duration": 5,
    "start_time": "2022-11-01T19:46:56.136Z"
   },
   {
    "duration": 6,
    "start_time": "2022-11-01T19:46:59.778Z"
   },
   {
    "duration": 5,
    "start_time": "2022-11-01T19:47:06.608Z"
   },
   {
    "duration": 5,
    "start_time": "2022-11-01T19:51:42.715Z"
   },
   {
    "duration": 5,
    "start_time": "2022-11-01T19:51:58.578Z"
   },
   {
    "duration": 5,
    "start_time": "2022-11-01T19:52:01.626Z"
   },
   {
    "duration": 5,
    "start_time": "2022-11-01T19:52:04.314Z"
   },
   {
    "duration": 4,
    "start_time": "2022-11-01T19:52:07.051Z"
   },
   {
    "duration": 5,
    "start_time": "2022-11-01T19:53:17.340Z"
   },
   {
    "duration": 10,
    "start_time": "2022-11-01T19:53:40.220Z"
   },
   {
    "duration": 10,
    "start_time": "2022-11-01T19:53:47.725Z"
   },
   {
    "duration": 5,
    "start_time": "2022-11-01T19:54:08.460Z"
   },
   {
    "duration": 6,
    "start_time": "2022-11-01T19:54:28.550Z"
   },
   {
    "duration": 4,
    "start_time": "2022-11-01T19:54:34.292Z"
   },
   {
    "duration": 4,
    "start_time": "2022-11-01T19:55:56.798Z"
   },
   {
    "duration": 5,
    "start_time": "2022-11-01T19:56:25.661Z"
   },
   {
    "duration": 9,
    "start_time": "2022-11-01T19:57:44.160Z"
   },
   {
    "duration": 5,
    "start_time": "2022-11-01T19:57:48.167Z"
   },
   {
    "duration": 4,
    "start_time": "2022-11-01T19:57:48.623Z"
   },
   {
    "duration": 327,
    "start_time": "2022-11-01T20:23:07.143Z"
   },
   {
    "duration": 326,
    "start_time": "2022-11-01T20:23:15.543Z"
   },
   {
    "duration": 379,
    "start_time": "2022-11-01T20:23:22.697Z"
   },
   {
    "duration": 377,
    "start_time": "2022-11-01T20:23:29.177Z"
   },
   {
    "duration": 366,
    "start_time": "2022-11-01T20:23:45.785Z"
   },
   {
    "duration": 365,
    "start_time": "2022-11-01T20:29:16.102Z"
   },
   {
    "duration": 305,
    "start_time": "2022-11-01T20:29:42.142Z"
   },
   {
    "duration": 356,
    "start_time": "2022-11-01T20:30:29.671Z"
   },
   {
    "duration": 347,
    "start_time": "2022-11-01T20:30:35.007Z"
   },
   {
    "duration": 318,
    "start_time": "2022-11-01T20:30:47.729Z"
   },
   {
    "duration": 464,
    "start_time": "2022-11-01T20:30:57.503Z"
   },
   {
    "duration": 388,
    "start_time": "2022-11-01T20:31:12.975Z"
   },
   {
    "duration": 374,
    "start_time": "2022-11-01T20:31:38.891Z"
   },
   {
    "duration": 347,
    "start_time": "2022-11-01T20:32:30.232Z"
   },
   {
    "duration": 406,
    "start_time": "2022-11-01T20:32:44.489Z"
   },
   {
    "duration": 372,
    "start_time": "2022-11-01T20:32:53.512Z"
   },
   {
    "duration": 347,
    "start_time": "2022-11-01T20:32:57.536Z"
   },
   {
    "duration": 340,
    "start_time": "2022-11-01T20:33:01.544Z"
   },
   {
    "duration": 408,
    "start_time": "2022-11-01T20:33:14.425Z"
   },
   {
    "duration": 384,
    "start_time": "2022-11-01T20:33:21.472Z"
   },
   {
    "duration": 63,
    "start_time": "2022-11-01T20:33:56.241Z"
   },
   {
    "duration": 357,
    "start_time": "2022-11-01T20:34:00.544Z"
   },
   {
    "duration": 8,
    "start_time": "2022-11-01T20:35:45.186Z"
   },
   {
    "duration": 12,
    "start_time": "2022-11-01T20:35:49.069Z"
   },
   {
    "duration": 20,
    "start_time": "2022-11-01T20:35:50.322Z"
   },
   {
    "duration": 4,
    "start_time": "2022-11-01T20:36:01.530Z"
   },
   {
    "duration": 10,
    "start_time": "2022-11-01T20:36:02.138Z"
   },
   {
    "duration": 6,
    "start_time": "2022-11-01T20:36:03.257Z"
   },
   {
    "duration": 4,
    "start_time": "2022-11-01T20:36:04.570Z"
   },
   {
    "duration": 10,
    "start_time": "2022-11-01T20:36:05.442Z"
   },
   {
    "duration": 10,
    "start_time": "2022-11-01T20:36:06.914Z"
   },
   {
    "duration": 7,
    "start_time": "2022-11-01T20:39:36.620Z"
   },
   {
    "duration": 14,
    "start_time": "2022-11-01T20:42:23.832Z"
   },
   {
    "duration": 7,
    "start_time": "2022-11-01T20:42:28.791Z"
   },
   {
    "duration": 12,
    "start_time": "2022-11-01T20:42:40.966Z"
   },
   {
    "duration": 7,
    "start_time": "2022-11-01T20:42:45.502Z"
   },
   {
    "duration": 10,
    "start_time": "2022-11-01T20:43:40.600Z"
   },
   {
    "duration": 10,
    "start_time": "2022-11-01T20:43:53.224Z"
   },
   {
    "duration": 4,
    "start_time": "2022-11-01T20:49:26.643Z"
   },
   {
    "duration": 8,
    "start_time": "2022-11-01T20:49:28.003Z"
   },
   {
    "duration": 3,
    "start_time": "2022-11-01T20:49:34.643Z"
   },
   {
    "duration": 4,
    "start_time": "2022-11-01T20:49:37.379Z"
   },
   {
    "duration": 7,
    "start_time": "2022-11-01T20:49:42.996Z"
   },
   {
    "duration": 4,
    "start_time": "2022-11-01T20:49:47.492Z"
   },
   {
    "duration": 6,
    "start_time": "2022-11-01T20:50:08.125Z"
   },
   {
    "duration": 4,
    "start_time": "2022-11-01T20:50:21.707Z"
   },
   {
    "duration": 10,
    "start_time": "2022-11-01T20:50:27.725Z"
   },
   {
    "duration": 4,
    "start_time": "2022-11-01T20:50:38.492Z"
   },
   {
    "duration": 4,
    "start_time": "2022-11-01T20:50:40.758Z"
   },
   {
    "duration": 3,
    "start_time": "2022-11-01T20:50:44.725Z"
   },
   {
    "duration": 8,
    "start_time": "2022-11-01T20:50:50.900Z"
   },
   {
    "duration": 61,
    "start_time": "2022-11-01T20:52:33.955Z"
   },
   {
    "duration": 7,
    "start_time": "2022-11-01T20:52:38.133Z"
   },
   {
    "duration": 4,
    "start_time": "2022-11-01T20:52:39.693Z"
   },
   {
    "duration": 4,
    "start_time": "2022-11-01T20:52:41.381Z"
   },
   {
    "duration": 7,
    "start_time": "2022-11-01T20:52:43.373Z"
   },
   {
    "duration": 4,
    "start_time": "2022-11-01T20:52:57.773Z"
   },
   {
    "duration": 5,
    "start_time": "2022-11-01T20:53:01.633Z"
   },
   {
    "duration": 5,
    "start_time": "2022-11-01T20:53:05.653Z"
   },
   {
    "duration": 4,
    "start_time": "2022-11-01T20:53:38.686Z"
   },
   {
    "duration": 10,
    "start_time": "2022-11-01T20:53:40.438Z"
   },
   {
    "duration": 4,
    "start_time": "2022-11-01T20:54:27.407Z"
   },
   {
    "duration": 4,
    "start_time": "2022-11-01T20:54:58.471Z"
   },
   {
    "duration": 4,
    "start_time": "2022-11-01T20:54:59.242Z"
   },
   {
    "duration": 4,
    "start_time": "2022-11-01T20:55:19.551Z"
   },
   {
    "duration": 4,
    "start_time": "2022-11-01T20:55:20.128Z"
   },
   {
    "duration": 4,
    "start_time": "2022-11-01T20:55:33.743Z"
   },
   {
    "duration": 4,
    "start_time": "2022-11-01T20:59:50.674Z"
   },
   {
    "duration": 7,
    "start_time": "2022-11-01T20:59:52.099Z"
   },
   {
    "duration": 4,
    "start_time": "2022-11-01T20:59:53.675Z"
   },
   {
    "duration": 3,
    "start_time": "2022-11-01T20:59:54.875Z"
   },
   {
    "duration": 5,
    "start_time": "2022-11-01T20:59:56.826Z"
   },
   {
    "duration": 9,
    "start_time": "2022-11-01T21:00:01.402Z"
   },
   {
    "duration": 7,
    "start_time": "2022-11-01T21:00:48.195Z"
   },
   {
    "duration": 90,
    "start_time": "2022-11-01T21:01:25.971Z"
   },
   {
    "duration": 4,
    "start_time": "2022-11-01T21:01:57.820Z"
   },
   {
    "duration": 8,
    "start_time": "2022-11-01T21:01:58.339Z"
   },
   {
    "duration": 4,
    "start_time": "2022-11-01T21:01:59.379Z"
   },
   {
    "duration": 4,
    "start_time": "2022-11-01T21:02:00.292Z"
   },
   {
    "duration": 4,
    "start_time": "2022-11-01T21:02:01.355Z"
   },
   {
    "duration": 8,
    "start_time": "2022-11-01T21:02:02.315Z"
   },
   {
    "duration": 8,
    "start_time": "2022-11-01T21:02:05.404Z"
   },
   {
    "duration": 7,
    "start_time": "2022-11-01T21:02:25.668Z"
   },
   {
    "duration": 8,
    "start_time": "2022-11-01T21:02:30.084Z"
   },
   {
    "duration": 7,
    "start_time": "2022-11-01T21:02:34.588Z"
   },
   {
    "duration": 11,
    "start_time": "2022-11-01T21:02:45.732Z"
   },
   {
    "duration": 7,
    "start_time": "2022-11-01T21:02:57.772Z"
   },
   {
    "duration": 9,
    "start_time": "2022-11-01T21:03:13.044Z"
   },
   {
    "duration": 1590,
    "start_time": "2022-11-02T06:22:48.106Z"
   },
   {
    "duration": 4,
    "start_time": "2022-11-02T06:23:01.406Z"
   },
   {
    "duration": 130,
    "start_time": "2022-11-02T06:23:56.491Z"
   },
   {
    "duration": 7,
    "start_time": "2022-11-02T06:24:03.060Z"
   },
   {
    "duration": 161,
    "start_time": "2022-11-02T06:24:03.069Z"
   },
   {
    "duration": 12,
    "start_time": "2022-11-02T06:24:03.231Z"
   },
   {
    "duration": 14,
    "start_time": "2022-11-02T06:24:03.245Z"
   },
   {
    "duration": 25,
    "start_time": "2022-11-02T06:24:03.261Z"
   },
   {
    "duration": 30,
    "start_time": "2022-11-02T06:24:03.288Z"
   },
   {
    "duration": 431,
    "start_time": "2022-11-02T06:24:03.319Z"
   },
   {
    "duration": 8,
    "start_time": "2022-11-02T06:24:03.752Z"
   },
   {
    "duration": 5,
    "start_time": "2022-11-02T06:24:03.761Z"
   },
   {
    "duration": 8,
    "start_time": "2022-11-02T06:24:03.768Z"
   },
   {
    "duration": 6,
    "start_time": "2022-11-02T06:24:03.777Z"
   },
   {
    "duration": 28,
    "start_time": "2022-11-02T06:24:03.785Z"
   },
   {
    "duration": 9,
    "start_time": "2022-11-02T06:24:03.814Z"
   },
   {
    "duration": 189,
    "start_time": "2022-11-02T06:24:03.824Z"
   },
   {
    "duration": 12,
    "start_time": "2022-11-02T06:24:04.015Z"
   },
   {
    "duration": 93,
    "start_time": "2022-11-02T06:24:04.028Z"
   },
   {
    "duration": 6,
    "start_time": "2022-11-02T06:24:04.209Z"
   },
   {
    "duration": 13,
    "start_time": "2022-11-02T06:24:04.216Z"
   },
   {
    "duration": 84,
    "start_time": "2022-11-02T06:24:04.230Z"
   },
   {
    "duration": 3,
    "start_time": "2022-11-02T06:29:35.792Z"
   },
   {
    "duration": 3,
    "start_time": "2022-11-02T07:10:12.338Z"
   },
   {
    "duration": 68,
    "start_time": "2022-11-02T07:10:12.843Z"
   },
   {
    "duration": 8,
    "start_time": "2022-11-02T07:10:30.096Z"
   },
   {
    "duration": 4,
    "start_time": "2022-11-02T07:10:56.381Z"
   },
   {
    "duration": 3,
    "start_time": "2022-11-02T07:10:56.844Z"
   },
   {
    "duration": 10,
    "start_time": "2022-11-02T07:10:57.472Z"
   },
   {
    "duration": 8,
    "start_time": "2022-11-02T07:10:58.642Z"
   },
   {
    "duration": 3,
    "start_time": "2022-11-02T07:11:58.171Z"
   },
   {
    "duration": 13,
    "start_time": "2022-11-02T07:11:58.662Z"
   },
   {
    "duration": 3,
    "start_time": "2022-11-02T07:12:02.143Z"
   },
   {
    "duration": 6,
    "start_time": "2022-11-02T07:12:02.746Z"
   },
   {
    "duration": 8,
    "start_time": "2022-11-02T07:12:49.235Z"
   },
   {
    "duration": 3,
    "start_time": "2022-11-02T07:43:41.525Z"
   },
   {
    "duration": 4,
    "start_time": "2022-11-02T07:44:37.263Z"
   },
   {
    "duration": 4,
    "start_time": "2022-11-02T07:45:18.701Z"
   },
   {
    "duration": 5,
    "start_time": "2022-11-02T07:45:59.028Z"
   },
   {
    "duration": 4,
    "start_time": "2022-11-02T07:46:11.034Z"
   },
   {
    "duration": 4,
    "start_time": "2022-11-02T07:46:17.222Z"
   },
   {
    "duration": 4,
    "start_time": "2022-11-02T07:46:29.102Z"
   },
   {
    "duration": 4,
    "start_time": "2022-11-02T07:47:09.022Z"
   },
   {
    "duration": 119,
    "start_time": "2022-11-02T07:47:23.309Z"
   },
   {
    "duration": 5,
    "start_time": "2022-11-02T07:47:28.957Z"
   },
   {
    "duration": 4,
    "start_time": "2022-11-02T07:48:09.409Z"
   },
   {
    "duration": 4,
    "start_time": "2022-11-02T07:48:26.064Z"
   },
   {
    "duration": 60,
    "start_time": "2022-11-02T07:48:35.178Z"
   },
   {
    "duration": 4,
    "start_time": "2022-11-02T07:48:42.110Z"
   },
   {
    "duration": 4,
    "start_time": "2022-11-02T07:48:48.039Z"
   },
   {
    "duration": 5,
    "start_time": "2022-11-02T07:49:12.736Z"
   },
   {
    "duration": 4,
    "start_time": "2022-11-02T07:49:18.183Z"
   },
   {
    "duration": 70,
    "start_time": "2022-11-02T07:50:45.199Z"
   },
   {
    "duration": 43,
    "start_time": "2022-11-02T08:23:40.550Z"
   },
   {
    "duration": 40,
    "start_time": "2022-11-02T08:23:48.157Z"
   },
   {
    "duration": 4,
    "start_time": "2022-11-02T08:23:55.763Z"
   },
   {
    "duration": 3,
    "start_time": "2022-11-02T08:24:03.910Z"
   },
   {
    "duration": 4,
    "start_time": "2022-11-02T08:24:28.266Z"
   },
   {
    "duration": 4,
    "start_time": "2022-11-02T08:24:35.514Z"
   },
   {
    "duration": 4,
    "start_time": "2022-11-02T09:01:06.395Z"
   },
   {
    "duration": 17,
    "start_time": "2022-11-02T10:15:55.186Z"
   },
   {
    "duration": 3,
    "start_time": "2022-11-02T10:17:59.348Z"
   },
   {
    "duration": 39,
    "start_time": "2022-11-02T10:18:13.202Z"
   },
   {
    "duration": 40,
    "start_time": "2022-11-02T10:18:23.085Z"
   },
   {
    "duration": 33,
    "start_time": "2022-11-02T10:18:32.554Z"
   },
   {
    "duration": 12,
    "start_time": "2022-11-02T10:18:34.596Z"
   },
   {
    "duration": 3,
    "start_time": "2022-11-02T10:37:27.112Z"
   },
   {
    "duration": 8,
    "start_time": "2022-11-02T10:37:27.749Z"
   },
   {
    "duration": 3,
    "start_time": "2022-11-02T10:38:21.324Z"
   },
   {
    "duration": 7,
    "start_time": "2022-11-02T10:38:22.485Z"
   },
   {
    "duration": 4,
    "start_time": "2022-11-02T10:38:31.561Z"
   },
   {
    "duration": 8,
    "start_time": "2022-11-02T10:38:32.345Z"
   },
   {
    "duration": 4,
    "start_time": "2022-11-02T10:38:51.592Z"
   },
   {
    "duration": 8,
    "start_time": "2022-11-02T10:38:52.099Z"
   },
   {
    "duration": 3,
    "start_time": "2022-11-02T10:39:25.329Z"
   },
   {
    "duration": 6,
    "start_time": "2022-11-02T10:39:25.936Z"
   },
   {
    "duration": 3,
    "start_time": "2022-11-02T10:39:50.301Z"
   },
   {
    "duration": 8,
    "start_time": "2022-11-02T10:39:50.779Z"
   },
   {
    "duration": 4,
    "start_time": "2022-11-02T10:40:07.317Z"
   },
   {
    "duration": 7,
    "start_time": "2022-11-02T10:40:07.705Z"
   },
   {
    "duration": 4,
    "start_time": "2022-11-02T10:41:16.306Z"
   },
   {
    "duration": 26,
    "start_time": "2022-11-02T10:41:55.283Z"
   },
   {
    "duration": 6,
    "start_time": "2022-11-02T10:43:34.559Z"
   },
   {
    "duration": 4,
    "start_time": "2022-11-02T10:43:48.063Z"
   },
   {
    "duration": 10,
    "start_time": "2022-11-02T10:45:07.327Z"
   },
   {
    "duration": 4,
    "start_time": "2022-11-02T10:45:52.059Z"
   },
   {
    "duration": 19,
    "start_time": "2022-11-02T10:45:58.021Z"
   },
   {
    "duration": 7,
    "start_time": "2022-11-02T10:46:02.865Z"
   },
   {
    "duration": 4,
    "start_time": "2022-11-02T10:46:58.086Z"
   },
   {
    "duration": 3,
    "start_time": "2022-11-02T10:47:17.962Z"
   },
   {
    "duration": 17,
    "start_time": "2022-11-02T10:55:59.313Z"
   },
   {
    "duration": 5,
    "start_time": "2022-11-02T10:55:59.736Z"
   },
   {
    "duration": 13,
    "start_time": "2022-11-02T10:56:08.357Z"
   },
   {
    "duration": 3,
    "start_time": "2022-11-02T10:56:13.976Z"
   },
   {
    "duration": 38,
    "start_time": "2022-11-02T10:56:14.434Z"
   },
   {
    "duration": 10,
    "start_time": "2022-11-02T10:56:14.593Z"
   },
   {
    "duration": 7,
    "start_time": "2022-11-02T10:56:15.443Z"
   },
   {
    "duration": 9,
    "start_time": "2022-11-02T10:56:15.737Z"
   },
   {
    "duration": 22,
    "start_time": "2022-11-02T10:56:17.248Z"
   },
   {
    "duration": 389,
    "start_time": "2022-11-02T10:56:17.981Z"
   },
   {
    "duration": 8,
    "start_time": "2022-11-02T10:56:18.731Z"
   },
   {
    "duration": 6,
    "start_time": "2022-11-02T10:56:22.261Z"
   },
   {
    "duration": 4,
    "start_time": "2022-11-02T10:56:24.116Z"
   },
   {
    "duration": 5,
    "start_time": "2022-11-02T10:56:25.436Z"
   },
   {
    "duration": 4,
    "start_time": "2022-11-02T10:56:25.901Z"
   },
   {
    "duration": 16,
    "start_time": "2022-11-02T10:56:26.330Z"
   },
   {
    "duration": 5,
    "start_time": "2022-11-02T10:56:27.740Z"
   },
   {
    "duration": 4,
    "start_time": "2022-11-02T10:56:28.430Z"
   },
   {
    "duration": 4,
    "start_time": "2022-11-02T10:56:29.398Z"
   },
   {
    "duration": 9,
    "start_time": "2022-11-02T10:56:29.775Z"
   },
   {
    "duration": 4,
    "start_time": "2022-11-02T10:56:30.788Z"
   },
   {
    "duration": 5,
    "start_time": "2022-11-02T11:44:15.806Z"
   },
   {
    "duration": 7,
    "start_time": "2022-11-02T11:57:46.199Z"
   },
   {
    "duration": 10,
    "start_time": "2022-11-02T12:01:34.104Z"
   },
   {
    "duration": 9,
    "start_time": "2022-11-02T12:01:41.792Z"
   },
   {
    "duration": 14,
    "start_time": "2022-11-02T12:04:46.099Z"
   },
   {
    "duration": 4,
    "start_time": "2022-11-02T12:04:55.734Z"
   },
   {
    "duration": 10,
    "start_time": "2022-11-02T12:05:24.849Z"
   },
   {
    "duration": 5,
    "start_time": "2022-11-02T12:05:31.975Z"
   },
   {
    "duration": 4,
    "start_time": "2022-11-02T12:06:44.520Z"
   },
   {
    "duration": 130,
    "start_time": "2022-11-02T12:06:56.460Z"
   },
   {
    "duration": 3,
    "start_time": "2022-11-02T12:09:15.864Z"
   },
   {
    "duration": 10,
    "start_time": "2022-11-02T12:17:26.253Z"
   },
   {
    "duration": 4,
    "start_time": "2022-11-02T12:17:30.061Z"
   },
   {
    "duration": 9,
    "start_time": "2022-11-02T12:17:30.581Z"
   },
   {
    "duration": 11,
    "start_time": "2022-11-02T12:18:01.051Z"
   },
   {
    "duration": 9,
    "start_time": "2022-11-02T12:18:09.815Z"
   },
   {
    "duration": 9,
    "start_time": "2022-11-02T12:18:17.186Z"
   },
   {
    "duration": 4,
    "start_time": "2022-11-02T12:18:41.593Z"
   },
   {
    "duration": 4,
    "start_time": "2022-11-02T12:18:43.287Z"
   },
   {
    "duration": 4,
    "start_time": "2022-11-02T12:18:55.787Z"
   },
   {
    "duration": 4,
    "start_time": "2022-11-02T12:19:16.686Z"
   },
   {
    "duration": 5,
    "start_time": "2022-11-02T12:19:17.646Z"
   },
   {
    "duration": 11,
    "start_time": "2022-11-02T12:39:26.332Z"
   },
   {
    "duration": 4,
    "start_time": "2022-11-02T12:39:52.325Z"
   },
   {
    "duration": 6,
    "start_time": "2022-11-02T12:39:54.718Z"
   },
   {
    "duration": 11,
    "start_time": "2022-11-02T12:40:03.916Z"
   },
   {
    "duration": 5,
    "start_time": "2022-11-02T12:40:36.754Z"
   },
   {
    "duration": 16,
    "start_time": "2022-11-02T12:40:37.397Z"
   },
   {
    "duration": 4,
    "start_time": "2022-11-02T12:40:57.208Z"
   },
   {
    "duration": 13,
    "start_time": "2022-11-02T12:40:58.010Z"
   },
   {
    "duration": 4,
    "start_time": "2022-11-02T12:41:10.292Z"
   },
   {
    "duration": 6,
    "start_time": "2022-11-02T12:41:11.332Z"
   },
   {
    "duration": 6,
    "start_time": "2022-11-02T12:41:23.558Z"
   },
   {
    "duration": 6,
    "start_time": "2022-11-02T12:44:38.904Z"
   },
   {
    "duration": 6,
    "start_time": "2022-11-02T12:45:47.372Z"
   },
   {
    "duration": 4,
    "start_time": "2022-11-02T12:45:56.447Z"
   },
   {
    "duration": 6,
    "start_time": "2022-11-02T12:47:35.394Z"
   },
   {
    "duration": 4,
    "start_time": "2022-11-02T12:47:46.929Z"
   },
   {
    "duration": 6,
    "start_time": "2022-11-02T12:50:18.531Z"
   },
   {
    "duration": 4,
    "start_time": "2022-11-02T12:50:32.503Z"
   },
   {
    "duration": 6,
    "start_time": "2022-11-02T12:50:33.017Z"
   },
   {
    "duration": 4,
    "start_time": "2022-11-02T12:50:38.454Z"
   },
   {
    "duration": 6,
    "start_time": "2022-11-02T12:50:38.915Z"
   },
   {
    "duration": 8,
    "start_time": "2022-11-02T12:51:12.992Z"
   },
   {
    "duration": 12,
    "start_time": "2022-11-02T12:51:48.821Z"
   },
   {
    "duration": 5,
    "start_time": "2022-11-02T12:57:58.642Z"
   },
   {
    "duration": 5,
    "start_time": "2022-11-02T12:57:59.093Z"
   },
   {
    "duration": 3,
    "start_time": "2022-11-02T12:58:01.668Z"
   },
   {
    "duration": 16,
    "start_time": "2022-11-02T12:58:46.164Z"
   },
   {
    "duration": 9,
    "start_time": "2022-11-02T12:59:32.745Z"
   },
   {
    "duration": 12,
    "start_time": "2022-11-02T13:00:08.374Z"
   },
   {
    "duration": 3,
    "start_time": "2022-11-02T13:00:27.179Z"
   },
   {
    "duration": 11,
    "start_time": "2022-11-02T13:00:35.552Z"
   },
   {
    "duration": 5,
    "start_time": "2022-11-02T13:01:21.484Z"
   },
   {
    "duration": 5,
    "start_time": "2022-11-02T13:02:35.896Z"
   },
   {
    "duration": 4,
    "start_time": "2022-11-02T13:05:16.880Z"
   },
   {
    "duration": 5,
    "start_time": "2022-11-02T13:05:52.771Z"
   },
   {
    "duration": 3,
    "start_time": "2022-11-02T13:05:53.278Z"
   },
   {
    "duration": 4,
    "start_time": "2022-11-02T13:05:55.093Z"
   },
   {
    "duration": 5,
    "start_time": "2022-11-02T13:06:07.970Z"
   },
   {
    "duration": 3,
    "start_time": "2022-11-02T13:06:08.464Z"
   },
   {
    "duration": 15,
    "start_time": "2022-11-02T13:06:08.971Z"
   },
   {
    "duration": 5,
    "start_time": "2022-11-02T13:06:15.613Z"
   },
   {
    "duration": 3,
    "start_time": "2022-11-02T13:06:16.185Z"
   },
   {
    "duration": 24,
    "start_time": "2022-11-02T13:06:16.996Z"
   },
   {
    "duration": 13,
    "start_time": "2022-11-02T13:06:26.193Z"
   },
   {
    "duration": 5,
    "start_time": "2022-11-02T13:06:37.127Z"
   },
   {
    "duration": 12,
    "start_time": "2022-11-02T13:06:53.171Z"
   },
   {
    "duration": 5,
    "start_time": "2022-11-02T13:06:57.610Z"
   },
   {
    "duration": 5,
    "start_time": "2022-11-02T13:15:38.039Z"
   },
   {
    "duration": 9,
    "start_time": "2022-11-02T13:15:38.585Z"
   },
   {
    "duration": 4,
    "start_time": "2022-11-02T13:16:06.219Z"
   },
   {
    "duration": 5,
    "start_time": "2022-11-02T13:16:11.137Z"
   },
   {
    "duration": 10,
    "start_time": "2022-11-02T13:16:11.661Z"
   },
   {
    "duration": 5,
    "start_time": "2022-11-02T13:17:40.858Z"
   },
   {
    "duration": 3,
    "start_time": "2022-11-02T13:17:42.019Z"
   },
   {
    "duration": 5,
    "start_time": "2022-11-02T13:18:20.310Z"
   },
   {
    "duration": 3,
    "start_time": "2022-11-02T13:18:20.861Z"
   },
   {
    "duration": 15,
    "start_time": "2022-11-02T13:18:22.234Z"
   },
   {
    "duration": 12,
    "start_time": "2022-11-02T13:18:23.475Z"
   },
   {
    "duration": 3,
    "start_time": "2022-11-02T13:18:25.233Z"
   },
   {
    "duration": 5,
    "start_time": "2022-11-02T13:18:27.240Z"
   },
   {
    "duration": 9,
    "start_time": "2022-11-02T13:35:01.922Z"
   },
   {
    "duration": 7,
    "start_time": "2022-11-02T13:35:42.057Z"
   },
   {
    "duration": 3,
    "start_time": "2022-11-02T13:35:43.452Z"
   },
   {
    "duration": 12,
    "start_time": "2022-11-02T13:35:43.960Z"
   },
   {
    "duration": 9,
    "start_time": "2022-11-02T13:42:44.652Z"
   },
   {
    "duration": 12,
    "start_time": "2022-11-02T13:43:57.499Z"
   },
   {
    "duration": 10,
    "start_time": "2022-11-02T13:44:03.822Z"
   },
   {
    "duration": 3,
    "start_time": "2022-11-02T13:47:05.414Z"
   },
   {
    "duration": 11,
    "start_time": "2022-11-02T13:47:05.897Z"
   },
   {
    "duration": 4,
    "start_time": "2022-11-02T13:48:26.513Z"
   },
   {
    "duration": 5,
    "start_time": "2022-11-02T13:48:30.979Z"
   },
   {
    "duration": 10,
    "start_time": "2022-11-02T13:48:31.861Z"
   },
   {
    "duration": 3,
    "start_time": "2022-11-02T13:48:32.580Z"
   },
   {
    "duration": 11,
    "start_time": "2022-11-02T13:48:33.249Z"
   },
   {
    "duration": 3,
    "start_time": "2022-11-02T13:48:34.056Z"
   },
   {
    "duration": 4,
    "start_time": "2022-11-02T13:49:24.694Z"
   },
   {
    "duration": 10,
    "start_time": "2022-11-02T13:49:44.605Z"
   },
   {
    "duration": 3,
    "start_time": "2022-11-02T13:49:45.541Z"
   },
   {
    "duration": 5,
    "start_time": "2022-11-02T13:53:01.287Z"
   },
   {
    "duration": 5,
    "start_time": "2022-11-02T14:05:53.259Z"
   },
   {
    "duration": 4,
    "start_time": "2022-11-02T14:32:11.924Z"
   },
   {
    "duration": 9,
    "start_time": "2022-11-02T14:32:13.983Z"
   },
   {
    "duration": 12,
    "start_time": "2022-11-02T14:32:34.676Z"
   },
   {
    "duration": 4,
    "start_time": "2022-11-02T14:32:56.961Z"
   },
   {
    "duration": 4,
    "start_time": "2022-11-02T14:33:51.777Z"
   },
   {
    "duration": 18,
    "start_time": "2022-11-02T14:33:51.783Z"
   },
   {
    "duration": 4,
    "start_time": "2022-11-02T14:35:36.128Z"
   },
   {
    "duration": 7,
    "start_time": "2022-11-02T14:35:36.872Z"
   },
   {
    "duration": 5,
    "start_time": "2022-11-02T14:35:49.439Z"
   },
   {
    "duration": 4,
    "start_time": "2022-11-02T14:35:53.300Z"
   },
   {
    "duration": 4,
    "start_time": "2022-11-02T14:35:55.228Z"
   },
   {
    "duration": 10,
    "start_time": "2022-11-02T14:35:56.244Z"
   },
   {
    "duration": 7,
    "start_time": "2022-11-02T14:36:14.886Z"
   },
   {
    "duration": 4,
    "start_time": "2022-11-02T14:38:33.352Z"
   },
   {
    "duration": 9,
    "start_time": "2022-11-02T14:38:33.796Z"
   },
   {
    "duration": 6,
    "start_time": "2022-11-02T14:38:39.652Z"
   },
   {
    "duration": 4,
    "start_time": "2022-11-02T14:38:41.130Z"
   },
   {
    "duration": 4,
    "start_time": "2022-11-02T14:38:42.541Z"
   },
   {
    "duration": 3,
    "start_time": "2022-11-02T14:38:44.283Z"
   },
   {
    "duration": 10,
    "start_time": "2022-11-02T14:38:45.498Z"
   },
   {
    "duration": 9,
    "start_time": "2022-11-02T14:38:51.683Z"
   },
   {
    "duration": 10,
    "start_time": "2022-11-02T14:39:04.825Z"
   },
   {
    "duration": 3,
    "start_time": "2022-11-02T14:45:51.157Z"
   },
   {
    "duration": 17,
    "start_time": "2022-11-02T14:45:52.921Z"
   },
   {
    "duration": 3,
    "start_time": "2022-11-02T14:46:23.056Z"
   },
   {
    "duration": 4,
    "start_time": "2022-11-02T14:46:23.631Z"
   },
   {
    "duration": 14,
    "start_time": "2022-11-02T14:46:26.052Z"
   },
   {
    "duration": 3,
    "start_time": "2022-11-02T14:47:34.433Z"
   },
   {
    "duration": 15,
    "start_time": "2022-11-02T14:47:34.463Z"
   },
   {
    "duration": 3,
    "start_time": "2022-11-02T14:48:02.648Z"
   },
   {
    "duration": 17,
    "start_time": "2022-11-02T14:48:03.254Z"
   },
   {
    "duration": 4,
    "start_time": "2022-11-02T14:48:14.185Z"
   },
   {
    "duration": 3,
    "start_time": "2022-11-02T14:48:14.770Z"
   },
   {
    "duration": 15,
    "start_time": "2022-11-02T14:48:15.574Z"
   },
   {
    "duration": 12,
    "start_time": "2022-11-02T14:49:27.621Z"
   },
   {
    "duration": 4,
    "start_time": "2022-11-02T14:49:29.549Z"
   },
   {
    "duration": 12,
    "start_time": "2022-11-02T14:49:30.055Z"
   },
   {
    "duration": 4,
    "start_time": "2022-11-02T14:49:43.103Z"
   },
   {
    "duration": 3,
    "start_time": "2022-11-02T14:49:43.588Z"
   },
   {
    "duration": 11,
    "start_time": "2022-11-02T14:49:44.186Z"
   },
   {
    "duration": 12,
    "start_time": "2022-11-02T14:51:01.286Z"
   },
   {
    "duration": 51,
    "start_time": "2022-11-02T14:51:10.459Z"
   },
   {
    "duration": 3,
    "start_time": "2022-11-02T14:51:13.237Z"
   },
   {
    "duration": 3,
    "start_time": "2022-11-02T14:51:13.776Z"
   },
   {
    "duration": 81,
    "start_time": "2022-11-02T14:51:14.430Z"
   },
   {
    "duration": 5,
    "start_time": "2022-11-02T14:51:32.027Z"
   },
   {
    "duration": 4,
    "start_time": "2022-11-02T14:51:32.596Z"
   },
   {
    "duration": 5,
    "start_time": "2022-11-02T14:51:33.553Z"
   },
   {
    "duration": 14,
    "start_time": "2022-11-02T14:58:36.953Z"
   },
   {
    "duration": 6,
    "start_time": "2022-11-02T14:59:05.374Z"
   },
   {
    "duration": 6,
    "start_time": "2022-11-02T15:01:13.510Z"
   },
   {
    "duration": 18,
    "start_time": "2022-11-02T15:01:47.791Z"
   },
   {
    "duration": 6,
    "start_time": "2022-11-02T15:02:05.248Z"
   },
   {
    "duration": 1578,
    "start_time": "2022-11-02T16:32:23.956Z"
   },
   {
    "duration": 3,
    "start_time": "2022-11-02T16:32:25.535Z"
   },
   {
    "duration": 118,
    "start_time": "2022-11-02T16:32:25.540Z"
   },
   {
    "duration": 12,
    "start_time": "2022-11-02T16:32:25.660Z"
   },
   {
    "duration": 20,
    "start_time": "2022-11-02T16:32:25.673Z"
   },
   {
    "duration": 23,
    "start_time": "2022-11-02T16:32:25.695Z"
   },
   {
    "duration": 27,
    "start_time": "2022-11-02T16:32:25.719Z"
   },
   {
    "duration": 497,
    "start_time": "2022-11-02T16:32:25.747Z"
   },
   {
    "duration": 9,
    "start_time": "2022-11-02T16:32:26.246Z"
   },
   {
    "duration": 10,
    "start_time": "2022-11-02T16:32:26.258Z"
   },
   {
    "duration": 12,
    "start_time": "2022-11-02T16:32:26.269Z"
   },
   {
    "duration": 10,
    "start_time": "2022-11-02T16:32:26.282Z"
   },
   {
    "duration": 6,
    "start_time": "2022-11-02T16:32:26.294Z"
   },
   {
    "duration": 10,
    "start_time": "2022-11-02T16:32:26.308Z"
   },
   {
    "duration": 95,
    "start_time": "2022-11-02T16:32:26.320Z"
   },
   {
    "duration": 99,
    "start_time": "2022-11-02T16:32:26.417Z"
   },
   {
    "duration": 7,
    "start_time": "2022-11-02T16:32:26.518Z"
   },
   {
    "duration": 86,
    "start_time": "2022-11-02T16:32:26.527Z"
   },
   {
    "duration": 95,
    "start_time": "2022-11-02T16:32:26.615Z"
   },
   {
    "duration": 9,
    "start_time": "2022-11-02T16:32:26.712Z"
   },
   {
    "duration": 17,
    "start_time": "2022-11-02T16:32:26.723Z"
   },
   {
    "duration": 8,
    "start_time": "2022-11-02T16:32:26.741Z"
   },
   {
    "duration": 68,
    "start_time": "2022-11-02T16:32:26.751Z"
   },
   {
    "duration": 6,
    "start_time": "2022-11-02T16:32:26.821Z"
   },
   {
    "duration": 86,
    "start_time": "2022-11-02T16:32:26.829Z"
   },
   {
    "duration": 8,
    "start_time": "2022-11-02T16:32:26.916Z"
   },
   {
    "duration": 116,
    "start_time": "2022-11-02T16:56:40.016Z"
   },
   {
    "duration": 4,
    "start_time": "2022-11-02T16:56:50.363Z"
   },
   {
    "duration": 3,
    "start_time": "2022-11-02T16:56:53.210Z"
   },
   {
    "duration": 4,
    "start_time": "2022-11-02T16:56:53.720Z"
   },
   {
    "duration": 55,
    "start_time": "2022-11-02T16:57:13.056Z"
   },
   {
    "duration": 6,
    "start_time": "2022-11-02T16:57:37.538Z"
   },
   {
    "duration": 5,
    "start_time": "2022-11-02T16:58:40.182Z"
   },
   {
    "duration": 4,
    "start_time": "2022-11-02T16:58:42.030Z"
   },
   {
    "duration": 8,
    "start_time": "2022-11-02T16:58:55.340Z"
   },
   {
    "duration": 84,
    "start_time": "2022-11-02T16:59:01.669Z"
   },
   {
    "duration": 76,
    "start_time": "2022-11-02T16:59:10.400Z"
   },
   {
    "duration": 14,
    "start_time": "2022-11-02T16:59:53.494Z"
   },
   {
    "duration": 5,
    "start_time": "2022-11-02T17:00:21.024Z"
   },
   {
    "duration": 3,
    "start_time": "2022-11-02T17:00:23.994Z"
   },
   {
    "duration": 3,
    "start_time": "2022-11-02T17:00:24.317Z"
   },
   {
    "duration": 5,
    "start_time": "2022-11-02T17:00:24.743Z"
   },
   {
    "duration": 4,
    "start_time": "2022-11-02T17:00:25.886Z"
   },
   {
    "duration": 4,
    "start_time": "2022-11-02T17:00:27.286Z"
   },
   {
    "duration": 4,
    "start_time": "2022-11-02T17:00:28.392Z"
   },
   {
    "duration": 76,
    "start_time": "2022-11-02T17:00:36.533Z"
   },
   {
    "duration": 3,
    "start_time": "2022-11-02T17:00:41.684Z"
   },
   {
    "duration": 5,
    "start_time": "2022-11-02T17:03:52.517Z"
   },
   {
    "duration": 9,
    "start_time": "2022-11-02T17:03:54.705Z"
   },
   {
    "duration": 4,
    "start_time": "2022-11-02T17:04:37.786Z"
   },
   {
    "duration": 9,
    "start_time": "2022-11-02T17:05:05.582Z"
   },
   {
    "duration": 3,
    "start_time": "2022-11-02T17:05:39.883Z"
   },
   {
    "duration": 11,
    "start_time": "2022-11-02T17:05:42.935Z"
   },
   {
    "duration": 4,
    "start_time": "2022-11-02T17:05:45.265Z"
   },
   {
    "duration": 12,
    "start_time": "2022-11-02T17:07:45.875Z"
   },
   {
    "duration": 8,
    "start_time": "2022-11-02T17:08:20.830Z"
   },
   {
    "duration": 5,
    "start_time": "2022-11-02T17:08:23.356Z"
   },
   {
    "duration": 4,
    "start_time": "2022-11-02T17:09:21.753Z"
   },
   {
    "duration": 4,
    "start_time": "2022-11-02T17:09:34.908Z"
   },
   {
    "duration": 4,
    "start_time": "2022-11-02T17:09:44.270Z"
   },
   {
    "duration": 4,
    "start_time": "2022-11-02T17:09:50.309Z"
   },
   {
    "duration": 4,
    "start_time": "2022-11-02T17:09:59.801Z"
   },
   {
    "duration": 8,
    "start_time": "2022-11-02T17:11:34.051Z"
   },
   {
    "duration": 4,
    "start_time": "2022-11-02T17:11:43.744Z"
   },
   {
    "duration": 6,
    "start_time": "2022-11-02T17:11:50.031Z"
   },
   {
    "duration": 6,
    "start_time": "2022-11-02T17:13:15.012Z"
   },
   {
    "duration": 10,
    "start_time": "2022-11-02T17:13:41.425Z"
   },
   {
    "duration": 6,
    "start_time": "2022-11-02T17:14:03.273Z"
   },
   {
    "duration": 4,
    "start_time": "2022-11-02T17:15:34.442Z"
   },
   {
    "duration": 4,
    "start_time": "2022-11-02T17:15:35.364Z"
   },
   {
    "duration": 6,
    "start_time": "2022-11-02T17:16:29.682Z"
   },
   {
    "duration": 3,
    "start_time": "2022-11-02T17:20:19.321Z"
   },
   {
    "duration": 4,
    "start_time": "2022-11-02T17:20:19.940Z"
   },
   {
    "duration": 7,
    "start_time": "2022-11-02T17:20:50.761Z"
   },
   {
    "duration": 6,
    "start_time": "2022-11-02T17:21:38.646Z"
   },
   {
    "duration": 3,
    "start_time": "2022-11-02T17:21:42.515Z"
   },
   {
    "duration": 4,
    "start_time": "2022-11-02T17:21:43.139Z"
   },
   {
    "duration": 7,
    "start_time": "2022-11-02T17:21:44.192Z"
   },
   {
    "duration": 5,
    "start_time": "2022-11-02T17:22:05.324Z"
   },
   {
    "duration": 10,
    "start_time": "2022-11-02T17:22:06.244Z"
   },
   {
    "duration": 3,
    "start_time": "2022-11-02T17:22:06.772Z"
   },
   {
    "duration": 11,
    "start_time": "2022-11-02T17:22:07.314Z"
   },
   {
    "duration": 3,
    "start_time": "2022-11-02T17:22:07.785Z"
   },
   {
    "duration": 12,
    "start_time": "2022-11-02T17:22:09.646Z"
   },
   {
    "duration": 6,
    "start_time": "2022-11-02T17:22:10.075Z"
   },
   {
    "duration": 4,
    "start_time": "2022-11-02T17:22:11.590Z"
   },
   {
    "duration": 4,
    "start_time": "2022-11-02T17:22:12.950Z"
   },
   {
    "duration": 6,
    "start_time": "2022-11-02T17:22:14.089Z"
   },
   {
    "duration": 6,
    "start_time": "2022-11-02T17:22:27.182Z"
   },
   {
    "duration": 3,
    "start_time": "2022-11-02T17:22:28.420Z"
   },
   {
    "duration": 4,
    "start_time": "2022-11-02T17:22:29.203Z"
   },
   {
    "duration": 7,
    "start_time": "2022-11-02T17:22:31.120Z"
   },
   {
    "duration": 4,
    "start_time": "2022-11-02T17:24:59.189Z"
   },
   {
    "duration": 4,
    "start_time": "2022-11-02T17:25:17.159Z"
   },
   {
    "duration": 3,
    "start_time": "2022-11-02T17:25:20.599Z"
   },
   {
    "duration": 3,
    "start_time": "2022-11-02T17:25:22.533Z"
   },
   {
    "duration": 3,
    "start_time": "2022-11-02T17:26:12.361Z"
   },
   {
    "duration": 5,
    "start_time": "2022-11-02T17:26:13.721Z"
   },
   {
    "duration": 11,
    "start_time": "2022-11-02T17:26:19.132Z"
   },
   {
    "duration": 3,
    "start_time": "2022-11-02T17:26:19.785Z"
   },
   {
    "duration": 5,
    "start_time": "2022-11-02T17:26:22.206Z"
   },
   {
    "duration": 4,
    "start_time": "2022-11-02T17:26:36.491Z"
   },
   {
    "duration": 5,
    "start_time": "2022-11-02T17:26:41.554Z"
   },
   {
    "duration": 12,
    "start_time": "2022-11-02T17:26:55.082Z"
   },
   {
    "duration": 4,
    "start_time": "2022-11-02T17:27:15.975Z"
   },
   {
    "duration": 5,
    "start_time": "2022-11-02T17:27:15.980Z"
   },
   {
    "duration": 34,
    "start_time": "2022-11-02T17:27:15.986Z"
   },
   {
    "duration": 10,
    "start_time": "2022-11-02T17:27:16.021Z"
   },
   {
    "duration": 6,
    "start_time": "2022-11-02T17:27:16.034Z"
   },
   {
    "duration": 10,
    "start_time": "2022-11-02T17:27:16.042Z"
   },
   {
    "duration": 16,
    "start_time": "2022-11-02T17:27:16.054Z"
   },
   {
    "duration": 414,
    "start_time": "2022-11-02T17:27:16.072Z"
   },
   {
    "duration": 22,
    "start_time": "2022-11-02T17:27:16.488Z"
   },
   {
    "duration": 4,
    "start_time": "2022-11-02T17:27:16.511Z"
   },
   {
    "duration": 5,
    "start_time": "2022-11-02T17:27:16.518Z"
   },
   {
    "duration": 6,
    "start_time": "2022-11-02T17:27:16.525Z"
   },
   {
    "duration": 10,
    "start_time": "2022-11-02T17:27:16.532Z"
   },
   {
    "duration": 71,
    "start_time": "2022-11-02T17:27:16.544Z"
   },
   {
    "duration": 94,
    "start_time": "2022-11-02T17:27:16.617Z"
   },
   {
    "duration": 16,
    "start_time": "2022-11-02T17:27:16.713Z"
   },
   {
    "duration": 81,
    "start_time": "2022-11-02T17:27:16.731Z"
   },
   {
    "duration": 98,
    "start_time": "2022-11-02T17:27:16.813Z"
   },
   {
    "duration": 101,
    "start_time": "2022-11-02T17:27:16.912Z"
   },
   {
    "duration": 13,
    "start_time": "2022-11-02T17:27:17.015Z"
   },
   {
    "duration": 7,
    "start_time": "2022-11-02T17:27:17.029Z"
   },
   {
    "duration": 7,
    "start_time": "2022-11-02T17:27:17.037Z"
   },
   {
    "duration": 67,
    "start_time": "2022-11-02T17:27:17.045Z"
   },
   {
    "duration": 7,
    "start_time": "2022-11-02T17:27:17.114Z"
   },
   {
    "duration": 7,
    "start_time": "2022-11-02T17:27:17.123Z"
   },
   {
    "duration": 87,
    "start_time": "2022-11-02T17:27:17.133Z"
   },
   {
    "duration": 9,
    "start_time": "2022-11-02T17:27:17.222Z"
   },
   {
    "duration": 6,
    "start_time": "2022-11-02T17:27:17.233Z"
   },
   {
    "duration": 8,
    "start_time": "2022-11-02T17:27:17.241Z"
   },
   {
    "duration": 11,
    "start_time": "2022-11-02T17:27:17.251Z"
   },
   {
    "duration": 11,
    "start_time": "2022-11-02T17:27:17.263Z"
   },
   {
    "duration": 10,
    "start_time": "2022-11-02T17:27:17.276Z"
   },
   {
    "duration": 22,
    "start_time": "2022-11-02T17:27:17.288Z"
   },
   {
    "duration": 24,
    "start_time": "2022-11-02T17:27:17.311Z"
   },
   {
    "duration": 15,
    "start_time": "2022-11-02T17:27:17.337Z"
   },
   {
    "duration": 4,
    "start_time": "2022-11-02T17:28:42.539Z"
   },
   {
    "duration": 6,
    "start_time": "2022-11-02T17:28:42.545Z"
   },
   {
    "duration": 37,
    "start_time": "2022-11-02T17:28:42.552Z"
   },
   {
    "duration": 10,
    "start_time": "2022-11-02T17:28:42.591Z"
   },
   {
    "duration": 12,
    "start_time": "2022-11-02T17:28:42.603Z"
   },
   {
    "duration": 11,
    "start_time": "2022-11-02T17:28:42.617Z"
   },
   {
    "duration": 17,
    "start_time": "2022-11-02T17:28:42.629Z"
   },
   {
    "duration": 429,
    "start_time": "2022-11-02T17:28:42.648Z"
   },
   {
    "duration": 9,
    "start_time": "2022-11-02T17:28:43.079Z"
   },
   {
    "duration": 21,
    "start_time": "2022-11-02T17:28:43.091Z"
   },
   {
    "duration": 12,
    "start_time": "2022-11-02T17:28:43.113Z"
   },
   {
    "duration": 7,
    "start_time": "2022-11-02T17:28:43.126Z"
   },
   {
    "duration": 9,
    "start_time": "2022-11-02T17:28:43.134Z"
   },
   {
    "duration": 68,
    "start_time": "2022-11-02T17:28:43.144Z"
   },
   {
    "duration": 98,
    "start_time": "2022-11-02T17:28:43.213Z"
   },
   {
    "duration": 12,
    "start_time": "2022-11-02T17:28:43.313Z"
   },
   {
    "duration": 87,
    "start_time": "2022-11-02T17:28:43.326Z"
   },
   {
    "duration": 97,
    "start_time": "2022-11-02T17:28:43.414Z"
   },
   {
    "duration": 103,
    "start_time": "2022-11-02T17:28:43.513Z"
   },
   {
    "duration": 12,
    "start_time": "2022-11-02T17:28:43.618Z"
   },
   {
    "duration": 14,
    "start_time": "2022-11-02T17:28:43.632Z"
   },
   {
    "duration": 10,
    "start_time": "2022-11-02T17:28:43.647Z"
   },
   {
    "duration": 59,
    "start_time": "2022-11-02T17:28:43.659Z"
   },
   {
    "duration": 89,
    "start_time": "2022-11-02T17:28:43.720Z"
   },
   {
    "duration": 4,
    "start_time": "2022-11-02T17:28:43.812Z"
   },
   {
    "duration": 93,
    "start_time": "2022-11-02T17:28:43.818Z"
   },
   {
    "duration": 0,
    "start_time": "2022-11-02T17:28:43.914Z"
   },
   {
    "duration": 0,
    "start_time": "2022-11-02T17:28:43.914Z"
   },
   {
    "duration": 0,
    "start_time": "2022-11-02T17:28:43.915Z"
   },
   {
    "duration": 0,
    "start_time": "2022-11-02T17:28:43.917Z"
   },
   {
    "duration": 0,
    "start_time": "2022-11-02T17:28:43.917Z"
   },
   {
    "duration": 0,
    "start_time": "2022-11-02T17:28:43.918Z"
   },
   {
    "duration": 0,
    "start_time": "2022-11-02T17:28:43.919Z"
   },
   {
    "duration": 0,
    "start_time": "2022-11-02T17:28:43.920Z"
   },
   {
    "duration": 0,
    "start_time": "2022-11-02T17:28:43.921Z"
   },
   {
    "duration": 9,
    "start_time": "2022-11-02T17:28:50.636Z"
   },
   {
    "duration": 12,
    "start_time": "2022-11-02T17:28:54.218Z"
   },
   {
    "duration": 5,
    "start_time": "2022-11-02T17:29:21.206Z"
   },
   {
    "duration": 4,
    "start_time": "2022-11-02T17:29:28.404Z"
   },
   {
    "duration": 5,
    "start_time": "2022-11-02T17:29:29.726Z"
   },
   {
    "duration": 6,
    "start_time": "2022-11-02T17:29:30.513Z"
   },
   {
    "duration": 2,
    "start_time": "2022-11-02T17:30:59.917Z"
   },
   {
    "duration": 3,
    "start_time": "2022-11-02T17:31:02.350Z"
   },
   {
    "duration": 5,
    "start_time": "2022-11-02T17:31:04.450Z"
   },
   {
    "duration": 6,
    "start_time": "2022-11-02T17:31:05.823Z"
   },
   {
    "duration": 4,
    "start_time": "2022-11-02T17:32:12.735Z"
   },
   {
    "duration": 10,
    "start_time": "2022-11-02T17:32:12.740Z"
   },
   {
    "duration": 32,
    "start_time": "2022-11-02T17:32:12.751Z"
   },
   {
    "duration": 10,
    "start_time": "2022-11-02T17:32:12.785Z"
   },
   {
    "duration": 8,
    "start_time": "2022-11-02T17:32:12.797Z"
   },
   {
    "duration": 10,
    "start_time": "2022-11-02T17:32:12.806Z"
   },
   {
    "duration": 15,
    "start_time": "2022-11-02T17:32:12.817Z"
   },
   {
    "duration": 376,
    "start_time": "2022-11-02T17:32:12.833Z"
   },
   {
    "duration": 8,
    "start_time": "2022-11-02T17:32:13.210Z"
   },
   {
    "duration": 4,
    "start_time": "2022-11-02T17:32:13.220Z"
   },
   {
    "duration": 9,
    "start_time": "2022-11-02T17:32:13.227Z"
   },
   {
    "duration": 20,
    "start_time": "2022-11-02T17:32:13.237Z"
   },
   {
    "duration": 54,
    "start_time": "2022-11-02T17:32:13.259Z"
   },
   {
    "duration": 100,
    "start_time": "2022-11-02T17:32:13.314Z"
   },
   {
    "duration": 15,
    "start_time": "2022-11-02T17:32:13.415Z"
   },
   {
    "duration": 84,
    "start_time": "2022-11-02T17:32:13.432Z"
   },
   {
    "duration": 94,
    "start_time": "2022-11-02T17:32:13.518Z"
   },
   {
    "duration": 97,
    "start_time": "2022-11-02T17:32:13.614Z"
   },
   {
    "duration": 28,
    "start_time": "2022-11-02T17:32:13.713Z"
   },
   {
    "duration": 12,
    "start_time": "2022-11-02T17:32:13.742Z"
   },
   {
    "duration": 9,
    "start_time": "2022-11-02T17:32:13.755Z"
   },
   {
    "duration": 44,
    "start_time": "2022-11-02T17:32:13.766Z"
   },
   {
    "duration": 11,
    "start_time": "2022-11-02T17:32:13.812Z"
   },
   {
    "duration": 87,
    "start_time": "2022-11-02T17:32:13.825Z"
   },
   {
    "duration": 20,
    "start_time": "2022-11-02T17:32:13.914Z"
   },
   {
    "duration": 47,
    "start_time": "2022-11-02T17:32:14.011Z"
   },
   {
    "duration": 0,
    "start_time": "2022-11-02T17:32:14.060Z"
   },
   {
    "duration": 0,
    "start_time": "2022-11-02T17:32:14.061Z"
   },
   {
    "duration": 0,
    "start_time": "2022-11-02T17:32:14.062Z"
   },
   {
    "duration": 0,
    "start_time": "2022-11-02T17:32:14.063Z"
   },
   {
    "duration": 0,
    "start_time": "2022-11-02T17:32:14.065Z"
   },
   {
    "duration": 0,
    "start_time": "2022-11-02T17:32:14.066Z"
   },
   {
    "duration": 0,
    "start_time": "2022-11-02T17:32:14.067Z"
   },
   {
    "duration": 0,
    "start_time": "2022-11-02T17:32:14.068Z"
   },
   {
    "duration": 0,
    "start_time": "2022-11-02T17:32:14.069Z"
   },
   {
    "duration": 12,
    "start_time": "2022-11-02T17:33:24.966Z"
   },
   {
    "duration": 4,
    "start_time": "2022-11-02T17:34:19.717Z"
   },
   {
    "duration": 4,
    "start_time": "2022-11-02T17:34:20.691Z"
   },
   {
    "duration": 6,
    "start_time": "2022-11-02T17:34:21.560Z"
   },
   {
    "duration": 3,
    "start_time": "2022-11-02T17:34:23.341Z"
   },
   {
    "duration": 4,
    "start_time": "2022-11-02T17:34:28.762Z"
   },
   {
    "duration": 4,
    "start_time": "2022-11-02T17:34:30.116Z"
   },
   {
    "duration": 6,
    "start_time": "2022-11-02T17:34:31.431Z"
   },
   {
    "duration": 14,
    "start_time": "2022-11-02T17:36:21.605Z"
   },
   {
    "duration": 4,
    "start_time": "2022-11-02T17:39:29.442Z"
   },
   {
    "duration": 8,
    "start_time": "2022-11-02T17:39:29.448Z"
   },
   {
    "duration": 38,
    "start_time": "2022-11-02T17:39:29.457Z"
   },
   {
    "duration": 11,
    "start_time": "2022-11-02T17:39:29.498Z"
   },
   {
    "duration": 7,
    "start_time": "2022-11-02T17:39:29.511Z"
   },
   {
    "duration": 14,
    "start_time": "2022-11-02T17:39:29.519Z"
   },
   {
    "duration": 18,
    "start_time": "2022-11-02T17:39:29.535Z"
   },
   {
    "duration": 374,
    "start_time": "2022-11-02T17:39:29.554Z"
   },
   {
    "duration": 7,
    "start_time": "2022-11-02T17:39:29.930Z"
   },
   {
    "duration": 3,
    "start_time": "2022-11-02T17:39:29.939Z"
   },
   {
    "duration": 7,
    "start_time": "2022-11-02T17:39:29.943Z"
   },
   {
    "duration": 4,
    "start_time": "2022-11-02T17:39:29.952Z"
   },
   {
    "duration": 53,
    "start_time": "2022-11-02T17:39:29.958Z"
   },
   {
    "duration": 5,
    "start_time": "2022-11-02T17:39:30.012Z"
   },
   {
    "duration": 103,
    "start_time": "2022-11-02T17:39:30.019Z"
   },
   {
    "duration": 16,
    "start_time": "2022-11-02T17:39:30.124Z"
   },
   {
    "duration": 9,
    "start_time": "2022-11-02T17:39:30.209Z"
   },
   {
    "duration": 88,
    "start_time": "2022-11-02T17:39:30.223Z"
   },
   {
    "duration": 107,
    "start_time": "2022-11-02T17:39:30.318Z"
   },
   {
    "duration": 27,
    "start_time": "2022-11-02T17:39:30.427Z"
   },
   {
    "duration": 21,
    "start_time": "2022-11-02T17:39:30.456Z"
   },
   {
    "duration": 31,
    "start_time": "2022-11-02T17:39:30.479Z"
   },
   {
    "duration": 105,
    "start_time": "2022-11-02T17:39:30.512Z"
   },
   {
    "duration": 8,
    "start_time": "2022-11-02T17:39:30.620Z"
   },
   {
    "duration": 83,
    "start_time": "2022-11-02T17:39:30.629Z"
   },
   {
    "duration": 147,
    "start_time": "2022-11-02T17:39:30.714Z"
   },
   {
    "duration": 0,
    "start_time": "2022-11-02T17:39:30.863Z"
   },
   {
    "duration": 0,
    "start_time": "2022-11-02T17:39:30.864Z"
   },
   {
    "duration": 0,
    "start_time": "2022-11-02T17:39:30.865Z"
   },
   {
    "duration": 0,
    "start_time": "2022-11-02T17:39:30.866Z"
   },
   {
    "duration": 0,
    "start_time": "2022-11-02T17:39:30.867Z"
   },
   {
    "duration": 0,
    "start_time": "2022-11-02T17:39:30.868Z"
   },
   {
    "duration": 0,
    "start_time": "2022-11-02T17:39:30.869Z"
   },
   {
    "duration": 0,
    "start_time": "2022-11-02T17:39:30.870Z"
   },
   {
    "duration": 12,
    "start_time": "2022-11-02T17:43:14.881Z"
   },
   {
    "duration": 2,
    "start_time": "2022-11-02T17:43:15.720Z"
   },
   {
    "duration": 4,
    "start_time": "2022-11-02T17:43:16.476Z"
   },
   {
    "duration": 4,
    "start_time": "2022-11-02T17:43:18.780Z"
   },
   {
    "duration": 7,
    "start_time": "2022-11-02T17:43:19.657Z"
   },
   {
    "duration": 3,
    "start_time": "2022-11-02T17:43:22.536Z"
   },
   {
    "duration": 4,
    "start_time": "2022-11-02T17:43:24.838Z"
   },
   {
    "duration": 4,
    "start_time": "2022-11-02T17:43:25.461Z"
   },
   {
    "duration": 7,
    "start_time": "2022-11-02T17:43:27.040Z"
   },
   {
    "duration": 8,
    "start_time": "2022-11-02T17:43:58.684Z"
   },
   {
    "duration": 4,
    "start_time": "2022-11-02T17:44:13.738Z"
   },
   {
    "duration": 5,
    "start_time": "2022-11-02T17:44:17.275Z"
   },
   {
    "duration": 4,
    "start_time": "2022-11-02T17:44:20.683Z"
   },
   {
    "duration": 5,
    "start_time": "2022-11-02T17:44:27.765Z"
   },
   {
    "duration": 5,
    "start_time": "2022-11-02T17:44:34.438Z"
   },
   {
    "duration": 4,
    "start_time": "2022-11-02T17:44:41.058Z"
   },
   {
    "duration": 4,
    "start_time": "2022-11-02T17:45:38.178Z"
   },
   {
    "duration": 7,
    "start_time": "2022-11-02T17:45:54.903Z"
   },
   {
    "duration": 6,
    "start_time": "2022-11-02T17:45:57.949Z"
   },
   {
    "duration": 7,
    "start_time": "2022-11-02T17:47:15.122Z"
   },
   {
    "duration": 5,
    "start_time": "2022-11-02T17:47:57.713Z"
   },
   {
    "duration": 5,
    "start_time": "2022-11-02T17:53:21.068Z"
   },
   {
    "duration": 11,
    "start_time": "2022-11-02T17:53:22.008Z"
   },
   {
    "duration": 3,
    "start_time": "2022-11-02T17:53:22.883Z"
   },
   {
    "duration": 4,
    "start_time": "2022-11-02T17:53:23.551Z"
   },
   {
    "duration": 11,
    "start_time": "2022-11-02T17:53:25.111Z"
   },
   {
    "duration": 4,
    "start_time": "2022-11-02T17:53:25.859Z"
   },
   {
    "duration": 4,
    "start_time": "2022-11-02T17:53:28.824Z"
   },
   {
    "duration": 11,
    "start_time": "2022-11-02T17:53:31.631Z"
   },
   {
    "duration": 2,
    "start_time": "2022-11-02T17:53:32.514Z"
   },
   {
    "duration": 4,
    "start_time": "2022-11-02T17:53:33.522Z"
   },
   {
    "duration": 4,
    "start_time": "2022-11-02T17:53:34.230Z"
   },
   {
    "duration": 6,
    "start_time": "2022-11-02T17:53:35.074Z"
   },
   {
    "duration": 3,
    "start_time": "2022-11-02T17:53:38.954Z"
   },
   {
    "duration": 3,
    "start_time": "2022-11-02T17:53:39.879Z"
   },
   {
    "duration": 3,
    "start_time": "2022-11-02T17:53:40.534Z"
   },
   {
    "duration": 4,
    "start_time": "2022-11-02T17:53:41.113Z"
   },
   {
    "duration": 8,
    "start_time": "2022-11-02T17:53:42.049Z"
   },
   {
    "duration": 4,
    "start_time": "2022-11-02T17:53:58.869Z"
   },
   {
    "duration": 9,
    "start_time": "2022-11-02T17:53:58.875Z"
   },
   {
    "duration": 49,
    "start_time": "2022-11-02T17:53:58.885Z"
   },
   {
    "duration": 10,
    "start_time": "2022-11-02T17:53:58.937Z"
   },
   {
    "duration": 8,
    "start_time": "2022-11-02T17:53:58.949Z"
   },
   {
    "duration": 10,
    "start_time": "2022-11-02T17:53:58.959Z"
   },
   {
    "duration": 39,
    "start_time": "2022-11-02T17:53:58.971Z"
   },
   {
    "duration": 377,
    "start_time": "2022-11-02T17:53:59.012Z"
   },
   {
    "duration": 22,
    "start_time": "2022-11-02T17:53:59.391Z"
   },
   {
    "duration": 4,
    "start_time": "2022-11-02T17:53:59.415Z"
   },
   {
    "duration": 4,
    "start_time": "2022-11-02T17:53:59.420Z"
   },
   {
    "duration": 4,
    "start_time": "2022-11-02T17:53:59.426Z"
   },
   {
    "duration": 7,
    "start_time": "2022-11-02T17:53:59.432Z"
   },
   {
    "duration": 74,
    "start_time": "2022-11-02T17:53:59.440Z"
   },
   {
    "duration": 96,
    "start_time": "2022-11-02T17:53:59.516Z"
   },
   {
    "duration": 6,
    "start_time": "2022-11-02T17:53:59.614Z"
   },
   {
    "duration": 90,
    "start_time": "2022-11-02T17:53:59.622Z"
   },
   {
    "duration": 98,
    "start_time": "2022-11-02T17:53:59.713Z"
   },
   {
    "duration": 97,
    "start_time": "2022-11-02T17:53:59.813Z"
   },
   {
    "duration": 18,
    "start_time": "2022-11-02T17:53:59.912Z"
   },
   {
    "duration": 8,
    "start_time": "2022-11-02T17:53:59.931Z"
   },
   {
    "duration": 10,
    "start_time": "2022-11-02T17:53:59.941Z"
   },
   {
    "duration": 66,
    "start_time": "2022-11-02T17:53:59.952Z"
   },
   {
    "duration": 9,
    "start_time": "2022-11-02T17:54:00.020Z"
   },
   {
    "duration": 5,
    "start_time": "2022-11-02T17:54:00.110Z"
   },
   {
    "duration": 94,
    "start_time": "2022-11-02T17:54:00.116Z"
   },
   {
    "duration": 2,
    "start_time": "2022-11-02T17:54:00.212Z"
   },
   {
    "duration": 5,
    "start_time": "2022-11-02T17:54:00.217Z"
   },
   {
    "duration": 6,
    "start_time": "2022-11-02T17:54:00.223Z"
   },
   {
    "duration": 13,
    "start_time": "2022-11-02T17:54:00.231Z"
   },
   {
    "duration": 4,
    "start_time": "2022-11-02T17:54:00.245Z"
   },
   {
    "duration": 5,
    "start_time": "2022-11-02T17:54:00.251Z"
   },
   {
    "duration": 52,
    "start_time": "2022-11-02T17:54:00.257Z"
   },
   {
    "duration": 10,
    "start_time": "2022-11-02T17:54:00.311Z"
   },
   {
    "duration": 88,
    "start_time": "2022-11-02T17:54:00.322Z"
   },
   {
    "duration": 5,
    "start_time": "2022-11-02T17:57:20.557Z"
   },
   {
    "duration": 14,
    "start_time": "2022-11-02T17:59:58.400Z"
   },
   {
    "duration": 4,
    "start_time": "2022-11-02T18:00:07.462Z"
   },
   {
    "duration": 11,
    "start_time": "2022-11-02T18:00:07.468Z"
   },
   {
    "duration": 62,
    "start_time": "2022-11-02T18:00:07.480Z"
   },
   {
    "duration": 10,
    "start_time": "2022-11-02T18:00:07.544Z"
   },
   {
    "duration": 14,
    "start_time": "2022-11-02T18:00:07.556Z"
   },
   {
    "duration": 12,
    "start_time": "2022-11-02T18:00:07.572Z"
   },
   {
    "duration": 37,
    "start_time": "2022-11-02T18:00:07.586Z"
   },
   {
    "duration": 385,
    "start_time": "2022-11-02T18:00:07.625Z"
   },
   {
    "duration": 8,
    "start_time": "2022-11-02T18:00:08.012Z"
   },
   {
    "duration": 4,
    "start_time": "2022-11-02T18:00:08.022Z"
   },
   {
    "duration": 7,
    "start_time": "2022-11-02T18:00:08.027Z"
   },
   {
    "duration": 5,
    "start_time": "2022-11-02T18:00:08.035Z"
   },
   {
    "duration": 11,
    "start_time": "2022-11-02T18:00:08.042Z"
   },
   {
    "duration": 99,
    "start_time": "2022-11-02T18:00:08.110Z"
   },
   {
    "duration": 4,
    "start_time": "2022-11-02T18:00:08.211Z"
   },
   {
    "duration": 94,
    "start_time": "2022-11-02T18:00:08.216Z"
   },
   {
    "duration": 10,
    "start_time": "2022-11-02T18:00:08.312Z"
   },
   {
    "duration": 192,
    "start_time": "2022-11-02T18:00:08.324Z"
   },
   {
    "duration": 5,
    "start_time": "2022-11-02T18:00:08.518Z"
   },
   {
    "duration": 14,
    "start_time": "2022-11-02T18:00:08.525Z"
   },
   {
    "duration": 5,
    "start_time": "2022-11-02T18:00:08.540Z"
   },
   {
    "duration": 6,
    "start_time": "2022-11-02T18:00:08.546Z"
   },
   {
    "duration": 63,
    "start_time": "2022-11-02T18:00:08.554Z"
   },
   {
    "duration": 7,
    "start_time": "2022-11-02T18:00:08.621Z"
   },
   {
    "duration": 5,
    "start_time": "2022-11-02T18:00:08.710Z"
   },
   {
    "duration": 94,
    "start_time": "2022-11-02T18:00:08.717Z"
   },
   {
    "duration": 3,
    "start_time": "2022-11-02T18:00:08.812Z"
   },
   {
    "duration": 7,
    "start_time": "2022-11-02T18:00:08.816Z"
   },
   {
    "duration": 8,
    "start_time": "2022-11-02T18:00:08.824Z"
   },
   {
    "duration": 19,
    "start_time": "2022-11-02T18:00:08.834Z"
   },
   {
    "duration": 0,
    "start_time": "2022-11-02T18:00:08.854Z"
   },
   {
    "duration": 0,
    "start_time": "2022-11-02T18:00:08.856Z"
   },
   {
    "duration": 0,
    "start_time": "2022-11-02T18:00:08.857Z"
   },
   {
    "duration": 0,
    "start_time": "2022-11-02T18:00:08.858Z"
   },
   {
    "duration": 0,
    "start_time": "2022-11-02T18:00:08.859Z"
   },
   {
    "duration": 7,
    "start_time": "2022-11-02T18:01:05.218Z"
   },
   {
    "duration": 3,
    "start_time": "2022-11-02T18:01:06.736Z"
   },
   {
    "duration": 4,
    "start_time": "2022-11-02T18:01:11.649Z"
   },
   {
    "duration": 4,
    "start_time": "2022-11-02T18:01:12.581Z"
   },
   {
    "duration": 5,
    "start_time": "2022-11-02T18:01:13.298Z"
   },
   {
    "duration": 6,
    "start_time": "2022-11-02T18:01:14.632Z"
   },
   {
    "duration": 6,
    "start_time": "2022-11-02T18:01:55.660Z"
   },
   {
    "duration": 3,
    "start_time": "2022-11-02T18:03:31.662Z"
   },
   {
    "duration": 15,
    "start_time": "2022-11-02T18:03:31.667Z"
   },
   {
    "duration": 44,
    "start_time": "2022-11-02T18:03:31.683Z"
   },
   {
    "duration": 9,
    "start_time": "2022-11-02T18:03:31.729Z"
   },
   {
    "duration": 14,
    "start_time": "2022-11-02T18:03:31.740Z"
   },
   {
    "duration": 12,
    "start_time": "2022-11-02T18:03:31.756Z"
   },
   {
    "duration": 17,
    "start_time": "2022-11-02T18:03:31.769Z"
   },
   {
    "duration": 403,
    "start_time": "2022-11-02T18:03:31.787Z"
   },
   {
    "duration": 16,
    "start_time": "2022-11-02T18:03:32.194Z"
   },
   {
    "duration": 5,
    "start_time": "2022-11-02T18:03:32.211Z"
   },
   {
    "duration": 6,
    "start_time": "2022-11-02T18:03:32.217Z"
   },
   {
    "duration": 6,
    "start_time": "2022-11-02T18:03:32.224Z"
   },
   {
    "duration": 77,
    "start_time": "2022-11-02T18:03:32.231Z"
   },
   {
    "duration": 102,
    "start_time": "2022-11-02T18:03:32.310Z"
   },
   {
    "duration": 5,
    "start_time": "2022-11-02T18:03:32.414Z"
   },
   {
    "duration": 8,
    "start_time": "2022-11-02T18:03:32.421Z"
   },
   {
    "duration": 179,
    "start_time": "2022-11-02T18:03:32.431Z"
   },
   {
    "duration": 3,
    "start_time": "2022-11-02T18:03:32.612Z"
   },
   {
    "duration": 11,
    "start_time": "2022-11-02T18:03:32.616Z"
   },
   {
    "duration": 81,
    "start_time": "2022-11-02T18:03:32.628Z"
   },
   {
    "duration": 3,
    "start_time": "2022-11-02T18:03:32.711Z"
   },
   {
    "duration": 19,
    "start_time": "2022-11-02T18:03:32.716Z"
   },
   {
    "duration": 13,
    "start_time": "2022-11-02T18:03:32.810Z"
   },
   {
    "duration": 85,
    "start_time": "2022-11-02T18:03:32.827Z"
   },
   {
    "duration": 10,
    "start_time": "2022-11-02T18:03:32.913Z"
   },
   {
    "duration": 86,
    "start_time": "2022-11-02T18:03:32.924Z"
   },
   {
    "duration": 0,
    "start_time": "2022-11-02T18:03:33.013Z"
   },
   {
    "duration": 0,
    "start_time": "2022-11-02T18:03:33.014Z"
   },
   {
    "duration": 0,
    "start_time": "2022-11-02T18:03:33.014Z"
   },
   {
    "duration": 0,
    "start_time": "2022-11-02T18:03:33.016Z"
   },
   {
    "duration": 0,
    "start_time": "2022-11-02T18:03:33.018Z"
   },
   {
    "duration": 0,
    "start_time": "2022-11-02T18:03:33.019Z"
   },
   {
    "duration": 0,
    "start_time": "2022-11-02T18:03:33.021Z"
   },
   {
    "duration": 0,
    "start_time": "2022-11-02T18:03:33.022Z"
   },
   {
    "duration": 0,
    "start_time": "2022-11-02T18:03:33.024Z"
   },
   {
    "duration": 10,
    "start_time": "2022-11-02T18:03:38.781Z"
   },
   {
    "duration": 4,
    "start_time": "2022-11-02T18:03:55.139Z"
   },
   {
    "duration": 4,
    "start_time": "2022-11-02T18:04:00.789Z"
   },
   {
    "duration": 6,
    "start_time": "2022-11-02T18:04:02.395Z"
   },
   {
    "duration": 7,
    "start_time": "2022-11-02T18:04:16.532Z"
   },
   {
    "duration": 5,
    "start_time": "2022-11-02T18:04:56.299Z"
   },
   {
    "duration": 4,
    "start_time": "2022-11-02T18:05:15.288Z"
   },
   {
    "duration": 5,
    "start_time": "2022-11-02T18:05:17.480Z"
   },
   {
    "duration": 7,
    "start_time": "2022-11-02T18:05:44.720Z"
   },
   {
    "duration": 5,
    "start_time": "2022-11-02T18:06:32.945Z"
   },
   {
    "duration": 7,
    "start_time": "2022-11-02T18:06:33.885Z"
   },
   {
    "duration": 5,
    "start_time": "2022-11-02T18:06:35.397Z"
   },
   {
    "duration": 2,
    "start_time": "2022-11-02T18:06:35.981Z"
   },
   {
    "duration": 4,
    "start_time": "2022-11-02T18:06:36.701Z"
   },
   {
    "duration": 4,
    "start_time": "2022-11-02T18:06:37.211Z"
   },
   {
    "duration": 7,
    "start_time": "2022-11-02T18:06:38.284Z"
   },
   {
    "duration": 20,
    "start_time": "2022-11-02T18:11:23.109Z"
   },
   {
    "duration": 5,
    "start_time": "2022-11-02T18:11:36.566Z"
   },
   {
    "duration": 9,
    "start_time": "2022-11-02T18:11:59.433Z"
   },
   {
    "duration": 7,
    "start_time": "2022-11-02T18:12:13.646Z"
   },
   {
    "duration": 9,
    "start_time": "2022-11-02T18:16:48.923Z"
   },
   {
    "duration": 5,
    "start_time": "2022-11-02T18:16:59.241Z"
   },
   {
    "duration": 7,
    "start_time": "2022-11-02T18:17:24.931Z"
   },
   {
    "duration": 6,
    "start_time": "2022-11-02T18:17:33.552Z"
   },
   {
    "duration": 7,
    "start_time": "2022-11-02T18:17:37.121Z"
   },
   {
    "duration": 5,
    "start_time": "2022-11-02T18:17:49.106Z"
   },
   {
    "duration": 2,
    "start_time": "2022-11-02T18:17:49.707Z"
   },
   {
    "duration": 8,
    "start_time": "2022-11-02T18:17:51.006Z"
   },
   {
    "duration": 4,
    "start_time": "2022-11-02T18:17:58.842Z"
   },
   {
    "duration": 9,
    "start_time": "2022-11-02T18:17:58.848Z"
   },
   {
    "duration": 45,
    "start_time": "2022-11-02T18:17:58.859Z"
   },
   {
    "duration": 9,
    "start_time": "2022-11-02T18:17:58.905Z"
   },
   {
    "duration": 21,
    "start_time": "2022-11-02T18:17:58.916Z"
   },
   {
    "duration": 33,
    "start_time": "2022-11-02T18:17:58.938Z"
   },
   {
    "duration": 24,
    "start_time": "2022-11-02T18:17:58.972Z"
   },
   {
    "duration": 384,
    "start_time": "2022-11-02T18:17:58.998Z"
   },
   {
    "duration": 8,
    "start_time": "2022-11-02T18:17:59.383Z"
   },
   {
    "duration": 19,
    "start_time": "2022-11-02T18:17:59.392Z"
   },
   {
    "duration": 7,
    "start_time": "2022-11-02T18:17:59.413Z"
   },
   {
    "duration": 4,
    "start_time": "2022-11-02T18:17:59.422Z"
   },
   {
    "duration": 6,
    "start_time": "2022-11-02T18:17:59.427Z"
   },
   {
    "duration": 180,
    "start_time": "2022-11-02T18:17:59.435Z"
   },
   {
    "duration": 5,
    "start_time": "2022-11-02T18:17:59.617Z"
   },
   {
    "duration": 5,
    "start_time": "2022-11-02T18:17:59.624Z"
   },
   {
    "duration": 83,
    "start_time": "2022-11-02T18:17:59.630Z"
   },
   {
    "duration": 4,
    "start_time": "2022-11-02T18:17:59.715Z"
   },
   {
    "duration": 299,
    "start_time": "2022-11-02T18:17:59.721Z"
   },
   {
    "duration": 21,
    "start_time": "2022-11-02T18:18:00.022Z"
   },
   {
    "duration": 7,
    "start_time": "2022-11-02T18:18:00.044Z"
   },
   {
    "duration": 57,
    "start_time": "2022-11-02T18:18:00.053Z"
   },
   {
    "duration": 10,
    "start_time": "2022-11-02T18:18:00.112Z"
   },
   {
    "duration": 89,
    "start_time": "2022-11-02T18:18:00.124Z"
   },
   {
    "duration": 6,
    "start_time": "2022-11-02T18:18:00.215Z"
   },
   {
    "duration": 88,
    "start_time": "2022-11-02T18:18:00.222Z"
   },
   {
    "duration": 5,
    "start_time": "2022-11-02T18:18:00.312Z"
   },
   {
    "duration": 14,
    "start_time": "2022-11-02T18:18:00.319Z"
   },
   {
    "duration": 176,
    "start_time": "2022-11-02T18:18:00.336Z"
   },
   {
    "duration": 18,
    "start_time": "2022-11-02T18:18:00.513Z"
   },
   {
    "duration": 26,
    "start_time": "2022-11-02T18:18:00.532Z"
   },
   {
    "duration": 4,
    "start_time": "2022-11-02T18:22:59.078Z"
   },
   {
    "duration": 7,
    "start_time": "2022-11-02T18:22:59.084Z"
   },
   {
    "duration": 34,
    "start_time": "2022-11-02T18:22:59.092Z"
   },
   {
    "duration": 9,
    "start_time": "2022-11-02T18:22:59.128Z"
   },
   {
    "duration": 12,
    "start_time": "2022-11-02T18:22:59.138Z"
   },
   {
    "duration": 10,
    "start_time": "2022-11-02T18:22:59.152Z"
   },
   {
    "duration": 16,
    "start_time": "2022-11-02T18:22:59.164Z"
   },
   {
    "duration": 406,
    "start_time": "2022-11-02T18:22:59.181Z"
   },
   {
    "duration": 8,
    "start_time": "2022-11-02T18:22:59.590Z"
   },
   {
    "duration": 4,
    "start_time": "2022-11-02T18:22:59.609Z"
   },
   {
    "duration": 5,
    "start_time": "2022-11-02T18:22:59.614Z"
   },
   {
    "duration": 8,
    "start_time": "2022-11-02T18:22:59.620Z"
   },
   {
    "duration": 9,
    "start_time": "2022-11-02T18:22:59.629Z"
   },
   {
    "duration": 169,
    "start_time": "2022-11-02T18:22:59.642Z"
   },
   {
    "duration": 7,
    "start_time": "2022-11-02T18:22:59.813Z"
   },
   {
    "duration": 9,
    "start_time": "2022-11-02T18:22:59.821Z"
   },
   {
    "duration": 81,
    "start_time": "2022-11-02T18:22:59.831Z"
   },
   {
    "duration": 99,
    "start_time": "2022-11-02T18:22:59.914Z"
   },
   {
    "duration": 11,
    "start_time": "2022-11-02T18:23:00.015Z"
   },
   {
    "duration": 17,
    "start_time": "2022-11-02T18:23:00.028Z"
   },
   {
    "duration": 17,
    "start_time": "2022-11-02T18:23:00.047Z"
   },
   {
    "duration": 44,
    "start_time": "2022-11-02T18:23:00.066Z"
   },
   {
    "duration": 97,
    "start_time": "2022-11-02T18:23:00.112Z"
   },
   {
    "duration": 4,
    "start_time": "2022-11-02T18:23:00.212Z"
   },
   {
    "duration": 96,
    "start_time": "2022-11-02T18:23:00.218Z"
   },
   {
    "duration": 0,
    "start_time": "2022-11-02T18:23:00.315Z"
   },
   {
    "duration": 0,
    "start_time": "2022-11-02T18:23:00.316Z"
   },
   {
    "duration": 0,
    "start_time": "2022-11-02T18:23:00.317Z"
   },
   {
    "duration": 0,
    "start_time": "2022-11-02T18:23:00.317Z"
   },
   {
    "duration": 0,
    "start_time": "2022-11-02T18:23:00.318Z"
   },
   {
    "duration": 6,
    "start_time": "2022-11-02T18:23:30.284Z"
   },
   {
    "duration": 11,
    "start_time": "2022-11-02T18:23:52.406Z"
   },
   {
    "duration": 6,
    "start_time": "2022-11-02T18:23:58.876Z"
   },
   {
    "duration": 3,
    "start_time": "2022-11-02T18:24:00.041Z"
   },
   {
    "duration": 9,
    "start_time": "2022-11-02T18:24:01.162Z"
   },
   {
    "duration": 10,
    "start_time": "2022-11-02T18:24:11.267Z"
   },
   {
    "duration": 5,
    "start_time": "2022-11-02T18:24:29.086Z"
   },
   {
    "duration": 6,
    "start_time": "2022-11-02T18:24:38.103Z"
   },
   {
    "duration": 8,
    "start_time": "2022-11-02T18:24:56.092Z"
   },
   {
    "duration": 6,
    "start_time": "2022-11-02T18:25:12.205Z"
   },
   {
    "duration": 4,
    "start_time": "2022-11-02T18:25:17.269Z"
   },
   {
    "duration": 7,
    "start_time": "2022-11-02T18:25:17.275Z"
   },
   {
    "duration": 40,
    "start_time": "2022-11-02T18:25:17.284Z"
   },
   {
    "duration": 10,
    "start_time": "2022-11-02T18:25:17.325Z"
   },
   {
    "duration": 10,
    "start_time": "2022-11-02T18:25:17.336Z"
   },
   {
    "duration": 17,
    "start_time": "2022-11-02T18:25:17.348Z"
   },
   {
    "duration": 16,
    "start_time": "2022-11-02T18:25:17.366Z"
   },
   {
    "duration": 414,
    "start_time": "2022-11-02T18:25:17.383Z"
   },
   {
    "duration": 13,
    "start_time": "2022-11-02T18:25:17.799Z"
   },
   {
    "duration": 4,
    "start_time": "2022-11-02T18:25:17.814Z"
   },
   {
    "duration": 5,
    "start_time": "2022-11-02T18:25:17.819Z"
   },
   {
    "duration": 5,
    "start_time": "2022-11-02T18:25:17.825Z"
   },
   {
    "duration": 7,
    "start_time": "2022-11-02T18:25:17.831Z"
   },
   {
    "duration": 169,
    "start_time": "2022-11-02T18:25:17.840Z"
   },
   {
    "duration": 5,
    "start_time": "2022-11-02T18:25:18.011Z"
   },
   {
    "duration": 11,
    "start_time": "2022-11-02T18:25:18.017Z"
   },
   {
    "duration": 83,
    "start_time": "2022-11-02T18:25:18.030Z"
   },
   {
    "duration": 98,
    "start_time": "2022-11-02T18:25:18.118Z"
   },
   {
    "duration": 98,
    "start_time": "2022-11-02T18:25:18.218Z"
   },
   {
    "duration": 10,
    "start_time": "2022-11-02T18:25:18.318Z"
   },
   {
    "duration": 4,
    "start_time": "2022-11-02T18:25:18.329Z"
   },
   {
    "duration": 12,
    "start_time": "2022-11-02T18:25:18.334Z"
   },
   {
    "duration": 69,
    "start_time": "2022-11-02T18:25:18.348Z"
   },
   {
    "duration": 6,
    "start_time": "2022-11-02T18:25:18.419Z"
   },
   {
    "duration": 83,
    "start_time": "2022-11-02T18:25:18.427Z"
   },
   {
    "duration": 6,
    "start_time": "2022-11-02T18:25:18.512Z"
   },
   {
    "duration": 98,
    "start_time": "2022-11-02T18:25:18.520Z"
   },
   {
    "duration": 95,
    "start_time": "2022-11-02T18:25:18.622Z"
   },
   {
    "duration": 3,
    "start_time": "2022-11-02T18:25:18.719Z"
   },
   {
    "duration": 9,
    "start_time": "2022-11-02T18:25:18.723Z"
   },
   {
    "duration": 10,
    "start_time": "2022-11-02T18:27:30.111Z"
   },
   {
    "duration": 7,
    "start_time": "2022-11-02T18:28:19.699Z"
   },
   {
    "duration": 8,
    "start_time": "2022-11-02T18:28:23.806Z"
   },
   {
    "duration": 3,
    "start_time": "2022-11-02T18:28:33.643Z"
   },
   {
    "duration": 8,
    "start_time": "2022-11-02T18:28:35.102Z"
   },
   {
    "duration": 6,
    "start_time": "2022-11-02T18:32:25.455Z"
   },
   {
    "duration": 4,
    "start_time": "2022-11-02T18:38:04.265Z"
   },
   {
    "duration": 9,
    "start_time": "2022-11-02T18:38:06.324Z"
   },
   {
    "duration": 3,
    "start_time": "2022-11-02T18:38:07.979Z"
   },
   {
    "duration": 4,
    "start_time": "2022-11-02T18:38:08.482Z"
   },
   {
    "duration": 10,
    "start_time": "2022-11-02T18:38:09.643Z"
   },
   {
    "duration": 4,
    "start_time": "2022-11-02T18:38:10.359Z"
   },
   {
    "duration": 4,
    "start_time": "2022-11-02T18:38:11.043Z"
   },
   {
    "duration": 6,
    "start_time": "2022-11-02T18:38:13.564Z"
   },
   {
    "duration": 94,
    "start_time": "2022-11-02T18:38:14.316Z"
   },
   {
    "duration": 4,
    "start_time": "2022-11-02T18:38:15.788Z"
   },
   {
    "duration": 9,
    "start_time": "2022-11-02T18:38:16.374Z"
   },
   {
    "duration": 8,
    "start_time": "2022-11-02T18:38:43.773Z"
   },
   {
    "duration": 3,
    "start_time": "2022-11-02T18:38:53.966Z"
   },
   {
    "duration": 3,
    "start_time": "2022-11-02T18:59:54.610Z"
   },
   {
    "duration": 5,
    "start_time": "2022-11-02T19:02:06.665Z"
   },
   {
    "duration": 8,
    "start_time": "2022-11-02T19:02:20.901Z"
   },
   {
    "duration": 4,
    "start_time": "2022-11-02T19:02:24.147Z"
   },
   {
    "duration": 12,
    "start_time": "2022-11-02T19:02:24.587Z"
   },
   {
    "duration": 206,
    "start_time": "2022-11-02T19:02:30.407Z"
   },
   {
    "duration": 60,
    "start_time": "2022-11-02T19:02:46.952Z"
   },
   {
    "duration": 4,
    "start_time": "2022-11-02T19:03:57.764Z"
   },
   {
    "duration": 14,
    "start_time": "2022-11-02T19:03:58.517Z"
   },
   {
    "duration": 5,
    "start_time": "2022-11-02T19:04:09.768Z"
   },
   {
    "duration": 9,
    "start_time": "2022-11-02T19:04:10.282Z"
   },
   {
    "duration": 4,
    "start_time": "2022-11-02T19:04:18.261Z"
   },
   {
    "duration": 5,
    "start_time": "2022-11-02T19:04:20.432Z"
   },
   {
    "duration": 3,
    "start_time": "2022-11-02T19:04:24.982Z"
   },
   {
    "duration": 13,
    "start_time": "2022-11-02T19:04:41.711Z"
   },
   {
    "duration": 3,
    "start_time": "2022-11-02T19:04:52.450Z"
   },
   {
    "duration": 5,
    "start_time": "2022-11-02T19:05:02.813Z"
   },
   {
    "duration": 8,
    "start_time": "2022-11-02T19:12:34.044Z"
   },
   {
    "duration": 7,
    "start_time": "2022-11-02T19:12:34.816Z"
   },
   {
    "duration": 3,
    "start_time": "2022-11-02T19:12:35.581Z"
   },
   {
    "duration": 8,
    "start_time": "2022-11-02T19:12:36.292Z"
   },
   {
    "duration": 5,
    "start_time": "2022-11-02T19:12:37.014Z"
   },
   {
    "duration": 4,
    "start_time": "2022-11-02T19:13:22.107Z"
   },
   {
    "duration": 4,
    "start_time": "2022-11-02T19:13:27.047Z"
   },
   {
    "duration": 9,
    "start_time": "2022-11-02T19:13:58.333Z"
   },
   {
    "duration": 13,
    "start_time": "2022-11-02T19:14:07.238Z"
   },
   {
    "duration": 8,
    "start_time": "2022-11-02T19:14:12.496Z"
   },
   {
    "duration": 7,
    "start_time": "2022-11-02T19:14:19.442Z"
   },
   {
    "duration": 5,
    "start_time": "2022-11-02T19:14:32.552Z"
   },
   {
    "duration": 4,
    "start_time": "2022-11-02T19:19:23.227Z"
   },
   {
    "duration": 3,
    "start_time": "2022-11-02T19:20:22.379Z"
   },
   {
    "duration": 4,
    "start_time": "2022-11-02T19:27:32.948Z"
   },
   {
    "duration": 6,
    "start_time": "2022-11-02T19:27:32.954Z"
   },
   {
    "duration": 38,
    "start_time": "2022-11-02T19:27:32.962Z"
   },
   {
    "duration": 11,
    "start_time": "2022-11-02T19:27:33.003Z"
   },
   {
    "duration": 9,
    "start_time": "2022-11-02T19:27:33.015Z"
   },
   {
    "duration": 16,
    "start_time": "2022-11-02T19:27:33.026Z"
   },
   {
    "duration": 17,
    "start_time": "2022-11-02T19:27:33.044Z"
   },
   {
    "duration": 422,
    "start_time": "2022-11-02T19:27:33.062Z"
   },
   {
    "duration": 7,
    "start_time": "2022-11-02T19:27:33.487Z"
   },
   {
    "duration": 15,
    "start_time": "2022-11-02T19:27:33.496Z"
   },
   {
    "duration": 7,
    "start_time": "2022-11-02T19:27:33.512Z"
   },
   {
    "duration": 4,
    "start_time": "2022-11-02T19:27:33.521Z"
   },
   {
    "duration": 8,
    "start_time": "2022-11-02T19:27:33.526Z"
   },
   {
    "duration": 105,
    "start_time": "2022-11-02T19:27:33.608Z"
   },
   {
    "duration": 9,
    "start_time": "2022-11-02T19:27:33.715Z"
   },
   {
    "duration": 10,
    "start_time": "2022-11-02T19:27:33.726Z"
   },
   {
    "duration": 9,
    "start_time": "2022-11-02T19:27:33.808Z"
   },
   {
    "duration": 97,
    "start_time": "2022-11-02T19:27:33.819Z"
   },
   {
    "duration": 97,
    "start_time": "2022-11-02T19:27:33.918Z"
   },
   {
    "duration": 20,
    "start_time": "2022-11-02T19:27:34.017Z"
   },
   {
    "duration": 6,
    "start_time": "2022-11-02T19:27:34.039Z"
   },
   {
    "duration": 63,
    "start_time": "2022-11-02T19:27:34.046Z"
   },
   {
    "duration": 4,
    "start_time": "2022-11-02T19:27:34.111Z"
   },
   {
    "duration": 6,
    "start_time": "2022-11-02T19:27:34.119Z"
   },
   {
    "duration": 87,
    "start_time": "2022-11-02T19:27:34.127Z"
   },
   {
    "duration": 94,
    "start_time": "2022-11-02T19:27:34.216Z"
   },
   {
    "duration": 102,
    "start_time": "2022-11-02T19:27:34.312Z"
   },
   {
    "duration": 198,
    "start_time": "2022-11-02T19:27:34.415Z"
   },
   {
    "duration": 10,
    "start_time": "2022-11-02T19:27:58.425Z"
   },
   {
    "duration": 3,
    "start_time": "2022-11-02T19:28:02.587Z"
   },
   {
    "duration": 11,
    "start_time": "2022-11-02T19:28:02.592Z"
   },
   {
    "duration": 49,
    "start_time": "2022-11-02T19:28:02.605Z"
   },
   {
    "duration": 11,
    "start_time": "2022-11-02T19:28:02.656Z"
   },
   {
    "duration": 11,
    "start_time": "2022-11-02T19:28:02.669Z"
   },
   {
    "duration": 9,
    "start_time": "2022-11-02T19:28:02.682Z"
   },
   {
    "duration": 16,
    "start_time": "2022-11-02T19:28:02.692Z"
   },
   {
    "duration": 376,
    "start_time": "2022-11-02T19:28:02.710Z"
   },
   {
    "duration": 22,
    "start_time": "2022-11-02T19:28:03.088Z"
   },
   {
    "duration": 4,
    "start_time": "2022-11-02T19:28:03.113Z"
   },
   {
    "duration": 18,
    "start_time": "2022-11-02T19:28:03.119Z"
   },
   {
    "duration": 7,
    "start_time": "2022-11-02T19:28:03.139Z"
   },
   {
    "duration": 19,
    "start_time": "2022-11-02T19:28:03.148Z"
   },
   {
    "duration": 50,
    "start_time": "2022-11-02T19:28:03.169Z"
   },
   {
    "duration": 96,
    "start_time": "2022-11-02T19:28:03.222Z"
   },
   {
    "duration": 10,
    "start_time": "2022-11-02T19:28:03.320Z"
   },
   {
    "duration": 80,
    "start_time": "2022-11-02T19:28:03.332Z"
   },
   {
    "duration": 197,
    "start_time": "2022-11-02T19:28:03.413Z"
   },
   {
    "duration": 7,
    "start_time": "2022-11-02T19:28:03.612Z"
   },
   {
    "duration": 16,
    "start_time": "2022-11-02T19:28:03.620Z"
   },
   {
    "duration": 28,
    "start_time": "2022-11-02T19:28:03.638Z"
   },
   {
    "duration": 49,
    "start_time": "2022-11-02T19:28:03.668Z"
   },
   {
    "duration": 12,
    "start_time": "2022-11-02T19:28:03.719Z"
   },
   {
    "duration": 102,
    "start_time": "2022-11-02T19:28:03.812Z"
   },
   {
    "duration": 0,
    "start_time": "2022-11-02T19:28:03.916Z"
   },
   {
    "duration": 0,
    "start_time": "2022-11-02T19:28:03.917Z"
   },
   {
    "duration": 0,
    "start_time": "2022-11-02T19:28:03.918Z"
   },
   {
    "duration": 0,
    "start_time": "2022-11-02T19:28:03.919Z"
   },
   {
    "duration": 1395,
    "start_time": "2022-11-02T19:28:38.576Z"
   },
   {
    "duration": 3,
    "start_time": "2022-11-02T19:28:39.973Z"
   },
   {
    "duration": 48,
    "start_time": "2022-11-02T19:28:39.977Z"
   },
   {
    "duration": 10,
    "start_time": "2022-11-02T19:28:40.027Z"
   },
   {
    "duration": 17,
    "start_time": "2022-11-02T19:28:40.039Z"
   },
   {
    "duration": 12,
    "start_time": "2022-11-02T19:28:40.057Z"
   },
   {
    "duration": 18,
    "start_time": "2022-11-02T19:28:40.071Z"
   },
   {
    "duration": 388,
    "start_time": "2022-11-02T19:28:40.108Z"
   },
   {
    "duration": 17,
    "start_time": "2022-11-02T19:28:40.497Z"
   },
   {
    "duration": 3,
    "start_time": "2022-11-02T19:28:40.517Z"
   },
   {
    "duration": 5,
    "start_time": "2022-11-02T19:28:40.521Z"
   },
   {
    "duration": 6,
    "start_time": "2022-11-02T19:28:40.527Z"
   },
   {
    "duration": 13,
    "start_time": "2022-11-02T19:28:40.534Z"
   },
   {
    "duration": 67,
    "start_time": "2022-11-02T19:28:40.549Z"
   },
   {
    "duration": 98,
    "start_time": "2022-11-02T19:28:40.618Z"
   },
   {
    "duration": 6,
    "start_time": "2022-11-02T19:28:40.718Z"
   },
   {
    "duration": 84,
    "start_time": "2022-11-02T19:28:40.726Z"
   },
   {
    "duration": 101,
    "start_time": "2022-11-02T19:28:40.812Z"
   },
   {
    "duration": 8,
    "start_time": "2022-11-02T19:28:40.915Z"
   },
   {
    "duration": 21,
    "start_time": "2022-11-02T19:28:40.925Z"
   },
   {
    "duration": 4,
    "start_time": "2022-11-02T19:28:40.948Z"
   },
   {
    "duration": 60,
    "start_time": "2022-11-02T19:28:40.954Z"
   },
   {
    "duration": 7,
    "start_time": "2022-11-02T19:28:41.016Z"
   },
   {
    "duration": 202,
    "start_time": "2022-11-02T19:28:41.027Z"
   },
   {
    "duration": 0,
    "start_time": "2022-11-02T19:28:41.231Z"
   },
   {
    "duration": 0,
    "start_time": "2022-11-02T19:28:41.233Z"
   },
   {
    "duration": 0,
    "start_time": "2022-11-02T19:28:41.234Z"
   },
   {
    "duration": 0,
    "start_time": "2022-11-02T19:28:41.236Z"
   },
   {
    "duration": 5,
    "start_time": "2022-11-02T19:28:52.959Z"
   },
   {
    "duration": 6,
    "start_time": "2022-11-02T19:28:55.546Z"
   },
   {
    "duration": 3,
    "start_time": "2022-11-02T19:28:56.647Z"
   },
   {
    "duration": 7,
    "start_time": "2022-11-02T19:28:57.541Z"
   },
   {
    "duration": 3,
    "start_time": "2022-11-02T19:28:58.155Z"
   },
   {
    "duration": 3,
    "start_time": "2022-11-02T20:02:54.017Z"
   },
   {
    "duration": 33,
    "start_time": "2022-11-02T20:03:21.104Z"
   },
   {
    "duration": 12,
    "start_time": "2022-11-02T20:03:21.318Z"
   },
   {
    "duration": 8,
    "start_time": "2022-11-02T20:03:23.625Z"
   },
   {
    "duration": 11,
    "start_time": "2022-11-02T20:03:42.793Z"
   },
   {
    "duration": 18,
    "start_time": "2022-11-02T20:03:53.568Z"
   },
   {
    "duration": 4,
    "start_time": "2022-11-02T20:06:49.470Z"
   },
   {
    "duration": 4,
    "start_time": "2022-11-02T20:07:20.974Z"
   },
   {
    "duration": 5,
    "start_time": "2022-11-02T20:16:00.464Z"
   },
   {
    "duration": 7,
    "start_time": "2022-11-02T20:18:44.562Z"
   },
   {
    "duration": 11,
    "start_time": "2022-11-02T20:19:16.495Z"
   },
   {
    "duration": 3,
    "start_time": "2022-11-02T20:19:17.217Z"
   },
   {
    "duration": 11,
    "start_time": "2022-11-02T20:19:18.158Z"
   },
   {
    "duration": 4,
    "start_time": "2022-11-02T20:19:18.695Z"
   },
   {
    "duration": 3,
    "start_time": "2022-11-02T20:25:29.577Z"
   },
   {
    "duration": 8,
    "start_time": "2022-11-02T20:25:29.582Z"
   },
   {
    "duration": 36,
    "start_time": "2022-11-02T20:25:29.592Z"
   },
   {
    "duration": 9,
    "start_time": "2022-11-02T20:25:29.630Z"
   },
   {
    "duration": 9,
    "start_time": "2022-11-02T20:25:29.642Z"
   },
   {
    "duration": 10,
    "start_time": "2022-11-02T20:25:29.653Z"
   },
   {
    "duration": 17,
    "start_time": "2022-11-02T20:25:29.665Z"
   },
   {
    "duration": 397,
    "start_time": "2022-11-02T20:25:29.684Z"
   },
   {
    "duration": 9,
    "start_time": "2022-11-02T20:25:30.083Z"
   },
   {
    "duration": 5,
    "start_time": "2022-11-02T20:25:30.108Z"
   },
   {
    "duration": 8,
    "start_time": "2022-11-02T20:25:30.117Z"
   },
   {
    "duration": 11,
    "start_time": "2022-11-02T20:25:30.127Z"
   },
   {
    "duration": 19,
    "start_time": "2022-11-02T20:25:30.139Z"
   },
   {
    "duration": 103,
    "start_time": "2022-11-02T20:25:30.208Z"
   },
   {
    "duration": 12,
    "start_time": "2022-11-02T20:25:30.313Z"
   },
   {
    "duration": 15,
    "start_time": "2022-11-02T20:25:30.326Z"
   },
   {
    "duration": 72,
    "start_time": "2022-11-02T20:25:30.342Z"
   },
   {
    "duration": 196,
    "start_time": "2022-11-02T20:25:30.415Z"
   },
   {
    "duration": 15,
    "start_time": "2022-11-02T20:25:30.612Z"
   },
   {
    "duration": 33,
    "start_time": "2022-11-02T20:25:30.629Z"
   },
   {
    "duration": 20,
    "start_time": "2022-11-02T20:25:30.664Z"
   },
   {
    "duration": 33,
    "start_time": "2022-11-02T20:25:30.686Z"
   },
   {
    "duration": 7,
    "start_time": "2022-11-02T20:25:30.721Z"
   },
   {
    "duration": 6,
    "start_time": "2022-11-02T20:25:30.809Z"
   },
   {
    "duration": 94,
    "start_time": "2022-11-02T20:25:30.819Z"
   },
   {
    "duration": 99,
    "start_time": "2022-11-02T20:25:30.914Z"
   },
   {
    "duration": 95,
    "start_time": "2022-11-02T20:25:31.015Z"
   },
   {
    "duration": 103,
    "start_time": "2022-11-02T20:25:31.113Z"
   },
   {
    "duration": 5,
    "start_time": "2022-11-02T20:26:41.799Z"
   },
   {
    "duration": 57,
    "start_time": "2022-11-02T20:28:28.991Z"
   },
   {
    "duration": 3,
    "start_time": "2022-11-02T20:30:43.938Z"
   },
   {
    "duration": 59,
    "start_time": "2022-11-02T20:31:25.114Z"
   },
   {
    "duration": 6,
    "start_time": "2022-11-02T20:31:29.836Z"
   },
   {
    "duration": 1373,
    "start_time": "2022-11-02T20:54:44.045Z"
   },
   {
    "duration": 2,
    "start_time": "2022-11-02T20:54:45.420Z"
   },
   {
    "duration": 39,
    "start_time": "2022-11-02T20:54:47.116Z"
   },
   {
    "duration": 11,
    "start_time": "2022-11-02T20:54:49.094Z"
   },
   {
    "duration": 13,
    "start_time": "2022-11-02T20:54:54.811Z"
   },
   {
    "duration": 13,
    "start_time": "2022-11-02T20:54:55.597Z"
   },
   {
    "duration": 17,
    "start_time": "2022-11-02T20:54:57.095Z"
   },
   {
    "duration": 396,
    "start_time": "2022-11-02T20:54:58.566Z"
   },
   {
    "duration": 7,
    "start_time": "2022-11-02T20:55:01.024Z"
   },
   {
    "duration": 4,
    "start_time": "2022-11-02T20:55:05.666Z"
   },
   {
    "duration": 4,
    "start_time": "2022-11-02T20:55:06.890Z"
   },
   {
    "duration": 5,
    "start_time": "2022-11-02T20:55:07.650Z"
   },
   {
    "duration": 10,
    "start_time": "2022-11-02T20:55:08.557Z"
   },
   {
    "duration": 4,
    "start_time": "2022-11-02T20:55:11.149Z"
   },
   {
    "duration": 4,
    "start_time": "2022-11-02T20:55:12.564Z"
   },
   {
    "duration": 4,
    "start_time": "2022-11-02T20:55:13.740Z"
   },
   {
    "duration": 8,
    "start_time": "2022-11-02T20:55:14.325Z"
   },
   {
    "duration": 3,
    "start_time": "2022-11-02T20:55:15.413Z"
   },
   {
    "duration": 5,
    "start_time": "2022-11-02T20:55:19.426Z"
   },
   {
    "duration": 8,
    "start_time": "2022-11-02T20:55:21.914Z"
   },
   {
    "duration": 3,
    "start_time": "2022-11-02T20:55:22.662Z"
   },
   {
    "duration": 11,
    "start_time": "2022-11-02T20:55:23.356Z"
   },
   {
    "duration": 3,
    "start_time": "2022-11-02T20:55:24.187Z"
   },
   {
    "duration": 5,
    "start_time": "2022-11-02T20:55:26.696Z"
   },
   {
    "duration": 7,
    "start_time": "2022-11-02T20:55:27.949Z"
   },
   {
    "duration": 3,
    "start_time": "2022-11-02T20:55:30.613Z"
   },
   {
    "duration": 8,
    "start_time": "2022-11-02T20:55:31.492Z"
   },
   {
    "duration": 3,
    "start_time": "2022-11-02T20:55:32.170Z"
   },
   {
    "duration": 1682,
    "start_time": "2022-11-11T06:54:09.908Z"
   },
   {
    "duration": 4,
    "start_time": "2022-11-11T06:54:11.592Z"
   },
   {
    "duration": 114,
    "start_time": "2022-11-11T06:54:11.598Z"
   },
   {
    "duration": 17,
    "start_time": "2022-11-11T06:54:11.715Z"
   },
   {
    "duration": 18,
    "start_time": "2022-11-11T06:54:11.734Z"
   },
   {
    "duration": 18,
    "start_time": "2022-11-11T06:54:11.754Z"
   },
   {
    "duration": 21,
    "start_time": "2022-11-11T06:54:11.775Z"
   },
   {
    "duration": 457,
    "start_time": "2022-11-11T06:54:11.818Z"
   },
   {
    "duration": 8,
    "start_time": "2022-11-11T06:54:12.276Z"
   },
   {
    "duration": 5,
    "start_time": "2022-11-11T06:54:12.287Z"
   },
   {
    "duration": 25,
    "start_time": "2022-11-11T06:54:12.294Z"
   },
   {
    "duration": 12,
    "start_time": "2022-11-11T06:54:12.321Z"
   },
   {
    "duration": 17,
    "start_time": "2022-11-11T06:54:12.335Z"
   },
   {
    "duration": 192,
    "start_time": "2022-11-11T06:54:12.354Z"
   },
   {
    "duration": 51,
    "start_time": "2022-11-11T06:54:12.548Z"
   },
   {
    "duration": 13,
    "start_time": "2022-11-11T06:54:12.601Z"
   },
   {
    "duration": 13,
    "start_time": "2022-11-11T06:54:12.619Z"
   },
   {
    "duration": 191,
    "start_time": "2022-11-11T06:54:12.634Z"
   },
   {
    "duration": 7,
    "start_time": "2022-11-11T06:54:12.827Z"
   },
   {
    "duration": 21,
    "start_time": "2022-11-11T06:54:12.836Z"
   },
   {
    "duration": 4,
    "start_time": "2022-11-11T06:54:12.859Z"
   },
   {
    "duration": 66,
    "start_time": "2022-11-11T06:54:12.865Z"
   },
   {
    "duration": 94,
    "start_time": "2022-11-11T06:54:12.933Z"
   },
   {
    "duration": 12,
    "start_time": "2022-11-11T06:54:13.029Z"
   },
   {
    "duration": 87,
    "start_time": "2022-11-11T06:54:13.044Z"
   },
   {
    "duration": 92,
    "start_time": "2022-11-11T06:54:13.133Z"
   },
   {
    "duration": 104,
    "start_time": "2022-11-11T06:54:13.227Z"
   },
   {
    "duration": 91,
    "start_time": "2022-11-11T06:54:13.335Z"
   },
   {
    "duration": 6,
    "start_time": "2022-11-11T06:56:13.462Z"
   },
   {
    "duration": 5,
    "start_time": "2022-11-11T06:56:38.452Z"
   },
   {
    "duration": 14,
    "start_time": "2022-11-11T06:57:14.115Z"
   },
   {
    "duration": 5,
    "start_time": "2022-11-11T06:57:21.439Z"
   },
   {
    "duration": 3,
    "start_time": "2022-11-11T07:09:03.822Z"
   },
   {
    "duration": 8,
    "start_time": "2022-11-11T07:09:03.827Z"
   },
   {
    "duration": 44,
    "start_time": "2022-11-11T07:09:03.837Z"
   },
   {
    "duration": 10,
    "start_time": "2022-11-11T07:09:03.884Z"
   },
   {
    "duration": 14,
    "start_time": "2022-11-11T07:09:03.896Z"
   },
   {
    "duration": 16,
    "start_time": "2022-11-11T07:09:03.912Z"
   },
   {
    "duration": 21,
    "start_time": "2022-11-11T07:09:03.930Z"
   },
   {
    "duration": 395,
    "start_time": "2022-11-11T07:09:03.953Z"
   },
   {
    "duration": 9,
    "start_time": "2022-11-11T07:09:04.350Z"
   },
   {
    "duration": 5,
    "start_time": "2022-11-11T07:09:04.361Z"
   },
   {
    "duration": 8,
    "start_time": "2022-11-11T07:09:04.367Z"
   },
   {
    "duration": 7,
    "start_time": "2022-11-11T07:09:04.377Z"
   },
   {
    "duration": 36,
    "start_time": "2022-11-11T07:09:04.385Z"
   },
   {
    "duration": 100,
    "start_time": "2022-11-11T07:09:04.422Z"
   },
   {
    "duration": 17,
    "start_time": "2022-11-11T07:09:04.523Z"
   },
   {
    "duration": 81,
    "start_time": "2022-11-11T07:09:04.542Z"
   },
   {
    "duration": 13,
    "start_time": "2022-11-11T07:09:04.625Z"
   },
   {
    "duration": 101,
    "start_time": "2022-11-11T07:09:04.721Z"
   },
   {
    "duration": 11,
    "start_time": "2022-11-11T07:09:04.826Z"
   },
   {
    "duration": 29,
    "start_time": "2022-11-11T07:09:04.839Z"
   },
   {
    "duration": 11,
    "start_time": "2022-11-11T07:09:04.870Z"
   },
   {
    "duration": 46,
    "start_time": "2022-11-11T07:09:04.883Z"
   },
   {
    "duration": 88,
    "start_time": "2022-11-11T07:09:04.932Z"
   },
   {
    "duration": 6,
    "start_time": "2022-11-11T07:09:05.024Z"
   },
   {
    "duration": 97,
    "start_time": "2022-11-11T07:09:05.031Z"
   },
   {
    "duration": 94,
    "start_time": "2022-11-11T07:09:05.130Z"
   },
   {
    "duration": 97,
    "start_time": "2022-11-11T07:09:05.226Z"
   },
   {
    "duration": 97,
    "start_time": "2022-11-11T07:09:05.325Z"
   },
   {
    "duration": 5,
    "start_time": "2022-11-11T07:09:25.934Z"
   },
   {
    "duration": 4,
    "start_time": "2022-11-11T07:09:33.997Z"
   },
   {
    "duration": 5,
    "start_time": "2022-11-11T07:25:17.993Z"
   },
   {
    "duration": 11,
    "start_time": "2022-11-11T07:25:18.000Z"
   },
   {
    "duration": 38,
    "start_time": "2022-11-11T07:25:18.013Z"
   },
   {
    "duration": 15,
    "start_time": "2022-11-11T07:25:18.054Z"
   },
   {
    "duration": 11,
    "start_time": "2022-11-11T07:25:18.071Z"
   },
   {
    "duration": 16,
    "start_time": "2022-11-11T07:25:18.084Z"
   },
   {
    "duration": 42,
    "start_time": "2022-11-11T07:25:18.103Z"
   },
   {
    "duration": 407,
    "start_time": "2022-11-11T07:25:18.147Z"
   },
   {
    "duration": 10,
    "start_time": "2022-11-11T07:25:18.557Z"
   },
   {
    "duration": 340,
    "start_time": "2022-11-11T07:25:18.570Z"
   },
   {
    "duration": 0,
    "start_time": "2022-11-11T07:25:18.920Z"
   },
   {
    "duration": 0,
    "start_time": "2022-11-11T07:25:18.921Z"
   },
   {
    "duration": 0,
    "start_time": "2022-11-11T07:25:18.922Z"
   },
   {
    "duration": 0,
    "start_time": "2022-11-11T07:25:18.923Z"
   },
   {
    "duration": 0,
    "start_time": "2022-11-11T07:25:18.925Z"
   },
   {
    "duration": 0,
    "start_time": "2022-11-11T07:25:18.926Z"
   },
   {
    "duration": 0,
    "start_time": "2022-11-11T07:25:18.927Z"
   },
   {
    "duration": 0,
    "start_time": "2022-11-11T07:25:18.928Z"
   },
   {
    "duration": 0,
    "start_time": "2022-11-11T07:25:18.929Z"
   },
   {
    "duration": 0,
    "start_time": "2022-11-11T07:25:18.931Z"
   },
   {
    "duration": 0,
    "start_time": "2022-11-11T07:25:18.932Z"
   },
   {
    "duration": 0,
    "start_time": "2022-11-11T07:25:18.933Z"
   },
   {
    "duration": 0,
    "start_time": "2022-11-11T07:25:18.934Z"
   },
   {
    "duration": 0,
    "start_time": "2022-11-11T07:25:18.935Z"
   },
   {
    "duration": 0,
    "start_time": "2022-11-11T07:25:18.937Z"
   },
   {
    "duration": 0,
    "start_time": "2022-11-11T07:25:18.938Z"
   },
   {
    "duration": 0,
    "start_time": "2022-11-11T07:25:18.939Z"
   },
   {
    "duration": 0,
    "start_time": "2022-11-11T07:25:18.940Z"
   },
   {
    "duration": 0,
    "start_time": "2022-11-11T07:25:18.940Z"
   },
   {
    "duration": 18,
    "start_time": "2022-11-11T07:26:46.578Z"
   },
   {
    "duration": 23,
    "start_time": "2022-11-11T07:26:55.185Z"
   },
   {
    "duration": 20,
    "start_time": "2022-11-11T07:27:25.697Z"
   },
   {
    "duration": 9,
    "start_time": "2022-11-11T07:28:00.652Z"
   },
   {
    "duration": 3,
    "start_time": "2022-11-11T07:28:13.016Z"
   },
   {
    "duration": 6,
    "start_time": "2022-11-11T07:28:18.674Z"
   },
   {
    "duration": 16,
    "start_time": "2022-11-11T07:28:36.339Z"
   },
   {
    "duration": 5,
    "start_time": "2022-11-11T07:28:52.710Z"
   },
   {
    "duration": 10,
    "start_time": "2022-11-11T07:29:13.308Z"
   },
   {
    "duration": 16,
    "start_time": "2022-11-11T07:29:27.843Z"
   },
   {
    "duration": 5,
    "start_time": "2022-11-11T07:29:29.112Z"
   },
   {
    "duration": 6,
    "start_time": "2022-11-11T07:29:29.895Z"
   },
   {
    "duration": 9,
    "start_time": "2022-11-11T07:29:32.017Z"
   },
   {
    "duration": 5,
    "start_time": "2022-11-11T07:32:33.681Z"
   },
   {
    "duration": 4,
    "start_time": "2022-11-11T07:33:04.394Z"
   },
   {
    "duration": 5,
    "start_time": "2022-11-11T07:33:16.227Z"
   },
   {
    "duration": 5,
    "start_time": "2022-11-11T07:34:01.107Z"
   },
   {
    "duration": 4,
    "start_time": "2022-11-11T07:34:11.174Z"
   },
   {
    "duration": 4,
    "start_time": "2022-11-11T07:34:46.987Z"
   },
   {
    "duration": 13,
    "start_time": "2022-11-11T07:34:56.748Z"
   },
   {
    "duration": 6,
    "start_time": "2022-11-11T07:35:00.042Z"
   },
   {
    "duration": 12,
    "start_time": "2022-11-11T07:35:05.790Z"
   },
   {
    "duration": 5,
    "start_time": "2022-11-11T07:35:06.362Z"
   },
   {
    "duration": 5,
    "start_time": "2022-11-11T07:35:19.386Z"
   },
   {
    "duration": 5,
    "start_time": "2022-11-11T07:35:48.412Z"
   },
   {
    "duration": 6,
    "start_time": "2022-11-11T07:35:50.847Z"
   },
   {
    "duration": 5,
    "start_time": "2022-11-11T07:35:51.428Z"
   },
   {
    "duration": 37,
    "start_time": "2022-11-11T07:35:52.596Z"
   },
   {
    "duration": 78,
    "start_time": "2022-11-11T07:36:00.145Z"
   },
   {
    "duration": 14,
    "start_time": "2022-11-11T07:36:15.735Z"
   },
   {
    "duration": 5,
    "start_time": "2022-11-11T07:36:16.557Z"
   },
   {
    "duration": 5,
    "start_time": "2022-11-11T07:36:17.466Z"
   },
   {
    "duration": 6,
    "start_time": "2022-11-11T07:36:18.238Z"
   },
   {
    "duration": 49,
    "start_time": "2022-11-11T07:36:19.684Z"
   },
   {
    "duration": 6,
    "start_time": "2022-11-11T07:38:00.029Z"
   },
   {
    "duration": 8,
    "start_time": "2022-11-11T07:38:17.771Z"
   },
   {
    "duration": 69,
    "start_time": "2022-11-11T07:38:23.483Z"
   },
   {
    "duration": 5,
    "start_time": "2022-11-11T07:38:28.715Z"
   },
   {
    "duration": 19,
    "start_time": "2022-11-11T07:39:01.298Z"
   },
   {
    "duration": 6,
    "start_time": "2022-11-11T07:39:03.937Z"
   },
   {
    "duration": 6,
    "start_time": "2022-11-11T07:39:04.826Z"
   },
   {
    "duration": 5,
    "start_time": "2022-11-11T07:39:05.667Z"
   },
   {
    "duration": 14,
    "start_time": "2022-11-11T07:39:49.172Z"
   },
   {
    "duration": 4,
    "start_time": "2022-11-11T07:40:09.169Z"
   },
   {
    "duration": 13,
    "start_time": "2022-11-11T07:40:27.016Z"
   },
   {
    "duration": 18,
    "start_time": "2022-11-11T07:41:15.943Z"
   },
   {
    "duration": 4,
    "start_time": "2022-11-11T07:41:25.839Z"
   },
   {
    "duration": 19,
    "start_time": "2022-11-11T07:41:26.949Z"
   },
   {
    "duration": 118,
    "start_time": "2022-11-11T07:42:01.207Z"
   },
   {
    "duration": 4,
    "start_time": "2022-11-11T07:42:02.262Z"
   },
   {
    "duration": 77,
    "start_time": "2022-11-11T07:42:03.246Z"
   },
   {
    "duration": 6,
    "start_time": "2022-11-11T07:42:38.202Z"
   },
   {
    "duration": 14,
    "start_time": "2022-11-11T07:42:41.481Z"
   },
   {
    "duration": 4,
    "start_time": "2022-11-11T07:42:42.109Z"
   },
   {
    "duration": 9,
    "start_time": "2022-11-11T07:42:44.362Z"
   },
   {
    "duration": 15,
    "start_time": "2022-11-11T07:43:35.457Z"
   },
   {
    "duration": 4,
    "start_time": "2022-11-11T07:43:36.445Z"
   },
   {
    "duration": 6,
    "start_time": "2022-11-11T07:43:37.496Z"
   },
   {
    "duration": 6,
    "start_time": "2022-11-11T07:43:51.103Z"
   },
   {
    "duration": 21,
    "start_time": "2022-11-11T07:45:49.067Z"
   },
   {
    "duration": 5,
    "start_time": "2022-11-11T07:45:49.988Z"
   },
   {
    "duration": 6,
    "start_time": "2022-11-11T07:45:50.542Z"
   },
   {
    "duration": 5,
    "start_time": "2022-11-11T07:45:52.643Z"
   },
   {
    "duration": 11,
    "start_time": "2022-11-11T07:45:58.829Z"
   },
   {
    "duration": 5,
    "start_time": "2022-11-11T07:45:59.715Z"
   },
   {
    "duration": 7,
    "start_time": "2022-11-11T07:46:00.470Z"
   },
   {
    "duration": 15,
    "start_time": "2022-11-11T07:46:13.708Z"
   },
   {
    "duration": 4,
    "start_time": "2022-11-11T07:46:15.081Z"
   },
   {
    "duration": 5,
    "start_time": "2022-11-11T07:46:15.835Z"
   },
   {
    "duration": 7,
    "start_time": "2022-11-11T07:46:19.331Z"
   },
   {
    "duration": 11,
    "start_time": "2022-11-11T07:46:33.771Z"
   },
   {
    "duration": 6,
    "start_time": "2022-11-11T07:46:34.381Z"
   },
   {
    "duration": 6,
    "start_time": "2022-11-11T07:46:35.342Z"
   },
   {
    "duration": 14,
    "start_time": "2022-11-11T07:46:41.965Z"
   },
   {
    "duration": 4,
    "start_time": "2022-11-11T07:46:42.620Z"
   },
   {
    "duration": 9,
    "start_time": "2022-11-11T07:46:43.638Z"
   },
   {
    "duration": 3,
    "start_time": "2022-11-11T07:54:21.895Z"
   },
   {
    "duration": 5,
    "start_time": "2022-11-11T07:54:21.901Z"
   },
   {
    "duration": 40,
    "start_time": "2022-11-11T07:54:21.908Z"
   },
   {
    "duration": 11,
    "start_time": "2022-11-11T07:54:21.950Z"
   },
   {
    "duration": 13,
    "start_time": "2022-11-11T07:54:21.962Z"
   },
   {
    "duration": 14,
    "start_time": "2022-11-11T07:54:21.977Z"
   },
   {
    "duration": 30,
    "start_time": "2022-11-11T07:54:21.993Z"
   },
   {
    "duration": 404,
    "start_time": "2022-11-11T07:54:22.026Z"
   },
   {
    "duration": 8,
    "start_time": "2022-11-11T07:54:22.434Z"
   },
   {
    "duration": 4,
    "start_time": "2022-11-11T07:54:22.444Z"
   },
   {
    "duration": 5,
    "start_time": "2022-11-11T07:54:22.450Z"
   },
   {
    "duration": 5,
    "start_time": "2022-11-11T07:54:22.457Z"
   },
   {
    "duration": 63,
    "start_time": "2022-11-11T07:54:22.463Z"
   },
   {
    "duration": 5,
    "start_time": "2022-11-11T07:54:22.528Z"
   },
   {
    "duration": 8,
    "start_time": "2022-11-11T07:54:22.620Z"
   },
   {
    "duration": 90,
    "start_time": "2022-11-11T07:54:22.631Z"
   },
   {
    "duration": 14,
    "start_time": "2022-11-11T07:54:22.723Z"
   },
   {
    "duration": 198,
    "start_time": "2022-11-11T07:54:22.738Z"
   },
   {
    "duration": 34,
    "start_time": "2022-11-11T07:54:22.938Z"
   },
   {
    "duration": 80,
    "start_time": "2022-11-11T07:54:22.973Z"
   },
   {
    "duration": 14,
    "start_time": "2022-11-11T07:54:23.054Z"
   },
   {
    "duration": 59,
    "start_time": "2022-11-11T07:54:23.069Z"
   },
   {
    "duration": 89,
    "start_time": "2022-11-11T07:54:23.130Z"
   },
   {
    "duration": 12,
    "start_time": "2022-11-11T07:54:23.224Z"
   },
   {
    "duration": 92,
    "start_time": "2022-11-11T07:54:23.238Z"
   },
   {
    "duration": 38,
    "start_time": "2022-11-11T07:54:23.420Z"
   },
   {
    "duration": 70,
    "start_time": "2022-11-11T07:54:23.461Z"
   },
   {
    "duration": 185,
    "start_time": "2022-11-11T07:54:23.535Z"
   },
   {
    "duration": 1537,
    "start_time": "2022-11-11T20:18:23.181Z"
   },
   {
    "duration": 3,
    "start_time": "2022-11-11T20:18:24.720Z"
   },
   {
    "duration": 118,
    "start_time": "2022-11-11T20:18:24.725Z"
   },
   {
    "duration": 10,
    "start_time": "2022-11-11T20:18:24.845Z"
   },
   {
    "duration": 8,
    "start_time": "2022-11-11T20:18:24.856Z"
   },
   {
    "duration": 12,
    "start_time": "2022-11-11T20:18:24.865Z"
   },
   {
    "duration": 17,
    "start_time": "2022-11-11T20:18:24.879Z"
   },
   {
    "duration": 453,
    "start_time": "2022-11-11T20:18:24.898Z"
   },
   {
    "duration": 15,
    "start_time": "2022-11-11T20:18:25.353Z"
   },
   {
    "duration": 4,
    "start_time": "2022-11-11T20:18:25.371Z"
   },
   {
    "duration": 23,
    "start_time": "2022-11-11T20:18:25.376Z"
   },
   {
    "duration": 17,
    "start_time": "2022-11-11T20:18:25.401Z"
   },
   {
    "duration": 15,
    "start_time": "2022-11-11T20:18:25.420Z"
   },
   {
    "duration": 38,
    "start_time": "2022-11-11T20:18:25.436Z"
   },
   {
    "duration": 103,
    "start_time": "2022-11-11T20:18:25.476Z"
   },
   {
    "duration": 10,
    "start_time": "2022-11-11T20:18:25.581Z"
   },
   {
    "duration": 79,
    "start_time": "2022-11-11T20:18:25.594Z"
   },
   {
    "duration": 95,
    "start_time": "2022-11-11T20:18:25.675Z"
   },
   {
    "duration": 9,
    "start_time": "2022-11-11T20:18:25.771Z"
   },
   {
    "duration": 15,
    "start_time": "2022-11-11T20:18:25.781Z"
   },
   {
    "duration": 5,
    "start_time": "2022-11-11T20:18:25.798Z"
   },
   {
    "duration": 64,
    "start_time": "2022-11-11T20:18:25.805Z"
   },
   {
    "duration": 4,
    "start_time": "2022-11-11T20:18:25.871Z"
   },
   {
    "duration": 6,
    "start_time": "2022-11-11T20:18:25.877Z"
   },
   {
    "duration": 192,
    "start_time": "2022-11-11T20:18:25.885Z"
   },
   {
    "duration": 94,
    "start_time": "2022-11-11T20:18:26.078Z"
   },
   {
    "duration": 10,
    "start_time": "2022-11-11T20:18:26.174Z"
   },
   {
    "duration": 105,
    "start_time": "2022-11-11T20:18:26.267Z"
   },
   {
    "duration": 10,
    "start_time": "2022-11-11T20:20:20.640Z"
   },
   {
    "duration": 5,
    "start_time": "2022-11-11T20:20:25.350Z"
   },
   {
    "duration": 5,
    "start_time": "2022-11-11T20:20:52.830Z"
   }
  ],
  "kernelspec": {
   "display_name": "Python 3 (ipykernel)",
   "language": "python",
   "name": "python3"
  },
  "language_info": {
   "codemirror_mode": {
    "name": "ipython",
    "version": 3
   },
   "file_extension": ".py",
   "mimetype": "text/x-python",
   "name": "python",
   "nbconvert_exporter": "python",
   "pygments_lexer": "ipython3",
   "version": "3.8.10"
  },
  "toc": {
   "base_numbering": 1,
   "nav_menu": {},
   "number_sections": true,
   "sideBar": true,
   "skip_h1_title": true,
   "title_cell": "Содержание",
   "title_sidebar": "Contents",
   "toc_cell": true,
   "toc_position": {},
   "toc_section_display": true,
   "toc_window_display": false
  }
 },
 "nbformat": 4,
 "nbformat_minor": 2
}
